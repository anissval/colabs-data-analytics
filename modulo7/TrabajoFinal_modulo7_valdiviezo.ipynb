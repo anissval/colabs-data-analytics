{
  "nbformat": 4,
  "nbformat_minor": 0,
  "metadata": {
    "colab": {
      "name": "TrabajoFinal_modulo7_valdiviezo",
      "provenance": [],
      "collapsed_sections": [],
      "include_colab_link": true
    },
    "kernelspec": {
      "name": "python3",
      "display_name": "Python 3"
    }
  },
  "cells": [
    {
      "cell_type": "markdown",
      "metadata": {
        "id": "view-in-github",
        "colab_type": "text"
      },
      "source": [
        "<a href=\"https://colab.research.google.com/github/anissval/colabs-data-analytics-/blob/main/modulo7/TrabajoFinal_modulo7_valdiviezo.ipynb\" target=\"_parent\"><img src=\"https://colab.research.google.com/assets/colab-badge.svg\" alt=\"Open In Colab\"/></a>"
      ]
    },
    {
      "cell_type": "markdown",
      "source": [
        "![logo](https://github.com/cristiandarioortegayubro/BA/blob/main/dba.png?raw=true)"
      ],
      "metadata": {
        "id": "qRJbnb0emd60"
      }
    },
    {
      "cell_type": "markdown",
      "metadata": {
        "id": "IEyDsUOkWQKr"
      },
      "source": [
        "# **Trabajo Final - Módulo 7 - Introducción a Python y Pandas**"
      ]
    },
    {
      "cell_type": "markdown",
      "source": [
        "![logo](https://www.python.org/static/community_logos/python-powered-w-100x40.png)"
      ],
      "metadata": {
        "id": "Ix6Fsu9Lm5zi"
      }
    },
    {
      "cell_type": "markdown",
      "metadata": {
        "id": "K95L1l2Oqtmo"
      },
      "source": [
        "~~~\n",
        "Valdiviezo Anahi\n",
        "~~~"
      ]
    },
    {
      "cell_type": "markdown",
      "metadata": {
        "id": "Fdo1n4BKrYxk"
      },
      "source": [
        "# **Activar módulos necesarios**"
      ]
    },
    {
      "cell_type": "code",
      "metadata": {
        "id": "BPNcu6WursCJ"
      },
      "source": [
        "import pandas as pd\n",
        "import numpy as np\n",
        "import plotly.express as px"
      ],
      "execution_count": 45,
      "outputs": []
    },
    {
      "cell_type": "code",
      "source": [
        "pd.options.plotting.backend = \"plotly\""
      ],
      "metadata": {
        "id": "xsCoRMAGUiD3"
      },
      "execution_count": 46,
      "outputs": []
    },
    {
      "cell_type": "markdown",
      "metadata": {
        "id": "T-zGSUPArm6b"
      },
      "source": [
        "# **Obtener datos**"
      ]
    },
    {
      "cell_type": "code",
      "metadata": {
        "id": "HS1ztE-prmP6"
      },
      "source": [
        "\n",
        "consumo_datos_2020 = \"https://raw.githubusercontent.com/anissval/dataSets/main/energy/Demanda_maxima_mendoza_2020.csv\"\n",
        "consumo_datos_2021 = \"https://raw.githubusercontent.com/anissval/dataSets/main/energy/Demanda_maxima_mendoza_2021.csv\"\n"
      ],
      "execution_count": 47,
      "outputs": []
    },
    {
      "cell_type": "markdown",
      "metadata": {
        "id": "Zbkp_d8Br0aV"
      },
      "source": [
        "# **Crear un DataFrame**"
      ]
    },
    {
      "cell_type": "code",
      "metadata": {
        "id": "rz09nEehr6xa",
        "colab": {
          "base_uri": "https://localhost:8080/"
        },
        "outputId": "86d46f49-68b3-45e1-b32f-6761c3196f0a"
      },
      "source": [
        "df_consumo_2020 = pd.read_csv(consumo_datos_2020)\n",
        "df_consumo_2020[\"fecha\"] = pd.to_datetime(df_consumo_2020.fecha, infer_datetime_format=True)\n",
        "df_consumo_2020.info()\n"
      ],
      "execution_count": 48,
      "outputs": [
        {
          "output_type": "stream",
          "name": "stdout",
          "text": [
            "<class 'pandas.core.frame.DataFrame'>\n",
            "RangeIndex: 365 entries, 0 to 364\n",
            "Data columns (total 4 columns):\n",
            " #   Column               Non-Null Count  Dtype         \n",
            "---  ------               --------------  -----         \n",
            " 0   fecha                365 non-null    datetime64[ns]\n",
            " 1   hora                 363 non-null    object        \n",
            " 2   temperatura          363 non-null    object        \n",
            " 3   consumo_MW_potencia  363 non-null    float64       \n",
            "dtypes: datetime64[ns](1), float64(1), object(2)\n",
            "memory usage: 11.5+ KB\n"
          ]
        }
      ]
    },
    {
      "cell_type": "code",
      "source": [
        "\n",
        "df_consumo_2021 = pd.read_csv(consumo_datos_2021)\n",
        "df_consumo_2021[\"fecha\"] = pd.to_datetime(df_consumo_2021.fecha, infer_datetime_format=True)"
      ],
      "metadata": {
        "id": "87PmPr6PHYt7"
      },
      "execution_count": 49,
      "outputs": []
    },
    {
      "cell_type": "code",
      "source": [
        "df = [df_consumo_2020, df_consumo_2021]\n",
        "df_consumo_2020_2021 = pd.concat(df)\n",
        "df_consumo_2020_2021.set_index('fecha')"
      ],
      "metadata": {
        "colab": {
          "base_uri": "https://localhost:8080/",
          "height": 455
        },
        "id": "8A6MxMDaHYAW",
        "outputId": "702cfe5c-6d39-41dd-fe31-408498f6bb65"
      },
      "execution_count": 50,
      "outputs": [
        {
          "output_type": "execute_result",
          "data": {
            "text/plain": [
              "             hora temperatura  consumo_MW_potencia\n",
              "fecha                                             \n",
              "2020-01-01  23:30        32,1                787.0\n",
              "2020-02-01  17:30        35,8                932.0\n",
              "2020-03-01  14:00        37,4                974.0\n",
              "2020-04-01  14:00        37,6                927.0\n",
              "2020-05-01   1:00        34,9                794.0\n",
              "...           ...         ...                  ...\n",
              "2021-12-27  14:00        33,8                971.0\n",
              "2021-12-28  13:00        33,6                926.0\n",
              "2021-12-29  16:00          37                946.0\n",
              "2021-12-30  13:00        30,4                873.0\n",
              "2021-12-31  21:15        35,9                847.0\n",
              "\n",
              "[730 rows x 3 columns]"
            ],
            "text/html": [
              "\n",
              "  <div id=\"df-39cdcd72-0767-45d9-995f-a27bebfff4b8\">\n",
              "    <div class=\"colab-df-container\">\n",
              "      <div>\n",
              "<style scoped>\n",
              "    .dataframe tbody tr th:only-of-type {\n",
              "        vertical-align: middle;\n",
              "    }\n",
              "\n",
              "    .dataframe tbody tr th {\n",
              "        vertical-align: top;\n",
              "    }\n",
              "\n",
              "    .dataframe thead th {\n",
              "        text-align: right;\n",
              "    }\n",
              "</style>\n",
              "<table border=\"1\" class=\"dataframe\">\n",
              "  <thead>\n",
              "    <tr style=\"text-align: right;\">\n",
              "      <th></th>\n",
              "      <th>hora</th>\n",
              "      <th>temperatura</th>\n",
              "      <th>consumo_MW_potencia</th>\n",
              "    </tr>\n",
              "    <tr>\n",
              "      <th>fecha</th>\n",
              "      <th></th>\n",
              "      <th></th>\n",
              "      <th></th>\n",
              "    </tr>\n",
              "  </thead>\n",
              "  <tbody>\n",
              "    <tr>\n",
              "      <th>2020-01-01</th>\n",
              "      <td>23:30</td>\n",
              "      <td>32,1</td>\n",
              "      <td>787.0</td>\n",
              "    </tr>\n",
              "    <tr>\n",
              "      <th>2020-02-01</th>\n",
              "      <td>17:30</td>\n",
              "      <td>35,8</td>\n",
              "      <td>932.0</td>\n",
              "    </tr>\n",
              "    <tr>\n",
              "      <th>2020-03-01</th>\n",
              "      <td>14:00</td>\n",
              "      <td>37,4</td>\n",
              "      <td>974.0</td>\n",
              "    </tr>\n",
              "    <tr>\n",
              "      <th>2020-04-01</th>\n",
              "      <td>14:00</td>\n",
              "      <td>37,6</td>\n",
              "      <td>927.0</td>\n",
              "    </tr>\n",
              "    <tr>\n",
              "      <th>2020-05-01</th>\n",
              "      <td>1:00</td>\n",
              "      <td>34,9</td>\n",
              "      <td>794.0</td>\n",
              "    </tr>\n",
              "    <tr>\n",
              "      <th>...</th>\n",
              "      <td>...</td>\n",
              "      <td>...</td>\n",
              "      <td>...</td>\n",
              "    </tr>\n",
              "    <tr>\n",
              "      <th>2021-12-27</th>\n",
              "      <td>14:00</td>\n",
              "      <td>33,8</td>\n",
              "      <td>971.0</td>\n",
              "    </tr>\n",
              "    <tr>\n",
              "      <th>2021-12-28</th>\n",
              "      <td>13:00</td>\n",
              "      <td>33,6</td>\n",
              "      <td>926.0</td>\n",
              "    </tr>\n",
              "    <tr>\n",
              "      <th>2021-12-29</th>\n",
              "      <td>16:00</td>\n",
              "      <td>37</td>\n",
              "      <td>946.0</td>\n",
              "    </tr>\n",
              "    <tr>\n",
              "      <th>2021-12-30</th>\n",
              "      <td>13:00</td>\n",
              "      <td>30,4</td>\n",
              "      <td>873.0</td>\n",
              "    </tr>\n",
              "    <tr>\n",
              "      <th>2021-12-31</th>\n",
              "      <td>21:15</td>\n",
              "      <td>35,9</td>\n",
              "      <td>847.0</td>\n",
              "    </tr>\n",
              "  </tbody>\n",
              "</table>\n",
              "<p>730 rows × 3 columns</p>\n",
              "</div>\n",
              "      <button class=\"colab-df-convert\" onclick=\"convertToInteractive('df-39cdcd72-0767-45d9-995f-a27bebfff4b8')\"\n",
              "              title=\"Convert this dataframe to an interactive table.\"\n",
              "              style=\"display:none;\">\n",
              "        \n",
              "  <svg xmlns=\"http://www.w3.org/2000/svg\" height=\"24px\"viewBox=\"0 0 24 24\"\n",
              "       width=\"24px\">\n",
              "    <path d=\"M0 0h24v24H0V0z\" fill=\"none\"/>\n",
              "    <path d=\"M18.56 5.44l.94 2.06.94-2.06 2.06-.94-2.06-.94-.94-2.06-.94 2.06-2.06.94zm-11 1L8.5 8.5l.94-2.06 2.06-.94-2.06-.94L8.5 2.5l-.94 2.06-2.06.94zm10 10l.94 2.06.94-2.06 2.06-.94-2.06-.94-.94-2.06-.94 2.06-2.06.94z\"/><path d=\"M17.41 7.96l-1.37-1.37c-.4-.4-.92-.59-1.43-.59-.52 0-1.04.2-1.43.59L10.3 9.45l-7.72 7.72c-.78.78-.78 2.05 0 2.83L4 21.41c.39.39.9.59 1.41.59.51 0 1.02-.2 1.41-.59l7.78-7.78 2.81-2.81c.8-.78.8-2.07 0-2.86zM5.41 20L4 18.59l7.72-7.72 1.47 1.35L5.41 20z\"/>\n",
              "  </svg>\n",
              "      </button>\n",
              "      \n",
              "  <style>\n",
              "    .colab-df-container {\n",
              "      display:flex;\n",
              "      flex-wrap:wrap;\n",
              "      gap: 12px;\n",
              "    }\n",
              "\n",
              "    .colab-df-convert {\n",
              "      background-color: #E8F0FE;\n",
              "      border: none;\n",
              "      border-radius: 50%;\n",
              "      cursor: pointer;\n",
              "      display: none;\n",
              "      fill: #1967D2;\n",
              "      height: 32px;\n",
              "      padding: 0 0 0 0;\n",
              "      width: 32px;\n",
              "    }\n",
              "\n",
              "    .colab-df-convert:hover {\n",
              "      background-color: #E2EBFA;\n",
              "      box-shadow: 0px 1px 2px rgba(60, 64, 67, 0.3), 0px 1px 3px 1px rgba(60, 64, 67, 0.15);\n",
              "      fill: #174EA6;\n",
              "    }\n",
              "\n",
              "    [theme=dark] .colab-df-convert {\n",
              "      background-color: #3B4455;\n",
              "      fill: #D2E3FC;\n",
              "    }\n",
              "\n",
              "    [theme=dark] .colab-df-convert:hover {\n",
              "      background-color: #434B5C;\n",
              "      box-shadow: 0px 1px 3px 1px rgba(0, 0, 0, 0.15);\n",
              "      filter: drop-shadow(0px 1px 2px rgba(0, 0, 0, 0.3));\n",
              "      fill: #FFFFFF;\n",
              "    }\n",
              "  </style>\n",
              "\n",
              "      <script>\n",
              "        const buttonEl =\n",
              "          document.querySelector('#df-39cdcd72-0767-45d9-995f-a27bebfff4b8 button.colab-df-convert');\n",
              "        buttonEl.style.display =\n",
              "          google.colab.kernel.accessAllowed ? 'block' : 'none';\n",
              "\n",
              "        async function convertToInteractive(key) {\n",
              "          const element = document.querySelector('#df-39cdcd72-0767-45d9-995f-a27bebfff4b8');\n",
              "          const dataTable =\n",
              "            await google.colab.kernel.invokeFunction('convertToInteractive',\n",
              "                                                     [key], {});\n",
              "          if (!dataTable) return;\n",
              "\n",
              "          const docLinkHtml = 'Like what you see? Visit the ' +\n",
              "            '<a target=\"_blank\" href=https://colab.research.google.com/notebooks/data_table.ipynb>data table notebook</a>'\n",
              "            + ' to learn more about interactive tables.';\n",
              "          element.innerHTML = '';\n",
              "          dataTable['output_type'] = 'display_data';\n",
              "          await google.colab.output.renderOutput(dataTable, element);\n",
              "          const docLink = document.createElement('div');\n",
              "          docLink.innerHTML = docLinkHtml;\n",
              "          element.appendChild(docLink);\n",
              "        }\n",
              "      </script>\n",
              "    </div>\n",
              "  </div>\n",
              "  "
            ]
          },
          "metadata": {},
          "execution_count": 50
        }
      ]
    },
    {
      "cell_type": "markdown",
      "metadata": {
        "id": "MrwCNmZar94-"
      },
      "source": [
        "## **Visualizaciones del DataFrame**"
      ]
    },
    {
      "cell_type": "code",
      "metadata": {
        "id": "5dRhvM7dsPj4",
        "colab": {
          "base_uri": "https://localhost:8080/",
          "height": 424
        },
        "outputId": "fbf535e1-098c-47ec-de0b-e39ff9ca3c80"
      },
      "source": [
        "df_consumo_2020_2021"
      ],
      "execution_count": 63,
      "outputs": [
        {
          "output_type": "execute_result",
          "data": {
            "text/plain": [
              "         fecha   hora temperatura  consumo_MW_potencia\n",
              "0   2020-01-01  23:30        32,1                787.0\n",
              "1   2020-02-01  17:30        35,8                932.0\n",
              "2   2020-03-01  14:00        37,4                974.0\n",
              "3   2020-04-01  14:00        37,6                927.0\n",
              "4   2020-05-01   1:00        34,9                794.0\n",
              "..         ...    ...         ...                  ...\n",
              "360 2021-12-27  14:00        33,8                971.0\n",
              "361 2021-12-28  13:00        33,6                926.0\n",
              "362 2021-12-29  16:00          37                946.0\n",
              "363 2021-12-30  13:00        30,4                873.0\n",
              "364 2021-12-31  21:15        35,9                847.0\n",
              "\n",
              "[730 rows x 4 columns]"
            ],
            "text/html": [
              "\n",
              "  <div id=\"df-a46ad84c-4330-424e-b127-af94901d3e40\">\n",
              "    <div class=\"colab-df-container\">\n",
              "      <div>\n",
              "<style scoped>\n",
              "    .dataframe tbody tr th:only-of-type {\n",
              "        vertical-align: middle;\n",
              "    }\n",
              "\n",
              "    .dataframe tbody tr th {\n",
              "        vertical-align: top;\n",
              "    }\n",
              "\n",
              "    .dataframe thead th {\n",
              "        text-align: right;\n",
              "    }\n",
              "</style>\n",
              "<table border=\"1\" class=\"dataframe\">\n",
              "  <thead>\n",
              "    <tr style=\"text-align: right;\">\n",
              "      <th></th>\n",
              "      <th>fecha</th>\n",
              "      <th>hora</th>\n",
              "      <th>temperatura</th>\n",
              "      <th>consumo_MW_potencia</th>\n",
              "    </tr>\n",
              "  </thead>\n",
              "  <tbody>\n",
              "    <tr>\n",
              "      <th>0</th>\n",
              "      <td>2020-01-01</td>\n",
              "      <td>23:30</td>\n",
              "      <td>32,1</td>\n",
              "      <td>787.0</td>\n",
              "    </tr>\n",
              "    <tr>\n",
              "      <th>1</th>\n",
              "      <td>2020-02-01</td>\n",
              "      <td>17:30</td>\n",
              "      <td>35,8</td>\n",
              "      <td>932.0</td>\n",
              "    </tr>\n",
              "    <tr>\n",
              "      <th>2</th>\n",
              "      <td>2020-03-01</td>\n",
              "      <td>14:00</td>\n",
              "      <td>37,4</td>\n",
              "      <td>974.0</td>\n",
              "    </tr>\n",
              "    <tr>\n",
              "      <th>3</th>\n",
              "      <td>2020-04-01</td>\n",
              "      <td>14:00</td>\n",
              "      <td>37,6</td>\n",
              "      <td>927.0</td>\n",
              "    </tr>\n",
              "    <tr>\n",
              "      <th>4</th>\n",
              "      <td>2020-05-01</td>\n",
              "      <td>1:00</td>\n",
              "      <td>34,9</td>\n",
              "      <td>794.0</td>\n",
              "    </tr>\n",
              "    <tr>\n",
              "      <th>...</th>\n",
              "      <td>...</td>\n",
              "      <td>...</td>\n",
              "      <td>...</td>\n",
              "      <td>...</td>\n",
              "    </tr>\n",
              "    <tr>\n",
              "      <th>360</th>\n",
              "      <td>2021-12-27</td>\n",
              "      <td>14:00</td>\n",
              "      <td>33,8</td>\n",
              "      <td>971.0</td>\n",
              "    </tr>\n",
              "    <tr>\n",
              "      <th>361</th>\n",
              "      <td>2021-12-28</td>\n",
              "      <td>13:00</td>\n",
              "      <td>33,6</td>\n",
              "      <td>926.0</td>\n",
              "    </tr>\n",
              "    <tr>\n",
              "      <th>362</th>\n",
              "      <td>2021-12-29</td>\n",
              "      <td>16:00</td>\n",
              "      <td>37</td>\n",
              "      <td>946.0</td>\n",
              "    </tr>\n",
              "    <tr>\n",
              "      <th>363</th>\n",
              "      <td>2021-12-30</td>\n",
              "      <td>13:00</td>\n",
              "      <td>30,4</td>\n",
              "      <td>873.0</td>\n",
              "    </tr>\n",
              "    <tr>\n",
              "      <th>364</th>\n",
              "      <td>2021-12-31</td>\n",
              "      <td>21:15</td>\n",
              "      <td>35,9</td>\n",
              "      <td>847.0</td>\n",
              "    </tr>\n",
              "  </tbody>\n",
              "</table>\n",
              "<p>730 rows × 4 columns</p>\n",
              "</div>\n",
              "      <button class=\"colab-df-convert\" onclick=\"convertToInteractive('df-a46ad84c-4330-424e-b127-af94901d3e40')\"\n",
              "              title=\"Convert this dataframe to an interactive table.\"\n",
              "              style=\"display:none;\">\n",
              "        \n",
              "  <svg xmlns=\"http://www.w3.org/2000/svg\" height=\"24px\"viewBox=\"0 0 24 24\"\n",
              "       width=\"24px\">\n",
              "    <path d=\"M0 0h24v24H0V0z\" fill=\"none\"/>\n",
              "    <path d=\"M18.56 5.44l.94 2.06.94-2.06 2.06-.94-2.06-.94-.94-2.06-.94 2.06-2.06.94zm-11 1L8.5 8.5l.94-2.06 2.06-.94-2.06-.94L8.5 2.5l-.94 2.06-2.06.94zm10 10l.94 2.06.94-2.06 2.06-.94-2.06-.94-.94-2.06-.94 2.06-2.06.94z\"/><path d=\"M17.41 7.96l-1.37-1.37c-.4-.4-.92-.59-1.43-.59-.52 0-1.04.2-1.43.59L10.3 9.45l-7.72 7.72c-.78.78-.78 2.05 0 2.83L4 21.41c.39.39.9.59 1.41.59.51 0 1.02-.2 1.41-.59l7.78-7.78 2.81-2.81c.8-.78.8-2.07 0-2.86zM5.41 20L4 18.59l7.72-7.72 1.47 1.35L5.41 20z\"/>\n",
              "  </svg>\n",
              "      </button>\n",
              "      \n",
              "  <style>\n",
              "    .colab-df-container {\n",
              "      display:flex;\n",
              "      flex-wrap:wrap;\n",
              "      gap: 12px;\n",
              "    }\n",
              "\n",
              "    .colab-df-convert {\n",
              "      background-color: #E8F0FE;\n",
              "      border: none;\n",
              "      border-radius: 50%;\n",
              "      cursor: pointer;\n",
              "      display: none;\n",
              "      fill: #1967D2;\n",
              "      height: 32px;\n",
              "      padding: 0 0 0 0;\n",
              "      width: 32px;\n",
              "    }\n",
              "\n",
              "    .colab-df-convert:hover {\n",
              "      background-color: #E2EBFA;\n",
              "      box-shadow: 0px 1px 2px rgba(60, 64, 67, 0.3), 0px 1px 3px 1px rgba(60, 64, 67, 0.15);\n",
              "      fill: #174EA6;\n",
              "    }\n",
              "\n",
              "    [theme=dark] .colab-df-convert {\n",
              "      background-color: #3B4455;\n",
              "      fill: #D2E3FC;\n",
              "    }\n",
              "\n",
              "    [theme=dark] .colab-df-convert:hover {\n",
              "      background-color: #434B5C;\n",
              "      box-shadow: 0px 1px 3px 1px rgba(0, 0, 0, 0.15);\n",
              "      filter: drop-shadow(0px 1px 2px rgba(0, 0, 0, 0.3));\n",
              "      fill: #FFFFFF;\n",
              "    }\n",
              "  </style>\n",
              "\n",
              "      <script>\n",
              "        const buttonEl =\n",
              "          document.querySelector('#df-a46ad84c-4330-424e-b127-af94901d3e40 button.colab-df-convert');\n",
              "        buttonEl.style.display =\n",
              "          google.colab.kernel.accessAllowed ? 'block' : 'none';\n",
              "\n",
              "        async function convertToInteractive(key) {\n",
              "          const element = document.querySelector('#df-a46ad84c-4330-424e-b127-af94901d3e40');\n",
              "          const dataTable =\n",
              "            await google.colab.kernel.invokeFunction('convertToInteractive',\n",
              "                                                     [key], {});\n",
              "          if (!dataTable) return;\n",
              "\n",
              "          const docLinkHtml = 'Like what you see? Visit the ' +\n",
              "            '<a target=\"_blank\" href=https://colab.research.google.com/notebooks/data_table.ipynb>data table notebook</a>'\n",
              "            + ' to learn more about interactive tables.';\n",
              "          element.innerHTML = '';\n",
              "          dataTable['output_type'] = 'display_data';\n",
              "          await google.colab.output.renderOutput(dataTable, element);\n",
              "          const docLink = document.createElement('div');\n",
              "          docLink.innerHTML = docLinkHtml;\n",
              "          element.appendChild(docLink);\n",
              "        }\n",
              "      </script>\n",
              "    </div>\n",
              "  </div>\n",
              "  "
            ]
          },
          "metadata": {},
          "execution_count": 63
        }
      ]
    },
    {
      "cell_type": "markdown",
      "metadata": {
        "id": "UnTRvhhAsQOu"
      },
      "source": [
        "## **Información del DataFrame y de los datos**"
      ]
    },
    {
      "cell_type": "code",
      "metadata": {
        "id": "GXcyHqVtsbDg",
        "colab": {
          "base_uri": "https://localhost:8080/"
        },
        "outputId": "10c52da0-43da-4135-db5b-dcb8d0d1dd90"
      },
      "source": [
        "df_consumo_2020_2021.shape\n",
        "\n"
      ],
      "execution_count": 52,
      "outputs": [
        {
          "output_type": "execute_result",
          "data": {
            "text/plain": [
              "(730, 4)"
            ]
          },
          "metadata": {},
          "execution_count": 52
        }
      ]
    },
    {
      "cell_type": "code",
      "source": [
        "df_consumo_2020_2021.index"
      ],
      "metadata": {
        "colab": {
          "base_uri": "https://localhost:8080/"
        },
        "id": "ht7WPEHDb4TQ",
        "outputId": "fe31aa48-ac4d-438d-9d3a-8cb1e6c95897"
      },
      "execution_count": 53,
      "outputs": [
        {
          "output_type": "execute_result",
          "data": {
            "text/plain": [
              "Int64Index([  0,   1,   2,   3,   4,   5,   6,   7,   8,   9,\n",
              "            ...\n",
              "            355, 356, 357, 358, 359, 360, 361, 362, 363, 364],\n",
              "           dtype='int64', length=730)"
            ]
          },
          "metadata": {},
          "execution_count": 53
        }
      ]
    },
    {
      "cell_type": "code",
      "source": [
        "df_consumo_2020_2021.dtypes"
      ],
      "metadata": {
        "colab": {
          "base_uri": "https://localhost:8080/"
        },
        "id": "r48QLW3wb6Ju",
        "outputId": "419439b3-2938-481e-d8a8-5909445d7b67"
      },
      "execution_count": 54,
      "outputs": [
        {
          "output_type": "execute_result",
          "data": {
            "text/plain": [
              "fecha                  datetime64[ns]\n",
              "hora                           object\n",
              "temperatura                    object\n",
              "consumo_MW_potencia           float64\n",
              "dtype: object"
            ]
          },
          "metadata": {},
          "execution_count": 54
        }
      ]
    },
    {
      "cell_type": "code",
      "source": [
        "df_consumo_2020_2021.consumo_MW_potencia.describe()"
      ],
      "metadata": {
        "colab": {
          "base_uri": "https://localhost:8080/"
        },
        "id": "49cc2P9pcX1T",
        "outputId": "a1b3f4ea-b68f-4ab3-b1d9-ead9875e1bfc"
      },
      "execution_count": 55,
      "outputs": [
        {
          "output_type": "execute_result",
          "data": {
            "text/plain": [
              "count     728.000000\n",
              "mean      782.454670\n",
              "std        82.004231\n",
              "min       610.000000\n",
              "25%       727.750000\n",
              "50%       769.000000\n",
              "75%       827.250000\n",
              "max      1089.000000\n",
              "Name: consumo_MW_potencia, dtype: float64"
            ]
          },
          "metadata": {},
          "execution_count": 55
        }
      ]
    },
    {
      "cell_type": "code",
      "source": [
        "df_consumo_2020_2021.consumo_MW_potencia.min()"
      ],
      "metadata": {
        "colab": {
          "base_uri": "https://localhost:8080/"
        },
        "id": "35M0FNRccsIM",
        "outputId": "facbd0b2-a094-4e59-f88a-88d9d0db0231"
      },
      "execution_count": 56,
      "outputs": [
        {
          "output_type": "execute_result",
          "data": {
            "text/plain": [
              "610.0"
            ]
          },
          "metadata": {},
          "execution_count": 56
        }
      ]
    },
    {
      "cell_type": "code",
      "source": [
        "df_consumo_2020_2021.consumo_MW_potencia.max()"
      ],
      "metadata": {
        "colab": {
          "base_uri": "https://localhost:8080/"
        },
        "id": "tAMjwM_Gc3J8",
        "outputId": "7a2af02d-d6d7-4804-ada3-fdb838269362"
      },
      "execution_count": 57,
      "outputs": [
        {
          "output_type": "execute_result",
          "data": {
            "text/plain": [
              "1089.0"
            ]
          },
          "metadata": {},
          "execution_count": 57
        }
      ]
    },
    {
      "cell_type": "code",
      "source": [
        "df_consumo_2020_2021.info()"
      ],
      "metadata": {
        "colab": {
          "base_uri": "https://localhost:8080/"
        },
        "id": "AHRoU2BZfqxy",
        "outputId": "1003d83b-c086-49f2-a083-c04e3a2a3378"
      },
      "execution_count": 58,
      "outputs": [
        {
          "output_type": "stream",
          "name": "stdout",
          "text": [
            "<class 'pandas.core.frame.DataFrame'>\n",
            "Int64Index: 730 entries, 0 to 364\n",
            "Data columns (total 4 columns):\n",
            " #   Column               Non-Null Count  Dtype         \n",
            "---  ------               --------------  -----         \n",
            " 0   fecha                730 non-null    datetime64[ns]\n",
            " 1   hora                 728 non-null    object        \n",
            " 2   temperatura          728 non-null    object        \n",
            " 3   consumo_MW_potencia  728 non-null    float64       \n",
            "dtypes: datetime64[ns](1), float64(1), object(2)\n",
            "memory usage: 28.5+ KB\n"
          ]
        }
      ]
    },
    {
      "cell_type": "markdown",
      "metadata": {
        "id": "_Q0_Agehsrij"
      },
      "source": [
        "# **Trabajando con el DataFrame**"
      ]
    },
    {
      "cell_type": "markdown",
      "metadata": {
        "id": "-_uSz6M4toYa"
      },
      "source": [
        "# **Grabando**"
      ]
    },
    {
      "cell_type": "markdown",
      "metadata": {
        "id": "sc3-X6FPtrjP"
      },
      "source": [
        "## **Grabar el DataFrame como un archivo CSV**\n",
        "\n"
      ]
    },
    {
      "cell_type": "code",
      "metadata": {
        "id": "WB8rEPAot25y"
      },
      "source": [
        "df_consumo_2020_2021.to_csv('consumo_2020_2021.csv')"
      ],
      "execution_count": 59,
      "outputs": []
    },
    {
      "cell_type": "markdown",
      "metadata": {
        "id": "DzKTOPWut3Zx"
      },
      "source": [
        "# **Gráficos**"
      ]
    },
    {
      "cell_type": "markdown",
      "metadata": {
        "id": "5RAKnbAqt_hq"
      },
      "source": [
        "## **Desarrollar gráficos del DataFrame**"
      ]
    },
    {
      "cell_type": "code",
      "source": [
        "fig2020 = px.bar(df_consumo_2020, \n",
        "             x=\"fecha\", \n",
        "             y=\"consumo_MW_potencia\", \n",
        "             color=\"consumo_MW_potencia\",\n",
        "             hover_data=[df_consumo_2020.temperatura, df_consumo_2020.hora],\n",
        "             template=\"gridon\", \n",
        "             title=\"Consumo maximo de energia en MW - Mendoza 2020\")\n",
        "fig2020.show()"
      ],
      "metadata": {
        "colab": {
          "base_uri": "https://localhost:8080/",
          "height": 542
        },
        "id": "vSm3kcZ7HwF_",
        "outputId": "d9370f56-8f4d-4806-ef45-ace17e437293"
      },
      "execution_count": 65,
      "outputs": [
        {
          "output_type": "display_data",
          "data": {
            "text/html": [
              "<html>\n",
              "<head><meta charset=\"utf-8\" /></head>\n",
              "<body>\n",
              "    <div>            <script src=\"https://cdnjs.cloudflare.com/ajax/libs/mathjax/2.7.5/MathJax.js?config=TeX-AMS-MML_SVG\"></script><script type=\"text/javascript\">if (window.MathJax) {MathJax.Hub.Config({SVG: {font: \"STIX-Web\"}});}</script>                <script type=\"text/javascript\">window.PlotlyConfig = {MathJaxConfig: 'local'};</script>\n",
              "        <script src=\"https://cdn.plot.ly/plotly-2.8.3.min.js\"></script>                <div id=\"a3579a2b-2e37-44c6-b376-2d17338aff00\" class=\"plotly-graph-div\" style=\"height:525px; width:100%;\"></div>            <script type=\"text/javascript\">                                    window.PLOTLYENV=window.PLOTLYENV || {};                                    if (document.getElementById(\"a3579a2b-2e37-44c6-b376-2d17338aff00\")) {                    Plotly.newPlot(                        \"a3579a2b-2e37-44c6-b376-2d17338aff00\",                        [{\"alignmentgroup\":\"True\",\"customdata\":[[\"32,1\",\"23:30\"],[\"35,8\",\"17:30\"],[\"37,4\",\"14:00\"],[\"37,6\",\"14:00\"],[\"34,9\",\"1:00\"],[\"28,7\",\"21:30\"],[\"34,3\",\"23:30\"],[\"38,4\",\"13:00\"],[\"33,5\",\"23:30\"],[\"30,9\",\"21:45\"],[\"36,3\",\"21:15\"],[\"31,7\",\"23:30\"],[\"35,8\",\"13:00\"],[\"33,8\",\"23:30\"],[\"28,1\",\"1:00\"],[\"28,9\",\"21:30\"],[\"33,6\",\"21:30\"],[\"35\",\"21:30\"],[\"35,2\",\"23:30\"],[\"38,4\",\"13:00\"],[\"34,9\",\"14:00\"],[\"36,6\",\"13:00\"],[\"38,4\",\"16:00\"],[\"35,9\",\"17:30\"],[\"37,2\",\"16:00\"],[\"36,4\",\"1:00\"],[\"34,3\",\"14:00\"],[\"34,8\",\"14:00\"],[\"29,6\",\"21:45\"],[\"33\",\"21:30\"],[\"36,3\",\"17:00\"],[\"37,6\",\"21:15\"],[\"36,5\",\"0:00\"],[\"38,4\",\"15:00\"],[\"34\",\"13:00\"],[\"26,8\",\"21:45\"],[\"30,4\",\"21:30\"],[\"28,5\",\"1:00\"],[\"29,7\",\"21:15\"],[\"24,7\",\"21:30\"],[\"25,6\",\"21:30\"],[\"29,9\",\"21:15\"],[\"32,7\",\"21:30\"],[\"22,9\",\"21:30\"],[\"30,4\",\"21:15\"],[\"35,9\",\"21:00\"],[\"35,4\",\"22:15\"],[\"28,7\",\"12:00\"],[\"28,8\",\"21:15\"],[\"33,5\",\"21:30\"],[\"28,7\",\"21:00\"],[\"23,2\",\"21:00\"],[\"28\",\"21:45\"],[\"30,8\",\"21:30\"],[\"32,1\",\"21:00\"],[\"30\",\"21:30\"],[\"32,6\",\"21:00\"],[\"35,2\",\"20:45\"],[\"35,6\",\"20:30\"],[\"35,5\",\"20:45\"],[\"35,9\",\"22:15\"],[\"36,9\",\"20:45\"],[\"37,9\",\"16:00\"],[\"36,9\",\"20:45\"],[\"35,8\",\"17:00\"],[\"37,5\",\"21:00\"],[\"32,9\",\"22:30\"],[\"33,5\",\"21:00\"],[\"33,1\",\"20:45\"],[\"32,7\",\"13:00\"],[\"32,1\",\"21:15\"],[\"35,5\",\"21:00\"],[\"28,4\",\"1:00\"],[\"27,7\",\"20:45\"],[\"30,8\",\"20:45\"],[\"28,2\",\"20:45\"],[\"29,2\",\"20:30\"],[\"31,8\",\"20:45\"],[\"32,9\",\"21:00\"],[\"33,4\",\"20:45\"],[\"34,1\",\"20:30\"],[\"34,3\",\"20:30\"],[\"34,6\",\"20:15\"],[\"25,7\",\"21:15\"],[\"26,6\",\"21:00\"],[\"29,4\",\"21:00\"],[\"30,1\",\"21:00\"],[\"26\",\"21:15\"],[\"24,9\",\"20:45\"],[\"21\",\"20:30\"],[\"22,9\",\"21:00\"],[\"25,5\",\"21:00\"],[\"27,4\",\"21:00\"],[\"26,6\",\"20:30\"],[\"27,1\",\"21:00\"],[\"20,3\",\"20:30\"],[\"21,8\",\"20:15\"],[\"25,1\",\"20:45\"],[\"25,7\",\"20:15\"],[\"26,7\",\"21:00\"],[\"25,6\",\"20:45\"],[\"22,1\",\"21:00\"],[\"22\",\"21:15\"],[\"24,1\",\"21:00\"],[\"26,3\",\"20:30\"],[\"27,2\",\"20:15\"],[\"28,5\",\"20:00\"],[\"29,7\",\"20:15\"],[\"29,4\",\"21:00\"],[\"26,9\",\"21:15\"],[\"24,5\",\"20:15\"],[\"25,1\",\"20:30\"],[\"27,6\",\"21:15\"],[\"24,2\",\"20:00\"],[\"21,3\",\"20:45\"],[\"20,9\",\"20:45\"],[\"19,1\",\"21:15\"],[\"21,7\",\"21:15\"],[null,null],[null,null],[\"22,4\",\"20:45\"],[\"24,5\",\"21:00\"],[\"26,7\",\"20:45\"],[\"23,4\",\"21:15\"],[\"15,1\",\"21:30\"],[\"18,7\",\"21:15\"],[\"20,9\",\"21:30\"],[\"22,6\",\"21:00\"],[\"24,4\",\"21:00\"],[\"24,3\",\"21:30\"],[\"21,9\",\"21:15\"],[\"21,9\",\"20:45\"],[\"18,1\",\"20:30\"],[\"19,5\",\"20:45\"],[\"24,6\",\"20:30\"],[\"27,3\",\"20:30\"],[\"27,5\",\"21:15\"],[\"26\",\"21:15\"],[\"25\",\"21:00\"],[\"16,2\",\"21:15\"],[\"11,4\",\"21:15\"],[\"13,1\",\"21:30\"],[\"16\",\"21:00\"],[\"22,1\",\"21:30\"],[\"22,7\",\"21:00\"],[\"24,1\",\"21:15\"],[\"23,1\",\"20:45\"],[\"21,3\",\"21:30\"],[\"18,6\",\"21:15\"],[\"13,6\",\"21:30\"],[\"15,5\",\"21:15\"],[\"17,1\",\"21:15\"],[\"17,9\",\"21:15\"],[\"8,9\",\"21:15\"],[\"13,8\",\"21:15\"],[\"17,9\",\"20:45\"],[\"20,4\",\"20:30\"],[\"18,1\",\"21:30\"],[\"19,7\",\"21:00\"],[\"20\",\"21:15\"],[\"20,7\",\"21:15\"],[\"22,8\",\"21:00\"],[\"17,5\",\"20:45\"],[\"14,7\",\"21:15\"],[\"15,8\",\"22:00\"],[\"16,6\",\"21:15\"],[\"17,9\",\"21:45\"],[\"16,5\",\"21:30\"],[\"17,5\",\"21:15\"],[\"21,1\",\"21:00\"],[\"19,7\",\"21:00\"],[\"16,8\",\"22:00\"],[\"17,7\",\"21:00\"],[\"14,8\",\"21:30\"],[\"8,4\",\"21:15\"],[\"14\",\"21:30\"],[\"14,5\",\"21:15\"],[\"12,7\",\"21:30\"],[\"7,9\",\"22:00\"],[\"14\",\"21:30\"],[\"12,3\",\"21:15\"],[\"13,9\",\"21:15\"],[\"15,4\",\"21:15\"],[\"15\",\"21:15\"],[\"10,3\",\"20:00\"],[\"13,5\",\"21:30\"],[\"9,7\",\"21:30\"],[\"12,9\",\"21:15\"],[\"14,2\",\"20:45\"],[\"13,1\",\"21:45\"],[\"15,5\",\"21:00\"],[\"16,2\",\"21:15\"],[\"14,8\",\"21:15\"],[\"6,9\",\"21:15\"],[\"14,1\",\"21:00\"],[\"16,4\",\"21:30\"],[\"19,2\",\"21:15\"],[\"18,5\",\"21:00\"],[\"20,5\",\"21:00\"],[\"20,6\",\"21:30\"],[\"14,9\",\"21:45\"],[\"10,5\",\"21:15\"],[\"9,7\",\"21:00\"],[\"10,5\",\"21:45\"],[\"13,2\",\"21:00\"],[\"16,6\",\"21:15\"],[\"21,4\",\"21:30\"],[\"13,7\",\"21:15\"],[\"14,1\",\"21:15\"],[\"16,6\",\"21:30\"],[\"17\",\"21:15\"],[\"18,2\",\"21:30\"],[\"21,4\",\"21:15\"],[\"21,5\",\"21:30\"],[\"21,4\",\"21:15\"],[\"21,3\",\"21:30\"],[\"22,3\",\"21:30\"],[\"14,1\",\"21:15\"],[\"17,3\",\"21:00\"],[\"21,4\",\"21:15\"],[\"24,4\",\"21:15\"],[\"22\",\"21:15\"],[\"13,7\",\"21:15\"],[\"16,7\",\"21:15\"],[\"20\",\"21:45\"],[\"17,6\",\"22:15\"],[\"19,9\",\"21:45\"],[\"21,5\",\"22:00\"],[\"21,7\",\"21:30\"],[\"18,5\",\"21:45\"],[\"9,1\",\"11:00\"],[\"14\",\"21:45\"],[\"18\",\"21:30\"],[\"19,4\",\"21:45\"],[\"20,6\",\"21:45\"],[\"22\",\"21:15\"],[\"22,2\",\"21:15\"],[\"15,1\",\"12:00\"],[\"19,9\",\"11:00\"],[\"23,1\",\"13:00\"],[\"15,8\",\"21:00\"],[\"17,7\",\"22:00\"],[\"20,3\",\"21:30\"],[\"18,5\",\"12:00\"],[\"19,1\",\"21:45\"],[\"22,3\",\"11:00\"],[\"18,3\",\"11:00\"],[\"18,5\",\"21:00\"],[\"18,1\",\"21:15\"],[\"20,8\",\"21:30\"],[\"26,3\",\"11:00\"],[\"23,7\",\"12:00\"],[\"28,3\",\"12:00\"],[\"20,6\",\"9:00\"],[\"25,9\",\"21:00\"],[\"22,1\",\"20:30\"],[\"22,5\",\"21:15\"],[\"26,2\",\"21:15\"],[\"25,1\",\"21:15\"],[\"30,5\",\"20:45\"],[\"23,4\",\"20:30\"],[\"18,5\",\"21:30\"],[\"23,6\",\"22:15\"],[\"25,7\",\"21:30\"],[\"27,9\",\"21:00\"],[\"27,9\",\"21:00\"],[\"30,6\",\"20:30\"],[\"29,1\",\"20:15\"],[\"22,4\",\"21:00\"],[\"23,4\",\"21:30\"],[\"27\",\"21:30\"],[\"30,5\",\"21:30\"],[\"28,5\",\"20:30\"],[\"20,3\",\"20:45\"],[\"20,2\",\"20:15\"],[\"9,9\",\"21:15\"],[\"13,3\",\"21:30\"],[\"21\",\"21:30\"],[\"27,2\",\"20:45\"],[\"24,4\",\"21:00\"],[\"27,2\",\"21:30\"],[\"27,2\",\"20:30\"],[\"34,9\",\"20:45\"],[\"23,9\",\"21:15\"],[\"29\",\"21:15\"],[\"32,4\",\"21:00\"],[\"28,5\",\"13:00\"],[\"29,4\",\"13:00\"],[\"31,2\",\"11:00\"],[\"35,9\",\"21:00\"],[\"34,3\",\"20:45\"],[\"28\",\"13:00\"],[\"26,7\",\"13:00\"],[\"23,5\",\"12:00\"],[\"27,5\",\"13:00\"],[\"30,7\",\"13:00\"],[\"33,4\",\"20:30\"],[\"20,8\",\"21:15\"],[\"28,3\",\"21:30\"],[\"30,3\",\"13:00\"],[\"24,5\",\"12:00\"],[\"21,8\",\"12:00\"],[\"27,8\",\"13:00\"],[\"30,6\",\"21:00\"],[\"31,7\",\"21:30\"],[\"33,7\",\"13:00\"],[\"35,2\",\"13:00\"],[\"34,8\",\"13:00\"],[\"26,8\",\"13:00\"],[\"31\",\"13:00\"],[\"31,4\",\"21:00\"],[\"33,1\",\"21:30\"],[\"31,1\",\"13:00\"],[\"29,4\",\"13:00\"],[\"30,9\",\"13:00\"],[\"32,3\",\"13:00\"],[\"31,4\",\"13:00\"],[\"19,9\",\"21:15\"],[\"27,4\",\"21:30\"],[\"31,2\",\"21:15\"],[\"22\",\"21:30\"],[\"29,9\",\"21:15\"],[\"29\",\"13:00\"],[\"30\",\"13:00\"],[\"29,7\",\"21:15\"],[\"33,6\",\"21:45\"],[\"35,4\",\"22:15\"],[\"29,6\",\"13:00\"],[\"29,9\",\"21:15\"],[\"26,9\",\"21:30\"],[\"33,3\",\"13:00\"],[\"34,1\",\"21:15\"],[\"29,7\",\"1:00\"],[\"31,3\",\"13:00\"],[\"32,3\",\"13:00\"],[\"30,4\",\"13:00\"],[\"29,4\",\"13:00\"],[\"28,5\",\"13:00\"],[\"29,4\",\"21:15\"],[\"32,4\",\"21:30\"],[\"34,6\",\"23:30\"],[\"37,3\",\"23:30\"],[\"34,7\",\"13:00\"],[\"38,4\",\"13:00\"],[\"29,3\",\"1:00\"],[\"37,8\",\"21:30\"],[\"29,2\",\"7:12\"],[\"33,8\",\"13:00\"],[\"28,7\",\"13:00\"],[\"35,4\",\"13:00\"],[\"36,8\",\"13:00\"],[\"33,8\",\"13:00\"],[\"27,9\",\"13:00\"],[\"28,3\",\"22:15\"],[\"34,6\",\"23:30\"],[\"36,8\",\"13:00\"],[\"37,6\",\"14:00\"],[\"35,8\",\"14:00\"],[\"36,8\",\"23:30\"],[\"34,8\",\"13:00\"],[\"33,7\",\"23:30\"],[\"31,8\",\"21:45\"],[\"37,1\",\"13:00\"],[\"29,3\",\"1:00\"],[\"34,7\",\"21:15\"]],\"hovertemplate\":\"fecha=%{x}<br>consumo_MW_potencia=%{marker.color}<br>temperatura=%{customdata[0]}<br>hora=%{customdata[1]}<extra></extra>\",\"legendgroup\":\"\",\"marker\":{\"color\":[787.0,932.0,974.0,927.0,794.0,777.0,834.0,932.0,875.0,840.0,858.0,815.0,945.0,937.0,870.0,783.0,824.0,836.0,874.0,1069.0,967.0,979.0,1043.0,986.0,927.0,862.0,947.0,988.0,805.0,882.0,922.0,892.0,874.0,1071.0,971.0,799.0,850.0,775.0,721.0,657.0,710.0,760.0,815.0,720.0,781.0,806.0,813.0,842.0,793.0,843.0,782.0,739.0,727.0,704.0,720.0,748.0,824.0,875.0,883.0,852.0,803.0,972.0,987.0,1089.0,1022.0,972.0,948.0,946.0,947.0,967.0,923.0,976.0,856.0,720.0,811.0,802.0,810.0,813.0,787.0,775.0,734.0,795.0,802.0,691.0,708.0,717.0,706.0,669.0,693.0,666.0,677.0,695.0,683.0,655.0,638.0,687.0,687.0,695.0,680.0,637.0,652.0,610.0,678.0,690.0,683.0,671.0,665.0,642.0,619.0,663.0,673.0,672.0,668.0,665.0,646.0,624.0,669.0,673.0,null,null,619.0,643.0,619.0,669.0,706.0,724.0,725.0,707.0,674.0,641.0,709.0,715.0,743.0,740.0,708.0,665.0,636.0,692.0,708.0,749.0,800.0,817.0,771.0,699.0,693.0,729.0,729.0,742.0,745.0,743.0,751.0,797.0,791.0,856.0,784.0,778.0,728.0,708.0,779.0,770.0,759.0,754.0,745.0,745.0,730.0,760.0,791.0,799.0,796.0,740.0,722.0,701.0,768.0,775.0,811.0,817.0,817.0,789.0,807.0,879.0,884.0,860.0,852.0,831.0,841.0,805.0,877.0,862.0,872.0,836.0,822.0,878.0,777.0,900.0,892.0,865.0,832.0,825.0,751.0,710.0,775.0,841.0,887.0,890.0,870.0,826.0,769.0,852.0,864.0,875.0,853.0,811.0,766.0,713.0,751.0,737.0,739.0,792.0,780.0,732.0,686.0,742.0,940.0,944.0,930.0,903.0,897.0,889.0,922.0,967.0,861.0,847.0,811.0,754.0,724.0,762.0,764.0,807.0,801.0,761.0,748.0,723.0,762.0,781.0,774.0,763.0,798.0,732.0,708.0,744.0,766.0,745.0,708.0,826.0,763.0,744.0,788.0,804.0,791.0,740.0,761.0,761.0,751.0,795.0,773.0,784.0,793.0,751.0,741.0,723.0,769.0,768.0,807.0,806.0,826.0,822.0,812.0,818.0,803.0,799.0,765.0,774.0,740.0,694.0,795.0,782.0,740.0,763.0,758.0,728.0,687.0,755.0,758.0,756.0,731.0,750.0,721.0,641.0,721.0,738.0,736.0,753.0,752.0,690.0,665.0,758.0,786.0,817.0,757.0,774.0,727.0,679.0,757.0,736.0,758.0,810.0,734.0,637.0,627.0,723.0,683.0,708.0,727.0,728.0,694.0,690.0,755.0,789.0,765.0,738.0,855.0,775.0,693.0,792.0,841.0,770.0,772.0,766.0,704.0,693.0,762.0,843.0,885.0,1029.0,846.0,810.0,721.0,837.0,806.0,866.0,969.0,904.0,745.0,709.0,872.0,958.0,973.0,900.0,782.0,851.0,805.0,853.0,960.0,864.0,817.0],\"coloraxis\":\"coloraxis\",\"pattern\":{\"shape\":\"\"}},\"name\":\"\",\"offsetgroup\":\"\",\"orientation\":\"v\",\"showlegend\":false,\"textposition\":\"auto\",\"x\":[\"2020-01-01T00:00:00\",\"2020-02-01T00:00:00\",\"2020-03-01T00:00:00\",\"2020-04-01T00:00:00\",\"2020-05-01T00:00:00\",\"2020-06-01T00:00:00\",\"2020-07-01T00:00:00\",\"2020-08-01T00:00:00\",\"2020-09-01T00:00:00\",\"2020-10-01T00:00:00\",\"2020-11-01T00:00:00\",\"2020-12-01T00:00:00\",\"2020-01-13T00:00:00\",\"2020-01-14T00:00:00\",\"2020-01-15T00:00:00\",\"2020-01-16T00:00:00\",\"2020-01-17T00:00:00\",\"2020-01-18T00:00:00\",\"2020-01-19T00:00:00\",\"2020-01-20T00:00:00\",\"2020-01-21T00:00:00\",\"2020-01-22T00:00:00\",\"2020-01-23T00:00:00\",\"2020-01-24T00:00:00\",\"2020-01-25T00:00:00\",\"2020-01-26T00:00:00\",\"2020-01-27T00:00:00\",\"2020-01-28T00:00:00\",\"2020-01-29T00:00:00\",\"2020-01-30T00:00:00\",\"2020-01-31T00:00:00\",\"2020-01-02T00:00:00\",\"2020-02-02T00:00:00\",\"2020-03-02T00:00:00\",\"2020-04-02T00:00:00\",\"2020-05-02T00:00:00\",\"2020-06-02T00:00:00\",\"2020-07-02T00:00:00\",\"2020-08-02T00:00:00\",\"2020-09-02T00:00:00\",\"2020-10-02T00:00:00\",\"2020-11-02T00:00:00\",\"2020-12-02T00:00:00\",\"2020-02-13T00:00:00\",\"2020-02-14T00:00:00\",\"2020-02-15T00:00:00\",\"2020-02-16T00:00:00\",\"2020-02-17T00:00:00\",\"2020-02-18T00:00:00\",\"2020-02-19T00:00:00\",\"2020-02-20T00:00:00\",\"2020-02-21T00:00:00\",\"2020-02-22T00:00:00\",\"2020-02-23T00:00:00\",\"2020-02-24T00:00:00\",\"2020-02-25T00:00:00\",\"2020-02-26T00:00:00\",\"2020-02-27T00:00:00\",\"2020-02-28T00:00:00\",\"2020-02-29T00:00:00\",\"2020-01-03T00:00:00\",\"2020-03-03T00:00:00\",\"2020-04-03T00:00:00\",\"2020-05-03T00:00:00\",\"2020-06-03T00:00:00\",\"2020-07-03T00:00:00\",\"2020-08-03T00:00:00\",\"2020-09-03T00:00:00\",\"2020-10-03T00:00:00\",\"2020-11-03T00:00:00\",\"2020-12-03T00:00:00\",\"2020-03-13T00:00:00\",\"2020-03-14T00:00:00\",\"2020-03-15T00:00:00\",\"2020-03-16T00:00:00\",\"2020-03-17T00:00:00\",\"2020-03-18T00:00:00\",\"2020-03-19T00:00:00\",\"2020-03-20T00:00:00\",\"2020-03-21T00:00:00\",\"2020-03-22T00:00:00\",\"2020-03-23T00:00:00\",\"2020-03-24T00:00:00\",\"2020-03-25T00:00:00\",\"2020-03-26T00:00:00\",\"2020-03-27T00:00:00\",\"2020-03-28T00:00:00\",\"2020-03-29T00:00:00\",\"2020-03-30T00:00:00\",\"2020-03-31T00:00:00\",\"2020-01-04T00:00:00\",\"2020-02-04T00:00:00\",\"2020-03-04T00:00:00\",\"2020-04-04T00:00:00\",\"2020-05-04T00:00:00\",\"2020-06-04T00:00:00\",\"2020-07-04T00:00:00\",\"2020-08-04T00:00:00\",\"2020-09-04T00:00:00\",\"2020-10-04T00:00:00\",\"2020-11-04T00:00:00\",\"2020-12-04T00:00:00\",\"2020-04-13T00:00:00\",\"2020-04-14T00:00:00\",\"2020-04-15T00:00:00\",\"2020-04-16T00:00:00\",\"2020-04-17T00:00:00\",\"2020-04-18T00:00:00\",\"2020-04-19T00:00:00\",\"2020-04-20T00:00:00\",\"2020-04-21T00:00:00\",\"2020-04-22T00:00:00\",\"2020-04-23T00:00:00\",\"2020-04-24T00:00:00\",\"2020-04-25T00:00:00\",\"2020-04-26T00:00:00\",\"2020-04-27T00:00:00\",\"2020-04-28T00:00:00\",\"2020-04-29T00:00:00\",\"2020-04-30T00:00:00\",\"2020-01-05T00:00:00\",\"2020-02-05T00:00:00\",\"2020-03-05T00:00:00\",\"2020-04-05T00:00:00\",\"2020-05-05T00:00:00\",\"2020-06-05T00:00:00\",\"2020-07-05T00:00:00\",\"2020-08-05T00:00:00\",\"2020-09-05T00:00:00\",\"2020-10-05T00:00:00\",\"2020-11-05T00:00:00\",\"2020-12-05T00:00:00\",\"2020-05-13T00:00:00\",\"2020-05-14T00:00:00\",\"2020-05-15T00:00:00\",\"2020-05-16T00:00:00\",\"2020-05-17T00:00:00\",\"2020-05-18T00:00:00\",\"2020-05-19T00:00:00\",\"2020-05-20T00:00:00\",\"2020-05-21T00:00:00\",\"2020-05-22T00:00:00\",\"2020-05-23T00:00:00\",\"2020-05-24T00:00:00\",\"2020-05-25T00:00:00\",\"2020-05-26T00:00:00\",\"2020-05-27T00:00:00\",\"2020-05-28T00:00:00\",\"2020-05-29T00:00:00\",\"2020-05-30T00:00:00\",\"2020-05-31T00:00:00\",\"2020-01-06T00:00:00\",\"2020-02-06T00:00:00\",\"2020-03-06T00:00:00\",\"2020-04-06T00:00:00\",\"2020-05-06T00:00:00\",\"2020-06-06T00:00:00\",\"2020-07-06T00:00:00\",\"2020-08-06T00:00:00\",\"2020-09-06T00:00:00\",\"2020-10-06T00:00:00\",\"2020-11-06T00:00:00\",\"2020-12-06T00:00:00\",\"2020-06-13T00:00:00\",\"2020-06-14T00:00:00\",\"2020-06-15T00:00:00\",\"2020-06-16T00:00:00\",\"2020-06-17T00:00:00\",\"2020-06-18T00:00:00\",\"2020-06-19T00:00:00\",\"2020-06-20T00:00:00\",\"2020-06-21T00:00:00\",\"2020-06-22T00:00:00\",\"2020-06-23T00:00:00\",\"2020-06-24T00:00:00\",\"2020-06-25T00:00:00\",\"2020-06-26T00:00:00\",\"2020-06-27T00:00:00\",\"2020-06-28T00:00:00\",\"2020-06-29T00:00:00\",\"2020-06-30T00:00:00\",\"2020-01-07T00:00:00\",\"2020-02-07T00:00:00\",\"2020-03-07T00:00:00\",\"2020-04-07T00:00:00\",\"2020-05-07T00:00:00\",\"2020-06-07T00:00:00\",\"2020-07-07T00:00:00\",\"2020-08-07T00:00:00\",\"2020-09-07T00:00:00\",\"2020-10-07T00:00:00\",\"2020-11-07T00:00:00\",\"2020-12-07T00:00:00\",\"2020-07-13T00:00:00\",\"2020-07-14T00:00:00\",\"2020-07-15T00:00:00\",\"2020-07-16T00:00:00\",\"2020-07-17T00:00:00\",\"2020-07-18T00:00:00\",\"2020-07-19T00:00:00\",\"2020-07-20T00:00:00\",\"2020-07-21T00:00:00\",\"2020-07-22T00:00:00\",\"2020-07-23T00:00:00\",\"2020-07-24T00:00:00\",\"2020-07-25T00:00:00\",\"2020-07-26T00:00:00\",\"2020-07-27T00:00:00\",\"2020-07-28T00:00:00\",\"2020-07-29T00:00:00\",\"2020-07-30T00:00:00\",\"2020-07-31T00:00:00\",\"2020-01-08T00:00:00\",\"2020-02-08T00:00:00\",\"2020-03-08T00:00:00\",\"2020-04-08T00:00:00\",\"2020-05-08T00:00:00\",\"2020-06-08T00:00:00\",\"2020-07-08T00:00:00\",\"2020-08-08T00:00:00\",\"2020-09-08T00:00:00\",\"2020-10-08T00:00:00\",\"2020-11-08T00:00:00\",\"2020-12-08T00:00:00\",\"2020-08-13T00:00:00\",\"2020-08-14T00:00:00\",\"2020-08-15T00:00:00\",\"2020-08-16T00:00:00\",\"2020-08-17T00:00:00\",\"2020-08-18T00:00:00\",\"2020-08-19T00:00:00\",\"2020-08-20T00:00:00\",\"2020-08-21T00:00:00\",\"2020-08-22T00:00:00\",\"2020-08-23T00:00:00\",\"2020-08-24T00:00:00\",\"2020-08-25T00:00:00\",\"2020-08-26T00:00:00\",\"2020-08-27T00:00:00\",\"2020-08-28T00:00:00\",\"2020-08-29T00:00:00\",\"2020-08-30T00:00:00\",\"2020-08-31T00:00:00\",\"2020-01-09T00:00:00\",\"2020-02-09T00:00:00\",\"2020-03-09T00:00:00\",\"2020-04-09T00:00:00\",\"2020-05-09T00:00:00\",\"2020-06-09T00:00:00\",\"2020-07-09T00:00:00\",\"2020-08-09T00:00:00\",\"2020-09-09T00:00:00\",\"2020-10-09T00:00:00\",\"2020-11-09T00:00:00\",\"2020-12-09T00:00:00\",\"2020-09-13T00:00:00\",\"2020-09-14T00:00:00\",\"2020-09-15T00:00:00\",\"2020-09-16T00:00:00\",\"2020-09-17T00:00:00\",\"2020-09-18T00:00:00\",\"2020-09-19T00:00:00\",\"2020-09-20T00:00:00\",\"2020-09-21T00:00:00\",\"2020-09-22T00:00:00\",\"2020-09-23T00:00:00\",\"2020-09-24T00:00:00\",\"2020-09-25T00:00:00\",\"2020-09-26T00:00:00\",\"2020-09-27T00:00:00\",\"2020-09-28T00:00:00\",\"2020-09-29T00:00:00\",\"2020-09-30T00:00:00\",\"2020-01-10T00:00:00\",\"2020-02-10T00:00:00\",\"2020-03-10T00:00:00\",\"2020-04-10T00:00:00\",\"2020-05-10T00:00:00\",\"2020-06-10T00:00:00\",\"2020-07-10T00:00:00\",\"2020-08-10T00:00:00\",\"2020-09-10T00:00:00\",\"2020-10-10T00:00:00\",\"2020-11-10T00:00:00\",\"2020-12-10T00:00:00\",\"2020-10-13T00:00:00\",\"2020-10-14T00:00:00\",\"2020-10-15T00:00:00\",\"2020-10-16T00:00:00\",\"2020-10-17T00:00:00\",\"2020-10-18T00:00:00\",\"2020-10-19T00:00:00\",\"2020-10-20T00:00:00\",\"2020-10-21T00:00:00\",\"2020-10-22T00:00:00\",\"2020-10-23T00:00:00\",\"2020-10-24T00:00:00\",\"2020-10-25T00:00:00\",\"2020-10-26T00:00:00\",\"2020-10-27T00:00:00\",\"2020-10-28T00:00:00\",\"2020-10-29T00:00:00\",\"2020-10-30T00:00:00\",\"2020-10-31T00:00:00\",\"2020-01-11T00:00:00\",\"2020-02-11T00:00:00\",\"2020-03-11T00:00:00\",\"2020-04-11T00:00:00\",\"2020-05-11T00:00:00\",\"2020-06-11T00:00:00\",\"2020-07-11T00:00:00\",\"2020-08-11T00:00:00\",\"2020-09-11T00:00:00\",\"2020-10-11T00:00:00\",\"2020-11-11T00:00:00\",\"2020-12-11T00:00:00\",\"2020-11-13T00:00:00\",\"2020-11-14T00:00:00\",\"2020-11-15T00:00:00\",\"2020-11-16T00:00:00\",\"2020-11-17T00:00:00\",\"2020-11-18T00:00:00\",\"2020-11-19T00:00:00\",\"2020-11-20T00:00:00\",\"2020-11-21T00:00:00\",\"2020-11-22T00:00:00\",\"2020-11-23T00:00:00\",\"2020-11-24T00:00:00\",\"2020-11-25T00:00:00\",\"2020-11-26T00:00:00\",\"2020-11-27T00:00:00\",\"2020-11-28T00:00:00\",\"2020-11-29T00:00:00\",\"2020-11-30T00:00:00\",\"2020-01-12T00:00:00\",\"2020-02-12T00:00:00\",\"2020-03-12T00:00:00\",\"2020-04-12T00:00:00\",\"2020-05-12T00:00:00\",\"2020-06-12T00:00:00\",\"2020-07-12T00:00:00\",\"2020-08-12T00:00:00\",\"2020-09-12T00:00:00\",\"2020-10-12T00:00:00\",\"2020-11-12T00:00:00\",\"2020-12-12T00:00:00\",\"2020-12-13T00:00:00\",\"2020-12-14T00:00:00\",\"2020-12-15T00:00:00\",\"2020-12-16T00:00:00\",\"2020-12-17T00:00:00\",\"2020-12-18T00:00:00\",\"2020-12-19T00:00:00\",\"2020-12-20T00:00:00\",\"2020-12-21T00:00:00\",\"2020-12-22T00:00:00\",\"2020-12-23T00:00:00\",\"2020-12-24T00:00:00\",\"2020-12-25T00:00:00\",\"2020-12-26T00:00:00\",\"2020-12-27T00:00:00\",\"2020-12-28T00:00:00\",\"2020-12-29T00:00:00\",\"2020-12-30T00:00:00\",\"2020-12-31T00:00:00\"],\"xaxis\":\"x\",\"y\":[787.0,932.0,974.0,927.0,794.0,777.0,834.0,932.0,875.0,840.0,858.0,815.0,945.0,937.0,870.0,783.0,824.0,836.0,874.0,1069.0,967.0,979.0,1043.0,986.0,927.0,862.0,947.0,988.0,805.0,882.0,922.0,892.0,874.0,1071.0,971.0,799.0,850.0,775.0,721.0,657.0,710.0,760.0,815.0,720.0,781.0,806.0,813.0,842.0,793.0,843.0,782.0,739.0,727.0,704.0,720.0,748.0,824.0,875.0,883.0,852.0,803.0,972.0,987.0,1089.0,1022.0,972.0,948.0,946.0,947.0,967.0,923.0,976.0,856.0,720.0,811.0,802.0,810.0,813.0,787.0,775.0,734.0,795.0,802.0,691.0,708.0,717.0,706.0,669.0,693.0,666.0,677.0,695.0,683.0,655.0,638.0,687.0,687.0,695.0,680.0,637.0,652.0,610.0,678.0,690.0,683.0,671.0,665.0,642.0,619.0,663.0,673.0,672.0,668.0,665.0,646.0,624.0,669.0,673.0,null,null,619.0,643.0,619.0,669.0,706.0,724.0,725.0,707.0,674.0,641.0,709.0,715.0,743.0,740.0,708.0,665.0,636.0,692.0,708.0,749.0,800.0,817.0,771.0,699.0,693.0,729.0,729.0,742.0,745.0,743.0,751.0,797.0,791.0,856.0,784.0,778.0,728.0,708.0,779.0,770.0,759.0,754.0,745.0,745.0,730.0,760.0,791.0,799.0,796.0,740.0,722.0,701.0,768.0,775.0,811.0,817.0,817.0,789.0,807.0,879.0,884.0,860.0,852.0,831.0,841.0,805.0,877.0,862.0,872.0,836.0,822.0,878.0,777.0,900.0,892.0,865.0,832.0,825.0,751.0,710.0,775.0,841.0,887.0,890.0,870.0,826.0,769.0,852.0,864.0,875.0,853.0,811.0,766.0,713.0,751.0,737.0,739.0,792.0,780.0,732.0,686.0,742.0,940.0,944.0,930.0,903.0,897.0,889.0,922.0,967.0,861.0,847.0,811.0,754.0,724.0,762.0,764.0,807.0,801.0,761.0,748.0,723.0,762.0,781.0,774.0,763.0,798.0,732.0,708.0,744.0,766.0,745.0,708.0,826.0,763.0,744.0,788.0,804.0,791.0,740.0,761.0,761.0,751.0,795.0,773.0,784.0,793.0,751.0,741.0,723.0,769.0,768.0,807.0,806.0,826.0,822.0,812.0,818.0,803.0,799.0,765.0,774.0,740.0,694.0,795.0,782.0,740.0,763.0,758.0,728.0,687.0,755.0,758.0,756.0,731.0,750.0,721.0,641.0,721.0,738.0,736.0,753.0,752.0,690.0,665.0,758.0,786.0,817.0,757.0,774.0,727.0,679.0,757.0,736.0,758.0,810.0,734.0,637.0,627.0,723.0,683.0,708.0,727.0,728.0,694.0,690.0,755.0,789.0,765.0,738.0,855.0,775.0,693.0,792.0,841.0,770.0,772.0,766.0,704.0,693.0,762.0,843.0,885.0,1029.0,846.0,810.0,721.0,837.0,806.0,866.0,969.0,904.0,745.0,709.0,872.0,958.0,973.0,900.0,782.0,851.0,805.0,853.0,960.0,864.0,817.0],\"yaxis\":\"y\",\"type\":\"bar\"}],                        {\"template\":{\"data\":{\"pie\":[{\"automargin\":true,\"type\":\"pie\"}]},\"layout\":{\"xaxis\":{\"showgrid\":true,\"title\":{\"standoff\":15}},\"yaxis\":{\"showgrid\":true,\"title\":{\"standoff\":15}}}},\"xaxis\":{\"anchor\":\"y\",\"domain\":[0.0,1.0],\"title\":{\"text\":\"fecha\"}},\"yaxis\":{\"anchor\":\"x\",\"domain\":[0.0,1.0],\"title\":{\"text\":\"consumo_MW_potencia\"}},\"coloraxis\":{\"colorbar\":{\"title\":{\"text\":\"consumo_MW_potencia\"}},\"colorscale\":[[0.0,\"#440154\"],[0.1111111111111111,\"#482878\"],[0.2222222222222222,\"#3e4989\"],[0.3333333333333333,\"#31688e\"],[0.4444444444444444,\"#26828e\"],[0.5555555555555556,\"#1f9e89\"],[0.6666666666666666,\"#35b779\"],[0.7777777777777778,\"#6ece58\"],[0.8888888888888888,\"#b5de2b\"],[1.0,\"#fde725\"]]},\"legend\":{\"tracegroupgap\":0},\"title\":{\"text\":\"Consumo maximo de energia en MW - Mendoza 2020\"},\"barmode\":\"relative\"},                        {\"responsive\": true}                    ).then(function(){\n",
              "                            \n",
              "var gd = document.getElementById('a3579a2b-2e37-44c6-b376-2d17338aff00');\n",
              "var x = new MutationObserver(function (mutations, observer) {{\n",
              "        var display = window.getComputedStyle(gd).display;\n",
              "        if (!display || display === 'none') {{\n",
              "            console.log([gd, 'removed!']);\n",
              "            Plotly.purge(gd);\n",
              "            observer.disconnect();\n",
              "        }}\n",
              "}});\n",
              "\n",
              "// Listen for the removal of the full notebook cells\n",
              "var notebookContainer = gd.closest('#notebook-container');\n",
              "if (notebookContainer) {{\n",
              "    x.observe(notebookContainer, {childList: true});\n",
              "}}\n",
              "\n",
              "// Listen for the clearing of the current output cell\n",
              "var outputEl = gd.closest('.output');\n",
              "if (outputEl) {{\n",
              "    x.observe(outputEl, {childList: true});\n",
              "}}\n",
              "\n",
              "                        })                };                            </script>        </div>\n",
              "</body>\n",
              "</html>"
            ]
          },
          "metadata": {}
        }
      ]
    },
    {
      "cell_type": "code",
      "source": [
        "fig2021 = px.bar(df_consumo_2021, \n",
        "             x=\"fecha\", \n",
        "             y=\"consumo_MW_potencia\", \n",
        "             color=\"consumo_MW_potencia\",\n",
        "             hover_data=[df_consumo_2021.temperatura, df_consumo_2021.hora],\n",
        "             template=\"gridon\", \n",
        "             title=\"Consumo maximo de energia en MW - Mendoza 2021\")\n",
        "fig2021.show()"
      ],
      "metadata": {
        "colab": {
          "base_uri": "https://localhost:8080/",
          "height": 542
        },
        "id": "7CYkQPmcHv4_",
        "outputId": "cec097ef-0713-47a8-a6b8-f2e34cced57f"
      },
      "execution_count": 66,
      "outputs": [
        {
          "output_type": "display_data",
          "data": {
            "text/html": [
              "<html>\n",
              "<head><meta charset=\"utf-8\" /></head>\n",
              "<body>\n",
              "    <div>            <script src=\"https://cdnjs.cloudflare.com/ajax/libs/mathjax/2.7.5/MathJax.js?config=TeX-AMS-MML_SVG\"></script><script type=\"text/javascript\">if (window.MathJax) {MathJax.Hub.Config({SVG: {font: \"STIX-Web\"}});}</script>                <script type=\"text/javascript\">window.PlotlyConfig = {MathJaxConfig: 'local'};</script>\n",
              "        <script src=\"https://cdn.plot.ly/plotly-2.8.3.min.js\"></script>                <div id=\"29e0c5f8-da8b-4353-b491-550b928b76e6\" class=\"plotly-graph-div\" style=\"height:525px; width:100%;\"></div>            <script type=\"text/javascript\">                                    window.PLOTLYENV=window.PLOTLYENV || {};                                    if (document.getElementById(\"29e0c5f8-da8b-4353-b491-550b928b76e6\")) {                    Plotly.newPlot(                        \"29e0c5f8-da8b-4353-b491-550b928b76e6\",                        [{\"alignmentgroup\":\"True\",\"customdata\":[[\"35,8\",\"23:30\"],[\"28,5\",\"1:00\"],[\"31\",\"23:30\"],[\"30,4\",\"13:00\"],[\"22,3\",\"21:30\"],[\"28,2\",\"21:45\"],[\"33,9\",\"21:45\"],[\"30,2\",\"13:00\"],[\"32,3\",\"21:30\"],[\"35,5\",\"23:30\"],[\"29,9\",\"13:00\"],[\"27,4\",\"21:45\"],[\"33,5\",\"13:00\"],[\"34,3\",\"13:00\"],[\"33,8\",\"13:00\"],[\"26,1\",\"1:00\"],[\"30,5\",\"21:45\"],[\"34\",\"13:00\"],[\"35,7\",\"14:00\"],[\"36,6\",\"13:00\"],[\"37,4\",\"14:00\"],[\"38,2\",\"14:00\"],[\"38,4\",\"14:00\"],[\"38,4\",\"23:30\"],[\"36,6\",\"15:00\"],[\"32,6\",\"13:00\"],[\"32,9\",\"21:45\"],[\"30\",\"1:00\"],[\"33,3\",\"13:00\"],[\"21,9\",\"1:00\"],[\"22\",\"22:15\"],[\"19,8\",\"21:45\"],[\"25\",\"21:30\"],[\"30\",\"21:45\"],[\"33,2\",\"21:45\"],[\"34,6\",\"21:15\"],[\"36,5\",\"21:30\"],[\"35,4\",\"1:00\"],[\"17,5\",\"22:00\"],[\"22,1\",\"21:30\"],[\"27,3\",\"21:15\"],[\"30,4\",\"21:15\"],[\"30,5\",\"13:00\"],[\"32\",\"21:00\"],[\"33,4\",\"20:30\"],[\"27,4\",\"21:30\"],[\"27,6\",\"21:45\"],[\"32\",\"21:45\"],[\"31,6\",\"21:00\"],[\"23,6\",\"21:15\"],[\"29,1\",\"21:00\"],[\"31,7\",\"21:15\"],[\"27,4\",\"21:00\"],[\"33,3\",\"21:15\"],[\"33,5\",\"21:00\"],[\"35,1\",\"16:00\"],[\"36,4\",\"17:00\"],[\"32,3\",\"21:00\"],[\"32,1\",\"22:15\"],[\"31,9\",\"21:15\"],[\"29,4\",\"20:45\"],[\"32,5\",\"20:30\"],[\"35,3\",\"20:45\"],[\"33,6\",\"20:30\"],[\"35,9\",\"20:45\"],[\"36,5\",\"22:15\"],[\"26,8\",\"20:45\"],[\"32,7\",\"20:45\"],[\"35,6\",\"20:45\"],[\"28,5\",\"20:45\"],[\"26,7\",\"13:00\"],[\"29,9\",\"20:45\"],[\"28,2\",\"21:00\"],[\"26,8\",\"13:00\"],[\"27,8\",\"20:45\"],[\"19,1\",\"20:45\"],[\"14,8\",\"20:30\"],[\"21,3\",\"21:15\"],[\"24\",\"21:15\"],[\"26,1\",\"21:00\"],[\"25,8\",\"21:00\"],[\"29\",\"20:45\"],[\"27,5\",\"20:45\"],[\"20,6\",\"20:30\"],[\"19,3\",\"20:45\"],[\"24,4\",\"21:00\"],[\"26,4\",\"21:15\"],[\"28\",\"20:45\"],[\"29\",\"20:15\"],[\"28,2\",\"20:30\"],[\"27,5\",\"20:15\"],[\"28,6\",\"21:30\"],[\"30\",\"20:30\"],[\"29,3\",\"21:15\"],[\"30\",\"20:30\"],[\"28,9\",\"20:15\"],[\"22,8\",\"20:15\"],[\"23,6\",\"20:45\"],[\"17,7\",\"20:30\"],[\"13,5\",\"20:15\"],[\"23,2\",\"22:00\"],[\"25,8\",\"21:15\"],[\"27,1\",\"21:15\"],[\"27,7\",\"20:45\"],[\"29,3\",\"20:30\"],[\"29,2\",\"20:15\"],[\"27,4\",\"20:15\"],[\"28,1\",\"21:15\"],[\"30\",\"20:00\"],[\"29,3\",\"20:00\"],[\"23,7\",\"20:45\"],[\"21,4\",\"21:00\"],[\"23,6\",\"20:30\"],[\"22,1\",\"20:45\"],[\"24,1\",\"21:15\"],[\"25\",\"21:00\"],[\"25,5\",\"20:45\"],[\"26,5\",\"20:15\"],[\"26,7\",\"21:00\"],[\"24,4\",\"20:00\"],[\"23,4\",\"21:15\"],[\"22,9\",\"21:15\"],[\"20,2\",\"21:15\"],[\"12,8\",\"20:30\"],[\"16,9\",\"21:30\"],[\"19,9\",\"21:30\"],[\"19,8\",\"11:00\"],[\"19,4\",\"21:15\"],[\"18,1\",\"21:45\"],[\"18,6\",\"21:00\"],[\"19,3\",\"21:30\"],[\"21,6\",\"21:15\"],[\"21,5\",\"21:15\"],[\"22,7\",\"21:15\"],[\"22,1\",\"21:00\"],[\"21,6\",\"21:15\"],[\"21,7\",\"21:30\"],[\"21,8\",\"21:00\"],[\"23,3\",\"20:15\"],[\"16,8\",\"20:00\"],[\"15,3\",\"20:15\"],[\"17,5\",\"21:00\"],[\"16,4\",\"20:00\"],[\"19,1\",\"21:45\"],[\"22,5\",\"19:30\"],[\"22,5\",\"21:30\"],[\"21\",\"20:45\"],[\"16,6\",\"21:30\"],[\"16,2\",\"20:45\"],[\"18,5\",\"21:00\"],[\"20,9\",\"21:15\"],[\"22,3\",\"21:30\"],[\"19,4\",\"21:00\"],[\"21,9\",\"21:30\"],[\"19,3\",\"21:00\"],[\"16,9\",\"21:30\"],[\"17,4\",\"21:45\"],[\"19,1\",\"21:30\"],[\"18,9\",\"21:15\"],[\"21,1\",\"21:00\"],[\"16,4\",\"21:00\"],[\"17,7\",\"21:15\"],[\"21,1\",\"21:00\"],[\"23,2\",\"21:30\"],[\"12,8\",\"20:30\"],[\"8,1\",\"21:15\"],[\"6,1\",\"21:00\"],[\"4,3\",\"20:30\"],[\"5\",\"19:15\"],[\"9,3\",\"21:45\"],[\"11,3\",\"21:45\"],[\"14,2\",\"21:30\"],[\"14,9\",\"21:45\"],[\"16,8\",\"21:15\"],[\"17,3\",\"21:00\"],[\"16,8\",\"20:15\"],[\"10,1\",\"20:45\"],[\"8,9\",\"21:30\"],[\"11,5\",\"21:30\"],[\"13\",\"22:00\"],[\"13,3\",\"20:30\"],[\"15,7\",\"21:15\"],[\"16,6\",\"20:45\"],[\"17,2\",\"20:45\"],[\"18,8\",\"21:45\"],[\"19\",\"21:30\"],[\"19,2\",\"21:00\"],[\"18,3\",\"21:15\"],[\"19,3\",\"21:00\"],[\"22,5\",\"21:15\"],[\"16,7\",\"20:45\"],[\"19,1\",\"21:00\"],[\"19,4\",\"21:30\"],[\"18,2\",\"21:30\"],[\"19,1\",\"20:45\"],[\"18,1\",\"21:00\"],[\"19,1\",\"20:00\"],[\"12,3\",\"21:00\"],[\"14\",\"21:45\"],[\"16,3\",\"21:30\"],[\"18,8\",\"20:30\"],[\"20,9\",\"21:15\"],[\"20,9\",\"21:00\"],[\"20,6\",\"20:45\"],[\"16,8\",\"21:15\"],[\"17,2\",\"21:45\"],[\"15\",\"21:45\"],[\"14,5\",\"21:15\"],[\"13,2\",\"22:00\"],[\"15,8\",\"21:30\"],[\"17,3\",\"11:00\"],[\"18,9\",\"21:00\"],[\"18,2\",\"21:45\"],[\"20,8\",\"21:00\"],[\"22,7\",\"21:15\"],[\"22,2\",\"22:00\"],[\"22,9\",\"21:30\"],[\"24\",\"11:00\"],[\"18,1\",\"20:45\"],[\"14,2\",\"21:30\"],[\"13,1\",\"21:45\"],[\"16,7\",\"21:15\"],[\"17,4\",\"21:30\"],[\"17,7\",\"21:30\"],[\"18,5\",\"21:15\"],[\"21\",\"21:00\"],[\"20,9\",\"21:30\"],[\"24,9\",\"21:30\"],[\"23,3\",\"22:00\"],[\"27,3\",\"11:00\"],[\"22,5\",\"21:15\"],[\"18,8\",\"21:45\"],[\"23\",\"21:15\"],[\"20,8\",\"22:00\"],[\"14,2\",\"21:15\"],[\"17,3\",\"21:30\"],[\"20,3\",\"21:00\"],[\"22,2\",\"11:00\"],[\"19,2\",\"11:00\"],[\"23,8\",\"11:00\"],[\"26,2\",\"21:15\"],[\"28,3\",\"11:00\"],[\"28,7\",\"12:00\"],[\"22,8\",\"21:30\"],[\"20,6\",\"11:00\"],[\"19,3\",\"11:00\"],[\"23\",\"20:45\"],[\"24,7\",\"21:15\"],[\"22,3\",\"12:00\"],[\"13,5\",\"21:30\"],[\"18,3\",\"21:30\"],[\"19,1\",\"21:30\"],[\"22,9\",\"21:15\"],[\"26,1\",\"20:45\"],[\"26,8\",\"21:30\"],[\"17,8\",\"19:45\"],[\"19,1\",\"21:15\"],[\"22,6\",\"20:45\"],[\"25,3\",\"12:00\"],[\"27,6\",\"12:00\"],[\"26\",\"20:30\"],[\"23,9\",\"21:15\"],[\"19,2\",\"21:15\"],[\"22,3\",\"12:00\"],[\"23,9\",\"21:15\"],[\"26,7\",\"21:00\"],[\"28,7\",\"12:00\"],[\"32,7\",\"21:15\"],[\"21,2\",\"21:00\"],[\"22,3\",\"21:15\"],[\"23,5\",\"21:30\"],[\"28,3\",\"12:00\"],[\"24,6\",\"20:15\"],[\"24,9\",\"12:00\"],[\"21,4\",\"21:15\"],[\"19,3\",\"22:00\"],[\"24,7\",\"21:15\"],[\"27,7\",\"12:00\"],[\"16,5\",\"21:15\"],[\"22,5\",\"11:00\"],[\"22,8\",\"21:00\"],[\"22,8\",\"21:00\"],[\"24,7\",\"21:30\"],[\"28,3\",\"21:30\"],[\"30,1\",\"20:30\"],[\"27\",\"12:00\"],[\"23,4\",\"12:00\"],[\"20,2\",\"21:00\"],[\"25,9\",\"11:00\"],[\"24\",\"21:30\"],[\"26,4\",\"21:30\"],[\"30,1\",\"12:00\"],[\"32,1\",\"12:00\"],[\"30,4\",\"12:00\"],[\"25,1\",\"12:00\"],[\"25\",\"20:45\"],[\"29,8\",\"21:45\"],[\"38,4\",\"21:00\"],[\"13,4\",\"13:00\"],[\"34,5\",\"13:00\"],[\"37,2\",\"20:45\"],[\"35\",\"13:00\"],[\"30,6\",\"1:00\"],[\"18,2\",\"7:12\"],[\"20,4\",\"20:45\"],[\"30,4\",\"21:00\"],[\"33,8\",\"21:00\"],[\"22,8\",\"21:15\"],[\"22,5\",\"21:15\"],[\"25,6\",\"21:30\"],[\"28,7\",\"21:45\"],[\"32,3\",\"21:45\"],[\"25,2\",\"12:00\"],[\"29\",\"21:00\"],[\"29,3\",\"21:00\"],[\"31,1\",\"21:00\"],[\"25\",\"21:00\"],[\"28,9\",\"21:45\"],[\"33,4\",\"13:00\"],[\"20\",\"21:30\"],[\"27,7\",\"21:30\"],[\"32,2\",\"21:15\"],[\"32,4\",\"13:00\"],[\"35,9\",\"21:00\"],[\"36,6\",\"21:30\"],[\"33,4\",\"23:30\"],[\"35,1\",\"21:00\"],[\"32,4\",\"12:00\"],[\"31,8\",\"12:00\"],[\"34,8\",\"13:00\"],[\"27\",\"1:00\"],[\"28,1\",\"22:15\"],[\"33,6\",\"21:00\"],[\"33,4\",\"13:00\"],[\"31,9\",\"13:00\"],[\"30,6\",\"13:00\"],[\"24\",\"12:00\"],[\"20,8\",\"21:15\"],[\"26,3\",\"22:15\"],[\"33,1\",\"21:15\"],[\"35,7\",\"13:00\"],[\"29,1\",\"1:00\"],[\"18,5\",\"21:45\"],[\"28,4\",\"21:15\"],[\"34,3\",\"22:00\"],[\"25,5\",\"22.15\"],[\"25,6\",\"21:15\"],[\"25,7\",\"21:45\"],[\"32,3\",\"21:45\"],[\"32\",\"13:00\"],[\"33,2\",\"21:30\"],[\"36,4\",\"21:15\"],[\"35,7\",\"23:00\"],[\"37,7\",\"14:00\"],[\"34\",\"21:45\"],[\"32,7\",\"21:35\"],[\"36,1\",\"16:00\"],[\"35,2\",\"17:00\"],[\"34,7\",\"22:00\"],[\"37,6\",\"23:30\"],[\"33,8\",\"14:00\"],[\"33,6\",\"13:00\"],[\"37\",\"16:00\"],[\"30,4\",\"13:00\"],[\"35,9\",\"21:15\"]],\"hovertemplate\":\"fecha=%{x}<br>consumo_MW_potencia=%{marker.color}<br>temperatura=%{customdata[0]}<br>hora=%{customdata[1]}<extra></extra>\",\"legendgroup\":\"\",\"marker\":{\"color\":[803,767,726,814,679,716,772,755,739,784,794,758,829,903,862,760,700,830,887,938,971,998,947,926,1057,934,893,841,853,731,624,690,698,724,779,818,816,719,686,694,715,749,736,716,666,674,697,776,793,725,723,717,757,797,846,916,971,827,794,815,786,833,888,915,882,846,790,873,930,830,794,746,697,734,737,706,747,724,688,660,724,746,722,740,724,685,650,734,735,741,729,664,706,657,706,767,737,729,733,706,675,729,741,739,747,738,684,663,770,746,732,737,737,699,666,726,732,741,732,837,744,664,734,796,806,800,778,731,711,791,792,790,781,763,726,714,769,765,762,767,777,754,725,816,755,755,752,745,731,726,762,770,772,772,767,732,723,795,810,800,814,824,737,726,820,866,886,920,900,833,787,845,884,870,856,836,828,846,908,916,898,881,845,818,802,858,832,832,802,743,766,753,805,821,814,826,799,803,805,859,836,834,822,796,769,756,828,861,884,878,958,876,810,821,807,782,775,747,727,757,833,835,842,831,819,757,712,748,781,749,756,778,715,828,828,830,805,799,822,719,694,736,732,736,745,758,684,666,815,792,788,774,743,687,654,830,783,769,764,741,691,655,737,738,725,746,750,685,654,717,738,746,785,755,705,689,730,759,795,763,721,675,630,668,731,727,730,731,693,657,743,782,775,779,770,693,688,799,855,826,877,890,751,666,730,751,800,753,740,694,670,762,754,765,763,779,698,689,780,742,763,794,813,789,757,801,899,926,811,870,763,682,797,820,826,855,768,672,670,800,876,721,701,748,722,688,727,740,766,813,790,850,825,1008,952,845,983,896,758,858,971,926,946,873,847],\"coloraxis\":\"coloraxis\",\"pattern\":{\"shape\":\"\"}},\"name\":\"\",\"offsetgroup\":\"\",\"orientation\":\"v\",\"showlegend\":false,\"textposition\":\"auto\",\"x\":[\"2021-01-01T00:00:00\",\"2021-02-01T00:00:00\",\"2021-03-01T00:00:00\",\"2021-04-01T00:00:00\",\"2021-05-01T00:00:00\",\"2021-06-01T00:00:00\",\"2021-07-01T00:00:00\",\"2021-08-01T00:00:00\",\"2021-09-01T00:00:00\",\"2021-10-01T00:00:00\",\"2021-11-01T00:00:00\",\"2021-12-01T00:00:00\",\"2021-01-13T00:00:00\",\"2021-01-14T00:00:00\",\"2021-01-15T00:00:00\",\"2021-01-16T00:00:00\",\"2021-01-17T00:00:00\",\"2021-01-18T00:00:00\",\"2021-01-19T00:00:00\",\"2021-01-20T00:00:00\",\"2021-01-21T00:00:00\",\"2021-01-22T00:00:00\",\"2021-01-23T00:00:00\",\"2021-01-24T00:00:00\",\"2021-01-25T00:00:00\",\"2021-01-26T00:00:00\",\"2021-01-27T00:00:00\",\"2021-01-28T00:00:00\",\"2021-01-29T00:00:00\",\"2021-01-30T00:00:00\",\"2021-01-31T00:00:00\",\"2021-01-02T00:00:00\",\"2021-02-02T00:00:00\",\"2021-03-02T00:00:00\",\"2021-04-02T00:00:00\",\"2021-05-02T00:00:00\",\"2021-06-02T00:00:00\",\"2021-07-02T00:00:00\",\"2021-08-02T00:00:00\",\"2021-09-02T00:00:00\",\"2021-10-02T00:00:00\",\"2021-11-02T00:00:00\",\"2021-12-02T00:00:00\",\"2021-02-13T00:00:00\",\"2021-02-14T00:00:00\",\"2021-02-15T00:00:00\",\"2021-02-16T00:00:00\",\"2021-02-17T00:00:00\",\"2021-02-18T00:00:00\",\"2021-02-19T00:00:00\",\"2021-02-20T00:00:00\",\"2021-02-21T00:00:00\",\"2021-02-22T00:00:00\",\"2021-02-23T00:00:00\",\"2021-02-24T00:00:00\",\"2021-02-25T00:00:00\",\"2021-02-26T00:00:00\",\"2021-02-27T00:00:00\",\"2021-02-28T00:00:00\",\"2021-01-03T00:00:00\",\"2021-02-03T00:00:00\",\"2021-03-03T00:00:00\",\"2021-04-03T00:00:00\",\"2021-05-03T00:00:00\",\"2021-06-03T00:00:00\",\"2021-07-03T00:00:00\",\"2021-08-03T00:00:00\",\"2021-09-03T00:00:00\",\"2021-10-03T00:00:00\",\"2021-11-03T00:00:00\",\"2021-12-03T00:00:00\",\"2021-03-13T00:00:00\",\"2021-03-14T00:00:00\",\"2021-03-15T00:00:00\",\"2021-03-16T00:00:00\",\"2021-03-17T00:00:00\",\"2021-03-18T00:00:00\",\"2021-03-19T00:00:00\",\"2021-03-20T00:00:00\",\"2021-03-21T00:00:00\",\"2021-03-22T00:00:00\",\"2021-03-23T00:00:00\",\"2021-03-24T00:00:00\",\"2021-03-25T00:00:00\",\"2021-03-26T00:00:00\",\"2021-03-27T00:00:00\",\"2021-03-28T00:00:00\",\"2021-03-29T00:00:00\",\"2021-03-30T00:00:00\",\"2021-03-31T00:00:00\",\"2021-01-04T00:00:00\",\"2021-02-04T00:00:00\",\"2021-03-04T00:00:00\",\"2021-04-04T00:00:00\",\"2021-05-04T00:00:00\",\"2021-06-04T00:00:00\",\"2021-07-04T00:00:00\",\"2021-08-04T00:00:00\",\"2021-09-04T00:00:00\",\"2021-10-04T00:00:00\",\"2021-11-04T00:00:00\",\"2021-12-04T00:00:00\",\"2021-04-13T00:00:00\",\"2021-04-14T00:00:00\",\"2021-04-15T00:00:00\",\"2021-04-16T00:00:00\",\"2021-04-17T00:00:00\",\"2021-04-18T00:00:00\",\"2021-04-19T00:00:00\",\"2021-04-20T00:00:00\",\"2021-04-21T00:00:00\",\"2021-04-22T00:00:00\",\"2021-04-23T00:00:00\",\"2021-04-24T00:00:00\",\"2021-04-25T00:00:00\",\"2021-04-26T00:00:00\",\"2021-04-27T00:00:00\",\"2021-04-28T00:00:00\",\"2021-04-29T00:00:00\",\"2021-04-30T00:00:00\",\"2021-01-05T00:00:00\",\"2021-02-05T00:00:00\",\"2021-03-05T00:00:00\",\"2021-04-05T00:00:00\",\"2021-05-05T00:00:00\",\"2021-06-05T00:00:00\",\"2021-07-05T00:00:00\",\"2021-08-05T00:00:00\",\"2021-09-05T00:00:00\",\"2021-10-05T00:00:00\",\"2021-11-05T00:00:00\",\"2021-12-05T00:00:00\",\"2021-05-13T00:00:00\",\"2021-05-14T00:00:00\",\"2021-05-15T00:00:00\",\"2021-05-16T00:00:00\",\"2021-05-17T00:00:00\",\"2021-05-18T00:00:00\",\"2021-05-19T00:00:00\",\"2021-05-20T00:00:00\",\"2021-05-21T00:00:00\",\"2021-05-22T00:00:00\",\"2021-05-23T00:00:00\",\"2021-05-24T00:00:00\",\"2021-05-25T00:00:00\",\"2021-05-26T00:00:00\",\"2021-05-27T00:00:00\",\"2021-05-28T00:00:00\",\"2021-05-29T00:00:00\",\"2021-05-30T00:00:00\",\"2021-05-31T00:00:00\",\"2021-01-06T00:00:00\",\"2021-02-06T00:00:00\",\"2021-03-06T00:00:00\",\"2021-04-06T00:00:00\",\"2021-05-06T00:00:00\",\"2021-06-06T00:00:00\",\"2021-07-06T00:00:00\",\"2021-08-06T00:00:00\",\"2021-09-06T00:00:00\",\"2021-10-06T00:00:00\",\"2021-11-06T00:00:00\",\"2021-12-06T00:00:00\",\"2021-06-13T00:00:00\",\"2021-06-14T00:00:00\",\"2021-06-15T00:00:00\",\"2021-06-16T00:00:00\",\"2021-06-17T00:00:00\",\"2021-06-18T00:00:00\",\"2021-06-19T00:00:00\",\"2021-06-20T00:00:00\",\"2021-06-21T00:00:00\",\"2021-06-22T00:00:00\",\"2021-06-23T00:00:00\",\"2021-06-24T00:00:00\",\"2021-06-25T00:00:00\",\"2021-06-26T00:00:00\",\"2021-06-27T00:00:00\",\"2021-06-28T00:00:00\",\"2021-06-29T00:00:00\",\"2021-06-30T00:00:00\",\"2021-01-07T00:00:00\",\"2021-02-07T00:00:00\",\"2021-03-07T00:00:00\",\"2021-04-07T00:00:00\",\"2021-05-07T00:00:00\",\"2021-06-07T00:00:00\",\"2021-07-07T00:00:00\",\"2021-08-07T00:00:00\",\"2021-09-07T00:00:00\",\"2021-10-07T00:00:00\",\"2021-11-07T00:00:00\",\"2021-12-07T00:00:00\",\"2021-07-13T00:00:00\",\"2021-07-14T00:00:00\",\"2021-07-15T00:00:00\",\"2021-07-16T00:00:00\",\"2021-07-17T00:00:00\",\"2021-07-18T00:00:00\",\"2021-07-19T00:00:00\",\"2021-07-20T00:00:00\",\"2021-07-21T00:00:00\",\"2021-07-22T00:00:00\",\"2021-07-23T00:00:00\",\"2021-07-24T00:00:00\",\"2021-07-25T00:00:00\",\"2021-07-26T00:00:00\",\"2021-07-27T00:00:00\",\"2021-07-28T00:00:00\",\"2021-07-29T00:00:00\",\"2021-07-30T00:00:00\",\"2021-07-31T00:00:00\",\"2021-01-08T00:00:00\",\"2021-02-08T00:00:00\",\"2021-03-08T00:00:00\",\"2021-04-08T00:00:00\",\"2021-05-08T00:00:00\",\"2021-06-08T00:00:00\",\"2021-07-08T00:00:00\",\"2021-08-08T00:00:00\",\"2021-09-08T00:00:00\",\"2021-10-08T00:00:00\",\"2021-11-08T00:00:00\",\"2021-12-08T00:00:00\",\"2021-08-13T00:00:00\",\"2021-08-14T00:00:00\",\"2021-08-15T00:00:00\",\"2021-08-16T00:00:00\",\"2021-08-17T00:00:00\",\"2021-08-18T00:00:00\",\"2021-08-19T00:00:00\",\"2021-08-20T00:00:00\",\"2021-08-21T00:00:00\",\"2021-08-22T00:00:00\",\"2021-08-23T00:00:00\",\"2021-08-24T00:00:00\",\"2021-08-25T00:00:00\",\"2021-08-26T00:00:00\",\"2021-08-27T00:00:00\",\"2021-08-28T00:00:00\",\"2021-08-29T00:00:00\",\"2021-08-30T00:00:00\",\"2021-08-31T00:00:00\",\"2021-01-09T00:00:00\",\"2021-02-09T00:00:00\",\"2021-03-09T00:00:00\",\"2021-04-09T00:00:00\",\"2021-05-09T00:00:00\",\"2021-06-09T00:00:00\",\"2021-07-09T00:00:00\",\"2021-08-09T00:00:00\",\"2021-09-09T00:00:00\",\"2021-10-09T00:00:00\",\"2021-11-09T00:00:00\",\"2021-12-09T00:00:00\",\"2021-09-13T00:00:00\",\"2021-09-14T00:00:00\",\"2021-09-15T00:00:00\",\"2021-09-16T00:00:00\",\"2021-09-17T00:00:00\",\"2021-09-18T00:00:00\",\"2021-09-19T00:00:00\",\"2021-09-20T00:00:00\",\"2021-09-21T00:00:00\",\"2021-09-22T00:00:00\",\"2021-09-23T00:00:00\",\"2021-09-24T00:00:00\",\"2021-09-25T00:00:00\",\"2021-09-26T00:00:00\",\"2021-09-27T00:00:00\",\"2021-09-28T00:00:00\",\"2021-09-29T00:00:00\",\"2021-09-30T00:00:00\",\"2021-01-10T00:00:00\",\"2021-02-10T00:00:00\",\"2021-03-10T00:00:00\",\"2021-04-10T00:00:00\",\"2021-05-10T00:00:00\",\"2021-06-10T00:00:00\",\"2021-07-10T00:00:00\",\"2021-08-10T00:00:00\",\"2021-09-10T00:00:00\",\"2021-10-10T00:00:00\",\"2021-11-10T00:00:00\",\"2021-12-10T00:00:00\",\"2021-10-13T00:00:00\",\"2021-10-14T00:00:00\",\"2021-10-15T00:00:00\",\"2021-10-16T00:00:00\",\"2021-10-17T00:00:00\",\"2021-10-18T00:00:00\",\"2021-10-19T00:00:00\",\"2021-10-20T00:00:00\",\"2021-10-21T00:00:00\",\"2021-10-22T00:00:00\",\"2021-10-23T00:00:00\",\"2021-10-24T00:00:00\",\"2021-10-25T00:00:00\",\"2021-10-26T00:00:00\",\"2021-10-27T00:00:00\",\"2021-10-28T00:00:00\",\"2021-10-29T00:00:00\",\"2021-10-30T00:00:00\",\"2021-10-31T00:00:00\",\"2021-01-11T00:00:00\",\"2021-02-11T00:00:00\",\"2021-03-11T00:00:00\",\"2021-04-11T00:00:00\",\"2021-05-11T00:00:00\",\"2021-06-11T00:00:00\",\"2021-07-11T00:00:00\",\"2021-08-11T00:00:00\",\"2021-09-11T00:00:00\",\"2021-10-11T00:00:00\",\"2021-11-11T00:00:00\",\"2021-12-11T00:00:00\",\"2021-11-13T00:00:00\",\"2021-11-14T00:00:00\",\"2021-11-15T00:00:00\",\"2021-11-16T00:00:00\",\"2021-11-17T00:00:00\",\"2021-11-18T00:00:00\",\"2021-11-19T00:00:00\",\"2021-11-20T00:00:00\",\"2021-11-21T00:00:00\",\"2021-11-22T00:00:00\",\"2021-11-23T00:00:00\",\"2021-11-24T00:00:00\",\"2021-11-25T00:00:00\",\"2021-11-26T00:00:00\",\"2021-11-27T00:00:00\",\"2021-11-28T00:00:00\",\"2021-11-29T00:00:00\",\"2021-11-30T00:00:00\",\"2021-01-12T00:00:00\",\"2021-02-12T00:00:00\",\"2021-03-12T00:00:00\",\"2021-04-12T00:00:00\",\"2021-05-12T00:00:00\",\"2021-06-12T00:00:00\",\"2021-07-12T00:00:00\",\"2021-08-12T00:00:00\",\"2021-09-12T00:00:00\",\"2021-10-12T00:00:00\",\"2021-11-12T00:00:00\",\"2021-12-12T00:00:00\",\"2021-12-13T00:00:00\",\"2021-12-14T00:00:00\",\"2021-12-15T00:00:00\",\"2021-12-16T00:00:00\",\"2021-12-17T00:00:00\",\"2021-12-18T00:00:00\",\"2021-12-19T00:00:00\",\"2021-12-20T00:00:00\",\"2021-12-21T00:00:00\",\"2021-12-22T00:00:00\",\"2021-12-23T00:00:00\",\"2021-12-24T00:00:00\",\"2021-12-25T00:00:00\",\"2021-12-26T00:00:00\",\"2021-12-27T00:00:00\",\"2021-12-28T00:00:00\",\"2021-12-29T00:00:00\",\"2021-12-30T00:00:00\",\"2021-12-31T00:00:00\"],\"xaxis\":\"x\",\"y\":[803,767,726,814,679,716,772,755,739,784,794,758,829,903,862,760,700,830,887,938,971,998,947,926,1057,934,893,841,853,731,624,690,698,724,779,818,816,719,686,694,715,749,736,716,666,674,697,776,793,725,723,717,757,797,846,916,971,827,794,815,786,833,888,915,882,846,790,873,930,830,794,746,697,734,737,706,747,724,688,660,724,746,722,740,724,685,650,734,735,741,729,664,706,657,706,767,737,729,733,706,675,729,741,739,747,738,684,663,770,746,732,737,737,699,666,726,732,741,732,837,744,664,734,796,806,800,778,731,711,791,792,790,781,763,726,714,769,765,762,767,777,754,725,816,755,755,752,745,731,726,762,770,772,772,767,732,723,795,810,800,814,824,737,726,820,866,886,920,900,833,787,845,884,870,856,836,828,846,908,916,898,881,845,818,802,858,832,832,802,743,766,753,805,821,814,826,799,803,805,859,836,834,822,796,769,756,828,861,884,878,958,876,810,821,807,782,775,747,727,757,833,835,842,831,819,757,712,748,781,749,756,778,715,828,828,830,805,799,822,719,694,736,732,736,745,758,684,666,815,792,788,774,743,687,654,830,783,769,764,741,691,655,737,738,725,746,750,685,654,717,738,746,785,755,705,689,730,759,795,763,721,675,630,668,731,727,730,731,693,657,743,782,775,779,770,693,688,799,855,826,877,890,751,666,730,751,800,753,740,694,670,762,754,765,763,779,698,689,780,742,763,794,813,789,757,801,899,926,811,870,763,682,797,820,826,855,768,672,670,800,876,721,701,748,722,688,727,740,766,813,790,850,825,1008,952,845,983,896,758,858,971,926,946,873,847],\"yaxis\":\"y\",\"type\":\"bar\"}],                        {\"template\":{\"data\":{\"pie\":[{\"automargin\":true,\"type\":\"pie\"}]},\"layout\":{\"xaxis\":{\"showgrid\":true,\"title\":{\"standoff\":15}},\"yaxis\":{\"showgrid\":true,\"title\":{\"standoff\":15}}}},\"xaxis\":{\"anchor\":\"y\",\"domain\":[0.0,1.0],\"title\":{\"text\":\"fecha\"}},\"yaxis\":{\"anchor\":\"x\",\"domain\":[0.0,1.0],\"title\":{\"text\":\"consumo_MW_potencia\"}},\"coloraxis\":{\"colorbar\":{\"title\":{\"text\":\"consumo_MW_potencia\"}},\"colorscale\":[[0.0,\"#440154\"],[0.1111111111111111,\"#482878\"],[0.2222222222222222,\"#3e4989\"],[0.3333333333333333,\"#31688e\"],[0.4444444444444444,\"#26828e\"],[0.5555555555555556,\"#1f9e89\"],[0.6666666666666666,\"#35b779\"],[0.7777777777777778,\"#6ece58\"],[0.8888888888888888,\"#b5de2b\"],[1.0,\"#fde725\"]]},\"legend\":{\"tracegroupgap\":0},\"title\":{\"text\":\"Consumo maximo de energia en MW - Mendoza 2021\"},\"barmode\":\"relative\"},                        {\"responsive\": true}                    ).then(function(){\n",
              "                            \n",
              "var gd = document.getElementById('29e0c5f8-da8b-4353-b491-550b928b76e6');\n",
              "var x = new MutationObserver(function (mutations, observer) {{\n",
              "        var display = window.getComputedStyle(gd).display;\n",
              "        if (!display || display === 'none') {{\n",
              "            console.log([gd, 'removed!']);\n",
              "            Plotly.purge(gd);\n",
              "            observer.disconnect();\n",
              "        }}\n",
              "}});\n",
              "\n",
              "// Listen for the removal of the full notebook cells\n",
              "var notebookContainer = gd.closest('#notebook-container');\n",
              "if (notebookContainer) {{\n",
              "    x.observe(notebookContainer, {childList: true});\n",
              "}}\n",
              "\n",
              "// Listen for the clearing of the current output cell\n",
              "var outputEl = gd.closest('.output');\n",
              "if (outputEl) {{\n",
              "    x.observe(outputEl, {childList: true});\n",
              "}}\n",
              "\n",
              "                        })                };                            </script>        </div>\n",
              "</body>\n",
              "</html>"
            ]
          },
          "metadata": {}
        }
      ]
    },
    {
      "cell_type": "code",
      "metadata": {
        "id": "qPGn43OeuN12",
        "colab": {
          "base_uri": "https://localhost:8080/",
          "height": 542
        },
        "outputId": "3bed3e73-d8c7-4b9c-8a26-ca5956a18837"
      },
      "source": [
        "fig = px.bar(df_consumo_2020_2021, \n",
        "             x=\"fecha\", \n",
        "             y=\"consumo_MW_potencia\", \n",
        "             color=\"consumo_MW_potencia\",\n",
        "             hover_data=[df_consumo_2020_2021.temperatura, df_consumo_2020_2021.hora],\n",
        "             template=\"gridon\", \n",
        "             title=\"Consumo maximo de energia en MW - Mendoza 2020-2021\")\n",
        "fig.show()"
      ],
      "execution_count": 67,
      "outputs": [
        {
          "output_type": "display_data",
          "data": {
            "text/html": [
              "<html>\n",
              "<head><meta charset=\"utf-8\" /></head>\n",
              "<body>\n",
              "    <div>            <script src=\"https://cdnjs.cloudflare.com/ajax/libs/mathjax/2.7.5/MathJax.js?config=TeX-AMS-MML_SVG\"></script><script type=\"text/javascript\">if (window.MathJax) {MathJax.Hub.Config({SVG: {font: \"STIX-Web\"}});}</script>                <script type=\"text/javascript\">window.PlotlyConfig = {MathJaxConfig: 'local'};</script>\n",
              "        <script src=\"https://cdn.plot.ly/plotly-2.8.3.min.js\"></script>                <div id=\"36aee5c9-fd7b-44e6-84de-d3a63f7d36e1\" class=\"plotly-graph-div\" style=\"height:525px; width:100%;\"></div>            <script type=\"text/javascript\">                                    window.PLOTLYENV=window.PLOTLYENV || {};                                    if (document.getElementById(\"36aee5c9-fd7b-44e6-84de-d3a63f7d36e1\")) {                    Plotly.newPlot(                        \"36aee5c9-fd7b-44e6-84de-d3a63f7d36e1\",                        [{\"alignmentgroup\":\"True\",\"customdata\":[[\"32,1\",\"23:30\"],[\"35,8\",\"17:30\"],[\"37,4\",\"14:00\"],[\"37,6\",\"14:00\"],[\"34,9\",\"1:00\"],[\"28,7\",\"21:30\"],[\"34,3\",\"23:30\"],[\"38,4\",\"13:00\"],[\"33,5\",\"23:30\"],[\"30,9\",\"21:45\"],[\"36,3\",\"21:15\"],[\"31,7\",\"23:30\"],[\"35,8\",\"13:00\"],[\"33,8\",\"23:30\"],[\"28,1\",\"1:00\"],[\"28,9\",\"21:30\"],[\"33,6\",\"21:30\"],[\"35\",\"21:30\"],[\"35,2\",\"23:30\"],[\"38,4\",\"13:00\"],[\"34,9\",\"14:00\"],[\"36,6\",\"13:00\"],[\"38,4\",\"16:00\"],[\"35,9\",\"17:30\"],[\"37,2\",\"16:00\"],[\"36,4\",\"1:00\"],[\"34,3\",\"14:00\"],[\"34,8\",\"14:00\"],[\"29,6\",\"21:45\"],[\"33\",\"21:30\"],[\"36,3\",\"17:00\"],[\"37,6\",\"21:15\"],[\"36,5\",\"0:00\"],[\"38,4\",\"15:00\"],[\"34\",\"13:00\"],[\"26,8\",\"21:45\"],[\"30,4\",\"21:30\"],[\"28,5\",\"1:00\"],[\"29,7\",\"21:15\"],[\"24,7\",\"21:30\"],[\"25,6\",\"21:30\"],[\"29,9\",\"21:15\"],[\"32,7\",\"21:30\"],[\"22,9\",\"21:30\"],[\"30,4\",\"21:15\"],[\"35,9\",\"21:00\"],[\"35,4\",\"22:15\"],[\"28,7\",\"12:00\"],[\"28,8\",\"21:15\"],[\"33,5\",\"21:30\"],[\"28,7\",\"21:00\"],[\"23,2\",\"21:00\"],[\"28\",\"21:45\"],[\"30,8\",\"21:30\"],[\"32,1\",\"21:00\"],[\"30\",\"21:30\"],[\"32,6\",\"21:00\"],[\"35,2\",\"20:45\"],[\"35,6\",\"20:30\"],[\"35,5\",\"20:45\"],[\"35,9\",\"22:15\"],[\"36,9\",\"20:45\"],[\"37,9\",\"16:00\"],[\"36,9\",\"20:45\"],[\"35,8\",\"17:00\"],[\"37,5\",\"21:00\"],[\"32,9\",\"22:30\"],[\"33,5\",\"21:00\"],[\"33,1\",\"20:45\"],[\"32,7\",\"13:00\"],[\"32,1\",\"21:15\"],[\"35,5\",\"21:00\"],[\"28,4\",\"1:00\"],[\"27,7\",\"20:45\"],[\"30,8\",\"20:45\"],[\"28,2\",\"20:45\"],[\"29,2\",\"20:30\"],[\"31,8\",\"20:45\"],[\"32,9\",\"21:00\"],[\"33,4\",\"20:45\"],[\"34,1\",\"20:30\"],[\"34,3\",\"20:30\"],[\"34,6\",\"20:15\"],[\"25,7\",\"21:15\"],[\"26,6\",\"21:00\"],[\"29,4\",\"21:00\"],[\"30,1\",\"21:00\"],[\"26\",\"21:15\"],[\"24,9\",\"20:45\"],[\"21\",\"20:30\"],[\"22,9\",\"21:00\"],[\"25,5\",\"21:00\"],[\"27,4\",\"21:00\"],[\"26,6\",\"20:30\"],[\"27,1\",\"21:00\"],[\"20,3\",\"20:30\"],[\"21,8\",\"20:15\"],[\"25,1\",\"20:45\"],[\"25,7\",\"20:15\"],[\"26,7\",\"21:00\"],[\"25,6\",\"20:45\"],[\"22,1\",\"21:00\"],[\"22\",\"21:15\"],[\"24,1\",\"21:00\"],[\"26,3\",\"20:30\"],[\"27,2\",\"20:15\"],[\"28,5\",\"20:00\"],[\"29,7\",\"20:15\"],[\"29,4\",\"21:00\"],[\"26,9\",\"21:15\"],[\"24,5\",\"20:15\"],[\"25,1\",\"20:30\"],[\"27,6\",\"21:15\"],[\"24,2\",\"20:00\"],[\"21,3\",\"20:45\"],[\"20,9\",\"20:45\"],[\"19,1\",\"21:15\"],[\"21,7\",\"21:15\"],[null,null],[null,null],[\"22,4\",\"20:45\"],[\"24,5\",\"21:00\"],[\"26,7\",\"20:45\"],[\"23,4\",\"21:15\"],[\"15,1\",\"21:30\"],[\"18,7\",\"21:15\"],[\"20,9\",\"21:30\"],[\"22,6\",\"21:00\"],[\"24,4\",\"21:00\"],[\"24,3\",\"21:30\"],[\"21,9\",\"21:15\"],[\"21,9\",\"20:45\"],[\"18,1\",\"20:30\"],[\"19,5\",\"20:45\"],[\"24,6\",\"20:30\"],[\"27,3\",\"20:30\"],[\"27,5\",\"21:15\"],[\"26\",\"21:15\"],[\"25\",\"21:00\"],[\"16,2\",\"21:15\"],[\"11,4\",\"21:15\"],[\"13,1\",\"21:30\"],[\"16\",\"21:00\"],[\"22,1\",\"21:30\"],[\"22,7\",\"21:00\"],[\"24,1\",\"21:15\"],[\"23,1\",\"20:45\"],[\"21,3\",\"21:30\"],[\"18,6\",\"21:15\"],[\"13,6\",\"21:30\"],[\"15,5\",\"21:15\"],[\"17,1\",\"21:15\"],[\"17,9\",\"21:15\"],[\"8,9\",\"21:15\"],[\"13,8\",\"21:15\"],[\"17,9\",\"20:45\"],[\"20,4\",\"20:30\"],[\"18,1\",\"21:30\"],[\"19,7\",\"21:00\"],[\"20\",\"21:15\"],[\"20,7\",\"21:15\"],[\"22,8\",\"21:00\"],[\"17,5\",\"20:45\"],[\"14,7\",\"21:15\"],[\"15,8\",\"22:00\"],[\"16,6\",\"21:15\"],[\"17,9\",\"21:45\"],[\"16,5\",\"21:30\"],[\"17,5\",\"21:15\"],[\"21,1\",\"21:00\"],[\"19,7\",\"21:00\"],[\"16,8\",\"22:00\"],[\"17,7\",\"21:00\"],[\"14,8\",\"21:30\"],[\"8,4\",\"21:15\"],[\"14\",\"21:30\"],[\"14,5\",\"21:15\"],[\"12,7\",\"21:30\"],[\"7,9\",\"22:00\"],[\"14\",\"21:30\"],[\"12,3\",\"21:15\"],[\"13,9\",\"21:15\"],[\"15,4\",\"21:15\"],[\"15\",\"21:15\"],[\"10,3\",\"20:00\"],[\"13,5\",\"21:30\"],[\"9,7\",\"21:30\"],[\"12,9\",\"21:15\"],[\"14,2\",\"20:45\"],[\"13,1\",\"21:45\"],[\"15,5\",\"21:00\"],[\"16,2\",\"21:15\"],[\"14,8\",\"21:15\"],[\"6,9\",\"21:15\"],[\"14,1\",\"21:00\"],[\"16,4\",\"21:30\"],[\"19,2\",\"21:15\"],[\"18,5\",\"21:00\"],[\"20,5\",\"21:00\"],[\"20,6\",\"21:30\"],[\"14,9\",\"21:45\"],[\"10,5\",\"21:15\"],[\"9,7\",\"21:00\"],[\"10,5\",\"21:45\"],[\"13,2\",\"21:00\"],[\"16,6\",\"21:15\"],[\"21,4\",\"21:30\"],[\"13,7\",\"21:15\"],[\"14,1\",\"21:15\"],[\"16,6\",\"21:30\"],[\"17\",\"21:15\"],[\"18,2\",\"21:30\"],[\"21,4\",\"21:15\"],[\"21,5\",\"21:30\"],[\"21,4\",\"21:15\"],[\"21,3\",\"21:30\"],[\"22,3\",\"21:30\"],[\"14,1\",\"21:15\"],[\"17,3\",\"21:00\"],[\"21,4\",\"21:15\"],[\"24,4\",\"21:15\"],[\"22\",\"21:15\"],[\"13,7\",\"21:15\"],[\"16,7\",\"21:15\"],[\"20\",\"21:45\"],[\"17,6\",\"22:15\"],[\"19,9\",\"21:45\"],[\"21,5\",\"22:00\"],[\"21,7\",\"21:30\"],[\"18,5\",\"21:45\"],[\"9,1\",\"11:00\"],[\"14\",\"21:45\"],[\"18\",\"21:30\"],[\"19,4\",\"21:45\"],[\"20,6\",\"21:45\"],[\"22\",\"21:15\"],[\"22,2\",\"21:15\"],[\"15,1\",\"12:00\"],[\"19,9\",\"11:00\"],[\"23,1\",\"13:00\"],[\"15,8\",\"21:00\"],[\"17,7\",\"22:00\"],[\"20,3\",\"21:30\"],[\"18,5\",\"12:00\"],[\"19,1\",\"21:45\"],[\"22,3\",\"11:00\"],[\"18,3\",\"11:00\"],[\"18,5\",\"21:00\"],[\"18,1\",\"21:15\"],[\"20,8\",\"21:30\"],[\"26,3\",\"11:00\"],[\"23,7\",\"12:00\"],[\"28,3\",\"12:00\"],[\"20,6\",\"9:00\"],[\"25,9\",\"21:00\"],[\"22,1\",\"20:30\"],[\"22,5\",\"21:15\"],[\"26,2\",\"21:15\"],[\"25,1\",\"21:15\"],[\"30,5\",\"20:45\"],[\"23,4\",\"20:30\"],[\"18,5\",\"21:30\"],[\"23,6\",\"22:15\"],[\"25,7\",\"21:30\"],[\"27,9\",\"21:00\"],[\"27,9\",\"21:00\"],[\"30,6\",\"20:30\"],[\"29,1\",\"20:15\"],[\"22,4\",\"21:00\"],[\"23,4\",\"21:30\"],[\"27\",\"21:30\"],[\"30,5\",\"21:30\"],[\"28,5\",\"20:30\"],[\"20,3\",\"20:45\"],[\"20,2\",\"20:15\"],[\"9,9\",\"21:15\"],[\"13,3\",\"21:30\"],[\"21\",\"21:30\"],[\"27,2\",\"20:45\"],[\"24,4\",\"21:00\"],[\"27,2\",\"21:30\"],[\"27,2\",\"20:30\"],[\"34,9\",\"20:45\"],[\"23,9\",\"21:15\"],[\"29\",\"21:15\"],[\"32,4\",\"21:00\"],[\"28,5\",\"13:00\"],[\"29,4\",\"13:00\"],[\"31,2\",\"11:00\"],[\"35,9\",\"21:00\"],[\"34,3\",\"20:45\"],[\"28\",\"13:00\"],[\"26,7\",\"13:00\"],[\"23,5\",\"12:00\"],[\"27,5\",\"13:00\"],[\"30,7\",\"13:00\"],[\"33,4\",\"20:30\"],[\"20,8\",\"21:15\"],[\"28,3\",\"21:30\"],[\"30,3\",\"13:00\"],[\"24,5\",\"12:00\"],[\"21,8\",\"12:00\"],[\"27,8\",\"13:00\"],[\"30,6\",\"21:00\"],[\"31,7\",\"21:30\"],[\"33,7\",\"13:00\"],[\"35,2\",\"13:00\"],[\"34,8\",\"13:00\"],[\"26,8\",\"13:00\"],[\"31\",\"13:00\"],[\"31,4\",\"21:00\"],[\"33,1\",\"21:30\"],[\"31,1\",\"13:00\"],[\"29,4\",\"13:00\"],[\"30,9\",\"13:00\"],[\"32,3\",\"13:00\"],[\"31,4\",\"13:00\"],[\"19,9\",\"21:15\"],[\"27,4\",\"21:30\"],[\"31,2\",\"21:15\"],[\"22\",\"21:30\"],[\"29,9\",\"21:15\"],[\"29\",\"13:00\"],[\"30\",\"13:00\"],[\"29,7\",\"21:15\"],[\"33,6\",\"21:45\"],[\"35,4\",\"22:15\"],[\"29,6\",\"13:00\"],[\"29,9\",\"21:15\"],[\"26,9\",\"21:30\"],[\"33,3\",\"13:00\"],[\"34,1\",\"21:15\"],[\"29,7\",\"1:00\"],[\"31,3\",\"13:00\"],[\"32,3\",\"13:00\"],[\"30,4\",\"13:00\"],[\"29,4\",\"13:00\"],[\"28,5\",\"13:00\"],[\"29,4\",\"21:15\"],[\"32,4\",\"21:30\"],[\"34,6\",\"23:30\"],[\"37,3\",\"23:30\"],[\"34,7\",\"13:00\"],[\"38,4\",\"13:00\"],[\"29,3\",\"1:00\"],[\"37,8\",\"21:30\"],[\"29,2\",\"7:12\"],[\"33,8\",\"13:00\"],[\"28,7\",\"13:00\"],[\"35,4\",\"13:00\"],[\"36,8\",\"13:00\"],[\"33,8\",\"13:00\"],[\"27,9\",\"13:00\"],[\"28,3\",\"22:15\"],[\"34,6\",\"23:30\"],[\"36,8\",\"13:00\"],[\"37,6\",\"14:00\"],[\"35,8\",\"14:00\"],[\"36,8\",\"23:30\"],[\"34,8\",\"13:00\"],[\"33,7\",\"23:30\"],[\"31,8\",\"21:45\"],[\"37,1\",\"13:00\"],[\"29,3\",\"1:00\"],[\"34,7\",\"21:15\"],[\"35,8\",\"23:30\"],[\"28,5\",\"1:00\"],[\"31\",\"23:30\"],[\"30,4\",\"13:00\"],[\"22,3\",\"21:30\"],[\"28,2\",\"21:45\"],[\"33,9\",\"21:45\"],[\"30,2\",\"13:00\"],[\"32,3\",\"21:30\"],[\"35,5\",\"23:30\"],[\"29,9\",\"13:00\"],[\"27,4\",\"21:45\"],[\"33,5\",\"13:00\"],[\"34,3\",\"13:00\"],[\"33,8\",\"13:00\"],[\"26,1\",\"1:00\"],[\"30,5\",\"21:45\"],[\"34\",\"13:00\"],[\"35,7\",\"14:00\"],[\"36,6\",\"13:00\"],[\"37,4\",\"14:00\"],[\"38,2\",\"14:00\"],[\"38,4\",\"14:00\"],[\"38,4\",\"23:30\"],[\"36,6\",\"15:00\"],[\"32,6\",\"13:00\"],[\"32,9\",\"21:45\"],[\"30\",\"1:00\"],[\"33,3\",\"13:00\"],[\"21,9\",\"1:00\"],[\"22\",\"22:15\"],[\"19,8\",\"21:45\"],[\"25\",\"21:30\"],[\"30\",\"21:45\"],[\"33,2\",\"21:45\"],[\"34,6\",\"21:15\"],[\"36,5\",\"21:30\"],[\"35,4\",\"1:00\"],[\"17,5\",\"22:00\"],[\"22,1\",\"21:30\"],[\"27,3\",\"21:15\"],[\"30,4\",\"21:15\"],[\"30,5\",\"13:00\"],[\"32\",\"21:00\"],[\"33,4\",\"20:30\"],[\"27,4\",\"21:30\"],[\"27,6\",\"21:45\"],[\"32\",\"21:45\"],[\"31,6\",\"21:00\"],[\"23,6\",\"21:15\"],[\"29,1\",\"21:00\"],[\"31,7\",\"21:15\"],[\"27,4\",\"21:00\"],[\"33,3\",\"21:15\"],[\"33,5\",\"21:00\"],[\"35,1\",\"16:00\"],[\"36,4\",\"17:00\"],[\"32,3\",\"21:00\"],[\"32,1\",\"22:15\"],[\"31,9\",\"21:15\"],[\"29,4\",\"20:45\"],[\"32,5\",\"20:30\"],[\"35,3\",\"20:45\"],[\"33,6\",\"20:30\"],[\"35,9\",\"20:45\"],[\"36,5\",\"22:15\"],[\"26,8\",\"20:45\"],[\"32,7\",\"20:45\"],[\"35,6\",\"20:45\"],[\"28,5\",\"20:45\"],[\"26,7\",\"13:00\"],[\"29,9\",\"20:45\"],[\"28,2\",\"21:00\"],[\"26,8\",\"13:00\"],[\"27,8\",\"20:45\"],[\"19,1\",\"20:45\"],[\"14,8\",\"20:30\"],[\"21,3\",\"21:15\"],[\"24\",\"21:15\"],[\"26,1\",\"21:00\"],[\"25,8\",\"21:00\"],[\"29\",\"20:45\"],[\"27,5\",\"20:45\"],[\"20,6\",\"20:30\"],[\"19,3\",\"20:45\"],[\"24,4\",\"21:00\"],[\"26,4\",\"21:15\"],[\"28\",\"20:45\"],[\"29\",\"20:15\"],[\"28,2\",\"20:30\"],[\"27,5\",\"20:15\"],[\"28,6\",\"21:30\"],[\"30\",\"20:30\"],[\"29,3\",\"21:15\"],[\"30\",\"20:30\"],[\"28,9\",\"20:15\"],[\"22,8\",\"20:15\"],[\"23,6\",\"20:45\"],[\"17,7\",\"20:30\"],[\"13,5\",\"20:15\"],[\"23,2\",\"22:00\"],[\"25,8\",\"21:15\"],[\"27,1\",\"21:15\"],[\"27,7\",\"20:45\"],[\"29,3\",\"20:30\"],[\"29,2\",\"20:15\"],[\"27,4\",\"20:15\"],[\"28,1\",\"21:15\"],[\"30\",\"20:00\"],[\"29,3\",\"20:00\"],[\"23,7\",\"20:45\"],[\"21,4\",\"21:00\"],[\"23,6\",\"20:30\"],[\"22,1\",\"20:45\"],[\"24,1\",\"21:15\"],[\"25\",\"21:00\"],[\"25,5\",\"20:45\"],[\"26,5\",\"20:15\"],[\"26,7\",\"21:00\"],[\"24,4\",\"20:00\"],[\"23,4\",\"21:15\"],[\"22,9\",\"21:15\"],[\"20,2\",\"21:15\"],[\"12,8\",\"20:30\"],[\"16,9\",\"21:30\"],[\"19,9\",\"21:30\"],[\"19,8\",\"11:00\"],[\"19,4\",\"21:15\"],[\"18,1\",\"21:45\"],[\"18,6\",\"21:00\"],[\"19,3\",\"21:30\"],[\"21,6\",\"21:15\"],[\"21,5\",\"21:15\"],[\"22,7\",\"21:15\"],[\"22,1\",\"21:00\"],[\"21,6\",\"21:15\"],[\"21,7\",\"21:30\"],[\"21,8\",\"21:00\"],[\"23,3\",\"20:15\"],[\"16,8\",\"20:00\"],[\"15,3\",\"20:15\"],[\"17,5\",\"21:00\"],[\"16,4\",\"20:00\"],[\"19,1\",\"21:45\"],[\"22,5\",\"19:30\"],[\"22,5\",\"21:30\"],[\"21\",\"20:45\"],[\"16,6\",\"21:30\"],[\"16,2\",\"20:45\"],[\"18,5\",\"21:00\"],[\"20,9\",\"21:15\"],[\"22,3\",\"21:30\"],[\"19,4\",\"21:00\"],[\"21,9\",\"21:30\"],[\"19,3\",\"21:00\"],[\"16,9\",\"21:30\"],[\"17,4\",\"21:45\"],[\"19,1\",\"21:30\"],[\"18,9\",\"21:15\"],[\"21,1\",\"21:00\"],[\"16,4\",\"21:00\"],[\"17,7\",\"21:15\"],[\"21,1\",\"21:00\"],[\"23,2\",\"21:30\"],[\"12,8\",\"20:30\"],[\"8,1\",\"21:15\"],[\"6,1\",\"21:00\"],[\"4,3\",\"20:30\"],[\"5\",\"19:15\"],[\"9,3\",\"21:45\"],[\"11,3\",\"21:45\"],[\"14,2\",\"21:30\"],[\"14,9\",\"21:45\"],[\"16,8\",\"21:15\"],[\"17,3\",\"21:00\"],[\"16,8\",\"20:15\"],[\"10,1\",\"20:45\"],[\"8,9\",\"21:30\"],[\"11,5\",\"21:30\"],[\"13\",\"22:00\"],[\"13,3\",\"20:30\"],[\"15,7\",\"21:15\"],[\"16,6\",\"20:45\"],[\"17,2\",\"20:45\"],[\"18,8\",\"21:45\"],[\"19\",\"21:30\"],[\"19,2\",\"21:00\"],[\"18,3\",\"21:15\"],[\"19,3\",\"21:00\"],[\"22,5\",\"21:15\"],[\"16,7\",\"20:45\"],[\"19,1\",\"21:00\"],[\"19,4\",\"21:30\"],[\"18,2\",\"21:30\"],[\"19,1\",\"20:45\"],[\"18,1\",\"21:00\"],[\"19,1\",\"20:00\"],[\"12,3\",\"21:00\"],[\"14\",\"21:45\"],[\"16,3\",\"21:30\"],[\"18,8\",\"20:30\"],[\"20,9\",\"21:15\"],[\"20,9\",\"21:00\"],[\"20,6\",\"20:45\"],[\"16,8\",\"21:15\"],[\"17,2\",\"21:45\"],[\"15\",\"21:45\"],[\"14,5\",\"21:15\"],[\"13,2\",\"22:00\"],[\"15,8\",\"21:30\"],[\"17,3\",\"11:00\"],[\"18,9\",\"21:00\"],[\"18,2\",\"21:45\"],[\"20,8\",\"21:00\"],[\"22,7\",\"21:15\"],[\"22,2\",\"22:00\"],[\"22,9\",\"21:30\"],[\"24\",\"11:00\"],[\"18,1\",\"20:45\"],[\"14,2\",\"21:30\"],[\"13,1\",\"21:45\"],[\"16,7\",\"21:15\"],[\"17,4\",\"21:30\"],[\"17,7\",\"21:30\"],[\"18,5\",\"21:15\"],[\"21\",\"21:00\"],[\"20,9\",\"21:30\"],[\"24,9\",\"21:30\"],[\"23,3\",\"22:00\"],[\"27,3\",\"11:00\"],[\"22,5\",\"21:15\"],[\"18,8\",\"21:45\"],[\"23\",\"21:15\"],[\"20,8\",\"22:00\"],[\"14,2\",\"21:15\"],[\"17,3\",\"21:30\"],[\"20,3\",\"21:00\"],[\"22,2\",\"11:00\"],[\"19,2\",\"11:00\"],[\"23,8\",\"11:00\"],[\"26,2\",\"21:15\"],[\"28,3\",\"11:00\"],[\"28,7\",\"12:00\"],[\"22,8\",\"21:30\"],[\"20,6\",\"11:00\"],[\"19,3\",\"11:00\"],[\"23\",\"20:45\"],[\"24,7\",\"21:15\"],[\"22,3\",\"12:00\"],[\"13,5\",\"21:30\"],[\"18,3\",\"21:30\"],[\"19,1\",\"21:30\"],[\"22,9\",\"21:15\"],[\"26,1\",\"20:45\"],[\"26,8\",\"21:30\"],[\"17,8\",\"19:45\"],[\"19,1\",\"21:15\"],[\"22,6\",\"20:45\"],[\"25,3\",\"12:00\"],[\"27,6\",\"12:00\"],[\"26\",\"20:30\"],[\"23,9\",\"21:15\"],[\"19,2\",\"21:15\"],[\"22,3\",\"12:00\"],[\"23,9\",\"21:15\"],[\"26,7\",\"21:00\"],[\"28,7\",\"12:00\"],[\"32,7\",\"21:15\"],[\"21,2\",\"21:00\"],[\"22,3\",\"21:15\"],[\"23,5\",\"21:30\"],[\"28,3\",\"12:00\"],[\"24,6\",\"20:15\"],[\"24,9\",\"12:00\"],[\"21,4\",\"21:15\"],[\"19,3\",\"22:00\"],[\"24,7\",\"21:15\"],[\"27,7\",\"12:00\"],[\"16,5\",\"21:15\"],[\"22,5\",\"11:00\"],[\"22,8\",\"21:00\"],[\"22,8\",\"21:00\"],[\"24,7\",\"21:30\"],[\"28,3\",\"21:30\"],[\"30,1\",\"20:30\"],[\"27\",\"12:00\"],[\"23,4\",\"12:00\"],[\"20,2\",\"21:00\"],[\"25,9\",\"11:00\"],[\"24\",\"21:30\"],[\"26,4\",\"21:30\"],[\"30,1\",\"12:00\"],[\"32,1\",\"12:00\"],[\"30,4\",\"12:00\"],[\"25,1\",\"12:00\"],[\"25\",\"20:45\"],[\"29,8\",\"21:45\"],[\"38,4\",\"21:00\"],[\"13,4\",\"13:00\"],[\"34,5\",\"13:00\"],[\"37,2\",\"20:45\"],[\"35\",\"13:00\"],[\"30,6\",\"1:00\"],[\"18,2\",\"7:12\"],[\"20,4\",\"20:45\"],[\"30,4\",\"21:00\"],[\"33,8\",\"21:00\"],[\"22,8\",\"21:15\"],[\"22,5\",\"21:15\"],[\"25,6\",\"21:30\"],[\"28,7\",\"21:45\"],[\"32,3\",\"21:45\"],[\"25,2\",\"12:00\"],[\"29\",\"21:00\"],[\"29,3\",\"21:00\"],[\"31,1\",\"21:00\"],[\"25\",\"21:00\"],[\"28,9\",\"21:45\"],[\"33,4\",\"13:00\"],[\"20\",\"21:30\"],[\"27,7\",\"21:30\"],[\"32,2\",\"21:15\"],[\"32,4\",\"13:00\"],[\"35,9\",\"21:00\"],[\"36,6\",\"21:30\"],[\"33,4\",\"23:30\"],[\"35,1\",\"21:00\"],[\"32,4\",\"12:00\"],[\"31,8\",\"12:00\"],[\"34,8\",\"13:00\"],[\"27\",\"1:00\"],[\"28,1\",\"22:15\"],[\"33,6\",\"21:00\"],[\"33,4\",\"13:00\"],[\"31,9\",\"13:00\"],[\"30,6\",\"13:00\"],[\"24\",\"12:00\"],[\"20,8\",\"21:15\"],[\"26,3\",\"22:15\"],[\"33,1\",\"21:15\"],[\"35,7\",\"13:00\"],[\"29,1\",\"1:00\"],[\"18,5\",\"21:45\"],[\"28,4\",\"21:15\"],[\"34,3\",\"22:00\"],[\"25,5\",\"22.15\"],[\"25,6\",\"21:15\"],[\"25,7\",\"21:45\"],[\"32,3\",\"21:45\"],[\"32\",\"13:00\"],[\"33,2\",\"21:30\"],[\"36,4\",\"21:15\"],[\"35,7\",\"23:00\"],[\"37,7\",\"14:00\"],[\"34\",\"21:45\"],[\"32,7\",\"21:35\"],[\"36,1\",\"16:00\"],[\"35,2\",\"17:00\"],[\"34,7\",\"22:00\"],[\"37,6\",\"23:30\"],[\"33,8\",\"14:00\"],[\"33,6\",\"13:00\"],[\"37\",\"16:00\"],[\"30,4\",\"13:00\"],[\"35,9\",\"21:15\"]],\"hovertemplate\":\"fecha=%{x}<br>consumo_MW_potencia=%{marker.color}<br>temperatura=%{customdata[0]}<br>hora=%{customdata[1]}<extra></extra>\",\"legendgroup\":\"\",\"marker\":{\"color\":[787.0,932.0,974.0,927.0,794.0,777.0,834.0,932.0,875.0,840.0,858.0,815.0,945.0,937.0,870.0,783.0,824.0,836.0,874.0,1069.0,967.0,979.0,1043.0,986.0,927.0,862.0,947.0,988.0,805.0,882.0,922.0,892.0,874.0,1071.0,971.0,799.0,850.0,775.0,721.0,657.0,710.0,760.0,815.0,720.0,781.0,806.0,813.0,842.0,793.0,843.0,782.0,739.0,727.0,704.0,720.0,748.0,824.0,875.0,883.0,852.0,803.0,972.0,987.0,1089.0,1022.0,972.0,948.0,946.0,947.0,967.0,923.0,976.0,856.0,720.0,811.0,802.0,810.0,813.0,787.0,775.0,734.0,795.0,802.0,691.0,708.0,717.0,706.0,669.0,693.0,666.0,677.0,695.0,683.0,655.0,638.0,687.0,687.0,695.0,680.0,637.0,652.0,610.0,678.0,690.0,683.0,671.0,665.0,642.0,619.0,663.0,673.0,672.0,668.0,665.0,646.0,624.0,669.0,673.0,null,null,619.0,643.0,619.0,669.0,706.0,724.0,725.0,707.0,674.0,641.0,709.0,715.0,743.0,740.0,708.0,665.0,636.0,692.0,708.0,749.0,800.0,817.0,771.0,699.0,693.0,729.0,729.0,742.0,745.0,743.0,751.0,797.0,791.0,856.0,784.0,778.0,728.0,708.0,779.0,770.0,759.0,754.0,745.0,745.0,730.0,760.0,791.0,799.0,796.0,740.0,722.0,701.0,768.0,775.0,811.0,817.0,817.0,789.0,807.0,879.0,884.0,860.0,852.0,831.0,841.0,805.0,877.0,862.0,872.0,836.0,822.0,878.0,777.0,900.0,892.0,865.0,832.0,825.0,751.0,710.0,775.0,841.0,887.0,890.0,870.0,826.0,769.0,852.0,864.0,875.0,853.0,811.0,766.0,713.0,751.0,737.0,739.0,792.0,780.0,732.0,686.0,742.0,940.0,944.0,930.0,903.0,897.0,889.0,922.0,967.0,861.0,847.0,811.0,754.0,724.0,762.0,764.0,807.0,801.0,761.0,748.0,723.0,762.0,781.0,774.0,763.0,798.0,732.0,708.0,744.0,766.0,745.0,708.0,826.0,763.0,744.0,788.0,804.0,791.0,740.0,761.0,761.0,751.0,795.0,773.0,784.0,793.0,751.0,741.0,723.0,769.0,768.0,807.0,806.0,826.0,822.0,812.0,818.0,803.0,799.0,765.0,774.0,740.0,694.0,795.0,782.0,740.0,763.0,758.0,728.0,687.0,755.0,758.0,756.0,731.0,750.0,721.0,641.0,721.0,738.0,736.0,753.0,752.0,690.0,665.0,758.0,786.0,817.0,757.0,774.0,727.0,679.0,757.0,736.0,758.0,810.0,734.0,637.0,627.0,723.0,683.0,708.0,727.0,728.0,694.0,690.0,755.0,789.0,765.0,738.0,855.0,775.0,693.0,792.0,841.0,770.0,772.0,766.0,704.0,693.0,762.0,843.0,885.0,1029.0,846.0,810.0,721.0,837.0,806.0,866.0,969.0,904.0,745.0,709.0,872.0,958.0,973.0,900.0,782.0,851.0,805.0,853.0,960.0,864.0,817.0,803.0,767.0,726.0,814.0,679.0,716.0,772.0,755.0,739.0,784.0,794.0,758.0,829.0,903.0,862.0,760.0,700.0,830.0,887.0,938.0,971.0,998.0,947.0,926.0,1057.0,934.0,893.0,841.0,853.0,731.0,624.0,690.0,698.0,724.0,779.0,818.0,816.0,719.0,686.0,694.0,715.0,749.0,736.0,716.0,666.0,674.0,697.0,776.0,793.0,725.0,723.0,717.0,757.0,797.0,846.0,916.0,971.0,827.0,794.0,815.0,786.0,833.0,888.0,915.0,882.0,846.0,790.0,873.0,930.0,830.0,794.0,746.0,697.0,734.0,737.0,706.0,747.0,724.0,688.0,660.0,724.0,746.0,722.0,740.0,724.0,685.0,650.0,734.0,735.0,741.0,729.0,664.0,706.0,657.0,706.0,767.0,737.0,729.0,733.0,706.0,675.0,729.0,741.0,739.0,747.0,738.0,684.0,663.0,770.0,746.0,732.0,737.0,737.0,699.0,666.0,726.0,732.0,741.0,732.0,837.0,744.0,664.0,734.0,796.0,806.0,800.0,778.0,731.0,711.0,791.0,792.0,790.0,781.0,763.0,726.0,714.0,769.0,765.0,762.0,767.0,777.0,754.0,725.0,816.0,755.0,755.0,752.0,745.0,731.0,726.0,762.0,770.0,772.0,772.0,767.0,732.0,723.0,795.0,810.0,800.0,814.0,824.0,737.0,726.0,820.0,866.0,886.0,920.0,900.0,833.0,787.0,845.0,884.0,870.0,856.0,836.0,828.0,846.0,908.0,916.0,898.0,881.0,845.0,818.0,802.0,858.0,832.0,832.0,802.0,743.0,766.0,753.0,805.0,821.0,814.0,826.0,799.0,803.0,805.0,859.0,836.0,834.0,822.0,796.0,769.0,756.0,828.0,861.0,884.0,878.0,958.0,876.0,810.0,821.0,807.0,782.0,775.0,747.0,727.0,757.0,833.0,835.0,842.0,831.0,819.0,757.0,712.0,748.0,781.0,749.0,756.0,778.0,715.0,828.0,828.0,830.0,805.0,799.0,822.0,719.0,694.0,736.0,732.0,736.0,745.0,758.0,684.0,666.0,815.0,792.0,788.0,774.0,743.0,687.0,654.0,830.0,783.0,769.0,764.0,741.0,691.0,655.0,737.0,738.0,725.0,746.0,750.0,685.0,654.0,717.0,738.0,746.0,785.0,755.0,705.0,689.0,730.0,759.0,795.0,763.0,721.0,675.0,630.0,668.0,731.0,727.0,730.0,731.0,693.0,657.0,743.0,782.0,775.0,779.0,770.0,693.0,688.0,799.0,855.0,826.0,877.0,890.0,751.0,666.0,730.0,751.0,800.0,753.0,740.0,694.0,670.0,762.0,754.0,765.0,763.0,779.0,698.0,689.0,780.0,742.0,763.0,794.0,813.0,789.0,757.0,801.0,899.0,926.0,811.0,870.0,763.0,682.0,797.0,820.0,826.0,855.0,768.0,672.0,670.0,800.0,876.0,721.0,701.0,748.0,722.0,688.0,727.0,740.0,766.0,813.0,790.0,850.0,825.0,1008.0,952.0,845.0,983.0,896.0,758.0,858.0,971.0,926.0,946.0,873.0,847.0],\"coloraxis\":\"coloraxis\",\"pattern\":{\"shape\":\"\"}},\"name\":\"\",\"offsetgroup\":\"\",\"orientation\":\"v\",\"showlegend\":false,\"textposition\":\"auto\",\"x\":[\"2020-01-01T00:00:00\",\"2020-02-01T00:00:00\",\"2020-03-01T00:00:00\",\"2020-04-01T00:00:00\",\"2020-05-01T00:00:00\",\"2020-06-01T00:00:00\",\"2020-07-01T00:00:00\",\"2020-08-01T00:00:00\",\"2020-09-01T00:00:00\",\"2020-10-01T00:00:00\",\"2020-11-01T00:00:00\",\"2020-12-01T00:00:00\",\"2020-01-13T00:00:00\",\"2020-01-14T00:00:00\",\"2020-01-15T00:00:00\",\"2020-01-16T00:00:00\",\"2020-01-17T00:00:00\",\"2020-01-18T00:00:00\",\"2020-01-19T00:00:00\",\"2020-01-20T00:00:00\",\"2020-01-21T00:00:00\",\"2020-01-22T00:00:00\",\"2020-01-23T00:00:00\",\"2020-01-24T00:00:00\",\"2020-01-25T00:00:00\",\"2020-01-26T00:00:00\",\"2020-01-27T00:00:00\",\"2020-01-28T00:00:00\",\"2020-01-29T00:00:00\",\"2020-01-30T00:00:00\",\"2020-01-31T00:00:00\",\"2020-01-02T00:00:00\",\"2020-02-02T00:00:00\",\"2020-03-02T00:00:00\",\"2020-04-02T00:00:00\",\"2020-05-02T00:00:00\",\"2020-06-02T00:00:00\",\"2020-07-02T00:00:00\",\"2020-08-02T00:00:00\",\"2020-09-02T00:00:00\",\"2020-10-02T00:00:00\",\"2020-11-02T00:00:00\",\"2020-12-02T00:00:00\",\"2020-02-13T00:00:00\",\"2020-02-14T00:00:00\",\"2020-02-15T00:00:00\",\"2020-02-16T00:00:00\",\"2020-02-17T00:00:00\",\"2020-02-18T00:00:00\",\"2020-02-19T00:00:00\",\"2020-02-20T00:00:00\",\"2020-02-21T00:00:00\",\"2020-02-22T00:00:00\",\"2020-02-23T00:00:00\",\"2020-02-24T00:00:00\",\"2020-02-25T00:00:00\",\"2020-02-26T00:00:00\",\"2020-02-27T00:00:00\",\"2020-02-28T00:00:00\",\"2020-02-29T00:00:00\",\"2020-01-03T00:00:00\",\"2020-03-03T00:00:00\",\"2020-04-03T00:00:00\",\"2020-05-03T00:00:00\",\"2020-06-03T00:00:00\",\"2020-07-03T00:00:00\",\"2020-08-03T00:00:00\",\"2020-09-03T00:00:00\",\"2020-10-03T00:00:00\",\"2020-11-03T00:00:00\",\"2020-12-03T00:00:00\",\"2020-03-13T00:00:00\",\"2020-03-14T00:00:00\",\"2020-03-15T00:00:00\",\"2020-03-16T00:00:00\",\"2020-03-17T00:00:00\",\"2020-03-18T00:00:00\",\"2020-03-19T00:00:00\",\"2020-03-20T00:00:00\",\"2020-03-21T00:00:00\",\"2020-03-22T00:00:00\",\"2020-03-23T00:00:00\",\"2020-03-24T00:00:00\",\"2020-03-25T00:00:00\",\"2020-03-26T00:00:00\",\"2020-03-27T00:00:00\",\"2020-03-28T00:00:00\",\"2020-03-29T00:00:00\",\"2020-03-30T00:00:00\",\"2020-03-31T00:00:00\",\"2020-01-04T00:00:00\",\"2020-02-04T00:00:00\",\"2020-03-04T00:00:00\",\"2020-04-04T00:00:00\",\"2020-05-04T00:00:00\",\"2020-06-04T00:00:00\",\"2020-07-04T00:00:00\",\"2020-08-04T00:00:00\",\"2020-09-04T00:00:00\",\"2020-10-04T00:00:00\",\"2020-11-04T00:00:00\",\"2020-12-04T00:00:00\",\"2020-04-13T00:00:00\",\"2020-04-14T00:00:00\",\"2020-04-15T00:00:00\",\"2020-04-16T00:00:00\",\"2020-04-17T00:00:00\",\"2020-04-18T00:00:00\",\"2020-04-19T00:00:00\",\"2020-04-20T00:00:00\",\"2020-04-21T00:00:00\",\"2020-04-22T00:00:00\",\"2020-04-23T00:00:00\",\"2020-04-24T00:00:00\",\"2020-04-25T00:00:00\",\"2020-04-26T00:00:00\",\"2020-04-27T00:00:00\",\"2020-04-28T00:00:00\",\"2020-04-29T00:00:00\",\"2020-04-30T00:00:00\",\"2020-01-05T00:00:00\",\"2020-02-05T00:00:00\",\"2020-03-05T00:00:00\",\"2020-04-05T00:00:00\",\"2020-05-05T00:00:00\",\"2020-06-05T00:00:00\",\"2020-07-05T00:00:00\",\"2020-08-05T00:00:00\",\"2020-09-05T00:00:00\",\"2020-10-05T00:00:00\",\"2020-11-05T00:00:00\",\"2020-12-05T00:00:00\",\"2020-05-13T00:00:00\",\"2020-05-14T00:00:00\",\"2020-05-15T00:00:00\",\"2020-05-16T00:00:00\",\"2020-05-17T00:00:00\",\"2020-05-18T00:00:00\",\"2020-05-19T00:00:00\",\"2020-05-20T00:00:00\",\"2020-05-21T00:00:00\",\"2020-05-22T00:00:00\",\"2020-05-23T00:00:00\",\"2020-05-24T00:00:00\",\"2020-05-25T00:00:00\",\"2020-05-26T00:00:00\",\"2020-05-27T00:00:00\",\"2020-05-28T00:00:00\",\"2020-05-29T00:00:00\",\"2020-05-30T00:00:00\",\"2020-05-31T00:00:00\",\"2020-01-06T00:00:00\",\"2020-02-06T00:00:00\",\"2020-03-06T00:00:00\",\"2020-04-06T00:00:00\",\"2020-05-06T00:00:00\",\"2020-06-06T00:00:00\",\"2020-07-06T00:00:00\",\"2020-08-06T00:00:00\",\"2020-09-06T00:00:00\",\"2020-10-06T00:00:00\",\"2020-11-06T00:00:00\",\"2020-12-06T00:00:00\",\"2020-06-13T00:00:00\",\"2020-06-14T00:00:00\",\"2020-06-15T00:00:00\",\"2020-06-16T00:00:00\",\"2020-06-17T00:00:00\",\"2020-06-18T00:00:00\",\"2020-06-19T00:00:00\",\"2020-06-20T00:00:00\",\"2020-06-21T00:00:00\",\"2020-06-22T00:00:00\",\"2020-06-23T00:00:00\",\"2020-06-24T00:00:00\",\"2020-06-25T00:00:00\",\"2020-06-26T00:00:00\",\"2020-06-27T00:00:00\",\"2020-06-28T00:00:00\",\"2020-06-29T00:00:00\",\"2020-06-30T00:00:00\",\"2020-01-07T00:00:00\",\"2020-02-07T00:00:00\",\"2020-03-07T00:00:00\",\"2020-04-07T00:00:00\",\"2020-05-07T00:00:00\",\"2020-06-07T00:00:00\",\"2020-07-07T00:00:00\",\"2020-08-07T00:00:00\",\"2020-09-07T00:00:00\",\"2020-10-07T00:00:00\",\"2020-11-07T00:00:00\",\"2020-12-07T00:00:00\",\"2020-07-13T00:00:00\",\"2020-07-14T00:00:00\",\"2020-07-15T00:00:00\",\"2020-07-16T00:00:00\",\"2020-07-17T00:00:00\",\"2020-07-18T00:00:00\",\"2020-07-19T00:00:00\",\"2020-07-20T00:00:00\",\"2020-07-21T00:00:00\",\"2020-07-22T00:00:00\",\"2020-07-23T00:00:00\",\"2020-07-24T00:00:00\",\"2020-07-25T00:00:00\",\"2020-07-26T00:00:00\",\"2020-07-27T00:00:00\",\"2020-07-28T00:00:00\",\"2020-07-29T00:00:00\",\"2020-07-30T00:00:00\",\"2020-07-31T00:00:00\",\"2020-01-08T00:00:00\",\"2020-02-08T00:00:00\",\"2020-03-08T00:00:00\",\"2020-04-08T00:00:00\",\"2020-05-08T00:00:00\",\"2020-06-08T00:00:00\",\"2020-07-08T00:00:00\",\"2020-08-08T00:00:00\",\"2020-09-08T00:00:00\",\"2020-10-08T00:00:00\",\"2020-11-08T00:00:00\",\"2020-12-08T00:00:00\",\"2020-08-13T00:00:00\",\"2020-08-14T00:00:00\",\"2020-08-15T00:00:00\",\"2020-08-16T00:00:00\",\"2020-08-17T00:00:00\",\"2020-08-18T00:00:00\",\"2020-08-19T00:00:00\",\"2020-08-20T00:00:00\",\"2020-08-21T00:00:00\",\"2020-08-22T00:00:00\",\"2020-08-23T00:00:00\",\"2020-08-24T00:00:00\",\"2020-08-25T00:00:00\",\"2020-08-26T00:00:00\",\"2020-08-27T00:00:00\",\"2020-08-28T00:00:00\",\"2020-08-29T00:00:00\",\"2020-08-30T00:00:00\",\"2020-08-31T00:00:00\",\"2020-01-09T00:00:00\",\"2020-02-09T00:00:00\",\"2020-03-09T00:00:00\",\"2020-04-09T00:00:00\",\"2020-05-09T00:00:00\",\"2020-06-09T00:00:00\",\"2020-07-09T00:00:00\",\"2020-08-09T00:00:00\",\"2020-09-09T00:00:00\",\"2020-10-09T00:00:00\",\"2020-11-09T00:00:00\",\"2020-12-09T00:00:00\",\"2020-09-13T00:00:00\",\"2020-09-14T00:00:00\",\"2020-09-15T00:00:00\",\"2020-09-16T00:00:00\",\"2020-09-17T00:00:00\",\"2020-09-18T00:00:00\",\"2020-09-19T00:00:00\",\"2020-09-20T00:00:00\",\"2020-09-21T00:00:00\",\"2020-09-22T00:00:00\",\"2020-09-23T00:00:00\",\"2020-09-24T00:00:00\",\"2020-09-25T00:00:00\",\"2020-09-26T00:00:00\",\"2020-09-27T00:00:00\",\"2020-09-28T00:00:00\",\"2020-09-29T00:00:00\",\"2020-09-30T00:00:00\",\"2020-01-10T00:00:00\",\"2020-02-10T00:00:00\",\"2020-03-10T00:00:00\",\"2020-04-10T00:00:00\",\"2020-05-10T00:00:00\",\"2020-06-10T00:00:00\",\"2020-07-10T00:00:00\",\"2020-08-10T00:00:00\",\"2020-09-10T00:00:00\",\"2020-10-10T00:00:00\",\"2020-11-10T00:00:00\",\"2020-12-10T00:00:00\",\"2020-10-13T00:00:00\",\"2020-10-14T00:00:00\",\"2020-10-15T00:00:00\",\"2020-10-16T00:00:00\",\"2020-10-17T00:00:00\",\"2020-10-18T00:00:00\",\"2020-10-19T00:00:00\",\"2020-10-20T00:00:00\",\"2020-10-21T00:00:00\",\"2020-10-22T00:00:00\",\"2020-10-23T00:00:00\",\"2020-10-24T00:00:00\",\"2020-10-25T00:00:00\",\"2020-10-26T00:00:00\",\"2020-10-27T00:00:00\",\"2020-10-28T00:00:00\",\"2020-10-29T00:00:00\",\"2020-10-30T00:00:00\",\"2020-10-31T00:00:00\",\"2020-01-11T00:00:00\",\"2020-02-11T00:00:00\",\"2020-03-11T00:00:00\",\"2020-04-11T00:00:00\",\"2020-05-11T00:00:00\",\"2020-06-11T00:00:00\",\"2020-07-11T00:00:00\",\"2020-08-11T00:00:00\",\"2020-09-11T00:00:00\",\"2020-10-11T00:00:00\",\"2020-11-11T00:00:00\",\"2020-12-11T00:00:00\",\"2020-11-13T00:00:00\",\"2020-11-14T00:00:00\",\"2020-11-15T00:00:00\",\"2020-11-16T00:00:00\",\"2020-11-17T00:00:00\",\"2020-11-18T00:00:00\",\"2020-11-19T00:00:00\",\"2020-11-20T00:00:00\",\"2020-11-21T00:00:00\",\"2020-11-22T00:00:00\",\"2020-11-23T00:00:00\",\"2020-11-24T00:00:00\",\"2020-11-25T00:00:00\",\"2020-11-26T00:00:00\",\"2020-11-27T00:00:00\",\"2020-11-28T00:00:00\",\"2020-11-29T00:00:00\",\"2020-11-30T00:00:00\",\"2020-01-12T00:00:00\",\"2020-02-12T00:00:00\",\"2020-03-12T00:00:00\",\"2020-04-12T00:00:00\",\"2020-05-12T00:00:00\",\"2020-06-12T00:00:00\",\"2020-07-12T00:00:00\",\"2020-08-12T00:00:00\",\"2020-09-12T00:00:00\",\"2020-10-12T00:00:00\",\"2020-11-12T00:00:00\",\"2020-12-12T00:00:00\",\"2020-12-13T00:00:00\",\"2020-12-14T00:00:00\",\"2020-12-15T00:00:00\",\"2020-12-16T00:00:00\",\"2020-12-17T00:00:00\",\"2020-12-18T00:00:00\",\"2020-12-19T00:00:00\",\"2020-12-20T00:00:00\",\"2020-12-21T00:00:00\",\"2020-12-22T00:00:00\",\"2020-12-23T00:00:00\",\"2020-12-24T00:00:00\",\"2020-12-25T00:00:00\",\"2020-12-26T00:00:00\",\"2020-12-27T00:00:00\",\"2020-12-28T00:00:00\",\"2020-12-29T00:00:00\",\"2020-12-30T00:00:00\",\"2020-12-31T00:00:00\",\"2021-01-01T00:00:00\",\"2021-02-01T00:00:00\",\"2021-03-01T00:00:00\",\"2021-04-01T00:00:00\",\"2021-05-01T00:00:00\",\"2021-06-01T00:00:00\",\"2021-07-01T00:00:00\",\"2021-08-01T00:00:00\",\"2021-09-01T00:00:00\",\"2021-10-01T00:00:00\",\"2021-11-01T00:00:00\",\"2021-12-01T00:00:00\",\"2021-01-13T00:00:00\",\"2021-01-14T00:00:00\",\"2021-01-15T00:00:00\",\"2021-01-16T00:00:00\",\"2021-01-17T00:00:00\",\"2021-01-18T00:00:00\",\"2021-01-19T00:00:00\",\"2021-01-20T00:00:00\",\"2021-01-21T00:00:00\",\"2021-01-22T00:00:00\",\"2021-01-23T00:00:00\",\"2021-01-24T00:00:00\",\"2021-01-25T00:00:00\",\"2021-01-26T00:00:00\",\"2021-01-27T00:00:00\",\"2021-01-28T00:00:00\",\"2021-01-29T00:00:00\",\"2021-01-30T00:00:00\",\"2021-01-31T00:00:00\",\"2021-01-02T00:00:00\",\"2021-02-02T00:00:00\",\"2021-03-02T00:00:00\",\"2021-04-02T00:00:00\",\"2021-05-02T00:00:00\",\"2021-06-02T00:00:00\",\"2021-07-02T00:00:00\",\"2021-08-02T00:00:00\",\"2021-09-02T00:00:00\",\"2021-10-02T00:00:00\",\"2021-11-02T00:00:00\",\"2021-12-02T00:00:00\",\"2021-02-13T00:00:00\",\"2021-02-14T00:00:00\",\"2021-02-15T00:00:00\",\"2021-02-16T00:00:00\",\"2021-02-17T00:00:00\",\"2021-02-18T00:00:00\",\"2021-02-19T00:00:00\",\"2021-02-20T00:00:00\",\"2021-02-21T00:00:00\",\"2021-02-22T00:00:00\",\"2021-02-23T00:00:00\",\"2021-02-24T00:00:00\",\"2021-02-25T00:00:00\",\"2021-02-26T00:00:00\",\"2021-02-27T00:00:00\",\"2021-02-28T00:00:00\",\"2021-01-03T00:00:00\",\"2021-02-03T00:00:00\",\"2021-03-03T00:00:00\",\"2021-04-03T00:00:00\",\"2021-05-03T00:00:00\",\"2021-06-03T00:00:00\",\"2021-07-03T00:00:00\",\"2021-08-03T00:00:00\",\"2021-09-03T00:00:00\",\"2021-10-03T00:00:00\",\"2021-11-03T00:00:00\",\"2021-12-03T00:00:00\",\"2021-03-13T00:00:00\",\"2021-03-14T00:00:00\",\"2021-03-15T00:00:00\",\"2021-03-16T00:00:00\",\"2021-03-17T00:00:00\",\"2021-03-18T00:00:00\",\"2021-03-19T00:00:00\",\"2021-03-20T00:00:00\",\"2021-03-21T00:00:00\",\"2021-03-22T00:00:00\",\"2021-03-23T00:00:00\",\"2021-03-24T00:00:00\",\"2021-03-25T00:00:00\",\"2021-03-26T00:00:00\",\"2021-03-27T00:00:00\",\"2021-03-28T00:00:00\",\"2021-03-29T00:00:00\",\"2021-03-30T00:00:00\",\"2021-03-31T00:00:00\",\"2021-01-04T00:00:00\",\"2021-02-04T00:00:00\",\"2021-03-04T00:00:00\",\"2021-04-04T00:00:00\",\"2021-05-04T00:00:00\",\"2021-06-04T00:00:00\",\"2021-07-04T00:00:00\",\"2021-08-04T00:00:00\",\"2021-09-04T00:00:00\",\"2021-10-04T00:00:00\",\"2021-11-04T00:00:00\",\"2021-12-04T00:00:00\",\"2021-04-13T00:00:00\",\"2021-04-14T00:00:00\",\"2021-04-15T00:00:00\",\"2021-04-16T00:00:00\",\"2021-04-17T00:00:00\",\"2021-04-18T00:00:00\",\"2021-04-19T00:00:00\",\"2021-04-20T00:00:00\",\"2021-04-21T00:00:00\",\"2021-04-22T00:00:00\",\"2021-04-23T00:00:00\",\"2021-04-24T00:00:00\",\"2021-04-25T00:00:00\",\"2021-04-26T00:00:00\",\"2021-04-27T00:00:00\",\"2021-04-28T00:00:00\",\"2021-04-29T00:00:00\",\"2021-04-30T00:00:00\",\"2021-01-05T00:00:00\",\"2021-02-05T00:00:00\",\"2021-03-05T00:00:00\",\"2021-04-05T00:00:00\",\"2021-05-05T00:00:00\",\"2021-06-05T00:00:00\",\"2021-07-05T00:00:00\",\"2021-08-05T00:00:00\",\"2021-09-05T00:00:00\",\"2021-10-05T00:00:00\",\"2021-11-05T00:00:00\",\"2021-12-05T00:00:00\",\"2021-05-13T00:00:00\",\"2021-05-14T00:00:00\",\"2021-05-15T00:00:00\",\"2021-05-16T00:00:00\",\"2021-05-17T00:00:00\",\"2021-05-18T00:00:00\",\"2021-05-19T00:00:00\",\"2021-05-20T00:00:00\",\"2021-05-21T00:00:00\",\"2021-05-22T00:00:00\",\"2021-05-23T00:00:00\",\"2021-05-24T00:00:00\",\"2021-05-25T00:00:00\",\"2021-05-26T00:00:00\",\"2021-05-27T00:00:00\",\"2021-05-28T00:00:00\",\"2021-05-29T00:00:00\",\"2021-05-30T00:00:00\",\"2021-05-31T00:00:00\",\"2021-01-06T00:00:00\",\"2021-02-06T00:00:00\",\"2021-03-06T00:00:00\",\"2021-04-06T00:00:00\",\"2021-05-06T00:00:00\",\"2021-06-06T00:00:00\",\"2021-07-06T00:00:00\",\"2021-08-06T00:00:00\",\"2021-09-06T00:00:00\",\"2021-10-06T00:00:00\",\"2021-11-06T00:00:00\",\"2021-12-06T00:00:00\",\"2021-06-13T00:00:00\",\"2021-06-14T00:00:00\",\"2021-06-15T00:00:00\",\"2021-06-16T00:00:00\",\"2021-06-17T00:00:00\",\"2021-06-18T00:00:00\",\"2021-06-19T00:00:00\",\"2021-06-20T00:00:00\",\"2021-06-21T00:00:00\",\"2021-06-22T00:00:00\",\"2021-06-23T00:00:00\",\"2021-06-24T00:00:00\",\"2021-06-25T00:00:00\",\"2021-06-26T00:00:00\",\"2021-06-27T00:00:00\",\"2021-06-28T00:00:00\",\"2021-06-29T00:00:00\",\"2021-06-30T00:00:00\",\"2021-01-07T00:00:00\",\"2021-02-07T00:00:00\",\"2021-03-07T00:00:00\",\"2021-04-07T00:00:00\",\"2021-05-07T00:00:00\",\"2021-06-07T00:00:00\",\"2021-07-07T00:00:00\",\"2021-08-07T00:00:00\",\"2021-09-07T00:00:00\",\"2021-10-07T00:00:00\",\"2021-11-07T00:00:00\",\"2021-12-07T00:00:00\",\"2021-07-13T00:00:00\",\"2021-07-14T00:00:00\",\"2021-07-15T00:00:00\",\"2021-07-16T00:00:00\",\"2021-07-17T00:00:00\",\"2021-07-18T00:00:00\",\"2021-07-19T00:00:00\",\"2021-07-20T00:00:00\",\"2021-07-21T00:00:00\",\"2021-07-22T00:00:00\",\"2021-07-23T00:00:00\",\"2021-07-24T00:00:00\",\"2021-07-25T00:00:00\",\"2021-07-26T00:00:00\",\"2021-07-27T00:00:00\",\"2021-07-28T00:00:00\",\"2021-07-29T00:00:00\",\"2021-07-30T00:00:00\",\"2021-07-31T00:00:00\",\"2021-01-08T00:00:00\",\"2021-02-08T00:00:00\",\"2021-03-08T00:00:00\",\"2021-04-08T00:00:00\",\"2021-05-08T00:00:00\",\"2021-06-08T00:00:00\",\"2021-07-08T00:00:00\",\"2021-08-08T00:00:00\",\"2021-09-08T00:00:00\",\"2021-10-08T00:00:00\",\"2021-11-08T00:00:00\",\"2021-12-08T00:00:00\",\"2021-08-13T00:00:00\",\"2021-08-14T00:00:00\",\"2021-08-15T00:00:00\",\"2021-08-16T00:00:00\",\"2021-08-17T00:00:00\",\"2021-08-18T00:00:00\",\"2021-08-19T00:00:00\",\"2021-08-20T00:00:00\",\"2021-08-21T00:00:00\",\"2021-08-22T00:00:00\",\"2021-08-23T00:00:00\",\"2021-08-24T00:00:00\",\"2021-08-25T00:00:00\",\"2021-08-26T00:00:00\",\"2021-08-27T00:00:00\",\"2021-08-28T00:00:00\",\"2021-08-29T00:00:00\",\"2021-08-30T00:00:00\",\"2021-08-31T00:00:00\",\"2021-01-09T00:00:00\",\"2021-02-09T00:00:00\",\"2021-03-09T00:00:00\",\"2021-04-09T00:00:00\",\"2021-05-09T00:00:00\",\"2021-06-09T00:00:00\",\"2021-07-09T00:00:00\",\"2021-08-09T00:00:00\",\"2021-09-09T00:00:00\",\"2021-10-09T00:00:00\",\"2021-11-09T00:00:00\",\"2021-12-09T00:00:00\",\"2021-09-13T00:00:00\",\"2021-09-14T00:00:00\",\"2021-09-15T00:00:00\",\"2021-09-16T00:00:00\",\"2021-09-17T00:00:00\",\"2021-09-18T00:00:00\",\"2021-09-19T00:00:00\",\"2021-09-20T00:00:00\",\"2021-09-21T00:00:00\",\"2021-09-22T00:00:00\",\"2021-09-23T00:00:00\",\"2021-09-24T00:00:00\",\"2021-09-25T00:00:00\",\"2021-09-26T00:00:00\",\"2021-09-27T00:00:00\",\"2021-09-28T00:00:00\",\"2021-09-29T00:00:00\",\"2021-09-30T00:00:00\",\"2021-01-10T00:00:00\",\"2021-02-10T00:00:00\",\"2021-03-10T00:00:00\",\"2021-04-10T00:00:00\",\"2021-05-10T00:00:00\",\"2021-06-10T00:00:00\",\"2021-07-10T00:00:00\",\"2021-08-10T00:00:00\",\"2021-09-10T00:00:00\",\"2021-10-10T00:00:00\",\"2021-11-10T00:00:00\",\"2021-12-10T00:00:00\",\"2021-10-13T00:00:00\",\"2021-10-14T00:00:00\",\"2021-10-15T00:00:00\",\"2021-10-16T00:00:00\",\"2021-10-17T00:00:00\",\"2021-10-18T00:00:00\",\"2021-10-19T00:00:00\",\"2021-10-20T00:00:00\",\"2021-10-21T00:00:00\",\"2021-10-22T00:00:00\",\"2021-10-23T00:00:00\",\"2021-10-24T00:00:00\",\"2021-10-25T00:00:00\",\"2021-10-26T00:00:00\",\"2021-10-27T00:00:00\",\"2021-10-28T00:00:00\",\"2021-10-29T00:00:00\",\"2021-10-30T00:00:00\",\"2021-10-31T00:00:00\",\"2021-01-11T00:00:00\",\"2021-02-11T00:00:00\",\"2021-03-11T00:00:00\",\"2021-04-11T00:00:00\",\"2021-05-11T00:00:00\",\"2021-06-11T00:00:00\",\"2021-07-11T00:00:00\",\"2021-08-11T00:00:00\",\"2021-09-11T00:00:00\",\"2021-10-11T00:00:00\",\"2021-11-11T00:00:00\",\"2021-12-11T00:00:00\",\"2021-11-13T00:00:00\",\"2021-11-14T00:00:00\",\"2021-11-15T00:00:00\",\"2021-11-16T00:00:00\",\"2021-11-17T00:00:00\",\"2021-11-18T00:00:00\",\"2021-11-19T00:00:00\",\"2021-11-20T00:00:00\",\"2021-11-21T00:00:00\",\"2021-11-22T00:00:00\",\"2021-11-23T00:00:00\",\"2021-11-24T00:00:00\",\"2021-11-25T00:00:00\",\"2021-11-26T00:00:00\",\"2021-11-27T00:00:00\",\"2021-11-28T00:00:00\",\"2021-11-29T00:00:00\",\"2021-11-30T00:00:00\",\"2021-01-12T00:00:00\",\"2021-02-12T00:00:00\",\"2021-03-12T00:00:00\",\"2021-04-12T00:00:00\",\"2021-05-12T00:00:00\",\"2021-06-12T00:00:00\",\"2021-07-12T00:00:00\",\"2021-08-12T00:00:00\",\"2021-09-12T00:00:00\",\"2021-10-12T00:00:00\",\"2021-11-12T00:00:00\",\"2021-12-12T00:00:00\",\"2021-12-13T00:00:00\",\"2021-12-14T00:00:00\",\"2021-12-15T00:00:00\",\"2021-12-16T00:00:00\",\"2021-12-17T00:00:00\",\"2021-12-18T00:00:00\",\"2021-12-19T00:00:00\",\"2021-12-20T00:00:00\",\"2021-12-21T00:00:00\",\"2021-12-22T00:00:00\",\"2021-12-23T00:00:00\",\"2021-12-24T00:00:00\",\"2021-12-25T00:00:00\",\"2021-12-26T00:00:00\",\"2021-12-27T00:00:00\",\"2021-12-28T00:00:00\",\"2021-12-29T00:00:00\",\"2021-12-30T00:00:00\",\"2021-12-31T00:00:00\"],\"xaxis\":\"x\",\"y\":[787.0,932.0,974.0,927.0,794.0,777.0,834.0,932.0,875.0,840.0,858.0,815.0,945.0,937.0,870.0,783.0,824.0,836.0,874.0,1069.0,967.0,979.0,1043.0,986.0,927.0,862.0,947.0,988.0,805.0,882.0,922.0,892.0,874.0,1071.0,971.0,799.0,850.0,775.0,721.0,657.0,710.0,760.0,815.0,720.0,781.0,806.0,813.0,842.0,793.0,843.0,782.0,739.0,727.0,704.0,720.0,748.0,824.0,875.0,883.0,852.0,803.0,972.0,987.0,1089.0,1022.0,972.0,948.0,946.0,947.0,967.0,923.0,976.0,856.0,720.0,811.0,802.0,810.0,813.0,787.0,775.0,734.0,795.0,802.0,691.0,708.0,717.0,706.0,669.0,693.0,666.0,677.0,695.0,683.0,655.0,638.0,687.0,687.0,695.0,680.0,637.0,652.0,610.0,678.0,690.0,683.0,671.0,665.0,642.0,619.0,663.0,673.0,672.0,668.0,665.0,646.0,624.0,669.0,673.0,null,null,619.0,643.0,619.0,669.0,706.0,724.0,725.0,707.0,674.0,641.0,709.0,715.0,743.0,740.0,708.0,665.0,636.0,692.0,708.0,749.0,800.0,817.0,771.0,699.0,693.0,729.0,729.0,742.0,745.0,743.0,751.0,797.0,791.0,856.0,784.0,778.0,728.0,708.0,779.0,770.0,759.0,754.0,745.0,745.0,730.0,760.0,791.0,799.0,796.0,740.0,722.0,701.0,768.0,775.0,811.0,817.0,817.0,789.0,807.0,879.0,884.0,860.0,852.0,831.0,841.0,805.0,877.0,862.0,872.0,836.0,822.0,878.0,777.0,900.0,892.0,865.0,832.0,825.0,751.0,710.0,775.0,841.0,887.0,890.0,870.0,826.0,769.0,852.0,864.0,875.0,853.0,811.0,766.0,713.0,751.0,737.0,739.0,792.0,780.0,732.0,686.0,742.0,940.0,944.0,930.0,903.0,897.0,889.0,922.0,967.0,861.0,847.0,811.0,754.0,724.0,762.0,764.0,807.0,801.0,761.0,748.0,723.0,762.0,781.0,774.0,763.0,798.0,732.0,708.0,744.0,766.0,745.0,708.0,826.0,763.0,744.0,788.0,804.0,791.0,740.0,761.0,761.0,751.0,795.0,773.0,784.0,793.0,751.0,741.0,723.0,769.0,768.0,807.0,806.0,826.0,822.0,812.0,818.0,803.0,799.0,765.0,774.0,740.0,694.0,795.0,782.0,740.0,763.0,758.0,728.0,687.0,755.0,758.0,756.0,731.0,750.0,721.0,641.0,721.0,738.0,736.0,753.0,752.0,690.0,665.0,758.0,786.0,817.0,757.0,774.0,727.0,679.0,757.0,736.0,758.0,810.0,734.0,637.0,627.0,723.0,683.0,708.0,727.0,728.0,694.0,690.0,755.0,789.0,765.0,738.0,855.0,775.0,693.0,792.0,841.0,770.0,772.0,766.0,704.0,693.0,762.0,843.0,885.0,1029.0,846.0,810.0,721.0,837.0,806.0,866.0,969.0,904.0,745.0,709.0,872.0,958.0,973.0,900.0,782.0,851.0,805.0,853.0,960.0,864.0,817.0,803.0,767.0,726.0,814.0,679.0,716.0,772.0,755.0,739.0,784.0,794.0,758.0,829.0,903.0,862.0,760.0,700.0,830.0,887.0,938.0,971.0,998.0,947.0,926.0,1057.0,934.0,893.0,841.0,853.0,731.0,624.0,690.0,698.0,724.0,779.0,818.0,816.0,719.0,686.0,694.0,715.0,749.0,736.0,716.0,666.0,674.0,697.0,776.0,793.0,725.0,723.0,717.0,757.0,797.0,846.0,916.0,971.0,827.0,794.0,815.0,786.0,833.0,888.0,915.0,882.0,846.0,790.0,873.0,930.0,830.0,794.0,746.0,697.0,734.0,737.0,706.0,747.0,724.0,688.0,660.0,724.0,746.0,722.0,740.0,724.0,685.0,650.0,734.0,735.0,741.0,729.0,664.0,706.0,657.0,706.0,767.0,737.0,729.0,733.0,706.0,675.0,729.0,741.0,739.0,747.0,738.0,684.0,663.0,770.0,746.0,732.0,737.0,737.0,699.0,666.0,726.0,732.0,741.0,732.0,837.0,744.0,664.0,734.0,796.0,806.0,800.0,778.0,731.0,711.0,791.0,792.0,790.0,781.0,763.0,726.0,714.0,769.0,765.0,762.0,767.0,777.0,754.0,725.0,816.0,755.0,755.0,752.0,745.0,731.0,726.0,762.0,770.0,772.0,772.0,767.0,732.0,723.0,795.0,810.0,800.0,814.0,824.0,737.0,726.0,820.0,866.0,886.0,920.0,900.0,833.0,787.0,845.0,884.0,870.0,856.0,836.0,828.0,846.0,908.0,916.0,898.0,881.0,845.0,818.0,802.0,858.0,832.0,832.0,802.0,743.0,766.0,753.0,805.0,821.0,814.0,826.0,799.0,803.0,805.0,859.0,836.0,834.0,822.0,796.0,769.0,756.0,828.0,861.0,884.0,878.0,958.0,876.0,810.0,821.0,807.0,782.0,775.0,747.0,727.0,757.0,833.0,835.0,842.0,831.0,819.0,757.0,712.0,748.0,781.0,749.0,756.0,778.0,715.0,828.0,828.0,830.0,805.0,799.0,822.0,719.0,694.0,736.0,732.0,736.0,745.0,758.0,684.0,666.0,815.0,792.0,788.0,774.0,743.0,687.0,654.0,830.0,783.0,769.0,764.0,741.0,691.0,655.0,737.0,738.0,725.0,746.0,750.0,685.0,654.0,717.0,738.0,746.0,785.0,755.0,705.0,689.0,730.0,759.0,795.0,763.0,721.0,675.0,630.0,668.0,731.0,727.0,730.0,731.0,693.0,657.0,743.0,782.0,775.0,779.0,770.0,693.0,688.0,799.0,855.0,826.0,877.0,890.0,751.0,666.0,730.0,751.0,800.0,753.0,740.0,694.0,670.0,762.0,754.0,765.0,763.0,779.0,698.0,689.0,780.0,742.0,763.0,794.0,813.0,789.0,757.0,801.0,899.0,926.0,811.0,870.0,763.0,682.0,797.0,820.0,826.0,855.0,768.0,672.0,670.0,800.0,876.0,721.0,701.0,748.0,722.0,688.0,727.0,740.0,766.0,813.0,790.0,850.0,825.0,1008.0,952.0,845.0,983.0,896.0,758.0,858.0,971.0,926.0,946.0,873.0,847.0],\"yaxis\":\"y\",\"type\":\"bar\"}],                        {\"template\":{\"data\":{\"pie\":[{\"automargin\":true,\"type\":\"pie\"}]},\"layout\":{\"xaxis\":{\"showgrid\":true,\"title\":{\"standoff\":15}},\"yaxis\":{\"showgrid\":true,\"title\":{\"standoff\":15}}}},\"xaxis\":{\"anchor\":\"y\",\"domain\":[0.0,1.0],\"title\":{\"text\":\"fecha\"}},\"yaxis\":{\"anchor\":\"x\",\"domain\":[0.0,1.0],\"title\":{\"text\":\"consumo_MW_potencia\"}},\"coloraxis\":{\"colorbar\":{\"title\":{\"text\":\"consumo_MW_potencia\"}},\"colorscale\":[[0.0,\"#440154\"],[0.1111111111111111,\"#482878\"],[0.2222222222222222,\"#3e4989\"],[0.3333333333333333,\"#31688e\"],[0.4444444444444444,\"#26828e\"],[0.5555555555555556,\"#1f9e89\"],[0.6666666666666666,\"#35b779\"],[0.7777777777777778,\"#6ece58\"],[0.8888888888888888,\"#b5de2b\"],[1.0,\"#fde725\"]]},\"legend\":{\"tracegroupgap\":0},\"title\":{\"text\":\"Consumo maximo de energia en MW - Mendoza 2020-2021\"},\"barmode\":\"relative\"},                        {\"responsive\": true}                    ).then(function(){\n",
              "                            \n",
              "var gd = document.getElementById('36aee5c9-fd7b-44e6-84de-d3a63f7d36e1');\n",
              "var x = new MutationObserver(function (mutations, observer) {{\n",
              "        var display = window.getComputedStyle(gd).display;\n",
              "        if (!display || display === 'none') {{\n",
              "            console.log([gd, 'removed!']);\n",
              "            Plotly.purge(gd);\n",
              "            observer.disconnect();\n",
              "        }}\n",
              "}});\n",
              "\n",
              "// Listen for the removal of the full notebook cells\n",
              "var notebookContainer = gd.closest('#notebook-container');\n",
              "if (notebookContainer) {{\n",
              "    x.observe(notebookContainer, {childList: true});\n",
              "}}\n",
              "\n",
              "// Listen for the clearing of the current output cell\n",
              "var outputEl = gd.closest('.output');\n",
              "if (outputEl) {{\n",
              "    x.observe(outputEl, {childList: true});\n",
              "}}\n",
              "\n",
              "                        })                };                            </script>        </div>\n",
              "</body>\n",
              "</html>"
            ]
          },
          "metadata": {}
        }
      ]
    }
  ]
}