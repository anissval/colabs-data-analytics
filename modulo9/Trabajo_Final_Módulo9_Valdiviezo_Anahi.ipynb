{
  "cells": [
    {
      "cell_type": "markdown",
      "metadata": {
        "id": "view-in-github",
        "colab_type": "text"
      },
      "source": [
        "<a href=\"https://colab.research.google.com/github/anissval/colabs-data-analytics-/blob/main/modulo9/Trabajo_Final_M%C3%B3dulo9_Valdiviezo_Anahi.ipynb\" target=\"_parent\"><img src=\"https://colab.research.google.com/assets/colab-badge.svg\" alt=\"Open In Colab\"/></a>"
      ]
    },
    {
      "cell_type": "markdown",
      "metadata": {
        "id": "YLPInXMuZwqW"
      },
      "source": [
        "![logo](https://github.com/cristiandarioortegayubro/BA/blob/main/dba.png?raw=true)"
      ]
    },
    {
      "cell_type": "markdown",
      "metadata": {
        "id": "-FI15q-uZ1bW"
      },
      "source": [
        "# **Trabajo Final - Módulo 9 - Aprendizaje Automático - Machine Learning - Clasificación**"
      ]
    },
    {
      "cell_type": "markdown",
      "metadata": {
        "id": "prg9YQcbaCGN"
      },
      "source": [
        "![logo](https://www.python.org/static/community_logos/python-powered-w-100x40.png)"
      ]
    },
    {
      "cell_type": "markdown",
      "metadata": {
        "id": "7R-FXvTAuljZ"
      },
      "source": [
        "~~~\n",
        "Anahi Valdiviezo\n",
        "~~~"
      ]
    },
    {
      "cell_type": "markdown",
      "metadata": {
        "id": "zeV3mRlAhDxl"
      },
      "source": [
        "**En virtud del DataFrame propuesto, generar modelos de clasificación para predecir la contratación de depositos a plazo:**\n",
        "\n",
        "- **age:** edad del cliente, valor numérico entero mayor a 18.\n",
        "- **job:** trabajo del cliente.\n",
        "- **marital:** estado civil del cliente.\n",
        "- **education:** educación alcanzada por el cliente.\n",
        "- **default:** si el cliente posee deudas.\n",
        "- **balance:** depósito del cliente en euros.\n",
        "- **housing:** propietario de inmueble o alquila.\n",
        "- **loan:** si el cliente tiene un préstamo.\n",
        "- **contact:** último contacto del cliente.\n",
        "- **day:** día del último contacto del cliente.\n",
        "- **month:** mes del último contacto el cliente.\n",
        "- **duration:** duración del último contacto del cliente.\n",
        "- **campaign:** identificación de la campaña.\n",
        "- **pdays:** dias posteriores a la campaña.\n",
        "- **previous:** números de contactos previos a la campaña.\n",
        "- **poutcome:** resultados de la campaña anterior.\n",
        "- **y:** si suscribe un depósito a plazo posterior a campaña."
      ]
    },
    {
      "cell_type": "markdown",
      "metadata": {
        "id": "Dhr2fx5qdsU3"
      },
      "source": [
        "# Instalar PyCaret"
      ]
    },
    {
      "cell_type": "code",
      "execution_count": 1,
      "metadata": {
        "colab": {
          "base_uri": "https://localhost:8080/"
        },
        "id": "ZKnw_ty5dnGf",
        "outputId": "a7b899fe-431b-4b6a-de8f-d151e548da7a"
      },
      "outputs": [
        {
          "output_type": "stream",
          "name": "stdout",
          "text": [
            "Looking in indexes: https://pypi.org/simple, https://us-python.pkg.dev/colab-wheels/public/simple/\n",
            "Requirement already satisfied: pycaret[full] in /usr/local/lib/python3.7/dist-packages (3.0.0rc4)\n",
            "Requirement already satisfied: plotly>=5.0.0 in /usr/local/lib/python3.7/dist-packages (from pycaret[full]) (5.5.0)\n",
            "Requirement already satisfied: scikit-learn>=1.0 in /usr/local/lib/python3.7/dist-packages (from pycaret[full]) (1.0.2)\n",
            "Requirement already satisfied: ipython>=5.5.0 in /usr/local/lib/python3.7/dist-packages (from pycaret[full]) (7.9.0)\n",
            "Requirement already satisfied: matplotlib>=3.3.0 in /usr/local/lib/python3.7/dist-packages (from pycaret[full]) (3.5.3)\n",
            "Requirement already satisfied: tbats>=1.1.0 in /usr/local/lib/python3.7/dist-packages (from pycaret[full]) (1.1.0)\n",
            "Requirement already satisfied: imbalanced-learn>=0.8.1 in /usr/local/lib/python3.7/dist-packages (from pycaret[full]) (0.8.1)\n",
            "Requirement already satisfied: tqdm>=4.62.0 in /usr/local/lib/python3.7/dist-packages (from pycaret[full]) (4.64.1)\n",
            "Requirement already satisfied: lightgbm>=3.0.0 in /usr/local/lib/python3.7/dist-packages (from pycaret[full]) (3.3.2)\n",
            "Requirement already satisfied: pmdarima!=1.8.1,<2.0.0,>=1.8.0 in /usr/local/lib/python3.7/dist-packages (from pycaret[full]) (1.8.5)\n",
            "Requirement already satisfied: numpy<1.23,>=1.21 in /usr/local/lib/python3.7/dist-packages (from pycaret[full]) (1.21.6)\n",
            "Requirement already satisfied: schemdraw>=0.14 in /usr/local/lib/python3.7/dist-packages (from pycaret[full]) (0.15)\n",
            "Requirement already satisfied: ipywidgets>=7.6.5 in /usr/local/lib/python3.7/dist-packages (from pycaret[full]) (7.7.1)\n",
            "Requirement already satisfied: numba~=0.55.0 in /usr/local/lib/python3.7/dist-packages (from pycaret[full]) (0.55.2)\n",
            "Requirement already satisfied: importlib-metadata>=4.12.0 in /usr/local/lib/python3.7/dist-packages (from pycaret[full]) (4.12.0)\n",
            "Requirement already satisfied: kaleido>=0.2.1 in /usr/local/lib/python3.7/dist-packages (from pycaret[full]) (0.2.1)\n",
            "Requirement already satisfied: category-encoders>=2.4.0 in /usr/local/lib/python3.7/dist-packages (from pycaret[full]) (2.5.0)\n",
            "Requirement already satisfied: pandas<1.5.0,>=1.3.0 in /usr/local/lib/python3.7/dist-packages (from pycaret[full]) (1.3.5)\n",
            "Requirement already satisfied: requests>=2.27.1 in /usr/local/lib/python3.7/dist-packages (from pycaret[full]) (2.28.1)\n",
            "Requirement already satisfied: yellowbrick>=1.4 in /usr/local/lib/python3.7/dist-packages (from pycaret[full]) (1.5)\n",
            "Requirement already satisfied: plotly-resampler>=0.7.2.2 in /usr/local/lib/python3.7/dist-packages (from pycaret[full]) (0.8.2rc1)\n",
            "Requirement already satisfied: pyod>=0.9.8 in /usr/local/lib/python3.7/dist-packages (from pycaret[full]) (1.0.5)\n",
            "Requirement already satisfied: psutil>=5.9.0 in /usr/local/lib/python3.7/dist-packages (from pycaret[full]) (5.9.2)\n",
            "Requirement already satisfied: sktime~=0.13.2 in /usr/local/lib/python3.7/dist-packages (from pycaret[full]) (0.13.2)\n",
            "Requirement already satisfied: markupsafe>=2.0.1 in /usr/local/lib/python3.7/dist-packages (from pycaret[full]) (2.0.1)\n",
            "Requirement already satisfied: jinja2>=1.2 in /usr/local/lib/python3.7/dist-packages (from pycaret[full]) (3.1.2)\n",
            "Requirement already satisfied: scipy<1.9.0 in /usr/local/lib/python3.7/dist-packages (from pycaret[full]) (1.7.3)\n",
            "Requirement already satisfied: statsmodels>=0.12.1 in /usr/local/lib/python3.7/dist-packages (from pycaret[full]) (0.13.2)\n",
            "Requirement already satisfied: joblib>=1.1.0 in /usr/local/lib/python3.7/dist-packages (from pycaret[full]) (1.1.0)\n",
            "Requirement already satisfied: scikit-plot>=0.3.7 in /usr/local/lib/python3.7/dist-packages (from pycaret[full]) (0.3.7)\n",
            "Requirement already satisfied: evidently>=0.1.45.dev0 in /usr/local/lib/python3.7/dist-packages (from pycaret[full]) (0.1.57.dev0)\n",
            "Requirement already satisfied: xgboost>=1.1.0 in /usr/local/lib/python3.7/dist-packages (from pycaret[full]) (1.6.2)\n",
            "Requirement already satisfied: interpret>=0.2.7 in /usr/local/lib/python3.7/dist-packages (from pycaret[full]) (0.2.7)\n",
            "Requirement already satisfied: protobuf<4.0.0 in /usr/local/lib/python3.7/dist-packages (from pycaret[full]) (3.17.3)\n",
            "Requirement already satisfied: fastapi>=0.75.0 in /usr/local/lib/python3.7/dist-packages (from pycaret[full]) (0.85.0)\n",
            "Requirement already satisfied: explainerdashboard>=0.3.8 in /usr/local/lib/python3.7/dist-packages (from pycaret[full]) (0.3.8.2)\n",
            "Requirement already satisfied: uvicorn>=0.17.6 in /usr/local/lib/python3.7/dist-packages (from pycaret[full]) (0.18.3)\n",
            "Requirement already satisfied: statsforecast>=0.5.5 in /usr/local/lib/python3.7/dist-packages (from pycaret[full]) (1.0.0)\n",
            "Requirement already satisfied: kmodes>=0.11.1 in /usr/local/lib/python3.7/dist-packages (from pycaret[full]) (0.12.2)\n",
            "Requirement already satisfied: dash[testing] in /usr/local/lib/python3.7/dist-packages (from pycaret[full]) (2.6.2)\n",
            "Requirement already satisfied: m2cgen>=0.9.0 in /usr/local/lib/python3.7/dist-packages (from pycaret[full]) (0.10.0)\n",
            "Requirement already satisfied: scikit-learn-intelex>=2021.6.3 in /usr/local/lib/python3.7/dist-packages (from pycaret[full]) (2021.6.3)\n",
            "Requirement already satisfied: pytest>=7.0.1 in /usr/local/lib/python3.7/dist-packages (from pycaret[full]) (7.1.3)\n",
            "Requirement already satisfied: autoviz>=0.1.36 in /usr/local/lib/python3.7/dist-packages (from pycaret[full]) (0.1.55)\n",
            "Requirement already satisfied: optuna>=2.2.0 in /usr/local/lib/python3.7/dist-packages (from pycaret[full]) (3.0.2)\n",
            "Requirement already satisfied: moto>=3.0.7 in /usr/local/lib/python3.7/dist-packages (from pycaret[full]) (4.0.6.dev3)\n",
            "Requirement already satisfied: scikit-optimize>=0.9.0 in /usr/local/lib/python3.7/dist-packages (from pycaret[full]) (0.9.0)\n",
            "Requirement already satisfied: fairlearn>=0.7.0 in /usr/local/lib/python3.7/dist-packages (from pycaret[full]) (0.7.0)\n",
            "Requirement already satisfied: mlflow>=1.24.0 in /usr/local/lib/python3.7/dist-packages (from pycaret[full]) (1.29.0)\n",
            "Requirement already satisfied: gradio>=2.8.10 in /usr/local/lib/python3.7/dist-packages (from pycaret[full]) (3.4b3)\n",
            "Requirement already satisfied: boto3>=1.24.56 in /usr/local/lib/python3.7/dist-packages (from pycaret[full]) (1.24.80)\n",
            "Requirement already satisfied: flask>=2.0.3 in /usr/local/lib/python3.7/dist-packages (from pycaret[full]) (2.1.3)\n",
            "Requirement already satisfied: dask[dataframe]>=2022.2.0 in /usr/local/lib/python3.7/dist-packages (from pycaret[full]) (2022.2.0)\n",
            "Requirement already satisfied: fugue~=0.6.6 in /usr/local/lib/python3.7/dist-packages (from pycaret[full]) (0.6.6)\n",
            "Requirement already satisfied: mlxtend>=0.19.0 in /usr/local/lib/python3.7/dist-packages (from pycaret[full]) (0.21.0)\n",
            "Requirement already satisfied: hyperopt>=0.2.7 in /usr/local/lib/python3.7/dist-packages (from pycaret[full]) (0.2.7)\n",
            "Requirement already satisfied: codecov>=2.1.12 in /usr/local/lib/python3.7/dist-packages (from pycaret[full]) (2.1.12)\n",
            "Requirement already satisfied: pandas-profiling>=3.1.0 in /usr/local/lib/python3.7/dist-packages (from pycaret[full]) (3.3.0)\n",
            "Requirement already satisfied: catboost>=0.23.2 in /usr/local/lib/python3.7/dist-packages (from pycaret[full]) (1.0.6)\n",
            "Requirement already satisfied: umap-learn>=0.5.2 in /usr/local/lib/python3.7/dist-packages (from pycaret[full]) (0.5.3)\n",
            "Requirement already satisfied: ray[tune]>=1.0.0 in /usr/local/lib/python3.7/dist-packages (from pycaret[full]) (2.0.0)\n",
            "Requirement already satisfied: shap>=0.38.0 in /usr/local/lib/python3.7/dist-packages (from pycaret[full]) (0.41.0)\n",
            "Requirement already satisfied: tune-sklearn>=0.2.1 in /usr/local/lib/python3.7/dist-packages (from pycaret[full]) (0.4.3)\n",
            "Requirement already satisfied: bokeh>=2.4.2 in /usr/local/lib/python3.7/dist-packages (from autoviz>=0.1.36->pycaret[full]) (2.4.3)\n",
            "Requirement already satisfied: wordcloud in /usr/local/lib/python3.7/dist-packages (from autoviz>=0.1.36->pycaret[full]) (1.8.2.2)\n",
            "Requirement already satisfied: panel~=0.12.6 in /usr/local/lib/python3.7/dist-packages (from autoviz>=0.1.36->pycaret[full]) (0.12.7)\n",
            "Requirement already satisfied: holoviews>=1.14.6 in /usr/local/lib/python3.7/dist-packages (from autoviz>=0.1.36->pycaret[full]) (1.14.9)\n",
            "Requirement already satisfied: typing-extensions>=4.1.1 in /usr/local/lib/python3.7/dist-packages (from autoviz>=0.1.36->pycaret[full]) (4.1.1)\n",
            "Requirement already satisfied: jupyter in /usr/local/lib/python3.7/dist-packages (from autoviz>=0.1.36->pycaret[full]) (1.0.0)\n",
            "Requirement already satisfied: pyamg in /usr/local/lib/python3.7/dist-packages (from autoviz>=0.1.36->pycaret[full]) (4.2.3)\n",
            "Requirement already satisfied: hvplot>=0.7.3 in /usr/local/lib/python3.7/dist-packages (from autoviz>=0.1.36->pycaret[full]) (0.8.1)\n",
            "Requirement already satisfied: fsspec>=0.8.3 in /usr/local/lib/python3.7/dist-packages (from autoviz>=0.1.36->pycaret[full]) (2022.8.2)\n",
            "Requirement already satisfied: emoji in /usr/local/lib/python3.7/dist-packages (from autoviz>=0.1.36->pycaret[full]) (2.1.0)\n",
            "Requirement already satisfied: seaborn>=0.11.1 in /usr/local/lib/python3.7/dist-packages (from autoviz>=0.1.36->pycaret[full]) (0.11.2)\n",
            "Requirement already satisfied: xlrd in /usr/local/lib/python3.7/dist-packages (from autoviz>=0.1.36->pycaret[full]) (1.1.0)\n",
            "Requirement already satisfied: textblob in /usr/local/lib/python3.7/dist-packages (from autoviz>=0.1.36->pycaret[full]) (0.15.3)\n",
            "Requirement already satisfied: nltk in /usr/local/lib/python3.7/dist-packages (from autoviz>=0.1.36->pycaret[full]) (3.7)\n",
            "Requirement already satisfied: tornado>=5.1 in /usr/local/lib/python3.7/dist-packages (from bokeh>=2.4.2->autoviz>=0.1.36->pycaret[full]) (5.1.1)\n",
            "Requirement already satisfied: pillow>=7.1.0 in /usr/local/lib/python3.7/dist-packages (from bokeh>=2.4.2->autoviz>=0.1.36->pycaret[full]) (7.1.2)\n",
            "Requirement already satisfied: packaging>=16.8 in /usr/local/lib/python3.7/dist-packages (from bokeh>=2.4.2->autoviz>=0.1.36->pycaret[full]) (21.3)\n",
            "Requirement already satisfied: PyYAML>=3.10 in /usr/local/lib/python3.7/dist-packages (from bokeh>=2.4.2->autoviz>=0.1.36->pycaret[full]) (5.4.1)\n",
            "Requirement already satisfied: s3transfer<0.7.0,>=0.6.0 in /usr/local/lib/python3.7/dist-packages (from boto3>=1.24.56->pycaret[full]) (0.6.0)\n",
            "Requirement already satisfied: botocore<1.28.0,>=1.27.80 in /usr/local/lib/python3.7/dist-packages (from boto3>=1.24.56->pycaret[full]) (1.27.80)\n",
            "Requirement already satisfied: jmespath<2.0.0,>=0.7.1 in /usr/local/lib/python3.7/dist-packages (from boto3>=1.24.56->pycaret[full]) (1.0.1)\n",
            "Requirement already satisfied: python-dateutil<3.0.0,>=2.1 in /usr/local/lib/python3.7/dist-packages (from botocore<1.28.0,>=1.27.80->boto3>=1.24.56->pycaret[full]) (2.8.2)\n",
            "Requirement already satisfied: urllib3<1.27,>=1.25.4 in /usr/local/lib/python3.7/dist-packages (from botocore<1.28.0,>=1.27.80->boto3>=1.24.56->pycaret[full]) (1.26.12)\n",
            "Requirement already satisfied: six in /usr/local/lib/python3.7/dist-packages (from catboost>=0.23.2->pycaret[full]) (1.15.0)\n",
            "Requirement already satisfied: graphviz in /usr/local/lib/python3.7/dist-packages (from catboost>=0.23.2->pycaret[full]) (0.20.1)\n",
            "Requirement already satisfied: patsy>=0.5.1 in /usr/local/lib/python3.7/dist-packages (from category-encoders>=2.4.0->pycaret[full]) (0.5.2)\n",
            "Requirement already satisfied: coverage in /usr/local/lib/python3.7/dist-packages (from codecov>=2.1.12->pycaret[full]) (6.4.4)\n",
            "Requirement already satisfied: partd>=0.3.10 in /usr/local/lib/python3.7/dist-packages (from dask[dataframe]>=2022.2.0->pycaret[full]) (1.3.0)\n",
            "Requirement already satisfied: toolz>=0.8.2 in /usr/local/lib/python3.7/dist-packages (from dask[dataframe]>=2022.2.0->pycaret[full]) (0.12.0)\n",
            "Requirement already satisfied: cloudpickle>=1.1.1 in /usr/local/lib/python3.7/dist-packages (from dask[dataframe]>=2022.2.0->pycaret[full]) (1.5.0)\n",
            "Requirement already satisfied: dataclasses>=0.6 in /usr/local/lib/python3.7/dist-packages (from evidently>=0.1.45.dev0->pycaret[full]) (0.6)\n",
            "Requirement already satisfied: dash-auth in /usr/local/lib/python3.7/dist-packages (from explainerdashboard>=0.3.8->pycaret[full]) (1.4.1)\n",
            "Requirement already satisfied: jupyter-dash in /usr/local/lib/python3.7/dist-packages (from explainerdashboard>=0.3.8->pycaret[full]) (0.4.2)\n",
            "Requirement already satisfied: click in /usr/local/lib/python3.7/dist-packages (from explainerdashboard>=0.3.8->pycaret[full]) (8.0.4)\n",
            "Requirement already satisfied: oyaml in /usr/local/lib/python3.7/dist-packages (from explainerdashboard>=0.3.8->pycaret[full]) (1.0)\n",
            "Requirement already satisfied: waitress in /usr/local/lib/python3.7/dist-packages (from explainerdashboard>=0.3.8->pycaret[full]) (2.1.2)\n",
            "Requirement already satisfied: flask-simplelogin in /usr/local/lib/python3.7/dist-packages (from explainerdashboard>=0.3.8->pycaret[full]) (0.1.1)\n",
            "Requirement already satisfied: Werkzeug<=2.0.3 in /usr/local/lib/python3.7/dist-packages (from explainerdashboard>=0.3.8->pycaret[full]) (2.0.3)\n",
            "Requirement already satisfied: dash-bootstrap-components<1 in /usr/local/lib/python3.7/dist-packages (from explainerdashboard>=0.3.8->pycaret[full]) (0.13.1)\n",
            "Requirement already satisfied: dtreeviz>=1.3 in /usr/local/lib/python3.7/dist-packages (from explainerdashboard>=0.3.8->pycaret[full]) (1.3.7)\n",
            "Requirement already satisfied: dash-table==5.0.0 in /usr/local/lib/python3.7/dist-packages (from dash[testing]->pycaret[full]) (5.0.0)\n",
            "Requirement already satisfied: flask-compress in /usr/local/lib/python3.7/dist-packages (from dash[testing]->pycaret[full]) (1.13)\n",
            "Requirement already satisfied: dash-core-components==2.0.0 in /usr/local/lib/python3.7/dist-packages (from dash[testing]->pycaret[full]) (2.0.0)\n",
            "Requirement already satisfied: dash-html-components==2.0.0 in /usr/local/lib/python3.7/dist-packages (from dash[testing]->pycaret[full]) (2.0.0)\n",
            "Requirement already satisfied: colour in /usr/local/lib/python3.7/dist-packages (from dtreeviz>=1.3->explainerdashboard>=0.3.8->pycaret[full]) (0.1.5)\n",
            "Requirement already satisfied: starlette==0.20.4 in /usr/local/lib/python3.7/dist-packages (from fastapi>=0.75.0->pycaret[full]) (0.20.4)\n",
            "Requirement already satisfied: pydantic!=1.7,!=1.7.1,!=1.7.2,!=1.7.3,!=1.8,!=1.8.1,<2.0.0,>=1.6.2 in /usr/local/lib/python3.7/dist-packages (from fastapi>=0.75.0->pycaret[full]) (1.9.2)\n",
            "Requirement already satisfied: anyio<5,>=3.4.0 in /usr/local/lib/python3.7/dist-packages (from starlette==0.20.4->fastapi>=0.75.0->pycaret[full]) (3.6.1)\n",
            "Requirement already satisfied: sniffio>=1.1 in /usr/local/lib/python3.7/dist-packages (from anyio<5,>=3.4.0->starlette==0.20.4->fastapi>=0.75.0->pycaret[full]) (1.3.0)\n",
            "Requirement already satisfied: idna>=2.8 in /usr/local/lib/python3.7/dist-packages (from anyio<5,>=3.4.0->starlette==0.20.4->fastapi>=0.75.0->pycaret[full]) (2.10)\n",
            "Requirement already satisfied: itsdangerous>=2.0 in /usr/local/lib/python3.7/dist-packages (from flask>=2.0.3->pycaret[full]) (2.1.2)\n",
            "Requirement already satisfied: pyarrow>=0.15.1 in /usr/local/lib/python3.7/dist-packages (from fugue~=0.6.6->pycaret[full]) (6.0.1)\n",
            "Requirement already satisfied: adagio>=0.2.3 in /usr/local/lib/python3.7/dist-packages (from fugue~=0.6.6->pycaret[full]) (0.2.4)\n",
            "Requirement already satisfied: sqlalchemy in /usr/local/lib/python3.7/dist-packages (from fugue~=0.6.6->pycaret[full]) (1.4.41)\n",
            "Requirement already satisfied: triad>=0.6.0 in /usr/local/lib/python3.7/dist-packages (from fugue~=0.6.6->pycaret[full]) (0.6.8)\n",
            "Requirement already satisfied: antlr4-python3-runtime<4.10,>=4.9 in /usr/local/lib/python3.7/dist-packages (from fugue~=0.6.6->pycaret[full]) (4.9.3)\n",
            "Requirement already satisfied: qpd>=0.2.6 in /usr/local/lib/python3.7/dist-packages (from fugue~=0.6.6->pycaret[full]) (0.2.7)\n",
            "Requirement already satisfied: h11<0.13,>=0.11 in /usr/local/lib/python3.7/dist-packages (from gradio>=2.8.10->pycaret[full]) (0.12.0)\n",
            "Requirement already satisfied: pycryptodome in /usr/local/lib/python3.7/dist-packages (from gradio>=2.8.10->pycaret[full]) (3.15.0)\n",
            "Requirement already satisfied: markdown-it-py[linkify,plugins] in /usr/local/lib/python3.7/dist-packages (from gradio>=2.8.10->pycaret[full]) (2.1.0)\n",
            "Requirement already satisfied: orjson in /usr/local/lib/python3.7/dist-packages (from gradio>=2.8.10->pycaret[full]) (3.8.0)\n",
            "Requirement already satisfied: ffmpy in /usr/local/lib/python3.7/dist-packages (from gradio>=2.8.10->pycaret[full]) (0.3.0)\n",
            "Requirement already satisfied: pydub in /usr/local/lib/python3.7/dist-packages (from gradio>=2.8.10->pycaret[full]) (0.25.1)\n",
            "Requirement already satisfied: httpx in /usr/local/lib/python3.7/dist-packages (from gradio>=2.8.10->pycaret[full]) (1.0.0b0)\n",
            "Requirement already satisfied: analytics-python in /usr/local/lib/python3.7/dist-packages (from gradio>=2.8.10->pycaret[full]) (1.4.0)\n",
            "Requirement already satisfied: websockets in /usr/local/lib/python3.7/dist-packages (from gradio>=2.8.10->pycaret[full]) (10.3)\n",
            "Requirement already satisfied: aiohttp in /usr/local/lib/python3.7/dist-packages (from gradio>=2.8.10->pycaret[full]) (3.8.1)\n",
            "Requirement already satisfied: python-multipart in /usr/local/lib/python3.7/dist-packages (from gradio>=2.8.10->pycaret[full]) (0.0.5)\n",
            "Requirement already satisfied: paramiko in /usr/local/lib/python3.7/dist-packages (from gradio>=2.8.10->pycaret[full]) (2.11.0)\n",
            "Requirement already satisfied: pyviz-comms>=0.7.4 in /usr/local/lib/python3.7/dist-packages (from holoviews>=1.14.6->autoviz>=0.1.36->pycaret[full]) (2.2.1)\n",
            "Requirement already satisfied: param<2.0,>=1.9.3 in /usr/local/lib/python3.7/dist-packages (from holoviews>=1.14.6->autoviz>=0.1.36->pycaret[full]) (1.12.2)\n",
            "Requirement already satisfied: colorcet in /usr/local/lib/python3.7/dist-packages (from holoviews>=1.14.6->autoviz>=0.1.36->pycaret[full]) (3.0.0)\n",
            "Requirement already satisfied: pyct>=0.4.4 in /usr/local/lib/python3.7/dist-packages (from colorcet->holoviews>=1.14.6->autoviz>=0.1.36->pycaret[full]) (0.4.8)\n",
            "Requirement already satisfied: networkx>=2.2 in /usr/local/lib/python3.7/dist-packages (from hyperopt>=0.2.7->pycaret[full]) (2.6.3)\n",
            "Requirement already satisfied: future in /usr/local/lib/python3.7/dist-packages (from hyperopt>=0.2.7->pycaret[full]) (0.16.0)\n",
            "Requirement already satisfied: py4j in /usr/local/lib/python3.7/dist-packages (from hyperopt>=0.2.7->pycaret[full]) (0.10.9.7)\n",
            "Requirement already satisfied: zipp>=0.5 in /usr/local/lib/python3.7/dist-packages (from importlib-metadata>=4.12.0->pycaret[full]) (3.8.1)\n",
            "Requirement already satisfied: interpret-core[dash,debug,decisiontree,ebm,lime,linear,notebook,plotly,required,sensitivity,shap,skoperules,treeinterpreter]>=0.2.7 in /usr/local/lib/python3.7/dist-packages (from interpret>=0.2.7->pycaret[full]) (0.2.7)\n",
            "Requirement already satisfied: ipykernel>=5.1.0 in /usr/local/lib/python3.7/dist-packages (from interpret-core[dash,debug,decisiontree,ebm,lime,linear,notebook,plotly,required,sensitivity,shap,skoperules,treeinterpreter]>=0.2.7->interpret>=0.2.7->pycaret[full]) (5.3.4)\n",
            "Requirement already satisfied: skope-rules>=1.0.1 in /usr/local/lib/python3.7/dist-packages (from interpret-core[dash,debug,decisiontree,ebm,lime,linear,notebook,plotly,required,sensitivity,shap,skoperules,treeinterpreter]>=0.2.7->interpret>=0.2.7->pycaret[full]) (1.0.1)\n",
            "Requirement already satisfied: SALib>=1.3.3 in /usr/local/lib/python3.7/dist-packages (from interpret-core[dash,debug,decisiontree,ebm,lime,linear,notebook,plotly,required,sensitivity,shap,skoperules,treeinterpreter]>=0.2.7->interpret>=0.2.7->pycaret[full]) (1.4.6b1)\n",
            "Requirement already satisfied: dill>=0.2.5 in /usr/local/lib/python3.7/dist-packages (from interpret-core[dash,debug,decisiontree,ebm,lime,linear,notebook,plotly,required,sensitivity,shap,skoperules,treeinterpreter]>=0.2.7->interpret>=0.2.7->pycaret[full]) (0.3.5.1)\n",
            "Requirement already satisfied: treeinterpreter>=0.2.2 in /usr/local/lib/python3.7/dist-packages (from interpret-core[dash,debug,decisiontree,ebm,lime,linear,notebook,plotly,required,sensitivity,shap,skoperules,treeinterpreter]>=0.2.7->interpret>=0.2.7->pycaret[full]) (0.2.3)\n",
            "Requirement already satisfied: gevent>=1.3.6 in /usr/local/lib/python3.7/dist-packages (from interpret-core[dash,debug,decisiontree,ebm,lime,linear,notebook,plotly,required,sensitivity,shap,skoperules,treeinterpreter]>=0.2.7->interpret>=0.2.7->pycaret[full]) (21.12.0)\n",
            "Requirement already satisfied: dash-cytoscape>=0.1.1 in /usr/local/lib/python3.7/dist-packages (from interpret-core[dash,debug,decisiontree,ebm,lime,linear,notebook,plotly,required,sensitivity,shap,skoperules,treeinterpreter]>=0.2.7->interpret>=0.2.7->pycaret[full]) (0.3.0)\n",
            "Requirement already satisfied: lime>=0.1.1.33 in /usr/local/lib/python3.7/dist-packages (from interpret-core[dash,debug,decisiontree,ebm,lime,linear,notebook,plotly,required,sensitivity,shap,skoperules,treeinterpreter]>=0.2.7->interpret>=0.2.7->pycaret[full]) (0.2.0.1)\n",
            "Requirement already satisfied: zope.interface in /usr/local/lib/python3.7/dist-packages (from gevent>=1.3.6->interpret-core[dash,debug,decisiontree,ebm,lime,linear,notebook,plotly,required,sensitivity,shap,skoperules,treeinterpreter]>=0.2.7->interpret>=0.2.7->pycaret[full]) (5.4.0)\n",
            "Requirement already satisfied: setuptools in /usr/local/lib/python3.7/dist-packages (from gevent>=1.3.6->interpret-core[dash,debug,decisiontree,ebm,lime,linear,notebook,plotly,required,sensitivity,shap,skoperules,treeinterpreter]>=0.2.7->interpret>=0.2.7->pycaret[full]) (57.4.0)\n",
            "Requirement already satisfied: greenlet<2.0,>=1.1.0 in /usr/local/lib/python3.7/dist-packages (from gevent>=1.3.6->interpret-core[dash,debug,decisiontree,ebm,lime,linear,notebook,plotly,required,sensitivity,shap,skoperules,treeinterpreter]>=0.2.7->interpret>=0.2.7->pycaret[full]) (1.1.3)\n",
            "Requirement already satisfied: zope.event in /usr/local/lib/python3.7/dist-packages (from gevent>=1.3.6->interpret-core[dash,debug,decisiontree,ebm,lime,linear,notebook,plotly,required,sensitivity,shap,skoperules,treeinterpreter]>=0.2.7->interpret>=0.2.7->pycaret[full]) (4.5.0)\n",
            "Requirement already satisfied: jupyter-client in /usr/local/lib/python3.7/dist-packages (from ipykernel>=5.1.0->interpret-core[dash,debug,decisiontree,ebm,lime,linear,notebook,plotly,required,sensitivity,shap,skoperules,treeinterpreter]>=0.2.7->interpret>=0.2.7->pycaret[full]) (6.1.12)\n",
            "Requirement already satisfied: traitlets>=4.1.0 in /usr/local/lib/python3.7/dist-packages (from ipykernel>=5.1.0->interpret-core[dash,debug,decisiontree,ebm,lime,linear,notebook,plotly,required,sensitivity,shap,skoperules,treeinterpreter]>=0.2.7->interpret>=0.2.7->pycaret[full]) (5.1.1)\n",
            "Requirement already satisfied: pygments in /usr/local/lib/python3.7/dist-packages (from ipython>=5.5.0->pycaret[full]) (2.6.1)\n",
            "Requirement already satisfied: decorator in /usr/local/lib/python3.7/dist-packages (from ipython>=5.5.0->pycaret[full]) (4.4.2)\n",
            "Requirement already satisfied: backcall in /usr/local/lib/python3.7/dist-packages (from ipython>=5.5.0->pycaret[full]) (0.2.0)\n",
            "Requirement already satisfied: pickleshare in /usr/local/lib/python3.7/dist-packages (from ipython>=5.5.0->pycaret[full]) (0.7.5)\n",
            "Requirement already satisfied: prompt-toolkit<2.1.0,>=2.0.0 in /usr/local/lib/python3.7/dist-packages (from ipython>=5.5.0->pycaret[full]) (2.0.10)\n",
            "Requirement already satisfied: jedi>=0.10 in /usr/local/lib/python3.7/dist-packages (from ipython>=5.5.0->pycaret[full]) (0.18.1)\n",
            "Requirement already satisfied: pexpect in /usr/local/lib/python3.7/dist-packages (from ipython>=5.5.0->pycaret[full]) (4.8.0)\n",
            "Requirement already satisfied: ipython-genutils~=0.2.0 in /usr/local/lib/python3.7/dist-packages (from ipywidgets>=7.6.5->pycaret[full]) (0.2.0)\n",
            "Requirement already satisfied: jupyterlab-widgets>=1.0.0 in /usr/local/lib/python3.7/dist-packages (from ipywidgets>=7.6.5->pycaret[full]) (3.0.3)\n",
            "Requirement already satisfied: widgetsnbextension~=3.6.0 in /usr/local/lib/python3.7/dist-packages (from ipywidgets>=7.6.5->pycaret[full]) (3.6.1)\n",
            "Requirement already satisfied: parso<0.9.0,>=0.8.0 in /usr/local/lib/python3.7/dist-packages (from jedi>=0.10->ipython>=5.5.0->pycaret[full]) (0.8.3)\n",
            "Requirement already satisfied: wheel in /usr/local/lib/python3.7/dist-packages (from lightgbm>=3.0.0->pycaret[full]) (0.37.1)\n",
            "Requirement already satisfied: scikit-image>=0.12 in /usr/local/lib/python3.7/dist-packages (from lime>=0.1.1.33->interpret-core[dash,debug,decisiontree,ebm,lime,linear,notebook,plotly,required,sensitivity,shap,skoperules,treeinterpreter]>=0.2.7->interpret>=0.2.7->pycaret[full]) (0.18.3)\n",
            "Requirement already satisfied: fonttools>=4.22.0 in /usr/local/lib/python3.7/dist-packages (from matplotlib>=3.3.0->pycaret[full]) (4.37.3)\n",
            "Requirement already satisfied: kiwisolver>=1.0.1 in /usr/local/lib/python3.7/dist-packages (from matplotlib>=3.3.0->pycaret[full]) (1.4.4)\n",
            "Requirement already satisfied: pyparsing>=2.2.1 in /usr/local/lib/python3.7/dist-packages (from matplotlib>=3.3.0->pycaret[full]) (3.0.9)\n",
            "Requirement already satisfied: cycler>=0.10 in /usr/local/lib/python3.7/dist-packages (from matplotlib>=3.3.0->pycaret[full]) (0.11.0)\n",
            "Requirement already satisfied: gitpython<4,>=2.1.0 in /usr/local/lib/python3.7/dist-packages (from mlflow>=1.24.0->pycaret[full]) (3.1.27)\n",
            "Requirement already satisfied: sqlparse<1,>=0.4.0 in /usr/local/lib/python3.7/dist-packages (from mlflow>=1.24.0->pycaret[full]) (0.4.2)\n",
            "Requirement already satisfied: prometheus-flask-exporter<1 in /usr/local/lib/python3.7/dist-packages (from mlflow>=1.24.0->pycaret[full]) (0.20.3)\n",
            "Requirement already satisfied: querystring-parser<2 in /usr/local/lib/python3.7/dist-packages (from mlflow>=1.24.0->pycaret[full]) (1.2.4)\n",
            "Requirement already satisfied: docker<7,>=4.0.0 in /usr/local/lib/python3.7/dist-packages (from mlflow>=1.24.0->pycaret[full]) (6.0.0)\n",
            "Requirement already satisfied: databricks-cli<1,>=0.8.7 in /usr/local/lib/python3.7/dist-packages (from mlflow>=1.24.0->pycaret[full]) (0.17.3)\n",
            "Requirement already satisfied: pytz<2023 in /usr/local/lib/python3.7/dist-packages (from mlflow>=1.24.0->pycaret[full]) (2022.2.1)\n",
            "Requirement already satisfied: gunicorn<21 in /usr/local/lib/python3.7/dist-packages (from mlflow>=1.24.0->pycaret[full]) (20.1.0)\n",
            "Requirement already satisfied: entrypoints<1 in /usr/local/lib/python3.7/dist-packages (from mlflow>=1.24.0->pycaret[full]) (0.4)\n",
            "Requirement already satisfied: alembic<2 in /usr/local/lib/python3.7/dist-packages (from mlflow>=1.24.0->pycaret[full]) (1.8.1)\n",
            "Requirement already satisfied: Mako in /usr/local/lib/python3.7/dist-packages (from alembic<2->mlflow>=1.24.0->pycaret[full]) (1.2.3)\n",
            "Requirement already satisfied: importlib-resources in /usr/local/lib/python3.7/dist-packages (from alembic<2->mlflow>=1.24.0->pycaret[full]) (5.9.0)\n",
            "Requirement already satisfied: pyjwt>=1.7.0 in /usr/local/lib/python3.7/dist-packages (from databricks-cli<1,>=0.8.7->mlflow>=1.24.0->pycaret[full]) (2.5.0)\n",
            "Requirement already satisfied: tabulate>=0.7.7 in /usr/local/lib/python3.7/dist-packages (from databricks-cli<1,>=0.8.7->mlflow>=1.24.0->pycaret[full]) (0.8.10)\n",
            "Requirement already satisfied: oauthlib>=3.1.0 in /usr/local/lib/python3.7/dist-packages (from databricks-cli<1,>=0.8.7->mlflow>=1.24.0->pycaret[full]) (3.2.0)\n",
            "Requirement already satisfied: websocket-client>=0.32.0 in /usr/local/lib/python3.7/dist-packages (from docker<7,>=4.0.0->mlflow>=1.24.0->pycaret[full]) (1.4.1)\n",
            "Requirement already satisfied: gitdb<5,>=4.0.1 in /usr/local/lib/python3.7/dist-packages (from gitpython<4,>=2.1.0->mlflow>=1.24.0->pycaret[full]) (4.0.9)\n",
            "Requirement already satisfied: smmap<6,>=3.0.1 in /usr/local/lib/python3.7/dist-packages (from gitdb<5,>=4.0.1->gitpython<4,>=2.1.0->mlflow>=1.24.0->pycaret[full]) (5.0.0)\n",
            "Requirement already satisfied: cryptography>=3.3.1 in /usr/local/lib/python3.7/dist-packages (from moto>=3.0.7->pycaret[full]) (38.0.1)\n",
            "Requirement already satisfied: flask-cors in /usr/local/lib/python3.7/dist-packages (from moto>=3.0.7->pycaret[full]) (3.0.10)\n",
            "Requirement already satisfied: xmltodict in /usr/local/lib/python3.7/dist-packages (from moto>=3.0.7->pycaret[full]) (0.13.0)\n",
            "Requirement already satisfied: responses>=0.13.0 in /usr/local/lib/python3.7/dist-packages (from moto>=3.0.7->pycaret[full]) (0.21.0)\n",
            "Requirement already satisfied: cffi>=1.12 in /usr/local/lib/python3.7/dist-packages (from cryptography>=3.3.1->moto>=3.0.7->pycaret[full]) (1.15.1)\n",
            "Requirement already satisfied: pycparser in /usr/local/lib/python3.7/dist-packages (from cffi>=1.12->cryptography>=3.3.1->moto>=3.0.7->pycaret[full]) (2.21)\n",
            "Requirement already satisfied: llvmlite<0.39,>=0.38.0rc1 in /usr/local/lib/python3.7/dist-packages (from numba~=0.55.0->pycaret[full]) (0.38.1)\n",
            "Requirement already satisfied: cmaes>=0.8.2 in /usr/local/lib/python3.7/dist-packages (from optuna>=2.2.0->pycaret[full]) (0.8.2)\n",
            "Requirement already satisfied: cliff in /usr/local/lib/python3.7/dist-packages (from optuna>=2.2.0->pycaret[full]) (3.10.1)\n",
            "Requirement already satisfied: colorlog in /usr/local/lib/python3.7/dist-packages (from optuna>=2.2.0->pycaret[full]) (6.7.0)\n",
            "Requirement already satisfied: htmlmin==0.1.12 in /usr/local/lib/python3.7/dist-packages (from pandas-profiling>=3.1.0->pycaret[full]) (0.1.12)\n",
            "Requirement already satisfied: phik<0.13,>=0.11.1 in /usr/local/lib/python3.7/dist-packages (from pandas-profiling>=3.1.0->pycaret[full]) (0.12.2)\n",
            "Requirement already satisfied: tangled-up-in-unicode==0.2.0 in /usr/local/lib/python3.7/dist-packages (from pandas-profiling>=3.1.0->pycaret[full]) (0.2.0)\n",
            "Requirement already satisfied: visions[type_image_path]==0.7.5 in /usr/local/lib/python3.7/dist-packages (from pandas-profiling>=3.1.0->pycaret[full]) (0.7.5)\n",
            "Requirement already satisfied: multimethod<1.9,>=1.4 in /usr/local/lib/python3.7/dist-packages (from pandas-profiling>=3.1.0->pycaret[full]) (1.8)\n",
            "Requirement already satisfied: missingno<0.6,>=0.4.2 in /usr/local/lib/python3.7/dist-packages (from pandas-profiling>=3.1.0->pycaret[full]) (0.5.1)\n",
            "Requirement already satisfied: attrs>=19.3.0 in /usr/local/lib/python3.7/dist-packages (from visions[type_image_path]==0.7.5->pandas-profiling>=3.1.0->pycaret[full]) (22.1.0)\n",
            "Requirement already satisfied: imagehash in /usr/local/lib/python3.7/dist-packages (from visions[type_image_path]==0.7.5->pandas-profiling>=3.1.0->pycaret[full]) (4.3.0)\n",
            "Requirement already satisfied: markdown in /usr/local/lib/python3.7/dist-packages (from panel~=0.12.6->autoviz>=0.1.36->pycaret[full]) (3.4.1)\n",
            "Requirement already satisfied: bleach in /usr/local/lib/python3.7/dist-packages (from panel~=0.12.6->autoviz>=0.1.36->pycaret[full]) (5.0.1)\n",
            "Requirement already satisfied: locket in /usr/local/lib/python3.7/dist-packages (from partd>=0.3.10->dask[dataframe]>=2022.2.0->pycaret[full]) (1.0.0)\n",
            "Requirement already satisfied: tenacity>=6.2.0 in /usr/local/lib/python3.7/dist-packages (from plotly>=5.0.0->pycaret[full]) (8.0.1)\n",
            "Requirement already satisfied: trace-updater>=0.0.8 in /usr/local/lib/python3.7/dist-packages (from plotly-resampler>=0.7.2.2->pycaret[full]) (0.0.8)\n",
            "Requirement already satisfied: ansi2html in /usr/local/lib/python3.7/dist-packages (from jupyter-dash->explainerdashboard>=0.3.8->pycaret[full]) (1.8.0)\n",
            "Requirement already satisfied: nest-asyncio in /usr/local/lib/python3.7/dist-packages (from jupyter-dash->explainerdashboard>=0.3.8->pycaret[full]) (1.5.5)\n",
            "Requirement already satisfied: retrying in /usr/local/lib/python3.7/dist-packages (from jupyter-dash->explainerdashboard>=0.3.8->pycaret[full]) (1.3.3)\n",
            "Requirement already satisfied: Cython!=0.29.18,>=0.29 in /usr/local/lib/python3.7/dist-packages (from pmdarima!=1.8.1,<2.0.0,>=1.8.0->pycaret[full]) (0.29.32)\n",
            "Requirement already satisfied: prometheus-client in /usr/local/lib/python3.7/dist-packages (from prometheus-flask-exporter<1->mlflow>=1.24.0->pycaret[full]) (0.14.1)\n",
            "Requirement already satisfied: wcwidth in /usr/local/lib/python3.7/dist-packages (from prompt-toolkit<2.1.0,>=2.0.0->ipython>=5.5.0->pycaret[full]) (0.2.5)\n",
            "Requirement already satisfied: py>=1.8.2 in /usr/local/lib/python3.7/dist-packages (from pytest>=7.0.1->pycaret[full]) (1.11.0)\n",
            "Requirement already satisfied: pluggy<2.0,>=0.12 in /usr/local/lib/python3.7/dist-packages (from pytest>=7.0.1->pycaret[full]) (1.0.0)\n",
            "Requirement already satisfied: iniconfig in /usr/local/lib/python3.7/dist-packages (from pytest>=7.0.1->pycaret[full]) (1.1.1)\n",
            "Requirement already satisfied: tomli>=1.0.0 in /usr/local/lib/python3.7/dist-packages (from pytest>=7.0.1->pycaret[full]) (2.0.1)\n",
            "Requirement already satisfied: msgpack<2.0.0,>=1.0.0 in /usr/local/lib/python3.7/dist-packages (from ray[tune]>=1.0.0->pycaret[full]) (1.0.4)\n",
            "Requirement already satisfied: aiosignal in /usr/local/lib/python3.7/dist-packages (from ray[tune]>=1.0.0->pycaret[full]) (1.2.0)\n",
            "Requirement already satisfied: jsonschema in /usr/local/lib/python3.7/dist-packages (from ray[tune]>=1.0.0->pycaret[full]) (4.3.3)\n",
            "Requirement already satisfied: filelock in /usr/local/lib/python3.7/dist-packages (from ray[tune]>=1.0.0->pycaret[full]) (3.8.0)\n",
            "Requirement already satisfied: grpcio<=1.43.0,>=1.28.1 in /usr/local/lib/python3.7/dist-packages (from ray[tune]>=1.0.0->pycaret[full]) (1.43.0)\n",
            "Requirement already satisfied: virtualenv in /usr/local/lib/python3.7/dist-packages (from ray[tune]>=1.0.0->pycaret[full]) (20.16.5)\n",
            "Requirement already satisfied: frozenlist in /usr/local/lib/python3.7/dist-packages (from ray[tune]>=1.0.0->pycaret[full]) (1.3.1)\n",
            "Requirement already satisfied: tensorboardX>=1.9 in /usr/local/lib/python3.7/dist-packages (from ray[tune]>=1.0.0->pycaret[full]) (2.5.1)\n",
            "Requirement already satisfied: certifi>=2017.4.17 in /usr/local/lib/python3.7/dist-packages (from requests>=2.27.1->pycaret[full]) (2022.6.15)\n",
            "Requirement already satisfied: charset-normalizer<3,>=2 in /usr/local/lib/python3.7/dist-packages (from requests>=2.27.1->pycaret[full]) (2.1.1)\n",
            "Requirement already satisfied: pathos in /usr/local/lib/python3.7/dist-packages (from SALib>=1.3.3->interpret-core[dash,debug,decisiontree,ebm,lime,linear,notebook,plotly,required,sensitivity,shap,skoperules,treeinterpreter]>=0.2.7->interpret>=0.2.7->pycaret[full]) (0.2.9)\n",
            "Requirement already satisfied: PyWavelets>=1.1.1 in /usr/local/lib/python3.7/dist-packages (from scikit-image>=0.12->lime>=0.1.1.33->interpret-core[dash,debug,decisiontree,ebm,lime,linear,notebook,plotly,required,sensitivity,shap,skoperules,treeinterpreter]>=0.2.7->interpret>=0.2.7->pycaret[full]) (1.3.0)\n",
            "Requirement already satisfied: tifffile>=2019.7.26 in /usr/local/lib/python3.7/dist-packages (from scikit-image>=0.12->lime>=0.1.1.33->interpret-core[dash,debug,decisiontree,ebm,lime,linear,notebook,plotly,required,sensitivity,shap,skoperules,treeinterpreter]>=0.2.7->interpret>=0.2.7->pycaret[full]) (2021.11.2)\n",
            "Requirement already satisfied: imageio>=2.3.0 in /usr/local/lib/python3.7/dist-packages (from scikit-image>=0.12->lime>=0.1.1.33->interpret-core[dash,debug,decisiontree,ebm,lime,linear,notebook,plotly,required,sensitivity,shap,skoperules,treeinterpreter]>=0.2.7->interpret>=0.2.7->pycaret[full]) (2.9.0)\n",
            "Requirement already satisfied: threadpoolctl>=2.0.0 in /usr/local/lib/python3.7/dist-packages (from scikit-learn>=1.0->pycaret[full]) (3.1.0)\n",
            "Requirement already satisfied: daal4py==2021.6.3 in /usr/local/lib/python3.7/dist-packages (from scikit-learn-intelex>=2021.6.3->pycaret[full]) (2021.6.3)\n",
            "Requirement already satisfied: daal==2021.6.0 in /usr/local/lib/python3.7/dist-packages (from daal4py==2021.6.3->scikit-learn-intelex>=2021.6.3->pycaret[full]) (2021.6.0)\n",
            "Requirement already satisfied: tbb==2021.* in /usr/local/lib/python3.7/dist-packages (from daal==2021.6.0->daal4py==2021.6.3->scikit-learn-intelex>=2021.6.3->pycaret[full]) (2021.7.0)\n",
            "Requirement already satisfied: pyaml>=16.9 in /usr/local/lib/python3.7/dist-packages (from scikit-optimize>=0.9.0->pycaret[full]) (21.10.1)\n",
            "Requirement already satisfied: slicer==0.0.7 in /usr/local/lib/python3.7/dist-packages (from shap>=0.38.0->pycaret[full]) (0.0.7)\n",
            "Requirement already satisfied: deprecated>=1.2.13 in /usr/local/lib/python3.7/dist-packages (from sktime~=0.13.2->pycaret[full]) (1.2.13)\n",
            "Requirement already satisfied: wrapt<2,>=1.10 in /usr/local/lib/python3.7/dist-packages (from deprecated>=1.2.13->sktime~=0.13.2->pycaret[full]) (1.14.1)\n",
            "Requirement already satisfied: fs in /usr/local/lib/python3.7/dist-packages (from triad>=0.6.0->fugue~=0.6.6->pycaret[full]) (2.4.16)\n",
            "Requirement already satisfied: pynndescent>=0.5 in /usr/local/lib/python3.7/dist-packages (from umap-learn>=0.5.2->pycaret[full]) (0.5.7)\n",
            "Requirement already satisfied: notebook>=4.4.1 in /usr/local/lib/python3.7/dist-packages (from widgetsnbextension~=3.6.0->ipywidgets>=7.6.5->pycaret[full]) (5.3.1)\n",
            "Requirement already satisfied: nbformat in /usr/local/lib/python3.7/dist-packages (from notebook>=4.4.1->widgetsnbextension~=3.6.0->ipywidgets>=7.6.5->pycaret[full]) (5.4.0)\n",
            "Requirement already satisfied: Send2Trash in /usr/local/lib/python3.7/dist-packages (from notebook>=4.4.1->widgetsnbextension~=3.6.0->ipywidgets>=7.6.5->pycaret[full]) (1.8.0)\n",
            "Requirement already satisfied: terminado>=0.8.1 in /usr/local/lib/python3.7/dist-packages (from notebook>=4.4.1->widgetsnbextension~=3.6.0->ipywidgets>=7.6.5->pycaret[full]) (0.13.3)\n",
            "Requirement already satisfied: nbconvert in /usr/local/lib/python3.7/dist-packages (from notebook>=4.4.1->widgetsnbextension~=3.6.0->ipywidgets>=7.6.5->pycaret[full]) (5.6.1)\n",
            "Requirement already satisfied: jupyter-core>=4.4.0 in /usr/local/lib/python3.7/dist-packages (from notebook>=4.4.1->widgetsnbextension~=3.6.0->ipywidgets>=7.6.5->pycaret[full]) (4.11.1)\n",
            "Requirement already satisfied: pyzmq>=13 in /usr/local/lib/python3.7/dist-packages (from jupyter-client->ipykernel>=5.1.0->interpret-core[dash,debug,decisiontree,ebm,lime,linear,notebook,plotly,required,sensitivity,shap,skoperules,treeinterpreter]>=0.2.7->interpret>=0.2.7->pycaret[full]) (23.2.1)\n",
            "Requirement already satisfied: ptyprocess in /usr/local/lib/python3.7/dist-packages (from terminado>=0.8.1->notebook>=4.4.1->widgetsnbextension~=3.6.0->ipywidgets>=7.6.5->pycaret[full]) (0.7.0)\n",
            "Requirement already satisfied: yarl<2.0,>=1.0 in /usr/local/lib/python3.7/dist-packages (from aiohttp->gradio>=2.8.10->pycaret[full]) (1.8.1)\n",
            "Requirement already satisfied: multidict<7.0,>=4.5 in /usr/local/lib/python3.7/dist-packages (from aiohttp->gradio>=2.8.10->pycaret[full]) (6.0.2)\n",
            "Requirement already satisfied: asynctest==0.13.0 in /usr/local/lib/python3.7/dist-packages (from aiohttp->gradio>=2.8.10->pycaret[full]) (0.13.0)\n",
            "Requirement already satisfied: async-timeout<5.0,>=4.0.0a3 in /usr/local/lib/python3.7/dist-packages (from aiohttp->gradio>=2.8.10->pycaret[full]) (4.0.2)\n",
            "Requirement already satisfied: monotonic>=1.5 in /usr/local/lib/python3.7/dist-packages (from analytics-python->gradio>=2.8.10->pycaret[full]) (1.6)\n",
            "Requirement already satisfied: backoff==1.10.0 in /usr/local/lib/python3.7/dist-packages (from analytics-python->gradio>=2.8.10->pycaret[full]) (1.10.0)\n",
            "Requirement already satisfied: webencodings in /usr/local/lib/python3.7/dist-packages (from bleach->panel~=0.12.6->autoviz>=0.1.36->pycaret[full]) (0.5.1)\n",
            "Requirement already satisfied: stevedore>=2.0.1 in /usr/local/lib/python3.7/dist-packages (from cliff->optuna>=2.2.0->pycaret[full]) (3.5.0)\n",
            "Requirement already satisfied: pbr!=2.1.0,>=2.0.0 in /usr/local/lib/python3.7/dist-packages (from cliff->optuna>=2.2.0->pycaret[full]) (5.10.0)\n",
            "Requirement already satisfied: PrettyTable>=0.7.2 in /usr/local/lib/python3.7/dist-packages (from cliff->optuna>=2.2.0->pycaret[full]) (3.4.1)\n",
            "Requirement already satisfied: cmd2>=1.0.0 in /usr/local/lib/python3.7/dist-packages (from cliff->optuna>=2.2.0->pycaret[full]) (2.4.2)\n",
            "Requirement already satisfied: autopage>=0.4.0 in /usr/local/lib/python3.7/dist-packages (from cliff->optuna>=2.2.0->pycaret[full]) (0.5.1)\n",
            "Requirement already satisfied: pyperclip>=1.6 in /usr/local/lib/python3.7/dist-packages (from cmd2>=1.0.0->cliff->optuna>=2.2.0->pycaret[full]) (1.8.2)\n",
            "Requirement already satisfied: flask-seasurf in /usr/local/lib/python3.7/dist-packages (from dash-auth->explainerdashboard>=0.3.8->pycaret[full]) (1.1.1)\n",
            "Requirement already satisfied: ua-parser in /usr/local/lib/python3.7/dist-packages (from dash-auth->explainerdashboard>=0.3.8->pycaret[full]) (0.16.1)\n",
            "Requirement already satisfied: chart-studio>=1.0.0 in /usr/local/lib/python3.7/dist-packages (from dash-auth->explainerdashboard>=0.3.8->pycaret[full]) (1.1.0)\n",
            "Requirement already satisfied: selenium<=4.2.0,>=3.141.0 in /usr/local/lib/python3.7/dist-packages (from dash[testing]->pycaret[full]) (4.2.0)\n",
            "Requirement already satisfied: percy>=2.0.2 in /usr/local/lib/python3.7/dist-packages (from dash[testing]->pycaret[full]) (2.0.2)\n",
            "Requirement already satisfied: beautifulsoup4>=4.8.2 in /usr/local/lib/python3.7/dist-packages (from dash[testing]->pycaret[full]) (4.11.1)\n",
            "Requirement already satisfied: multiprocess>=0.70.12 in /usr/local/lib/python3.7/dist-packages (from dash[testing]->pycaret[full]) (0.70.13)\n",
            "Requirement already satisfied: lxml>=4.6.2 in /usr/local/lib/python3.7/dist-packages (from dash[testing]->pycaret[full]) (4.9.1)\n",
            "Requirement already satisfied: soupsieve>1.2 in /usr/local/lib/python3.7/dist-packages (from beautifulsoup4>=4.8.2->dash[testing]->pycaret[full]) (2.3.2.post1)\n",
            "Requirement already satisfied: trio-websocket~=0.9 in /usr/local/lib/python3.7/dist-packages (from selenium<=4.2.0,>=3.141.0->dash[testing]->pycaret[full]) (0.9.2)\n",
            "Requirement already satisfied: trio~=0.17 in /usr/local/lib/python3.7/dist-packages (from selenium<=4.2.0,>=3.141.0->dash[testing]->pycaret[full]) (0.21.0)\n",
            "Requirement already satisfied: sortedcontainers in /usr/local/lib/python3.7/dist-packages (from trio~=0.17->selenium<=4.2.0,>=3.141.0->dash[testing]->pycaret[full]) (2.4.0)\n",
            "Requirement already satisfied: async-generator>=1.9 in /usr/local/lib/python3.7/dist-packages (from trio~=0.17->selenium<=4.2.0,>=3.141.0->dash[testing]->pycaret[full]) (1.10)\n",
            "Requirement already satisfied: outcome in /usr/local/lib/python3.7/dist-packages (from trio~=0.17->selenium<=4.2.0,>=3.141.0->dash[testing]->pycaret[full]) (1.2.0)\n",
            "Requirement already satisfied: wsproto>=0.14 in /usr/local/lib/python3.7/dist-packages (from trio-websocket~=0.9->selenium<=4.2.0,>=3.141.0->dash[testing]->pycaret[full]) (1.2.0)\n",
            "Requirement already satisfied: urllib3-secure-extra in /usr/local/lib/python3.7/dist-packages (from urllib3<1.27,>=1.25.4->botocore<1.28.0,>=1.27.80->boto3>=1.24.56->pycaret[full]) (0.1.0)\n",
            "Requirement already satisfied: pyOpenSSL>=0.14 in /usr/local/lib/python3.7/dist-packages (from urllib3<1.27,>=1.25.4->botocore<1.28.0,>=1.27.80->boto3>=1.24.56->pycaret[full]) (22.0.0)\n",
            "Requirement already satisfied: PySocks!=1.5.7,<2.0,>=1.5.6 in /usr/local/lib/python3.7/dist-packages (from urllib3<1.27,>=1.25.4->botocore<1.28.0,>=1.27.80->boto3>=1.24.56->pycaret[full]) (1.7.1)\n",
            "Requirement already satisfied: brotli in /usr/local/lib/python3.7/dist-packages (from flask-compress->dash[testing]->pycaret[full]) (1.0.9)\n",
            "Requirement already satisfied: WTForms>=2.1 in /usr/local/lib/python3.7/dist-packages (from flask-simplelogin->explainerdashboard>=0.3.8->pycaret[full]) (3.0.1)\n",
            "Requirement already satisfied: Flask-WTF<0.16.0,>=0.15.1 in /usr/local/lib/python3.7/dist-packages (from flask-simplelogin->explainerdashboard>=0.3.8->pycaret[full]) (0.15.1)\n",
            "Requirement already satisfied: appdirs~=1.4.3 in /usr/local/lib/python3.7/dist-packages (from fs->triad>=0.6.0->fugue~=0.6.6->pycaret[full]) (1.4.4)\n",
            "Requirement already satisfied: httpcore<0.14.0,>=0.13.3 in /usr/local/lib/python3.7/dist-packages (from httpx->gradio>=2.8.10->pycaret[full]) (0.13.7)\n",
            "Requirement already satisfied: rfc3986[idna2008]<2,>=1.3 in /usr/local/lib/python3.7/dist-packages (from httpx->gradio>=2.8.10->pycaret[full]) (1.5.0)\n",
            "Requirement already satisfied: pyrsistent!=0.17.0,!=0.17.1,!=0.17.2,>=0.14.0 in /usr/local/lib/python3.7/dist-packages (from jsonschema->ray[tune]>=1.0.0->pycaret[full]) (0.18.1)\n",
            "Requirement already satisfied: qtconsole in /usr/local/lib/python3.7/dist-packages (from jupyter->autoviz>=0.1.36->pycaret[full]) (5.3.2)\n",
            "Requirement already satisfied: jupyter-console in /usr/local/lib/python3.7/dist-packages (from jupyter->autoviz>=0.1.36->pycaret[full]) (6.1.0)\n",
            "Requirement already satisfied: mdurl~=0.1 in /usr/local/lib/python3.7/dist-packages (from markdown-it-py[linkify,plugins]->gradio>=2.8.10->pycaret[full]) (0.1.2)\n",
            "Requirement already satisfied: mdit-py-plugins in /usr/local/lib/python3.7/dist-packages (from markdown-it-py[linkify,plugins]->gradio>=2.8.10->pycaret[full]) (0.3.0)\n",
            "Requirement already satisfied: linkify-it-py~=1.0 in /usr/local/lib/python3.7/dist-packages (from markdown-it-py[linkify,plugins]->gradio>=2.8.10->pycaret[full]) (1.0.3)\n",
            "Requirement already satisfied: uc-micro-py in /usr/local/lib/python3.7/dist-packages (from linkify-it-py~=1.0->markdown-it-py[linkify,plugins]->gradio>=2.8.10->pycaret[full]) (1.0.1)\n",
            "Requirement already satisfied: testpath in /usr/local/lib/python3.7/dist-packages (from nbconvert->notebook>=4.4.1->widgetsnbextension~=3.6.0->ipywidgets>=7.6.5->pycaret[full]) (0.6.0)\n",
            "Requirement already satisfied: defusedxml in /usr/local/lib/python3.7/dist-packages (from nbconvert->notebook>=4.4.1->widgetsnbextension~=3.6.0->ipywidgets>=7.6.5->pycaret[full]) (0.7.1)\n",
            "Requirement already satisfied: pandocfilters>=1.4.1 in /usr/local/lib/python3.7/dist-packages (from nbconvert->notebook>=4.4.1->widgetsnbextension~=3.6.0->ipywidgets>=7.6.5->pycaret[full]) (1.5.0)\n",
            "Requirement already satisfied: mistune<2,>=0.8.1 in /usr/local/lib/python3.7/dist-packages (from nbconvert->notebook>=4.4.1->widgetsnbextension~=3.6.0->ipywidgets>=7.6.5->pycaret[full]) (0.8.4)\n",
            "Requirement already satisfied: fastjsonschema in /usr/local/lib/python3.7/dist-packages (from nbformat->notebook>=4.4.1->widgetsnbextension~=3.6.0->ipywidgets>=7.6.5->pycaret[full]) (2.16.1)\n",
            "Requirement already satisfied: regex>=2021.8.3 in /usr/local/lib/python3.7/dist-packages (from nltk->autoviz>=0.1.36->pycaret[full]) (2022.6.2)\n",
            "Requirement already satisfied: pynacl>=1.0.1 in /usr/local/lib/python3.7/dist-packages (from paramiko->gradio>=2.8.10->pycaret[full]) (1.5.0)\n",
            "Requirement already satisfied: bcrypt>=3.1.3 in /usr/local/lib/python3.7/dist-packages (from paramiko->gradio>=2.8.10->pycaret[full]) (4.0.0)\n",
            "Requirement already satisfied: ppft>=1.7.6.5 in /usr/local/lib/python3.7/dist-packages (from pathos->SALib>=1.3.3->interpret-core[dash,debug,decisiontree,ebm,lime,linear,notebook,plotly,required,sensitivity,shap,skoperules,treeinterpreter]>=0.2.7->interpret>=0.2.7->pycaret[full]) (1.7.6.5)\n",
            "Requirement already satisfied: pox>=0.3.1 in /usr/local/lib/python3.7/dist-packages (from pathos->SALib>=1.3.3->interpret-core[dash,debug,decisiontree,ebm,lime,linear,notebook,plotly,required,sensitivity,shap,skoperules,treeinterpreter]>=0.2.7->interpret>=0.2.7->pycaret[full]) (0.3.1)\n",
            "Requirement already satisfied: qtpy>=2.0.1 in /usr/local/lib/python3.7/dist-packages (from qtconsole->jupyter->autoviz>=0.1.36->pycaret[full]) (2.2.0)\n",
            "Requirement already satisfied: platformdirs<3,>=2.4 in /usr/local/lib/python3.7/dist-packages (from virtualenv->ray[tune]>=1.0.0->pycaret[full]) (2.5.2)\n",
            "Requirement already satisfied: distlib<1,>=0.3.5 in /usr/local/lib/python3.7/dist-packages (from virtualenv->ray[tune]>=1.0.0->pycaret[full]) (0.3.6)\n"
          ]
        }
      ],
      "source": [
        "!pip install --pre pycaret[full]"
      ]
    },
    {
      "cell_type": "markdown",
      "metadata": {
        "id": "ZwJxBrO5OKYx"
      },
      "source": [
        "# **Carga de módulos y datos necesarios**"
      ]
    },
    {
      "cell_type": "code",
      "execution_count": 2,
      "metadata": {
        "id": "pCtcmSOaN36q"
      },
      "outputs": [],
      "source": [
        "import pandas as pd\n",
        "import numpy as np"
      ]
    },
    {
      "cell_type": "markdown",
      "metadata": {
        "id": "j4-5vBg8dBok"
      },
      "source": [
        "# Habilitando PyCaret"
      ]
    },
    {
      "cell_type": "code",
      "execution_count": 3,
      "metadata": {
        "id": "K0M5KInTdQpw"
      },
      "outputs": [],
      "source": [
        "from pycaret.classification import *"
      ]
    },
    {
      "cell_type": "code",
      "execution_count": 4,
      "metadata": {
        "id": "TY2UlJRtdVIg"
      },
      "outputs": [],
      "source": [
        "from pycaret.classification.oop import *\n",
        "LOGGER.disabled = True"
      ]
    },
    {
      "cell_type": "markdown",
      "metadata": {
        "id": "giV9Xmh-QhdF"
      },
      "source": [
        "# **Creación del DataFrame**"
      ]
    },
    {
      "cell_type": "code",
      "execution_count": 5,
      "metadata": {
        "id": "NR1EJ5SmNeRR"
      },
      "outputs": [],
      "source": [
        "url=\"https://raw.githubusercontent.com/cristiandarioortegayubro/BA/main/Datasets/\"\n",
        "archivo=\"bank-full.csv\"\n",
        "clasificacion = pd.read_csv(url+archivo)"
      ]
    },
    {
      "cell_type": "code",
      "execution_count": 6,
      "metadata": {
        "colab": {
          "base_uri": "https://localhost:8080/",
          "height": 206
        },
        "id": "sKZ8TMtOhYhb",
        "outputId": "dac4a69f-415a-4bc6-85ef-14bfedc247e8"
      },
      "outputs": [
        {
          "output_type": "execute_result",
          "data": {
            "text/plain": [
              "   age           job  marital  education default  balance housing loan  \\\n",
              "0   58    management  married   tertiary      no     2143     yes   no   \n",
              "1   44    technician   single  secondary      no       29     yes   no   \n",
              "2   33  entrepreneur  married  secondary      no        2     yes  yes   \n",
              "3   47   blue-collar  married        NaN      no     1506     yes   no   \n",
              "4   33           NaN   single        NaN      no        1      no   no   \n",
              "\n",
              "  contact  day month  duration  campaign  pdays  previous poutcome   y  \n",
              "0     NaN    5   may       261         1     -1         0      NaN  no  \n",
              "1     NaN    5   may       151         1     -1         0      NaN  no  \n",
              "2     NaN    5   may        76         1     -1         0      NaN  no  \n",
              "3     NaN    5   may        92         1     -1         0      NaN  no  \n",
              "4     NaN    5   may       198         1     -1         0      NaN  no  "
            ],
            "text/html": [
              "\n",
              "  <div id=\"df-518dc543-1130-4ed2-b1fe-bd92d15a0788\">\n",
              "    <div class=\"colab-df-container\">\n",
              "      <div>\n",
              "<style scoped>\n",
              "    .dataframe tbody tr th:only-of-type {\n",
              "        vertical-align: middle;\n",
              "    }\n",
              "\n",
              "    .dataframe tbody tr th {\n",
              "        vertical-align: top;\n",
              "    }\n",
              "\n",
              "    .dataframe thead th {\n",
              "        text-align: right;\n",
              "    }\n",
              "</style>\n",
              "<table border=\"1\" class=\"dataframe\">\n",
              "  <thead>\n",
              "    <tr style=\"text-align: right;\">\n",
              "      <th></th>\n",
              "      <th>age</th>\n",
              "      <th>job</th>\n",
              "      <th>marital</th>\n",
              "      <th>education</th>\n",
              "      <th>default</th>\n",
              "      <th>balance</th>\n",
              "      <th>housing</th>\n",
              "      <th>loan</th>\n",
              "      <th>contact</th>\n",
              "      <th>day</th>\n",
              "      <th>month</th>\n",
              "      <th>duration</th>\n",
              "      <th>campaign</th>\n",
              "      <th>pdays</th>\n",
              "      <th>previous</th>\n",
              "      <th>poutcome</th>\n",
              "      <th>y</th>\n",
              "    </tr>\n",
              "  </thead>\n",
              "  <tbody>\n",
              "    <tr>\n",
              "      <th>0</th>\n",
              "      <td>58</td>\n",
              "      <td>management</td>\n",
              "      <td>married</td>\n",
              "      <td>tertiary</td>\n",
              "      <td>no</td>\n",
              "      <td>2143</td>\n",
              "      <td>yes</td>\n",
              "      <td>no</td>\n",
              "      <td>NaN</td>\n",
              "      <td>5</td>\n",
              "      <td>may</td>\n",
              "      <td>261</td>\n",
              "      <td>1</td>\n",
              "      <td>-1</td>\n",
              "      <td>0</td>\n",
              "      <td>NaN</td>\n",
              "      <td>no</td>\n",
              "    </tr>\n",
              "    <tr>\n",
              "      <th>1</th>\n",
              "      <td>44</td>\n",
              "      <td>technician</td>\n",
              "      <td>single</td>\n",
              "      <td>secondary</td>\n",
              "      <td>no</td>\n",
              "      <td>29</td>\n",
              "      <td>yes</td>\n",
              "      <td>no</td>\n",
              "      <td>NaN</td>\n",
              "      <td>5</td>\n",
              "      <td>may</td>\n",
              "      <td>151</td>\n",
              "      <td>1</td>\n",
              "      <td>-1</td>\n",
              "      <td>0</td>\n",
              "      <td>NaN</td>\n",
              "      <td>no</td>\n",
              "    </tr>\n",
              "    <tr>\n",
              "      <th>2</th>\n",
              "      <td>33</td>\n",
              "      <td>entrepreneur</td>\n",
              "      <td>married</td>\n",
              "      <td>secondary</td>\n",
              "      <td>no</td>\n",
              "      <td>2</td>\n",
              "      <td>yes</td>\n",
              "      <td>yes</td>\n",
              "      <td>NaN</td>\n",
              "      <td>5</td>\n",
              "      <td>may</td>\n",
              "      <td>76</td>\n",
              "      <td>1</td>\n",
              "      <td>-1</td>\n",
              "      <td>0</td>\n",
              "      <td>NaN</td>\n",
              "      <td>no</td>\n",
              "    </tr>\n",
              "    <tr>\n",
              "      <th>3</th>\n",
              "      <td>47</td>\n",
              "      <td>blue-collar</td>\n",
              "      <td>married</td>\n",
              "      <td>NaN</td>\n",
              "      <td>no</td>\n",
              "      <td>1506</td>\n",
              "      <td>yes</td>\n",
              "      <td>no</td>\n",
              "      <td>NaN</td>\n",
              "      <td>5</td>\n",
              "      <td>may</td>\n",
              "      <td>92</td>\n",
              "      <td>1</td>\n",
              "      <td>-1</td>\n",
              "      <td>0</td>\n",
              "      <td>NaN</td>\n",
              "      <td>no</td>\n",
              "    </tr>\n",
              "    <tr>\n",
              "      <th>4</th>\n",
              "      <td>33</td>\n",
              "      <td>NaN</td>\n",
              "      <td>single</td>\n",
              "      <td>NaN</td>\n",
              "      <td>no</td>\n",
              "      <td>1</td>\n",
              "      <td>no</td>\n",
              "      <td>no</td>\n",
              "      <td>NaN</td>\n",
              "      <td>5</td>\n",
              "      <td>may</td>\n",
              "      <td>198</td>\n",
              "      <td>1</td>\n",
              "      <td>-1</td>\n",
              "      <td>0</td>\n",
              "      <td>NaN</td>\n",
              "      <td>no</td>\n",
              "    </tr>\n",
              "  </tbody>\n",
              "</table>\n",
              "</div>\n",
              "      <button class=\"colab-df-convert\" onclick=\"convertToInteractive('df-518dc543-1130-4ed2-b1fe-bd92d15a0788')\"\n",
              "              title=\"Convert this dataframe to an interactive table.\"\n",
              "              style=\"display:none;\">\n",
              "        \n",
              "  <svg xmlns=\"http://www.w3.org/2000/svg\" height=\"24px\"viewBox=\"0 0 24 24\"\n",
              "       width=\"24px\">\n",
              "    <path d=\"M0 0h24v24H0V0z\" fill=\"none\"/>\n",
              "    <path d=\"M18.56 5.44l.94 2.06.94-2.06 2.06-.94-2.06-.94-.94-2.06-.94 2.06-2.06.94zm-11 1L8.5 8.5l.94-2.06 2.06-.94-2.06-.94L8.5 2.5l-.94 2.06-2.06.94zm10 10l.94 2.06.94-2.06 2.06-.94-2.06-.94-.94-2.06-.94 2.06-2.06.94z\"/><path d=\"M17.41 7.96l-1.37-1.37c-.4-.4-.92-.59-1.43-.59-.52 0-1.04.2-1.43.59L10.3 9.45l-7.72 7.72c-.78.78-.78 2.05 0 2.83L4 21.41c.39.39.9.59 1.41.59.51 0 1.02-.2 1.41-.59l7.78-7.78 2.81-2.81c.8-.78.8-2.07 0-2.86zM5.41 20L4 18.59l7.72-7.72 1.47 1.35L5.41 20z\"/>\n",
              "  </svg>\n",
              "      </button>\n",
              "      \n",
              "  <style>\n",
              "    .colab-df-container {\n",
              "      display:flex;\n",
              "      flex-wrap:wrap;\n",
              "      gap: 12px;\n",
              "    }\n",
              "\n",
              "    .colab-df-convert {\n",
              "      background-color: #E8F0FE;\n",
              "      border: none;\n",
              "      border-radius: 50%;\n",
              "      cursor: pointer;\n",
              "      display: none;\n",
              "      fill: #1967D2;\n",
              "      height: 32px;\n",
              "      padding: 0 0 0 0;\n",
              "      width: 32px;\n",
              "    }\n",
              "\n",
              "    .colab-df-convert:hover {\n",
              "      background-color: #E2EBFA;\n",
              "      box-shadow: 0px 1px 2px rgba(60, 64, 67, 0.3), 0px 1px 3px 1px rgba(60, 64, 67, 0.15);\n",
              "      fill: #174EA6;\n",
              "    }\n",
              "\n",
              "    [theme=dark] .colab-df-convert {\n",
              "      background-color: #3B4455;\n",
              "      fill: #D2E3FC;\n",
              "    }\n",
              "\n",
              "    [theme=dark] .colab-df-convert:hover {\n",
              "      background-color: #434B5C;\n",
              "      box-shadow: 0px 1px 3px 1px rgba(0, 0, 0, 0.15);\n",
              "      filter: drop-shadow(0px 1px 2px rgba(0, 0, 0, 0.3));\n",
              "      fill: #FFFFFF;\n",
              "    }\n",
              "  </style>\n",
              "\n",
              "      <script>\n",
              "        const buttonEl =\n",
              "          document.querySelector('#df-518dc543-1130-4ed2-b1fe-bd92d15a0788 button.colab-df-convert');\n",
              "        buttonEl.style.display =\n",
              "          google.colab.kernel.accessAllowed ? 'block' : 'none';\n",
              "\n",
              "        async function convertToInteractive(key) {\n",
              "          const element = document.querySelector('#df-518dc543-1130-4ed2-b1fe-bd92d15a0788');\n",
              "          const dataTable =\n",
              "            await google.colab.kernel.invokeFunction('convertToInteractive',\n",
              "                                                     [key], {});\n",
              "          if (!dataTable) return;\n",
              "\n",
              "          const docLinkHtml = 'Like what you see? Visit the ' +\n",
              "            '<a target=\"_blank\" href=https://colab.research.google.com/notebooks/data_table.ipynb>data table notebook</a>'\n",
              "            + ' to learn more about interactive tables.';\n",
              "          element.innerHTML = '';\n",
              "          dataTable['output_type'] = 'display_data';\n",
              "          await google.colab.output.renderOutput(dataTable, element);\n",
              "          const docLink = document.createElement('div');\n",
              "          docLink.innerHTML = docLinkHtml;\n",
              "          element.appendChild(docLink);\n",
              "        }\n",
              "      </script>\n",
              "    </div>\n",
              "  </div>\n",
              "  "
            ]
          },
          "metadata": {},
          "execution_count": 6
        }
      ],
      "source": [
        "clasificacion.head()"
      ]
    },
    {
      "cell_type": "code",
      "execution_count": 7,
      "metadata": {
        "colab": {
          "base_uri": "https://localhost:8080/"
        },
        "id": "kDsrBzmaclNd",
        "outputId": "9faa0494-025e-424f-d828-cdc2789e7708"
      },
      "outputs": [
        {
          "output_type": "execute_result",
          "data": {
            "text/plain": [
              "(45211, 17)"
            ]
          },
          "metadata": {},
          "execution_count": 7
        }
      ],
      "source": [
        "clasificacion.shape"
      ]
    },
    {
      "cell_type": "code",
      "execution_count": 8,
      "metadata": {
        "colab": {
          "base_uri": "https://localhost:8080/"
        },
        "id": "a_JnphMTcsgV",
        "outputId": "a30f7e71-4a54-466d-c1a6-c572862ca599"
      },
      "outputs": [
        {
          "output_type": "stream",
          "name": "stdout",
          "text": [
            "El dataset tiene 45211 filas y 17 columnas\n"
          ]
        }
      ],
      "source": [
        "print(f\"El dataset tiene {clasificacion.shape[0]} filas y {clasificacion.shape[1]} columnas\")"
      ]
    },
    {
      "cell_type": "code",
      "execution_count": 9,
      "metadata": {
        "colab": {
          "base_uri": "https://localhost:8080/"
        },
        "id": "6TM3B_LMd3hR",
        "outputId": "7d65a63a-8d36-4313-fa54-826d5de4fd9b"
      },
      "outputs": [
        {
          "output_type": "execute_result",
          "data": {
            "text/plain": [
              "Index(['age', 'job', 'marital', 'education', 'default', 'balance', 'housing',\n",
              "       'loan', 'contact', 'day', 'month', 'duration', 'campaign', 'pdays',\n",
              "       'previous', 'poutcome', 'y'],\n",
              "      dtype='object')"
            ]
          },
          "metadata": {},
          "execution_count": 9
        }
      ],
      "source": [
        "clasificacion.columns"
      ]
    },
    {
      "cell_type": "code",
      "execution_count": 10,
      "metadata": {
        "colab": {
          "base_uri": "https://localhost:8080/"
        },
        "id": "4D9M6Y_vd5ic",
        "outputId": "337e34fc-43c2-4b63-be55-db8480326773"
      },
      "outputs": [
        {
          "output_type": "execute_result",
          "data": {
            "text/plain": [
              "(45211, 17)"
            ]
          },
          "metadata": {},
          "execution_count": 10
        }
      ],
      "source": [
        "clasificacion.shape"
      ]
    },
    {
      "cell_type": "code",
      "execution_count": 11,
      "metadata": {
        "id": "wbiNw3x1d70C"
      },
      "outputs": [],
      "source": [
        "clasificacion.drop(columns=[\"balance\",\"contact\",\"day\",\"pdays\",\"previous\"],inplace=True)"
      ]
    },
    {
      "cell_type": "code",
      "execution_count": 12,
      "metadata": {
        "id": "h343JbwDeCIu"
      },
      "outputs": [],
      "source": [
        "clasificacion.drop(columns=[\"poutcome\"],inplace=True)"
      ]
    },
    {
      "cell_type": "code",
      "execution_count": 13,
      "metadata": {
        "colab": {
          "base_uri": "https://localhost:8080/"
        },
        "id": "9iqNmto4eFlh",
        "outputId": "7eec4bdc-f302-43bf-92d6-cb720ce153f8"
      },
      "outputs": [
        {
          "output_type": "execute_result",
          "data": {
            "text/plain": [
              "(45211, 11)"
            ]
          },
          "metadata": {},
          "execution_count": 13
        }
      ],
      "source": [
        "clasificacion.shape"
      ]
    },
    {
      "cell_type": "code",
      "execution_count": 14,
      "metadata": {
        "colab": {
          "base_uri": "https://localhost:8080/"
        },
        "id": "MXuwTB94eHxo",
        "outputId": "7441af17-ec17-4f55-f356-db0205a71a4d"
      },
      "outputs": [
        {
          "output_type": "stream",
          "name": "stdout",
          "text": [
            "<class 'pandas.core.frame.DataFrame'>\n",
            "RangeIndex: 45211 entries, 0 to 45210\n",
            "Data columns (total 11 columns):\n",
            " #   Column     Non-Null Count  Dtype \n",
            "---  ------     --------------  ----- \n",
            " 0   age        45211 non-null  int64 \n",
            " 1   job        44923 non-null  object\n",
            " 2   marital    45211 non-null  object\n",
            " 3   education  43354 non-null  object\n",
            " 4   default    45211 non-null  object\n",
            " 5   housing    45211 non-null  object\n",
            " 6   loan       45211 non-null  object\n",
            " 7   month      45211 non-null  object\n",
            " 8   duration   45211 non-null  int64 \n",
            " 9   campaign   45211 non-null  int64 \n",
            " 10  y          45211 non-null  object\n",
            "dtypes: int64(3), object(8)\n",
            "memory usage: 3.8+ MB\n"
          ]
        }
      ],
      "source": [
        "clasificacion.info()"
      ]
    },
    {
      "cell_type": "code",
      "execution_count": 15,
      "metadata": {
        "colab": {
          "base_uri": "https://localhost:8080/"
        },
        "id": "TYLqQhHBeKkz",
        "outputId": "70fe0dac-7472-4a7e-faa5-80890ccabd34"
      },
      "outputs": [
        {
          "output_type": "execute_result",
          "data": {
            "text/plain": [
              "array(['management', 'technician', 'entrepreneur', 'blue-collar', nan,\n",
              "       'retired', 'admin.', 'services', 'self-employed', 'unemployed',\n",
              "       'housemaid', 'student'], dtype=object)"
            ]
          },
          "metadata": {},
          "execution_count": 15
        }
      ],
      "source": [
        "clasificacion.job.unique()"
      ]
    },
    {
      "cell_type": "code",
      "execution_count": 16,
      "metadata": {
        "id": "fURfndjJeNAz"
      },
      "outputs": [],
      "source": [
        "clasificacion.replace({\"unknown\": None}, inplace=True)"
      ]
    },
    {
      "cell_type": "code",
      "execution_count": 17,
      "metadata": {
        "colab": {
          "base_uri": "https://localhost:8080/"
        },
        "id": "xtv2b1N6eSH4",
        "outputId": "1e9f099f-6f59-4f35-fa32-559276f04f2d"
      },
      "outputs": [
        {
          "output_type": "stream",
          "name": "stdout",
          "text": [
            "<class 'pandas.core.frame.DataFrame'>\n",
            "RangeIndex: 45211 entries, 0 to 45210\n",
            "Data columns (total 11 columns):\n",
            " #   Column     Non-Null Count  Dtype \n",
            "---  ------     --------------  ----- \n",
            " 0   age        45211 non-null  int64 \n",
            " 1   job        44923 non-null  object\n",
            " 2   marital    45211 non-null  object\n",
            " 3   education  43354 non-null  object\n",
            " 4   default    45211 non-null  object\n",
            " 5   housing    45211 non-null  object\n",
            " 6   loan       45211 non-null  object\n",
            " 7   month      45211 non-null  object\n",
            " 8   duration   45211 non-null  int64 \n",
            " 9   campaign   45211 non-null  int64 \n",
            " 10  y          45211 non-null  object\n",
            "dtypes: int64(3), object(8)\n",
            "memory usage: 3.8+ MB\n"
          ]
        }
      ],
      "source": [
        "clasificacion.info()"
      ]
    },
    {
      "cell_type": "code",
      "execution_count": 18,
      "metadata": {
        "colab": {
          "base_uri": "https://localhost:8080/"
        },
        "id": "Kfdc3fAueU8F",
        "outputId": "3291ddb1-b6f0-4a3b-fc2c-0668ef157b3e"
      },
      "outputs": [
        {
          "output_type": "execute_result",
          "data": {
            "text/plain": [
              "(45211, 11)"
            ]
          },
          "metadata": {},
          "execution_count": 18
        }
      ],
      "source": [
        "clasificacion.shape"
      ]
    },
    {
      "cell_type": "code",
      "execution_count": 19,
      "metadata": {
        "colab": {
          "base_uri": "https://localhost:8080/"
        },
        "id": "hPKAUnLoeWm4",
        "outputId": "877d58ee-0741-4cad-e7f0-bcf8d607f9f8"
      },
      "outputs": [
        {
          "output_type": "execute_result",
          "data": {
            "text/plain": [
              "education    1857\n",
              "job           288\n",
              "age             0\n",
              "marital         0\n",
              "default         0\n",
              "housing         0\n",
              "loan            0\n",
              "month           0\n",
              "duration        0\n",
              "campaign        0\n",
              "y               0\n",
              "dtype: int64"
            ]
          },
          "metadata": {},
          "execution_count": 19
        }
      ],
      "source": [
        "clasificacion.isna().sum().sort_values(ascending=False)"
      ]
    },
    {
      "cell_type": "code",
      "execution_count": 20,
      "metadata": {
        "colab": {
          "base_uri": "https://localhost:8080/"
        },
        "id": "fV3xXFbdeYfK",
        "outputId": "5d32154e-0bff-498e-9df3-f2841ac53589"
      },
      "outputs": [
        {
          "output_type": "execute_result",
          "data": {
            "text/plain": [
              "education    4.11\n",
              "job          0.64\n",
              "age          0.00\n",
              "marital      0.00\n",
              "default      0.00\n",
              "housing      0.00\n",
              "loan         0.00\n",
              "month        0.00\n",
              "duration     0.00\n",
              "campaign     0.00\n",
              "y            0.00\n",
              "dtype: float64"
            ]
          },
          "metadata": {},
          "execution_count": 20
        }
      ],
      "source": [
        "round((clasificacion.isna().sum()*100/clasificacion.shape[0]),2).sort_values(ascending=False)"
      ]
    },
    {
      "cell_type": "code",
      "execution_count": 21,
      "metadata": {
        "id": "UIO6OBcvecii"
      },
      "outputs": [],
      "source": [
        "clasificacion.dropna(subset=[\"education\",\"job\"], inplace=True)"
      ]
    },
    {
      "cell_type": "code",
      "execution_count": 22,
      "metadata": {
        "colab": {
          "base_uri": "https://localhost:8080/"
        },
        "id": "F9MXJpCTehIT",
        "outputId": "4f00bbf4-c9f8-460c-f32a-128f96a362ba"
      },
      "outputs": [
        {
          "output_type": "execute_result",
          "data": {
            "text/plain": [
              "age          0.0\n",
              "job          0.0\n",
              "marital      0.0\n",
              "education    0.0\n",
              "default      0.0\n",
              "housing      0.0\n",
              "loan         0.0\n",
              "month        0.0\n",
              "duration     0.0\n",
              "campaign     0.0\n",
              "y            0.0\n",
              "dtype: float64"
            ]
          },
          "metadata": {},
          "execution_count": 22
        }
      ],
      "source": [
        "round((clasificacion.isna().sum()*100/clasificacion.shape[0]),2).sort_values(ascending=False)"
      ]
    },
    {
      "cell_type": "code",
      "execution_count": 23,
      "metadata": {
        "colab": {
          "base_uri": "https://localhost:8080/"
        },
        "id": "S3jvl7rlelj4",
        "outputId": "6bf73522-cb94-4e2b-a81f-33f75522f348"
      },
      "outputs": [
        {
          "output_type": "execute_result",
          "data": {
            "text/plain": [
              "(43193, 11)"
            ]
          },
          "metadata": {},
          "execution_count": 23
        }
      ],
      "source": [
        "clasificacion.shape"
      ]
    },
    {
      "cell_type": "markdown",
      "metadata": {
        "id": "nkLzXPZPeruq"
      },
      "source": [
        "# Configuracion inicial"
      ]
    },
    {
      "cell_type": "code",
      "execution_count": 24,
      "metadata": {
        "colab": {
          "base_uri": "https://localhost:8080/",
          "height": 833
        },
        "id": "JmjBqlsJevzJ",
        "outputId": "5f7017e0-1fae-4c78-9207-ba1719d43ff3"
      },
      "outputs": [
        {
          "output_type": "display_data",
          "data": {
            "text/plain": [
              "<pandas.io.formats.style.Styler at 0x7f81d01c98d0>"
            ],
            "text/html": [
              "<style type=\"text/css\">\n",
              "#T_2a64f_row11_col1 {\n",
              "  background-color: lightgreen;\n",
              "}\n",
              "</style>\n",
              "<table id=\"T_2a64f_\" class=\"dataframe\">\n",
              "  <thead>\n",
              "    <tr>\n",
              "      <th class=\"blank level0\" >&nbsp;</th>\n",
              "      <th class=\"col_heading level0 col0\" >Description</th>\n",
              "      <th class=\"col_heading level0 col1\" >Value</th>\n",
              "    </tr>\n",
              "  </thead>\n",
              "  <tbody>\n",
              "    <tr>\n",
              "      <th id=\"T_2a64f_level0_row0\" class=\"row_heading level0 row0\" >0</th>\n",
              "      <td id=\"T_2a64f_row0_col0\" class=\"data row0 col0\" >Session id</td>\n",
              "      <td id=\"T_2a64f_row0_col1\" class=\"data row0 col1\" >0</td>\n",
              "    </tr>\n",
              "    <tr>\n",
              "      <th id=\"T_2a64f_level0_row1\" class=\"row_heading level0 row1\" >1</th>\n",
              "      <td id=\"T_2a64f_row1_col0\" class=\"data row1 col0\" >Target</td>\n",
              "      <td id=\"T_2a64f_row1_col1\" class=\"data row1 col1\" >y</td>\n",
              "    </tr>\n",
              "    <tr>\n",
              "      <th id=\"T_2a64f_level0_row2\" class=\"row_heading level0 row2\" >2</th>\n",
              "      <td id=\"T_2a64f_row2_col0\" class=\"data row2 col0\" >Target type</td>\n",
              "      <td id=\"T_2a64f_row2_col1\" class=\"data row2 col1\" >Binary</td>\n",
              "    </tr>\n",
              "    <tr>\n",
              "      <th id=\"T_2a64f_level0_row3\" class=\"row_heading level0 row3\" >3</th>\n",
              "      <td id=\"T_2a64f_row3_col0\" class=\"data row3 col0\" >Target mapping</td>\n",
              "      <td id=\"T_2a64f_row3_col1\" class=\"data row3 col1\" >no: 0, yes: 1</td>\n",
              "    </tr>\n",
              "    <tr>\n",
              "      <th id=\"T_2a64f_level0_row4\" class=\"row_heading level0 row4\" >4</th>\n",
              "      <td id=\"T_2a64f_row4_col0\" class=\"data row4 col0\" >Original data shape</td>\n",
              "      <td id=\"T_2a64f_row4_col1\" class=\"data row4 col1\" >(43193, 11)</td>\n",
              "    </tr>\n",
              "    <tr>\n",
              "      <th id=\"T_2a64f_level0_row5\" class=\"row_heading level0 row5\" >5</th>\n",
              "      <td id=\"T_2a64f_row5_col0\" class=\"data row5 col0\" >Transformed data shape</td>\n",
              "      <td id=\"T_2a64f_row5_col1\" class=\"data row5 col1\" >(43193, 15)</td>\n",
              "    </tr>\n",
              "    <tr>\n",
              "      <th id=\"T_2a64f_level0_row6\" class=\"row_heading level0 row6\" >6</th>\n",
              "      <td id=\"T_2a64f_row6_col0\" class=\"data row6 col0\" >Transformed train set shape</td>\n",
              "      <td id=\"T_2a64f_row6_col1\" class=\"data row6 col1\" >(32394, 15)</td>\n",
              "    </tr>\n",
              "    <tr>\n",
              "      <th id=\"T_2a64f_level0_row7\" class=\"row_heading level0 row7\" >7</th>\n",
              "      <td id=\"T_2a64f_row7_col0\" class=\"data row7 col0\" >Transformed test set shape</td>\n",
              "      <td id=\"T_2a64f_row7_col1\" class=\"data row7 col1\" >(10799, 15)</td>\n",
              "    </tr>\n",
              "    <tr>\n",
              "      <th id=\"T_2a64f_level0_row8\" class=\"row_heading level0 row8\" >8</th>\n",
              "      <td id=\"T_2a64f_row8_col0\" class=\"data row8 col0\" >Ordinal features</td>\n",
              "      <td id=\"T_2a64f_row8_col1\" class=\"data row8 col1\" >3</td>\n",
              "    </tr>\n",
              "    <tr>\n",
              "      <th id=\"T_2a64f_level0_row9\" class=\"row_heading level0 row9\" >9</th>\n",
              "      <td id=\"T_2a64f_row9_col0\" class=\"data row9 col0\" >Numeric features</td>\n",
              "      <td id=\"T_2a64f_row9_col1\" class=\"data row9 col1\" >3</td>\n",
              "    </tr>\n",
              "    <tr>\n",
              "      <th id=\"T_2a64f_level0_row10\" class=\"row_heading level0 row10\" >10</th>\n",
              "      <td id=\"T_2a64f_row10_col0\" class=\"data row10 col0\" >Categorical features</td>\n",
              "      <td id=\"T_2a64f_row10_col1\" class=\"data row10 col1\" >7</td>\n",
              "    </tr>\n",
              "    <tr>\n",
              "      <th id=\"T_2a64f_level0_row11\" class=\"row_heading level0 row11\" >11</th>\n",
              "      <td id=\"T_2a64f_row11_col0\" class=\"data row11 col0\" >Preprocess</td>\n",
              "      <td id=\"T_2a64f_row11_col1\" class=\"data row11 col1\" >True</td>\n",
              "    </tr>\n",
              "    <tr>\n",
              "      <th id=\"T_2a64f_level0_row12\" class=\"row_heading level0 row12\" >12</th>\n",
              "      <td id=\"T_2a64f_row12_col0\" class=\"data row12 col0\" >Imputation type</td>\n",
              "      <td id=\"T_2a64f_row12_col1\" class=\"data row12 col1\" >simple</td>\n",
              "    </tr>\n",
              "    <tr>\n",
              "      <th id=\"T_2a64f_level0_row13\" class=\"row_heading level0 row13\" >13</th>\n",
              "      <td id=\"T_2a64f_row13_col0\" class=\"data row13 col0\" >Numeric imputation</td>\n",
              "      <td id=\"T_2a64f_row13_col1\" class=\"data row13 col1\" >mean</td>\n",
              "    </tr>\n",
              "    <tr>\n",
              "      <th id=\"T_2a64f_level0_row14\" class=\"row_heading level0 row14\" >14</th>\n",
              "      <td id=\"T_2a64f_row14_col0\" class=\"data row14 col0\" >Categorical imputation</td>\n",
              "      <td id=\"T_2a64f_row14_col1\" class=\"data row14 col1\" >constant</td>\n",
              "    </tr>\n",
              "    <tr>\n",
              "      <th id=\"T_2a64f_level0_row15\" class=\"row_heading level0 row15\" >15</th>\n",
              "      <td id=\"T_2a64f_row15_col0\" class=\"data row15 col0\" >Maximum one-hot encoding</td>\n",
              "      <td id=\"T_2a64f_row15_col1\" class=\"data row15 col1\" >5</td>\n",
              "    </tr>\n",
              "    <tr>\n",
              "      <th id=\"T_2a64f_level0_row16\" class=\"row_heading level0 row16\" >16</th>\n",
              "      <td id=\"T_2a64f_row16_col0\" class=\"data row16 col0\" >Encoding method</td>\n",
              "      <td id=\"T_2a64f_row16_col1\" class=\"data row16 col1\" >None</td>\n",
              "    </tr>\n",
              "    <tr>\n",
              "      <th id=\"T_2a64f_level0_row17\" class=\"row_heading level0 row17\" >17</th>\n",
              "      <td id=\"T_2a64f_row17_col0\" class=\"data row17 col0\" >Low variance threshold</td>\n",
              "      <td id=\"T_2a64f_row17_col1\" class=\"data row17 col1\" >0</td>\n",
              "    </tr>\n",
              "    <tr>\n",
              "      <th id=\"T_2a64f_level0_row18\" class=\"row_heading level0 row18\" >18</th>\n",
              "      <td id=\"T_2a64f_row18_col0\" class=\"data row18 col0\" >Fold Generator</td>\n",
              "      <td id=\"T_2a64f_row18_col1\" class=\"data row18 col1\" >StratifiedKFold</td>\n",
              "    </tr>\n",
              "    <tr>\n",
              "      <th id=\"T_2a64f_level0_row19\" class=\"row_heading level0 row19\" >19</th>\n",
              "      <td id=\"T_2a64f_row19_col0\" class=\"data row19 col0\" >Fold Number</td>\n",
              "      <td id=\"T_2a64f_row19_col1\" class=\"data row19 col1\" >10</td>\n",
              "    </tr>\n",
              "    <tr>\n",
              "      <th id=\"T_2a64f_level0_row20\" class=\"row_heading level0 row20\" >20</th>\n",
              "      <td id=\"T_2a64f_row20_col0\" class=\"data row20 col0\" >CPU Jobs</td>\n",
              "      <td id=\"T_2a64f_row20_col1\" class=\"data row20 col1\" >-1</td>\n",
              "    </tr>\n",
              "    <tr>\n",
              "      <th id=\"T_2a64f_level0_row21\" class=\"row_heading level0 row21\" >21</th>\n",
              "      <td id=\"T_2a64f_row21_col0\" class=\"data row21 col0\" >Use GPU</td>\n",
              "      <td id=\"T_2a64f_row21_col1\" class=\"data row21 col1\" >False</td>\n",
              "    </tr>\n",
              "    <tr>\n",
              "      <th id=\"T_2a64f_level0_row22\" class=\"row_heading level0 row22\" >22</th>\n",
              "      <td id=\"T_2a64f_row22_col0\" class=\"data row22 col0\" >Log Experiment</td>\n",
              "      <td id=\"T_2a64f_row22_col1\" class=\"data row22 col1\" >False</td>\n",
              "    </tr>\n",
              "    <tr>\n",
              "      <th id=\"T_2a64f_level0_row23\" class=\"row_heading level0 row23\" >23</th>\n",
              "      <td id=\"T_2a64f_row23_col0\" class=\"data row23 col0\" >Experiment Name</td>\n",
              "      <td id=\"T_2a64f_row23_col1\" class=\"data row23 col1\" >clf-default-name</td>\n",
              "    </tr>\n",
              "    <tr>\n",
              "      <th id=\"T_2a64f_level0_row24\" class=\"row_heading level0 row24\" >24</th>\n",
              "      <td id=\"T_2a64f_row24_col0\" class=\"data row24 col0\" >USI</td>\n",
              "      <td id=\"T_2a64f_row24_col1\" class=\"data row24 col1\" >95ae</td>\n",
              "    </tr>\n",
              "  </tbody>\n",
              "</table>\n"
            ]
          },
          "metadata": {}
        }
      ],
      "source": [
        "clasificacion = setup(data=clasificacion, target=\"y\", session_id=0, train_size=0.75)"
      ]
    },
    {
      "cell_type": "markdown",
      "metadata": {
        "id": "Op9jB-28jyIY"
      },
      "source": [
        "# **Generación del primer modelo de clasificación**"
      ]
    },
    {
      "cell_type": "code",
      "execution_count": 25,
      "metadata": {
        "colab": {
          "base_uri": "https://localhost:8080/",
          "height": 551,
          "referenced_widgets": [
            "820663d6881e47c9b5628e74faf107ee",
            "e59a42b1e33c47efa75d82253b33bb55",
            "99f2c108bd4f4de09d5c95427d072968",
            "b981336c85fc41c8b1ea7de9f7c9711a",
            "06c7fb6316654237ba1f800b384a96e7",
            "37ba10edf49346bbb96a9b735dd63b27",
            "041e860e1f5c471bbd7e70193aaa65b6",
            "22207e28ee38423b98dd8746e8cd0a86",
            "4eaaa5df477141a3824d5753eda99727",
            "9e1471c9d07d4cceaaa0dc4aed61ff9d",
            "f242fa00422e42deab90aa20c4011827"
          ]
        },
        "id": "S4X28u0mjzu_",
        "outputId": "893801f6-f69f-4457-c353-ba23dd70cbe9"
      },
      "outputs": [
        {
          "output_type": "display_data",
          "data": {
            "text/plain": [
              "<IPython.core.display.HTML object>"
            ],
            "text/html": []
          },
          "metadata": {}
        },
        {
          "output_type": "display_data",
          "data": {
            "text/plain": [
              "<pandas.io.formats.style.Styler at 0x7f81d57bf050>"
            ],
            "text/html": [
              "<style type=\"text/css\">\n",
              "#T_9c1c8_ th {\n",
              "  text-align: left;\n",
              "}\n",
              "#T_9c1c8_row0_col0, #T_9c1c8_row0_col2, #T_9c1c8_row0_col3, #T_9c1c8_row0_col4, #T_9c1c8_row0_col5, #T_9c1c8_row0_col6, #T_9c1c8_row0_col7, #T_9c1c8_row1_col0, #T_9c1c8_row1_col1, #T_9c1c8_row1_col3, #T_9c1c8_row1_col4, #T_9c1c8_row1_col5, #T_9c1c8_row1_col6, #T_9c1c8_row1_col7, #T_9c1c8_row2_col0, #T_9c1c8_row2_col1, #T_9c1c8_row2_col2, #T_9c1c8_row2_col3, #T_9c1c8_row2_col4, #T_9c1c8_row2_col5, #T_9c1c8_row2_col6, #T_9c1c8_row2_col7, #T_9c1c8_row3_col0, #T_9c1c8_row3_col1, #T_9c1c8_row3_col2, #T_9c1c8_row3_col3, #T_9c1c8_row3_col4, #T_9c1c8_row3_col5, #T_9c1c8_row3_col6, #T_9c1c8_row3_col7, #T_9c1c8_row4_col0, #T_9c1c8_row4_col1, #T_9c1c8_row4_col2, #T_9c1c8_row4_col3, #T_9c1c8_row4_col5, #T_9c1c8_row4_col6, #T_9c1c8_row4_col7, #T_9c1c8_row5_col0, #T_9c1c8_row5_col1, #T_9c1c8_row5_col2, #T_9c1c8_row5_col3, #T_9c1c8_row5_col4, #T_9c1c8_row5_col5, #T_9c1c8_row5_col6, #T_9c1c8_row5_col7, #T_9c1c8_row6_col0, #T_9c1c8_row6_col1, #T_9c1c8_row6_col2, #T_9c1c8_row6_col3, #T_9c1c8_row6_col4, #T_9c1c8_row6_col5, #T_9c1c8_row6_col6, #T_9c1c8_row6_col7, #T_9c1c8_row7_col0, #T_9c1c8_row7_col1, #T_9c1c8_row7_col2, #T_9c1c8_row7_col3, #T_9c1c8_row7_col4, #T_9c1c8_row7_col5, #T_9c1c8_row7_col6, #T_9c1c8_row7_col7, #T_9c1c8_row8_col0, #T_9c1c8_row8_col1, #T_9c1c8_row8_col2, #T_9c1c8_row8_col3, #T_9c1c8_row8_col4, #T_9c1c8_row8_col5, #T_9c1c8_row8_col6, #T_9c1c8_row8_col7, #T_9c1c8_row9_col0, #T_9c1c8_row9_col1, #T_9c1c8_row9_col2, #T_9c1c8_row9_col3, #T_9c1c8_row9_col4, #T_9c1c8_row9_col5, #T_9c1c8_row9_col6, #T_9c1c8_row9_col7, #T_9c1c8_row10_col0, #T_9c1c8_row10_col1, #T_9c1c8_row10_col2, #T_9c1c8_row10_col3, #T_9c1c8_row10_col4, #T_9c1c8_row10_col5, #T_9c1c8_row10_col6, #T_9c1c8_row10_col7, #T_9c1c8_row11_col0, #T_9c1c8_row11_col1, #T_9c1c8_row11_col2, #T_9c1c8_row11_col3, #T_9c1c8_row11_col4, #T_9c1c8_row11_col5, #T_9c1c8_row11_col6, #T_9c1c8_row11_col7, #T_9c1c8_row12_col0, #T_9c1c8_row12_col1, #T_9c1c8_row12_col2, #T_9c1c8_row12_col3, #T_9c1c8_row12_col4, #T_9c1c8_row12_col5, #T_9c1c8_row12_col6, #T_9c1c8_row12_col7, #T_9c1c8_row13_col0, #T_9c1c8_row13_col1, #T_9c1c8_row13_col2, #T_9c1c8_row13_col3, #T_9c1c8_row13_col4, #T_9c1c8_row14_col0, #T_9c1c8_row14_col1, #T_9c1c8_row14_col2, #T_9c1c8_row14_col3, #T_9c1c8_row14_col4, #T_9c1c8_row14_col5, #T_9c1c8_row14_col6, #T_9c1c8_row14_col7, #T_9c1c8_row15_col0, #T_9c1c8_row15_col1, #T_9c1c8_row15_col2, #T_9c1c8_row15_col4, #T_9c1c8_row15_col5, #T_9c1c8_row15_col6, #T_9c1c8_row15_col7 {\n",
              "  text-align: left;\n",
              "}\n",
              "#T_9c1c8_row0_col1, #T_9c1c8_row1_col2, #T_9c1c8_row4_col4, #T_9c1c8_row13_col5, #T_9c1c8_row13_col6, #T_9c1c8_row13_col7, #T_9c1c8_row15_col3 {\n",
              "  text-align: left;\n",
              "  background-color: yellow;\n",
              "}\n",
              "#T_9c1c8_row0_col8, #T_9c1c8_row1_col8, #T_9c1c8_row3_col8, #T_9c1c8_row4_col8, #T_9c1c8_row5_col8, #T_9c1c8_row6_col8, #T_9c1c8_row7_col8, #T_9c1c8_row8_col8, #T_9c1c8_row9_col8, #T_9c1c8_row10_col8, #T_9c1c8_row11_col8, #T_9c1c8_row12_col8, #T_9c1c8_row13_col8, #T_9c1c8_row14_col8, #T_9c1c8_row15_col8 {\n",
              "  text-align: left;\n",
              "  background-color: lightgrey;\n",
              "}\n",
              "#T_9c1c8_row2_col8 {\n",
              "  text-align: left;\n",
              "  background-color: yellow;\n",
              "  background-color: lightgrey;\n",
              "}\n",
              "</style>\n",
              "<table id=\"T_9c1c8_\" class=\"dataframe\">\n",
              "  <thead>\n",
              "    <tr>\n",
              "      <th class=\"blank level0\" >&nbsp;</th>\n",
              "      <th class=\"col_heading level0 col0\" >Model</th>\n",
              "      <th class=\"col_heading level0 col1\" >Accuracy</th>\n",
              "      <th class=\"col_heading level0 col2\" >AUC</th>\n",
              "      <th class=\"col_heading level0 col3\" >Recall</th>\n",
              "      <th class=\"col_heading level0 col4\" >Prec.</th>\n",
              "      <th class=\"col_heading level0 col5\" >F1</th>\n",
              "      <th class=\"col_heading level0 col6\" >Kappa</th>\n",
              "      <th class=\"col_heading level0 col7\" >MCC</th>\n",
              "      <th class=\"col_heading level0 col8\" >TT (Sec)</th>\n",
              "    </tr>\n",
              "  </thead>\n",
              "  <tbody>\n",
              "    <tr>\n",
              "      <th id=\"T_9c1c8_level0_row0\" class=\"row_heading level0 row0\" >lr</th>\n",
              "      <td id=\"T_9c1c8_row0_col0\" class=\"data row0 col0\" >Logistic Regression</td>\n",
              "      <td id=\"T_9c1c8_row0_col1\" class=\"data row0 col1\" >0.8937</td>\n",
              "      <td id=\"T_9c1c8_row0_col2\" class=\"data row0 col2\" >0.8811</td>\n",
              "      <td id=\"T_9c1c8_row0_col3\" class=\"data row0 col3\" >0.2573</td>\n",
              "      <td id=\"T_9c1c8_row0_col4\" class=\"data row0 col4\" >0.5992</td>\n",
              "      <td id=\"T_9c1c8_row0_col5\" class=\"data row0 col5\" >0.3599</td>\n",
              "      <td id=\"T_9c1c8_row0_col6\" class=\"data row0 col6\" >0.3119</td>\n",
              "      <td id=\"T_9c1c8_row0_col7\" class=\"data row0 col7\" >0.3453</td>\n",
              "      <td id=\"T_9c1c8_row0_col8\" class=\"data row0 col8\" >3.7270</td>\n",
              "    </tr>\n",
              "    <tr>\n",
              "      <th id=\"T_9c1c8_level0_row1\" class=\"row_heading level0 row1\" >lda</th>\n",
              "      <td id=\"T_9c1c8_row1_col0\" class=\"data row1 col0\" >Linear Discriminant Analysis</td>\n",
              "      <td id=\"T_9c1c8_row1_col1\" class=\"data row1 col1\" >0.8933</td>\n",
              "      <td id=\"T_9c1c8_row1_col2\" class=\"data row1 col2\" >0.8829</td>\n",
              "      <td id=\"T_9c1c8_row1_col3\" class=\"data row1 col3\" >0.3794</td>\n",
              "      <td id=\"T_9c1c8_row1_col4\" class=\"data row1 col4\" >0.5607</td>\n",
              "      <td id=\"T_9c1c8_row1_col5\" class=\"data row1 col5\" >0.4525</td>\n",
              "      <td id=\"T_9c1c8_row1_col6\" class=\"data row1 col6\" >0.3958</td>\n",
              "      <td id=\"T_9c1c8_row1_col7\" class=\"data row1 col7\" >0.4052</td>\n",
              "      <td id=\"T_9c1c8_row1_col8\" class=\"data row1 col8\" >1.6460</td>\n",
              "    </tr>\n",
              "    <tr>\n",
              "      <th id=\"T_9c1c8_level0_row2\" class=\"row_heading level0 row2\" >ridge</th>\n",
              "      <td id=\"T_9c1c8_row2_col0\" class=\"data row2 col0\" >Ridge Classifier</td>\n",
              "      <td id=\"T_9c1c8_row2_col1\" class=\"data row2 col1\" >0.8920</td>\n",
              "      <td id=\"T_9c1c8_row2_col2\" class=\"data row2 col2\" >0.0000</td>\n",
              "      <td id=\"T_9c1c8_row2_col3\" class=\"data row2 col3\" >0.1731</td>\n",
              "      <td id=\"T_9c1c8_row2_col4\" class=\"data row2 col4\" >0.6282</td>\n",
              "      <td id=\"T_9c1c8_row2_col5\" class=\"data row2 col5\" >0.2713</td>\n",
              "      <td id=\"T_9c1c8_row2_col6\" class=\"data row2 col6\" >0.2328</td>\n",
              "      <td id=\"T_9c1c8_row2_col7\" class=\"data row2 col7\" >0.2905</td>\n",
              "      <td id=\"T_9c1c8_row2_col8\" class=\"data row2 col8\" >1.4450</td>\n",
              "    </tr>\n",
              "    <tr>\n",
              "      <th id=\"T_9c1c8_level0_row3\" class=\"row_heading level0 row3\" >et</th>\n",
              "      <td id=\"T_9c1c8_row3_col0\" class=\"data row3 col0\" >Extra Trees Classifier</td>\n",
              "      <td id=\"T_9c1c8_row3_col1\" class=\"data row3 col1\" >0.8894</td>\n",
              "      <td id=\"T_9c1c8_row3_col2\" class=\"data row3 col2\" >0.8593</td>\n",
              "      <td id=\"T_9c1c8_row3_col3\" class=\"data row3 col3\" >0.1115</td>\n",
              "      <td id=\"T_9c1c8_row3_col4\" class=\"data row3 col4\" >0.6441</td>\n",
              "      <td id=\"T_9c1c8_row3_col5\" class=\"data row3 col5\" >0.1897</td>\n",
              "      <td id=\"T_9c1c8_row3_col6\" class=\"data row3 col6\" >0.1608</td>\n",
              "      <td id=\"T_9c1c8_row3_col7\" class=\"data row3 col7\" >0.2353</td>\n",
              "      <td id=\"T_9c1c8_row3_col8\" class=\"data row3 col8\" >3.1670</td>\n",
              "    </tr>\n",
              "    <tr>\n",
              "      <th id=\"T_9c1c8_level0_row4\" class=\"row_heading level0 row4\" >rf</th>\n",
              "      <td id=\"T_9c1c8_row4_col0\" class=\"data row4 col0\" >Random Forest Classifier</td>\n",
              "      <td id=\"T_9c1c8_row4_col1\" class=\"data row4 col1\" >0.8863</td>\n",
              "      <td id=\"T_9c1c8_row4_col2\" class=\"data row4 col2\" >0.8318</td>\n",
              "      <td id=\"T_9c1c8_row4_col3\" class=\"data row4 col3\" >0.0502</td>\n",
              "      <td id=\"T_9c1c8_row4_col4\" class=\"data row4 col4\" >0.6447</td>\n",
              "      <td id=\"T_9c1c8_row4_col5\" class=\"data row4 col5\" >0.0929</td>\n",
              "      <td id=\"T_9c1c8_row4_col6\" class=\"data row4 col6\" >0.0774</td>\n",
              "      <td id=\"T_9c1c8_row4_col7\" class=\"data row4 col7\" >0.1567</td>\n",
              "      <td id=\"T_9c1c8_row4_col8\" class=\"data row4 col8\" >3.3440</td>\n",
              "    </tr>\n",
              "    <tr>\n",
              "      <th id=\"T_9c1c8_level0_row5\" class=\"row_heading level0 row5\" >catboost</th>\n",
              "      <td id=\"T_9c1c8_row5_col0\" class=\"data row5 col0\" >CatBoost Classifier</td>\n",
              "      <td id=\"T_9c1c8_row5_col1\" class=\"data row5 col1\" >0.8842</td>\n",
              "      <td id=\"T_9c1c8_row5_col2\" class=\"data row5 col2\" >0.7882</td>\n",
              "      <td id=\"T_9c1c8_row5_col3\" class=\"data row5 col3\" >0.0377</td>\n",
              "      <td id=\"T_9c1c8_row5_col4\" class=\"data row5 col4\" >0.5190</td>\n",
              "      <td id=\"T_9c1c8_row5_col5\" class=\"data row5 col5\" >0.0686</td>\n",
              "      <td id=\"T_9c1c8_row5_col6\" class=\"data row5 col6\" >0.0546</td>\n",
              "      <td id=\"T_9c1c8_row5_col7\" class=\"data row5 col7\" >0.1113</td>\n",
              "      <td id=\"T_9c1c8_row5_col8\" class=\"data row5 col8\" >10.6630</td>\n",
              "    </tr>\n",
              "    <tr>\n",
              "      <th id=\"T_9c1c8_level0_row6\" class=\"row_heading level0 row6\" >xgboost</th>\n",
              "      <td id=\"T_9c1c8_row6_col0\" class=\"data row6 col0\" >Extreme Gradient Boosting</td>\n",
              "      <td id=\"T_9c1c8_row6_col1\" class=\"data row6 col1\" >0.8841</td>\n",
              "      <td id=\"T_9c1c8_row6_col2\" class=\"data row6 col2\" >0.7905</td>\n",
              "      <td id=\"T_9c1c8_row6_col3\" class=\"data row6 col3\" >0.0167</td>\n",
              "      <td id=\"T_9c1c8_row6_col4\" class=\"data row6 col4\" >0.5367</td>\n",
              "      <td id=\"T_9c1c8_row6_col5\" class=\"data row6 col5\" >0.0317</td>\n",
              "      <td id=\"T_9c1c8_row6_col6\" class=\"data row6 col6\" >0.0253</td>\n",
              "      <td id=\"T_9c1c8_row6_col7\" class=\"data row6 col7\" >0.0717</td>\n",
              "      <td id=\"T_9c1c8_row6_col8\" class=\"data row6 col8\" >3.7780</td>\n",
              "    </tr>\n",
              "    <tr>\n",
              "      <th id=\"T_9c1c8_level0_row7\" class=\"row_heading level0 row7\" >dummy</th>\n",
              "      <td id=\"T_9c1c8_row7_col0\" class=\"data row7 col0\" >Dummy Classifier</td>\n",
              "      <td id=\"T_9c1c8_row7_col1\" class=\"data row7 col1\" >0.8837</td>\n",
              "      <td id=\"T_9c1c8_row7_col2\" class=\"data row7 col2\" >0.5000</td>\n",
              "      <td id=\"T_9c1c8_row7_col3\" class=\"data row7 col3\" >0.0000</td>\n",
              "      <td id=\"T_9c1c8_row7_col4\" class=\"data row7 col4\" >0.0000</td>\n",
              "      <td id=\"T_9c1c8_row7_col5\" class=\"data row7 col5\" >0.0000</td>\n",
              "      <td id=\"T_9c1c8_row7_col6\" class=\"data row7 col6\" >0.0000</td>\n",
              "      <td id=\"T_9c1c8_row7_col7\" class=\"data row7 col7\" >0.0000</td>\n",
              "      <td id=\"T_9c1c8_row7_col8\" class=\"data row7 col8\" >1.5880</td>\n",
              "    </tr>\n",
              "    <tr>\n",
              "      <th id=\"T_9c1c8_level0_row8\" class=\"row_heading level0 row8\" >dt</th>\n",
              "      <td id=\"T_9c1c8_row8_col0\" class=\"data row8 col0\" >Decision Tree Classifier</td>\n",
              "      <td id=\"T_9c1c8_row8_col1\" class=\"data row8 col1\" >0.8836</td>\n",
              "      <td id=\"T_9c1c8_row8_col2\" class=\"data row8 col2\" >0.5296</td>\n",
              "      <td id=\"T_9c1c8_row8_col3\" class=\"data row8 col3\" >0.0683</td>\n",
              "      <td id=\"T_9c1c8_row8_col4\" class=\"data row8 col4\" >0.5053</td>\n",
              "      <td id=\"T_9c1c8_row8_col5\" class=\"data row8 col5\" >0.1185</td>\n",
              "      <td id=\"T_9c1c8_row8_col6\" class=\"data row8 col6\" >0.0936</td>\n",
              "      <td id=\"T_9c1c8_row8_col7\" class=\"data row8 col7\" >0.1501</td>\n",
              "      <td id=\"T_9c1c8_row8_col8\" class=\"data row8 col8\" >1.6520</td>\n",
              "    </tr>\n",
              "    <tr>\n",
              "      <th id=\"T_9c1c8_level0_row9\" class=\"row_heading level0 row9\" >gbc</th>\n",
              "      <td id=\"T_9c1c8_row9_col0\" class=\"data row9 col0\" >Gradient Boosting Classifier</td>\n",
              "      <td id=\"T_9c1c8_row9_col1\" class=\"data row9 col1\" >0.8836</td>\n",
              "      <td id=\"T_9c1c8_row9_col2\" class=\"data row9 col2\" >0.7939</td>\n",
              "      <td id=\"T_9c1c8_row9_col3\" class=\"data row9 col3\" >0.0191</td>\n",
              "      <td id=\"T_9c1c8_row9_col4\" class=\"data row9 col4\" >0.4751</td>\n",
              "      <td id=\"T_9c1c8_row9_col5\" class=\"data row9 col5\" >0.0364</td>\n",
              "      <td id=\"T_9c1c8_row9_col6\" class=\"data row9 col6\" >0.0280</td>\n",
              "      <td id=\"T_9c1c8_row9_col7\" class=\"data row9 col7\" >0.0751</td>\n",
              "      <td id=\"T_9c1c8_row9_col8\" class=\"data row9 col8\" >3.6910</td>\n",
              "    </tr>\n",
              "    <tr>\n",
              "      <th id=\"T_9c1c8_level0_row10\" class=\"row_heading level0 row10\" >lightgbm</th>\n",
              "      <td id=\"T_9c1c8_row10_col0\" class=\"data row10 col0\" >Light Gradient Boosting Machine</td>\n",
              "      <td id=\"T_9c1c8_row10_col1\" class=\"data row10 col1\" >0.8828</td>\n",
              "      <td id=\"T_9c1c8_row10_col2\" class=\"data row10 col2\" >0.5448</td>\n",
              "      <td id=\"T_9c1c8_row10_col3\" class=\"data row10 col3\" >0.0529</td>\n",
              "      <td id=\"T_9c1c8_row10_col4\" class=\"data row10 col4\" >0.4344</td>\n",
              "      <td id=\"T_9c1c8_row10_col5\" class=\"data row10 col5\" >0.0920</td>\n",
              "      <td id=\"T_9c1c8_row10_col6\" class=\"data row10 col6\" >0.0712</td>\n",
              "      <td id=\"T_9c1c8_row10_col7\" class=\"data row10 col7\" >0.1187</td>\n",
              "      <td id=\"T_9c1c8_row10_col8\" class=\"data row10 col8\" >1.9750</td>\n",
              "    </tr>\n",
              "    <tr>\n",
              "      <th id=\"T_9c1c8_level0_row11\" class=\"row_heading level0 row11\" >ada</th>\n",
              "      <td id=\"T_9c1c8_row11_col0\" class=\"data row11 col0\" >Ada Boost Classifier</td>\n",
              "      <td id=\"T_9c1c8_row11_col1\" class=\"data row11 col1\" >0.8820</td>\n",
              "      <td id=\"T_9c1c8_row11_col2\" class=\"data row11 col2\" >0.6677</td>\n",
              "      <td id=\"T_9c1c8_row11_col3\" class=\"data row11 col3\" >0.0284</td>\n",
              "      <td id=\"T_9c1c8_row11_col4\" class=\"data row11 col4\" >0.4982</td>\n",
              "      <td id=\"T_9c1c8_row11_col5\" class=\"data row11 col5\" >0.0528</td>\n",
              "      <td id=\"T_9c1c8_row11_col6\" class=\"data row11 col6\" >0.0383</td>\n",
              "      <td id=\"T_9c1c8_row11_col7\" class=\"data row11 col7\" >0.0913</td>\n",
              "      <td id=\"T_9c1c8_row11_col8\" class=\"data row11 col8\" >2.3300</td>\n",
              "    </tr>\n",
              "    <tr>\n",
              "      <th id=\"T_9c1c8_level0_row12\" class=\"row_heading level0 row12\" >knn</th>\n",
              "      <td id=\"T_9c1c8_row12_col0\" class=\"data row12 col0\" >K Neighbors Classifier</td>\n",
              "      <td id=\"T_9c1c8_row12_col1\" class=\"data row12 col1\" >0.8814</td>\n",
              "      <td id=\"T_9c1c8_row12_col2\" class=\"data row12 col2\" >0.7435</td>\n",
              "      <td id=\"T_9c1c8_row12_col3\" class=\"data row12 col3\" >0.2477</td>\n",
              "      <td id=\"T_9c1c8_row12_col4\" class=\"data row12 col4\" >0.4808</td>\n",
              "      <td id=\"T_9c1c8_row12_col5\" class=\"data row12 col5\" >0.3268</td>\n",
              "      <td id=\"T_9c1c8_row12_col6\" class=\"data row12 col6\" >0.2690</td>\n",
              "      <td id=\"T_9c1c8_row12_col7\" class=\"data row12 col7\" >0.2869</td>\n",
              "      <td id=\"T_9c1c8_row12_col8\" class=\"data row12 col8\" >1.7920</td>\n",
              "    </tr>\n",
              "    <tr>\n",
              "      <th id=\"T_9c1c8_level0_row13\" class=\"row_heading level0 row13\" >nb</th>\n",
              "      <td id=\"T_9c1c8_row13_col0\" class=\"data row13 col0\" >Naive Bayes</td>\n",
              "      <td id=\"T_9c1c8_row13_col1\" class=\"data row13 col1\" >0.8772</td>\n",
              "      <td id=\"T_9c1c8_row13_col2\" class=\"data row13 col2\" >0.8311</td>\n",
              "      <td id=\"T_9c1c8_row13_col3\" class=\"data row13 col3\" >0.4928</td>\n",
              "      <td id=\"T_9c1c8_row13_col4\" class=\"data row13 col4\" >0.4731</td>\n",
              "      <td id=\"T_9c1c8_row13_col5\" class=\"data row13 col5\" >0.4826</td>\n",
              "      <td id=\"T_9c1c8_row13_col6\" class=\"data row13 col6\" >0.4130</td>\n",
              "      <td id=\"T_9c1c8_row13_col7\" class=\"data row13 col7\" >0.4132</td>\n",
              "      <td id=\"T_9c1c8_row13_col8\" class=\"data row13 col8\" >1.7190</td>\n",
              "    </tr>\n",
              "    <tr>\n",
              "      <th id=\"T_9c1c8_level0_row14\" class=\"row_heading level0 row14\" >svm</th>\n",
              "      <td id=\"T_9c1c8_row14_col0\" class=\"data row14 col0\" >SVM - Linear Kernel</td>\n",
              "      <td id=\"T_9c1c8_row14_col1\" class=\"data row14 col1\" >0.8589</td>\n",
              "      <td id=\"T_9c1c8_row14_col2\" class=\"data row14 col2\" >0.0000</td>\n",
              "      <td id=\"T_9c1c8_row14_col3\" class=\"data row14 col3\" >0.2656</td>\n",
              "      <td id=\"T_9c1c8_row14_col4\" class=\"data row14 col4\" >0.3775</td>\n",
              "      <td id=\"T_9c1c8_row14_col5\" class=\"data row14 col5\" >0.2189</td>\n",
              "      <td id=\"T_9c1c8_row14_col6\" class=\"data row14 col6\" >0.1741</td>\n",
              "      <td id=\"T_9c1c8_row14_col7\" class=\"data row14 col7\" >0.2004</td>\n",
              "      <td id=\"T_9c1c8_row14_col8\" class=\"data row14 col8\" >1.6630</td>\n",
              "    </tr>\n",
              "    <tr>\n",
              "      <th id=\"T_9c1c8_level0_row15\" class=\"row_heading level0 row15\" >qda</th>\n",
              "      <td id=\"T_9c1c8_row15_col0\" class=\"data row15 col0\" >Quadratic Discriminant Analysis</td>\n",
              "      <td id=\"T_9c1c8_row15_col1\" class=\"data row15 col1\" >0.4851</td>\n",
              "      <td id=\"T_9c1c8_row15_col2\" class=\"data row15 col2\" >0.6197</td>\n",
              "      <td id=\"T_9c1c8_row15_col3\" class=\"data row15 col3\" >0.7427</td>\n",
              "      <td id=\"T_9c1c8_row15_col4\" class=\"data row15 col4\" >0.1727</td>\n",
              "      <td id=\"T_9c1c8_row15_col5\" class=\"data row15 col5\" >0.2697</td>\n",
              "      <td id=\"T_9c1c8_row15_col6\" class=\"data row15 col6\" >0.0989</td>\n",
              "      <td id=\"T_9c1c8_row15_col7\" class=\"data row15 col7\" >0.1406</td>\n",
              "      <td id=\"T_9c1c8_row15_col8\" class=\"data row15 col8\" >1.6110</td>\n",
              "    </tr>\n",
              "  </tbody>\n",
              "</table>\n"
            ]
          },
          "metadata": {}
        },
        {
          "output_type": "display_data",
          "data": {
            "text/plain": [
              "Processing:   0%|          | 0/69 [00:00<?, ?it/s]"
            ],
            "application/vnd.jupyter.widget-view+json": {
              "version_major": 2,
              "version_minor": 0,
              "model_id": "820663d6881e47c9b5628e74faf107ee"
            }
          },
          "metadata": {
            "application/vnd.jupyter.widget-view+json": {
              "colab": {
                "custom_widget_manager": {
                  "url": "https://ssl.gstatic.com/colaboratory-static/widgets/colab-cdn-widget-manager/d2e234f7cc04bf79/manager.min.js"
                }
              }
            }
          }
        },
        {
          "output_type": "display_data",
          "data": {
            "text/plain": [
              "<IPython.core.display.HTML object>"
            ],
            "text/html": []
          },
          "metadata": {}
        }
      ],
      "source": [
        "modelos = compare_models()"
      ]
    },
    {
      "cell_type": "code",
      "execution_count": 26,
      "metadata": {
        "colab": {
          "base_uri": "https://localhost:8080/",
          "height": 457,
          "referenced_widgets": [
            "d8cf7e28f25a4008a9c98248b29fd074",
            "9c4159774ada4a48914a83f87f8bd2a3",
            "7b4a1344e28246b1bc96fb6ea8873ad1",
            "8e19f9d5fafe47309df9a54ebc02fef5",
            "1cdac7b1774e484a8cfcf49913f1c97e",
            "256f3d1efd3545c1a73a1f00f24487f1",
            "660885ac45ea41c6aa4f30fd96d38ffa",
            "b98602f3fed640af9e9cddd3e9a958f2",
            "3da0bab30a564e028742674b586835df",
            "95fafe401abf43dd90b80220024d8399",
            "7c7a13b4f86742049b7fc55a318cce5d"
          ]
        },
        "id": "RZ1SMaDcf77g",
        "outputId": "c1ef46a4-89af-4831-a4cc-d7a79f893b2d"
      },
      "outputs": [
        {
          "output_type": "display_data",
          "data": {
            "text/plain": [
              "<IPython.core.display.HTML object>"
            ],
            "text/html": []
          },
          "metadata": {}
        },
        {
          "output_type": "display_data",
          "data": {
            "text/plain": [
              "<pandas.io.formats.style.Styler at 0x7f81d0035b90>"
            ],
            "text/html": [
              "<style type=\"text/css\">\n",
              "#T_25dc3_row10_col0, #T_25dc3_row10_col1, #T_25dc3_row10_col2, #T_25dc3_row10_col3, #T_25dc3_row10_col4, #T_25dc3_row10_col5, #T_25dc3_row10_col6 {\n",
              "  background: yellow;\n",
              "}\n",
              "</style>\n",
              "<table id=\"T_25dc3_\" class=\"dataframe\">\n",
              "  <thead>\n",
              "    <tr>\n",
              "      <th class=\"blank level0\" >&nbsp;</th>\n",
              "      <th class=\"col_heading level0 col0\" >Accuracy</th>\n",
              "      <th class=\"col_heading level0 col1\" >AUC</th>\n",
              "      <th class=\"col_heading level0 col2\" >Recall</th>\n",
              "      <th class=\"col_heading level0 col3\" >Prec.</th>\n",
              "      <th class=\"col_heading level0 col4\" >F1</th>\n",
              "      <th class=\"col_heading level0 col5\" >Kappa</th>\n",
              "      <th class=\"col_heading level0 col6\" >MCC</th>\n",
              "    </tr>\n",
              "    <tr>\n",
              "      <th class=\"index_name level0\" >Fold</th>\n",
              "      <th class=\"blank col0\" >&nbsp;</th>\n",
              "      <th class=\"blank col1\" >&nbsp;</th>\n",
              "      <th class=\"blank col2\" >&nbsp;</th>\n",
              "      <th class=\"blank col3\" >&nbsp;</th>\n",
              "      <th class=\"blank col4\" >&nbsp;</th>\n",
              "      <th class=\"blank col5\" >&nbsp;</th>\n",
              "      <th class=\"blank col6\" >&nbsp;</th>\n",
              "    </tr>\n",
              "  </thead>\n",
              "  <tbody>\n",
              "    <tr>\n",
              "      <th id=\"T_25dc3_level0_row0\" class=\"row_heading level0 row0\" >0</th>\n",
              "      <td id=\"T_25dc3_row0_col0\" class=\"data row0 col0\" >0.8793</td>\n",
              "      <td id=\"T_25dc3_row0_col1\" class=\"data row0 col1\" >0.7410</td>\n",
              "      <td id=\"T_25dc3_row0_col2\" class=\"data row0 col2\" >0.2679</td>\n",
              "      <td id=\"T_25dc3_row0_col3\" class=\"data row0 col3\" >0.4676</td>\n",
              "      <td id=\"T_25dc3_row0_col4\" class=\"data row0 col4\" >0.3406</td>\n",
              "      <td id=\"T_25dc3_row0_col5\" class=\"data row0 col5\" >0.2796</td>\n",
              "      <td id=\"T_25dc3_row0_col6\" class=\"data row0 col6\" >0.2927</td>\n",
              "    </tr>\n",
              "    <tr>\n",
              "      <th id=\"T_25dc3_level0_row1\" class=\"row_heading level0 row1\" >1</th>\n",
              "      <td id=\"T_25dc3_row1_col0\" class=\"data row1 col0\" >0.8886</td>\n",
              "      <td id=\"T_25dc3_row1_col1\" class=\"data row1 col1\" >0.7457</td>\n",
              "      <td id=\"T_25dc3_row1_col2\" class=\"data row1 col2\" >0.2599</td>\n",
              "      <td id=\"T_25dc3_row1_col3\" class=\"data row1 col3\" >0.5444</td>\n",
              "      <td id=\"T_25dc3_row1_col4\" class=\"data row1 col4\" >0.3519</td>\n",
              "      <td id=\"T_25dc3_row1_col5\" class=\"data row1 col5\" >0.2992</td>\n",
              "      <td id=\"T_25dc3_row1_col6\" class=\"data row1 col6\" >0.3238</td>\n",
              "    </tr>\n",
              "    <tr>\n",
              "      <th id=\"T_25dc3_level0_row2\" class=\"row_heading level0 row2\" >2</th>\n",
              "      <td id=\"T_25dc3_row2_col0\" class=\"data row2 col0\" >0.8784</td>\n",
              "      <td id=\"T_25dc3_row2_col1\" class=\"data row2 col1\" >0.7356</td>\n",
              "      <td id=\"T_25dc3_row2_col2\" class=\"data row2 col2\" >0.2493</td>\n",
              "      <td id=\"T_25dc3_row2_col3\" class=\"data row2 col3\" >0.4585</td>\n",
              "      <td id=\"T_25dc3_row2_col4\" class=\"data row2 col4\" >0.3230</td>\n",
              "      <td id=\"T_25dc3_row2_col5\" class=\"data row2 col5\" >0.2626</td>\n",
              "      <td id=\"T_25dc3_row2_col6\" class=\"data row2 col6\" >0.2773</td>\n",
              "    </tr>\n",
              "    <tr>\n",
              "      <th id=\"T_25dc3_level0_row3\" class=\"row_heading level0 row3\" >3</th>\n",
              "      <td id=\"T_25dc3_row3_col0\" class=\"data row3 col0\" >0.8815</td>\n",
              "      <td id=\"T_25dc3_row3_col1\" class=\"data row3 col1\" >0.7629</td>\n",
              "      <td id=\"T_25dc3_row3_col2\" class=\"data row3 col2\" >0.2573</td>\n",
              "      <td id=\"T_25dc3_row3_col3\" class=\"data row3 col3\" >0.4826</td>\n",
              "      <td id=\"T_25dc3_row3_col4\" class=\"data row3 col4\" >0.3356</td>\n",
              "      <td id=\"T_25dc3_row3_col5\" class=\"data row3 col5\" >0.2771</td>\n",
              "      <td id=\"T_25dc3_row3_col6\" class=\"data row3 col6\" >0.2937</td>\n",
              "    </tr>\n",
              "    <tr>\n",
              "      <th id=\"T_25dc3_level0_row4\" class=\"row_heading level0 row4\" >4</th>\n",
              "      <td id=\"T_25dc3_row4_col0\" class=\"data row4 col0\" >0.8802</td>\n",
              "      <td id=\"T_25dc3_row4_col1\" class=\"data row4 col1\" >0.7477</td>\n",
              "      <td id=\"T_25dc3_row4_col2\" class=\"data row4 col2\" >0.2234</td>\n",
              "      <td id=\"T_25dc3_row4_col3\" class=\"data row4 col3\" >0.4667</td>\n",
              "      <td id=\"T_25dc3_row4_col4\" class=\"data row4 col4\" >0.3022</td>\n",
              "      <td id=\"T_25dc3_row4_col5\" class=\"data row4 col5\" >0.2454</td>\n",
              "      <td id=\"T_25dc3_row4_col6\" class=\"data row4 col6\" >0.2655</td>\n",
              "    </tr>\n",
              "    <tr>\n",
              "      <th id=\"T_25dc3_level0_row5\" class=\"row_heading level0 row5\" >5</th>\n",
              "      <td id=\"T_25dc3_row5_col0\" class=\"data row5 col0\" >0.8861</td>\n",
              "      <td id=\"T_25dc3_row5_col1\" class=\"data row5 col1\" >0.7523</td>\n",
              "      <td id=\"T_25dc3_row5_col2\" class=\"data row5 col2\" >0.2580</td>\n",
              "      <td id=\"T_25dc3_row5_col3\" class=\"data row5 col3\" >0.5187</td>\n",
              "      <td id=\"T_25dc3_row5_col4\" class=\"data row5 col4\" >0.3446</td>\n",
              "      <td id=\"T_25dc3_row5_col5\" class=\"data row5 col5\" >0.2898</td>\n",
              "      <td id=\"T_25dc3_row5_col6\" class=\"data row5 col6\" >0.3111</td>\n",
              "    </tr>\n",
              "    <tr>\n",
              "      <th id=\"T_25dc3_level0_row6\" class=\"row_heading level0 row6\" >6</th>\n",
              "      <td id=\"T_25dc3_row6_col0\" class=\"data row6 col0\" >0.8777</td>\n",
              "      <td id=\"T_25dc3_row6_col1\" class=\"data row6 col1\" >0.7425</td>\n",
              "      <td id=\"T_25dc3_row6_col2\" class=\"data row6 col2\" >0.2261</td>\n",
              "      <td id=\"T_25dc3_row6_col3\" class=\"data row6 col3\" >0.4474</td>\n",
              "      <td id=\"T_25dc3_row6_col4\" class=\"data row6 col4\" >0.3004</td>\n",
              "      <td id=\"T_25dc3_row6_col5\" class=\"data row6 col5\" >0.2412</td>\n",
              "      <td id=\"T_25dc3_row6_col6\" class=\"data row6 col6\" >0.2582</td>\n",
              "    </tr>\n",
              "    <tr>\n",
              "      <th id=\"T_25dc3_level0_row7\" class=\"row_heading level0 row7\" >7</th>\n",
              "      <td id=\"T_25dc3_row7_col0\" class=\"data row7 col0\" >0.8802</td>\n",
              "      <td id=\"T_25dc3_row7_col1\" class=\"data row7 col1\" >0.7527</td>\n",
              "      <td id=\"T_25dc3_row7_col2\" class=\"data row7 col2\" >0.2500</td>\n",
              "      <td id=\"T_25dc3_row7_col3\" class=\"data row7 col3\" >0.4700</td>\n",
              "      <td id=\"T_25dc3_row7_col4\" class=\"data row7 col4\" >0.3264</td>\n",
              "      <td id=\"T_25dc3_row7_col5\" class=\"data row7 col5\" >0.2673</td>\n",
              "      <td id=\"T_25dc3_row7_col6\" class=\"data row7 col6\" >0.2834</td>\n",
              "    </tr>\n",
              "    <tr>\n",
              "      <th id=\"T_25dc3_level0_row8\" class=\"row_heading level0 row8\" >8</th>\n",
              "      <td id=\"T_25dc3_row8_col0\" class=\"data row8 col0\" >0.8839</td>\n",
              "      <td id=\"T_25dc3_row8_col1\" class=\"data row8 col1\" >0.7309</td>\n",
              "      <td id=\"T_25dc3_row8_col2\" class=\"data row8 col2\" >0.2599</td>\n",
              "      <td id=\"T_25dc3_row8_col3\" class=\"data row8 col3\" >0.5026</td>\n",
              "      <td id=\"T_25dc3_row8_col4\" class=\"data row8 col4\" >0.3427</td>\n",
              "      <td id=\"T_25dc3_row8_col5\" class=\"data row8 col5\" >0.2860</td>\n",
              "      <td id=\"T_25dc3_row8_col6\" class=\"data row8 col6\" >0.3048</td>\n",
              "    </tr>\n",
              "    <tr>\n",
              "      <th id=\"T_25dc3_level0_row9\" class=\"row_heading level0 row9\" >9</th>\n",
              "      <td id=\"T_25dc3_row9_col0\" class=\"data row9 col0\" >0.8777</td>\n",
              "      <td id=\"T_25dc3_row9_col1\" class=\"data row9 col1\" >0.7238</td>\n",
              "      <td id=\"T_25dc3_row9_col2\" class=\"data row9 col2\" >0.2255</td>\n",
              "      <td id=\"T_25dc3_row9_col3\" class=\"data row9 col3\" >0.4497</td>\n",
              "      <td id=\"T_25dc3_row9_col4\" class=\"data row9 col4\" >0.3004</td>\n",
              "      <td id=\"T_25dc3_row9_col5\" class=\"data row9 col5\" >0.2414</td>\n",
              "      <td id=\"T_25dc3_row9_col6\" class=\"data row9 col6\" >0.2587</td>\n",
              "    </tr>\n",
              "    <tr>\n",
              "      <th id=\"T_25dc3_level0_row10\" class=\"row_heading level0 row10\" >Mean</th>\n",
              "      <td id=\"T_25dc3_row10_col0\" class=\"data row10 col0\" >0.8814</td>\n",
              "      <td id=\"T_25dc3_row10_col1\" class=\"data row10 col1\" >0.7435</td>\n",
              "      <td id=\"T_25dc3_row10_col2\" class=\"data row10 col2\" >0.2477</td>\n",
              "      <td id=\"T_25dc3_row10_col3\" class=\"data row10 col3\" >0.4808</td>\n",
              "      <td id=\"T_25dc3_row10_col4\" class=\"data row10 col4\" >0.3268</td>\n",
              "      <td id=\"T_25dc3_row10_col5\" class=\"data row10 col5\" >0.2690</td>\n",
              "      <td id=\"T_25dc3_row10_col6\" class=\"data row10 col6\" >0.2869</td>\n",
              "    </tr>\n",
              "    <tr>\n",
              "      <th id=\"T_25dc3_level0_row11\" class=\"row_heading level0 row11\" >Std</th>\n",
              "      <td id=\"T_25dc3_row11_col0\" class=\"data row11 col0\" >0.0035</td>\n",
              "      <td id=\"T_25dc3_row11_col1\" class=\"data row11 col1\" >0.0108</td>\n",
              "      <td id=\"T_25dc3_row11_col2\" class=\"data row11 col2\" >0.0157</td>\n",
              "      <td id=\"T_25dc3_row11_col3\" class=\"data row11 col3\" >0.0301</td>\n",
              "      <td id=\"T_25dc3_row11_col4\" class=\"data row11 col4\" >0.0187</td>\n",
              "      <td id=\"T_25dc3_row11_col5\" class=\"data row11 col5\" >0.0199</td>\n",
              "      <td id=\"T_25dc3_row11_col6\" class=\"data row11 col6\" >0.0213</td>\n",
              "    </tr>\n",
              "  </tbody>\n",
              "</table>\n"
            ]
          },
          "metadata": {}
        },
        {
          "output_type": "display_data",
          "data": {
            "text/plain": [
              "Processing:   0%|          | 0/4 [00:00<?, ?it/s]"
            ],
            "application/vnd.jupyter.widget-view+json": {
              "version_major": 2,
              "version_minor": 0,
              "model_id": "d8cf7e28f25a4008a9c98248b29fd074"
            }
          },
          "metadata": {
            "application/vnd.jupyter.widget-view+json": {
              "colab": {
                "custom_widget_manager": {
                  "url": "https://ssl.gstatic.com/colaboratory-static/widgets/colab-cdn-widget-manager/d2e234f7cc04bf79/manager.min.js"
                }
              }
            }
          }
        },
        {
          "output_type": "display_data",
          "data": {
            "text/plain": [
              "<IPython.core.display.HTML object>"
            ],
            "text/html": []
          },
          "metadata": {}
        }
      ],
      "source": [
        "modelo = create_model(\"knn\")"
      ]
    },
    {
      "cell_type": "markdown",
      "metadata": {
        "id": "-afTgF0EiSe9"
      },
      "source": [
        "# Optimizacion"
      ]
    },
    {
      "cell_type": "code",
      "execution_count": 27,
      "metadata": {
        "colab": {
          "base_uri": "https://localhost:8080/",
          "height": 475,
          "referenced_widgets": [
            "3405a4f2971c446397c1078bc78124ba",
            "a93d94db9ccc49fa8e5769f37addbadc",
            "78bb8a5e26414bdaa2bcedc03371fbc7",
            "21e31b8a055c4b26940477bb6f4b1ba9",
            "cb7bd890fead4034b2d8bc65d6be7a60",
            "5f166688ea774b49905382b677f70f53",
            "36dac243769048408ab15c409afea4f3",
            "90db51db28af436f990e547f9f1cdd46",
            "03818f62ea144cac8b4567dfbe325eb2",
            "04dd08c3720f4167abe2d0e25985f445",
            "4d385ec5472744d689ff982c6d0e98ce"
          ]
        },
        "id": "cjCK4s5QiU69",
        "outputId": "f07d8ab1-1955-4c0a-92df-d6b340b8ee17"
      },
      "outputs": [
        {
          "output_type": "display_data",
          "data": {
            "text/plain": [
              "<IPython.core.display.HTML object>"
            ],
            "text/html": []
          },
          "metadata": {}
        },
        {
          "output_type": "display_data",
          "data": {
            "text/plain": [
              "<pandas.io.formats.style.Styler at 0x7f81d01020d0>"
            ],
            "text/html": [
              "<style type=\"text/css\">\n",
              "#T_df122_row10_col0, #T_df122_row10_col1, #T_df122_row10_col2, #T_df122_row10_col3, #T_df122_row10_col4, #T_df122_row10_col5, #T_df122_row10_col6 {\n",
              "  background: yellow;\n",
              "}\n",
              "</style>\n",
              "<table id=\"T_df122_\" class=\"dataframe\">\n",
              "  <thead>\n",
              "    <tr>\n",
              "      <th class=\"blank level0\" >&nbsp;</th>\n",
              "      <th class=\"col_heading level0 col0\" >Accuracy</th>\n",
              "      <th class=\"col_heading level0 col1\" >AUC</th>\n",
              "      <th class=\"col_heading level0 col2\" >Recall</th>\n",
              "      <th class=\"col_heading level0 col3\" >Prec.</th>\n",
              "      <th class=\"col_heading level0 col4\" >F1</th>\n",
              "      <th class=\"col_heading level0 col5\" >Kappa</th>\n",
              "      <th class=\"col_heading level0 col6\" >MCC</th>\n",
              "    </tr>\n",
              "    <tr>\n",
              "      <th class=\"index_name level0\" >Fold</th>\n",
              "      <th class=\"blank col0\" >&nbsp;</th>\n",
              "      <th class=\"blank col1\" >&nbsp;</th>\n",
              "      <th class=\"blank col2\" >&nbsp;</th>\n",
              "      <th class=\"blank col3\" >&nbsp;</th>\n",
              "      <th class=\"blank col4\" >&nbsp;</th>\n",
              "      <th class=\"blank col5\" >&nbsp;</th>\n",
              "      <th class=\"blank col6\" >&nbsp;</th>\n",
              "    </tr>\n",
              "  </thead>\n",
              "  <tbody>\n",
              "    <tr>\n",
              "      <th id=\"T_df122_level0_row0\" class=\"row_heading level0 row0\" >0</th>\n",
              "      <td id=\"T_df122_row0_col0\" class=\"data row0 col0\" >0.8895</td>\n",
              "      <td id=\"T_df122_row0_col1\" class=\"data row0 col1\" >0.8070</td>\n",
              "      <td id=\"T_df122_row0_col2\" class=\"data row0 col2\" >0.2281</td>\n",
              "      <td id=\"T_df122_row0_col3\" class=\"data row0 col3\" >0.5621</td>\n",
              "      <td id=\"T_df122_row0_col4\" class=\"data row0 col4\" >0.3245</td>\n",
              "      <td id=\"T_df122_row0_col5\" class=\"data row0 col5\" >0.2759</td>\n",
              "      <td id=\"T_df122_row0_col6\" class=\"data row0 col6\" >0.3095</td>\n",
              "    </tr>\n",
              "    <tr>\n",
              "      <th id=\"T_df122_level0_row1\" class=\"row_heading level0 row1\" >1</th>\n",
              "      <td id=\"T_df122_row1_col0\" class=\"data row1 col0\" >0.8948</td>\n",
              "      <td id=\"T_df122_row1_col1\" class=\"data row1 col1\" >0.8308</td>\n",
              "      <td id=\"T_df122_row1_col2\" class=\"data row1 col2\" >0.2095</td>\n",
              "      <td id=\"T_df122_row1_col3\" class=\"data row1 col3\" >0.6475</td>\n",
              "      <td id=\"T_df122_row1_col4\" class=\"data row1 col4\" >0.3166</td>\n",
              "      <td id=\"T_df122_row1_col5\" class=\"data row1 col5\" >0.2754</td>\n",
              "      <td id=\"T_df122_row1_col6\" class=\"data row1 col6\" >0.3277</td>\n",
              "    </tr>\n",
              "    <tr>\n",
              "      <th id=\"T_df122_level0_row2\" class=\"row_heading level0 row2\" >2</th>\n",
              "      <td id=\"T_df122_row2_col0\" class=\"data row2 col0\" >0.8861</td>\n",
              "      <td id=\"T_df122_row2_col1\" class=\"data row2 col1\" >0.8103</td>\n",
              "      <td id=\"T_df122_row2_col2\" class=\"data row2 col2\" >0.1777</td>\n",
              "      <td id=\"T_df122_row2_col3\" class=\"data row2 col3\" >0.5317</td>\n",
              "      <td id=\"T_df122_row2_col4\" class=\"data row2 col4\" >0.2664</td>\n",
              "      <td id=\"T_df122_row2_col5\" class=\"data row2 col5\" >0.2210</td>\n",
              "      <td id=\"T_df122_row2_col6\" class=\"data row2 col6\" >0.2606</td>\n",
              "    </tr>\n",
              "    <tr>\n",
              "      <th id=\"T_df122_level0_row3\" class=\"row_heading level0 row3\" >3</th>\n",
              "      <td id=\"T_df122_row3_col0\" class=\"data row3 col0\" >0.8932</td>\n",
              "      <td id=\"T_df122_row3_col1\" class=\"data row3 col1\" >0.8344</td>\n",
              "      <td id=\"T_df122_row3_col2\" class=\"data row3 col2\" >0.2175</td>\n",
              "      <td id=\"T_df122_row3_col3\" class=\"data row3 col3\" >0.6165</td>\n",
              "      <td id=\"T_df122_row3_col4\" class=\"data row3 col4\" >0.3216</td>\n",
              "      <td id=\"T_df122_row3_col5\" class=\"data row3 col5\" >0.2777</td>\n",
              "      <td id=\"T_df122_row3_col6\" class=\"data row3 col6\" >0.3227</td>\n",
              "    </tr>\n",
              "    <tr>\n",
              "      <th id=\"T_df122_level0_row4\" class=\"row_heading level0 row4\" >4</th>\n",
              "      <td id=\"T_df122_row4_col0\" class=\"data row4 col0\" >0.8907</td>\n",
              "      <td id=\"T_df122_row4_col1\" class=\"data row4 col1\" >0.8288</td>\n",
              "      <td id=\"T_df122_row4_col2\" class=\"data row4 col2\" >0.2021</td>\n",
              "      <td id=\"T_df122_row4_col3\" class=\"data row4 col3\" >0.5846</td>\n",
              "      <td id=\"T_df122_row4_col4\" class=\"data row4 col4\" >0.3004</td>\n",
              "      <td id=\"T_df122_row4_col5\" class=\"data row4 col5\" >0.2560</td>\n",
              "      <td id=\"T_df122_row4_col6\" class=\"data row4 col6\" >0.2991</td>\n",
              "    </tr>\n",
              "    <tr>\n",
              "      <th id=\"T_df122_level0_row5\" class=\"row_heading level0 row5\" >5</th>\n",
              "      <td id=\"T_df122_row5_col0\" class=\"data row5 col0\" >0.8907</td>\n",
              "      <td id=\"T_df122_row5_col1\" class=\"data row5 col1\" >0.8108</td>\n",
              "      <td id=\"T_df122_row5_col2\" class=\"data row5 col2\" >0.1809</td>\n",
              "      <td id=\"T_df122_row5_col3\" class=\"data row5 col3\" >0.5965</td>\n",
              "      <td id=\"T_df122_row5_col4\" class=\"data row5 col4\" >0.2776</td>\n",
              "      <td id=\"T_df122_row5_col5\" class=\"data row5 col5\" >0.2363</td>\n",
              "      <td id=\"T_df122_row5_col6\" class=\"data row5 col6\" >0.2864</td>\n",
              "    </tr>\n",
              "    <tr>\n",
              "      <th id=\"T_df122_level0_row6\" class=\"row_heading level0 row6\" >6</th>\n",
              "      <td id=\"T_df122_row6_col0\" class=\"data row6 col0\" >0.8830</td>\n",
              "      <td id=\"T_df122_row6_col1\" class=\"data row6 col1\" >0.8354</td>\n",
              "      <td id=\"T_df122_row6_col2\" class=\"data row6 col2\" >0.1941</td>\n",
              "      <td id=\"T_df122_row6_col3\" class=\"data row6 col3\" >0.4899</td>\n",
              "      <td id=\"T_df122_row6_col4\" class=\"data row6 col4\" >0.2781</td>\n",
              "      <td id=\"T_df122_row6_col5\" class=\"data row6 col5\" >0.2272</td>\n",
              "      <td id=\"T_df122_row6_col6\" class=\"data row6 col6\" >0.2563</td>\n",
              "    </tr>\n",
              "    <tr>\n",
              "      <th id=\"T_df122_level0_row7\" class=\"row_heading level0 row7\" >7</th>\n",
              "      <td id=\"T_df122_row7_col0\" class=\"data row7 col0\" >0.8876</td>\n",
              "      <td id=\"T_df122_row7_col1\" class=\"data row7 col1\" >0.8313</td>\n",
              "      <td id=\"T_df122_row7_col2\" class=\"data row7 col2\" >0.1888</td>\n",
              "      <td id=\"T_df122_row7_col3\" class=\"data row7 col3\" >0.5462</td>\n",
              "      <td id=\"T_df122_row7_col4\" class=\"data row7 col4\" >0.2806</td>\n",
              "      <td id=\"T_df122_row7_col5\" class=\"data row7 col5\" >0.2350</td>\n",
              "      <td id=\"T_df122_row7_col6\" class=\"data row7 col6\" >0.2745</td>\n",
              "    </tr>\n",
              "    <tr>\n",
              "      <th id=\"T_df122_level0_row8\" class=\"row_heading level0 row8\" >8</th>\n",
              "      <td id=\"T_df122_row8_col0\" class=\"data row8 col0\" >0.8916</td>\n",
              "      <td id=\"T_df122_row8_col1\" class=\"data row8 col1\" >0.8252</td>\n",
              "      <td id=\"T_df122_row8_col2\" class=\"data row8 col2\" >0.1963</td>\n",
              "      <td id=\"T_df122_row8_col3\" class=\"data row8 col3\" >0.6066</td>\n",
              "      <td id=\"T_df122_row8_col4\" class=\"data row8 col4\" >0.2966</td>\n",
              "      <td id=\"T_df122_row8_col5\" class=\"data row8 col5\" >0.2541</td>\n",
              "      <td id=\"T_df122_row8_col6\" class=\"data row8 col6\" >0.3024</td>\n",
              "    </tr>\n",
              "    <tr>\n",
              "      <th id=\"T_df122_level0_row9\" class=\"row_heading level0 row9\" >9</th>\n",
              "      <td id=\"T_df122_row9_col0\" class=\"data row9 col0\" >0.8904</td>\n",
              "      <td id=\"T_df122_row9_col1\" class=\"data row9 col1\" >0.8045</td>\n",
              "      <td id=\"T_df122_row9_col2\" class=\"data row9 col2\" >0.2069</td>\n",
              "      <td id=\"T_df122_row9_col3\" class=\"data row9 col3\" >0.5821</td>\n",
              "      <td id=\"T_df122_row9_col4\" class=\"data row9 col4\" >0.3053</td>\n",
              "      <td id=\"T_df122_row9_col5\" class=\"data row9 col5\" >0.2601</td>\n",
              "      <td id=\"T_df122_row9_col6\" class=\"data row9 col6\" >0.3017</td>\n",
              "    </tr>\n",
              "    <tr>\n",
              "      <th id=\"T_df122_level0_row10\" class=\"row_heading level0 row10\" >Mean</th>\n",
              "      <td id=\"T_df122_row10_col0\" class=\"data row10 col0\" >0.8898</td>\n",
              "      <td id=\"T_df122_row10_col1\" class=\"data row10 col1\" >0.8219</td>\n",
              "      <td id=\"T_df122_row10_col2\" class=\"data row10 col2\" >0.2002</td>\n",
              "      <td id=\"T_df122_row10_col3\" class=\"data row10 col3\" >0.5764</td>\n",
              "      <td id=\"T_df122_row10_col4\" class=\"data row10 col4\" >0.2968</td>\n",
              "      <td id=\"T_df122_row10_col5\" class=\"data row10 col5\" >0.2519</td>\n",
              "      <td id=\"T_df122_row10_col6\" class=\"data row10 col6\" >0.2941</td>\n",
              "    </tr>\n",
              "    <tr>\n",
              "      <th id=\"T_df122_level0_row11\" class=\"row_heading level0 row11\" >Std</th>\n",
              "      <td id=\"T_df122_row11_col0\" class=\"data row11 col0\" >0.0033</td>\n",
              "      <td id=\"T_df122_row11_col1\" class=\"data row11 col1\" >0.0116</td>\n",
              "      <td id=\"T_df122_row11_col2\" class=\"data row11 col2\" >0.0151</td>\n",
              "      <td id=\"T_df122_row11_col3\" class=\"data row11 col3\" >0.0432</td>\n",
              "      <td id=\"T_df122_row11_col4\" class=\"data row11 col4\" >0.0194</td>\n",
              "      <td id=\"T_df122_row11_col5\" class=\"data row11 col5\" >0.0200</td>\n",
              "      <td id=\"T_df122_row11_col6\" class=\"data row11 col6\" >0.0231</td>\n",
              "    </tr>\n",
              "  </tbody>\n",
              "</table>\n"
            ]
          },
          "metadata": {}
        },
        {
          "output_type": "display_data",
          "data": {
            "text/plain": [
              "Processing:   0%|          | 0/7 [00:00<?, ?it/s]"
            ],
            "application/vnd.jupyter.widget-view+json": {
              "version_major": 2,
              "version_minor": 0,
              "model_id": "3405a4f2971c446397c1078bc78124ba"
            }
          },
          "metadata": {
            "application/vnd.jupyter.widget-view+json": {
              "colab": {
                "custom_widget_manager": {
                  "url": "https://ssl.gstatic.com/colaboratory-static/widgets/colab-cdn-widget-manager/d2e234f7cc04bf79/manager.min.js"
                }
              }
            }
          }
        },
        {
          "output_type": "stream",
          "name": "stdout",
          "text": [
            "Fitting 10 folds for each of 10 candidates, totalling 100 fits\n"
          ]
        },
        {
          "output_type": "display_data",
          "data": {
            "text/plain": [
              "<IPython.core.display.HTML object>"
            ],
            "text/html": []
          },
          "metadata": {}
        }
      ],
      "source": [
        "modelo_optimo = tune_model(modelo)"
      ]
    },
    {
      "cell_type": "code",
      "execution_count": 28,
      "metadata": {
        "id": "JBw-ocLiiY08",
        "colab": {
          "base_uri": "https://localhost:8080/"
        },
        "outputId": "c82822eb-bfd6-40d3-cb6e-7d00aa15ec25"
      },
      "outputs": [
        {
          "output_type": "stream",
          "name": "stdout",
          "text": [
            "KNeighborsClassifier(algorithm='auto', leaf_size=30, metric='minkowski',\n",
            "                     metric_params=None, n_jobs=-1, n_neighbors=5, p=2,\n",
            "                     weights='uniform')\n"
          ]
        }
      ],
      "source": [
        "print(modelo)"
      ]
    },
    {
      "cell_type": "code",
      "source": [
        "print(modelo_optimo)"
      ],
      "metadata": {
        "colab": {
          "base_uri": "https://localhost:8080/"
        },
        "id": "uQy_-pJXYNTt",
        "outputId": "9951329a-39df-4797-fc46-36aec582f33f"
      },
      "execution_count": 29,
      "outputs": [
        {
          "output_type": "stream",
          "name": "stdout",
          "text": [
            "KNeighborsClassifier(algorithm='auto', leaf_size=30, metric='euclidean',\n",
            "                     metric_params=None, n_jobs=-1, n_neighbors=47, p=2,\n",
            "                     weights='uniform')\n"
          ]
        }
      ]
    },
    {
      "cell_type": "markdown",
      "metadata": {
        "id": "M5tz790JigUH"
      },
      "source": [
        "# Evaluacion del modelo"
      ]
    },
    {
      "cell_type": "code",
      "execution_count": 30,
      "metadata": {
        "id": "3VQSuOX_ihNZ",
        "colab": {
          "base_uri": "https://localhost:8080/",
          "height": 411,
          "referenced_widgets": [
            "509bb683b04b4469bcad121c3f21ea13",
            "d42fa7475ec744159959e96229315e18",
            "451d6fa718614995b407c9c736171cd3",
            "4f4908d11cf54774ace4b44a04b01963",
            "3db5237981204ccca890963471ea763a",
            "07442f59e5584f2aa8ec81825f19cdc4",
            "eb3e541f24f245dba9cc81d708ee4f14"
          ]
        },
        "outputId": "73c3b294-d630-471a-e3c3-ead6468941b4"
      },
      "outputs": [
        {
          "output_type": "display_data",
          "data": {
            "text/plain": [
              "interactive(children=(ToggleButtons(description='Plot Type:', icons=('',), options=(('Pipeline Plot', 'pipelin…"
            ],
            "application/vnd.jupyter.widget-view+json": {
              "version_major": 2,
              "version_minor": 0,
              "model_id": "509bb683b04b4469bcad121c3f21ea13"
            }
          },
          "metadata": {
            "application/vnd.jupyter.widget-view+json": {
              "colab": {
                "custom_widget_manager": {
                  "url": "https://ssl.gstatic.com/colaboratory-static/widgets/colab-cdn-widget-manager/d2e234f7cc04bf79/manager.min.js"
                }
              }
            }
          }
        }
      ],
      "source": [
        "evaluate_model(modelo)"
      ]
    },
    {
      "cell_type": "code",
      "execution_count": 31,
      "metadata": {
        "id": "DPRiiIeDim5-",
        "colab": {
          "base_uri": "https://localhost:8080/",
          "height": 411,
          "referenced_widgets": [
            "206a8217302b408e95daf447a0cb7029",
            "e26c0810f70548a99cd7c238f3d1a76d",
            "1f2bd4a2b4fc4744a7d3fa88605ea595",
            "70854d8b31184eb384ca2d30e60101bc",
            "6bab23573234438597ddbdb853f5d752",
            "0b93d6b21307466e896d4c3dfc7f0bd6",
            "ebbba7feaf1947a78b892293c1cd0d2a"
          ]
        },
        "outputId": "33193034-a73a-4fa4-9249-13ad75182f15"
      },
      "outputs": [
        {
          "output_type": "display_data",
          "data": {
            "text/plain": [
              "interactive(children=(ToggleButtons(description='Plot Type:', icons=('',), options=(('Pipeline Plot', 'pipelin…"
            ],
            "application/vnd.jupyter.widget-view+json": {
              "version_major": 2,
              "version_minor": 0,
              "model_id": "206a8217302b408e95daf447a0cb7029"
            }
          },
          "metadata": {
            "application/vnd.jupyter.widget-view+json": {
              "colab": {
                "custom_widget_manager": {
                  "url": "https://ssl.gstatic.com/colaboratory-static/widgets/colab-cdn-widget-manager/d2e234f7cc04bf79/manager.min.js"
                }
              }
            }
          }
        }
      ],
      "source": [
        "evaluate_model(modelo_optimo)"
      ]
    },
    {
      "cell_type": "code",
      "source": [
        "plot_model(modelo, plot=\"class_report\")"
      ],
      "metadata": {
        "colab": {
          "base_uri": "https://localhost:8080/",
          "height": 297
        },
        "id": "KSYEtFsKYfCl",
        "outputId": "024b0474-1d3b-4f54-f2bd-3eb5f2fd0723"
      },
      "execution_count": 32,
      "outputs": [
        {
          "output_type": "display_data",
          "data": {
            "text/plain": [
              "<IPython.core.display.HTML object>"
            ],
            "text/html": []
          },
          "metadata": {}
        },
        {
          "output_type": "display_data",
          "data": {
            "text/plain": [
              "<Figure size 432x288 with 2 Axes>"
            ],
            "image/png": "[encoded data removed]"
          },
          "metadata": {
            "needs_background": "light"
          }
        }
      ]
    },
    {
      "cell_type": "code",
      "execution_count": 33,
      "metadata": {
        "id": "NWD2rB3JiqiB",
        "colab": {
          "base_uri": "https://localhost:8080/",
          "height": 297
        },
        "outputId": "7c6d3e43-299a-4522-b0a3-0d1dd222adad"
      },
      "outputs": [
        {
          "output_type": "display_data",
          "data": {
            "text/plain": [
              "<IPython.core.display.HTML object>"
            ],
            "text/html": []
          },
          "metadata": {}
        },
        {
          "output_type": "display_data",
          "data": {
            "text/plain": [
              "<Figure size 432x288 with 2 Axes>"
            ],
            "image/png": "[encoded data removed]"
          },
          "metadata": {
            "needs_background": "light"
          }
        }
      ],
      "source": [
        "plot_model(modelo_optimo, plot=\"class_report\")"
      ]
    },
    {
      "cell_type": "markdown",
      "metadata": {
        "id": "B_jphbGZj0OA"
      },
      "source": [
        "# **Generación del segundo modelo de clasificación**"
      ]
    },
    {
      "cell_type": "code",
      "execution_count": 34,
      "metadata": {
        "id": "LcewhjOFj31V",
        "colab": {
          "base_uri": "https://localhost:8080/",
          "height": 457,
          "referenced_widgets": [
            "5dccbdb1ebbd4a9da2d614afb86ff2ae",
            "a7183d1e27624c5394a65a87224acbaa",
            "efe0d95d00d94f9fb40acabc9abd0fa1",
            "c4f193860d0142a092912e597a2f95c1",
            "211004eb43e44904bb0dcd1ad333fe86",
            "33214facdc594a98aa242411911491a8",
            "841b35dd8587468299ee4d6b6fd39636",
            "3c5994ad035b4b619d53a53701ff34ed",
            "5fca9ab8a09b4d12a60acad079193efd",
            "e5b2a446863f4c6d8d39873434488138",
            "e2524f94a19342ccba5f87739c44cb18"
          ]
        },
        "outputId": "9b457910-a5c5-44f4-8b88-0e5ef2b329b3"
      },
      "outputs": [
        {
          "output_type": "display_data",
          "data": {
            "text/plain": [
              "<IPython.core.display.HTML object>"
            ],
            "text/html": []
          },
          "metadata": {}
        },
        {
          "output_type": "display_data",
          "data": {
            "text/plain": [
              "<pandas.io.formats.style.Styler at 0x7f81f62ca710>"
            ],
            "text/html": [
              "<style type=\"text/css\">\n",
              "#T_47232_row10_col0, #T_47232_row10_col1, #T_47232_row10_col2, #T_47232_row10_col3, #T_47232_row10_col4, #T_47232_row10_col5, #T_47232_row10_col6 {\n",
              "  background: yellow;\n",
              "}\n",
              "</style>\n",
              "<table id=\"T_47232_\" class=\"dataframe\">\n",
              "  <thead>\n",
              "    <tr>\n",
              "      <th class=\"blank level0\" >&nbsp;</th>\n",
              "      <th class=\"col_heading level0 col0\" >Accuracy</th>\n",
              "      <th class=\"col_heading level0 col1\" >AUC</th>\n",
              "      <th class=\"col_heading level0 col2\" >Recall</th>\n",
              "      <th class=\"col_heading level0 col3\" >Prec.</th>\n",
              "      <th class=\"col_heading level0 col4\" >F1</th>\n",
              "      <th class=\"col_heading level0 col5\" >Kappa</th>\n",
              "      <th class=\"col_heading level0 col6\" >MCC</th>\n",
              "    </tr>\n",
              "    <tr>\n",
              "      <th class=\"index_name level0\" >Fold</th>\n",
              "      <th class=\"blank col0\" >&nbsp;</th>\n",
              "      <th class=\"blank col1\" >&nbsp;</th>\n",
              "      <th class=\"blank col2\" >&nbsp;</th>\n",
              "      <th class=\"blank col3\" >&nbsp;</th>\n",
              "      <th class=\"blank col4\" >&nbsp;</th>\n",
              "      <th class=\"blank col5\" >&nbsp;</th>\n",
              "      <th class=\"blank col6\" >&nbsp;</th>\n",
              "    </tr>\n",
              "  </thead>\n",
              "  <tbody>\n",
              "    <tr>\n",
              "      <th id=\"T_47232_level0_row0\" class=\"row_heading level0 row0\" >0</th>\n",
              "      <td id=\"T_47232_row0_col0\" class=\"data row0 col0\" >0.8849</td>\n",
              "      <td id=\"T_47232_row0_col1\" class=\"data row0 col1\" >0.8270</td>\n",
              "      <td id=\"T_47232_row0_col2\" class=\"data row0 col2\" >0.0345</td>\n",
              "      <td id=\"T_47232_row0_col3\" class=\"data row0 col3\" >0.5909</td>\n",
              "      <td id=\"T_47232_row0_col4\" class=\"data row0 col4\" >0.0652</td>\n",
              "      <td id=\"T_47232_row0_col5\" class=\"data row0 col5\" >0.0530</td>\n",
              "      <td id=\"T_47232_row0_col6\" class=\"data row0 col6\" >0.1224</td>\n",
              "    </tr>\n",
              "    <tr>\n",
              "      <th id=\"T_47232_level0_row1\" class=\"row_heading level0 row1\" >1</th>\n",
              "      <td id=\"T_47232_row1_col0\" class=\"data row1 col0\" >0.8855</td>\n",
              "      <td id=\"T_47232_row1_col1\" class=\"data row1 col1\" >0.8345</td>\n",
              "      <td id=\"T_47232_row1_col2\" class=\"data row1 col2\" >0.0371</td>\n",
              "      <td id=\"T_47232_row1_col3\" class=\"data row1 col3\" >0.6364</td>\n",
              "      <td id=\"T_47232_row1_col4\" class=\"data row1 col4\" >0.0702</td>\n",
              "      <td id=\"T_47232_row1_col5\" class=\"data row1 col5\" >0.0581</td>\n",
              "      <td id=\"T_47232_row1_col6\" class=\"data row1 col6\" >0.1341</td>\n",
              "    </tr>\n",
              "    <tr>\n",
              "      <th id=\"T_47232_level0_row2\" class=\"row_heading level0 row2\" >2</th>\n",
              "      <td id=\"T_47232_row2_col0\" class=\"data row2 col0\" >0.8873</td>\n",
              "      <td id=\"T_47232_row2_col1\" class=\"data row2 col1\" >0.8145</td>\n",
              "      <td id=\"T_47232_row2_col2\" class=\"data row2 col2\" >0.0477</td>\n",
              "      <td id=\"T_47232_row2_col3\" class=\"data row2 col3\" >0.7500</td>\n",
              "      <td id=\"T_47232_row2_col4\" class=\"data row2 col4\" >0.0898</td>\n",
              "      <td id=\"T_47232_row2_col5\" class=\"data row2 col5\" >0.0769</td>\n",
              "      <td id=\"T_47232_row2_col6\" class=\"data row2 col6\" >0.1707</td>\n",
              "    </tr>\n",
              "    <tr>\n",
              "      <th id=\"T_47232_level0_row3\" class=\"row_heading level0 row3\" >3</th>\n",
              "      <td id=\"T_47232_row3_col0\" class=\"data row3 col0\" >0.8892</td>\n",
              "      <td id=\"T_47232_row3_col1\" class=\"data row3 col1\" >0.8477</td>\n",
              "      <td id=\"T_47232_row3_col2\" class=\"data row3 col2\" >0.0690</td>\n",
              "      <td id=\"T_47232_row3_col3\" class=\"data row3 col3\" >0.7647</td>\n",
              "      <td id=\"T_47232_row3_col4\" class=\"data row3 col4\" >0.1265</td>\n",
              "      <td id=\"T_47232_row3_col5\" class=\"data row3 col5\" >0.1094</td>\n",
              "      <td id=\"T_47232_row3_col6\" class=\"data row3 col6\" >0.2082</td>\n",
              "    </tr>\n",
              "    <tr>\n",
              "      <th id=\"T_47232_level0_row4\" class=\"row_heading level0 row4\" >4</th>\n",
              "      <td id=\"T_47232_row4_col0\" class=\"data row4 col0\" >0.8864</td>\n",
              "      <td id=\"T_47232_row4_col1\" class=\"data row4 col1\" >0.8273</td>\n",
              "      <td id=\"T_47232_row4_col2\" class=\"data row4 col2\" >0.0559</td>\n",
              "      <td id=\"T_47232_row4_col3\" class=\"data row4 col3\" >0.6176</td>\n",
              "      <td id=\"T_47232_row4_col4\" class=\"data row4 col4\" >0.1024</td>\n",
              "      <td id=\"T_47232_row4_col5\" class=\"data row4 col5\" >0.0848</td>\n",
              "      <td id=\"T_47232_row4_col6\" class=\"data row4 col6\" >0.1613</td>\n",
              "    </tr>\n",
              "    <tr>\n",
              "      <th id=\"T_47232_level0_row5\" class=\"row_heading level0 row5\" >5</th>\n",
              "      <td id=\"T_47232_row5_col0\" class=\"data row5 col0\" >0.8861</td>\n",
              "      <td id=\"T_47232_row5_col1\" class=\"data row5 col1\" >0.8487</td>\n",
              "      <td id=\"T_47232_row5_col2\" class=\"data row5 col2\" >0.0399</td>\n",
              "      <td id=\"T_47232_row5_col3\" class=\"data row5 col3\" >0.6522</td>\n",
              "      <td id=\"T_47232_row5_col4\" class=\"data row5 col4\" >0.0752</td>\n",
              "      <td id=\"T_47232_row5_col5\" class=\"data row5 col5\" >0.0626</td>\n",
              "      <td id=\"T_47232_row5_col6\" class=\"data row5 col6\" >0.1415</td>\n",
              "    </tr>\n",
              "    <tr>\n",
              "      <th id=\"T_47232_level0_row6\" class=\"row_heading level0 row6\" >6</th>\n",
              "      <td id=\"T_47232_row6_col0\" class=\"data row6 col0\" >0.8842</td>\n",
              "      <td id=\"T_47232_row6_col1\" class=\"data row6 col1\" >0.8406</td>\n",
              "      <td id=\"T_47232_row6_col2\" class=\"data row6 col2\" >0.0532</td>\n",
              "      <td id=\"T_47232_row6_col3\" class=\"data row6 col3\" >0.5128</td>\n",
              "      <td id=\"T_47232_row6_col4\" class=\"data row6 col4\" >0.0964</td>\n",
              "      <td id=\"T_47232_row6_col5\" class=\"data row6 col5\" >0.0762</td>\n",
              "      <td id=\"T_47232_row6_col6\" class=\"data row6 col6\" >0.1367</td>\n",
              "    </tr>\n",
              "    <tr>\n",
              "      <th id=\"T_47232_level0_row7\" class=\"row_heading level0 row7\" >7</th>\n",
              "      <td id=\"T_47232_row7_col0\" class=\"data row7 col0\" >0.8867</td>\n",
              "      <td id=\"T_47232_row7_col1\" class=\"data row7 col1\" >0.8113</td>\n",
              "      <td id=\"T_47232_row7_col2\" class=\"data row7 col2\" >0.0505</td>\n",
              "      <td id=\"T_47232_row7_col3\" class=\"data row7 col3\" >0.6552</td>\n",
              "      <td id=\"T_47232_row7_col4\" class=\"data row7 col4\" >0.0938</td>\n",
              "      <td id=\"T_47232_row7_col5\" class=\"data row7 col5\" >0.0785</td>\n",
              "      <td id=\"T_47232_row7_col6\" class=\"data row7 col6\" >0.1600</td>\n",
              "    </tr>\n",
              "    <tr>\n",
              "      <th id=\"T_47232_level0_row8\" class=\"row_heading level0 row8\" >8</th>\n",
              "      <td id=\"T_47232_row8_col0\" class=\"data row8 col0\" >0.8861</td>\n",
              "      <td id=\"T_47232_row8_col1\" class=\"data row8 col1\" >0.8247</td>\n",
              "      <td id=\"T_47232_row8_col2\" class=\"data row8 col2\" >0.0584</td>\n",
              "      <td id=\"T_47232_row8_col3\" class=\"data row8 col3\" >0.6111</td>\n",
              "      <td id=\"T_47232_row8_col4\" class=\"data row8 col4\" >0.1065</td>\n",
              "      <td id=\"T_47232_row8_col5\" class=\"data row8 col5\" >0.0880</td>\n",
              "      <td id=\"T_47232_row8_col6\" class=\"data row8 col6\" >0.1635</td>\n",
              "    </tr>\n",
              "    <tr>\n",
              "      <th id=\"T_47232_level0_row9\" class=\"row_heading level0 row9\" >9</th>\n",
              "      <td id=\"T_47232_row9_col0\" class=\"data row9 col0\" >0.8867</td>\n",
              "      <td id=\"T_47232_row9_col1\" class=\"data row9 col1\" >0.8421</td>\n",
              "      <td id=\"T_47232_row9_col2\" class=\"data row9 col2\" >0.0557</td>\n",
              "      <td id=\"T_47232_row9_col3\" class=\"data row9 col3\" >0.6562</td>\n",
              "      <td id=\"T_47232_row9_col4\" class=\"data row9 col4\" >0.1027</td>\n",
              "      <td id=\"T_47232_row9_col5\" class=\"data row9 col5\" >0.0860</td>\n",
              "      <td id=\"T_47232_row9_col6\" class=\"data row9 col6\" >0.1682</td>\n",
              "    </tr>\n",
              "    <tr>\n",
              "      <th id=\"T_47232_level0_row10\" class=\"row_heading level0 row10\" >Mean</th>\n",
              "      <td id=\"T_47232_row10_col0\" class=\"data row10 col0\" >0.8863</td>\n",
              "      <td id=\"T_47232_row10_col1\" class=\"data row10 col1\" >0.8318</td>\n",
              "      <td id=\"T_47232_row10_col2\" class=\"data row10 col2\" >0.0502</td>\n",
              "      <td id=\"T_47232_row10_col3\" class=\"data row10 col3\" >0.6447</td>\n",
              "      <td id=\"T_47232_row10_col4\" class=\"data row10 col4\" >0.0929</td>\n",
              "      <td id=\"T_47232_row10_col5\" class=\"data row10 col5\" >0.0774</td>\n",
              "      <td id=\"T_47232_row10_col6\" class=\"data row10 col6\" >0.1567</td>\n",
              "    </tr>\n",
              "    <tr>\n",
              "      <th id=\"T_47232_level0_row11\" class=\"row_heading level0 row11\" >Std</th>\n",
              "      <td id=\"T_47232_row11_col0\" class=\"data row11 col0\" >0.0013</td>\n",
              "      <td id=\"T_47232_row11_col1\" class=\"data row11 col1\" >0.0124</td>\n",
              "      <td id=\"T_47232_row11_col2\" class=\"data row11 col2\" >0.0101</td>\n",
              "      <td id=\"T_47232_row11_col3\" class=\"data row11 col3\" >0.0693</td>\n",
              "      <td id=\"T_47232_row11_col4\" class=\"data row11 col4\" >0.0177</td>\n",
              "      <td id=\"T_47232_row11_col5\" class=\"data row11 col5\" >0.0157</td>\n",
              "      <td id=\"T_47232_row11_col6\" class=\"data row11 col6\" >0.0232</td>\n",
              "    </tr>\n",
              "  </tbody>\n",
              "</table>\n"
            ]
          },
          "metadata": {}
        },
        {
          "output_type": "display_data",
          "data": {
            "text/plain": [
              "Processing:   0%|          | 0/4 [00:00<?, ?it/s]"
            ],
            "application/vnd.jupyter.widget-view+json": {
              "version_major": 2,
              "version_minor": 0,
              "model_id": "5dccbdb1ebbd4a9da2d614afb86ff2ae"
            }
          },
          "metadata": {
            "application/vnd.jupyter.widget-view+json": {
              "colab": {
                "custom_widget_manager": {
                  "url": "https://ssl.gstatic.com/colaboratory-static/widgets/colab-cdn-widget-manager/d2e234f7cc04bf79/manager.min.js"
                }
              }
            }
          }
        },
        {
          "output_type": "display_data",
          "data": {
            "text/plain": [
              "<IPython.core.display.HTML object>"
            ],
            "text/html": []
          },
          "metadata": {}
        }
      ],
      "source": [
        "modelo_2 = create_model(\"rf\")"
      ]
    },
    {
      "cell_type": "code",
      "source": [
        "print(modelo_2)"
      ],
      "metadata": {
        "colab": {
          "base_uri": "https://localhost:8080/"
        },
        "id": "zcZQfIVmTvmy",
        "outputId": "9cc9d429-c0f3-4c41-8c9f-d9700eb70ab4"
      },
      "execution_count": 35,
      "outputs": [
        {
          "output_type": "stream",
          "name": "stdout",
          "text": [
            "RandomForestClassifier(bootstrap=True, ccp_alpha=0.0, class_weight=None,\n",
            "                       criterion='gini', max_depth=None, max_features='auto',\n",
            "                       max_leaf_nodes=None, max_samples=None,\n",
            "                       min_impurity_decrease=0.0, min_samples_leaf=1,\n",
            "                       min_samples_split=2, min_weight_fraction_leaf=0.0,\n",
            "                       n_estimators=100, n_jobs=-1, oob_score=False,\n",
            "                       random_state=0, verbose=0, warm_start=False)\n"
          ]
        }
      ]
    },
    {
      "cell_type": "markdown",
      "source": [
        "# Optimizacion"
      ],
      "metadata": {
        "id": "1y6mLpCTUOgr"
      }
    },
    {
      "cell_type": "code",
      "source": [
        "modelo_optimo_2 = tune_model(modelo_2)"
      ],
      "metadata": {
        "colab": {
          "base_uri": "https://localhost:8080/",
          "height": 493,
          "referenced_widgets": [
            "d30b929835e744cba13cf10d1de687aa",
            "68598109d9b24ab6af0af20698096f3c",
            "d6009733e1b0402a8fdce906c15b2d55",
            "fc9aa1cc2eea40518276047b23085ee8",
            "6c09cce502174f899ab7b55f3400b956",
            "dc300b0eac9842bc9c38c4d883585149",
            "281f0dbc78cb424fa724bb4dde564777",
            "cce543f22f2e4594bf401a9f02b5ce66",
            "982afe22db634fe9b1fb55520eae5433",
            "ed2a80e1afab40c09fd5ed8526bc9e50",
            "10a9fbc138ef49a58c10241651977abb"
          ]
        },
        "id": "yJ-vgnYYUN60",
        "outputId": "d0b10370-f6fc-4445-e7fe-9cd6a0f21a42"
      },
      "execution_count": 36,
      "outputs": [
        {
          "output_type": "display_data",
          "data": {
            "text/plain": [
              "<IPython.core.display.HTML object>"
            ],
            "text/html": []
          },
          "metadata": {}
        },
        {
          "output_type": "display_data",
          "data": {
            "text/plain": [
              "<pandas.io.formats.style.Styler at 0x7f81af3dce50>"
            ],
            "text/html": [
              "<style type=\"text/css\">\n",
              "#T_01a2d_row10_col0, #T_01a2d_row10_col1, #T_01a2d_row10_col2, #T_01a2d_row10_col3, #T_01a2d_row10_col4, #T_01a2d_row10_col5, #T_01a2d_row10_col6 {\n",
              "  background: yellow;\n",
              "}\n",
              "</style>\n",
              "<table id=\"T_01a2d_\" class=\"dataframe\">\n",
              "  <thead>\n",
              "    <tr>\n",
              "      <th class=\"blank level0\" >&nbsp;</th>\n",
              "      <th class=\"col_heading level0 col0\" >Accuracy</th>\n",
              "      <th class=\"col_heading level0 col1\" >AUC</th>\n",
              "      <th class=\"col_heading level0 col2\" >Recall</th>\n",
              "      <th class=\"col_heading level0 col3\" >Prec.</th>\n",
              "      <th class=\"col_heading level0 col4\" >F1</th>\n",
              "      <th class=\"col_heading level0 col5\" >Kappa</th>\n",
              "      <th class=\"col_heading level0 col6\" >MCC</th>\n",
              "    </tr>\n",
              "    <tr>\n",
              "      <th class=\"index_name level0\" >Fold</th>\n",
              "      <th class=\"blank col0\" >&nbsp;</th>\n",
              "      <th class=\"blank col1\" >&nbsp;</th>\n",
              "      <th class=\"blank col2\" >&nbsp;</th>\n",
              "      <th class=\"blank col3\" >&nbsp;</th>\n",
              "      <th class=\"blank col4\" >&nbsp;</th>\n",
              "      <th class=\"blank col5\" >&nbsp;</th>\n",
              "      <th class=\"blank col6\" >&nbsp;</th>\n",
              "    </tr>\n",
              "  </thead>\n",
              "  <tbody>\n",
              "    <tr>\n",
              "      <th id=\"T_01a2d_level0_row0\" class=\"row_heading level0 row0\" >0</th>\n",
              "      <td id=\"T_01a2d_row0_col0\" class=\"data row0 col0\" >0.8836</td>\n",
              "      <td id=\"T_01a2d_row0_col1\" class=\"data row0 col1\" >0.5000</td>\n",
              "      <td id=\"T_01a2d_row0_col2\" class=\"data row0 col2\" >0.0000</td>\n",
              "      <td id=\"T_01a2d_row0_col3\" class=\"data row0 col3\" >0.0000</td>\n",
              "      <td id=\"T_01a2d_row0_col4\" class=\"data row0 col4\" >0.0000</td>\n",
              "      <td id=\"T_01a2d_row0_col5\" class=\"data row0 col5\" >0.0000</td>\n",
              "      <td id=\"T_01a2d_row0_col6\" class=\"data row0 col6\" >0.0000</td>\n",
              "    </tr>\n",
              "    <tr>\n",
              "      <th id=\"T_01a2d_level0_row1\" class=\"row_heading level0 row1\" >1</th>\n",
              "      <td id=\"T_01a2d_row1_col0\" class=\"data row1 col0\" >0.8836</td>\n",
              "      <td id=\"T_01a2d_row1_col1\" class=\"data row1 col1\" >0.5000</td>\n",
              "      <td id=\"T_01a2d_row1_col2\" class=\"data row1 col2\" >0.0000</td>\n",
              "      <td id=\"T_01a2d_row1_col3\" class=\"data row1 col3\" >0.0000</td>\n",
              "      <td id=\"T_01a2d_row1_col4\" class=\"data row1 col4\" >0.0000</td>\n",
              "      <td id=\"T_01a2d_row1_col5\" class=\"data row1 col5\" >0.0000</td>\n",
              "      <td id=\"T_01a2d_row1_col6\" class=\"data row1 col6\" >0.0000</td>\n",
              "    </tr>\n",
              "    <tr>\n",
              "      <th id=\"T_01a2d_level0_row2\" class=\"row_heading level0 row2\" >2</th>\n",
              "      <td id=\"T_01a2d_row2_col0\" class=\"data row2 col0\" >0.8836</td>\n",
              "      <td id=\"T_01a2d_row2_col1\" class=\"data row2 col1\" >0.5000</td>\n",
              "      <td id=\"T_01a2d_row2_col2\" class=\"data row2 col2\" >0.0000</td>\n",
              "      <td id=\"T_01a2d_row2_col3\" class=\"data row2 col3\" >0.0000</td>\n",
              "      <td id=\"T_01a2d_row2_col4\" class=\"data row2 col4\" >0.0000</td>\n",
              "      <td id=\"T_01a2d_row2_col5\" class=\"data row2 col5\" >0.0000</td>\n",
              "      <td id=\"T_01a2d_row2_col6\" class=\"data row2 col6\" >0.0000</td>\n",
              "    </tr>\n",
              "    <tr>\n",
              "      <th id=\"T_01a2d_level0_row3\" class=\"row_heading level0 row3\" >3</th>\n",
              "      <td id=\"T_01a2d_row3_col0\" class=\"data row3 col0\" >0.8836</td>\n",
              "      <td id=\"T_01a2d_row3_col1\" class=\"data row3 col1\" >0.5000</td>\n",
              "      <td id=\"T_01a2d_row3_col2\" class=\"data row3 col2\" >0.0000</td>\n",
              "      <td id=\"T_01a2d_row3_col3\" class=\"data row3 col3\" >0.0000</td>\n",
              "      <td id=\"T_01a2d_row3_col4\" class=\"data row3 col4\" >0.0000</td>\n",
              "      <td id=\"T_01a2d_row3_col5\" class=\"data row3 col5\" >0.0000</td>\n",
              "      <td id=\"T_01a2d_row3_col6\" class=\"data row3 col6\" >0.0000</td>\n",
              "    </tr>\n",
              "    <tr>\n",
              "      <th id=\"T_01a2d_level0_row4\" class=\"row_heading level0 row4\" >4</th>\n",
              "      <td id=\"T_01a2d_row4_col0\" class=\"data row4 col0\" >0.8839</td>\n",
              "      <td id=\"T_01a2d_row4_col1\" class=\"data row4 col1\" >0.5000</td>\n",
              "      <td id=\"T_01a2d_row4_col2\" class=\"data row4 col2\" >0.0000</td>\n",
              "      <td id=\"T_01a2d_row4_col3\" class=\"data row4 col3\" >0.0000</td>\n",
              "      <td id=\"T_01a2d_row4_col4\" class=\"data row4 col4\" >0.0000</td>\n",
              "      <td id=\"T_01a2d_row4_col5\" class=\"data row4 col5\" >0.0000</td>\n",
              "      <td id=\"T_01a2d_row4_col6\" class=\"data row4 col6\" >0.0000</td>\n",
              "    </tr>\n",
              "    <tr>\n",
              "      <th id=\"T_01a2d_level0_row5\" class=\"row_heading level0 row5\" >5</th>\n",
              "      <td id=\"T_01a2d_row5_col0\" class=\"data row5 col0\" >0.8839</td>\n",
              "      <td id=\"T_01a2d_row5_col1\" class=\"data row5 col1\" >0.5000</td>\n",
              "      <td id=\"T_01a2d_row5_col2\" class=\"data row5 col2\" >0.0000</td>\n",
              "      <td id=\"T_01a2d_row5_col3\" class=\"data row5 col3\" >0.0000</td>\n",
              "      <td id=\"T_01a2d_row5_col4\" class=\"data row5 col4\" >0.0000</td>\n",
              "      <td id=\"T_01a2d_row5_col5\" class=\"data row5 col5\" >0.0000</td>\n",
              "      <td id=\"T_01a2d_row5_col6\" class=\"data row5 col6\" >0.0000</td>\n",
              "    </tr>\n",
              "    <tr>\n",
              "      <th id=\"T_01a2d_level0_row6\" class=\"row_heading level0 row6\" >6</th>\n",
              "      <td id=\"T_01a2d_row6_col0\" class=\"data row6 col0\" >0.8839</td>\n",
              "      <td id=\"T_01a2d_row6_col1\" class=\"data row6 col1\" >0.5000</td>\n",
              "      <td id=\"T_01a2d_row6_col2\" class=\"data row6 col2\" >0.0000</td>\n",
              "      <td id=\"T_01a2d_row6_col3\" class=\"data row6 col3\" >0.0000</td>\n",
              "      <td id=\"T_01a2d_row6_col4\" class=\"data row6 col4\" >0.0000</td>\n",
              "      <td id=\"T_01a2d_row6_col5\" class=\"data row6 col5\" >0.0000</td>\n",
              "      <td id=\"T_01a2d_row6_col6\" class=\"data row6 col6\" >0.0000</td>\n",
              "    </tr>\n",
              "    <tr>\n",
              "      <th id=\"T_01a2d_level0_row7\" class=\"row_heading level0 row7\" >7</th>\n",
              "      <td id=\"T_01a2d_row7_col0\" class=\"data row7 col0\" >0.8839</td>\n",
              "      <td id=\"T_01a2d_row7_col1\" class=\"data row7 col1\" >0.5000</td>\n",
              "      <td id=\"T_01a2d_row7_col2\" class=\"data row7 col2\" >0.0000</td>\n",
              "      <td id=\"T_01a2d_row7_col3\" class=\"data row7 col3\" >0.0000</td>\n",
              "      <td id=\"T_01a2d_row7_col4\" class=\"data row7 col4\" >0.0000</td>\n",
              "      <td id=\"T_01a2d_row7_col5\" class=\"data row7 col5\" >0.0000</td>\n",
              "      <td id=\"T_01a2d_row7_col6\" class=\"data row7 col6\" >0.0000</td>\n",
              "    </tr>\n",
              "    <tr>\n",
              "      <th id=\"T_01a2d_level0_row8\" class=\"row_heading level0 row8\" >8</th>\n",
              "      <td id=\"T_01a2d_row8_col0\" class=\"data row8 col0\" >0.8836</td>\n",
              "      <td id=\"T_01a2d_row8_col1\" class=\"data row8 col1\" >0.5000</td>\n",
              "      <td id=\"T_01a2d_row8_col2\" class=\"data row8 col2\" >0.0000</td>\n",
              "      <td id=\"T_01a2d_row8_col3\" class=\"data row8 col3\" >0.0000</td>\n",
              "      <td id=\"T_01a2d_row8_col4\" class=\"data row8 col4\" >0.0000</td>\n",
              "      <td id=\"T_01a2d_row8_col5\" class=\"data row8 col5\" >0.0000</td>\n",
              "      <td id=\"T_01a2d_row8_col6\" class=\"data row8 col6\" >0.0000</td>\n",
              "    </tr>\n",
              "    <tr>\n",
              "      <th id=\"T_01a2d_level0_row9\" class=\"row_heading level0 row9\" >9</th>\n",
              "      <td id=\"T_01a2d_row9_col0\" class=\"data row9 col0\" >0.8836</td>\n",
              "      <td id=\"T_01a2d_row9_col1\" class=\"data row9 col1\" >0.5000</td>\n",
              "      <td id=\"T_01a2d_row9_col2\" class=\"data row9 col2\" >0.0000</td>\n",
              "      <td id=\"T_01a2d_row9_col3\" class=\"data row9 col3\" >0.0000</td>\n",
              "      <td id=\"T_01a2d_row9_col4\" class=\"data row9 col4\" >0.0000</td>\n",
              "      <td id=\"T_01a2d_row9_col5\" class=\"data row9 col5\" >0.0000</td>\n",
              "      <td id=\"T_01a2d_row9_col6\" class=\"data row9 col6\" >0.0000</td>\n",
              "    </tr>\n",
              "    <tr>\n",
              "      <th id=\"T_01a2d_level0_row10\" class=\"row_heading level0 row10\" >Mean</th>\n",
              "      <td id=\"T_01a2d_row10_col0\" class=\"data row10 col0\" >0.8837</td>\n",
              "      <td id=\"T_01a2d_row10_col1\" class=\"data row10 col1\" >0.5000</td>\n",
              "      <td id=\"T_01a2d_row10_col2\" class=\"data row10 col2\" >0.0000</td>\n",
              "      <td id=\"T_01a2d_row10_col3\" class=\"data row10 col3\" >0.0000</td>\n",
              "      <td id=\"T_01a2d_row10_col4\" class=\"data row10 col4\" >0.0000</td>\n",
              "      <td id=\"T_01a2d_row10_col5\" class=\"data row10 col5\" >0.0000</td>\n",
              "      <td id=\"T_01a2d_row10_col6\" class=\"data row10 col6\" >0.0000</td>\n",
              "    </tr>\n",
              "    <tr>\n",
              "      <th id=\"T_01a2d_level0_row11\" class=\"row_heading level0 row11\" >Std</th>\n",
              "      <td id=\"T_01a2d_row11_col0\" class=\"data row11 col0\" >0.0001</td>\n",
              "      <td id=\"T_01a2d_row11_col1\" class=\"data row11 col1\" >0.0000</td>\n",
              "      <td id=\"T_01a2d_row11_col2\" class=\"data row11 col2\" >0.0000</td>\n",
              "      <td id=\"T_01a2d_row11_col3\" class=\"data row11 col3\" >0.0000</td>\n",
              "      <td id=\"T_01a2d_row11_col4\" class=\"data row11 col4\" >0.0000</td>\n",
              "      <td id=\"T_01a2d_row11_col5\" class=\"data row11 col5\" >0.0000</td>\n",
              "      <td id=\"T_01a2d_row11_col6\" class=\"data row11 col6\" >0.0000</td>\n",
              "    </tr>\n",
              "  </tbody>\n",
              "</table>\n"
            ]
          },
          "metadata": {}
        },
        {
          "output_type": "display_data",
          "data": {
            "text/plain": [
              "Processing:   0%|          | 0/7 [00:00<?, ?it/s]"
            ],
            "application/vnd.jupyter.widget-view+json": {
              "version_major": 2,
              "version_minor": 0,
              "model_id": "d30b929835e744cba13cf10d1de687aa"
            }
          },
          "metadata": {
            "application/vnd.jupyter.widget-view+json": {
              "colab": {
                "custom_widget_manager": {
                  "url": "https://ssl.gstatic.com/colaboratory-static/widgets/colab-cdn-widget-manager/d2e234f7cc04bf79/manager.min.js"
                }
              }
            }
          }
        },
        {
          "output_type": "stream",
          "name": "stdout",
          "text": [
            "Fitting 10 folds for each of 10 candidates, totalling 100 fits\n"
          ]
        },
        {
          "output_type": "display_data",
          "data": {
            "text/plain": [
              "<IPython.core.display.HTML object>"
            ],
            "text/html": []
          },
          "metadata": {}
        },
        {
          "output_type": "stream",
          "name": "stdout",
          "text": [
            "Original model was better than the tuned model, hence it will be returned. NOTE: The display metrics are for the tuned model (not the original one).\n"
          ]
        }
      ]
    },
    {
      "cell_type": "code",
      "source": [
        "print(modelo_optimo_2)"
      ],
      "metadata": {
        "colab": {
          "base_uri": "https://localhost:8080/"
        },
        "id": "Z5E9LN1DUVyx",
        "outputId": "4d5b87bf-f6bb-482a-eeea-7f5f91bf140d"
      },
      "execution_count": 37,
      "outputs": [
        {
          "output_type": "stream",
          "name": "stdout",
          "text": [
            "RandomForestClassifier(bootstrap=True, ccp_alpha=0.0, class_weight=None,\n",
            "                       criterion='gini', max_depth=None, max_features='auto',\n",
            "                       max_leaf_nodes=None, max_samples=None,\n",
            "                       min_impurity_decrease=0.0, min_samples_leaf=1,\n",
            "                       min_samples_split=2, min_weight_fraction_leaf=0.0,\n",
            "                       n_estimators=100, n_jobs=-1, oob_score=False,\n",
            "                       random_state=0, verbose=0, warm_start=False)\n"
          ]
        }
      ]
    },
    {
      "cell_type": "markdown",
      "source": [
        "# Evaluacion del segundo modelo"
      ],
      "metadata": {
        "id": "75cToTPKT7qT"
      }
    },
    {
      "cell_type": "code",
      "source": [
        "evaluate_model(modelo_2)"
      ],
      "metadata": {
        "colab": {
          "base_uri": "https://localhost:8080/",
          "height": 180,
          "referenced_widgets": [
            "ac765a29741d4badb0ea7aec646e0ceb",
            "60cb5af379b845659fdc2fff5abfa293",
            "185a961e051f49ae95d6d58b10ba6d87",
            "8bd1cc220b7842ab89f84c842962a024",
            "2632ee4ff9c642a3ade9b9a2ae63a37b",
            "a6b356d5620a4eb59866f202cbe66a3e",
            "7b9c4a6b3d844ee78d390f5ae4590f5e"
          ]
        },
        "id": "pxZ0WjSbaEn4",
        "outputId": "5ca57c6d-1239-459d-ba52-2f78e1e0e518"
      },
      "execution_count": 38,
      "outputs": [
        {
          "output_type": "display_data",
          "data": {
            "text/plain": [
              "interactive(children=(ToggleButtons(description='Plot Type:', icons=('',), options=(('Pipeline Plot', 'pipelin…"
            ],
            "application/vnd.jupyter.widget-view+json": {
              "version_major": 2,
              "version_minor": 0,
              "model_id": "ac765a29741d4badb0ea7aec646e0ceb"
            }
          },
          "metadata": {
            "application/vnd.jupyter.widget-view+json": {
              "colab": {
                "custom_widget_manager": {
                  "url": "https://ssl.gstatic.com/colaboratory-static/widgets/colab-cdn-widget-manager/d2e234f7cc04bf79/manager.min.js"
                }
              }
            }
          }
        }
      ]
    },
    {
      "cell_type": "code",
      "source": [
        "evaluate_model(modelo_optimo_2)"
      ],
      "metadata": {
        "colab": {
          "base_uri": "https://localhost:8080/",
          "height": 180,
          "referenced_widgets": [
            "f1b635f5f03d4cf3a50d1ac0c04ee4f4",
            "422579b525124f208f092c68f46cad08",
            "90ca10d7b8ad49f08fbf775eefa0bb9f",
            "01759a33cad64c94bc6446513908a024",
            "8f698cdd7bd7427db0c2c20b4c5be88e",
            "ba9e2bc1b0ca49f3bb14a8ca8dd954e7",
            "10356b5e52424fed98fd57beb545bf49"
          ]
        },
        "id": "AK2WLDukUGh1",
        "outputId": "8d615805-3f5f-4f6f-d5dd-46b701a3e566"
      },
      "execution_count": 39,
      "outputs": [
        {
          "output_type": "display_data",
          "data": {
            "text/plain": [
              "interactive(children=(ToggleButtons(description='Plot Type:', icons=('',), options=(('Pipeline Plot', 'pipelin…"
            ],
            "application/vnd.jupyter.widget-view+json": {
              "version_major": 2,
              "version_minor": 0,
              "model_id": "f1b635f5f03d4cf3a50d1ac0c04ee4f4"
            }
          },
          "metadata": {
            "application/vnd.jupyter.widget-view+json": {
              "colab": {
                "custom_widget_manager": {
                  "url": "https://ssl.gstatic.com/colaboratory-static/widgets/colab-cdn-widget-manager/d2e234f7cc04bf79/manager.min.js"
                }
              }
            }
          }
        }
      ]
    },
    {
      "cell_type": "code",
      "source": [
        "plot_model(modelo_2, plot=\"class_report\")"
      ],
      "metadata": {
        "colab": {
          "base_uri": "https://localhost:8080/",
          "height": 297
        },
        "id": "DXWnDjokYX28",
        "outputId": "0ea1efba-3338-478c-f011-5207ac91f61a"
      },
      "execution_count": 40,
      "outputs": [
        {
          "output_type": "display_data",
          "data": {
            "text/plain": [
              "<IPython.core.display.HTML object>"
            ],
            "text/html": []
          },
          "metadata": {}
        },
        {
          "output_type": "display_data",
          "data": {
            "text/plain": [
              "<Figure size 432x288 with 2 Axes>"
            ],
            "image/png": "[encoded data removed]"
          },
          "metadata": {
            "needs_background": "light"
          }
        }
      ]
    },
    {
      "cell_type": "code",
      "source": [
        "plot_model(modelo_optimo_2, plot=\"class_report\")"
      ],
      "metadata": {
        "colab": {
          "base_uri": "https://localhost:8080/",
          "height": 297
        },
        "id": "3RfwcdJBZ7jV",
        "outputId": "07f70128-3462-4e66-b180-eee359fe56cc"
      },
      "execution_count": 41,
      "outputs": [
        {
          "output_type": "display_data",
          "data": {
            "text/plain": [
              "<IPython.core.display.HTML object>"
            ],
            "text/html": []
          },
          "metadata": {}
        },
        {
          "output_type": "display_data",
          "data": {
            "text/plain": [
              "<Figure size 432x288 with 2 Axes>"
            ],
            "image/png": "[encoded data removed]"
          },
          "metadata": {
            "needs_background": "light"
          }
        }
      ]
    },
    {
      "cell_type": "markdown",
      "metadata": {
        "id": "nVln_Cfwj4VM"
      },
      "source": [
        "# **Conclusiones**"
      ]
    },
    {
      "cell_type": "markdown",
      "source": [
        "**Primer Modelo**"
      ],
      "metadata": {
        "id": "obD8jaolWh0R"
      }
    },
    {
      "cell_type": "code",
      "source": [
        "predict_model(modelo_optimo)\n"
      ],
      "metadata": {
        "colab": {
          "base_uri": "https://localhost:8080/",
          "height": 551
        },
        "id": "FLAIkTTwWjLz",
        "outputId": "d82856b4-220a-4de0-b289-c14be66d197a"
      },
      "execution_count": 42,
      "outputs": [
        {
          "output_type": "display_data",
          "data": {
            "text/plain": [
              "<pandas.io.formats.style.Styler at 0x7f81d5ca2ed0>"
            ],
            "text/html": [
              "<style type=\"text/css\">\n",
              "</style>\n",
              "<table id=\"T_724df_\" class=\"dataframe\">\n",
              "  <thead>\n",
              "    <tr>\n",
              "      <th class=\"blank level0\" >&nbsp;</th>\n",
              "      <th class=\"col_heading level0 col0\" >Model</th>\n",
              "      <th class=\"col_heading level0 col1\" >Accuracy</th>\n",
              "      <th class=\"col_heading level0 col2\" >AUC</th>\n",
              "      <th class=\"col_heading level0 col3\" >Recall</th>\n",
              "      <th class=\"col_heading level0 col4\" >Prec.</th>\n",
              "      <th class=\"col_heading level0 col5\" >F1</th>\n",
              "      <th class=\"col_heading level0 col6\" >Kappa</th>\n",
              "      <th class=\"col_heading level0 col7\" >MCC</th>\n",
              "    </tr>\n",
              "  </thead>\n",
              "  <tbody>\n",
              "    <tr>\n",
              "      <th id=\"T_724df_level0_row0\" class=\"row_heading level0 row0\" >0</th>\n",
              "      <td id=\"T_724df_row0_col0\" class=\"data row0 col0\" >K Neighbors Classifier</td>\n",
              "      <td id=\"T_724df_row0_col1\" class=\"data row0 col1\" >0.8871</td>\n",
              "      <td id=\"T_724df_row0_col2\" class=\"data row0 col2\" >0.8216</td>\n",
              "      <td id=\"T_724df_row0_col3\" class=\"data row0 col3\" >0</td>\n",
              "      <td id=\"T_724df_row0_col4\" class=\"data row0 col4\" >0</td>\n",
              "      <td id=\"T_724df_row0_col5\" class=\"data row0 col5\" >0</td>\n",
              "      <td id=\"T_724df_row0_col6\" class=\"data row0 col6\" >0.2470</td>\n",
              "      <td id=\"T_724df_row0_col7\" class=\"data row0 col7\" >0.2820</td>\n",
              "    </tr>\n",
              "  </tbody>\n",
              "</table>\n"
            ]
          },
          "metadata": {}
        },
        {
          "output_type": "execute_result",
          "data": {
            "text/plain": [
              "        age       job  marital_married  marital_single  marital_divorced  \\\n",
              "32394  22.0  0.119459              0.0             1.0               0.0   \n",
              "32395  50.0  0.073357              1.0             0.0               0.0   \n",
              "32396  37.0  0.137842              0.0             1.0               0.0   \n",
              "32397  52.0  0.108425              1.0             0.0               0.0   \n",
              "32398  50.0  0.137842              0.0             0.0               1.0   \n",
              "...     ...       ...              ...             ...               ...   \n",
              "43188  34.0  0.083883              1.0             0.0               0.0   \n",
              "43189  34.0  0.108425              0.0             1.0               0.0   \n",
              "43190  34.0  0.073357              0.0             1.0               0.0   \n",
              "43191  36.0  0.119459              0.0             1.0               0.0   \n",
              "43192  36.0  0.119459              1.0             0.0               0.0   \n",
              "\n",
              "       education_secondary  education_tertiary  education_primary  default  \\\n",
              "32394                  1.0                 0.0                0.0      0.0   \n",
              "32395                  1.0                 0.0                0.0      0.0   \n",
              "32396                  0.0                 1.0                0.0      0.0   \n",
              "32397                  1.0                 0.0                0.0      0.0   \n",
              "32398                  0.0                 1.0                0.0      0.0   \n",
              "...                    ...                 ...                ...      ...   \n",
              "43188                  0.0                 1.0                0.0      0.0   \n",
              "43189                  1.0                 0.0                0.0      0.0   \n",
              "43190                  1.0                 0.0                0.0      0.0   \n",
              "43191                  1.0                 0.0                0.0      0.0   \n",
              "43192                  0.0                 1.0                0.0      0.0   \n",
              "\n",
              "       housing  loan     month  duration  campaign   y prediction_label  \\\n",
              "32394      0.0   0.0  0.189687     117.0       1.0  no               no   \n",
              "32395      1.0   0.0  0.104615     155.0       1.0  no               no   \n",
              "32396      1.0   0.0  0.099622      14.0       9.0  no               no   \n",
              "32397      1.0   0.0  0.067633     112.0       1.0  no               no   \n",
              "32398      0.0   0.0  0.099045     103.0       4.0  no               no   \n",
              "...        ...   ...       ...       ...       ...  ..              ...   \n",
              "43188      1.0   0.0  0.088571     574.0       1.0  no               no   \n",
              "43189      1.0   0.0  0.189687     233.0       3.0  no               no   \n",
              "43190      1.0   0.0  0.067633     102.0       1.0  no               no   \n",
              "43191      0.0   0.0  0.099045     136.0       1.0  no               no   \n",
              "43192      1.0   0.0  0.067633     146.0       2.0  no               no   \n",
              "\n",
              "       prediction_score  \n",
              "32394            0.9149  \n",
              "32395            0.9362  \n",
              "32396            1.0000  \n",
              "32397            0.9787  \n",
              "32398            1.0000  \n",
              "...                 ...  \n",
              "43188            0.6596  \n",
              "43189            0.8723  \n",
              "43190            1.0000  \n",
              "43191            0.9787  \n",
              "43192            0.9574  \n",
              "\n",
              "[10799 rows x 17 columns]"
            ],
            "text/html": [
              "\n",
              "  <div id=\"df-b2da7230-f539-40cb-9dbe-e8560b9faece\">\n",
              "    <div class=\"colab-df-container\">\n",
              "      <div>\n",
              "<style scoped>\n",
              "    .dataframe tbody tr th:only-of-type {\n",
              "        vertical-align: middle;\n",
              "    }\n",
              "\n",
              "    .dataframe tbody tr th {\n",
              "        vertical-align: top;\n",
              "    }\n",
              "\n",
              "    .dataframe thead th {\n",
              "        text-align: right;\n",
              "    }\n",
              "</style>\n",
              "<table border=\"1\" class=\"dataframe\">\n",
              "  <thead>\n",
              "    <tr style=\"text-align: right;\">\n",
              "      <th></th>\n",
              "      <th>age</th>\n",
              "      <th>job</th>\n",
              "      <th>marital_married</th>\n",
              "      <th>marital_single</th>\n",
              "      <th>marital_divorced</th>\n",
              "      <th>education_secondary</th>\n",
              "      <th>education_tertiary</th>\n",
              "      <th>education_primary</th>\n",
              "      <th>default</th>\n",
              "      <th>housing</th>\n",
              "      <th>loan</th>\n",
              "      <th>month</th>\n",
              "      <th>duration</th>\n",
              "      <th>campaign</th>\n",
              "      <th>y</th>\n",
              "      <th>prediction_label</th>\n",
              "      <th>prediction_score</th>\n",
              "    </tr>\n",
              "  </thead>\n",
              "  <tbody>\n",
              "    <tr>\n",
              "      <th>32394</th>\n",
              "      <td>22.0</td>\n",
              "      <td>0.119459</td>\n",
              "      <td>0.0</td>\n",
              "      <td>1.0</td>\n",
              "      <td>0.0</td>\n",
              "      <td>1.0</td>\n",
              "      <td>0.0</td>\n",
              "      <td>0.0</td>\n",
              "      <td>0.0</td>\n",
              "      <td>0.0</td>\n",
              "      <td>0.0</td>\n",
              "      <td>0.189687</td>\n",
              "      <td>117.0</td>\n",
              "      <td>1.0</td>\n",
              "      <td>no</td>\n",
              "      <td>no</td>\n",
              "      <td>0.9149</td>\n",
              "    </tr>\n",
              "    <tr>\n",
              "      <th>32395</th>\n",
              "      <td>50.0</td>\n",
              "      <td>0.073357</td>\n",
              "      <td>1.0</td>\n",
              "      <td>0.0</td>\n",
              "      <td>0.0</td>\n",
              "      <td>1.0</td>\n",
              "      <td>0.0</td>\n",
              "      <td>0.0</td>\n",
              "      <td>0.0</td>\n",
              "      <td>1.0</td>\n",
              "      <td>0.0</td>\n",
              "      <td>0.104615</td>\n",
              "      <td>155.0</td>\n",
              "      <td>1.0</td>\n",
              "      <td>no</td>\n",
              "      <td>no</td>\n",
              "      <td>0.9362</td>\n",
              "    </tr>\n",
              "    <tr>\n",
              "      <th>32396</th>\n",
              "      <td>37.0</td>\n",
              "      <td>0.137842</td>\n",
              "      <td>0.0</td>\n",
              "      <td>1.0</td>\n",
              "      <td>0.0</td>\n",
              "      <td>0.0</td>\n",
              "      <td>1.0</td>\n",
              "      <td>0.0</td>\n",
              "      <td>0.0</td>\n",
              "      <td>1.0</td>\n",
              "      <td>0.0</td>\n",
              "      <td>0.099622</td>\n",
              "      <td>14.0</td>\n",
              "      <td>9.0</td>\n",
              "      <td>no</td>\n",
              "      <td>no</td>\n",
              "      <td>1.0000</td>\n",
              "    </tr>\n",
              "    <tr>\n",
              "      <th>32397</th>\n",
              "      <td>52.0</td>\n",
              "      <td>0.108425</td>\n",
              "      <td>1.0</td>\n",
              "      <td>0.0</td>\n",
              "      <td>0.0</td>\n",
              "      <td>1.0</td>\n",
              "      <td>0.0</td>\n",
              "      <td>0.0</td>\n",
              "      <td>0.0</td>\n",
              "      <td>1.0</td>\n",
              "      <td>0.0</td>\n",
              "      <td>0.067633</td>\n",
              "      <td>112.0</td>\n",
              "      <td>1.0</td>\n",
              "      <td>no</td>\n",
              "      <td>no</td>\n",
              "      <td>0.9787</td>\n",
              "    </tr>\n",
              "    <tr>\n",
              "      <th>32398</th>\n",
              "      <td>50.0</td>\n",
              "      <td>0.137842</td>\n",
              "      <td>0.0</td>\n",
              "      <td>0.0</td>\n",
              "      <td>1.0</td>\n",
              "      <td>0.0</td>\n",
              "      <td>1.0</td>\n",
              "      <td>0.0</td>\n",
              "      <td>0.0</td>\n",
              "      <td>0.0</td>\n",
              "      <td>0.0</td>\n",
              "      <td>0.099045</td>\n",
              "      <td>103.0</td>\n",
              "      <td>4.0</td>\n",
              "      <td>no</td>\n",
              "      <td>no</td>\n",
              "      <td>1.0000</td>\n",
              "    </tr>\n",
              "    <tr>\n",
              "      <th>...</th>\n",
              "      <td>...</td>\n",
              "      <td>...</td>\n",
              "      <td>...</td>\n",
              "      <td>...</td>\n",
              "      <td>...</td>\n",
              "      <td>...</td>\n",
              "      <td>...</td>\n",
              "      <td>...</td>\n",
              "      <td>...</td>\n",
              "      <td>...</td>\n",
              "      <td>...</td>\n",
              "      <td>...</td>\n",
              "      <td>...</td>\n",
              "      <td>...</td>\n",
              "      <td>...</td>\n",
              "      <td>...</td>\n",
              "      <td>...</td>\n",
              "    </tr>\n",
              "    <tr>\n",
              "      <th>43188</th>\n",
              "      <td>34.0</td>\n",
              "      <td>0.083883</td>\n",
              "      <td>1.0</td>\n",
              "      <td>0.0</td>\n",
              "      <td>0.0</td>\n",
              "      <td>0.0</td>\n",
              "      <td>1.0</td>\n",
              "      <td>0.0</td>\n",
              "      <td>0.0</td>\n",
              "      <td>1.0</td>\n",
              "      <td>0.0</td>\n",
              "      <td>0.088571</td>\n",
              "      <td>574.0</td>\n",
              "      <td>1.0</td>\n",
              "      <td>no</td>\n",
              "      <td>no</td>\n",
              "      <td>0.6596</td>\n",
              "    </tr>\n",
              "    <tr>\n",
              "      <th>43189</th>\n",
              "      <td>34.0</td>\n",
              "      <td>0.108425</td>\n",
              "      <td>0.0</td>\n",
              "      <td>1.0</td>\n",
              "      <td>0.0</td>\n",
              "      <td>1.0</td>\n",
              "      <td>0.0</td>\n",
              "      <td>0.0</td>\n",
              "      <td>0.0</td>\n",
              "      <td>1.0</td>\n",
              "      <td>0.0</td>\n",
              "      <td>0.189687</td>\n",
              "      <td>233.0</td>\n",
              "      <td>3.0</td>\n",
              "      <td>no</td>\n",
              "      <td>no</td>\n",
              "      <td>0.8723</td>\n",
              "    </tr>\n",
              "    <tr>\n",
              "      <th>43190</th>\n",
              "      <td>34.0</td>\n",
              "      <td>0.073357</td>\n",
              "      <td>0.0</td>\n",
              "      <td>1.0</td>\n",
              "      <td>0.0</td>\n",
              "      <td>1.0</td>\n",
              "      <td>0.0</td>\n",
              "      <td>0.0</td>\n",
              "      <td>0.0</td>\n",
              "      <td>1.0</td>\n",
              "      <td>0.0</td>\n",
              "      <td>0.067633</td>\n",
              "      <td>102.0</td>\n",
              "      <td>1.0</td>\n",
              "      <td>no</td>\n",
              "      <td>no</td>\n",
              "      <td>1.0000</td>\n",
              "    </tr>\n",
              "    <tr>\n",
              "      <th>43191</th>\n",
              "      <td>36.0</td>\n",
              "      <td>0.119459</td>\n",
              "      <td>0.0</td>\n",
              "      <td>1.0</td>\n",
              "      <td>0.0</td>\n",
              "      <td>1.0</td>\n",
              "      <td>0.0</td>\n",
              "      <td>0.0</td>\n",
              "      <td>0.0</td>\n",
              "      <td>0.0</td>\n",
              "      <td>0.0</td>\n",
              "      <td>0.099045</td>\n",
              "      <td>136.0</td>\n",
              "      <td>1.0</td>\n",
              "      <td>no</td>\n",
              "      <td>no</td>\n",
              "      <td>0.9787</td>\n",
              "    </tr>\n",
              "    <tr>\n",
              "      <th>43192</th>\n",
              "      <td>36.0</td>\n",
              "      <td>0.119459</td>\n",
              "      <td>1.0</td>\n",
              "      <td>0.0</td>\n",
              "      <td>0.0</td>\n",
              "      <td>0.0</td>\n",
              "      <td>1.0</td>\n",
              "      <td>0.0</td>\n",
              "      <td>0.0</td>\n",
              "      <td>1.0</td>\n",
              "      <td>0.0</td>\n",
              "      <td>0.067633</td>\n",
              "      <td>146.0</td>\n",
              "      <td>2.0</td>\n",
              "      <td>no</td>\n",
              "      <td>no</td>\n",
              "      <td>0.9574</td>\n",
              "    </tr>\n",
              "  </tbody>\n",
              "</table>\n",
              "<p>10799 rows × 17 columns</p>\n",
              "</div>\n",
              "      <button class=\"colab-df-convert\" onclick=\"convertToInteractive('df-b2da7230-f539-40cb-9dbe-e8560b9faece')\"\n",
              "              title=\"Convert this dataframe to an interactive table.\"\n",
              "              style=\"display:none;\">\n",
              "        \n",
              "  <svg xmlns=\"http://www.w3.org/2000/svg\" height=\"24px\"viewBox=\"0 0 24 24\"\n",
              "       width=\"24px\">\n",
              "    <path d=\"M0 0h24v24H0V0z\" fill=\"none\"/>\n",
              "    <path d=\"M18.56 5.44l.94 2.06.94-2.06 2.06-.94-2.06-.94-.94-2.06-.94 2.06-2.06.94zm-11 1L8.5 8.5l.94-2.06 2.06-.94-2.06-.94L8.5 2.5l-.94 2.06-2.06.94zm10 10l.94 2.06.94-2.06 2.06-.94-2.06-.94-.94-2.06-.94 2.06-2.06.94z\"/><path d=\"M17.41 7.96l-1.37-1.37c-.4-.4-.92-.59-1.43-.59-.52 0-1.04.2-1.43.59L10.3 9.45l-7.72 7.72c-.78.78-.78 2.05 0 2.83L4 21.41c.39.39.9.59 1.41.59.51 0 1.02-.2 1.41-.59l7.78-7.78 2.81-2.81c.8-.78.8-2.07 0-2.86zM5.41 20L4 18.59l7.72-7.72 1.47 1.35L5.41 20z\"/>\n",
              "  </svg>\n",
              "      </button>\n",
              "      \n",
              "  <style>\n",
              "    .colab-df-container {\n",
              "      display:flex;\n",
              "      flex-wrap:wrap;\n",
              "      gap: 12px;\n",
              "    }\n",
              "\n",
              "    .colab-df-convert {\n",
              "      background-color: #E8F0FE;\n",
              "      border: none;\n",
              "      border-radius: 50%;\n",
              "      cursor: pointer;\n",
              "      display: none;\n",
              "      fill: #1967D2;\n",
              "      height: 32px;\n",
              "      padding: 0 0 0 0;\n",
              "      width: 32px;\n",
              "    }\n",
              "\n",
              "    .colab-df-convert:hover {\n",
              "      background-color: #E2EBFA;\n",
              "      box-shadow: 0px 1px 2px rgba(60, 64, 67, 0.3), 0px 1px 3px 1px rgba(60, 64, 67, 0.15);\n",
              "      fill: #174EA6;\n",
              "    }\n",
              "\n",
              "    [theme=dark] .colab-df-convert {\n",
              "      background-color: #3B4455;\n",
              "      fill: #D2E3FC;\n",
              "    }\n",
              "\n",
              "    [theme=dark] .colab-df-convert:hover {\n",
              "      background-color: #434B5C;\n",
              "      box-shadow: 0px 1px 3px 1px rgba(0, 0, 0, 0.15);\n",
              "      filter: drop-shadow(0px 1px 2px rgba(0, 0, 0, 0.3));\n",
              "      fill: #FFFFFF;\n",
              "    }\n",
              "  </style>\n",
              "\n",
              "      <script>\n",
              "        const buttonEl =\n",
              "          document.querySelector('#df-b2da7230-f539-40cb-9dbe-e8560b9faece button.colab-df-convert');\n",
              "        buttonEl.style.display =\n",
              "          google.colab.kernel.accessAllowed ? 'block' : 'none';\n",
              "\n",
              "        async function convertToInteractive(key) {\n",
              "          const element = document.querySelector('#df-b2da7230-f539-40cb-9dbe-e8560b9faece');\n",
              "          const dataTable =\n",
              "            await google.colab.kernel.invokeFunction('convertToInteractive',\n",
              "                                                     [key], {});\n",
              "          if (!dataTable) return;\n",
              "\n",
              "          const docLinkHtml = 'Like what you see? Visit the ' +\n",
              "            '<a target=\"_blank\" href=https://colab.research.google.com/notebooks/data_table.ipynb>data table notebook</a>'\n",
              "            + ' to learn more about interactive tables.';\n",
              "          element.innerHTML = '';\n",
              "          dataTable['output_type'] = 'display_data';\n",
              "          await google.colab.output.renderOutput(dataTable, element);\n",
              "          const docLink = document.createElement('div');\n",
              "          docLink.innerHTML = docLinkHtml;\n",
              "          element.appendChild(docLink);\n",
              "        }\n",
              "      </script>\n",
              "    </div>\n",
              "  </div>\n",
              "  "
            ]
          },
          "metadata": {},
          "execution_count": 42
        }
      ]
    },
    {
      "cell_type": "markdown",
      "source": [
        "**Segundo Modelo**"
      ],
      "metadata": {
        "id": "xIF_YmEQWnaW"
      }
    },
    {
      "cell_type": "code",
      "source": [
        "predict_model(modelo_optimo_2)\n"
      ],
      "metadata": {
        "colab": {
          "base_uri": "https://localhost:8080/",
          "height": 551
        },
        "id": "yCuN2uayWDjk",
        "outputId": "d02a34f6-37ac-4092-c4b5-6196ce9ea9ca"
      },
      "execution_count": 43,
      "outputs": [
        {
          "output_type": "display_data",
          "data": {
            "text/plain": [
              "<pandas.io.formats.style.Styler at 0x7f81d5e97890>"
            ],
            "text/html": [
              "<style type=\"text/css\">\n",
              "</style>\n",
              "<table id=\"T_12723_\" class=\"dataframe\">\n",
              "  <thead>\n",
              "    <tr>\n",
              "      <th class=\"blank level0\" >&nbsp;</th>\n",
              "      <th class=\"col_heading level0 col0\" >Model</th>\n",
              "      <th class=\"col_heading level0 col1\" >Accuracy</th>\n",
              "      <th class=\"col_heading level0 col2\" >AUC</th>\n",
              "      <th class=\"col_heading level0 col3\" >Recall</th>\n",
              "      <th class=\"col_heading level0 col4\" >Prec.</th>\n",
              "      <th class=\"col_heading level0 col5\" >F1</th>\n",
              "      <th class=\"col_heading level0 col6\" >Kappa</th>\n",
              "      <th class=\"col_heading level0 col7\" >MCC</th>\n",
              "    </tr>\n",
              "  </thead>\n",
              "  <tbody>\n",
              "    <tr>\n",
              "      <th id=\"T_12723_level0_row0\" class=\"row_heading level0 row0\" >0</th>\n",
              "      <td id=\"T_12723_row0_col0\" class=\"data row0 col0\" >Random Forest Classifier</td>\n",
              "      <td id=\"T_12723_row0_col1\" class=\"data row0 col1\" >0.8869</td>\n",
              "      <td id=\"T_12723_row0_col2\" class=\"data row0 col2\" >0.8299</td>\n",
              "      <td id=\"T_12723_row0_col3\" class=\"data row0 col3\" >0</td>\n",
              "      <td id=\"T_12723_row0_col4\" class=\"data row0 col4\" >0</td>\n",
              "      <td id=\"T_12723_row0_col5\" class=\"data row0 col5\" >0</td>\n",
              "      <td id=\"T_12723_row0_col6\" class=\"data row0 col6\" >0.0915</td>\n",
              "      <td id=\"T_12723_row0_col7\" class=\"data row0 col7\" >0.1724</td>\n",
              "    </tr>\n",
              "  </tbody>\n",
              "</table>\n"
            ]
          },
          "metadata": {}
        },
        {
          "output_type": "execute_result",
          "data": {
            "text/plain": [
              "        age       job  marital_married  marital_single  marital_divorced  \\\n",
              "32394  22.0  0.119459              0.0             1.0               0.0   \n",
              "32395  50.0  0.073357              1.0             0.0               0.0   \n",
              "32396  37.0  0.137842              0.0             1.0               0.0   \n",
              "32397  52.0  0.108425              1.0             0.0               0.0   \n",
              "32398  50.0  0.137842              0.0             0.0               1.0   \n",
              "...     ...       ...              ...             ...               ...   \n",
              "43188  34.0  0.083883              1.0             0.0               0.0   \n",
              "43189  34.0  0.108425              0.0             1.0               0.0   \n",
              "43190  34.0  0.073357              0.0             1.0               0.0   \n",
              "43191  36.0  0.119459              0.0             1.0               0.0   \n",
              "43192  36.0  0.119459              1.0             0.0               0.0   \n",
              "\n",
              "       education_secondary  education_tertiary  education_primary  default  \\\n",
              "32394                  1.0                 0.0                0.0      0.0   \n",
              "32395                  1.0                 0.0                0.0      0.0   \n",
              "32396                  0.0                 1.0                0.0      0.0   \n",
              "32397                  1.0                 0.0                0.0      0.0   \n",
              "32398                  0.0                 1.0                0.0      0.0   \n",
              "...                    ...                 ...                ...      ...   \n",
              "43188                  0.0                 1.0                0.0      0.0   \n",
              "43189                  1.0                 0.0                0.0      0.0   \n",
              "43190                  1.0                 0.0                0.0      0.0   \n",
              "43191                  1.0                 0.0                0.0      0.0   \n",
              "43192                  0.0                 1.0                0.0      0.0   \n",
              "\n",
              "       housing  loan     month  duration  campaign   y prediction_label  \\\n",
              "32394      0.0   0.0  0.189687     117.0       1.0  no               no   \n",
              "32395      1.0   0.0  0.104615     155.0       1.0  no               no   \n",
              "32396      1.0   0.0  0.099622      14.0       9.0  no               no   \n",
              "32397      1.0   0.0  0.067633     112.0       1.0  no               no   \n",
              "32398      0.0   0.0  0.099045     103.0       4.0  no               no   \n",
              "...        ...   ...       ...       ...       ...  ..              ...   \n",
              "43188      1.0   0.0  0.088571     574.0       1.0  no               no   \n",
              "43189      1.0   0.0  0.189687     233.0       3.0  no               no   \n",
              "43190      1.0   0.0  0.067633     102.0       1.0  no               no   \n",
              "43191      0.0   0.0  0.099045     136.0       1.0  no               no   \n",
              "43192      1.0   0.0  0.067633     146.0       2.0  no               no   \n",
              "\n",
              "       prediction_score  \n",
              "32394              0.81  \n",
              "32395              1.00  \n",
              "32396              1.00  \n",
              "32397              1.00  \n",
              "32398              1.00  \n",
              "...                 ...  \n",
              "43188              0.82  \n",
              "43189              0.99  \n",
              "43190              1.00  \n",
              "43191              0.98  \n",
              "43192              1.00  \n",
              "\n",
              "[10799 rows x 17 columns]"
            ],
            "text/html": [
              "\n",
              "  <div id=\"df-243ae31f-11ba-45c4-8814-2e980193ae34\">\n",
              "    <div class=\"colab-df-container\">\n",
              "      <div>\n",
              "<style scoped>\n",
              "    .dataframe tbody tr th:only-of-type {\n",
              "        vertical-align: middle;\n",
              "    }\n",
              "\n",
              "    .dataframe tbody tr th {\n",
              "        vertical-align: top;\n",
              "    }\n",
              "\n",
              "    .dataframe thead th {\n",
              "        text-align: right;\n",
              "    }\n",
              "</style>\n",
              "<table border=\"1\" class=\"dataframe\">\n",
              "  <thead>\n",
              "    <tr style=\"text-align: right;\">\n",
              "      <th></th>\n",
              "      <th>age</th>\n",
              "      <th>job</th>\n",
              "      <th>marital_married</th>\n",
              "      <th>marital_single</th>\n",
              "      <th>marital_divorced</th>\n",
              "      <th>education_secondary</th>\n",
              "      <th>education_tertiary</th>\n",
              "      <th>education_primary</th>\n",
              "      <th>default</th>\n",
              "      <th>housing</th>\n",
              "      <th>loan</th>\n",
              "      <th>month</th>\n",
              "      <th>duration</th>\n",
              "      <th>campaign</th>\n",
              "      <th>y</th>\n",
              "      <th>prediction_label</th>\n",
              "      <th>prediction_score</th>\n",
              "    </tr>\n",
              "  </thead>\n",
              "  <tbody>\n",
              "    <tr>\n",
              "      <th>32394</th>\n",
              "      <td>22.0</td>\n",
              "      <td>0.119459</td>\n",
              "      <td>0.0</td>\n",
              "      <td>1.0</td>\n",
              "      <td>0.0</td>\n",
              "      <td>1.0</td>\n",
              "      <td>0.0</td>\n",
              "      <td>0.0</td>\n",
              "      <td>0.0</td>\n",
              "      <td>0.0</td>\n",
              "      <td>0.0</td>\n",
              "      <td>0.189687</td>\n",
              "      <td>117.0</td>\n",
              "      <td>1.0</td>\n",
              "      <td>no</td>\n",
              "      <td>no</td>\n",
              "      <td>0.81</td>\n",
              "    </tr>\n",
              "    <tr>\n",
              "      <th>32395</th>\n",
              "      <td>50.0</td>\n",
              "      <td>0.073357</td>\n",
              "      <td>1.0</td>\n",
              "      <td>0.0</td>\n",
              "      <td>0.0</td>\n",
              "      <td>1.0</td>\n",
              "      <td>0.0</td>\n",
              "      <td>0.0</td>\n",
              "      <td>0.0</td>\n",
              "      <td>1.0</td>\n",
              "      <td>0.0</td>\n",
              "      <td>0.104615</td>\n",
              "      <td>155.0</td>\n",
              "      <td>1.0</td>\n",
              "      <td>no</td>\n",
              "      <td>no</td>\n",
              "      <td>1.00</td>\n",
              "    </tr>\n",
              "    <tr>\n",
              "      <th>32396</th>\n",
              "      <td>37.0</td>\n",
              "      <td>0.137842</td>\n",
              "      <td>0.0</td>\n",
              "      <td>1.0</td>\n",
              "      <td>0.0</td>\n",
              "      <td>0.0</td>\n",
              "      <td>1.0</td>\n",
              "      <td>0.0</td>\n",
              "      <td>0.0</td>\n",
              "      <td>1.0</td>\n",
              "      <td>0.0</td>\n",
              "      <td>0.099622</td>\n",
              "      <td>14.0</td>\n",
              "      <td>9.0</td>\n",
              "      <td>no</td>\n",
              "      <td>no</td>\n",
              "      <td>1.00</td>\n",
              "    </tr>\n",
              "    <tr>\n",
              "      <th>32397</th>\n",
              "      <td>52.0</td>\n",
              "      <td>0.108425</td>\n",
              "      <td>1.0</td>\n",
              "      <td>0.0</td>\n",
              "      <td>0.0</td>\n",
              "      <td>1.0</td>\n",
              "      <td>0.0</td>\n",
              "      <td>0.0</td>\n",
              "      <td>0.0</td>\n",
              "      <td>1.0</td>\n",
              "      <td>0.0</td>\n",
              "      <td>0.067633</td>\n",
              "      <td>112.0</td>\n",
              "      <td>1.0</td>\n",
              "      <td>no</td>\n",
              "      <td>no</td>\n",
              "      <td>1.00</td>\n",
              "    </tr>\n",
              "    <tr>\n",
              "      <th>32398</th>\n",
              "      <td>50.0</td>\n",
              "      <td>0.137842</td>\n",
              "      <td>0.0</td>\n",
              "      <td>0.0</td>\n",
              "      <td>1.0</td>\n",
              "      <td>0.0</td>\n",
              "      <td>1.0</td>\n",
              "      <td>0.0</td>\n",
              "      <td>0.0</td>\n",
              "      <td>0.0</td>\n",
              "      <td>0.0</td>\n",
              "      <td>0.099045</td>\n",
              "      <td>103.0</td>\n",
              "      <td>4.0</td>\n",
              "      <td>no</td>\n",
              "      <td>no</td>\n",
              "      <td>1.00</td>\n",
              "    </tr>\n",
              "    <tr>\n",
              "      <th>...</th>\n",
              "      <td>...</td>\n",
              "      <td>...</td>\n",
              "      <td>...</td>\n",
              "      <td>...</td>\n",
              "      <td>...</td>\n",
              "      <td>...</td>\n",
              "      <td>...</td>\n",
              "      <td>...</td>\n",
              "      <td>...</td>\n",
              "      <td>...</td>\n",
              "      <td>...</td>\n",
              "      <td>...</td>\n",
              "      <td>...</td>\n",
              "      <td>...</td>\n",
              "      <td>...</td>\n",
              "      <td>...</td>\n",
              "      <td>...</td>\n",
              "    </tr>\n",
              "    <tr>\n",
              "      <th>43188</th>\n",
              "      <td>34.0</td>\n",
              "      <td>0.083883</td>\n",
              "      <td>1.0</td>\n",
              "      <td>0.0</td>\n",
              "      <td>0.0</td>\n",
              "      <td>0.0</td>\n",
              "      <td>1.0</td>\n",
              "      <td>0.0</td>\n",
              "      <td>0.0</td>\n",
              "      <td>1.0</td>\n",
              "      <td>0.0</td>\n",
              "      <td>0.088571</td>\n",
              "      <td>574.0</td>\n",
              "      <td>1.0</td>\n",
              "      <td>no</td>\n",
              "      <td>no</td>\n",
              "      <td>0.82</td>\n",
              "    </tr>\n",
              "    <tr>\n",
              "      <th>43189</th>\n",
              "      <td>34.0</td>\n",
              "      <td>0.108425</td>\n",
              "      <td>0.0</td>\n",
              "      <td>1.0</td>\n",
              "      <td>0.0</td>\n",
              "      <td>1.0</td>\n",
              "      <td>0.0</td>\n",
              "      <td>0.0</td>\n",
              "      <td>0.0</td>\n",
              "      <td>1.0</td>\n",
              "      <td>0.0</td>\n",
              "      <td>0.189687</td>\n",
              "      <td>233.0</td>\n",
              "      <td>3.0</td>\n",
              "      <td>no</td>\n",
              "      <td>no</td>\n",
              "      <td>0.99</td>\n",
              "    </tr>\n",
              "    <tr>\n",
              "      <th>43190</th>\n",
              "      <td>34.0</td>\n",
              "      <td>0.073357</td>\n",
              "      <td>0.0</td>\n",
              "      <td>1.0</td>\n",
              "      <td>0.0</td>\n",
              "      <td>1.0</td>\n",
              "      <td>0.0</td>\n",
              "      <td>0.0</td>\n",
              "      <td>0.0</td>\n",
              "      <td>1.0</td>\n",
              "      <td>0.0</td>\n",
              "      <td>0.067633</td>\n",
              "      <td>102.0</td>\n",
              "      <td>1.0</td>\n",
              "      <td>no</td>\n",
              "      <td>no</td>\n",
              "      <td>1.00</td>\n",
              "    </tr>\n",
              "    <tr>\n",
              "      <th>43191</th>\n",
              "      <td>36.0</td>\n",
              "      <td>0.119459</td>\n",
              "      <td>0.0</td>\n",
              "      <td>1.0</td>\n",
              "      <td>0.0</td>\n",
              "      <td>1.0</td>\n",
              "      <td>0.0</td>\n",
              "      <td>0.0</td>\n",
              "      <td>0.0</td>\n",
              "      <td>0.0</td>\n",
              "      <td>0.0</td>\n",
              "      <td>0.099045</td>\n",
              "      <td>136.0</td>\n",
              "      <td>1.0</td>\n",
              "      <td>no</td>\n",
              "      <td>no</td>\n",
              "      <td>0.98</td>\n",
              "    </tr>\n",
              "    <tr>\n",
              "      <th>43192</th>\n",
              "      <td>36.0</td>\n",
              "      <td>0.119459</td>\n",
              "      <td>1.0</td>\n",
              "      <td>0.0</td>\n",
              "      <td>0.0</td>\n",
              "      <td>0.0</td>\n",
              "      <td>1.0</td>\n",
              "      <td>0.0</td>\n",
              "      <td>0.0</td>\n",
              "      <td>1.0</td>\n",
              "      <td>0.0</td>\n",
              "      <td>0.067633</td>\n",
              "      <td>146.0</td>\n",
              "      <td>2.0</td>\n",
              "      <td>no</td>\n",
              "      <td>no</td>\n",
              "      <td>1.00</td>\n",
              "    </tr>\n",
              "  </tbody>\n",
              "</table>\n",
              "<p>10799 rows × 17 columns</p>\n",
              "</div>\n",
              "      <button class=\"colab-df-convert\" onclick=\"convertToInteractive('df-243ae31f-11ba-45c4-8814-2e980193ae34')\"\n",
              "              title=\"Convert this dataframe to an interactive table.\"\n",
              "              style=\"display:none;\">\n",
              "        \n",
              "  <svg xmlns=\"http://www.w3.org/2000/svg\" height=\"24px\"viewBox=\"0 0 24 24\"\n",
              "       width=\"24px\">\n",
              "    <path d=\"M0 0h24v24H0V0z\" fill=\"none\"/>\n",
              "    <path d=\"M18.56 5.44l.94 2.06.94-2.06 2.06-.94-2.06-.94-.94-2.06-.94 2.06-2.06.94zm-11 1L8.5 8.5l.94-2.06 2.06-.94-2.06-.94L8.5 2.5l-.94 2.06-2.06.94zm10 10l.94 2.06.94-2.06 2.06-.94-2.06-.94-.94-2.06-.94 2.06-2.06.94z\"/><path d=\"M17.41 7.96l-1.37-1.37c-.4-.4-.92-.59-1.43-.59-.52 0-1.04.2-1.43.59L10.3 9.45l-7.72 7.72c-.78.78-.78 2.05 0 2.83L4 21.41c.39.39.9.59 1.41.59.51 0 1.02-.2 1.41-.59l7.78-7.78 2.81-2.81c.8-.78.8-2.07 0-2.86zM5.41 20L4 18.59l7.72-7.72 1.47 1.35L5.41 20z\"/>\n",
              "  </svg>\n",
              "      </button>\n",
              "      \n",
              "  <style>\n",
              "    .colab-df-container {\n",
              "      display:flex;\n",
              "      flex-wrap:wrap;\n",
              "      gap: 12px;\n",
              "    }\n",
              "\n",
              "    .colab-df-convert {\n",
              "      background-color: #E8F0FE;\n",
              "      border: none;\n",
              "      border-radius: 50%;\n",
              "      cursor: pointer;\n",
              "      display: none;\n",
              "      fill: #1967D2;\n",
              "      height: 32px;\n",
              "      padding: 0 0 0 0;\n",
              "      width: 32px;\n",
              "    }\n",
              "\n",
              "    .colab-df-convert:hover {\n",
              "      background-color: #E2EBFA;\n",
              "      box-shadow: 0px 1px 2px rgba(60, 64, 67, 0.3), 0px 1px 3px 1px rgba(60, 64, 67, 0.15);\n",
              "      fill: #174EA6;\n",
              "    }\n",
              "\n",
              "    [theme=dark] .colab-df-convert {\n",
              "      background-color: #3B4455;\n",
              "      fill: #D2E3FC;\n",
              "    }\n",
              "\n",
              "    [theme=dark] .colab-df-convert:hover {\n",
              "      background-color: #434B5C;\n",
              "      box-shadow: 0px 1px 3px 1px rgba(0, 0, 0, 0.15);\n",
              "      filter: drop-shadow(0px 1px 2px rgba(0, 0, 0, 0.3));\n",
              "      fill: #FFFFFF;\n",
              "    }\n",
              "  </style>\n",
              "\n",
              "      <script>\n",
              "        const buttonEl =\n",
              "          document.querySelector('#df-243ae31f-11ba-45c4-8814-2e980193ae34 button.colab-df-convert');\n",
              "        buttonEl.style.display =\n",
              "          google.colab.kernel.accessAllowed ? 'block' : 'none';\n",
              "\n",
              "        async function convertToInteractive(key) {\n",
              "          const element = document.querySelector('#df-243ae31f-11ba-45c4-8814-2e980193ae34');\n",
              "          const dataTable =\n",
              "            await google.colab.kernel.invokeFunction('convertToInteractive',\n",
              "                                                     [key], {});\n",
              "          if (!dataTable) return;\n",
              "\n",
              "          const docLinkHtml = 'Like what you see? Visit the ' +\n",
              "            '<a target=\"_blank\" href=https://colab.research.google.com/notebooks/data_table.ipynb>data table notebook</a>'\n",
              "            + ' to learn more about interactive tables.';\n",
              "          element.innerHTML = '';\n",
              "          dataTable['output_type'] = 'display_data';\n",
              "          await google.colab.output.renderOutput(dataTable, element);\n",
              "          const docLink = document.createElement('div');\n",
              "          docLink.innerHTML = docLinkHtml;\n",
              "          element.appendChild(docLink);\n",
              "        }\n",
              "      </script>\n",
              "    </div>\n",
              "  </div>\n",
              "  "
            ]
          },
          "metadata": {},
          "execution_count": 43
        }
      ]
    },
    {
      "cell_type": "markdown",
      "source": [
        "**Finalizando y guardando ambos modelos**"
      ],
      "metadata": {
        "id": "BPSxpdhwWuS-"
      }
    },
    {
      "cell_type": "code",
      "source": [
        "finalize_model(modelo_optimo)"
      ],
      "metadata": {
        "colab": {
          "base_uri": "https://localhost:8080/"
        },
        "id": "QREuyVrlW6Sa",
        "outputId": "891515e1-010d-4ee4-c64a-79f1645e611d"
      },
      "execution_count": 44,
      "outputs": [
        {
          "output_type": "execute_result",
          "data": {
            "text/plain": [
              "Pipeline(memory=Memory(location=/tmp/joblib),\n",
              "         steps=[('label_encoding',\n",
              "                 TransformerWrapperWithInverse(exclude=None, include=None,\n",
              "                                               transformer=LabelEncoder())),\n",
              "                ('numerical_imputer',\n",
              "                 TransformerWrapper(exclude=None,\n",
              "                                    include=['age', 'duration', 'campaign'],\n",
              "                                    transformer=SimpleImputer(add_indicator=False,\n",
              "                                                              copy=True,\n",
              "                                                              fill_value=None,\n",
              "                                                              missing_values=nan,\n",
              "                                                              strategy='mea...\n",
              "                                                                   handle_unknown='value',\n",
              "                                                                   random_state=0,\n",
              "                                                                   return_df=True,\n",
              "                                                                   sigma=None,\n",
              "                                                                   verbose=0))),\n",
              "                ('low_variance',\n",
              "                 TransformerWrapper(exclude=[], include=None,\n",
              "                                    transformer=VarianceThreshold(threshold=0))),\n",
              "                ('actual_estimator',\n",
              "                 KNeighborsClassifier(algorithm='auto', leaf_size=30,\n",
              "                                      metric='euclidean', metric_params=None,\n",
              "                                      n_jobs=-1, n_neighbors=47, p=2,\n",
              "                                      weights='uniform'))],\n",
              "         verbose=False)"
            ]
          },
          "metadata": {},
          "execution_count": 44
        }
      ]
    },
    {
      "cell_type": "code",
      "source": [
        "finalize_model(modelo_optimo_2)\n"
      ],
      "metadata": {
        "colab": {
          "base_uri": "https://localhost:8080/"
        },
        "id": "pMa8yBgMW7vp",
        "outputId": "a027ac76-9aee-42ab-ab0b-bad2c5f1ea70"
      },
      "execution_count": 45,
      "outputs": [
        {
          "output_type": "execute_result",
          "data": {
            "text/plain": [
              "Pipeline(memory=Memory(location=/tmp/joblib),\n",
              "         steps=[('label_encoding',\n",
              "                 TransformerWrapperWithInverse(exclude=None, include=None,\n",
              "                                               transformer=LabelEncoder())),\n",
              "                ('numerical_imputer',\n",
              "                 TransformerWrapper(exclude=None,\n",
              "                                    include=['age', 'duration', 'campaign'],\n",
              "                                    transformer=SimpleImputer(add_indicator=False,\n",
              "                                                              copy=True,\n",
              "                                                              fill_value=None,\n",
              "                                                              missing_values=nan,\n",
              "                                                              strategy='mea...\n",
              "                 RandomForestClassifier(bootstrap=True, ccp_alpha=0.0,\n",
              "                                        class_weight=None, criterion='gini',\n",
              "                                        max_depth=None, max_features='auto',\n",
              "                                        max_leaf_nodes=None, max_samples=None,\n",
              "                                        min_impurity_decrease=0.0,\n",
              "                                        min_samples_leaf=1, min_samples_split=2,\n",
              "                                        min_weight_fraction_leaf=0.0,\n",
              "                                        n_estimators=100, n_jobs=-1,\n",
              "                                        oob_score=False, random_state=0,\n",
              "                                        verbose=0, warm_start=False))],\n",
              "         verbose=False)"
            ]
          },
          "metadata": {},
          "execution_count": 45
        }
      ]
    },
    {
      "cell_type": "code",
      "source": [
        "save_model(modelo_optimo, \"modelo_optimo\")"
      ],
      "metadata": {
        "colab": {
          "base_uri": "https://localhost:8080/"
        },
        "id": "5CHhv_0MW1mr",
        "outputId": "81ad35ce-203a-4a9a-a9ca-b38a32f14b5b"
      },
      "execution_count": 46,
      "outputs": [
        {
          "output_type": "stream",
          "name": "stdout",
          "text": [
            "Transformation Pipeline and Model Successfully Saved\n"
          ]
        },
        {
          "output_type": "execute_result",
          "data": {
            "text/plain": [
              "(Pipeline(memory=Memory(location=/tmp/joblib),\n",
              "          steps=[('label_encoding',\n",
              "                  TransformerWrapperWithInverse(exclude=None, include=None,\n",
              "                                                transformer=LabelEncoder())),\n",
              "                 ('numerical_imputer',\n",
              "                  TransformerWrapper(exclude=None,\n",
              "                                     include=['age', 'duration', 'campaign'],\n",
              "                                     transformer=SimpleImputer(add_indicator=False,\n",
              "                                                               copy=True,\n",
              "                                                               fill_value=None,\n",
              "                                                               missing_values=nan,\n",
              "                                                               strategy='mea...\n",
              "                                                                    handle_unknown='value',\n",
              "                                                                    random_state=0,\n",
              "                                                                    return_df=True,\n",
              "                                                                    sigma=None,\n",
              "                                                                    verbose=0))),\n",
              "                 ('low_variance',\n",
              "                  TransformerWrapper(exclude=[], include=None,\n",
              "                                     transformer=VarianceThreshold(threshold=0))),\n",
              "                 ('trained_model',\n",
              "                  KNeighborsClassifier(algorithm='auto', leaf_size=30,\n",
              "                                       metric='euclidean', metric_params=None,\n",
              "                                       n_jobs=-1, n_neighbors=47, p=2,\n",
              "                                       weights='uniform'))],\n",
              "          verbose=False), 'modelo_optimo.pkl')"
            ]
          },
          "metadata": {},
          "execution_count": 46
        }
      ]
    },
    {
      "cell_type": "code",
      "source": [
        "save_model(modelo_optimo_2, \"modelo_optimo_2\")"
      ],
      "metadata": {
        "colab": {
          "base_uri": "https://localhost:8080/"
        },
        "id": "LS7W7hKTW0fE",
        "outputId": "16e0a5d5-2ef3-40b4-a7aa-4399621880c7"
      },
      "execution_count": 47,
      "outputs": [
        {
          "output_type": "stream",
          "name": "stdout",
          "text": [
            "Transformation Pipeline and Model Successfully Saved\n"
          ]
        },
        {
          "output_type": "execute_result",
          "data": {
            "text/plain": [
              "(Pipeline(memory=Memory(location=/tmp/joblib),\n",
              "          steps=[('label_encoding',\n",
              "                  TransformerWrapperWithInverse(exclude=None, include=None,\n",
              "                                                transformer=LabelEncoder())),\n",
              "                 ('numerical_imputer',\n",
              "                  TransformerWrapper(exclude=None,\n",
              "                                     include=['age', 'duration', 'campaign'],\n",
              "                                     transformer=SimpleImputer(add_indicator=False,\n",
              "                                                               copy=True,\n",
              "                                                               fill_value=None,\n",
              "                                                               missing_values=nan,\n",
              "                                                               strategy='mea...\n",
              "                  RandomForestClassifier(bootstrap=True, ccp_alpha=0.0,\n",
              "                                         class_weight=None, criterion='gini',\n",
              "                                         max_depth=None, max_features='auto',\n",
              "                                         max_leaf_nodes=None, max_samples=None,\n",
              "                                         min_impurity_decrease=0.0,\n",
              "                                         min_samples_leaf=1, min_samples_split=2,\n",
              "                                         min_weight_fraction_leaf=0.0,\n",
              "                                         n_estimators=100, n_jobs=-1,\n",
              "                                         oob_score=False, random_state=0,\n",
              "                                         verbose=0, warm_start=False))],\n",
              "          verbose=False), 'modelo_optimo_2.pkl')"
            ]
          },
          "metadata": {},
          "execution_count": 47
        }
      ]
    }
  ],
  "metadata": {
    "colab": {
      "collapsed_sections": [],
      "provenance": [],
      "include_colab_link": true
    },
    "kernelspec": {
      "display_name": "Python 3",
      "name": "python3"
    },
    "widgets": {
      "application/vnd.jupyter.widget-state+json": {
        "820663d6881e47c9b5628e74faf107ee": {
          "model_module": "@jupyter-widgets/controls",
          "model_name": "HBoxModel",
          "model_module_version": "1.5.0",
          "state": {
            "_dom_classes": [],
            "_model_module": "@jupyter-widgets/controls",
            "_model_module_version": "1.5.0",
            "_model_name": "HBoxModel",
            "_view_count": null,
            "_view_module": "@jupyter-widgets/controls",
            "_view_module_version": "1.5.0",
            "_view_name": "HBoxView",
            "box_style": "",
            "children": [
              "IPY_MODEL_e59a42b1e33c47efa75d82253b33bb55",
              "IPY_MODEL_99f2c108bd4f4de09d5c95427d072968",
              "IPY_MODEL_b981336c85fc41c8b1ea7de9f7c9711a"
            ],
            "layout": "IPY_MODEL_06c7fb6316654237ba1f800b384a96e7"
          }
        },
        "e59a42b1e33c47efa75d82253b33bb55": {
          "model_module": "@jupyter-widgets/controls",
          "model_name": "HTMLModel",
          "model_module_version": "1.5.0",
          "state": {
            "_dom_classes": [],
            "_model_module": "@jupyter-widgets/controls",
            "_model_module_version": "1.5.0",
            "_model_name": "HTMLModel",
            "_view_count": null,
            "_view_module": "@jupyter-widgets/controls",
            "_view_module_version": "1.5.0",
            "_view_name": "HTMLView",
            "description": "",
            "description_tooltip": null,
            "layout": "IPY_MODEL_37ba10edf49346bbb96a9b735dd63b27",
            "placeholder": "​",
            "style": "IPY_MODEL_041e860e1f5c471bbd7e70193aaa65b6",
            "value": "Processing: 100%"
          }
        },
        "99f2c108bd4f4de09d5c95427d072968": {
          "model_module": "@jupyter-widgets/controls",
          "model_name": "FloatProgressModel",
          "model_module_version": "1.5.0",
          "state": {
            "_dom_classes": [],
            "_model_module": "@jupyter-widgets/controls",
            "_model_module_version": "1.5.0",
            "_model_name": "FloatProgressModel",
            "_view_count": null,
            "_view_module": "@jupyter-widgets/controls",
            "_view_module_version": "1.5.0",
            "_view_name": "ProgressView",
            "bar_style": "",
            "description": "",
            "description_tooltip": null,
            "layout": "IPY_MODEL_22207e28ee38423b98dd8746e8cd0a86",
            "max": 69,
            "min": 0,
            "orientation": "horizontal",
            "style": "IPY_MODEL_4eaaa5df477141a3824d5753eda99727",
            "value": 69
          }
        },
        "b981336c85fc41c8b1ea7de9f7c9711a": {
          "model_module": "@jupyter-widgets/controls",
          "model_name": "HTMLModel",
          "model_module_version": "1.5.0",
          "state": {
            "_dom_classes": [],
            "_model_module": "@jupyter-widgets/controls",
            "_model_module_version": "1.5.0",
            "_model_name": "HTMLModel",
            "_view_count": null,
            "_view_module": "@jupyter-widgets/controls",
            "_view_module_version": "1.5.0",
            "_view_name": "HTMLView",
            "description": "",
            "description_tooltip": null,
            "layout": "IPY_MODEL_9e1471c9d07d4cceaaa0dc4aed61ff9d",
            "placeholder": "​",
            "style": "IPY_MODEL_f242fa00422e42deab90aa20c4011827",
            "value": " 69/69 [07:46&lt;00:00,  6.52s/it]"
          }
        },
        "06c7fb6316654237ba1f800b384a96e7": {
          "model_module": "@jupyter-widgets/base",
          "model_name": "LayoutModel",
          "model_module_version": "1.2.0",
          "state": {
            "_model_module": "@jupyter-widgets/base",
            "_model_module_version": "1.2.0",
            "_model_name": "LayoutModel",
            "_view_count": null,
            "_view_module": "@jupyter-widgets/base",
            "_view_module_version": "1.2.0",
            "_view_name": "LayoutView",
            "align_content": null,
            "align_items": null,
            "align_self": null,
            "border": null,
            "bottom": null,
            "display": null,
            "flex": null,
            "flex_flow": null,
            "grid_area": null,
            "grid_auto_columns": null,
            "grid_auto_flow": null,
            "grid_auto_rows": null,
            "grid_column": null,
            "grid_gap": null,
            "grid_row": null,
            "grid_template_areas": null,
            "grid_template_columns": null,
            "grid_template_rows": null,
            "height": null,
            "justify_content": null,
            "justify_items": null,
            "left": null,
            "margin": null,
            "max_height": null,
            "max_width": null,
            "min_height": null,
            "min_width": null,
            "object_fit": null,
            "object_position": null,
            "order": null,
            "overflow": null,
            "overflow_x": null,
            "overflow_y": null,
            "padding": null,
            "right": null,
            "top": null,
            "visibility": "hidden",
            "width": null
          }
        },
        "37ba10edf49346bbb96a9b735dd63b27": {
          "model_module": "@jupyter-widgets/base",
          "model_name": "LayoutModel",
          "model_module_version": "1.2.0",
          "state": {
            "_model_module": "@jupyter-widgets/base",
            "_model_module_version": "1.2.0",
            "_model_name": "LayoutModel",
            "_view_count": null,
            "_view_module": "@jupyter-widgets/base",
            "_view_module_version": "1.2.0",
            "_view_name": "LayoutView",
            "align_content": null,
            "align_items": null,
            "align_self": null,
            "border": null,
            "bottom": null,
            "display": null,
            "flex": null,
            "flex_flow": null,
            "grid_area": null,
            "grid_auto_columns": null,
            "grid_auto_flow": null,
            "grid_auto_rows": null,
            "grid_column": null,
            "grid_gap": null,
            "grid_row": null,
            "grid_template_areas": null,
            "grid_template_columns": null,
            "grid_template_rows": null,
            "height": null,
            "justify_content": null,
            "justify_items": null,
            "left": null,
            "margin": null,
            "max_height": null,
            "max_width": null,
            "min_height": null,
            "min_width": null,
            "object_fit": null,
            "object_position": null,
            "order": null,
            "overflow": null,
            "overflow_x": null,
            "overflow_y": null,
            "padding": null,
            "right": null,
            "top": null,
            "visibility": null,
            "width": null
          }
        },
        "041e860e1f5c471bbd7e70193aaa65b6": {
          "model_module": "@jupyter-widgets/controls",
          "model_name": "DescriptionStyleModel",
          "model_module_version": "1.5.0",
          "state": {
            "_model_module": "@jupyter-widgets/controls",
            "_model_module_version": "1.5.0",
            "_model_name": "DescriptionStyleModel",
            "_view_count": null,
            "_view_module": "@jupyter-widgets/base",
            "_view_module_version": "1.2.0",
            "_view_name": "StyleView",
            "description_width": ""
          }
        },
        "22207e28ee38423b98dd8746e8cd0a86": {
          "model_module": "@jupyter-widgets/base",
          "model_name": "LayoutModel",
          "model_module_version": "1.2.0",
          "state": {
            "_model_module": "@jupyter-widgets/base",
            "_model_module_version": "1.2.0",
            "_model_name": "LayoutModel",
            "_view_count": null,
            "_view_module": "@jupyter-widgets/base",
            "_view_module_version": "1.2.0",
            "_view_name": "LayoutView",
            "align_content": null,
            "align_items": null,
            "align_self": null,
            "border": null,
            "bottom": null,
            "display": null,
            "flex": null,
            "flex_flow": null,
            "grid_area": null,
            "grid_auto_columns": null,
            "grid_auto_flow": null,
            "grid_auto_rows": null,
            "grid_column": null,
            "grid_gap": null,
            "grid_row": null,
            "grid_template_areas": null,
            "grid_template_columns": null,
            "grid_template_rows": null,
            "height": null,
            "justify_content": null,
            "justify_items": null,
            "left": null,
            "margin": null,
            "max_height": null,
            "max_width": null,
            "min_height": null,
            "min_width": null,
            "object_fit": null,
            "object_position": null,
            "order": null,
            "overflow": null,
            "overflow_x": null,
            "overflow_y": null,
            "padding": null,
            "right": null,
            "top": null,
            "visibility": null,
            "width": null
          }
        },
        "4eaaa5df477141a3824d5753eda99727": {
          "model_module": "@jupyter-widgets/controls",
          "model_name": "ProgressStyleModel",
          "model_module_version": "1.5.0",
          "state": {
            "_model_module": "@jupyter-widgets/controls",
            "_model_module_version": "1.5.0",
            "_model_name": "ProgressStyleModel",
            "_view_count": null,
            "_view_module": "@jupyter-widgets/base",
            "_view_module_version": "1.2.0",
            "_view_name": "StyleView",
            "bar_color": null,
            "description_width": ""
          }
        },
        "9e1471c9d07d4cceaaa0dc4aed61ff9d": {
          "model_module": "@jupyter-widgets/base",
          "model_name": "LayoutModel",
          "model_module_version": "1.2.0",
          "state": {
            "_model_module": "@jupyter-widgets/base",
            "_model_module_version": "1.2.0",
            "_model_name": "LayoutModel",
            "_view_count": null,
            "_view_module": "@jupyter-widgets/base",
            "_view_module_version": "1.2.0",
            "_view_name": "LayoutView",
            "align_content": null,
            "align_items": null,
            "align_self": null,
            "border": null,
            "bottom": null,
            "display": null,
            "flex": null,
            "flex_flow": null,
            "grid_area": null,
            "grid_auto_columns": null,
            "grid_auto_flow": null,
            "grid_auto_rows": null,
            "grid_column": null,
            "grid_gap": null,
            "grid_row": null,
            "grid_template_areas": null,
            "grid_template_columns": null,
            "grid_template_rows": null,
            "height": null,
            "justify_content": null,
            "justify_items": null,
            "left": null,
            "margin": null,
            "max_height": null,
            "max_width": null,
            "min_height": null,
            "min_width": null,
            "object_fit": null,
            "object_position": null,
            "order": null,
            "overflow": null,
            "overflow_x": null,
            "overflow_y": null,
            "padding": null,
            "right": null,
            "top": null,
            "visibility": null,
            "width": null
          }
        },
        "f242fa00422e42deab90aa20c4011827": {
          "model_module": "@jupyter-widgets/controls",
          "model_name": "DescriptionStyleModel",
          "model_module_version": "1.5.0",
          "state": {
            "_model_module": "@jupyter-widgets/controls",
            "_model_module_version": "1.5.0",
            "_model_name": "DescriptionStyleModel",
            "_view_count": null,
            "_view_module": "@jupyter-widgets/base",
            "_view_module_version": "1.2.0",
            "_view_name": "StyleView",
            "description_width": ""
          }
        },
        "d8cf7e28f25a4008a9c98248b29fd074": {
          "model_module": "@jupyter-widgets/controls",
          "model_name": "HBoxModel",
          "model_module_version": "1.5.0",
          "state": {
            "_dom_classes": [],
            "_model_module": "@jupyter-widgets/controls",
            "_model_module_version": "1.5.0",
            "_model_name": "HBoxModel",
            "_view_count": null,
            "_view_module": "@jupyter-widgets/controls",
            "_view_module_version": "1.5.0",
            "_view_name": "HBoxView",
            "box_style": "",
            "children": [
              "IPY_MODEL_9c4159774ada4a48914a83f87f8bd2a3",
              "IPY_MODEL_7b4a1344e28246b1bc96fb6ea8873ad1",
              "IPY_MODEL_8e19f9d5fafe47309df9a54ebc02fef5"
            ],
            "layout": "IPY_MODEL_1cdac7b1774e484a8cfcf49913f1c97e"
          }
        },
        "9c4159774ada4a48914a83f87f8bd2a3": {
          "model_module": "@jupyter-widgets/controls",
          "model_name": "HTMLModel",
          "model_module_version": "1.5.0",
          "state": {
            "_dom_classes": [],
            "_model_module": "@jupyter-widgets/controls",
            "_model_module_version": "1.5.0",
            "_model_name": "HTMLModel",
            "_view_count": null,
            "_view_module": "@jupyter-widgets/controls",
            "_view_module_version": "1.5.0",
            "_view_name": "HTMLView",
            "description": "",
            "description_tooltip": null,
            "layout": "IPY_MODEL_256f3d1efd3545c1a73a1f00f24487f1",
            "placeholder": "​",
            "style": "IPY_MODEL_660885ac45ea41c6aa4f30fd96d38ffa",
            "value": "Processing: 100%"
          }
        },
        "7b4a1344e28246b1bc96fb6ea8873ad1": {
          "model_module": "@jupyter-widgets/controls",
          "model_name": "FloatProgressModel",
          "model_module_version": "1.5.0",
          "state": {
            "_dom_classes": [],
            "_model_module": "@jupyter-widgets/controls",
            "_model_module_version": "1.5.0",
            "_model_name": "FloatProgressModel",
            "_view_count": null,
            "_view_module": "@jupyter-widgets/controls",
            "_view_module_version": "1.5.0",
            "_view_name": "ProgressView",
            "bar_style": "",
            "description": "",
            "description_tooltip": null,
            "layout": "IPY_MODEL_b98602f3fed640af9e9cddd3e9a958f2",
            "max": 4,
            "min": 0,
            "orientation": "horizontal",
            "style": "IPY_MODEL_3da0bab30a564e028742674b586835df",
            "value": 4
          }
        },
        "8e19f9d5fafe47309df9a54ebc02fef5": {
          "model_module": "@jupyter-widgets/controls",
          "model_name": "HTMLModel",
          "model_module_version": "1.5.0",
          "state": {
            "_dom_classes": [],
            "_model_module": "@jupyter-widgets/controls",
            "_model_module_version": "1.5.0",
            "_model_name": "HTMLModel",
            "_view_count": null,
            "_view_module": "@jupyter-widgets/controls",
            "_view_module_version": "1.5.0",
            "_view_name": "HTMLView",
            "description": "",
            "description_tooltip": null,
            "layout": "IPY_MODEL_95fafe401abf43dd90b80220024d8399",
            "placeholder": "​",
            "style": "IPY_MODEL_7c7a13b4f86742049b7fc55a318cce5d",
            "value": " 4/4 [00:19&lt;00:00,  4.61s/it]"
          }
        },
        "1cdac7b1774e484a8cfcf49913f1c97e": {
          "model_module": "@jupyter-widgets/base",
          "model_name": "LayoutModel",
          "model_module_version": "1.2.0",
          "state": {
            "_model_module": "@jupyter-widgets/base",
            "_model_module_version": "1.2.0",
            "_model_name": "LayoutModel",
            "_view_count": null,
            "_view_module": "@jupyter-widgets/base",
            "_view_module_version": "1.2.0",
            "_view_name": "LayoutView",
            "align_content": null,
            "align_items": null,
            "align_self": null,
            "border": null,
            "bottom": null,
            "display": null,
            "flex": null,
            "flex_flow": null,
            "grid_area": null,
            "grid_auto_columns": null,
            "grid_auto_flow": null,
            "grid_auto_rows": null,
            "grid_column": null,
            "grid_gap": null,
            "grid_row": null,
            "grid_template_areas": null,
            "grid_template_columns": null,
            "grid_template_rows": null,
            "height": null,
            "justify_content": null,
            "justify_items": null,
            "left": null,
            "margin": null,
            "max_height": null,
            "max_width": null,
            "min_height": null,
            "min_width": null,
            "object_fit": null,
            "object_position": null,
            "order": null,
            "overflow": null,
            "overflow_x": null,
            "overflow_y": null,
            "padding": null,
            "right": null,
            "top": null,
            "visibility": "hidden",
            "width": null
          }
        },
        "256f3d1efd3545c1a73a1f00f24487f1": {
          "model_module": "@jupyter-widgets/base",
          "model_name": "LayoutModel",
          "model_module_version": "1.2.0",
          "state": {
            "_model_module": "@jupyter-widgets/base",
            "_model_module_version": "1.2.0",
            "_model_name": "LayoutModel",
            "_view_count": null,
            "_view_module": "@jupyter-widgets/base",
            "_view_module_version": "1.2.0",
            "_view_name": "LayoutView",
            "align_content": null,
            "align_items": null,
            "align_self": null,
            "border": null,
            "bottom": null,
            "display": null,
            "flex": null,
            "flex_flow": null,
            "grid_area": null,
            "grid_auto_columns": null,
            "grid_auto_flow": null,
            "grid_auto_rows": null,
            "grid_column": null,
            "grid_gap": null,
            "grid_row": null,
            "grid_template_areas": null,
            "grid_template_columns": null,
            "grid_template_rows": null,
            "height": null,
            "justify_content": null,
            "justify_items": null,
            "left": null,
            "margin": null,
            "max_height": null,
            "max_width": null,
            "min_height": null,
            "min_width": null,
            "object_fit": null,
            "object_position": null,
            "order": null,
            "overflow": null,
            "overflow_x": null,
            "overflow_y": null,
            "padding": null,
            "right": null,
            "top": null,
            "visibility": null,
            "width": null
          }
        },
        "660885ac45ea41c6aa4f30fd96d38ffa": {
          "model_module": "@jupyter-widgets/controls",
          "model_name": "DescriptionStyleModel",
          "model_module_version": "1.5.0",
          "state": {
            "_model_module": "@jupyter-widgets/controls",
            "_model_module_version": "1.5.0",
            "_model_name": "DescriptionStyleModel",
            "_view_count": null,
            "_view_module": "@jupyter-widgets/base",
            "_view_module_version": "1.2.0",
            "_view_name": "StyleView",
            "description_width": ""
          }
        },
        "b98602f3fed640af9e9cddd3e9a958f2": {
          "model_module": "@jupyter-widgets/base",
          "model_name": "LayoutModel",
          "model_module_version": "1.2.0",
          "state": {
            "_model_module": "@jupyter-widgets/base",
            "_model_module_version": "1.2.0",
            "_model_name": "LayoutModel",
            "_view_count": null,
            "_view_module": "@jupyter-widgets/base",
            "_view_module_version": "1.2.0",
            "_view_name": "LayoutView",
            "align_content": null,
            "align_items": null,
            "align_self": null,
            "border": null,
            "bottom": null,
            "display": null,
            "flex": null,
            "flex_flow": null,
            "grid_area": null,
            "grid_auto_columns": null,
            "grid_auto_flow": null,
            "grid_auto_rows": null,
            "grid_column": null,
            "grid_gap": null,
            "grid_row": null,
            "grid_template_areas": null,
            "grid_template_columns": null,
            "grid_template_rows": null,
            "height": null,
            "justify_content": null,
            "justify_items": null,
            "left": null,
            "margin": null,
            "max_height": null,
            "max_width": null,
            "min_height": null,
            "min_width": null,
            "object_fit": null,
            "object_position": null,
            "order": null,
            "overflow": null,
            "overflow_x": null,
            "overflow_y": null,
            "padding": null,
            "right": null,
            "top": null,
            "visibility": null,
            "width": null
          }
        },
        "3da0bab30a564e028742674b586835df": {
          "model_module": "@jupyter-widgets/controls",
          "model_name": "ProgressStyleModel",
          "model_module_version": "1.5.0",
          "state": {
            "_model_module": "@jupyter-widgets/controls",
            "_model_module_version": "1.5.0",
            "_model_name": "ProgressStyleModel",
            "_view_count": null,
            "_view_module": "@jupyter-widgets/base",
            "_view_module_version": "1.2.0",
            "_view_name": "StyleView",
            "bar_color": null,
            "description_width": ""
          }
        },
        "95fafe401abf43dd90b80220024d8399": {
          "model_module": "@jupyter-widgets/base",
          "model_name": "LayoutModel",
          "model_module_version": "1.2.0",
          "state": {
            "_model_module": "@jupyter-widgets/base",
            "_model_module_version": "1.2.0",
            "_model_name": "LayoutModel",
            "_view_count": null,
            "_view_module": "@jupyter-widgets/base",
            "_view_module_version": "1.2.0",
            "_view_name": "LayoutView",
            "align_content": null,
            "align_items": null,
            "align_self": null,
            "border": null,
            "bottom": null,
            "display": null,
            "flex": null,
            "flex_flow": null,
            "grid_area": null,
            "grid_auto_columns": null,
            "grid_auto_flow": null,
            "grid_auto_rows": null,
            "grid_column": null,
            "grid_gap": null,
            "grid_row": null,
            "grid_template_areas": null,
            "grid_template_columns": null,
            "grid_template_rows": null,
            "height": null,
            "justify_content": null,
            "justify_items": null,
            "left": null,
            "margin": null,
            "max_height": null,
            "max_width": null,
            "min_height": null,
            "min_width": null,
            "object_fit": null,
            "object_position": null,
            "order": null,
            "overflow": null,
            "overflow_x": null,
            "overflow_y": null,
            "padding": null,
            "right": null,
            "top": null,
            "visibility": null,
            "width": null
          }
        },
        "7c7a13b4f86742049b7fc55a318cce5d": {
          "model_module": "@jupyter-widgets/controls",
          "model_name": "DescriptionStyleModel",
          "model_module_version": "1.5.0",
          "state": {
            "_model_module": "@jupyter-widgets/controls",
            "_model_module_version": "1.5.0",
            "_model_name": "DescriptionStyleModel",
            "_view_count": null,
            "_view_module": "@jupyter-widgets/base",
            "_view_module_version": "1.2.0",
            "_view_name": "StyleView",
            "description_width": ""
          }
        },
        "3405a4f2971c446397c1078bc78124ba": {
          "model_module": "@jupyter-widgets/controls",
          "model_name": "HBoxModel",
          "model_module_version": "1.5.0",
          "state": {
            "_dom_classes": [],
            "_model_module": "@jupyter-widgets/controls",
            "_model_module_version": "1.5.0",
            "_model_name": "HBoxModel",
            "_view_count": null,
            "_view_module": "@jupyter-widgets/controls",
            "_view_module_version": "1.5.0",
            "_view_name": "HBoxView",
            "box_style": "",
            "children": [
              "IPY_MODEL_a93d94db9ccc49fa8e5769f37addbadc",
              "IPY_MODEL_78bb8a5e26414bdaa2bcedc03371fbc7",
              "IPY_MODEL_21e31b8a055c4b26940477bb6f4b1ba9"
            ],
            "layout": "IPY_MODEL_cb7bd890fead4034b2d8bc65d6be7a60"
          }
        },
        "a93d94db9ccc49fa8e5769f37addbadc": {
          "model_module": "@jupyter-widgets/controls",
          "model_name": "HTMLModel",
          "model_module_version": "1.5.0",
          "state": {
            "_dom_classes": [],
            "_model_module": "@jupyter-widgets/controls",
            "_model_module_version": "1.5.0",
            "_model_name": "HTMLModel",
            "_view_count": null,
            "_view_module": "@jupyter-widgets/controls",
            "_view_module_version": "1.5.0",
            "_view_name": "HTMLView",
            "description": "",
            "description_tooltip": null,
            "layout": "IPY_MODEL_5f166688ea774b49905382b677f70f53",
            "placeholder": "​",
            "style": "IPY_MODEL_36dac243769048408ab15c409afea4f3",
            "value": "Processing: 100%"
          }
        },
        "78bb8a5e26414bdaa2bcedc03371fbc7": {
          "model_module": "@jupyter-widgets/controls",
          "model_name": "FloatProgressModel",
          "model_module_version": "1.5.0",
          "state": {
            "_dom_classes": [],
            "_model_module": "@jupyter-widgets/controls",
            "_model_module_version": "1.5.0",
            "_model_name": "FloatProgressModel",
            "_view_count": null,
            "_view_module": "@jupyter-widgets/controls",
            "_view_module_version": "1.5.0",
            "_view_name": "ProgressView",
            "bar_style": "",
            "description": "",
            "description_tooltip": null,
            "layout": "IPY_MODEL_90db51db28af436f990e547f9f1cdd46",
            "max": 7,
            "min": 0,
            "orientation": "horizontal",
            "style": "IPY_MODEL_03818f62ea144cac8b4567dfbe325eb2",
            "value": 7
          }
        },
        "21e31b8a055c4b26940477bb6f4b1ba9": {
          "model_module": "@jupyter-widgets/controls",
          "model_name": "HTMLModel",
          "model_module_version": "1.5.0",
          "state": {
            "_dom_classes": [],
            "_model_module": "@jupyter-widgets/controls",
            "_model_module_version": "1.5.0",
            "_model_name": "HTMLModel",
            "_view_count": null,
            "_view_module": "@jupyter-widgets/controls",
            "_view_module_version": "1.5.0",
            "_view_name": "HTMLView",
            "description": "",
            "description_tooltip": null,
            "layout": "IPY_MODEL_04dd08c3720f4167abe2d0e25985f445",
            "placeholder": "​",
            "style": "IPY_MODEL_4d385ec5472744d689ff982c6d0e98ce",
            "value": " 7/7 [02:48&lt;00:00, 19.13s/it]"
          }
        },
        "cb7bd890fead4034b2d8bc65d6be7a60": {
          "model_module": "@jupyter-widgets/base",
          "model_name": "LayoutModel",
          "model_module_version": "1.2.0",
          "state": {
            "_model_module": "@jupyter-widgets/base",
            "_model_module_version": "1.2.0",
            "_model_name": "LayoutModel",
            "_view_count": null,
            "_view_module": "@jupyter-widgets/base",
            "_view_module_version": "1.2.0",
            "_view_name": "LayoutView",
            "align_content": null,
            "align_items": null,
            "align_self": null,
            "border": null,
            "bottom": null,
            "display": null,
            "flex": null,
            "flex_flow": null,
            "grid_area": null,
            "grid_auto_columns": null,
            "grid_auto_flow": null,
            "grid_auto_rows": null,
            "grid_column": null,
            "grid_gap": null,
            "grid_row": null,
            "grid_template_areas": null,
            "grid_template_columns": null,
            "grid_template_rows": null,
            "height": null,
            "justify_content": null,
            "justify_items": null,
            "left": null,
            "margin": null,
            "max_height": null,
            "max_width": null,
            "min_height": null,
            "min_width": null,
            "object_fit": null,
            "object_position": null,
            "order": null,
            "overflow": null,
            "overflow_x": null,
            "overflow_y": null,
            "padding": null,
            "right": null,
            "top": null,
            "visibility": "hidden",
            "width": null
          }
        },
        "5f166688ea774b49905382b677f70f53": {
          "model_module": "@jupyter-widgets/base",
          "model_name": "LayoutModel",
          "model_module_version": "1.2.0",
          "state": {
            "_model_module": "@jupyter-widgets/base",
            "_model_module_version": "1.2.0",
            "_model_name": "LayoutModel",
            "_view_count": null,
            "_view_module": "@jupyter-widgets/base",
            "_view_module_version": "1.2.0",
            "_view_name": "LayoutView",
            "align_content": null,
            "align_items": null,
            "align_self": null,
            "border": null,
            "bottom": null,
            "display": null,
            "flex": null,
            "flex_flow": null,
            "grid_area": null,
            "grid_auto_columns": null,
            "grid_auto_flow": null,
            "grid_auto_rows": null,
            "grid_column": null,
            "grid_gap": null,
            "grid_row": null,
            "grid_template_areas": null,
            "grid_template_columns": null,
            "grid_template_rows": null,
            "height": null,
            "justify_content": null,
            "justify_items": null,
            "left": null,
            "margin": null,
            "max_height": null,
            "max_width": null,
            "min_height": null,
            "min_width": null,
            "object_fit": null,
            "object_position": null,
            "order": null,
            "overflow": null,
            "overflow_x": null,
            "overflow_y": null,
            "padding": null,
            "right": null,
            "top": null,
            "visibility": null,
            "width": null
          }
        },
        "36dac243769048408ab15c409afea4f3": {
          "model_module": "@jupyter-widgets/controls",
          "model_name": "DescriptionStyleModel",
          "model_module_version": "1.5.0",
          "state": {
            "_model_module": "@jupyter-widgets/controls",
            "_model_module_version": "1.5.0",
            "_model_name": "DescriptionStyleModel",
            "_view_count": null,
            "_view_module": "@jupyter-widgets/base",
            "_view_module_version": "1.2.0",
            "_view_name": "StyleView",
            "description_width": ""
          }
        },
        "90db51db28af436f990e547f9f1cdd46": {
          "model_module": "@jupyter-widgets/base",
          "model_name": "LayoutModel",
          "model_module_version": "1.2.0",
          "state": {
            "_model_module": "@jupyter-widgets/base",
            "_model_module_version": "1.2.0",
            "_model_name": "LayoutModel",
            "_view_count": null,
            "_view_module": "@jupyter-widgets/base",
            "_view_module_version": "1.2.0",
            "_view_name": "LayoutView",
            "align_content": null,
            "align_items": null,
            "align_self": null,
            "border": null,
            "bottom": null,
            "display": null,
            "flex": null,
            "flex_flow": null,
            "grid_area": null,
            "grid_auto_columns": null,
            "grid_auto_flow": null,
            "grid_auto_rows": null,
            "grid_column": null,
            "grid_gap": null,
            "grid_row": null,
            "grid_template_areas": null,
            "grid_template_columns": null,
            "grid_template_rows": null,
            "height": null,
            "justify_content": null,
            "justify_items": null,
            "left": null,
            "margin": null,
            "max_height": null,
            "max_width": null,
            "min_height": null,
            "min_width": null,
            "object_fit": null,
            "object_position": null,
            "order": null,
            "overflow": null,
            "overflow_x": null,
            "overflow_y": null,
            "padding": null,
            "right": null,
            "top": null,
            "visibility": null,
            "width": null
          }
        },
        "03818f62ea144cac8b4567dfbe325eb2": {
          "model_module": "@jupyter-widgets/controls",
          "model_name": "ProgressStyleModel",
          "model_module_version": "1.5.0",
          "state": {
            "_model_module": "@jupyter-widgets/controls",
            "_model_module_version": "1.5.0",
            "_model_name": "ProgressStyleModel",
            "_view_count": null,
            "_view_module": "@jupyter-widgets/base",
            "_view_module_version": "1.2.0",
            "_view_name": "StyleView",
            "bar_color": null,
            "description_width": ""
          }
        },
        "04dd08c3720f4167abe2d0e25985f445": {
          "model_module": "@jupyter-widgets/base",
          "model_name": "LayoutModel",
          "model_module_version": "1.2.0",
          "state": {
            "_model_module": "@jupyter-widgets/base",
            "_model_module_version": "1.2.0",
            "_model_name": "LayoutModel",
            "_view_count": null,
            "_view_module": "@jupyter-widgets/base",
            "_view_module_version": "1.2.0",
            "_view_name": "LayoutView",
            "align_content": null,
            "align_items": null,
            "align_self": null,
            "border": null,
            "bottom": null,
            "display": null,
            "flex": null,
            "flex_flow": null,
            "grid_area": null,
            "grid_auto_columns": null,
            "grid_auto_flow": null,
            "grid_auto_rows": null,
            "grid_column": null,
            "grid_gap": null,
            "grid_row": null,
            "grid_template_areas": null,
            "grid_template_columns": null,
            "grid_template_rows": null,
            "height": null,
            "justify_content": null,
            "justify_items": null,
            "left": null,
            "margin": null,
            "max_height": null,
            "max_width": null,
            "min_height": null,
            "min_width": null,
            "object_fit": null,
            "object_position": null,
            "order": null,
            "overflow": null,
            "overflow_x": null,
            "overflow_y": null,
            "padding": null,
            "right": null,
            "top": null,
            "visibility": null,
            "width": null
          }
        },
        "4d385ec5472744d689ff982c6d0e98ce": {
          "model_module": "@jupyter-widgets/controls",
          "model_name": "DescriptionStyleModel",
          "model_module_version": "1.5.0",
          "state": {
            "_model_module": "@jupyter-widgets/controls",
            "_model_module_version": "1.5.0",
            "_model_name": "DescriptionStyleModel",
            "_view_count": null,
            "_view_module": "@jupyter-widgets/base",
            "_view_module_version": "1.2.0",
            "_view_name": "StyleView",
            "description_width": ""
          }
        },
        "509bb683b04b4469bcad121c3f21ea13": {
          "model_module": "@jupyter-widgets/controls",
          "model_name": "VBoxModel",
          "model_module_version": "1.5.0",
          "state": {
            "_dom_classes": [
              "widget-interact"
            ],
            "_model_module": "@jupyter-widgets/controls",
            "_model_module_version": "1.5.0",
            "_model_name": "VBoxModel",
            "_view_count": null,
            "_view_module": "@jupyter-widgets/controls",
            "_view_module_version": "1.5.0",
            "_view_name": "VBoxView",
            "box_style": "",
            "children": [
              "IPY_MODEL_d42fa7475ec744159959e96229315e18",
              "IPY_MODEL_451d6fa718614995b407c9c736171cd3"
            ],
            "layout": "IPY_MODEL_4f4908d11cf54774ace4b44a04b01963"
          }
        },
        "d42fa7475ec744159959e96229315e18": {
          "model_module": "@jupyter-widgets/controls",
          "model_name": "ToggleButtonsModel",
          "model_module_version": "1.5.0",
          "state": {
            "_dom_classes": [],
            "_model_module": "@jupyter-widgets/controls",
            "_model_module_version": "1.5.0",
            "_model_name": "ToggleButtonsModel",
            "_options_labels": [
              "Pipeline Plot",
              "Hyperparameters",
              "AUC",
              "Confusion Matrix",
              "Threshold",
              "Precision Recall",
              "Prediction Error",
              "Class Report",
              "Feature Selection",
              "Learning Curve",
              "Manifold Learning",
              "Calibration Curve",
              "Validation Curve",
              "Dimensions",
              "Feature Importance",
              "Feature Importance (All)",
              "Decision Boundary",
              "Lift Chart",
              "Gain Chart",
              "Decision Tree",
              "KS Statistic Plot"
            ],
            "_view_count": null,
            "_view_module": "@jupyter-widgets/controls",
            "_view_module_version": "1.5.0",
            "_view_name": "ToggleButtonsView",
            "button_style": "",
            "description": "Plot Type:",
            "description_tooltip": null,
            "disabled": false,
            "icons": [
              ""
            ],
            "index": 3,
            "layout": "IPY_MODEL_3db5237981204ccca890963471ea763a",
            "style": "IPY_MODEL_07442f59e5584f2aa8ec81825f19cdc4",
            "tooltips": []
          }
        },
        "451d6fa718614995b407c9c736171cd3": {
          "model_module": "@jupyter-widgets/output",
          "model_name": "OutputModel",
          "model_module_version": "1.0.0",
          "state": {
            "_dom_classes": [],
            "_model_module": "@jupyter-widgets/output",
            "_model_module_version": "1.0.0",
            "_model_name": "OutputModel",
            "_view_count": null,
            "_view_module": "@jupyter-widgets/output",
            "_view_module_version": "1.0.0",
            "_view_name": "OutputView",
            "layout": "IPY_MODEL_eb3e541f24f245dba9cc81d708ee4f14",
            "msg_id": "",
            "outputs": [
              {
                "output_type": "display_data",
                "data": {
                  "text/plain": "<Figure size 432x288 with 1 Axes>",
                  "image/png": "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\n"
                },
                "metadata": {
                  "needs_background": "light"
                }
              }
            ]
          }
        },
        "4f4908d11cf54774ace4b44a04b01963": {
          "model_module": "@jupyter-widgets/base",
          "model_name": "LayoutModel",
          "model_module_version": "1.2.0",
          "state": {
            "_model_module": "@jupyter-widgets/base",
            "_model_module_version": "1.2.0",
            "_model_name": "LayoutModel",
            "_view_count": null,
            "_view_module": "@jupyter-widgets/base",
            "_view_module_version": "1.2.0",
            "_view_name": "LayoutView",
            "align_content": null,
            "align_items": null,
            "align_self": null,
            "border": null,
            "bottom": null,
            "display": null,
            "flex": null,
            "flex_flow": null,
            "grid_area": null,
            "grid_auto_columns": null,
            "grid_auto_flow": null,
            "grid_auto_rows": null,
            "grid_column": null,
            "grid_gap": null,
            "grid_row": null,
            "grid_template_areas": null,
            "grid_template_columns": null,
            "grid_template_rows": null,
            "height": null,
            "justify_content": null,
            "justify_items": null,
            "left": null,
            "margin": null,
            "max_height": null,
            "max_width": null,
            "min_height": null,
            "min_width": null,
            "object_fit": null,
            "object_position": null,
            "order": null,
            "overflow": null,
            "overflow_x": null,
            "overflow_y": null,
            "padding": null,
            "right": null,
            "top": null,
            "visibility": null,
            "width": null
          }
        },
        "3db5237981204ccca890963471ea763a": {
          "model_module": "@jupyter-widgets/base",
          "model_name": "LayoutModel",
          "model_module_version": "1.2.0",
          "state": {
            "_model_module": "@jupyter-widgets/base",
            "_model_module_version": "1.2.0",
            "_model_name": "LayoutModel",
            "_view_count": null,
            "_view_module": "@jupyter-widgets/base",
            "_view_module_version": "1.2.0",
            "_view_name": "LayoutView",
            "align_content": null,
            "align_items": null,
            "align_self": null,
            "border": null,
            "bottom": null,
            "display": null,
            "flex": null,
            "flex_flow": null,
            "grid_area": null,
            "grid_auto_columns": null,
            "grid_auto_flow": null,
            "grid_auto_rows": null,
            "grid_column": null,
            "grid_gap": null,
            "grid_row": null,
            "grid_template_areas": null,
            "grid_template_columns": null,
            "grid_template_rows": null,
            "height": null,
            "justify_content": null,
            "justify_items": null,
            "left": null,
            "margin": null,
            "max_height": null,
            "max_width": null,
            "min_height": null,
            "min_width": null,
            "object_fit": null,
            "object_position": null,
            "order": null,
            "overflow": null,
            "overflow_x": null,
            "overflow_y": null,
            "padding": null,
            "right": null,
            "top": null,
            "visibility": null,
            "width": null
          }
        },
        "07442f59e5584f2aa8ec81825f19cdc4": {
          "model_module": "@jupyter-widgets/controls",
          "model_name": "ToggleButtonsStyleModel",
          "model_module_version": "1.5.0",
          "state": {
            "_model_module": "@jupyter-widgets/controls",
            "_model_module_version": "1.5.0",
            "_model_name": "ToggleButtonsStyleModel",
            "_view_count": null,
            "_view_module": "@jupyter-widgets/base",
            "_view_module_version": "1.2.0",
            "_view_name": "StyleView",
            "button_width": "",
            "description_width": "",
            "font_weight": ""
          }
        },
        "eb3e541f24f245dba9cc81d708ee4f14": {
          "model_module": "@jupyter-widgets/base",
          "model_name": "LayoutModel",
          "model_module_version": "1.2.0",
          "state": {
            "_model_module": "@jupyter-widgets/base",
            "_model_module_version": "1.2.0",
            "_model_name": "LayoutModel",
            "_view_count": null,
            "_view_module": "@jupyter-widgets/base",
            "_view_module_version": "1.2.0",
            "_view_name": "LayoutView",
            "align_content": null,
            "align_items": null,
            "align_self": null,
            "border": null,
            "bottom": null,
            "display": null,
            "flex": null,
            "flex_flow": null,
            "grid_area": null,
            "grid_auto_columns": null,
            "grid_auto_flow": null,
            "grid_auto_rows": null,
            "grid_column": null,
            "grid_gap": null,
            "grid_row": null,
            "grid_template_areas": null,
            "grid_template_columns": null,
            "grid_template_rows": null,
            "height": null,
            "justify_content": null,
            "justify_items": null,
            "left": null,
            "margin": null,
            "max_height": null,
            "max_width": null,
            "min_height": null,
            "min_width": null,
            "object_fit": null,
            "object_position": null,
            "order": null,
            "overflow": null,
            "overflow_x": null,
            "overflow_y": null,
            "padding": null,
            "right": null,
            "top": null,
            "visibility": null,
            "width": null
          }
        },
        "206a8217302b408e95daf447a0cb7029": {
          "model_module": "@jupyter-widgets/controls",
          "model_name": "VBoxModel",
          "model_module_version": "1.5.0",
          "state": {
            "_dom_classes": [
              "widget-interact"
            ],
            "_model_module": "@jupyter-widgets/controls",
            "_model_module_version": "1.5.0",
            "_model_name": "VBoxModel",
            "_view_count": null,
            "_view_module": "@jupyter-widgets/controls",
            "_view_module_version": "1.5.0",
            "_view_name": "VBoxView",
            "box_style": "",
            "children": [
              "IPY_MODEL_e26c0810f70548a99cd7c238f3d1a76d",
              "IPY_MODEL_1f2bd4a2b4fc4744a7d3fa88605ea595"
            ],
            "layout": "IPY_MODEL_70854d8b31184eb384ca2d30e60101bc"
          }
        },
        "e26c0810f70548a99cd7c238f3d1a76d": {
          "model_module": "@jupyter-widgets/controls",
          "model_name": "ToggleButtonsModel",
          "model_module_version": "1.5.0",
          "state": {
            "_dom_classes": [],
            "_model_module": "@jupyter-widgets/controls",
            "_model_module_version": "1.5.0",
            "_model_name": "ToggleButtonsModel",
            "_options_labels": [
              "Pipeline Plot",
              "Hyperparameters",
              "AUC",
              "Confusion Matrix",
              "Threshold",
              "Precision Recall",
              "Prediction Error",
              "Class Report",
              "Feature Selection",
              "Learning Curve",
              "Manifold Learning",
              "Calibration Curve",
              "Validation Curve",
              "Dimensions",
              "Feature Importance",
              "Feature Importance (All)",
              "Decision Boundary",
              "Lift Chart",
              "Gain Chart",
              "Decision Tree",
              "KS Statistic Plot"
            ],
            "_view_count": null,
            "_view_module": "@jupyter-widgets/controls",
            "_view_module_version": "1.5.0",
            "_view_name": "ToggleButtonsView",
            "button_style": "",
            "description": "Plot Type:",
            "description_tooltip": null,
            "disabled": false,
            "icons": [
              ""
            ],
            "index": 3,
            "layout": "IPY_MODEL_6bab23573234438597ddbdb853f5d752",
            "style": "IPY_MODEL_0b93d6b21307466e896d4c3dfc7f0bd6",
            "tooltips": []
          }
        },
        "1f2bd4a2b4fc4744a7d3fa88605ea595": {
          "model_module": "@jupyter-widgets/output",
          "model_name": "OutputModel",
          "model_module_version": "1.0.0",
          "state": {
            "_dom_classes": [],
            "_model_module": "@jupyter-widgets/output",
            "_model_module_version": "1.0.0",
            "_model_name": "OutputModel",
            "_view_count": null,
            "_view_module": "@jupyter-widgets/output",
            "_view_module_version": "1.0.0",
            "_view_name": "OutputView",
            "layout": "IPY_MODEL_ebbba7feaf1947a78b892293c1cd0d2a",
            "msg_id": "",
            "outputs": [
              {
                "output_type": "display_data",
                "data": {
                  "text/plain": "<Figure size 432x288 with 1 Axes>",
                  "image/png": "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\n"
                },
                "metadata": {
                  "needs_background": "light"
                }
              }
            ]
          }
        },
        "70854d8b31184eb384ca2d30e60101bc": {
          "model_module": "@jupyter-widgets/base",
          "model_name": "LayoutModel",
          "model_module_version": "1.2.0",
          "state": {
            "_model_module": "@jupyter-widgets/base",
            "_model_module_version": "1.2.0",
            "_model_name": "LayoutModel",
            "_view_count": null,
            "_view_module": "@jupyter-widgets/base",
            "_view_module_version": "1.2.0",
            "_view_name": "LayoutView",
            "align_content": null,
            "align_items": null,
            "align_self": null,
            "border": null,
            "bottom": null,
            "display": null,
            "flex": null,
            "flex_flow": null,
            "grid_area": null,
            "grid_auto_columns": null,
            "grid_auto_flow": null,
            "grid_auto_rows": null,
            "grid_column": null,
            "grid_gap": null,
            "grid_row": null,
            "grid_template_areas": null,
            "grid_template_columns": null,
            "grid_template_rows": null,
            "height": null,
            "justify_content": null,
            "justify_items": null,
            "left": null,
            "margin": null,
            "max_height": null,
            "max_width": null,
            "min_height": null,
            "min_width": null,
            "object_fit": null,
            "object_position": null,
            "order": null,
            "overflow": null,
            "overflow_x": null,
            "overflow_y": null,
            "padding": null,
            "right": null,
            "top": null,
            "visibility": null,
            "width": null
          }
        },
        "6bab23573234438597ddbdb853f5d752": {
          "model_module": "@jupyter-widgets/base",
          "model_name": "LayoutModel",
          "model_module_version": "1.2.0",
          "state": {
            "_model_module": "@jupyter-widgets/base",
            "_model_module_version": "1.2.0",
            "_model_name": "LayoutModel",
            "_view_count": null,
            "_view_module": "@jupyter-widgets/base",
            "_view_module_version": "1.2.0",
            "_view_name": "LayoutView",
            "align_content": null,
            "align_items": null,
            "align_self": null,
            "border": null,
            "bottom": null,
            "display": null,
            "flex": null,
            "flex_flow": null,
            "grid_area": null,
            "grid_auto_columns": null,
            "grid_auto_flow": null,
            "grid_auto_rows": null,
            "grid_column": null,
            "grid_gap": null,
            "grid_row": null,
            "grid_template_areas": null,
            "grid_template_columns": null,
            "grid_template_rows": null,
            "height": null,
            "justify_content": null,
            "justify_items": null,
            "left": null,
            "margin": null,
            "max_height": null,
            "max_width": null,
            "min_height": null,
            "min_width": null,
            "object_fit": null,
            "object_position": null,
            "order": null,
            "overflow": null,
            "overflow_x": null,
            "overflow_y": null,
            "padding": null,
            "right": null,
            "top": null,
            "visibility": null,
            "width": null
          }
        },
        "0b93d6b21307466e896d4c3dfc7f0bd6": {
          "model_module": "@jupyter-widgets/controls",
          "model_name": "ToggleButtonsStyleModel",
          "model_module_version": "1.5.0",
          "state": {
            "_model_module": "@jupyter-widgets/controls",
            "_model_module_version": "1.5.0",
            "_model_name": "ToggleButtonsStyleModel",
            "_view_count": null,
            "_view_module": "@jupyter-widgets/base",
            "_view_module_version": "1.2.0",
            "_view_name": "StyleView",
            "button_width": "",
            "description_width": "",
            "font_weight": ""
          }
        },
        "ebbba7feaf1947a78b892293c1cd0d2a": {
          "model_module": "@jupyter-widgets/base",
          "model_name": "LayoutModel",
          "model_module_version": "1.2.0",
          "state": {
            "_model_module": "@jupyter-widgets/base",
            "_model_module_version": "1.2.0",
            "_model_name": "LayoutModel",
            "_view_count": null,
            "_view_module": "@jupyter-widgets/base",
            "_view_module_version": "1.2.0",
            "_view_name": "LayoutView",
            "align_content": null,
            "align_items": null,
            "align_self": null,
            "border": null,
            "bottom": null,
            "display": null,
            "flex": null,
            "flex_flow": null,
            "grid_area": null,
            "grid_auto_columns": null,
            "grid_auto_flow": null,
            "grid_auto_rows": null,
            "grid_column": null,
            "grid_gap": null,
            "grid_row": null,
            "grid_template_areas": null,
            "grid_template_columns": null,
            "grid_template_rows": null,
            "height": null,
            "justify_content": null,
            "justify_items": null,
            "left": null,
            "margin": null,
            "max_height": null,
            "max_width": null,
            "min_height": null,
            "min_width": null,
            "object_fit": null,
            "object_position": null,
            "order": null,
            "overflow": null,
            "overflow_x": null,
            "overflow_y": null,
            "padding": null,
            "right": null,
            "top": null,
            "visibility": null,
            "width": null
          }
        },
        "5dccbdb1ebbd4a9da2d614afb86ff2ae": {
          "model_module": "@jupyter-widgets/controls",
          "model_name": "HBoxModel",
          "model_module_version": "1.5.0",
          "state": {
            "_dom_classes": [],
            "_model_module": "@jupyter-widgets/controls",
            "_model_module_version": "1.5.0",
            "_model_name": "HBoxModel",
            "_view_count": null,
            "_view_module": "@jupyter-widgets/controls",
            "_view_module_version": "1.5.0",
            "_view_name": "HBoxView",
            "box_style": "",
            "children": [
              "IPY_MODEL_a7183d1e27624c5394a65a87224acbaa",
              "IPY_MODEL_efe0d95d00d94f9fb40acabc9abd0fa1",
              "IPY_MODEL_c4f193860d0142a092912e597a2f95c1"
            ],
            "layout": "IPY_MODEL_211004eb43e44904bb0dcd1ad333fe86"
          }
        },
        "a7183d1e27624c5394a65a87224acbaa": {
          "model_module": "@jupyter-widgets/controls",
          "model_name": "HTMLModel",
          "model_module_version": "1.5.0",
          "state": {
            "_dom_classes": [],
            "_model_module": "@jupyter-widgets/controls",
            "_model_module_version": "1.5.0",
            "_model_name": "HTMLModel",
            "_view_count": null,
            "_view_module": "@jupyter-widgets/controls",
            "_view_module_version": "1.5.0",
            "_view_name": "HTMLView",
            "description": "",
            "description_tooltip": null,
            "layout": "IPY_MODEL_33214facdc594a98aa242411911491a8",
            "placeholder": "​",
            "style": "IPY_MODEL_841b35dd8587468299ee4d6b6fd39636",
            "value": "Processing: 100%"
          }
        },
        "efe0d95d00d94f9fb40acabc9abd0fa1": {
          "model_module": "@jupyter-widgets/controls",
          "model_name": "FloatProgressModel",
          "model_module_version": "1.5.0",
          "state": {
            "_dom_classes": [],
            "_model_module": "@jupyter-widgets/controls",
            "_model_module_version": "1.5.0",
            "_model_name": "FloatProgressModel",
            "_view_count": null,
            "_view_module": "@jupyter-widgets/controls",
            "_view_module_version": "1.5.0",
            "_view_name": "ProgressView",
            "bar_style": "",
            "description": "",
            "description_tooltip": null,
            "layout": "IPY_MODEL_3c5994ad035b4b619d53a53701ff34ed",
            "max": 4,
            "min": 0,
            "orientation": "horizontal",
            "style": "IPY_MODEL_5fca9ab8a09b4d12a60acad079193efd",
            "value": 4
          }
        },
        "c4f193860d0142a092912e597a2f95c1": {
          "model_module": "@jupyter-widgets/controls",
          "model_name": "HTMLModel",
          "model_module_version": "1.5.0",
          "state": {
            "_dom_classes": [],
            "_model_module": "@jupyter-widgets/controls",
            "_model_module_version": "1.5.0",
            "_model_name": "HTMLModel",
            "_view_count": null,
            "_view_module": "@jupyter-widgets/controls",
            "_view_module_version": "1.5.0",
            "_view_name": "HTMLView",
            "description": "",
            "description_tooltip": null,
            "layout": "IPY_MODEL_e5b2a446863f4c6d8d39873434488138",
            "placeholder": "​",
            "style": "IPY_MODEL_e2524f94a19342ccba5f87739c44cb18",
            "value": " 4/4 [00:37&lt;00:00,  8.79s/it]"
          }
        },
        "211004eb43e44904bb0dcd1ad333fe86": {
          "model_module": "@jupyter-widgets/base",
          "model_name": "LayoutModel",
          "model_module_version": "1.2.0",
          "state": {
            "_model_module": "@jupyter-widgets/base",
            "_model_module_version": "1.2.0",
            "_model_name": "LayoutModel",
            "_view_count": null,
            "_view_module": "@jupyter-widgets/base",
            "_view_module_version": "1.2.0",
            "_view_name": "LayoutView",
            "align_content": null,
            "align_items": null,
            "align_self": null,
            "border": null,
            "bottom": null,
            "display": null,
            "flex": null,
            "flex_flow": null,
            "grid_area": null,
            "grid_auto_columns": null,
            "grid_auto_flow": null,
            "grid_auto_rows": null,
            "grid_column": null,
            "grid_gap": null,
            "grid_row": null,
            "grid_template_areas": null,
            "grid_template_columns": null,
            "grid_template_rows": null,
            "height": null,
            "justify_content": null,
            "justify_items": null,
            "left": null,
            "margin": null,
            "max_height": null,
            "max_width": null,
            "min_height": null,
            "min_width": null,
            "object_fit": null,
            "object_position": null,
            "order": null,
            "overflow": null,
            "overflow_x": null,
            "overflow_y": null,
            "padding": null,
            "right": null,
            "top": null,
            "visibility": "hidden",
            "width": null
          }
        },
        "33214facdc594a98aa242411911491a8": {
          "model_module": "@jupyter-widgets/base",
          "model_name": "LayoutModel",
          "model_module_version": "1.2.0",
          "state": {
            "_model_module": "@jupyter-widgets/base",
            "_model_module_version": "1.2.0",
            "_model_name": "LayoutModel",
            "_view_count": null,
            "_view_module": "@jupyter-widgets/base",
            "_view_module_version": "1.2.0",
            "_view_name": "LayoutView",
            "align_content": null,
            "align_items": null,
            "align_self": null,
            "border": null,
            "bottom": null,
            "display": null,
            "flex": null,
            "flex_flow": null,
            "grid_area": null,
            "grid_auto_columns": null,
            "grid_auto_flow": null,
            "grid_auto_rows": null,
            "grid_column": null,
            "grid_gap": null,
            "grid_row": null,
            "grid_template_areas": null,
            "grid_template_columns": null,
            "grid_template_rows": null,
            "height": null,
            "justify_content": null,
            "justify_items": null,
            "left": null,
            "margin": null,
            "max_height": null,
            "max_width": null,
            "min_height": null,
            "min_width": null,
            "object_fit": null,
            "object_position": null,
            "order": null,
            "overflow": null,
            "overflow_x": null,
            "overflow_y": null,
            "padding": null,
            "right": null,
            "top": null,
            "visibility": null,
            "width": null
          }
        },
        "841b35dd8587468299ee4d6b6fd39636": {
          "model_module": "@jupyter-widgets/controls",
          "model_name": "DescriptionStyleModel",
          "model_module_version": "1.5.0",
          "state": {
            "_model_module": "@jupyter-widgets/controls",
            "_model_module_version": "1.5.0",
            "_model_name": "DescriptionStyleModel",
            "_view_count": null,
            "_view_module": "@jupyter-widgets/base",
            "_view_module_version": "1.2.0",
            "_view_name": "StyleView",
            "description_width": ""
          }
        },
        "3c5994ad035b4b619d53a53701ff34ed": {
          "model_module": "@jupyter-widgets/base",
          "model_name": "LayoutModel",
          "model_module_version": "1.2.0",
          "state": {
            "_model_module": "@jupyter-widgets/base",
            "_model_module_version": "1.2.0",
            "_model_name": "LayoutModel",
            "_view_count": null,
            "_view_module": "@jupyter-widgets/base",
            "_view_module_version": "1.2.0",
            "_view_name": "LayoutView",
            "align_content": null,
            "align_items": null,
            "align_self": null,
            "border": null,
            "bottom": null,
            "display": null,
            "flex": null,
            "flex_flow": null,
            "grid_area": null,
            "grid_auto_columns": null,
            "grid_auto_flow": null,
            "grid_auto_rows": null,
            "grid_column": null,
            "grid_gap": null,
            "grid_row": null,
            "grid_template_areas": null,
            "grid_template_columns": null,
            "grid_template_rows": null,
            "height": null,
            "justify_content": null,
            "justify_items": null,
            "left": null,
            "margin": null,
            "max_height": null,
            "max_width": null,
            "min_height": null,
            "min_width": null,
            "object_fit": null,
            "object_position": null,
            "order": null,
            "overflow": null,
            "overflow_x": null,
            "overflow_y": null,
            "padding": null,
            "right": null,
            "top": null,
            "visibility": null,
            "width": null
          }
        },
        "5fca9ab8a09b4d12a60acad079193efd": {
          "model_module": "@jupyter-widgets/controls",
          "model_name": "ProgressStyleModel",
          "model_module_version": "1.5.0",
          "state": {
            "_model_module": "@jupyter-widgets/controls",
            "_model_module_version": "1.5.0",
            "_model_name": "ProgressStyleModel",
            "_view_count": null,
            "_view_module": "@jupyter-widgets/base",
            "_view_module_version": "1.2.0",
            "_view_name": "StyleView",
            "bar_color": null,
            "description_width": ""
          }
        },
        "e5b2a446863f4c6d8d39873434488138": {
          "model_module": "@jupyter-widgets/base",
          "model_name": "LayoutModel",
          "model_module_version": "1.2.0",
          "state": {
            "_model_module": "@jupyter-widgets/base",
            "_model_module_version": "1.2.0",
            "_model_name": "LayoutModel",
            "_view_count": null,
            "_view_module": "@jupyter-widgets/base",
            "_view_module_version": "1.2.0",
            "_view_name": "LayoutView",
            "align_content": null,
            "align_items": null,
            "align_self": null,
            "border": null,
            "bottom": null,
            "display": null,
            "flex": null,
            "flex_flow": null,
            "grid_area": null,
            "grid_auto_columns": null,
            "grid_auto_flow": null,
            "grid_auto_rows": null,
            "grid_column": null,
            "grid_gap": null,
            "grid_row": null,
            "grid_template_areas": null,
            "grid_template_columns": null,
            "grid_template_rows": null,
            "height": null,
            "justify_content": null,
            "justify_items": null,
            "left": null,
            "margin": null,
            "max_height": null,
            "max_width": null,
            "min_height": null,
            "min_width": null,
            "object_fit": null,
            "object_position": null,
            "order": null,
            "overflow": null,
            "overflow_x": null,
            "overflow_y": null,
            "padding": null,
            "right": null,
            "top": null,
            "visibility": null,
            "width": null
          }
        },
        "e2524f94a19342ccba5f87739c44cb18": {
          "model_module": "@jupyter-widgets/controls",
          "model_name": "DescriptionStyleModel",
          "model_module_version": "1.5.0",
          "state": {
            "_model_module": "@jupyter-widgets/controls",
            "_model_module_version": "1.5.0",
            "_model_name": "DescriptionStyleModel",
            "_view_count": null,
            "_view_module": "@jupyter-widgets/base",
            "_view_module_version": "1.2.0",
            "_view_name": "StyleView",
            "description_width": ""
          }
        },
        "d30b929835e744cba13cf10d1de687aa": {
          "model_module": "@jupyter-widgets/controls",
          "model_name": "HBoxModel",
          "model_module_version": "1.5.0",
          "state": {
            "_dom_classes": [],
            "_model_module": "@jupyter-widgets/controls",
            "_model_module_version": "1.5.0",
            "_model_name": "HBoxModel",
            "_view_count": null,
            "_view_module": "@jupyter-widgets/controls",
            "_view_module_version": "1.5.0",
            "_view_name": "HBoxView",
            "box_style": "",
            "children": [
              "IPY_MODEL_68598109d9b24ab6af0af20698096f3c",
              "IPY_MODEL_d6009733e1b0402a8fdce906c15b2d55",
              "IPY_MODEL_fc9aa1cc2eea40518276047b23085ee8"
            ],
            "layout": "IPY_MODEL_6c09cce502174f899ab7b55f3400b956"
          }
        },
        "68598109d9b24ab6af0af20698096f3c": {
          "model_module": "@jupyter-widgets/controls",
          "model_name": "HTMLModel",
          "model_module_version": "1.5.0",
          "state": {
            "_dom_classes": [],
            "_model_module": "@jupyter-widgets/controls",
            "_model_module_version": "1.5.0",
            "_model_name": "HTMLModel",
            "_view_count": null,
            "_view_module": "@jupyter-widgets/controls",
            "_view_module_version": "1.5.0",
            "_view_name": "HTMLView",
            "description": "",
            "description_tooltip": null,
            "layout": "IPY_MODEL_dc300b0eac9842bc9c38c4d883585149",
            "placeholder": "​",
            "style": "IPY_MODEL_281f0dbc78cb424fa724bb4dde564777",
            "value": "Processing: 100%"
          }
        },
        "d6009733e1b0402a8fdce906c15b2d55": {
          "model_module": "@jupyter-widgets/controls",
          "model_name": "FloatProgressModel",
          "model_module_version": "1.5.0",
          "state": {
            "_dom_classes": [],
            "_model_module": "@jupyter-widgets/controls",
            "_model_module_version": "1.5.0",
            "_model_name": "FloatProgressModel",
            "_view_count": null,
            "_view_module": "@jupyter-widgets/controls",
            "_view_module_version": "1.5.0",
            "_view_name": "ProgressView",
            "bar_style": "",
            "description": "",
            "description_tooltip": null,
            "layout": "IPY_MODEL_cce543f22f2e4594bf401a9f02b5ce66",
            "max": 7,
            "min": 0,
            "orientation": "horizontal",
            "style": "IPY_MODEL_982afe22db634fe9b1fb55520eae5433",
            "value": 7
          }
        },
        "fc9aa1cc2eea40518276047b23085ee8": {
          "model_module": "@jupyter-widgets/controls",
          "model_name": "HTMLModel",
          "model_module_version": "1.5.0",
          "state": {
            "_dom_classes": [],
            "_model_module": "@jupyter-widgets/controls",
            "_model_module_version": "1.5.0",
            "_model_name": "HTMLModel",
            "_view_count": null,
            "_view_module": "@jupyter-widgets/controls",
            "_view_module_version": "1.5.0",
            "_view_name": "HTMLView",
            "description": "",
            "description_tooltip": null,
            "layout": "IPY_MODEL_ed2a80e1afab40c09fd5ed8526bc9e50",
            "placeholder": "​",
            "style": "IPY_MODEL_10a9fbc138ef49a58c10241651977abb",
            "value": " 7/7 [04:35&lt;00:00, 31.11s/it]"
          }
        },
        "6c09cce502174f899ab7b55f3400b956": {
          "model_module": "@jupyter-widgets/base",
          "model_name": "LayoutModel",
          "model_module_version": "1.2.0",
          "state": {
            "_model_module": "@jupyter-widgets/base",
            "_model_module_version": "1.2.0",
            "_model_name": "LayoutModel",
            "_view_count": null,
            "_view_module": "@jupyter-widgets/base",
            "_view_module_version": "1.2.0",
            "_view_name": "LayoutView",
            "align_content": null,
            "align_items": null,
            "align_self": null,
            "border": null,
            "bottom": null,
            "display": null,
            "flex": null,
            "flex_flow": null,
            "grid_area": null,
            "grid_auto_columns": null,
            "grid_auto_flow": null,
            "grid_auto_rows": null,
            "grid_column": null,
            "grid_gap": null,
            "grid_row": null,
            "grid_template_areas": null,
            "grid_template_columns": null,
            "grid_template_rows": null,
            "height": null,
            "justify_content": null,
            "justify_items": null,
            "left": null,
            "margin": null,
            "max_height": null,
            "max_width": null,
            "min_height": null,
            "min_width": null,
            "object_fit": null,
            "object_position": null,
            "order": null,
            "overflow": null,
            "overflow_x": null,
            "overflow_y": null,
            "padding": null,
            "right": null,
            "top": null,
            "visibility": "hidden",
            "width": null
          }
        },
        "dc300b0eac9842bc9c38c4d883585149": {
          "model_module": "@jupyter-widgets/base",
          "model_name": "LayoutModel",
          "model_module_version": "1.2.0",
          "state": {
            "_model_module": "@jupyter-widgets/base",
            "_model_module_version": "1.2.0",
            "_model_name": "LayoutModel",
            "_view_count": null,
            "_view_module": "@jupyter-widgets/base",
            "_view_module_version": "1.2.0",
            "_view_name": "LayoutView",
            "align_content": null,
            "align_items": null,
            "align_self": null,
            "border": null,
            "bottom": null,
            "display": null,
            "flex": null,
            "flex_flow": null,
            "grid_area": null,
            "grid_auto_columns": null,
            "grid_auto_flow": null,
            "grid_auto_rows": null,
            "grid_column": null,
            "grid_gap": null,
            "grid_row": null,
            "grid_template_areas": null,
            "grid_template_columns": null,
            "grid_template_rows": null,
            "height": null,
            "justify_content": null,
            "justify_items": null,
            "left": null,
            "margin": null,
            "max_height": null,
            "max_width": null,
            "min_height": null,
            "min_width": null,
            "object_fit": null,
            "object_position": null,
            "order": null,
            "overflow": null,
            "overflow_x": null,
            "overflow_y": null,
            "padding": null,
            "right": null,
            "top": null,
            "visibility": null,
            "width": null
          }
        },
        "281f0dbc78cb424fa724bb4dde564777": {
          "model_module": "@jupyter-widgets/controls",
          "model_name": "DescriptionStyleModel",
          "model_module_version": "1.5.0",
          "state": {
            "_model_module": "@jupyter-widgets/controls",
            "_model_module_version": "1.5.0",
            "_model_name": "DescriptionStyleModel",
            "_view_count": null,
            "_view_module": "@jupyter-widgets/base",
            "_view_module_version": "1.2.0",
            "_view_name": "StyleView",
            "description_width": ""
          }
        },
        "cce543f22f2e4594bf401a9f02b5ce66": {
          "model_module": "@jupyter-widgets/base",
          "model_name": "LayoutModel",
          "model_module_version": "1.2.0",
          "state": {
            "_model_module": "@jupyter-widgets/base",
            "_model_module_version": "1.2.0",
            "_model_name": "LayoutModel",
            "_view_count": null,
            "_view_module": "@jupyter-widgets/base",
            "_view_module_version": "1.2.0",
            "_view_name": "LayoutView",
            "align_content": null,
            "align_items": null,
            "align_self": null,
            "border": null,
            "bottom": null,
            "display": null,
            "flex": null,
            "flex_flow": null,
            "grid_area": null,
            "grid_auto_columns": null,
            "grid_auto_flow": null,
            "grid_auto_rows": null,
            "grid_column": null,
            "grid_gap": null,
            "grid_row": null,
            "grid_template_areas": null,
            "grid_template_columns": null,
            "grid_template_rows": null,
            "height": null,
            "justify_content": null,
            "justify_items": null,
            "left": null,
            "margin": null,
            "max_height": null,
            "max_width": null,
            "min_height": null,
            "min_width": null,
            "object_fit": null,
            "object_position": null,
            "order": null,
            "overflow": null,
            "overflow_x": null,
            "overflow_y": null,
            "padding": null,
            "right": null,
            "top": null,
            "visibility": null,
            "width": null
          }
        },
        "982afe22db634fe9b1fb55520eae5433": {
          "model_module": "@jupyter-widgets/controls",
          "model_name": "ProgressStyleModel",
          "model_module_version": "1.5.0",
          "state": {
            "_model_module": "@jupyter-widgets/controls",
            "_model_module_version": "1.5.0",
            "_model_name": "ProgressStyleModel",
            "_view_count": null,
            "_view_module": "@jupyter-widgets/base",
            "_view_module_version": "1.2.0",
            "_view_name": "StyleView",
            "bar_color": null,
            "description_width": ""
          }
        },
        "ed2a80e1afab40c09fd5ed8526bc9e50": {
          "model_module": "@jupyter-widgets/base",
          "model_name": "LayoutModel",
          "model_module_version": "1.2.0",
          "state": {
            "_model_module": "@jupyter-widgets/base",
            "_model_module_version": "1.2.0",
            "_model_name": "LayoutModel",
            "_view_count": null,
            "_view_module": "@jupyter-widgets/base",
            "_view_module_version": "1.2.0",
            "_view_name": "LayoutView",
            "align_content": null,
            "align_items": null,
            "align_self": null,
            "border": null,
            "bottom": null,
            "display": null,
            "flex": null,
            "flex_flow": null,
            "grid_area": null,
            "grid_auto_columns": null,
            "grid_auto_flow": null,
            "grid_auto_rows": null,
            "grid_column": null,
            "grid_gap": null,
            "grid_row": null,
            "grid_template_areas": null,
            "grid_template_columns": null,
            "grid_template_rows": null,
            "height": null,
            "justify_content": null,
            "justify_items": null,
            "left": null,
            "margin": null,
            "max_height": null,
            "max_width": null,
            "min_height": null,
            "min_width": null,
            "object_fit": null,
            "object_position": null,
            "order": null,
            "overflow": null,
            "overflow_x": null,
            "overflow_y": null,
            "padding": null,
            "right": null,
            "top": null,
            "visibility": null,
            "width": null
          }
        },
        "10a9fbc138ef49a58c10241651977abb": {
          "model_module": "@jupyter-widgets/controls",
          "model_name": "DescriptionStyleModel",
          "model_module_version": "1.5.0",
          "state": {
            "_model_module": "@jupyter-widgets/controls",
            "_model_module_version": "1.5.0",
            "_model_name": "DescriptionStyleModel",
            "_view_count": null,
            "_view_module": "@jupyter-widgets/base",
            "_view_module_version": "1.2.0",
            "_view_name": "StyleView",
            "description_width": ""
          }
        },
        "ac765a29741d4badb0ea7aec646e0ceb": {
          "model_module": "@jupyter-widgets/controls",
          "model_name": "VBoxModel",
          "model_module_version": "1.5.0",
          "state": {
            "_dom_classes": [
              "widget-interact"
            ],
            "_model_module": "@jupyter-widgets/controls",
            "_model_module_version": "1.5.0",
            "_model_name": "VBoxModel",
            "_view_count": null,
            "_view_module": "@jupyter-widgets/controls",
            "_view_module_version": "1.5.0",
            "_view_name": "VBoxView",
            "box_style": "",
            "children": [
              "IPY_MODEL_60cb5af379b845659fdc2fff5abfa293",
              "IPY_MODEL_185a961e051f49ae95d6d58b10ba6d87"
            ],
            "layout": "IPY_MODEL_8bd1cc220b7842ab89f84c842962a024"
          }
        },
        "60cb5af379b845659fdc2fff5abfa293": {
          "model_module": "@jupyter-widgets/controls",
          "model_name": "ToggleButtonsModel",
          "model_module_version": "1.5.0",
          "state": {
            "_dom_classes": [],
            "_model_module": "@jupyter-widgets/controls",
            "_model_module_version": "1.5.0",
            "_model_name": "ToggleButtonsModel",
            "_options_labels": [
              "Pipeline Plot",
              "Hyperparameters",
              "AUC",
              "Confusion Matrix",
              "Threshold",
              "Precision Recall",
              "Prediction Error",
              "Class Report",
              "Feature Selection",
              "Learning Curve",
              "Manifold Learning",
              "Calibration Curve",
              "Validation Curve",
              "Dimensions",
              "Feature Importance",
              "Feature Importance (All)",
              "Decision Boundary",
              "Lift Chart",
              "Gain Chart",
              "Decision Tree",
              "KS Statistic Plot"
            ],
            "_view_count": null,
            "_view_module": "@jupyter-widgets/controls",
            "_view_module_version": "1.5.0",
            "_view_name": "ToggleButtonsView",
            "button_style": "",
            "description": "Plot Type:",
            "description_tooltip": null,
            "disabled": false,
            "icons": [
              ""
            ],
            "index": 0,
            "layout": "IPY_MODEL_2632ee4ff9c642a3ade9b9a2ae63a37b",
            "style": "IPY_MODEL_a6b356d5620a4eb59866f202cbe66a3e",
            "tooltips": []
          }
        },
        "185a961e051f49ae95d6d58b10ba6d87": {
          "model_module": "@jupyter-widgets/output",
          "model_name": "OutputModel",
          "model_module_version": "1.0.0",
          "state": {
            "_dom_classes": [],
            "_model_module": "@jupyter-widgets/output",
            "_model_module_version": "1.0.0",
            "_model_name": "OutputModel",
            "_view_count": null,
            "_view_module": "@jupyter-widgets/output",
            "_view_module_version": "1.0.0",
            "_view_name": "OutputView",
            "layout": "IPY_MODEL_7b9c4a6b3d844ee78d390f5ae4590f5e",
            "msg_id": "",
            "outputs": [
              {
                "output_type": "display_data",
                "data": {
                  "text/plain": "<Figure size 3700x600 with 1 Axes>",
                  "image/png": "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\n"
                },
                "metadata": {
                  "needs_background": "light"
                }
              }
            ]
          }
        },
        "8bd1cc220b7842ab89f84c842962a024": {
          "model_module": "@jupyter-widgets/base",
          "model_name": "LayoutModel",
          "model_module_version": "1.2.0",
          "state": {
            "_model_module": "@jupyter-widgets/base",
            "_model_module_version": "1.2.0",
            "_model_name": "LayoutModel",
            "_view_count": null,
            "_view_module": "@jupyter-widgets/base",
            "_view_module_version": "1.2.0",
            "_view_name": "LayoutView",
            "align_content": null,
            "align_items": null,
            "align_self": null,
            "border": null,
            "bottom": null,
            "display": null,
            "flex": null,
            "flex_flow": null,
            "grid_area": null,
            "grid_auto_columns": null,
            "grid_auto_flow": null,
            "grid_auto_rows": null,
            "grid_column": null,
            "grid_gap": null,
            "grid_row": null,
            "grid_template_areas": null,
            "grid_template_columns": null,
            "grid_template_rows": null,
            "height": null,
            "justify_content": null,
            "justify_items": null,
            "left": null,
            "margin": null,
            "max_height": null,
            "max_width": null,
            "min_height": null,
            "min_width": null,
            "object_fit": null,
            "object_position": null,
            "order": null,
            "overflow": null,
            "overflow_x": null,
            "overflow_y": null,
            "padding": null,
            "right": null,
            "top": null,
            "visibility": null,
            "width": null
          }
        },
        "2632ee4ff9c642a3ade9b9a2ae63a37b": {
          "model_module": "@jupyter-widgets/base",
          "model_name": "LayoutModel",
          "model_module_version": "1.2.0",
          "state": {
            "_model_module": "@jupyter-widgets/base",
            "_model_module_version": "1.2.0",
            "_model_name": "LayoutModel",
            "_view_count": null,
            "_view_module": "@jupyter-widgets/base",
            "_view_module_version": "1.2.0",
            "_view_name": "LayoutView",
            "align_content": null,
            "align_items": null,
            "align_self": null,
            "border": null,
            "bottom": null,
            "display": null,
            "flex": null,
            "flex_flow": null,
            "grid_area": null,
            "grid_auto_columns": null,
            "grid_auto_flow": null,
            "grid_auto_rows": null,
            "grid_column": null,
            "grid_gap": null,
            "grid_row": null,
            "grid_template_areas": null,
            "grid_template_columns": null,
            "grid_template_rows": null,
            "height": null,
            "justify_content": null,
            "justify_items": null,
            "left": null,
            "margin": null,
            "max_height": null,
            "max_width": null,
            "min_height": null,
            "min_width": null,
            "object_fit": null,
            "object_position": null,
            "order": null,
            "overflow": null,
            "overflow_x": null,
            "overflow_y": null,
            "padding": null,
            "right": null,
            "top": null,
            "visibility": null,
            "width": null
          }
        },
        "a6b356d5620a4eb59866f202cbe66a3e": {
          "model_module": "@jupyter-widgets/controls",
          "model_name": "ToggleButtonsStyleModel",
          "model_module_version": "1.5.0",
          "state": {
            "_model_module": "@jupyter-widgets/controls",
            "_model_module_version": "1.5.0",
            "_model_name": "ToggleButtonsStyleModel",
            "_view_count": null,
            "_view_module": "@jupyter-widgets/base",
            "_view_module_version": "1.2.0",
            "_view_name": "StyleView",
            "button_width": "",
            "description_width": "",
            "font_weight": ""
          }
        },
        "7b9c4a6b3d844ee78d390f5ae4590f5e": {
          "model_module": "@jupyter-widgets/base",
          "model_name": "LayoutModel",
          "model_module_version": "1.2.0",
          "state": {
            "_model_module": "@jupyter-widgets/base",
            "_model_module_version": "1.2.0",
            "_model_name": "LayoutModel",
            "_view_count": null,
            "_view_module": "@jupyter-widgets/base",
            "_view_module_version": "1.2.0",
            "_view_name": "LayoutView",
            "align_content": null,
            "align_items": null,
            "align_self": null,
            "border": null,
            "bottom": null,
            "display": null,
            "flex": null,
            "flex_flow": null,
            "grid_area": null,
            "grid_auto_columns": null,
            "grid_auto_flow": null,
            "grid_auto_rows": null,
            "grid_column": null,
            "grid_gap": null,
            "grid_row": null,
            "grid_template_areas": null,
            "grid_template_columns": null,
            "grid_template_rows": null,
            "height": null,
            "justify_content": null,
            "justify_items": null,
            "left": null,
            "margin": null,
            "max_height": null,
            "max_width": null,
            "min_height": null,
            "min_width": null,
            "object_fit": null,
            "object_position": null,
            "order": null,
            "overflow": null,
            "overflow_x": null,
            "overflow_y": null,
            "padding": null,
            "right": null,
            "top": null,
            "visibility": null,
            "width": null
          }
        },
        "f1b635f5f03d4cf3a50d1ac0c04ee4f4": {
          "model_module": "@jupyter-widgets/controls",
          "model_name": "VBoxModel",
          "model_module_version": "1.5.0",
          "state": {
            "_dom_classes": [
              "widget-interact"
            ],
            "_model_module": "@jupyter-widgets/controls",
            "_model_module_version": "1.5.0",
            "_model_name": "VBoxModel",
            "_view_count": null,
            "_view_module": "@jupyter-widgets/controls",
            "_view_module_version": "1.5.0",
            "_view_name": "VBoxView",
            "box_style": "",
            "children": [
              "IPY_MODEL_422579b525124f208f092c68f46cad08",
              "IPY_MODEL_90ca10d7b8ad49f08fbf775eefa0bb9f"
            ],
            "layout": "IPY_MODEL_01759a33cad64c94bc6446513908a024"
          }
        },
        "422579b525124f208f092c68f46cad08": {
          "model_module": "@jupyter-widgets/controls",
          "model_name": "ToggleButtonsModel",
          "model_module_version": "1.5.0",
          "state": {
            "_dom_classes": [],
            "_model_module": "@jupyter-widgets/controls",
            "_model_module_version": "1.5.0",
            "_model_name": "ToggleButtonsModel",
            "_options_labels": [
              "Pipeline Plot",
              "Hyperparameters",
              "AUC",
              "Confusion Matrix",
              "Threshold",
              "Precision Recall",
              "Prediction Error",
              "Class Report",
              "Feature Selection",
              "Learning Curve",
              "Manifold Learning",
              "Calibration Curve",
              "Validation Curve",
              "Dimensions",
              "Feature Importance",
              "Feature Importance (All)",
              "Decision Boundary",
              "Lift Chart",
              "Gain Chart",
              "Decision Tree",
              "KS Statistic Plot"
            ],
            "_view_count": null,
            "_view_module": "@jupyter-widgets/controls",
            "_view_module_version": "1.5.0",
            "_view_name": "ToggleButtonsView",
            "button_style": "",
            "description": "Plot Type:",
            "description_tooltip": null,
            "disabled": false,
            "icons": [
              ""
            ],
            "index": 0,
            "layout": "IPY_MODEL_8f698cdd7bd7427db0c2c20b4c5be88e",
            "style": "IPY_MODEL_ba9e2bc1b0ca49f3bb14a8ca8dd954e7",
            "tooltips": []
          }
        },
        "90ca10d7b8ad49f08fbf775eefa0bb9f": {
          "model_module": "@jupyter-widgets/output",
          "model_name": "OutputModel",
          "model_module_version": "1.0.0",
          "state": {
            "_dom_classes": [],
            "_model_module": "@jupyter-widgets/output",
            "_model_module_version": "1.0.0",
            "_model_name": "OutputModel",
            "_view_count": null,
            "_view_module": "@jupyter-widgets/output",
            "_view_module_version": "1.0.0",
            "_view_name": "OutputView",
            "layout": "IPY_MODEL_10356b5e52424fed98fd57beb545bf49",
            "msg_id": "",
            "outputs": [
              {
                "output_type": "display_data",
                "data": {
                  "text/plain": "<Figure size 3700x600 with 1 Axes>",
                  "image/png": "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\n"
                },
                "metadata": {
                  "needs_background": "light"
                }
              }
            ]
          }
        },
        "01759a33cad64c94bc6446513908a024": {
          "model_module": "@jupyter-widgets/base",
          "model_name": "LayoutModel",
          "model_module_version": "1.2.0",
          "state": {
            "_model_module": "@jupyter-widgets/base",
            "_model_module_version": "1.2.0",
            "_model_name": "LayoutModel",
            "_view_count": null,
            "_view_module": "@jupyter-widgets/base",
            "_view_module_version": "1.2.0",
            "_view_name": "LayoutView",
            "align_content": null,
            "align_items": null,
            "align_self": null,
            "border": null,
            "bottom": null,
            "display": null,
            "flex": null,
            "flex_flow": null,
            "grid_area": null,
            "grid_auto_columns": null,
            "grid_auto_flow": null,
            "grid_auto_rows": null,
            "grid_column": null,
            "grid_gap": null,
            "grid_row": null,
            "grid_template_areas": null,
            "grid_template_columns": null,
            "grid_template_rows": null,
            "height": null,
            "justify_content": null,
            "justify_items": null,
            "left": null,
            "margin": null,
            "max_height": null,
            "max_width": null,
            "min_height": null,
            "min_width": null,
            "object_fit": null,
            "object_position": null,
            "order": null,
            "overflow": null,
            "overflow_x": null,
            "overflow_y": null,
            "padding": null,
            "right": null,
            "top": null,
            "visibility": null,
            "width": null
          }
        },
        "8f698cdd7bd7427db0c2c20b4c5be88e": {
          "model_module": "@jupyter-widgets/base",
          "model_name": "LayoutModel",
          "model_module_version": "1.2.0",
          "state": {
            "_model_module": "@jupyter-widgets/base",
            "_model_module_version": "1.2.0",
            "_model_name": "LayoutModel",
            "_view_count": null,
            "_view_module": "@jupyter-widgets/base",
            "_view_module_version": "1.2.0",
            "_view_name": "LayoutView",
            "align_content": null,
            "align_items": null,
            "align_self": null,
            "border": null,
            "bottom": null,
            "display": null,
            "flex": null,
            "flex_flow": null,
            "grid_area": null,
            "grid_auto_columns": null,
            "grid_auto_flow": null,
            "grid_auto_rows": null,
            "grid_column": null,
            "grid_gap": null,
            "grid_row": null,
            "grid_template_areas": null,
            "grid_template_columns": null,
            "grid_template_rows": null,
            "height": null,
            "justify_content": null,
            "justify_items": null,
            "left": null,
            "margin": null,
            "max_height": null,
            "max_width": null,
            "min_height": null,
            "min_width": null,
            "object_fit": null,
            "object_position": null,
            "order": null,
            "overflow": null,
            "overflow_x": null,
            "overflow_y": null,
            "padding": null,
            "right": null,
            "top": null,
            "visibility": null,
            "width": null
          }
        },
        "ba9e2bc1b0ca49f3bb14a8ca8dd954e7": {
          "model_module": "@jupyter-widgets/controls",
          "model_name": "ToggleButtonsStyleModel",
          "model_module_version": "1.5.0",
          "state": {
            "_model_module": "@jupyter-widgets/controls",
            "_model_module_version": "1.5.0",
            "_model_name": "ToggleButtonsStyleModel",
            "_view_count": null,
            "_view_module": "@jupyter-widgets/base",
            "_view_module_version": "1.2.0",
            "_view_name": "StyleView",
            "button_width": "",
            "description_width": "",
            "font_weight": ""
          }
        },
        "10356b5e52424fed98fd57beb545bf49": {
          "model_module": "@jupyter-widgets/base",
          "model_name": "LayoutModel",
          "model_module_version": "1.2.0",
          "state": {
            "_model_module": "@jupyter-widgets/base",
            "_model_module_version": "1.2.0",
            "_model_name": "LayoutModel",
            "_view_count": null,
            "_view_module": "@jupyter-widgets/base",
            "_view_module_version": "1.2.0",
            "_view_name": "LayoutView",
            "align_content": null,
            "align_items": null,
            "align_self": null,
            "border": null,
            "bottom": null,
            "display": null,
            "flex": null,
            "flex_flow": null,
            "grid_area": null,
            "grid_auto_columns": null,
            "grid_auto_flow": null,
            "grid_auto_rows": null,
            "grid_column": null,
            "grid_gap": null,
            "grid_row": null,
            "grid_template_areas": null,
            "grid_template_columns": null,
            "grid_template_rows": null,
            "height": null,
            "justify_content": null,
            "justify_items": null,
            "left": null,
            "margin": null,
            "max_height": null,
            "max_width": null,
            "min_height": null,
            "min_width": null,
            "object_fit": null,
            "object_position": null,
            "order": null,
            "overflow": null,
            "overflow_x": null,
            "overflow_y": null,
            "padding": null,
            "right": null,
            "top": null,
            "visibility": null,
            "width": null
          }
        }
      }
    }
  },
  "nbformat": 4,
  "nbformat_minor": 0
}