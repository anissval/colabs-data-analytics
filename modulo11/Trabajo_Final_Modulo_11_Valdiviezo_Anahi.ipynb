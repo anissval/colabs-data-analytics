{
  "cells": [
    {
      "cell_type": "markdown",
      "metadata": {
        "id": "view-in-github",
        "colab_type": "text"
      },
      "source": [
        "<a href=\"https://colab.research.google.com/github/anissval/colabs-data-analytics-/blob/main/modulo11/Trabajo_Final_Modulo_11_Valdiviezo_Anahi.ipynb\" target=\"_parent\"><img src=\"https://colab.research.google.com/assets/colab-badge.svg\" alt=\"Open In Colab\"/></a>"
      ]
    },
    {
      "cell_type": "markdown",
      "metadata": {
        "id": "WXtbqctppcSx"
      },
      "source": [
        "![logo](https://github.com/cristiandarioortegayubro/BA/blob/main/dba.png?raw=true)"
      ]
    },
    {
      "cell_type": "markdown",
      "metadata": {
        "id": "IEyDsUOkWQKr"
      },
      "source": [
        "# **Trabajo Final - Módulo 11 - Aprendizaje Automático - Machine Learning - Clustering**"
      ]
    },
    {
      "cell_type": "markdown",
      "metadata": {
        "id": "t48pOdVapv3d"
      },
      "source": [
        "![logo](https://www.python.org/static/community_logos/python-powered-w-100x40.png)"
      ]
    },
    {
      "cell_type": "markdown",
      "metadata": {
        "id": "7R-FXvTAuljZ"
      },
      "source": [
        "~~~\n",
        "Valdiviezo Anahi\n",
        "~~~"
      ]
    },
    {
      "cell_type": "markdown",
      "metadata": {
        "id": "DLcld0B3-V_z"
      },
      "source": [
        "**Instrucciones**\n",
        "\n",
        "El conjunto de datos contiene información sobre los clientes de un centro comercial. Se desea utilziar un modelo de Agrupación para crear clusters y tomar una decisión comercial con cada grupo de clientes que ayude a mejorar la relación con el cliente y el monto de dinero que gastan en el centro comercial.\n",
        "\n",
        "- Desarrollar los puntos necesarios para generar el modelo de Agrupación.\n",
        "- Puede generar graficos en cualquier instancia del desarrollo.\n",
        "- Al final del colab, generar una breve conclusión sobre decisiones a tomar con cada cluster."
      ]
    },
    {
      "cell_type": "markdown",
      "metadata": {
        "id": "ZwJxBrO5OKYx"
      },
      "source": [
        "# **Carga de módulos y datos necesarios**"
      ]
    },
    {
      "cell_type": "markdown",
      "metadata": {
        "id": "HRcuyd39FLKR"
      },
      "source": [
        "# **Instalando Pycaret**"
      ]
    },
    {
      "cell_type": "code",
      "execution_count": 1,
      "metadata": {
        "colab": {
          "base_uri": "https://localhost:8080/"
        },
        "id": "bClzU_9WFO_D",
        "outputId": "9cf3651a-2add-4f6a-c038-391b0ad3a25a"
      },
      "outputs": [
        {
          "output_type": "stream",
          "name": "stdout",
          "text": [
            "Looking in indexes: https://pypi.org/simple, https://us-python.pkg.dev/colab-wheels/public/simple/\n",
            "Requirement already satisfied: pycaret[full] in /usr/local/lib/python3.7/dist-packages (3.0.0rc4)\n",
            "Requirement already satisfied: numba~=0.55.0 in /usr/local/lib/python3.7/dist-packages (from pycaret[full]) (0.55.2)\n",
            "Requirement already satisfied: psutil>=5.9.0 in /usr/local/lib/python3.7/dist-packages (from pycaret[full]) (5.9.4)\n",
            "Requirement already satisfied: scikit-learn>=1.0 in /usr/local/lib/python3.7/dist-packages (from pycaret[full]) (1.0.2)\n",
            "Requirement already satisfied: scikit-plot>=0.3.7 in /usr/local/lib/python3.7/dist-packages (from pycaret[full]) (0.3.7)\n",
            "Requirement already satisfied: ipywidgets>=7.6.5 in /usr/local/lib/python3.7/dist-packages (from pycaret[full]) (7.7.1)\n",
            "Requirement already satisfied: pandas<1.5.0,>=1.3.0 in /usr/local/lib/python3.7/dist-packages (from pycaret[full]) (1.3.5)\n",
            "Requirement already satisfied: category-encoders>=2.4.0 in /usr/local/lib/python3.7/dist-packages (from pycaret[full]) (2.5.1.post0)\n",
            "Requirement already satisfied: tqdm>=4.62.0 in /usr/local/lib/python3.7/dist-packages (from pycaret[full]) (4.64.1)\n",
            "Requirement already satisfied: yellowbrick>=1.4 in /usr/local/lib/python3.7/dist-packages (from pycaret[full]) (1.5)\n",
            "Requirement already satisfied: statsmodels>=0.12.1 in /usr/local/lib/python3.7/dist-packages (from pycaret[full]) (0.13.5)\n",
            "Requirement already satisfied: schemdraw>=0.14 in /usr/local/lib/python3.7/dist-packages (from pycaret[full]) (0.15)\n",
            "Requirement already satisfied: pmdarima!=1.8.1,<2.0.0,>=1.8.0 in /usr/local/lib/python3.7/dist-packages (from pycaret[full]) (1.8.5)\n",
            "Requirement already satisfied: ipython>=5.5.0 in /usr/local/lib/python3.7/dist-packages (from pycaret[full]) (7.9.0)\n",
            "Requirement already satisfied: pyod>=0.9.8 in /usr/local/lib/python3.7/dist-packages (from pycaret[full]) (1.0.6)\n",
            "Requirement already satisfied: tbats>=1.1.0 in /usr/local/lib/python3.7/dist-packages (from pycaret[full]) (1.1.1)\n",
            "Requirement already satisfied: kaleido>=0.2.1 in /usr/local/lib/python3.7/dist-packages (from pycaret[full]) (0.2.1)\n",
            "Requirement already satisfied: markupsafe>=2.0.1 in /usr/local/lib/python3.7/dist-packages (from pycaret[full]) (2.0.1)\n",
            "Requirement already satisfied: matplotlib>=3.3.0 in /usr/local/lib/python3.7/dist-packages (from pycaret[full]) (3.5.3)\n",
            "Requirement already satisfied: jinja2>=1.2 in /usr/local/lib/python3.7/dist-packages (from pycaret[full]) (3.0.0)\n",
            "Requirement already satisfied: importlib-metadata>=4.12.0 in /usr/local/lib/python3.7/dist-packages (from pycaret[full]) (4.13.0)\n",
            "Requirement already satisfied: scipy<1.9.0 in /usr/local/lib/python3.7/dist-packages (from pycaret[full]) (1.7.3)\n",
            "Requirement already satisfied: plotly>=5.0.0 in /usr/local/lib/python3.7/dist-packages (from pycaret[full]) (5.5.0)\n",
            "Requirement already satisfied: requests>=2.27.1 in /usr/local/lib/python3.7/dist-packages (from pycaret[full]) (2.28.1)\n",
            "Requirement already satisfied: imbalanced-learn>=0.8.1 in /usr/local/lib/python3.7/dist-packages (from pycaret[full]) (0.8.1)\n",
            "Requirement already satisfied: lightgbm>=3.0.0 in /usr/local/lib/python3.7/dist-packages (from pycaret[full]) (3.3.3)\n",
            "Requirement already satisfied: joblib>=1.1.0 in /usr/local/lib/python3.7/dist-packages (from pycaret[full]) (1.2.0)\n",
            "Requirement already satisfied: plotly-resampler>=0.7.2.2 in /usr/local/lib/python3.7/dist-packages (from pycaret[full]) (0.8.2rc3)\n",
            "Requirement already satisfied: numpy<1.23,>=1.21 in /usr/local/lib/python3.7/dist-packages (from pycaret[full]) (1.21.6)\n",
            "Requirement already satisfied: sktime~=0.13.2 in /usr/local/lib/python3.7/dist-packages (from pycaret[full]) (0.13.4)\n",
            "Requirement already satisfied: uvicorn>=0.17.6 in /usr/local/lib/python3.7/dist-packages (from pycaret[full]) (0.19.0)\n",
            "Requirement already satisfied: moto>=3.0.7 in /usr/local/lib/python3.7/dist-packages (from pycaret[full]) (4.0.10.dev25)\n",
            "Requirement already satisfied: catboost>=0.23.2 in /usr/local/lib/python3.7/dist-packages (from pycaret[full]) (1.1.1)\n",
            "Requirement already satisfied: mlflow>=1.24.0 in /usr/local/lib/python3.7/dist-packages (from pycaret[full]) (1.30.0)\n",
            "Requirement already satisfied: xgboost>=1.1.0 in /usr/local/lib/python3.7/dist-packages (from pycaret[full]) (1.6.2)\n",
            "Requirement already satisfied: hyperopt>=0.2.7 in /usr/local/lib/python3.7/dist-packages (from pycaret[full]) (0.2.7)\n",
            "Requirement already satisfied: umap-learn>=0.5.2 in /usr/local/lib/python3.7/dist-packages (from pycaret[full]) (0.5.3)\n",
            "Requirement already satisfied: protobuf<4.0.0 in /usr/local/lib/python3.7/dist-packages (from pycaret[full]) (3.19.6)\n",
            "Requirement already satisfied: ray[tune]>=1.0.0 in /usr/local/lib/python3.7/dist-packages (from pycaret[full]) (2.1.0)\n",
            "Requirement already satisfied: interpret>=0.2.7 in /usr/local/lib/python3.7/dist-packages (from pycaret[full]) (0.2.7)\n",
            "Requirement already satisfied: tune-sklearn>=0.2.1 in /usr/local/lib/python3.7/dist-packages (from pycaret[full]) (0.4.4)\n",
            "Requirement already satisfied: dask[dataframe]>=2022.2.0 in /usr/local/lib/python3.7/dist-packages (from pycaret[full]) (2022.2.0)\n",
            "Requirement already satisfied: fugue~=0.6.6 in /usr/local/lib/python3.7/dist-packages (from pycaret[full]) (0.6.6)\n",
            "Requirement already satisfied: flask>=2.0.3 in /usr/local/lib/python3.7/dist-packages (from pycaret[full]) (2.1.3)\n",
            "Requirement already satisfied: explainerdashboard>=0.3.8 in /usr/local/lib/python3.7/dist-packages (from pycaret[full]) (0.3.8.2)\n",
            "Requirement already satisfied: codecov>=2.1.12 in /usr/local/lib/python3.7/dist-packages (from pycaret[full]) (2.1.12)\n",
            "Requirement already satisfied: autoviz>=0.1.36 in /usr/local/lib/python3.7/dist-packages (from pycaret[full]) (0.1.58)\n",
            "Requirement already satisfied: mlxtend>=0.19.0 in /usr/local/lib/python3.7/dist-packages (from pycaret[full]) (0.21.0)\n",
            "Requirement already satisfied: fastapi>=0.75.0 in /usr/local/lib/python3.7/dist-packages (from pycaret[full]) (0.87.0)\n",
            "Requirement already satisfied: shap>=0.38.0 in /usr/local/lib/python3.7/dist-packages (from pycaret[full]) (0.41.0)\n",
            "Requirement already satisfied: evidently>=0.1.45.dev0 in /usr/local/lib/python3.7/dist-packages (from pycaret[full]) (0.1.59.dev3)\n",
            "Requirement already satisfied: optuna>=2.2.0 in /usr/local/lib/python3.7/dist-packages (from pycaret[full]) (3.0.3)\n",
            "Requirement already satisfied: statsforecast>=0.5.5 in /usr/local/lib/python3.7/dist-packages (from pycaret[full]) (1.2.1)\n",
            "Requirement already satisfied: scikit-learn-intelex>=2021.6.3 in /usr/local/lib/python3.7/dist-packages (from pycaret[full]) (2021.6.3)\n",
            "Requirement already satisfied: boto3>=1.24.56 in /usr/local/lib/python3.7/dist-packages (from pycaret[full]) (1.26.8)\n",
            "Requirement already satisfied: pytest>=7.0.1 in /usr/local/lib/python3.7/dist-packages (from pycaret[full]) (7.2.0)\n",
            "Requirement already satisfied: kmodes>=0.11.1 in /usr/local/lib/python3.7/dist-packages (from pycaret[full]) (0.12.2)\n",
            "Requirement already satisfied: dash[testing] in /usr/local/lib/python3.7/dist-packages (from pycaret[full]) (2.7.0)\n",
            "Requirement already satisfied: fairlearn>=0.7.0 in /usr/local/lib/python3.7/dist-packages (from pycaret[full]) (0.7.0)\n",
            "Requirement already satisfied: m2cgen>=0.9.0 in /usr/local/lib/python3.7/dist-packages (from pycaret[full]) (0.10.0)\n",
            "Requirement already satisfied: gradio>=2.8.10 in /usr/local/lib/python3.7/dist-packages (from pycaret[full]) (3.9.1)\n",
            "Requirement already satisfied: scikit-optimize>=0.9.0 in /usr/local/lib/python3.7/dist-packages (from pycaret[full]) (0.9.0)\n",
            "Requirement already satisfied: pandas-profiling>=3.1.0 in /usr/local/lib/python3.7/dist-packages (from pycaret[full]) (3.4.0)\n",
            "Requirement already satisfied: jupyter in /usr/local/lib/python3.7/dist-packages (from autoviz>=0.1.36->pycaret[full]) (1.0.0)\n",
            "Requirement already satisfied: hvplot>=0.7.3 in /usr/local/lib/python3.7/dist-packages (from autoviz>=0.1.36->pycaret[full]) (0.8.1)\n",
            "Requirement already satisfied: typing-extensions>=4.1.1 in /usr/local/lib/python3.7/dist-packages (from autoviz>=0.1.36->pycaret[full]) (4.1.1)\n",
            "Requirement already satisfied: pyamg in /usr/local/lib/python3.7/dist-packages (from autoviz>=0.1.36->pycaret[full]) (4.2.3)\n",
            "Requirement already satisfied: panel~=0.12.6 in /usr/local/lib/python3.7/dist-packages (from autoviz>=0.1.36->pycaret[full]) (0.12.7)\n",
            "Requirement already satisfied: bokeh>=2.4.2 in /usr/local/lib/python3.7/dist-packages (from autoviz>=0.1.36->pycaret[full]) (2.4.3)\n",
            "Requirement already satisfied: emoji in /usr/local/lib/python3.7/dist-packages (from autoviz>=0.1.36->pycaret[full]) (2.2.0)\n",
            "Requirement already satisfied: seaborn>=0.11.1 in /usr/local/lib/python3.7/dist-packages (from autoviz>=0.1.36->pycaret[full]) (0.11.2)\n",
            "Requirement already satisfied: textblob in /usr/local/lib/python3.7/dist-packages (from autoviz>=0.1.36->pycaret[full]) (0.15.3)\n",
            "Requirement already satisfied: wordcloud in /usr/local/lib/python3.7/dist-packages (from autoviz>=0.1.36->pycaret[full]) (1.8.2.2)\n",
            "Requirement already satisfied: fsspec>=0.8.3 in /usr/local/lib/python3.7/dist-packages (from autoviz>=0.1.36->pycaret[full]) (2022.10.0)\n",
            "Requirement already satisfied: xlrd in /usr/local/lib/python3.7/dist-packages (from autoviz>=0.1.36->pycaret[full]) (1.1.0)\n",
            "Requirement already satisfied: holoviews>=1.14.6 in /usr/local/lib/python3.7/dist-packages (from autoviz>=0.1.36->pycaret[full]) (1.14.9)\n",
            "Requirement already satisfied: nltk in /usr/local/lib/python3.7/dist-packages (from autoviz>=0.1.36->pycaret[full]) (3.7)\n",
            "Requirement already satisfied: packaging>=16.8 in /usr/local/lib/python3.7/dist-packages (from bokeh>=2.4.2->autoviz>=0.1.36->pycaret[full]) (21.3)\n",
            "Requirement already satisfied: PyYAML>=3.10 in /usr/local/lib/python3.7/dist-packages (from bokeh>=2.4.2->autoviz>=0.1.36->pycaret[full]) (5.4.1)\n",
            "Requirement already satisfied: pillow>=7.1.0 in /usr/local/lib/python3.7/dist-packages (from bokeh>=2.4.2->autoviz>=0.1.36->pycaret[full]) (7.1.2)\n",
            "Requirement already satisfied: tornado>=5.1 in /usr/local/lib/python3.7/dist-packages (from bokeh>=2.4.2->autoviz>=0.1.36->pycaret[full]) (6.0.4)\n",
            "Requirement already satisfied: s3transfer<0.7.0,>=0.6.0 in /usr/local/lib/python3.7/dist-packages (from boto3>=1.24.56->pycaret[full]) (0.6.0)\n",
            "Requirement already satisfied: jmespath<2.0.0,>=0.7.1 in /usr/local/lib/python3.7/dist-packages (from boto3>=1.24.56->pycaret[full]) (1.0.1)\n",
            "Requirement already satisfied: botocore<1.30.0,>=1.29.8 in /usr/local/lib/python3.7/dist-packages (from boto3>=1.24.56->pycaret[full]) (1.29.8)\n",
            "Requirement already satisfied: urllib3<1.27,>=1.25.4 in /usr/local/lib/python3.7/dist-packages (from botocore<1.30.0,>=1.29.8->boto3>=1.24.56->pycaret[full]) (1.26.12)\n",
            "Requirement already satisfied: python-dateutil<3.0.0,>=2.1 in /usr/local/lib/python3.7/dist-packages (from botocore<1.30.0,>=1.29.8->boto3>=1.24.56->pycaret[full]) (2.8.2)\n",
            "Requirement already satisfied: six in /usr/local/lib/python3.7/dist-packages (from catboost>=0.23.2->pycaret[full]) (1.15.0)\n",
            "Requirement already satisfied: graphviz in /usr/local/lib/python3.7/dist-packages (from catboost>=0.23.2->pycaret[full]) (0.20.1)\n",
            "Requirement already satisfied: patsy>=0.5.1 in /usr/local/lib/python3.7/dist-packages (from category-encoders>=2.4.0->pycaret[full]) (0.5.3)\n",
            "Requirement already satisfied: coverage in /usr/local/lib/python3.7/dist-packages (from codecov>=2.1.12->pycaret[full]) (6.6.0b1)\n",
            "Requirement already satisfied: toolz>=0.8.2 in /usr/local/lib/python3.7/dist-packages (from dask[dataframe]>=2022.2.0->pycaret[full]) (0.12.0)\n",
            "Requirement already satisfied: partd>=0.3.10 in /usr/local/lib/python3.7/dist-packages (from dask[dataframe]>=2022.2.0->pycaret[full]) (1.3.0)\n",
            "Requirement already satisfied: cloudpickle>=1.1.1 in /usr/local/lib/python3.7/dist-packages (from dask[dataframe]>=2022.2.0->pycaret[full]) (1.5.0)\n",
            "Requirement already satisfied: dataclasses>=0.6 in /usr/local/lib/python3.7/dist-packages (from evidently>=0.1.45.dev0->pycaret[full]) (0.6)\n",
            "Requirement already satisfied: flask-simplelogin in /usr/local/lib/python3.7/dist-packages (from explainerdashboard>=0.3.8->pycaret[full]) (0.1.1)\n",
            "Requirement already satisfied: click in /usr/local/lib/python3.7/dist-packages (from explainerdashboard>=0.3.8->pycaret[full]) (8.0.4)\n",
            "Requirement already satisfied: waitress in /usr/local/lib/python3.7/dist-packages (from explainerdashboard>=0.3.8->pycaret[full]) (2.1.2)\n",
            "Requirement already satisfied: dash-bootstrap-components<1 in /usr/local/lib/python3.7/dist-packages (from explainerdashboard>=0.3.8->pycaret[full]) (0.13.1)\n",
            "Requirement already satisfied: Werkzeug<=2.0.3 in /usr/local/lib/python3.7/dist-packages (from explainerdashboard>=0.3.8->pycaret[full]) (2.0.3)\n",
            "Requirement already satisfied: dtreeviz>=1.3 in /usr/local/lib/python3.7/dist-packages (from explainerdashboard>=0.3.8->pycaret[full]) (1.4.0)\n",
            "Requirement already satisfied: oyaml in /usr/local/lib/python3.7/dist-packages (from explainerdashboard>=0.3.8->pycaret[full]) (1.0)\n",
            "Requirement already satisfied: dash-auth in /usr/local/lib/python3.7/dist-packages (from explainerdashboard>=0.3.8->pycaret[full]) (1.4.1)\n",
            "Requirement already satisfied: jupyter-dash in /usr/local/lib/python3.7/dist-packages (from explainerdashboard>=0.3.8->pycaret[full]) (0.4.2)\n",
            "Requirement already satisfied: dash-table==5.0.0 in /usr/local/lib/python3.7/dist-packages (from dash[testing]->pycaret[full]) (5.0.0)\n",
            "Requirement already satisfied: dash-core-components==2.0.0 in /usr/local/lib/python3.7/dist-packages (from dash[testing]->pycaret[full]) (2.0.0)\n",
            "Requirement already satisfied: dash-html-components==2.0.0 in /usr/local/lib/python3.7/dist-packages (from dash[testing]->pycaret[full]) (2.0.0)\n",
            "Requirement already satisfied: colour in /usr/local/lib/python3.7/dist-packages (from dtreeviz>=1.3->explainerdashboard>=0.3.8->pycaret[full]) (0.1.5)\n",
            "Requirement already satisfied: pydantic!=1.7,!=1.7.1,!=1.7.2,!=1.7.3,!=1.8,!=1.8.1,<2.0.0,>=1.6.2 in /usr/local/lib/python3.7/dist-packages (from fastapi>=0.75.0->pycaret[full]) (1.10.2)\n",
            "Requirement already satisfied: starlette==0.21.0 in /usr/local/lib/python3.7/dist-packages (from fastapi>=0.75.0->pycaret[full]) (0.21.0)\n",
            "Requirement already satisfied: anyio<5,>=3.4.0 in /usr/local/lib/python3.7/dist-packages (from starlette==0.21.0->fastapi>=0.75.0->pycaret[full]) (3.6.2)\n",
            "Requirement already satisfied: sniffio>=1.1 in /usr/local/lib/python3.7/dist-packages (from anyio<5,>=3.4.0->starlette==0.21.0->fastapi>=0.75.0->pycaret[full]) (1.3.0)\n",
            "Requirement already satisfied: idna>=2.8 in /usr/local/lib/python3.7/dist-packages (from anyio<5,>=3.4.0->starlette==0.21.0->fastapi>=0.75.0->pycaret[full]) (2.10)\n",
            "Requirement already satisfied: itsdangerous>=2.0 in /usr/local/lib/python3.7/dist-packages (from flask>=2.0.3->pycaret[full]) (2.1.2)\n",
            "Requirement already satisfied: qpd>=0.2.6 in /usr/local/lib/python3.7/dist-packages (from fugue~=0.6.6->pycaret[full]) (0.2.7)\n",
            "Requirement already satisfied: sqlalchemy in /usr/local/lib/python3.7/dist-packages (from fugue~=0.6.6->pycaret[full]) (1.4.43)\n",
            "Requirement already satisfied: pyarrow>=0.15.1 in /usr/local/lib/python3.7/dist-packages (from fugue~=0.6.6->pycaret[full]) (6.0.1)\n",
            "Requirement already satisfied: adagio>=0.2.3 in /usr/local/lib/python3.7/dist-packages (from fugue~=0.6.6->pycaret[full]) (0.2.4)\n",
            "Requirement already satisfied: antlr4-python3-runtime<4.10,>=4.9 in /usr/local/lib/python3.7/dist-packages (from fugue~=0.6.6->pycaret[full]) (4.9.3)\n",
            "Requirement already satisfied: triad>=0.6.0 in /usr/local/lib/python3.7/dist-packages (from fugue~=0.6.6->pycaret[full]) (0.7.0)\n",
            "Requirement already satisfied: paramiko in /usr/local/lib/python3.7/dist-packages (from gradio>=2.8.10->pycaret[full]) (2.12.0)\n",
            "Requirement already satisfied: orjson in /usr/local/lib/python3.7/dist-packages (from gradio>=2.8.10->pycaret[full]) (3.8.1)\n",
            "Requirement already satisfied: markdown-it-py[linkify,plugins] in /usr/local/lib/python3.7/dist-packages (from gradio>=2.8.10->pycaret[full]) (2.1.0)\n",
            "Requirement already satisfied: httpx in /usr/local/lib/python3.7/dist-packages (from gradio>=2.8.10->pycaret[full]) (1.0.0b0)\n",
            "Requirement already satisfied: pydub in /usr/local/lib/python3.7/dist-packages (from gradio>=2.8.10->pycaret[full]) (0.25.1)\n",
            "Requirement already satisfied: ffmpy in /usr/local/lib/python3.7/dist-packages (from gradio>=2.8.10->pycaret[full]) (0.3.0)\n",
            "Requirement already satisfied: h11<0.13,>=0.11 in /usr/local/lib/python3.7/dist-packages (from gradio>=2.8.10->pycaret[full]) (0.12.0)\n",
            "Requirement already satisfied: pycryptodome in /usr/local/lib/python3.7/dist-packages (from gradio>=2.8.10->pycaret[full]) (3.15.0)\n",
            "Requirement already satisfied: websockets>=10.0 in /usr/local/lib/python3.7/dist-packages (from gradio>=2.8.10->pycaret[full]) (10.4)\n",
            "Requirement already satisfied: aiohttp in /usr/local/lib/python3.7/dist-packages (from gradio>=2.8.10->pycaret[full]) (3.8.3)\n",
            "Requirement already satisfied: python-multipart in /usr/local/lib/python3.7/dist-packages (from gradio>=2.8.10->pycaret[full]) (0.0.5)\n",
            "Requirement already satisfied: pyviz-comms>=0.7.4 in /usr/local/lib/python3.7/dist-packages (from holoviews>=1.14.6->autoviz>=0.1.36->pycaret[full]) (2.2.1)\n",
            "Requirement already satisfied: param<2.0,>=1.9.3 in /usr/local/lib/python3.7/dist-packages (from holoviews>=1.14.6->autoviz>=0.1.36->pycaret[full]) (1.12.2)\n",
            "Requirement already satisfied: colorcet in /usr/local/lib/python3.7/dist-packages (from holoviews>=1.14.6->autoviz>=0.1.36->pycaret[full]) (3.0.1)\n",
            "Requirement already satisfied: pyct>=0.4.4 in /usr/local/lib/python3.7/dist-packages (from colorcet->holoviews>=1.14.6->autoviz>=0.1.36->pycaret[full]) (0.4.8)\n",
            "Requirement already satisfied: networkx>=2.2 in /usr/local/lib/python3.7/dist-packages (from hyperopt>=0.2.7->pycaret[full]) (2.6.3)\n",
            "Requirement already satisfied: py4j in /usr/local/lib/python3.7/dist-packages (from hyperopt>=0.2.7->pycaret[full]) (0.10.9.7)\n",
            "Requirement already satisfied: future in /usr/local/lib/python3.7/dist-packages (from hyperopt>=0.2.7->pycaret[full]) (0.16.0)\n",
            "Requirement already satisfied: zipp>=0.5 in /usr/local/lib/python3.7/dist-packages (from importlib-metadata>=4.12.0->pycaret[full]) (3.10.0)\n",
            "Requirement already satisfied: interpret-core[dash,debug,decisiontree,ebm,lime,linear,notebook,plotly,required,sensitivity,shap,skoperules,treeinterpreter]>=0.2.7 in /usr/local/lib/python3.7/dist-packages (from interpret>=0.2.7->pycaret[full]) (0.2.7)\n",
            "Requirement already satisfied: dill>=0.2.5 in /usr/local/lib/python3.7/dist-packages (from interpret-core[dash,debug,decisiontree,ebm,lime,linear,notebook,plotly,required,sensitivity,shap,skoperules,treeinterpreter]>=0.2.7->interpret>=0.2.7->pycaret[full]) (0.3.6)\n",
            "Requirement already satisfied: treeinterpreter>=0.2.2 in /usr/local/lib/python3.7/dist-packages (from interpret-core[dash,debug,decisiontree,ebm,lime,linear,notebook,plotly,required,sensitivity,shap,skoperules,treeinterpreter]>=0.2.7->interpret>=0.2.7->pycaret[full]) (0.2.3)\n",
            "Requirement already satisfied: lime>=0.1.1.33 in /usr/local/lib/python3.7/dist-packages (from interpret-core[dash,debug,decisiontree,ebm,lime,linear,notebook,plotly,required,sensitivity,shap,skoperules,treeinterpreter]>=0.2.7->interpret>=0.2.7->pycaret[full]) (0.2.0.1)\n",
            "Requirement already satisfied: ipykernel>=5.1.0 in /usr/local/lib/python3.7/dist-packages (from interpret-core[dash,debug,decisiontree,ebm,lime,linear,notebook,plotly,required,sensitivity,shap,skoperules,treeinterpreter]>=0.2.7->interpret>=0.2.7->pycaret[full]) (5.3.4)\n",
            "Requirement already satisfied: gevent>=1.3.6 in /usr/local/lib/python3.7/dist-packages (from interpret-core[dash,debug,decisiontree,ebm,lime,linear,notebook,plotly,required,sensitivity,shap,skoperules,treeinterpreter]>=0.2.7->interpret>=0.2.7->pycaret[full]) (22.10.2)\n",
            "Requirement already satisfied: dash-cytoscape>=0.1.1 in /usr/local/lib/python3.7/dist-packages (from interpret-core[dash,debug,decisiontree,ebm,lime,linear,notebook,plotly,required,sensitivity,shap,skoperules,treeinterpreter]>=0.2.7->interpret>=0.2.7->pycaret[full]) (0.3.0)\n",
            "Requirement already satisfied: SALib>=1.3.3 in /usr/local/lib/python3.7/dist-packages (from interpret-core[dash,debug,decisiontree,ebm,lime,linear,notebook,plotly,required,sensitivity,shap,skoperules,treeinterpreter]>=0.2.7->interpret>=0.2.7->pycaret[full]) (1.4.6b1)\n",
            "Requirement already satisfied: skope-rules>=1.0.1 in /usr/local/lib/python3.7/dist-packages (from interpret-core[dash,debug,decisiontree,ebm,lime,linear,notebook,plotly,required,sensitivity,shap,skoperules,treeinterpreter]>=0.2.7->interpret>=0.2.7->pycaret[full]) (1.0.1)\n",
            "Requirement already satisfied: greenlet>=2.0.0 in /usr/local/lib/python3.7/dist-packages (from gevent>=1.3.6->interpret-core[dash,debug,decisiontree,ebm,lime,linear,notebook,plotly,required,sensitivity,shap,skoperules,treeinterpreter]>=0.2.7->interpret>=0.2.7->pycaret[full]) (2.0.1)\n",
            "Requirement already satisfied: zope.interface in /usr/local/lib/python3.7/dist-packages (from gevent>=1.3.6->interpret-core[dash,debug,decisiontree,ebm,lime,linear,notebook,plotly,required,sensitivity,shap,skoperules,treeinterpreter]>=0.2.7->interpret>=0.2.7->pycaret[full]) (5.5.1)\n",
            "Requirement already satisfied: zope.event in /usr/local/lib/python3.7/dist-packages (from gevent>=1.3.6->interpret-core[dash,debug,decisiontree,ebm,lime,linear,notebook,plotly,required,sensitivity,shap,skoperules,treeinterpreter]>=0.2.7->interpret>=0.2.7->pycaret[full]) (4.5.0)\n",
            "Requirement already satisfied: setuptools in /usr/local/lib/python3.7/dist-packages (from gevent>=1.3.6->interpret-core[dash,debug,decisiontree,ebm,lime,linear,notebook,plotly,required,sensitivity,shap,skoperules,treeinterpreter]>=0.2.7->interpret>=0.2.7->pycaret[full]) (57.4.0)\n",
            "Requirement already satisfied: traitlets>=4.1.0 in /usr/local/lib/python3.7/dist-packages (from ipykernel>=5.1.0->interpret-core[dash,debug,decisiontree,ebm,lime,linear,notebook,plotly,required,sensitivity,shap,skoperules,treeinterpreter]>=0.2.7->interpret>=0.2.7->pycaret[full]) (5.1.1)\n",
            "Requirement already satisfied: jupyter-client in /usr/local/lib/python3.7/dist-packages (from ipykernel>=5.1.0->interpret-core[dash,debug,decisiontree,ebm,lime,linear,notebook,plotly,required,sensitivity,shap,skoperules,treeinterpreter]>=0.2.7->interpret>=0.2.7->pycaret[full]) (6.1.12)\n",
            "Requirement already satisfied: jedi>=0.10 in /usr/local/lib/python3.7/dist-packages (from ipython>=5.5.0->pycaret[full]) (0.18.1)\n",
            "Requirement already satisfied: pickleshare in /usr/local/lib/python3.7/dist-packages (from ipython>=5.5.0->pycaret[full]) (0.7.5)\n",
            "Requirement already satisfied: pygments in /usr/local/lib/python3.7/dist-packages (from ipython>=5.5.0->pycaret[full]) (2.6.1)\n",
            "Requirement already satisfied: prompt-toolkit<2.1.0,>=2.0.0 in /usr/local/lib/python3.7/dist-packages (from ipython>=5.5.0->pycaret[full]) (2.0.10)\n",
            "Requirement already satisfied: pexpect in /usr/local/lib/python3.7/dist-packages (from ipython>=5.5.0->pycaret[full]) (4.8.0)\n",
            "Requirement already satisfied: decorator in /usr/local/lib/python3.7/dist-packages (from ipython>=5.5.0->pycaret[full]) (4.4.2)\n",
            "Requirement already satisfied: backcall in /usr/local/lib/python3.7/dist-packages (from ipython>=5.5.0->pycaret[full]) (0.2.0)\n",
            "Requirement already satisfied: ipython-genutils~=0.2.0 in /usr/local/lib/python3.7/dist-packages (from ipywidgets>=7.6.5->pycaret[full]) (0.2.0)\n",
            "Requirement already satisfied: widgetsnbextension~=3.6.0 in /usr/local/lib/python3.7/dist-packages (from ipywidgets>=7.6.5->pycaret[full]) (3.6.1)\n",
            "Requirement already satisfied: jupyterlab-widgets>=1.0.0 in /usr/local/lib/python3.7/dist-packages (from ipywidgets>=7.6.5->pycaret[full]) (3.0.3)\n",
            "Requirement already satisfied: parso<0.9.0,>=0.8.0 in /usr/local/lib/python3.7/dist-packages (from jedi>=0.10->ipython>=5.5.0->pycaret[full]) (0.8.3)\n",
            "Requirement already satisfied: wheel in /usr/local/lib/python3.7/dist-packages (from lightgbm>=3.0.0->pycaret[full]) (0.38.3)\n",
            "Requirement already satisfied: scikit-image>=0.12 in /usr/local/lib/python3.7/dist-packages (from lime>=0.1.1.33->interpret-core[dash,debug,decisiontree,ebm,lime,linear,notebook,plotly,required,sensitivity,shap,skoperules,treeinterpreter]>=0.2.7->interpret>=0.2.7->pycaret[full]) (0.18.3)\n",
            "Requirement already satisfied: kiwisolver>=1.0.1 in /usr/local/lib/python3.7/dist-packages (from matplotlib>=3.3.0->pycaret[full]) (1.4.4)\n",
            "Requirement already satisfied: fonttools>=4.22.0 in /usr/local/lib/python3.7/dist-packages (from matplotlib>=3.3.0->pycaret[full]) (4.38.0)\n",
            "Requirement already satisfied: cycler>=0.10 in /usr/local/lib/python3.7/dist-packages (from matplotlib>=3.3.0->pycaret[full]) (0.11.0)\n",
            "Requirement already satisfied: pyparsing>=2.2.1 in /usr/local/lib/python3.7/dist-packages (from matplotlib>=3.3.0->pycaret[full]) (3.0.9)\n",
            "Requirement already satisfied: docker<7,>=4.0.0 in /usr/local/lib/python3.7/dist-packages (from mlflow>=1.24.0->pycaret[full]) (6.0.1)\n",
            "Requirement already satisfied: gitpython<4,>=2.1.0 in /usr/local/lib/python3.7/dist-packages (from mlflow>=1.24.0->pycaret[full]) (3.1.29)\n",
            "Requirement already satisfied: sqlparse<1,>=0.4.0 in /usr/local/lib/python3.7/dist-packages (from mlflow>=1.24.0->pycaret[full]) (0.4.3)\n",
            "Requirement already satisfied: prometheus-flask-exporter<1 in /usr/local/lib/python3.7/dist-packages (from mlflow>=1.24.0->pycaret[full]) (0.21.0)\n",
            "Requirement already satisfied: pytz<2023 in /usr/local/lib/python3.7/dist-packages (from mlflow>=1.24.0->pycaret[full]) (2022.6)\n",
            "Requirement already satisfied: databricks-cli<1,>=0.8.7 in /usr/local/lib/python3.7/dist-packages (from mlflow>=1.24.0->pycaret[full]) (0.17.3)\n",
            "Requirement already satisfied: querystring-parser<2 in /usr/local/lib/python3.7/dist-packages (from mlflow>=1.24.0->pycaret[full]) (1.2.4)\n",
            "Requirement already satisfied: gunicorn<21 in /usr/local/lib/python3.7/dist-packages (from mlflow>=1.24.0->pycaret[full]) (20.1.0)\n",
            "Requirement already satisfied: entrypoints<1 in /usr/local/lib/python3.7/dist-packages (from mlflow>=1.24.0->pycaret[full]) (0.4)\n",
            "Requirement already satisfied: alembic<2 in /usr/local/lib/python3.7/dist-packages (from mlflow>=1.24.0->pycaret[full]) (1.8.1)\n",
            "Requirement already satisfied: importlib-resources in /usr/local/lib/python3.7/dist-packages (from alembic<2->mlflow>=1.24.0->pycaret[full]) (5.10.0)\n",
            "Requirement already satisfied: Mako in /usr/local/lib/python3.7/dist-packages (from alembic<2->mlflow>=1.24.0->pycaret[full]) (1.2.3)\n",
            "Requirement already satisfied: tabulate>=0.7.7 in /usr/local/lib/python3.7/dist-packages (from databricks-cli<1,>=0.8.7->mlflow>=1.24.0->pycaret[full]) (0.8.10)\n",
            "Requirement already satisfied: pyjwt>=1.7.0 in /usr/local/lib/python3.7/dist-packages (from databricks-cli<1,>=0.8.7->mlflow>=1.24.0->pycaret[full]) (2.6.0)\n",
            "Requirement already satisfied: oauthlib>=3.1.0 in /usr/local/lib/python3.7/dist-packages (from databricks-cli<1,>=0.8.7->mlflow>=1.24.0->pycaret[full]) (3.2.2)\n",
            "Requirement already satisfied: websocket-client>=0.32.0 in /usr/local/lib/python3.7/dist-packages (from docker<7,>=4.0.0->mlflow>=1.24.0->pycaret[full]) (1.4.2)\n",
            "Requirement already satisfied: gitdb<5,>=4.0.1 in /usr/local/lib/python3.7/dist-packages (from gitpython<4,>=2.1.0->mlflow>=1.24.0->pycaret[full]) (4.0.9)\n",
            "Requirement already satisfied: smmap<6,>=3.0.1 in /usr/local/lib/python3.7/dist-packages (from gitdb<5,>=4.0.1->gitpython<4,>=2.1.0->mlflow>=1.24.0->pycaret[full]) (5.0.0)\n",
            "Requirement already satisfied: responses>=0.13.0 in /usr/local/lib/python3.7/dist-packages (from moto>=3.0.7->pycaret[full]) (0.22.0)\n",
            "Requirement already satisfied: cryptography>=3.3.1 in /usr/local/lib/python3.7/dist-packages (from moto>=3.0.7->pycaret[full]) (38.0.3)\n",
            "Requirement already satisfied: xmltodict in /usr/local/lib/python3.7/dist-packages (from moto>=3.0.7->pycaret[full]) (0.13.0)\n",
            "Requirement already satisfied: cffi>=1.12 in /usr/local/lib/python3.7/dist-packages (from cryptography>=3.3.1->moto>=3.0.7->pycaret[full]) (1.15.1)\n",
            "Requirement already satisfied: pycparser in /usr/local/lib/python3.7/dist-packages (from cffi>=1.12->cryptography>=3.3.1->moto>=3.0.7->pycaret[full]) (2.21)\n",
            "Requirement already satisfied: llvmlite<0.39,>=0.38.0rc1 in /usr/local/lib/python3.7/dist-packages (from numba~=0.55.0->pycaret[full]) (0.38.1)\n",
            "Requirement already satisfied: colorlog in /usr/local/lib/python3.7/dist-packages (from optuna>=2.2.0->pycaret[full]) (6.7.0)\n",
            "Requirement already satisfied: cliff in /usr/local/lib/python3.7/dist-packages (from optuna>=2.2.0->pycaret[full]) (3.10.1)\n",
            "Requirement already satisfied: cmaes>=0.8.2 in /usr/local/lib/python3.7/dist-packages (from optuna>=2.2.0->pycaret[full]) (0.9.0)\n",
            "Requirement already satisfied: multimethod<1.10,>=1.4 in /usr/local/lib/python3.7/dist-packages (from pandas-profiling>=3.1.0->pycaret[full]) (1.9)\n",
            "Requirement already satisfied: phik<0.13,>=0.11.1 in /usr/local/lib/python3.7/dist-packages (from pandas-profiling>=3.1.0->pycaret[full]) (0.12.2)\n",
            "Requirement already satisfied: missingno<0.6,>=0.4.2 in /usr/local/lib/python3.7/dist-packages (from pandas-profiling>=3.1.0->pycaret[full]) (0.5.1)\n",
            "Requirement already satisfied: htmlmin==0.1.12 in /usr/local/lib/python3.7/dist-packages (from pandas-profiling>=3.1.0->pycaret[full]) (0.1.12)\n",
            "Requirement already satisfied: visions[type_image_path]==0.7.5 in /usr/local/lib/python3.7/dist-packages (from pandas-profiling>=3.1.0->pycaret[full]) (0.7.5)\n",
            "Requirement already satisfied: attrs>=19.3.0 in /usr/local/lib/python3.7/dist-packages (from visions[type_image_path]==0.7.5->pandas-profiling>=3.1.0->pycaret[full]) (22.1.0)\n",
            "Requirement already satisfied: tangled-up-in-unicode>=0.0.4 in /usr/local/lib/python3.7/dist-packages (from visions[type_image_path]==0.7.5->pandas-profiling>=3.1.0->pycaret[full]) (0.2.0)\n",
            "Requirement already satisfied: imagehash in /usr/local/lib/python3.7/dist-packages (from visions[type_image_path]==0.7.5->pandas-profiling>=3.1.0->pycaret[full]) (4.3.1)\n",
            "Requirement already satisfied: bleach in /usr/local/lib/python3.7/dist-packages (from panel~=0.12.6->autoviz>=0.1.36->pycaret[full]) (5.0.1)\n",
            "Requirement already satisfied: markdown in /usr/local/lib/python3.7/dist-packages (from panel~=0.12.6->autoviz>=0.1.36->pycaret[full]) (3.4.1)\n",
            "Requirement already satisfied: locket in /usr/local/lib/python3.7/dist-packages (from partd>=0.3.10->dask[dataframe]>=2022.2.0->pycaret[full]) (1.0.0)\n",
            "Requirement already satisfied: tenacity>=6.2.0 in /usr/local/lib/python3.7/dist-packages (from plotly>=5.0.0->pycaret[full]) (8.1.0)\n",
            "Requirement already satisfied: trace-updater>=0.0.8 in /usr/local/lib/python3.7/dist-packages (from plotly-resampler>=0.7.2.2->pycaret[full]) (0.0.9)\n",
            "Requirement already satisfied: Flask-Cors<4.0.0,>=3.0.10 in /usr/local/lib/python3.7/dist-packages (from plotly-resampler>=0.7.2.2->pycaret[full]) (3.0.10)\n",
            "Requirement already satisfied: retrying in /usr/local/lib/python3.7/dist-packages (from jupyter-dash->explainerdashboard>=0.3.8->pycaret[full]) (1.3.3)\n",
            "Requirement already satisfied: ansi2html in /usr/local/lib/python3.7/dist-packages (from jupyter-dash->explainerdashboard>=0.3.8->pycaret[full]) (1.8.0)\n",
            "Requirement already satisfied: nest-asyncio in /usr/local/lib/python3.7/dist-packages (from jupyter-dash->explainerdashboard>=0.3.8->pycaret[full]) (1.5.6)\n",
            "Requirement already satisfied: Cython!=0.29.18,>=0.29 in /usr/local/lib/python3.7/dist-packages (from pmdarima!=1.8.1,<2.0.0,>=1.8.0->pycaret[full]) (0.29.32)\n",
            "Requirement already satisfied: prometheus-client in /usr/local/lib/python3.7/dist-packages (from prometheus-flask-exporter<1->mlflow>=1.24.0->pycaret[full]) (0.15.0)\n",
            "Requirement already satisfied: wcwidth in /usr/local/lib/python3.7/dist-packages (from prompt-toolkit<2.1.0,>=2.0.0->ipython>=5.5.0->pycaret[full]) (0.2.5)\n",
            "Requirement already satisfied: tomli>=1.0.0 in /usr/local/lib/python3.7/dist-packages (from pytest>=7.0.1->pycaret[full]) (2.0.1)\n",
            "Requirement already satisfied: pluggy<2.0,>=0.12 in /usr/local/lib/python3.7/dist-packages (from pytest>=7.0.1->pycaret[full]) (1.0.0)\n",
            "Requirement already satisfied: exceptiongroup>=1.0.0rc8 in /usr/local/lib/python3.7/dist-packages (from pytest>=7.0.1->pycaret[full]) (1.0.2)\n",
            "Requirement already satisfied: iniconfig in /usr/local/lib/python3.7/dist-packages (from pytest>=7.0.1->pycaret[full]) (1.1.1)\n",
            "Requirement already satisfied: frozenlist in /usr/local/lib/python3.7/dist-packages (from ray[tune]>=1.0.0->pycaret[full]) (1.3.3)\n",
            "Requirement already satisfied: aiosignal in /usr/local/lib/python3.7/dist-packages (from ray[tune]>=1.0.0->pycaret[full]) (1.3.1)\n",
            "Requirement already satisfied: filelock in /usr/local/lib/python3.7/dist-packages (from ray[tune]>=1.0.0->pycaret[full]) (3.8.0)\n",
            "Requirement already satisfied: virtualenv>=20.0.24 in /usr/local/lib/python3.7/dist-packages (from ray[tune]>=1.0.0->pycaret[full]) (20.16.7)\n",
            "Requirement already satisfied: jsonschema in /usr/local/lib/python3.7/dist-packages (from ray[tune]>=1.0.0->pycaret[full]) (4.3.3)\n",
            "Requirement already satisfied: grpcio>=1.32.0 in /usr/local/lib/python3.7/dist-packages (from ray[tune]>=1.0.0->pycaret[full]) (1.50.0)\n",
            "Requirement already satisfied: msgpack<2.0.0,>=1.0.0 in /usr/local/lib/python3.7/dist-packages (from ray[tune]>=1.0.0->pycaret[full]) (1.0.4)\n",
            "Requirement already satisfied: tensorboardX>=1.9 in /usr/local/lib/python3.7/dist-packages (from ray[tune]>=1.0.0->pycaret[full]) (2.5.1)\n",
            "Requirement already satisfied: charset-normalizer<3,>=2 in /usr/local/lib/python3.7/dist-packages (from requests>=2.27.1->pycaret[full]) (2.1.1)\n",
            "Requirement already satisfied: certifi>=2017.4.17 in /usr/local/lib/python3.7/dist-packages (from requests>=2.27.1->pycaret[full]) (2022.9.24)\n",
            "Requirement already satisfied: toml in /usr/local/lib/python3.7/dist-packages (from responses>=0.13.0->moto>=3.0.7->pycaret[full]) (0.10.2)\n",
            "Requirement already satisfied: types-toml in /usr/local/lib/python3.7/dist-packages (from responses>=0.13.0->moto>=3.0.7->pycaret[full]) (0.10.8.1)\n",
            "Requirement already satisfied: pathos in /usr/local/lib/python3.7/dist-packages (from SALib>=1.3.3->interpret-core[dash,debug,decisiontree,ebm,lime,linear,notebook,plotly,required,sensitivity,shap,skoperules,treeinterpreter]>=0.2.7->interpret>=0.2.7->pycaret[full]) (0.3.0)\n",
            "Requirement already satisfied: tifffile>=2019.7.26 in /usr/local/lib/python3.7/dist-packages (from scikit-image>=0.12->lime>=0.1.1.33->interpret-core[dash,debug,decisiontree,ebm,lime,linear,notebook,plotly,required,sensitivity,shap,skoperules,treeinterpreter]>=0.2.7->interpret>=0.2.7->pycaret[full]) (2021.11.2)\n",
            "Requirement already satisfied: PyWavelets>=1.1.1 in /usr/local/lib/python3.7/dist-packages (from scikit-image>=0.12->lime>=0.1.1.33->interpret-core[dash,debug,decisiontree,ebm,lime,linear,notebook,plotly,required,sensitivity,shap,skoperules,treeinterpreter]>=0.2.7->interpret>=0.2.7->pycaret[full]) (1.3.0)\n",
            "Requirement already satisfied: imageio>=2.3.0 in /usr/local/lib/python3.7/dist-packages (from scikit-image>=0.12->lime>=0.1.1.33->interpret-core[dash,debug,decisiontree,ebm,lime,linear,notebook,plotly,required,sensitivity,shap,skoperules,treeinterpreter]>=0.2.7->interpret>=0.2.7->pycaret[full]) (2.9.0)\n",
            "Requirement already satisfied: threadpoolctl>=2.0.0 in /usr/local/lib/python3.7/dist-packages (from scikit-learn>=1.0->pycaret[full]) (3.1.0)\n",
            "Requirement already satisfied: daal4py==2021.6.3 in /usr/local/lib/python3.7/dist-packages (from scikit-learn-intelex>=2021.6.3->pycaret[full]) (2021.6.3)\n",
            "Requirement already satisfied: daal==2021.6.0 in /usr/local/lib/python3.7/dist-packages (from daal4py==2021.6.3->scikit-learn-intelex>=2021.6.3->pycaret[full]) (2021.6.0)\n",
            "Requirement already satisfied: tbb==2021.* in /usr/local/lib/python3.7/dist-packages (from daal==2021.6.0->daal4py==2021.6.3->scikit-learn-intelex>=2021.6.3->pycaret[full]) (2021.7.1)\n",
            "Requirement already satisfied: pyaml>=16.9 in /usr/local/lib/python3.7/dist-packages (from scikit-optimize>=0.9.0->pycaret[full]) (21.10.1)\n",
            "Requirement already satisfied: slicer==0.0.7 in /usr/local/lib/python3.7/dist-packages (from shap>=0.38.0->pycaret[full]) (0.0.7)\n",
            "Requirement already satisfied: deprecated>=1.2.13 in /usr/local/lib/python3.7/dist-packages (from sktime~=0.13.2->pycaret[full]) (1.2.13)\n",
            "Requirement already satisfied: wrapt<2,>=1.10 in /usr/local/lib/python3.7/dist-packages (from deprecated>=1.2.13->sktime~=0.13.2->pycaret[full]) (1.14.1)\n",
            "Requirement already satisfied: fs in /usr/local/lib/python3.7/dist-packages (from triad>=0.6.0->fugue~=0.6.6->pycaret[full]) (2.4.16)\n",
            "Requirement already satisfied: pynndescent>=0.5 in /usr/local/lib/python3.7/dist-packages (from umap-learn>=0.5.2->pycaret[full]) (0.5.8)\n",
            "Requirement already satisfied: distlib<1,>=0.3.6 in /usr/local/lib/python3.7/dist-packages (from virtualenv>=20.0.24->ray[tune]>=1.0.0->pycaret[full]) (0.3.6)\n",
            "Requirement already satisfied: platformdirs<3,>=2.4 in /usr/local/lib/python3.7/dist-packages (from virtualenv>=20.0.24->ray[tune]>=1.0.0->pycaret[full]) (2.5.4)\n",
            "Requirement already satisfied: notebook>=4.4.1 in /usr/local/lib/python3.7/dist-packages (from widgetsnbextension~=3.6.0->ipywidgets>=7.6.5->pycaret[full]) (5.7.16)\n",
            "Requirement already satisfied: pyzmq>=17 in /usr/local/lib/python3.7/dist-packages (from notebook>=4.4.1->widgetsnbextension~=3.6.0->ipywidgets>=7.6.5->pycaret[full]) (23.2.1)\n",
            "Requirement already satisfied: nbformat in /usr/local/lib/python3.7/dist-packages (from notebook>=4.4.1->widgetsnbextension~=3.6.0->ipywidgets>=7.6.5->pycaret[full]) (5.7.0)\n",
            "Requirement already satisfied: nbconvert<6.0 in /usr/local/lib/python3.7/dist-packages (from notebook>=4.4.1->widgetsnbextension~=3.6.0->ipywidgets>=7.6.5->pycaret[full]) (5.6.1)\n",
            "Requirement already satisfied: terminado>=0.8.1 in /usr/local/lib/python3.7/dist-packages (from notebook>=4.4.1->widgetsnbextension~=3.6.0->ipywidgets>=7.6.5->pycaret[full]) (0.13.3)\n",
            "Requirement already satisfied: Send2Trash in /usr/local/lib/python3.7/dist-packages (from notebook>=4.4.1->widgetsnbextension~=3.6.0->ipywidgets>=7.6.5->pycaret[full]) (1.8.0)\n",
            "Requirement already satisfied: jupyter-core>=4.4.0 in /usr/local/lib/python3.7/dist-packages (from notebook>=4.4.1->widgetsnbextension~=3.6.0->ipywidgets>=7.6.5->pycaret[full]) (4.11.2)\n",
            "Requirement already satisfied: mistune<2,>=0.8.1 in /usr/local/lib/python3.7/dist-packages (from nbconvert<6.0->notebook>=4.4.1->widgetsnbextension~=3.6.0->ipywidgets>=7.6.5->pycaret[full]) (0.8.4)\n",
            "Requirement already satisfied: testpath in /usr/local/lib/python3.7/dist-packages (from nbconvert<6.0->notebook>=4.4.1->widgetsnbextension~=3.6.0->ipywidgets>=7.6.5->pycaret[full]) (0.6.0)\n",
            "Requirement already satisfied: pandocfilters>=1.4.1 in /usr/local/lib/python3.7/dist-packages (from nbconvert<6.0->notebook>=4.4.1->widgetsnbextension~=3.6.0->ipywidgets>=7.6.5->pycaret[full]) (1.5.0)\n",
            "Requirement already satisfied: defusedxml in /usr/local/lib/python3.7/dist-packages (from nbconvert<6.0->notebook>=4.4.1->widgetsnbextension~=3.6.0->ipywidgets>=7.6.5->pycaret[full]) (0.7.1)\n",
            "Requirement already satisfied: fastjsonschema in /usr/local/lib/python3.7/dist-packages (from nbformat->notebook>=4.4.1->widgetsnbextension~=3.6.0->ipywidgets>=7.6.5->pycaret[full]) (2.16.2)\n",
            "Requirement already satisfied: pyrsistent!=0.17.0,!=0.17.1,!=0.17.2,>=0.14.0 in /usr/local/lib/python3.7/dist-packages (from jsonschema->ray[tune]>=1.0.0->pycaret[full]) (0.19.2)\n",
            "Requirement already satisfied: ptyprocess in /usr/local/lib/python3.7/dist-packages (from terminado>=0.8.1->notebook>=4.4.1->widgetsnbextension~=3.6.0->ipywidgets>=7.6.5->pycaret[full]) (0.7.0)\n",
            "Requirement already satisfied: async-timeout<5.0,>=4.0.0a3 in /usr/local/lib/python3.7/dist-packages (from aiohttp->gradio>=2.8.10->pycaret[full]) (4.0.2)\n",
            "Requirement already satisfied: asynctest==0.13.0 in /usr/local/lib/python3.7/dist-packages (from aiohttp->gradio>=2.8.10->pycaret[full]) (0.13.0)\n",
            "Requirement already satisfied: yarl<2.0,>=1.0 in /usr/local/lib/python3.7/dist-packages (from aiohttp->gradio>=2.8.10->pycaret[full]) (1.8.1)\n",
            "Requirement already satisfied: multidict<7.0,>=4.5 in /usr/local/lib/python3.7/dist-packages (from aiohttp->gradio>=2.8.10->pycaret[full]) (6.0.2)\n",
            "Requirement already satisfied: webencodings in /usr/local/lib/python3.7/dist-packages (from bleach->panel~=0.12.6->autoviz>=0.1.36->pycaret[full]) (0.5.1)\n",
            "Requirement already satisfied: autopage>=0.4.0 in /usr/local/lib/python3.7/dist-packages (from cliff->optuna>=2.2.0->pycaret[full]) (0.5.1)\n",
            "Requirement already satisfied: stevedore>=2.0.1 in /usr/local/lib/python3.7/dist-packages (from cliff->optuna>=2.2.0->pycaret[full]) (3.5.2)\n",
            "Requirement already satisfied: pbr!=2.1.0,>=2.0.0 in /usr/local/lib/python3.7/dist-packages (from cliff->optuna>=2.2.0->pycaret[full]) (5.11.0)\n",
            "Requirement already satisfied: PrettyTable>=0.7.2 in /usr/local/lib/python3.7/dist-packages (from cliff->optuna>=2.2.0->pycaret[full]) (3.5.0)\n",
            "Requirement already satisfied: cmd2>=1.0.0 in /usr/local/lib/python3.7/dist-packages (from cliff->optuna>=2.2.0->pycaret[full]) (2.4.2)\n",
            "Requirement already satisfied: pyperclip>=1.6 in /usr/local/lib/python3.7/dist-packages (from cmd2>=1.0.0->cliff->optuna>=2.2.0->pycaret[full]) (1.8.2)\n",
            "Requirement already satisfied: chart-studio>=1.0.0 in /usr/local/lib/python3.7/dist-packages (from dash-auth->explainerdashboard>=0.3.8->pycaret[full]) (1.1.0)\n",
            "Requirement already satisfied: flask-compress in /usr/local/lib/python3.7/dist-packages (from dash-auth->explainerdashboard>=0.3.8->pycaret[full]) (1.13)\n",
            "Requirement already satisfied: flask-seasurf in /usr/local/lib/python3.7/dist-packages (from dash-auth->explainerdashboard>=0.3.8->pycaret[full]) (1.1.1)\n",
            "Requirement already satisfied: ua-parser in /usr/local/lib/python3.7/dist-packages (from dash-auth->explainerdashboard>=0.3.8->pycaret[full]) (0.16.1)\n",
            "Requirement already satisfied: multiprocess>=0.70.12 in /usr/local/lib/python3.7/dist-packages (from dash[testing]->pycaret[full]) (0.70.14)\n",
            "Requirement already satisfied: selenium<=4.2.0,>=3.141.0 in /usr/local/lib/python3.7/dist-packages (from dash[testing]->pycaret[full]) (4.2.0)\n",
            "Requirement already satisfied: percy>=2.0.2 in /usr/local/lib/python3.7/dist-packages (from dash[testing]->pycaret[full]) (2.0.2)\n",
            "Requirement already satisfied: beautifulsoup4>=4.8.2 in /usr/local/lib/python3.7/dist-packages (from dash[testing]->pycaret[full]) (4.11.1)\n",
            "Requirement already satisfied: lxml>=4.6.2 in /usr/local/lib/python3.7/dist-packages (from dash[testing]->pycaret[full]) (4.9.1)\n",
            "Requirement already satisfied: soupsieve>1.2 in /usr/local/lib/python3.7/dist-packages (from beautifulsoup4>=4.8.2->dash[testing]->pycaret[full]) (2.3.2.post1)\n",
            "Requirement already satisfied: trio~=0.17 in /usr/local/lib/python3.7/dist-packages (from selenium<=4.2.0,>=3.141.0->dash[testing]->pycaret[full]) (0.22.0)\n",
            "Requirement already satisfied: trio-websocket~=0.9 in /usr/local/lib/python3.7/dist-packages (from selenium<=4.2.0,>=3.141.0->dash[testing]->pycaret[full]) (0.9.2)\n",
            "Requirement already satisfied: sortedcontainers in /usr/local/lib/python3.7/dist-packages (from trio~=0.17->selenium<=4.2.0,>=3.141.0->dash[testing]->pycaret[full]) (2.4.0)\n",
            "Requirement already satisfied: outcome in /usr/local/lib/python3.7/dist-packages (from trio~=0.17->selenium<=4.2.0,>=3.141.0->dash[testing]->pycaret[full]) (1.2.0)\n",
            "Requirement already satisfied: async-generator>=1.9 in /usr/local/lib/python3.7/dist-packages (from trio~=0.17->selenium<=4.2.0,>=3.141.0->dash[testing]->pycaret[full]) (1.10)\n",
            "Requirement already satisfied: wsproto>=0.14 in /usr/local/lib/python3.7/dist-packages (from trio-websocket~=0.9->selenium<=4.2.0,>=3.141.0->dash[testing]->pycaret[full]) (1.2.0)\n",
            "Requirement already satisfied: PySocks!=1.5.7,<2.0,>=1.5.6 in /usr/local/lib/python3.7/dist-packages (from urllib3<1.27,>=1.25.4->botocore<1.30.0,>=1.29.8->boto3>=1.24.56->pycaret[full]) (1.7.1)\n",
            "Requirement already satisfied: urllib3-secure-extra in /usr/local/lib/python3.7/dist-packages (from urllib3<1.27,>=1.25.4->botocore<1.30.0,>=1.29.8->boto3>=1.24.56->pycaret[full]) (0.1.0)\n",
            "Requirement already satisfied: pyOpenSSL>=0.14 in /usr/local/lib/python3.7/dist-packages (from urllib3<1.27,>=1.25.4->botocore<1.30.0,>=1.29.8->boto3>=1.24.56->pycaret[full]) (22.1.0)\n",
            "Requirement already satisfied: brotli in /usr/local/lib/python3.7/dist-packages (from flask-compress->dash-auth->explainerdashboard>=0.3.8->pycaret[full]) (1.0.9)\n",
            "Requirement already satisfied: Flask-WTF<0.16.0,>=0.15.1 in /usr/local/lib/python3.7/dist-packages (from flask-simplelogin->explainerdashboard>=0.3.8->pycaret[full]) (0.15.1)\n",
            "Requirement already satisfied: WTForms>=2.1 in /usr/local/lib/python3.7/dist-packages (from flask-simplelogin->explainerdashboard>=0.3.8->pycaret[full]) (3.0.1)\n",
            "Requirement already satisfied: appdirs~=1.4.3 in /usr/local/lib/python3.7/dist-packages (from fs->triad>=0.6.0->fugue~=0.6.6->pycaret[full]) (1.4.4)\n",
            "Requirement already satisfied: httpcore<0.14.0,>=0.13.3 in /usr/local/lib/python3.7/dist-packages (from httpx->gradio>=2.8.10->pycaret[full]) (0.13.7)\n",
            "Requirement already satisfied: rfc3986[idna2008]<2,>=1.3 in /usr/local/lib/python3.7/dist-packages (from httpx->gradio>=2.8.10->pycaret[full]) (1.5.0)\n",
            "Requirement already satisfied: qtconsole in /usr/local/lib/python3.7/dist-packages (from jupyter->autoviz>=0.1.36->pycaret[full]) (5.4.0)\n",
            "Requirement already satisfied: jupyter-console in /usr/local/lib/python3.7/dist-packages (from jupyter->autoviz>=0.1.36->pycaret[full]) (6.1.0)\n",
            "Requirement already satisfied: mdurl~=0.1 in /usr/local/lib/python3.7/dist-packages (from markdown-it-py[linkify,plugins]->gradio>=2.8.10->pycaret[full]) (0.1.2)\n",
            "Requirement already satisfied: mdit-py-plugins in /usr/local/lib/python3.7/dist-packages (from markdown-it-py[linkify,plugins]->gradio>=2.8.10->pycaret[full]) (0.3.1)\n",
            "Requirement already satisfied: linkify-it-py~=1.0 in /usr/local/lib/python3.7/dist-packages (from markdown-it-py[linkify,plugins]->gradio>=2.8.10->pycaret[full]) (1.0.3)\n",
            "Requirement already satisfied: uc-micro-py in /usr/local/lib/python3.7/dist-packages (from linkify-it-py~=1.0->markdown-it-py[linkify,plugins]->gradio>=2.8.10->pycaret[full]) (1.0.1)\n",
            "Requirement already satisfied: regex>=2021.8.3 in /usr/local/lib/python3.7/dist-packages (from nltk->autoviz>=0.1.36->pycaret[full]) (2022.6.2)\n",
            "Requirement already satisfied: bcrypt>=3.1.3 in /usr/local/lib/python3.7/dist-packages (from paramiko->gradio>=2.8.10->pycaret[full]) (4.0.1)\n",
            "Requirement already satisfied: pynacl>=1.0.1 in /usr/local/lib/python3.7/dist-packages (from paramiko->gradio>=2.8.10->pycaret[full]) (1.5.0)\n",
            "Requirement already satisfied: ppft>=1.7.6.6 in /usr/local/lib/python3.7/dist-packages (from pathos->SALib>=1.3.3->interpret-core[dash,debug,decisiontree,ebm,lime,linear,notebook,plotly,required,sensitivity,shap,skoperules,treeinterpreter]>=0.2.7->interpret>=0.2.7->pycaret[full]) (1.7.6.6)\n",
            "Requirement already satisfied: pox>=0.3.2 in /usr/local/lib/python3.7/dist-packages (from pathos->SALib>=1.3.3->interpret-core[dash,debug,decisiontree,ebm,lime,linear,notebook,plotly,required,sensitivity,shap,skoperules,treeinterpreter]>=0.2.7->interpret>=0.2.7->pycaret[full]) (0.3.2)\n",
            "Requirement already satisfied: qtpy>=2.0.1 in /usr/local/lib/python3.7/dist-packages (from qtconsole->jupyter->autoviz>=0.1.36->pycaret[full]) (2.3.0)\n"
          ]
        }
      ],
      "source": [
        "!pip install --pre pycaret[full]"
      ]
    },
    {
      "cell_type": "code",
      "execution_count": 2,
      "metadata": {
        "id": "pCtcmSOaN36q"
      },
      "outputs": [],
      "source": [
        "import pandas as pd\n",
        "import numpy as np"
      ]
    },
    {
      "cell_type": "code",
      "execution_count": 3,
      "metadata": {
        "id": "6gq7qVF9FV-c"
      },
      "outputs": [],
      "source": [
        "from pycaret.clustering import *"
      ]
    },
    {
      "cell_type": "code",
      "execution_count": 4,
      "metadata": {
        "id": "Q7mTxGOeRgjr"
      },
      "outputs": [],
      "source": [
        "import plotly.express as px\n",
        "import matplotlib.pyplot as plt"
      ]
    },
    {
      "cell_type": "code",
      "execution_count": 5,
      "metadata": {
        "id": "6YU6oAk7UfYB"
      },
      "outputs": [],
      "source": [
        "import seaborn as sns\n"
      ]
    },
    {
      "cell_type": "markdown",
      "metadata": {
        "id": "giV9Xmh-QhdF"
      },
      "source": [
        "# **Creación del DataFrame**"
      ]
    },
    {
      "cell_type": "code",
      "execution_count": 6,
      "metadata": {
        "colab": {
          "base_uri": "https://localhost:8080/",
          "height": 424
        },
        "id": "NR1EJ5SmNeRR",
        "outputId": "22f3948e-bfbe-489a-c75c-d4edeee1cbd0"
      },
      "outputs": [
        {
          "output_type": "execute_result",
          "data": {
            "text/plain": [
              "     CustomerID  Gender  Age  AnnualIncome  SpendingScore\n",
              "0             1    Male   19            15             39\n",
              "1             2    Male   21            15             81\n",
              "2             3  Female   20            16              6\n",
              "3             4  Female   23            16             77\n",
              "4             5  Female   31            17             40\n",
              "..          ...     ...  ...           ...            ...\n",
              "195         196  Female   35           120             79\n",
              "196         197  Female   45           126             28\n",
              "197         198    Male   32           126             74\n",
              "198         199    Male   32           137             18\n",
              "199         200    Male   30           137             83\n",
              "\n",
              "[200 rows x 5 columns]"
            ],
            "text/html": [
              "\n",
              "  <div id=\"df-1d35800e-cb13-44a2-b6b4-ddbfb57cdbd5\">\n",
              "    <div class=\"colab-df-container\">\n",
              "      <div>\n",
              "<style scoped>\n",
              "    .dataframe tbody tr th:only-of-type {\n",
              "        vertical-align: middle;\n",
              "    }\n",
              "\n",
              "    .dataframe tbody tr th {\n",
              "        vertical-align: top;\n",
              "    }\n",
              "\n",
              "    .dataframe thead th {\n",
              "        text-align: right;\n",
              "    }\n",
              "</style>\n",
              "<table border=\"1\" class=\"dataframe\">\n",
              "  <thead>\n",
              "    <tr style=\"text-align: right;\">\n",
              "      <th></th>\n",
              "      <th>CustomerID</th>\n",
              "      <th>Gender</th>\n",
              "      <th>Age</th>\n",
              "      <th>AnnualIncome</th>\n",
              "      <th>SpendingScore</th>\n",
              "    </tr>\n",
              "  </thead>\n",
              "  <tbody>\n",
              "    <tr>\n",
              "      <th>0</th>\n",
              "      <td>1</td>\n",
              "      <td>Male</td>\n",
              "      <td>19</td>\n",
              "      <td>15</td>\n",
              "      <td>39</td>\n",
              "    </tr>\n",
              "    <tr>\n",
              "      <th>1</th>\n",
              "      <td>2</td>\n",
              "      <td>Male</td>\n",
              "      <td>21</td>\n",
              "      <td>15</td>\n",
              "      <td>81</td>\n",
              "    </tr>\n",
              "    <tr>\n",
              "      <th>2</th>\n",
              "      <td>3</td>\n",
              "      <td>Female</td>\n",
              "      <td>20</td>\n",
              "      <td>16</td>\n",
              "      <td>6</td>\n",
              "    </tr>\n",
              "    <tr>\n",
              "      <th>3</th>\n",
              "      <td>4</td>\n",
              "      <td>Female</td>\n",
              "      <td>23</td>\n",
              "      <td>16</td>\n",
              "      <td>77</td>\n",
              "    </tr>\n",
              "    <tr>\n",
              "      <th>4</th>\n",
              "      <td>5</td>\n",
              "      <td>Female</td>\n",
              "      <td>31</td>\n",
              "      <td>17</td>\n",
              "      <td>40</td>\n",
              "    </tr>\n",
              "    <tr>\n",
              "      <th>...</th>\n",
              "      <td>...</td>\n",
              "      <td>...</td>\n",
              "      <td>...</td>\n",
              "      <td>...</td>\n",
              "      <td>...</td>\n",
              "    </tr>\n",
              "    <tr>\n",
              "      <th>195</th>\n",
              "      <td>196</td>\n",
              "      <td>Female</td>\n",
              "      <td>35</td>\n",
              "      <td>120</td>\n",
              "      <td>79</td>\n",
              "    </tr>\n",
              "    <tr>\n",
              "      <th>196</th>\n",
              "      <td>197</td>\n",
              "      <td>Female</td>\n",
              "      <td>45</td>\n",
              "      <td>126</td>\n",
              "      <td>28</td>\n",
              "    </tr>\n",
              "    <tr>\n",
              "      <th>197</th>\n",
              "      <td>198</td>\n",
              "      <td>Male</td>\n",
              "      <td>32</td>\n",
              "      <td>126</td>\n",
              "      <td>74</td>\n",
              "    </tr>\n",
              "    <tr>\n",
              "      <th>198</th>\n",
              "      <td>199</td>\n",
              "      <td>Male</td>\n",
              "      <td>32</td>\n",
              "      <td>137</td>\n",
              "      <td>18</td>\n",
              "    </tr>\n",
              "    <tr>\n",
              "      <th>199</th>\n",
              "      <td>200</td>\n",
              "      <td>Male</td>\n",
              "      <td>30</td>\n",
              "      <td>137</td>\n",
              "      <td>83</td>\n",
              "    </tr>\n",
              "  </tbody>\n",
              "</table>\n",
              "<p>200 rows × 5 columns</p>\n",
              "</div>\n",
              "      <button class=\"colab-df-convert\" onclick=\"convertToInteractive('df-1d35800e-cb13-44a2-b6b4-ddbfb57cdbd5')\"\n",
              "              title=\"Convert this dataframe to an interactive table.\"\n",
              "              style=\"display:none;\">\n",
              "        \n",
              "  <svg xmlns=\"http://www.w3.org/2000/svg\" height=\"24px\"viewBox=\"0 0 24 24\"\n",
              "       width=\"24px\">\n",
              "    <path d=\"M0 0h24v24H0V0z\" fill=\"none\"/>\n",
              "    <path d=\"M18.56 5.44l.94 2.06.94-2.06 2.06-.94-2.06-.94-.94-2.06-.94 2.06-2.06.94zm-11 1L8.5 8.5l.94-2.06 2.06-.94-2.06-.94L8.5 2.5l-.94 2.06-2.06.94zm10 10l.94 2.06.94-2.06 2.06-.94-2.06-.94-.94-2.06-.94 2.06-2.06.94z\"/><path d=\"M17.41 7.96l-1.37-1.37c-.4-.4-.92-.59-1.43-.59-.52 0-1.04.2-1.43.59L10.3 9.45l-7.72 7.72c-.78.78-.78 2.05 0 2.83L4 21.41c.39.39.9.59 1.41.59.51 0 1.02-.2 1.41-.59l7.78-7.78 2.81-2.81c.8-.78.8-2.07 0-2.86zM5.41 20L4 18.59l7.72-7.72 1.47 1.35L5.41 20z\"/>\n",
              "  </svg>\n",
              "      </button>\n",
              "      \n",
              "  <style>\n",
              "    .colab-df-container {\n",
              "      display:flex;\n",
              "      flex-wrap:wrap;\n",
              "      gap: 12px;\n",
              "    }\n",
              "\n",
              "    .colab-df-convert {\n",
              "      background-color: #E8F0FE;\n",
              "      border: none;\n",
              "      border-radius: 50%;\n",
              "      cursor: pointer;\n",
              "      display: none;\n",
              "      fill: #1967D2;\n",
              "      height: 32px;\n",
              "      padding: 0 0 0 0;\n",
              "      width: 32px;\n",
              "    }\n",
              "\n",
              "    .colab-df-convert:hover {\n",
              "      background-color: #E2EBFA;\n",
              "      box-shadow: 0px 1px 2px rgba(60, 64, 67, 0.3), 0px 1px 3px 1px rgba(60, 64, 67, 0.15);\n",
              "      fill: #174EA6;\n",
              "    }\n",
              "\n",
              "    [theme=dark] .colab-df-convert {\n",
              "      background-color: #3B4455;\n",
              "      fill: #D2E3FC;\n",
              "    }\n",
              "\n",
              "    [theme=dark] .colab-df-convert:hover {\n",
              "      background-color: #434B5C;\n",
              "      box-shadow: 0px 1px 3px 1px rgba(0, 0, 0, 0.15);\n",
              "      filter: drop-shadow(0px 1px 2px rgba(0, 0, 0, 0.3));\n",
              "      fill: #FFFFFF;\n",
              "    }\n",
              "  </style>\n",
              "\n",
              "      <script>\n",
              "        const buttonEl =\n",
              "          document.querySelector('#df-1d35800e-cb13-44a2-b6b4-ddbfb57cdbd5 button.colab-df-convert');\n",
              "        buttonEl.style.display =\n",
              "          google.colab.kernel.accessAllowed ? 'block' : 'none';\n",
              "\n",
              "        async function convertToInteractive(key) {\n",
              "          const element = document.querySelector('#df-1d35800e-cb13-44a2-b6b4-ddbfb57cdbd5');\n",
              "          const dataTable =\n",
              "            await google.colab.kernel.invokeFunction('convertToInteractive',\n",
              "                                                     [key], {});\n",
              "          if (!dataTable) return;\n",
              "\n",
              "          const docLinkHtml = 'Like what you see? Visit the ' +\n",
              "            '<a target=\"_blank\" href=https://colab.research.google.com/notebooks/data_table.ipynb>data table notebook</a>'\n",
              "            + ' to learn more about interactive tables.';\n",
              "          element.innerHTML = '';\n",
              "          dataTable['output_type'] = 'display_data';\n",
              "          await google.colab.output.renderOutput(dataTable, element);\n",
              "          const docLink = document.createElement('div');\n",
              "          docLink.innerHTML = docLinkHtml;\n",
              "          element.appendChild(docLink);\n",
              "        }\n",
              "      </script>\n",
              "    </div>\n",
              "  </div>\n",
              "  "
            ]
          },
          "metadata": {},
          "execution_count": 6
        }
      ],
      "source": [
        "datos = \"https://raw.githubusercontent.com/LucaAPiattelli/Diplomatura_Business_Analytics_UDA/main/Modulo_11_Agrupacion/Mall_Customers.csv\"\n",
        "clientes_df = pd.read_csv(datos)\n",
        "clientes_df"
      ]
    },
    {
      "cell_type": "markdown",
      "metadata": {
        "id": "Z9ySzFDS-Ulf"
      },
      "source": [
        "- CustomerID - ID de cliente\n",
        "- Gender - Genero\n",
        "- Age - Edad\n",
        "- AnualIncome - Ingreso Anual\n",
        "- SpendingScore - Score de gasto en el mall"
      ]
    },
    {
      "cell_type": "code",
      "execution_count": 7,
      "metadata": {
        "colab": {
          "base_uri": "https://localhost:8080/",
          "height": 206
        },
        "id": "IY-J1n4qFeuE",
        "outputId": "517a6e06-61ca-49dd-9b6d-87ef5188b8be"
      },
      "outputs": [
        {
          "output_type": "execute_result",
          "data": {
            "text/plain": [
              "   CustomerID  Gender  Age  AnnualIncome  SpendingScore\n",
              "0           1    Male   19            15             39\n",
              "1           2    Male   21            15             81\n",
              "2           3  Female   20            16              6\n",
              "3           4  Female   23            16             77\n",
              "4           5  Female   31            17             40"
            ],
            "text/html": [
              "\n",
              "  <div id=\"df-efa1728a-780d-4f60-93cd-47cd41500971\">\n",
              "    <div class=\"colab-df-container\">\n",
              "      <div>\n",
              "<style scoped>\n",
              "    .dataframe tbody tr th:only-of-type {\n",
              "        vertical-align: middle;\n",
              "    }\n",
              "\n",
              "    .dataframe tbody tr th {\n",
              "        vertical-align: top;\n",
              "    }\n",
              "\n",
              "    .dataframe thead th {\n",
              "        text-align: right;\n",
              "    }\n",
              "</style>\n",
              "<table border=\"1\" class=\"dataframe\">\n",
              "  <thead>\n",
              "    <tr style=\"text-align: right;\">\n",
              "      <th></th>\n",
              "      <th>CustomerID</th>\n",
              "      <th>Gender</th>\n",
              "      <th>Age</th>\n",
              "      <th>AnnualIncome</th>\n",
              "      <th>SpendingScore</th>\n",
              "    </tr>\n",
              "  </thead>\n",
              "  <tbody>\n",
              "    <tr>\n",
              "      <th>0</th>\n",
              "      <td>1</td>\n",
              "      <td>Male</td>\n",
              "      <td>19</td>\n",
              "      <td>15</td>\n",
              "      <td>39</td>\n",
              "    </tr>\n",
              "    <tr>\n",
              "      <th>1</th>\n",
              "      <td>2</td>\n",
              "      <td>Male</td>\n",
              "      <td>21</td>\n",
              "      <td>15</td>\n",
              "      <td>81</td>\n",
              "    </tr>\n",
              "    <tr>\n",
              "      <th>2</th>\n",
              "      <td>3</td>\n",
              "      <td>Female</td>\n",
              "      <td>20</td>\n",
              "      <td>16</td>\n",
              "      <td>6</td>\n",
              "    </tr>\n",
              "    <tr>\n",
              "      <th>3</th>\n",
              "      <td>4</td>\n",
              "      <td>Female</td>\n",
              "      <td>23</td>\n",
              "      <td>16</td>\n",
              "      <td>77</td>\n",
              "    </tr>\n",
              "    <tr>\n",
              "      <th>4</th>\n",
              "      <td>5</td>\n",
              "      <td>Female</td>\n",
              "      <td>31</td>\n",
              "      <td>17</td>\n",
              "      <td>40</td>\n",
              "    </tr>\n",
              "  </tbody>\n",
              "</table>\n",
              "</div>\n",
              "      <button class=\"colab-df-convert\" onclick=\"convertToInteractive('df-efa1728a-780d-4f60-93cd-47cd41500971')\"\n",
              "              title=\"Convert this dataframe to an interactive table.\"\n",
              "              style=\"display:none;\">\n",
              "        \n",
              "  <svg xmlns=\"http://www.w3.org/2000/svg\" height=\"24px\"viewBox=\"0 0 24 24\"\n",
              "       width=\"24px\">\n",
              "    <path d=\"M0 0h24v24H0V0z\" fill=\"none\"/>\n",
              "    <path d=\"M18.56 5.44l.94 2.06.94-2.06 2.06-.94-2.06-.94-.94-2.06-.94 2.06-2.06.94zm-11 1L8.5 8.5l.94-2.06 2.06-.94-2.06-.94L8.5 2.5l-.94 2.06-2.06.94zm10 10l.94 2.06.94-2.06 2.06-.94-2.06-.94-.94-2.06-.94 2.06-2.06.94z\"/><path d=\"M17.41 7.96l-1.37-1.37c-.4-.4-.92-.59-1.43-.59-.52 0-1.04.2-1.43.59L10.3 9.45l-7.72 7.72c-.78.78-.78 2.05 0 2.83L4 21.41c.39.39.9.59 1.41.59.51 0 1.02-.2 1.41-.59l7.78-7.78 2.81-2.81c.8-.78.8-2.07 0-2.86zM5.41 20L4 18.59l7.72-7.72 1.47 1.35L5.41 20z\"/>\n",
              "  </svg>\n",
              "      </button>\n",
              "      \n",
              "  <style>\n",
              "    .colab-df-container {\n",
              "      display:flex;\n",
              "      flex-wrap:wrap;\n",
              "      gap: 12px;\n",
              "    }\n",
              "\n",
              "    .colab-df-convert {\n",
              "      background-color: #E8F0FE;\n",
              "      border: none;\n",
              "      border-radius: 50%;\n",
              "      cursor: pointer;\n",
              "      display: none;\n",
              "      fill: #1967D2;\n",
              "      height: 32px;\n",
              "      padding: 0 0 0 0;\n",
              "      width: 32px;\n",
              "    }\n",
              "\n",
              "    .colab-df-convert:hover {\n",
              "      background-color: #E2EBFA;\n",
              "      box-shadow: 0px 1px 2px rgba(60, 64, 67, 0.3), 0px 1px 3px 1px rgba(60, 64, 67, 0.15);\n",
              "      fill: #174EA6;\n",
              "    }\n",
              "\n",
              "    [theme=dark] .colab-df-convert {\n",
              "      background-color: #3B4455;\n",
              "      fill: #D2E3FC;\n",
              "    }\n",
              "\n",
              "    [theme=dark] .colab-df-convert:hover {\n",
              "      background-color: #434B5C;\n",
              "      box-shadow: 0px 1px 3px 1px rgba(0, 0, 0, 0.15);\n",
              "      filter: drop-shadow(0px 1px 2px rgba(0, 0, 0, 0.3));\n",
              "      fill: #FFFFFF;\n",
              "    }\n",
              "  </style>\n",
              "\n",
              "      <script>\n",
              "        const buttonEl =\n",
              "          document.querySelector('#df-efa1728a-780d-4f60-93cd-47cd41500971 button.colab-df-convert');\n",
              "        buttonEl.style.display =\n",
              "          google.colab.kernel.accessAllowed ? 'block' : 'none';\n",
              "\n",
              "        async function convertToInteractive(key) {\n",
              "          const element = document.querySelector('#df-efa1728a-780d-4f60-93cd-47cd41500971');\n",
              "          const dataTable =\n",
              "            await google.colab.kernel.invokeFunction('convertToInteractive',\n",
              "                                                     [key], {});\n",
              "          if (!dataTable) return;\n",
              "\n",
              "          const docLinkHtml = 'Like what you see? Visit the ' +\n",
              "            '<a target=\"_blank\" href=https://colab.research.google.com/notebooks/data_table.ipynb>data table notebook</a>'\n",
              "            + ' to learn more about interactive tables.';\n",
              "          element.innerHTML = '';\n",
              "          dataTable['output_type'] = 'display_data';\n",
              "          await google.colab.output.renderOutput(dataTable, element);\n",
              "          const docLink = document.createElement('div');\n",
              "          docLink.innerHTML = docLinkHtml;\n",
              "          element.appendChild(docLink);\n",
              "        }\n",
              "      </script>\n",
              "    </div>\n",
              "  </div>\n",
              "  "
            ]
          },
          "metadata": {},
          "execution_count": 7
        }
      ],
      "source": [
        "clientes_df.head()"
      ]
    },
    {
      "cell_type": "markdown",
      "metadata": {
        "id": "Ys1eikZ1FmAN"
      },
      "source": [
        "# **Limpieza**"
      ]
    },
    {
      "cell_type": "code",
      "execution_count": 8,
      "metadata": {
        "colab": {
          "base_uri": "https://localhost:8080/"
        },
        "id": "tcDuAf1oFopf",
        "outputId": "ead4b747-33d7-4149-def8-705cfb8a708c"
      },
      "outputs": [
        {
          "output_type": "stream",
          "name": "stdout",
          "text": [
            "<class 'pandas.core.frame.DataFrame'>\n",
            "RangeIndex: 200 entries, 0 to 199\n",
            "Data columns (total 5 columns):\n",
            " #   Column         Non-Null Count  Dtype \n",
            "---  ------         --------------  ----- \n",
            " 0   CustomerID     200 non-null    int64 \n",
            " 1   Gender         200 non-null    object\n",
            " 2   Age            200 non-null    int64 \n",
            " 3   AnnualIncome   200 non-null    int64 \n",
            " 4   SpendingScore  200 non-null    int64 \n",
            "dtypes: int64(4), object(1)\n",
            "memory usage: 7.9+ KB\n"
          ]
        }
      ],
      "source": [
        "clientes_df.info()"
      ]
    },
    {
      "cell_type": "markdown",
      "metadata": {
        "id": "3nS3R9KKHXQi"
      },
      "source": [
        "Eliminamos las variables que no son relavantes para este problema"
      ]
    },
    {
      "cell_type": "code",
      "execution_count": 9,
      "metadata": {
        "colab": {
          "base_uri": "https://localhost:8080/",
          "height": 206
        },
        "id": "fzHTb63eHNxh",
        "outputId": "9688d73b-dc43-4365-fc6c-8e148277719e"
      },
      "outputs": [
        {
          "output_type": "execute_result",
          "data": {
            "text/plain": [
              "   Age  AnnualIncome  SpendingScore\n",
              "0   19            15             39\n",
              "1   21            15             81\n",
              "2   20            16              6\n",
              "3   23            16             77\n",
              "4   31            17             40"
            ],
            "text/html": [
              "\n",
              "  <div id=\"df-ed3ef588-dbe0-4439-aa17-f8d0cac3be0e\">\n",
              "    <div class=\"colab-df-container\">\n",
              "      <div>\n",
              "<style scoped>\n",
              "    .dataframe tbody tr th:only-of-type {\n",
              "        vertical-align: middle;\n",
              "    }\n",
              "\n",
              "    .dataframe tbody tr th {\n",
              "        vertical-align: top;\n",
              "    }\n",
              "\n",
              "    .dataframe thead th {\n",
              "        text-align: right;\n",
              "    }\n",
              "</style>\n",
              "<table border=\"1\" class=\"dataframe\">\n",
              "  <thead>\n",
              "    <tr style=\"text-align: right;\">\n",
              "      <th></th>\n",
              "      <th>Age</th>\n",
              "      <th>AnnualIncome</th>\n",
              "      <th>SpendingScore</th>\n",
              "    </tr>\n",
              "  </thead>\n",
              "  <tbody>\n",
              "    <tr>\n",
              "      <th>0</th>\n",
              "      <td>19</td>\n",
              "      <td>15</td>\n",
              "      <td>39</td>\n",
              "    </tr>\n",
              "    <tr>\n",
              "      <th>1</th>\n",
              "      <td>21</td>\n",
              "      <td>15</td>\n",
              "      <td>81</td>\n",
              "    </tr>\n",
              "    <tr>\n",
              "      <th>2</th>\n",
              "      <td>20</td>\n",
              "      <td>16</td>\n",
              "      <td>6</td>\n",
              "    </tr>\n",
              "    <tr>\n",
              "      <th>3</th>\n",
              "      <td>23</td>\n",
              "      <td>16</td>\n",
              "      <td>77</td>\n",
              "    </tr>\n",
              "    <tr>\n",
              "      <th>4</th>\n",
              "      <td>31</td>\n",
              "      <td>17</td>\n",
              "      <td>40</td>\n",
              "    </tr>\n",
              "  </tbody>\n",
              "</table>\n",
              "</div>\n",
              "      <button class=\"colab-df-convert\" onclick=\"convertToInteractive('df-ed3ef588-dbe0-4439-aa17-f8d0cac3be0e')\"\n",
              "              title=\"Convert this dataframe to an interactive table.\"\n",
              "              style=\"display:none;\">\n",
              "        \n",
              "  <svg xmlns=\"http://www.w3.org/2000/svg\" height=\"24px\"viewBox=\"0 0 24 24\"\n",
              "       width=\"24px\">\n",
              "    <path d=\"M0 0h24v24H0V0z\" fill=\"none\"/>\n",
              "    <path d=\"M18.56 5.44l.94 2.06.94-2.06 2.06-.94-2.06-.94-.94-2.06-.94 2.06-2.06.94zm-11 1L8.5 8.5l.94-2.06 2.06-.94-2.06-.94L8.5 2.5l-.94 2.06-2.06.94zm10 10l.94 2.06.94-2.06 2.06-.94-2.06-.94-.94-2.06-.94 2.06-2.06.94z\"/><path d=\"M17.41 7.96l-1.37-1.37c-.4-.4-.92-.59-1.43-.59-.52 0-1.04.2-1.43.59L10.3 9.45l-7.72 7.72c-.78.78-.78 2.05 0 2.83L4 21.41c.39.39.9.59 1.41.59.51 0 1.02-.2 1.41-.59l7.78-7.78 2.81-2.81c.8-.78.8-2.07 0-2.86zM5.41 20L4 18.59l7.72-7.72 1.47 1.35L5.41 20z\"/>\n",
              "  </svg>\n",
              "      </button>\n",
              "      \n",
              "  <style>\n",
              "    .colab-df-container {\n",
              "      display:flex;\n",
              "      flex-wrap:wrap;\n",
              "      gap: 12px;\n",
              "    }\n",
              "\n",
              "    .colab-df-convert {\n",
              "      background-color: #E8F0FE;\n",
              "      border: none;\n",
              "      border-radius: 50%;\n",
              "      cursor: pointer;\n",
              "      display: none;\n",
              "      fill: #1967D2;\n",
              "      height: 32px;\n",
              "      padding: 0 0 0 0;\n",
              "      width: 32px;\n",
              "    }\n",
              "\n",
              "    .colab-df-convert:hover {\n",
              "      background-color: #E2EBFA;\n",
              "      box-shadow: 0px 1px 2px rgba(60, 64, 67, 0.3), 0px 1px 3px 1px rgba(60, 64, 67, 0.15);\n",
              "      fill: #174EA6;\n",
              "    }\n",
              "\n",
              "    [theme=dark] .colab-df-convert {\n",
              "      background-color: #3B4455;\n",
              "      fill: #D2E3FC;\n",
              "    }\n",
              "\n",
              "    [theme=dark] .colab-df-convert:hover {\n",
              "      background-color: #434B5C;\n",
              "      box-shadow: 0px 1px 3px 1px rgba(0, 0, 0, 0.15);\n",
              "      filter: drop-shadow(0px 1px 2px rgba(0, 0, 0, 0.3));\n",
              "      fill: #FFFFFF;\n",
              "    }\n",
              "  </style>\n",
              "\n",
              "      <script>\n",
              "        const buttonEl =\n",
              "          document.querySelector('#df-ed3ef588-dbe0-4439-aa17-f8d0cac3be0e button.colab-df-convert');\n",
              "        buttonEl.style.display =\n",
              "          google.colab.kernel.accessAllowed ? 'block' : 'none';\n",
              "\n",
              "        async function convertToInteractive(key) {\n",
              "          const element = document.querySelector('#df-ed3ef588-dbe0-4439-aa17-f8d0cac3be0e');\n",
              "          const dataTable =\n",
              "            await google.colab.kernel.invokeFunction('convertToInteractive',\n",
              "                                                     [key], {});\n",
              "          if (!dataTable) return;\n",
              "\n",
              "          const docLinkHtml = 'Like what you see? Visit the ' +\n",
              "            '<a target=\"_blank\" href=https://colab.research.google.com/notebooks/data_table.ipynb>data table notebook</a>'\n",
              "            + ' to learn more about interactive tables.';\n",
              "          element.innerHTML = '';\n",
              "          dataTable['output_type'] = 'display_data';\n",
              "          await google.colab.output.renderOutput(dataTable, element);\n",
              "          const docLink = document.createElement('div');\n",
              "          docLink.innerHTML = docLinkHtml;\n",
              "          element.appendChild(docLink);\n",
              "        }\n",
              "      </script>\n",
              "    </div>\n",
              "  </div>\n",
              "  "
            ]
          },
          "metadata": {},
          "execution_count": 9
        }
      ],
      "source": [
        "clientes_df = clientes_df.drop(columns=[\"CustomerID\",\"Gender\"])\n",
        "clientes_df.head(5) "
      ]
    },
    {
      "cell_type": "code",
      "execution_count": 10,
      "metadata": {
        "colab": {
          "base_uri": "https://localhost:8080/"
        },
        "id": "CLUna349Ht1E",
        "outputId": "2e726c6b-dbc3-48e5-f650-b876083788fe"
      },
      "outputs": [
        {
          "output_type": "execute_result",
          "data": {
            "text/plain": [
              "(200, 3)"
            ]
          },
          "metadata": {},
          "execution_count": 10
        }
      ],
      "source": [
        "clientes_df.shape"
      ]
    },
    {
      "cell_type": "code",
      "execution_count": 11,
      "metadata": {
        "colab": {
          "base_uri": "https://localhost:8080/"
        },
        "id": "T2h5n0-BJu3W",
        "outputId": "f1611abc-08da-4459-a49e-b3b18ebfb7c1"
      },
      "outputs": [
        {
          "output_type": "execute_result",
          "data": {
            "text/plain": [
              "Index(['Age', 'AnnualIncome', 'SpendingScore'], dtype='object')"
            ]
          },
          "metadata": {},
          "execution_count": 11
        }
      ],
      "source": [
        "clientes_df.columns"
      ]
    },
    {
      "cell_type": "code",
      "execution_count": 12,
      "metadata": {
        "colab": {
          "base_uri": "https://localhost:8080/",
          "height": 206
        },
        "id": "VjgiFNBgLEH2",
        "outputId": "22ef46a5-39be-4997-d50d-62a4574cd92c"
      },
      "outputs": [
        {
          "output_type": "execute_result",
          "data": {
            "text/plain": [
              "   Age  AnnualIncome  SpendingScore\n",
              "0   19            15             39\n",
              "1   21            15             81\n",
              "2   20            16              6\n",
              "3   23            16             77\n",
              "4   31            17             40"
            ],
            "text/html": [
              "\n",
              "  <div id=\"df-d9259043-aeec-4704-a0af-188fd2c8fec9\">\n",
              "    <div class=\"colab-df-container\">\n",
              "      <div>\n",
              "<style scoped>\n",
              "    .dataframe tbody tr th:only-of-type {\n",
              "        vertical-align: middle;\n",
              "    }\n",
              "\n",
              "    .dataframe tbody tr th {\n",
              "        vertical-align: top;\n",
              "    }\n",
              "\n",
              "    .dataframe thead th {\n",
              "        text-align: right;\n",
              "    }\n",
              "</style>\n",
              "<table border=\"1\" class=\"dataframe\">\n",
              "  <thead>\n",
              "    <tr style=\"text-align: right;\">\n",
              "      <th></th>\n",
              "      <th>Age</th>\n",
              "      <th>AnnualIncome</th>\n",
              "      <th>SpendingScore</th>\n",
              "    </tr>\n",
              "  </thead>\n",
              "  <tbody>\n",
              "    <tr>\n",
              "      <th>0</th>\n",
              "      <td>19</td>\n",
              "      <td>15</td>\n",
              "      <td>39</td>\n",
              "    </tr>\n",
              "    <tr>\n",
              "      <th>1</th>\n",
              "      <td>21</td>\n",
              "      <td>15</td>\n",
              "      <td>81</td>\n",
              "    </tr>\n",
              "    <tr>\n",
              "      <th>2</th>\n",
              "      <td>20</td>\n",
              "      <td>16</td>\n",
              "      <td>6</td>\n",
              "    </tr>\n",
              "    <tr>\n",
              "      <th>3</th>\n",
              "      <td>23</td>\n",
              "      <td>16</td>\n",
              "      <td>77</td>\n",
              "    </tr>\n",
              "    <tr>\n",
              "      <th>4</th>\n",
              "      <td>31</td>\n",
              "      <td>17</td>\n",
              "      <td>40</td>\n",
              "    </tr>\n",
              "  </tbody>\n",
              "</table>\n",
              "</div>\n",
              "      <button class=\"colab-df-convert\" onclick=\"convertToInteractive('df-d9259043-aeec-4704-a0af-188fd2c8fec9')\"\n",
              "              title=\"Convert this dataframe to an interactive table.\"\n",
              "              style=\"display:none;\">\n",
              "        \n",
              "  <svg xmlns=\"http://www.w3.org/2000/svg\" height=\"24px\"viewBox=\"0 0 24 24\"\n",
              "       width=\"24px\">\n",
              "    <path d=\"M0 0h24v24H0V0z\" fill=\"none\"/>\n",
              "    <path d=\"M18.56 5.44l.94 2.06.94-2.06 2.06-.94-2.06-.94-.94-2.06-.94 2.06-2.06.94zm-11 1L8.5 8.5l.94-2.06 2.06-.94-2.06-.94L8.5 2.5l-.94 2.06-2.06.94zm10 10l.94 2.06.94-2.06 2.06-.94-2.06-.94-.94-2.06-.94 2.06-2.06.94z\"/><path d=\"M17.41 7.96l-1.37-1.37c-.4-.4-.92-.59-1.43-.59-.52 0-1.04.2-1.43.59L10.3 9.45l-7.72 7.72c-.78.78-.78 2.05 0 2.83L4 21.41c.39.39.9.59 1.41.59.51 0 1.02-.2 1.41-.59l7.78-7.78 2.81-2.81c.8-.78.8-2.07 0-2.86zM5.41 20L4 18.59l7.72-7.72 1.47 1.35L5.41 20z\"/>\n",
              "  </svg>\n",
              "      </button>\n",
              "      \n",
              "  <style>\n",
              "    .colab-df-container {\n",
              "      display:flex;\n",
              "      flex-wrap:wrap;\n",
              "      gap: 12px;\n",
              "    }\n",
              "\n",
              "    .colab-df-convert {\n",
              "      background-color: #E8F0FE;\n",
              "      border: none;\n",
              "      border-radius: 50%;\n",
              "      cursor: pointer;\n",
              "      display: none;\n",
              "      fill: #1967D2;\n",
              "      height: 32px;\n",
              "      padding: 0 0 0 0;\n",
              "      width: 32px;\n",
              "    }\n",
              "\n",
              "    .colab-df-convert:hover {\n",
              "      background-color: #E2EBFA;\n",
              "      box-shadow: 0px 1px 2px rgba(60, 64, 67, 0.3), 0px 1px 3px 1px rgba(60, 64, 67, 0.15);\n",
              "      fill: #174EA6;\n",
              "    }\n",
              "\n",
              "    [theme=dark] .colab-df-convert {\n",
              "      background-color: #3B4455;\n",
              "      fill: #D2E3FC;\n",
              "    }\n",
              "\n",
              "    [theme=dark] .colab-df-convert:hover {\n",
              "      background-color: #434B5C;\n",
              "      box-shadow: 0px 1px 3px 1px rgba(0, 0, 0, 0.15);\n",
              "      filter: drop-shadow(0px 1px 2px rgba(0, 0, 0, 0.3));\n",
              "      fill: #FFFFFF;\n",
              "    }\n",
              "  </style>\n",
              "\n",
              "      <script>\n",
              "        const buttonEl =\n",
              "          document.querySelector('#df-d9259043-aeec-4704-a0af-188fd2c8fec9 button.colab-df-convert');\n",
              "        buttonEl.style.display =\n",
              "          google.colab.kernel.accessAllowed ? 'block' : 'none';\n",
              "\n",
              "        async function convertToInteractive(key) {\n",
              "          const element = document.querySelector('#df-d9259043-aeec-4704-a0af-188fd2c8fec9');\n",
              "          const dataTable =\n",
              "            await google.colab.kernel.invokeFunction('convertToInteractive',\n",
              "                                                     [key], {});\n",
              "          if (!dataTable) return;\n",
              "\n",
              "          const docLinkHtml = 'Like what you see? Visit the ' +\n",
              "            '<a target=\"_blank\" href=https://colab.research.google.com/notebooks/data_table.ipynb>data table notebook</a>'\n",
              "            + ' to learn more about interactive tables.';\n",
              "          element.innerHTML = '';\n",
              "          dataTable['output_type'] = 'display_data';\n",
              "          await google.colab.output.renderOutput(dataTable, element);\n",
              "          const docLink = document.createElement('div');\n",
              "          docLink.innerHTML = docLinkHtml;\n",
              "          element.appendChild(docLink);\n",
              "        }\n",
              "      </script>\n",
              "    </div>\n",
              "  </div>\n",
              "  "
            ]
          },
          "metadata": {},
          "execution_count": 12
        }
      ],
      "source": [
        "clientes_df.head()"
      ]
    },
    {
      "cell_type": "code",
      "execution_count": 13,
      "metadata": {
        "id": "NiP5KByvJmrJ"
      },
      "outputs": [],
      "source": [
        "nombres_columnas = [\"Edad\", \"IngresoAnual\", \"ScoreGastoMall\"]"
      ]
    },
    {
      "cell_type": "code",
      "execution_count": 14,
      "metadata": {
        "id": "imH6G04ZJqfp"
      },
      "outputs": [],
      "source": [
        "clientes_df.columns = nombres_columnas"
      ]
    },
    {
      "cell_type": "code",
      "execution_count": 15,
      "metadata": {
        "colab": {
          "base_uri": "https://localhost:8080/",
          "height": 206
        },
        "id": "0iZtZ-VbJ9Rw",
        "outputId": "a7a92f16-619f-4a13-f4aa-878c7cec647b"
      },
      "outputs": [
        {
          "output_type": "execute_result",
          "data": {
            "text/plain": [
              "   Edad  IngresoAnual  ScoreGastoMall\n",
              "0    19            15              39\n",
              "1    21            15              81\n",
              "2    20            16               6\n",
              "3    23            16              77\n",
              "4    31            17              40"
            ],
            "text/html": [
              "\n",
              "  <div id=\"df-5c7d8b25-aa1d-48c3-85bc-be8cff307d7d\">\n",
              "    <div class=\"colab-df-container\">\n",
              "      <div>\n",
              "<style scoped>\n",
              "    .dataframe tbody tr th:only-of-type {\n",
              "        vertical-align: middle;\n",
              "    }\n",
              "\n",
              "    .dataframe tbody tr th {\n",
              "        vertical-align: top;\n",
              "    }\n",
              "\n",
              "    .dataframe thead th {\n",
              "        text-align: right;\n",
              "    }\n",
              "</style>\n",
              "<table border=\"1\" class=\"dataframe\">\n",
              "  <thead>\n",
              "    <tr style=\"text-align: right;\">\n",
              "      <th></th>\n",
              "      <th>Edad</th>\n",
              "      <th>IngresoAnual</th>\n",
              "      <th>ScoreGastoMall</th>\n",
              "    </tr>\n",
              "  </thead>\n",
              "  <tbody>\n",
              "    <tr>\n",
              "      <th>0</th>\n",
              "      <td>19</td>\n",
              "      <td>15</td>\n",
              "      <td>39</td>\n",
              "    </tr>\n",
              "    <tr>\n",
              "      <th>1</th>\n",
              "      <td>21</td>\n",
              "      <td>15</td>\n",
              "      <td>81</td>\n",
              "    </tr>\n",
              "    <tr>\n",
              "      <th>2</th>\n",
              "      <td>20</td>\n",
              "      <td>16</td>\n",
              "      <td>6</td>\n",
              "    </tr>\n",
              "    <tr>\n",
              "      <th>3</th>\n",
              "      <td>23</td>\n",
              "      <td>16</td>\n",
              "      <td>77</td>\n",
              "    </tr>\n",
              "    <tr>\n",
              "      <th>4</th>\n",
              "      <td>31</td>\n",
              "      <td>17</td>\n",
              "      <td>40</td>\n",
              "    </tr>\n",
              "  </tbody>\n",
              "</table>\n",
              "</div>\n",
              "      <button class=\"colab-df-convert\" onclick=\"convertToInteractive('df-5c7d8b25-aa1d-48c3-85bc-be8cff307d7d')\"\n",
              "              title=\"Convert this dataframe to an interactive table.\"\n",
              "              style=\"display:none;\">\n",
              "        \n",
              "  <svg xmlns=\"http://www.w3.org/2000/svg\" height=\"24px\"viewBox=\"0 0 24 24\"\n",
              "       width=\"24px\">\n",
              "    <path d=\"M0 0h24v24H0V0z\" fill=\"none\"/>\n",
              "    <path d=\"M18.56 5.44l.94 2.06.94-2.06 2.06-.94-2.06-.94-.94-2.06-.94 2.06-2.06.94zm-11 1L8.5 8.5l.94-2.06 2.06-.94-2.06-.94L8.5 2.5l-.94 2.06-2.06.94zm10 10l.94 2.06.94-2.06 2.06-.94-2.06-.94-.94-2.06-.94 2.06-2.06.94z\"/><path d=\"M17.41 7.96l-1.37-1.37c-.4-.4-.92-.59-1.43-.59-.52 0-1.04.2-1.43.59L10.3 9.45l-7.72 7.72c-.78.78-.78 2.05 0 2.83L4 21.41c.39.39.9.59 1.41.59.51 0 1.02-.2 1.41-.59l7.78-7.78 2.81-2.81c.8-.78.8-2.07 0-2.86zM5.41 20L4 18.59l7.72-7.72 1.47 1.35L5.41 20z\"/>\n",
              "  </svg>\n",
              "      </button>\n",
              "      \n",
              "  <style>\n",
              "    .colab-df-container {\n",
              "      display:flex;\n",
              "      flex-wrap:wrap;\n",
              "      gap: 12px;\n",
              "    }\n",
              "\n",
              "    .colab-df-convert {\n",
              "      background-color: #E8F0FE;\n",
              "      border: none;\n",
              "      border-radius: 50%;\n",
              "      cursor: pointer;\n",
              "      display: none;\n",
              "      fill: #1967D2;\n",
              "      height: 32px;\n",
              "      padding: 0 0 0 0;\n",
              "      width: 32px;\n",
              "    }\n",
              "\n",
              "    .colab-df-convert:hover {\n",
              "      background-color: #E2EBFA;\n",
              "      box-shadow: 0px 1px 2px rgba(60, 64, 67, 0.3), 0px 1px 3px 1px rgba(60, 64, 67, 0.15);\n",
              "      fill: #174EA6;\n",
              "    }\n",
              "\n",
              "    [theme=dark] .colab-df-convert {\n",
              "      background-color: #3B4455;\n",
              "      fill: #D2E3FC;\n",
              "    }\n",
              "\n",
              "    [theme=dark] .colab-df-convert:hover {\n",
              "      background-color: #434B5C;\n",
              "      box-shadow: 0px 1px 3px 1px rgba(0, 0, 0, 0.15);\n",
              "      filter: drop-shadow(0px 1px 2px rgba(0, 0, 0, 0.3));\n",
              "      fill: #FFFFFF;\n",
              "    }\n",
              "  </style>\n",
              "\n",
              "      <script>\n",
              "        const buttonEl =\n",
              "          document.querySelector('#df-5c7d8b25-aa1d-48c3-85bc-be8cff307d7d button.colab-df-convert');\n",
              "        buttonEl.style.display =\n",
              "          google.colab.kernel.accessAllowed ? 'block' : 'none';\n",
              "\n",
              "        async function convertToInteractive(key) {\n",
              "          const element = document.querySelector('#df-5c7d8b25-aa1d-48c3-85bc-be8cff307d7d');\n",
              "          const dataTable =\n",
              "            await google.colab.kernel.invokeFunction('convertToInteractive',\n",
              "                                                     [key], {});\n",
              "          if (!dataTable) return;\n",
              "\n",
              "          const docLinkHtml = 'Like what you see? Visit the ' +\n",
              "            '<a target=\"_blank\" href=https://colab.research.google.com/notebooks/data_table.ipynb>data table notebook</a>'\n",
              "            + ' to learn more about interactive tables.';\n",
              "          element.innerHTML = '';\n",
              "          dataTable['output_type'] = 'display_data';\n",
              "          await google.colab.output.renderOutput(dataTable, element);\n",
              "          const docLink = document.createElement('div');\n",
              "          docLink.innerHTML = docLinkHtml;\n",
              "          element.appendChild(docLink);\n",
              "        }\n",
              "      </script>\n",
              "    </div>\n",
              "  </div>\n",
              "  "
            ]
          },
          "metadata": {},
          "execution_count": 15
        }
      ],
      "source": [
        "clientes_df.head()"
      ]
    },
    {
      "cell_type": "code",
      "execution_count": 16,
      "metadata": {
        "colab": {
          "base_uri": "https://localhost:8080/"
        },
        "id": "nEWbDreLLotU",
        "outputId": "a3c9c30f-d197-497c-8a56-d9396e7b7819"
      },
      "outputs": [
        {
          "output_type": "stream",
          "name": "stdout",
          "text": [
            "<class 'pandas.core.frame.DataFrame'>\n",
            "RangeIndex: 200 entries, 0 to 199\n",
            "Data columns (total 3 columns):\n",
            " #   Column          Non-Null Count  Dtype\n",
            "---  ------          --------------  -----\n",
            " 0   Edad            200 non-null    int64\n",
            " 1   IngresoAnual    200 non-null    int64\n",
            " 2   ScoreGastoMall  200 non-null    int64\n",
            "dtypes: int64(3)\n",
            "memory usage: 4.8 KB\n"
          ]
        }
      ],
      "source": [
        "clientes_df.info()"
      ]
    },
    {
      "cell_type": "markdown",
      "metadata": {
        "id": "HVLH8PjvRpuA"
      },
      "source": [
        "**EDA**"
      ]
    },
    {
      "cell_type": "code",
      "execution_count": 43,
      "metadata": {
        "colab": {
          "base_uri": "https://localhost:8080/",
          "height": 542
        },
        "id": "g9w2YaPqRoxM",
        "outputId": "d18ebe73-02bb-43bd-cdd5-8fea4373a509"
      },
      "outputs": [
        {
          "output_type": "display_data",
          "data": {
            "text/html": [
              "<html>\n",
              "<head><meta charset=\"utf-8\" /></head>\n",
              "<body>\n",
              "    <div>            <script src=\"https://cdnjs.cloudflare.com/ajax/libs/mathjax/2.7.5/MathJax.js?config=TeX-AMS-MML_SVG\"></script><script type=\"text/javascript\">if (window.MathJax) {MathJax.Hub.Config({SVG: {font: \"STIX-Web\"}});}</script>                <script type=\"text/javascript\">window.PlotlyConfig = {MathJaxConfig: 'local'};</script>\n",
              "        <script src=\"https://cdn.plot.ly/plotly-2.8.3.min.js\"></script>                <div id=\"9bdb330c-671a-467f-8c84-b7cd922ceaf2\" class=\"plotly-graph-div\" style=\"height:525px; width:100%;\"></div>            <script type=\"text/javascript\">                                    window.PLOTLYENV=window.PLOTLYENV || {};                                    if (document.getElementById(\"9bdb330c-671a-467f-8c84-b7cd922ceaf2\")) {                    Plotly.newPlot(                        \"9bdb330c-671a-467f-8c84-b7cd922ceaf2\",                        [{\"alignmentgroup\":\"True\",\"bingroup\":\"x\",\"hovertemplate\":\"Edad=%{x}<br>count=%{y}<extra></extra>\",\"legendgroup\":\"\",\"marker\":{\"color\":\"lightseagreen\",\"pattern\":{\"shape\":\"\"}},\"name\":\"\",\"offsetgroup\":\"\",\"orientation\":\"v\",\"showlegend\":false,\"x\":[19,21,20,23,31,22,35,23,64,30,67,35,58,24,37,22,35,20,52,35,35,25,46,31,54,29,45,35,40,23,60,21,53,18,49,21,42,30,36,20,65,24,48,31,49,24,50,27,29,31,49,33,31,59,50,47,51,69,27,53,70,19,67,54,63,18,43,68,19,32,70,47,60,60,59,26,45,40,23,49,57,38,67,46,21,48,55,22,34,50,68,18,48,40,32,24,47,27,48,20,23,49,67,26,49,21,66,54,68,66,65,19,38,19,18,19,63,49,51,50,27,38,40,39,23,31,43,40,59,38,47,39,25,31,20,29,44,32,19,35,57,32,28,32,25,28,48,32,34,34,43,39,44,38,47,27,37,30,34,30,56,29,19,31,50,36,42,33,36,32,40,28,36,36,52,30,58,27,59,35,37,32,46,29,41,30,54,28,41,36,34,32,33,38,47,35,45,32,32,30],\"xaxis\":\"x\",\"yaxis\":\"y\",\"type\":\"histogram\"},{\"alignmentgroup\":\"True\",\"hovertemplate\":\"Edad=%{x}<extra></extra>\",\"legendgroup\":\"\",\"marker\":{\"color\":\"lightseagreen\"},\"name\":\"\",\"notched\":true,\"offsetgroup\":\"\",\"showlegend\":false,\"x\":[19,21,20,23,31,22,35,23,64,30,67,35,58,24,37,22,35,20,52,35,35,25,46,31,54,29,45,35,40,23,60,21,53,18,49,21,42,30,36,20,65,24,48,31,49,24,50,27,29,31,49,33,31,59,50,47,51,69,27,53,70,19,67,54,63,18,43,68,19,32,70,47,60,60,59,26,45,40,23,49,57,38,67,46,21,48,55,22,34,50,68,18,48,40,32,24,47,27,48,20,23,49,67,26,49,21,66,54,68,66,65,19,38,19,18,19,63,49,51,50,27,38,40,39,23,31,43,40,59,38,47,39,25,31,20,29,44,32,19,35,57,32,28,32,25,28,48,32,34,34,43,39,44,38,47,27,37,30,34,30,56,29,19,31,50,36,42,33,36,32,40,28,36,36,52,30,58,27,59,35,37,32,46,29,41,30,54,28,41,36,34,32,33,38,47,35,45,32,32,30],\"xaxis\":\"x2\",\"yaxis\":\"y2\",\"type\":\"box\"}],                        {\"template\":{\"data\":{\"pie\":[{\"automargin\":true,\"type\":\"pie\"}]},\"layout\":{\"xaxis\":{\"showgrid\":true,\"title\":{\"standoff\":15}},\"yaxis\":{\"showgrid\":true,\"title\":{\"standoff\":15}}}},\"xaxis\":{\"anchor\":\"y\",\"domain\":[0.0,1.0],\"title\":{\"text\":\"Edad\"}},\"yaxis\":{\"anchor\":\"x\",\"domain\":[0.0,0.8316],\"title\":{\"text\":\"count\"}},\"xaxis2\":{\"anchor\":\"y2\",\"domain\":[0.0,1.0],\"matches\":\"x\",\"showticklabels\":false},\"yaxis2\":{\"anchor\":\"x2\",\"domain\":[0.8416,1.0],\"matches\":\"y2\",\"showticklabels\":false,\"showline\":false,\"ticks\":\"\"},\"legend\":{\"tracegroupgap\":0},\"margin\":{\"t\":60},\"barmode\":\"relative\"},                        {\"responsive\": true}                    ).then(function(){\n",
              "                            \n",
              "var gd = document.getElementById('9bdb330c-671a-467f-8c84-b7cd922ceaf2');\n",
              "var x = new MutationObserver(function (mutations, observer) {{\n",
              "        var display = window.getComputedStyle(gd).display;\n",
              "        if (!display || display === 'none') {{\n",
              "            console.log([gd, 'removed!']);\n",
              "            Plotly.purge(gd);\n",
              "            observer.disconnect();\n",
              "        }}\n",
              "}});\n",
              "\n",
              "// Listen for the removal of the full notebook cells\n",
              "var notebookContainer = gd.closest('#notebook-container');\n",
              "if (notebookContainer) {{\n",
              "    x.observe(notebookContainer, {childList: true});\n",
              "}}\n",
              "\n",
              "// Listen for the clearing of the current output cell\n",
              "var outputEl = gd.closest('.output');\n",
              "if (outputEl) {{\n",
              "    x.observe(outputEl, {childList: true});\n",
              "}}\n",
              "\n",
              "                        })                };                            </script>        </div>\n",
              "</body>\n",
              "</html>"
            ]
          },
          "metadata": {}
        }
      ],
      "source": [
        "px.histogram(clientes_df, x = clientes_df.Edad, marginal=\"box\", template = \"gridon\",color_discrete_sequence = ['lightseagreen'])"
      ]
    },
    {
      "cell_type": "code",
      "execution_count": 44,
      "metadata": {
        "colab": {
          "base_uri": "https://localhost:8080/",
          "height": 542
        },
        "id": "pOWnDGzeTdfC",
        "outputId": "d3cbc307-ba34-4639-e01d-afd2abcb2b24"
      },
      "outputs": [
        {
          "output_type": "display_data",
          "data": {
            "text/html": [
              "<html>\n",
              "<head><meta charset=\"utf-8\" /></head>\n",
              "<body>\n",
              "    <div>            <script src=\"https://cdnjs.cloudflare.com/ajax/libs/mathjax/2.7.5/MathJax.js?config=TeX-AMS-MML_SVG\"></script><script type=\"text/javascript\">if (window.MathJax) {MathJax.Hub.Config({SVG: {font: \"STIX-Web\"}});}</script>                <script type=\"text/javascript\">window.PlotlyConfig = {MathJaxConfig: 'local'};</script>\n",
              "        <script src=\"https://cdn.plot.ly/plotly-2.8.3.min.js\"></script>                <div id=\"68e2fe59-68f6-4172-986c-e4f7fd4808f5\" class=\"plotly-graph-div\" style=\"height:525px; width:100%;\"></div>            <script type=\"text/javascript\">                                    window.PLOTLYENV=window.PLOTLYENV || {};                                    if (document.getElementById(\"68e2fe59-68f6-4172-986c-e4f7fd4808f5\")) {                    Plotly.newPlot(                        \"68e2fe59-68f6-4172-986c-e4f7fd4808f5\",                        [{\"alignmentgroup\":\"True\",\"bingroup\":\"x\",\"hovertemplate\":\"IngresoAnual=%{x}<br>count=%{y}<extra></extra>\",\"legendgroup\":\"\",\"marker\":{\"color\":\"lightseagreen\",\"pattern\":{\"shape\":\"\"}},\"name\":\"\",\"offsetgroup\":\"\",\"orientation\":\"v\",\"showlegend\":false,\"x\":[15,15,16,16,17,17,18,18,19,19,19,19,20,20,20,20,21,21,23,23,24,24,25,25,28,28,28,28,29,29,30,30,33,33,33,33,34,34,37,37,38,38,39,39,39,39,40,40,40,40,42,42,43,43,43,43,44,44,46,46,46,46,47,47,48,48,48,48,48,48,49,49,50,50,54,54,54,54,54,54,54,54,54,54,54,54,57,57,58,58,59,59,60,60,60,60,60,60,61,61,62,62,62,62,62,62,63,63,63,63,63,63,64,64,65,65,65,65,67,67,67,67,69,69,70,70,71,71,71,71,71,71,72,72,73,73,73,73,74,74,75,75,76,76,77,77,77,77,78,78,78,78,78,78,78,78,78,78,78,78,79,79,81,81,85,85,86,86,87,87,87,87,87,87,88,88,88,88,93,93,97,97,98,98,99,99,101,101,103,103,103,103,113,113,120,120,126,126,137,137],\"xaxis\":\"x\",\"yaxis\":\"y\",\"type\":\"histogram\"},{\"alignmentgroup\":\"True\",\"hovertemplate\":\"IngresoAnual=%{x}<extra></extra>\",\"legendgroup\":\"\",\"marker\":{\"color\":\"lightseagreen\"},\"name\":\"\",\"notched\":true,\"offsetgroup\":\"\",\"showlegend\":false,\"x\":[15,15,16,16,17,17,18,18,19,19,19,19,20,20,20,20,21,21,23,23,24,24,25,25,28,28,28,28,29,29,30,30,33,33,33,33,34,34,37,37,38,38,39,39,39,39,40,40,40,40,42,42,43,43,43,43,44,44,46,46,46,46,47,47,48,48,48,48,48,48,49,49,50,50,54,54,54,54,54,54,54,54,54,54,54,54,57,57,58,58,59,59,60,60,60,60,60,60,61,61,62,62,62,62,62,62,63,63,63,63,63,63,64,64,65,65,65,65,67,67,67,67,69,69,70,70,71,71,71,71,71,71,72,72,73,73,73,73,74,74,75,75,76,76,77,77,77,77,78,78,78,78,78,78,78,78,78,78,78,78,79,79,81,81,85,85,86,86,87,87,87,87,87,87,88,88,88,88,93,93,97,97,98,98,99,99,101,101,103,103,103,103,113,113,120,120,126,126,137,137],\"xaxis\":\"x2\",\"yaxis\":\"y2\",\"type\":\"box\"}],                        {\"template\":{\"data\":{\"pie\":[{\"automargin\":true,\"type\":\"pie\"}]},\"layout\":{\"xaxis\":{\"showgrid\":true,\"title\":{\"standoff\":15}},\"yaxis\":{\"showgrid\":true,\"title\":{\"standoff\":15}}}},\"xaxis\":{\"anchor\":\"y\",\"domain\":[0.0,1.0],\"title\":{\"text\":\"IngresoAnual\"}},\"yaxis\":{\"anchor\":\"x\",\"domain\":[0.0,0.8316],\"title\":{\"text\":\"count\"}},\"xaxis2\":{\"anchor\":\"y2\",\"domain\":[0.0,1.0],\"matches\":\"x\",\"showticklabels\":false},\"yaxis2\":{\"anchor\":\"x2\",\"domain\":[0.8416,1.0],\"matches\":\"y2\",\"showticklabels\":false,\"showline\":false,\"ticks\":\"\"},\"legend\":{\"tracegroupgap\":0},\"margin\":{\"t\":60},\"barmode\":\"relative\"},                        {\"responsive\": true}                    ).then(function(){\n",
              "                            \n",
              "var gd = document.getElementById('68e2fe59-68f6-4172-986c-e4f7fd4808f5');\n",
              "var x = new MutationObserver(function (mutations, observer) {{\n",
              "        var display = window.getComputedStyle(gd).display;\n",
              "        if (!display || display === 'none') {{\n",
              "            console.log([gd, 'removed!']);\n",
              "            Plotly.purge(gd);\n",
              "            observer.disconnect();\n",
              "        }}\n",
              "}});\n",
              "\n",
              "// Listen for the removal of the full notebook cells\n",
              "var notebookContainer = gd.closest('#notebook-container');\n",
              "if (notebookContainer) {{\n",
              "    x.observe(notebookContainer, {childList: true});\n",
              "}}\n",
              "\n",
              "// Listen for the clearing of the current output cell\n",
              "var outputEl = gd.closest('.output');\n",
              "if (outputEl) {{\n",
              "    x.observe(outputEl, {childList: true});\n",
              "}}\n",
              "\n",
              "                        })                };                            </script>        </div>\n",
              "</body>\n",
              "</html>"
            ]
          },
          "metadata": {}
        }
      ],
      "source": [
        "px.histogram(clientes_df, x = clientes_df.IngresoAnual, marginal=\"box\", template = \"gridon\",color_discrete_sequence = ['lightseagreen'])"
      ]
    },
    {
      "cell_type": "code",
      "execution_count": 45,
      "metadata": {
        "colab": {
          "base_uri": "https://localhost:8080/",
          "height": 542
        },
        "id": "nVaj8izpTggi",
        "outputId": "a160fba1-f78c-43a4-fd2b-af2fbaad0939"
      },
      "outputs": [
        {
          "output_type": "display_data",
          "data": {
            "text/html": [
              "<html>\n",
              "<head><meta charset=\"utf-8\" /></head>\n",
              "<body>\n",
              "    <div>            <script src=\"https://cdnjs.cloudflare.com/ajax/libs/mathjax/2.7.5/MathJax.js?config=TeX-AMS-MML_SVG\"></script><script type=\"text/javascript\">if (window.MathJax) {MathJax.Hub.Config({SVG: {font: \"STIX-Web\"}});}</script>                <script type=\"text/javascript\">window.PlotlyConfig = {MathJaxConfig: 'local'};</script>\n",
              "        <script src=\"https://cdn.plot.ly/plotly-2.8.3.min.js\"></script>                <div id=\"36263410-e6ac-44dd-9a69-acfaccb29508\" class=\"plotly-graph-div\" style=\"height:525px; width:100%;\"></div>            <script type=\"text/javascript\">                                    window.PLOTLYENV=window.PLOTLYENV || {};                                    if (document.getElementById(\"36263410-e6ac-44dd-9a69-acfaccb29508\")) {                    Plotly.newPlot(                        \"36263410-e6ac-44dd-9a69-acfaccb29508\",                        [{\"alignmentgroup\":\"True\",\"bingroup\":\"x\",\"hovertemplate\":\"ScoreGastoMall=%{x}<br>count=%{y}<extra></extra>\",\"legendgroup\":\"\",\"marker\":{\"color\":\"lightseagreen\",\"pattern\":{\"shape\":\"\"}},\"name\":\"\",\"offsetgroup\":\"\",\"orientation\":\"v\",\"showlegend\":false,\"x\":[39,81,6,77,40,76,6,94,3,72,14,99,15,77,13,79,35,66,29,98,35,73,5,73,14,82,32,61,31,87,4,73,4,92,14,81,17,73,26,75,35,92,36,61,28,65,55,47,42,42,52,60,54,60,45,41,50,46,51,46,56,55,52,59,51,59,50,48,59,47,55,42,49,56,47,54,53,48,52,42,51,55,41,44,57,46,58,55,60,46,55,41,49,40,42,52,47,50,42,49,41,48,59,55,56,42,50,46,43,48,52,54,42,46,48,50,43,59,43,57,56,40,58,91,29,77,35,95,11,75,9,75,34,71,5,88,7,73,10,72,5,93,40,87,12,97,36,74,22,90,17,88,20,76,16,89,1,78,1,73,35,83,5,93,26,75,20,95,27,63,13,75,10,92,13,86,15,69,14,90,32,86,15,88,39,97,24,68,17,85,23,69,8,91,16,79,28,74,18,83],\"xaxis\":\"x\",\"yaxis\":\"y\",\"type\":\"histogram\"},{\"alignmentgroup\":\"True\",\"hovertemplate\":\"ScoreGastoMall=%{x}<extra></extra>\",\"legendgroup\":\"\",\"marker\":{\"color\":\"lightseagreen\"},\"name\":\"\",\"notched\":true,\"offsetgroup\":\"\",\"showlegend\":false,\"x\":[39,81,6,77,40,76,6,94,3,72,14,99,15,77,13,79,35,66,29,98,35,73,5,73,14,82,32,61,31,87,4,73,4,92,14,81,17,73,26,75,35,92,36,61,28,65,55,47,42,42,52,60,54,60,45,41,50,46,51,46,56,55,52,59,51,59,50,48,59,47,55,42,49,56,47,54,53,48,52,42,51,55,41,44,57,46,58,55,60,46,55,41,49,40,42,52,47,50,42,49,41,48,59,55,56,42,50,46,43,48,52,54,42,46,48,50,43,59,43,57,56,40,58,91,29,77,35,95,11,75,9,75,34,71,5,88,7,73,10,72,5,93,40,87,12,97,36,74,22,90,17,88,20,76,16,89,1,78,1,73,35,83,5,93,26,75,20,95,27,63,13,75,10,92,13,86,15,69,14,90,32,86,15,88,39,97,24,68,17,85,23,69,8,91,16,79,28,74,18,83],\"xaxis\":\"x2\",\"yaxis\":\"y2\",\"type\":\"box\"}],                        {\"template\":{\"data\":{\"pie\":[{\"automargin\":true,\"type\":\"pie\"}]},\"layout\":{\"xaxis\":{\"showgrid\":true,\"title\":{\"standoff\":15}},\"yaxis\":{\"showgrid\":true,\"title\":{\"standoff\":15}}}},\"xaxis\":{\"anchor\":\"y\",\"domain\":[0.0,1.0],\"title\":{\"text\":\"ScoreGastoMall\"}},\"yaxis\":{\"anchor\":\"x\",\"domain\":[0.0,0.8316],\"title\":{\"text\":\"count\"}},\"xaxis2\":{\"anchor\":\"y2\",\"domain\":[0.0,1.0],\"matches\":\"x\",\"showticklabels\":false},\"yaxis2\":{\"anchor\":\"x2\",\"domain\":[0.8416,1.0],\"matches\":\"y2\",\"showticklabels\":false,\"showline\":false,\"ticks\":\"\"},\"legend\":{\"tracegroupgap\":0},\"margin\":{\"t\":60},\"barmode\":\"relative\"},                        {\"responsive\": true}                    ).then(function(){\n",
              "                            \n",
              "var gd = document.getElementById('36263410-e6ac-44dd-9a69-acfaccb29508');\n",
              "var x = new MutationObserver(function (mutations, observer) {{\n",
              "        var display = window.getComputedStyle(gd).display;\n",
              "        if (!display || display === 'none') {{\n",
              "            console.log([gd, 'removed!']);\n",
              "            Plotly.purge(gd);\n",
              "            observer.disconnect();\n",
              "        }}\n",
              "}});\n",
              "\n",
              "// Listen for the removal of the full notebook cells\n",
              "var notebookContainer = gd.closest('#notebook-container');\n",
              "if (notebookContainer) {{\n",
              "    x.observe(notebookContainer, {childList: true});\n",
              "}}\n",
              "\n",
              "// Listen for the clearing of the current output cell\n",
              "var outputEl = gd.closest('.output');\n",
              "if (outputEl) {{\n",
              "    x.observe(outputEl, {childList: true});\n",
              "}}\n",
              "\n",
              "                        })                };                            </script>        </div>\n",
              "</body>\n",
              "</html>"
            ]
          },
          "metadata": {}
        }
      ],
      "source": [
        "px.histogram(clientes_df, x = clientes_df.ScoreGastoMall, marginal=\"box\", template = \"gridon\",color_discrete_sequence = ['lightseagreen'])"
      ]
    },
    {
      "cell_type": "markdown",
      "metadata": {
        "id": "yeQdpn6GH9tt"
      },
      "source": [
        "##**Dividiendo el conjunto de datos**"
      ]
    },
    {
      "cell_type": "code",
      "execution_count": 20,
      "metadata": {
        "id": "ycPmLHS7IDLw"
      },
      "outputs": [],
      "source": [
        "clientes_entrenamiento = clientes_df.sample(frac = 0.75, random_state=0)\n",
        "clientes_no_vistos = clientes_df.drop(clientes_entrenamiento.index)"
      ]
    },
    {
      "cell_type": "code",
      "execution_count": 21,
      "metadata": {
        "id": "sMAIxQ0KIDlS"
      },
      "outputs": [],
      "source": [
        "clientes_entrenamiento .reset_index(inplace=True, drop=True)\n",
        "clientes_no_vistos.reset_index(inplace=True, drop=True)"
      ]
    },
    {
      "cell_type": "code",
      "execution_count": 22,
      "metadata": {
        "colab": {
          "base_uri": "https://localhost:8080/"
        },
        "id": "Xe9I9wT6IGp2",
        "outputId": "f7e2cf89-14f5-4184-a367-dc736b2e9642"
      },
      "outputs": [
        {
          "output_type": "stream",
          "name": "stdout",
          "text": [
            "Datos para Modelar: (150, 3)\n",
            "Datos no vistos para Predicciones: (50, 3)\n"
          ]
        }
      ],
      "source": [
        "print(\"Datos para Modelar: \" + str(clientes_entrenamiento .shape))\n",
        "print(\"Datos no vistos para Predicciones: \" + str(clientes_no_vistos.shape))"
      ]
    },
    {
      "cell_type": "code",
      "execution_count": 23,
      "metadata": {
        "colab": {
          "base_uri": "https://localhost:8080/",
          "height": 206
        },
        "id": "NN3AM1z4IKG8",
        "outputId": "68d0573d-6dad-4bdb-d800-4ec528985694"
      },
      "outputs": [
        {
          "output_type": "execute_result",
          "data": {
            "text/plain": [
              "   Edad  IngresoAnual  ScoreGastoMall\n",
              "0    52            23              29\n",
              "1    40            87              13\n",
              "2    54            63              46\n",
              "3    48            61              42\n",
              "4    27            88              69"
            ],
            "text/html": [
              "\n",
              "  <div id=\"df-845f6f69-268c-44a4-aade-bfea8a78719e\">\n",
              "    <div class=\"colab-df-container\">\n",
              "      <div>\n",
              "<style scoped>\n",
              "    .dataframe tbody tr th:only-of-type {\n",
              "        vertical-align: middle;\n",
              "    }\n",
              "\n",
              "    .dataframe tbody tr th {\n",
              "        vertical-align: top;\n",
              "    }\n",
              "\n",
              "    .dataframe thead th {\n",
              "        text-align: right;\n",
              "    }\n",
              "</style>\n",
              "<table border=\"1\" class=\"dataframe\">\n",
              "  <thead>\n",
              "    <tr style=\"text-align: right;\">\n",
              "      <th></th>\n",
              "      <th>Edad</th>\n",
              "      <th>IngresoAnual</th>\n",
              "      <th>ScoreGastoMall</th>\n",
              "    </tr>\n",
              "  </thead>\n",
              "  <tbody>\n",
              "    <tr>\n",
              "      <th>0</th>\n",
              "      <td>52</td>\n",
              "      <td>23</td>\n",
              "      <td>29</td>\n",
              "    </tr>\n",
              "    <tr>\n",
              "      <th>1</th>\n",
              "      <td>40</td>\n",
              "      <td>87</td>\n",
              "      <td>13</td>\n",
              "    </tr>\n",
              "    <tr>\n",
              "      <th>2</th>\n",
              "      <td>54</td>\n",
              "      <td>63</td>\n",
              "      <td>46</td>\n",
              "    </tr>\n",
              "    <tr>\n",
              "      <th>3</th>\n",
              "      <td>48</td>\n",
              "      <td>61</td>\n",
              "      <td>42</td>\n",
              "    </tr>\n",
              "    <tr>\n",
              "      <th>4</th>\n",
              "      <td>27</td>\n",
              "      <td>88</td>\n",
              "      <td>69</td>\n",
              "    </tr>\n",
              "  </tbody>\n",
              "</table>\n",
              "</div>\n",
              "      <button class=\"colab-df-convert\" onclick=\"convertToInteractive('df-845f6f69-268c-44a4-aade-bfea8a78719e')\"\n",
              "              title=\"Convert this dataframe to an interactive table.\"\n",
              "              style=\"display:none;\">\n",
              "        \n",
              "  <svg xmlns=\"http://www.w3.org/2000/svg\" height=\"24px\"viewBox=\"0 0 24 24\"\n",
              "       width=\"24px\">\n",
              "    <path d=\"M0 0h24v24H0V0z\" fill=\"none\"/>\n",
              "    <path d=\"M18.56 5.44l.94 2.06.94-2.06 2.06-.94-2.06-.94-.94-2.06-.94 2.06-2.06.94zm-11 1L8.5 8.5l.94-2.06 2.06-.94-2.06-.94L8.5 2.5l-.94 2.06-2.06.94zm10 10l.94 2.06.94-2.06 2.06-.94-2.06-.94-.94-2.06-.94 2.06-2.06.94z\"/><path d=\"M17.41 7.96l-1.37-1.37c-.4-.4-.92-.59-1.43-.59-.52 0-1.04.2-1.43.59L10.3 9.45l-7.72 7.72c-.78.78-.78 2.05 0 2.83L4 21.41c.39.39.9.59 1.41.59.51 0 1.02-.2 1.41-.59l7.78-7.78 2.81-2.81c.8-.78.8-2.07 0-2.86zM5.41 20L4 18.59l7.72-7.72 1.47 1.35L5.41 20z\"/>\n",
              "  </svg>\n",
              "      </button>\n",
              "      \n",
              "  <style>\n",
              "    .colab-df-container {\n",
              "      display:flex;\n",
              "      flex-wrap:wrap;\n",
              "      gap: 12px;\n",
              "    }\n",
              "\n",
              "    .colab-df-convert {\n",
              "      background-color: #E8F0FE;\n",
              "      border: none;\n",
              "      border-radius: 50%;\n",
              "      cursor: pointer;\n",
              "      display: none;\n",
              "      fill: #1967D2;\n",
              "      height: 32px;\n",
              "      padding: 0 0 0 0;\n",
              "      width: 32px;\n",
              "    }\n",
              "\n",
              "    .colab-df-convert:hover {\n",
              "      background-color: #E2EBFA;\n",
              "      box-shadow: 0px 1px 2px rgba(60, 64, 67, 0.3), 0px 1px 3px 1px rgba(60, 64, 67, 0.15);\n",
              "      fill: #174EA6;\n",
              "    }\n",
              "\n",
              "    [theme=dark] .colab-df-convert {\n",
              "      background-color: #3B4455;\n",
              "      fill: #D2E3FC;\n",
              "    }\n",
              "\n",
              "    [theme=dark] .colab-df-convert:hover {\n",
              "      background-color: #434B5C;\n",
              "      box-shadow: 0px 1px 3px 1px rgba(0, 0, 0, 0.15);\n",
              "      filter: drop-shadow(0px 1px 2px rgba(0, 0, 0, 0.3));\n",
              "      fill: #FFFFFF;\n",
              "    }\n",
              "  </style>\n",
              "\n",
              "      <script>\n",
              "        const buttonEl =\n",
              "          document.querySelector('#df-845f6f69-268c-44a4-aade-bfea8a78719e button.colab-df-convert');\n",
              "        buttonEl.style.display =\n",
              "          google.colab.kernel.accessAllowed ? 'block' : 'none';\n",
              "\n",
              "        async function convertToInteractive(key) {\n",
              "          const element = document.querySelector('#df-845f6f69-268c-44a4-aade-bfea8a78719e');\n",
              "          const dataTable =\n",
              "            await google.colab.kernel.invokeFunction('convertToInteractive',\n",
              "                                                     [key], {});\n",
              "          if (!dataTable) return;\n",
              "\n",
              "          const docLinkHtml = 'Like what you see? Visit the ' +\n",
              "            '<a target=\"_blank\" href=https://colab.research.google.com/notebooks/data_table.ipynb>data table notebook</a>'\n",
              "            + ' to learn more about interactive tables.';\n",
              "          element.innerHTML = '';\n",
              "          dataTable['output_type'] = 'display_data';\n",
              "          await google.colab.output.renderOutput(dataTable, element);\n",
              "          const docLink = document.createElement('div');\n",
              "          docLink.innerHTML = docLinkHtml;\n",
              "          element.appendChild(docLink);\n",
              "        }\n",
              "      </script>\n",
              "    </div>\n",
              "  </div>\n",
              "  "
            ]
          },
          "metadata": {},
          "execution_count": 23
        }
      ],
      "source": [
        "clientes_entrenamiento.head()"
      ]
    },
    {
      "cell_type": "code",
      "execution_count": 24,
      "metadata": {
        "colab": {
          "base_uri": "https://localhost:8080/",
          "height": 206
        },
        "id": "icvde_XZIMs1",
        "outputId": "836647ee-98e3-480d-dd6b-e214391fbdfa"
      },
      "outputs": [
        {
          "output_type": "execute_result",
          "data": {
            "text/plain": [
              "   Edad  IngresoAnual  ScoreGastoMall\n",
              "0    30            19              72\n",
              "1    20            21              66\n",
              "2    25            24              73\n",
              "3    29            28              82\n",
              "4    40            29              31"
            ],
            "text/html": [
              "\n",
              "  <div id=\"df-b3e39b7f-fd87-41a6-b889-864951dc0e0e\">\n",
              "    <div class=\"colab-df-container\">\n",
              "      <div>\n",
              "<style scoped>\n",
              "    .dataframe tbody tr th:only-of-type {\n",
              "        vertical-align: middle;\n",
              "    }\n",
              "\n",
              "    .dataframe tbody tr th {\n",
              "        vertical-align: top;\n",
              "    }\n",
              "\n",
              "    .dataframe thead th {\n",
              "        text-align: right;\n",
              "    }\n",
              "</style>\n",
              "<table border=\"1\" class=\"dataframe\">\n",
              "  <thead>\n",
              "    <tr style=\"text-align: right;\">\n",
              "      <th></th>\n",
              "      <th>Edad</th>\n",
              "      <th>IngresoAnual</th>\n",
              "      <th>ScoreGastoMall</th>\n",
              "    </tr>\n",
              "  </thead>\n",
              "  <tbody>\n",
              "    <tr>\n",
              "      <th>0</th>\n",
              "      <td>30</td>\n",
              "      <td>19</td>\n",
              "      <td>72</td>\n",
              "    </tr>\n",
              "    <tr>\n",
              "      <th>1</th>\n",
              "      <td>20</td>\n",
              "      <td>21</td>\n",
              "      <td>66</td>\n",
              "    </tr>\n",
              "    <tr>\n",
              "      <th>2</th>\n",
              "      <td>25</td>\n",
              "      <td>24</td>\n",
              "      <td>73</td>\n",
              "    </tr>\n",
              "    <tr>\n",
              "      <th>3</th>\n",
              "      <td>29</td>\n",
              "      <td>28</td>\n",
              "      <td>82</td>\n",
              "    </tr>\n",
              "    <tr>\n",
              "      <th>4</th>\n",
              "      <td>40</td>\n",
              "      <td>29</td>\n",
              "      <td>31</td>\n",
              "    </tr>\n",
              "  </tbody>\n",
              "</table>\n",
              "</div>\n",
              "      <button class=\"colab-df-convert\" onclick=\"convertToInteractive('df-b3e39b7f-fd87-41a6-b889-864951dc0e0e')\"\n",
              "              title=\"Convert this dataframe to an interactive table.\"\n",
              "              style=\"display:none;\">\n",
              "        \n",
              "  <svg xmlns=\"http://www.w3.org/2000/svg\" height=\"24px\"viewBox=\"0 0 24 24\"\n",
              "       width=\"24px\">\n",
              "    <path d=\"M0 0h24v24H0V0z\" fill=\"none\"/>\n",
              "    <path d=\"M18.56 5.44l.94 2.06.94-2.06 2.06-.94-2.06-.94-.94-2.06-.94 2.06-2.06.94zm-11 1L8.5 8.5l.94-2.06 2.06-.94-2.06-.94L8.5 2.5l-.94 2.06-2.06.94zm10 10l.94 2.06.94-2.06 2.06-.94-2.06-.94-.94-2.06-.94 2.06-2.06.94z\"/><path d=\"M17.41 7.96l-1.37-1.37c-.4-.4-.92-.59-1.43-.59-.52 0-1.04.2-1.43.59L10.3 9.45l-7.72 7.72c-.78.78-.78 2.05 0 2.83L4 21.41c.39.39.9.59 1.41.59.51 0 1.02-.2 1.41-.59l7.78-7.78 2.81-2.81c.8-.78.8-2.07 0-2.86zM5.41 20L4 18.59l7.72-7.72 1.47 1.35L5.41 20z\"/>\n",
              "  </svg>\n",
              "      </button>\n",
              "      \n",
              "  <style>\n",
              "    .colab-df-container {\n",
              "      display:flex;\n",
              "      flex-wrap:wrap;\n",
              "      gap: 12px;\n",
              "    }\n",
              "\n",
              "    .colab-df-convert {\n",
              "      background-color: #E8F0FE;\n",
              "      border: none;\n",
              "      border-radius: 50%;\n",
              "      cursor: pointer;\n",
              "      display: none;\n",
              "      fill: #1967D2;\n",
              "      height: 32px;\n",
              "      padding: 0 0 0 0;\n",
              "      width: 32px;\n",
              "    }\n",
              "\n",
              "    .colab-df-convert:hover {\n",
              "      background-color: #E2EBFA;\n",
              "      box-shadow: 0px 1px 2px rgba(60, 64, 67, 0.3), 0px 1px 3px 1px rgba(60, 64, 67, 0.15);\n",
              "      fill: #174EA6;\n",
              "    }\n",
              "\n",
              "    [theme=dark] .colab-df-convert {\n",
              "      background-color: #3B4455;\n",
              "      fill: #D2E3FC;\n",
              "    }\n",
              "\n",
              "    [theme=dark] .colab-df-convert:hover {\n",
              "      background-color: #434B5C;\n",
              "      box-shadow: 0px 1px 3px 1px rgba(0, 0, 0, 0.15);\n",
              "      filter: drop-shadow(0px 1px 2px rgba(0, 0, 0, 0.3));\n",
              "      fill: #FFFFFF;\n",
              "    }\n",
              "  </style>\n",
              "\n",
              "      <script>\n",
              "        const buttonEl =\n",
              "          document.querySelector('#df-b3e39b7f-fd87-41a6-b889-864951dc0e0e button.colab-df-convert');\n",
              "        buttonEl.style.display =\n",
              "          google.colab.kernel.accessAllowed ? 'block' : 'none';\n",
              "\n",
              "        async function convertToInteractive(key) {\n",
              "          const element = document.querySelector('#df-b3e39b7f-fd87-41a6-b889-864951dc0e0e');\n",
              "          const dataTable =\n",
              "            await google.colab.kernel.invokeFunction('convertToInteractive',\n",
              "                                                     [key], {});\n",
              "          if (!dataTable) return;\n",
              "\n",
              "          const docLinkHtml = 'Like what you see? Visit the ' +\n",
              "            '<a target=\"_blank\" href=https://colab.research.google.com/notebooks/data_table.ipynb>data table notebook</a>'\n",
              "            + ' to learn more about interactive tables.';\n",
              "          element.innerHTML = '';\n",
              "          dataTable['output_type'] = 'display_data';\n",
              "          await google.colab.output.renderOutput(dataTable, element);\n",
              "          const docLink = document.createElement('div');\n",
              "          docLink.innerHTML = docLinkHtml;\n",
              "          element.appendChild(docLink);\n",
              "        }\n",
              "      </script>\n",
              "    </div>\n",
              "  </div>\n",
              "  "
            ]
          },
          "metadata": {},
          "execution_count": 24
        }
      ],
      "source": [
        "clientes_no_vistos.head()"
      ]
    },
    {
      "cell_type": "markdown",
      "metadata": {
        "id": "AELIQqZhIWow"
      },
      "source": [
        "# **Configuracion Pycaret**"
      ]
    },
    {
      "cell_type": "code",
      "execution_count": 51,
      "metadata": {
        "id": "w-FYAd5yIc15",
        "colab": {
          "base_uri": "https://localhost:8080/",
          "height": 551
        },
        "outputId": "b9686346-98ca-4d32-9c6f-a8d3189baf75"
      },
      "outputs": [
        {
          "output_type": "display_data",
          "data": {
            "text/plain": [
              "<pandas.io.formats.style.Styler at 0x7fc078274910>"
            ],
            "text/html": [
              "<style type=\"text/css\">\n",
              "#T_d0111_row4_col1, #T_d0111_row9_col1 {\n",
              "  background-color: lightgreen;\n",
              "}\n",
              "</style>\n",
              "<table id=\"T_d0111_\" class=\"dataframe\">\n",
              "  <thead>\n",
              "    <tr>\n",
              "      <th class=\"blank level0\" >&nbsp;</th>\n",
              "      <th class=\"col_heading level0 col0\" >Description</th>\n",
              "      <th class=\"col_heading level0 col1\" >Value</th>\n",
              "    </tr>\n",
              "  </thead>\n",
              "  <tbody>\n",
              "    <tr>\n",
              "      <th id=\"T_d0111_level0_row0\" class=\"row_heading level0 row0\" >0</th>\n",
              "      <td id=\"T_d0111_row0_col0\" class=\"data row0 col0\" >Session id</td>\n",
              "      <td id=\"T_d0111_row0_col1\" class=\"data row0 col1\" >123</td>\n",
              "    </tr>\n",
              "    <tr>\n",
              "      <th id=\"T_d0111_level0_row1\" class=\"row_heading level0 row1\" >1</th>\n",
              "      <td id=\"T_d0111_row1_col0\" class=\"data row1 col0\" >Original data shape</td>\n",
              "      <td id=\"T_d0111_row1_col1\" class=\"data row1 col1\" >(150, 3)</td>\n",
              "    </tr>\n",
              "    <tr>\n",
              "      <th id=\"T_d0111_level0_row2\" class=\"row_heading level0 row2\" >2</th>\n",
              "      <td id=\"T_d0111_row2_col0\" class=\"data row2 col0\" >Transformed data shape</td>\n",
              "      <td id=\"T_d0111_row2_col1\" class=\"data row2 col1\" >(150, 3)</td>\n",
              "    </tr>\n",
              "    <tr>\n",
              "      <th id=\"T_d0111_level0_row3\" class=\"row_heading level0 row3\" >3</th>\n",
              "      <td id=\"T_d0111_row3_col0\" class=\"data row3 col0\" >Numeric features</td>\n",
              "      <td id=\"T_d0111_row3_col1\" class=\"data row3 col1\" >3</td>\n",
              "    </tr>\n",
              "    <tr>\n",
              "      <th id=\"T_d0111_level0_row4\" class=\"row_heading level0 row4\" >4</th>\n",
              "      <td id=\"T_d0111_row4_col0\" class=\"data row4 col0\" >Preprocess</td>\n",
              "      <td id=\"T_d0111_row4_col1\" class=\"data row4 col1\" >True</td>\n",
              "    </tr>\n",
              "    <tr>\n",
              "      <th id=\"T_d0111_level0_row5\" class=\"row_heading level0 row5\" >5</th>\n",
              "      <td id=\"T_d0111_row5_col0\" class=\"data row5 col0\" >Imputation type</td>\n",
              "      <td id=\"T_d0111_row5_col1\" class=\"data row5 col1\" >simple</td>\n",
              "    </tr>\n",
              "    <tr>\n",
              "      <th id=\"T_d0111_level0_row6\" class=\"row_heading level0 row6\" >6</th>\n",
              "      <td id=\"T_d0111_row6_col0\" class=\"data row6 col0\" >Numeric imputation</td>\n",
              "      <td id=\"T_d0111_row6_col1\" class=\"data row6 col1\" >mean</td>\n",
              "    </tr>\n",
              "    <tr>\n",
              "      <th id=\"T_d0111_level0_row7\" class=\"row_heading level0 row7\" >7</th>\n",
              "      <td id=\"T_d0111_row7_col0\" class=\"data row7 col0\" >Categorical imputation</td>\n",
              "      <td id=\"T_d0111_row7_col1\" class=\"data row7 col1\" >constant</td>\n",
              "    </tr>\n",
              "    <tr>\n",
              "      <th id=\"T_d0111_level0_row8\" class=\"row_heading level0 row8\" >8</th>\n",
              "      <td id=\"T_d0111_row8_col0\" class=\"data row8 col0\" >Low variance threshold</td>\n",
              "      <td id=\"T_d0111_row8_col1\" class=\"data row8 col1\" >0</td>\n",
              "    </tr>\n",
              "    <tr>\n",
              "      <th id=\"T_d0111_level0_row9\" class=\"row_heading level0 row9\" >9</th>\n",
              "      <td id=\"T_d0111_row9_col0\" class=\"data row9 col0\" >Normalize</td>\n",
              "      <td id=\"T_d0111_row9_col1\" class=\"data row9 col1\" >True</td>\n",
              "    </tr>\n",
              "    <tr>\n",
              "      <th id=\"T_d0111_level0_row10\" class=\"row_heading level0 row10\" >10</th>\n",
              "      <td id=\"T_d0111_row10_col0\" class=\"data row10 col0\" >Normalize method</td>\n",
              "      <td id=\"T_d0111_row10_col1\" class=\"data row10 col1\" >zscore</td>\n",
              "    </tr>\n",
              "    <tr>\n",
              "      <th id=\"T_d0111_level0_row11\" class=\"row_heading level0 row11\" >11</th>\n",
              "      <td id=\"T_d0111_row11_col0\" class=\"data row11 col0\" >CPU Jobs</td>\n",
              "      <td id=\"T_d0111_row11_col1\" class=\"data row11 col1\" >-1</td>\n",
              "    </tr>\n",
              "    <tr>\n",
              "      <th id=\"T_d0111_level0_row12\" class=\"row_heading level0 row12\" >12</th>\n",
              "      <td id=\"T_d0111_row12_col0\" class=\"data row12 col0\" >Use GPU</td>\n",
              "      <td id=\"T_d0111_row12_col1\" class=\"data row12 col1\" >False</td>\n",
              "    </tr>\n",
              "    <tr>\n",
              "      <th id=\"T_d0111_level0_row13\" class=\"row_heading level0 row13\" >13</th>\n",
              "      <td id=\"T_d0111_row13_col0\" class=\"data row13 col0\" >Log Experiment</td>\n",
              "      <td id=\"T_d0111_row13_col1\" class=\"data row13 col1\" >False</td>\n",
              "    </tr>\n",
              "    <tr>\n",
              "      <th id=\"T_d0111_level0_row14\" class=\"row_heading level0 row14\" >14</th>\n",
              "      <td id=\"T_d0111_row14_col0\" class=\"data row14 col0\" >Experiment Name</td>\n",
              "      <td id=\"T_d0111_row14_col1\" class=\"data row14 col1\" >cluster-default-name</td>\n",
              "    </tr>\n",
              "    <tr>\n",
              "      <th id=\"T_d0111_level0_row15\" class=\"row_heading level0 row15\" >15</th>\n",
              "      <td id=\"T_d0111_row15_col0\" class=\"data row15 col0\" >USI</td>\n",
              "      <td id=\"T_d0111_row15_col1\" class=\"data row15 col1\" >872c</td>\n",
              "    </tr>\n",
              "  </tbody>\n",
              "</table>\n"
            ]
          },
          "metadata": {}
        }
      ],
      "source": [
        "agrupacion = setup(clientes_entrenamiento, session_id = 123, normalize = True,pca_components=3)"
      ]
    },
    {
      "cell_type": "markdown",
      "metadata": {
        "id": "IidAVW7wuz4J"
      },
      "source": [
        "# **Generación del modelo de agrupación**"
      ]
    },
    {
      "cell_type": "code",
      "execution_count": 52,
      "metadata": {
        "id": "WmmnQMhgId78",
        "colab": {
          "base_uri": "https://localhost:8080/",
          "height": 363
        },
        "outputId": "14f98fc1-0a35-4b0f-dc7c-bd7cbb2c7584"
      },
      "outputs": [
        {
          "output_type": "execute_result",
          "data": {
            "text/plain": [
              "                                       Name  \\\n",
              "ID                                            \n",
              "kmeans                   K-Means Clustering   \n",
              "ap                     Affinity Propagation   \n",
              "meanshift             Mean Shift Clustering   \n",
              "sc                      Spectral Clustering   \n",
              "hclust             Agglomerative Clustering   \n",
              "dbscan     Density-Based Spatial Clustering   \n",
              "optics                    OPTICS Clustering   \n",
              "birch                      Birch Clustering   \n",
              "kmodes                   K-Modes Clustering   \n",
              "\n",
              "                                                   Reference  \n",
              "ID                                                            \n",
              "kmeans                        sklearn.cluster._kmeans.KMeans  \n",
              "ap         sklearn.cluster._affinity_propagation.Affinity...  \n",
              "meanshift              sklearn.cluster._mean_shift.MeanShift  \n",
              "sc              sklearn.cluster._spectral.SpectralClustering  \n",
              "hclust     sklearn.cluster._agglomerative.AgglomerativeCl...  \n",
              "dbscan                        sklearn.cluster._dbscan.DBSCAN  \n",
              "optics                        sklearn.cluster._optics.OPTICS  \n",
              "birch                           sklearn.cluster._birch.Birch  \n",
              "kmodes                                  kmodes.kmodes.KModes  "
            ],
            "text/html": [
              "\n",
              "  <div id=\"df-8995f21e-e293-48f6-b45d-27a743a2b838\">\n",
              "    <div class=\"colab-df-container\">\n",
              "      <div>\n",
              "<style scoped>\n",
              "    .dataframe tbody tr th:only-of-type {\n",
              "        vertical-align: middle;\n",
              "    }\n",
              "\n",
              "    .dataframe tbody tr th {\n",
              "        vertical-align: top;\n",
              "    }\n",
              "\n",
              "    .dataframe thead th {\n",
              "        text-align: right;\n",
              "    }\n",
              "</style>\n",
              "<table border=\"1\" class=\"dataframe\">\n",
              "  <thead>\n",
              "    <tr style=\"text-align: right;\">\n",
              "      <th></th>\n",
              "      <th>Name</th>\n",
              "      <th>Reference</th>\n",
              "    </tr>\n",
              "    <tr>\n",
              "      <th>ID</th>\n",
              "      <th></th>\n",
              "      <th></th>\n",
              "    </tr>\n",
              "  </thead>\n",
              "  <tbody>\n",
              "    <tr>\n",
              "      <th>kmeans</th>\n",
              "      <td>K-Means Clustering</td>\n",
              "      <td>sklearn.cluster._kmeans.KMeans</td>\n",
              "    </tr>\n",
              "    <tr>\n",
              "      <th>ap</th>\n",
              "      <td>Affinity Propagation</td>\n",
              "      <td>sklearn.cluster._affinity_propagation.Affinity...</td>\n",
              "    </tr>\n",
              "    <tr>\n",
              "      <th>meanshift</th>\n",
              "      <td>Mean Shift Clustering</td>\n",
              "      <td>sklearn.cluster._mean_shift.MeanShift</td>\n",
              "    </tr>\n",
              "    <tr>\n",
              "      <th>sc</th>\n",
              "      <td>Spectral Clustering</td>\n",
              "      <td>sklearn.cluster._spectral.SpectralClustering</td>\n",
              "    </tr>\n",
              "    <tr>\n",
              "      <th>hclust</th>\n",
              "      <td>Agglomerative Clustering</td>\n",
              "      <td>sklearn.cluster._agglomerative.AgglomerativeCl...</td>\n",
              "    </tr>\n",
              "    <tr>\n",
              "      <th>dbscan</th>\n",
              "      <td>Density-Based Spatial Clustering</td>\n",
              "      <td>sklearn.cluster._dbscan.DBSCAN</td>\n",
              "    </tr>\n",
              "    <tr>\n",
              "      <th>optics</th>\n",
              "      <td>OPTICS Clustering</td>\n",
              "      <td>sklearn.cluster._optics.OPTICS</td>\n",
              "    </tr>\n",
              "    <tr>\n",
              "      <th>birch</th>\n",
              "      <td>Birch Clustering</td>\n",
              "      <td>sklearn.cluster._birch.Birch</td>\n",
              "    </tr>\n",
              "    <tr>\n",
              "      <th>kmodes</th>\n",
              "      <td>K-Modes Clustering</td>\n",
              "      <td>kmodes.kmodes.KModes</td>\n",
              "    </tr>\n",
              "  </tbody>\n",
              "</table>\n",
              "</div>\n",
              "      <button class=\"colab-df-convert\" onclick=\"convertToInteractive('df-8995f21e-e293-48f6-b45d-27a743a2b838')\"\n",
              "              title=\"Convert this dataframe to an interactive table.\"\n",
              "              style=\"display:none;\">\n",
              "        \n",
              "  <svg xmlns=\"http://www.w3.org/2000/svg\" height=\"24px\"viewBox=\"0 0 24 24\"\n",
              "       width=\"24px\">\n",
              "    <path d=\"M0 0h24v24H0V0z\" fill=\"none\"/>\n",
              "    <path d=\"M18.56 5.44l.94 2.06.94-2.06 2.06-.94-2.06-.94-.94-2.06-.94 2.06-2.06.94zm-11 1L8.5 8.5l.94-2.06 2.06-.94-2.06-.94L8.5 2.5l-.94 2.06-2.06.94zm10 10l.94 2.06.94-2.06 2.06-.94-2.06-.94-.94-2.06-.94 2.06-2.06.94z\"/><path d=\"M17.41 7.96l-1.37-1.37c-.4-.4-.92-.59-1.43-.59-.52 0-1.04.2-1.43.59L10.3 9.45l-7.72 7.72c-.78.78-.78 2.05 0 2.83L4 21.41c.39.39.9.59 1.41.59.51 0 1.02-.2 1.41-.59l7.78-7.78 2.81-2.81c.8-.78.8-2.07 0-2.86zM5.41 20L4 18.59l7.72-7.72 1.47 1.35L5.41 20z\"/>\n",
              "  </svg>\n",
              "      </button>\n",
              "      \n",
              "  <style>\n",
              "    .colab-df-container {\n",
              "      display:flex;\n",
              "      flex-wrap:wrap;\n",
              "      gap: 12px;\n",
              "    }\n",
              "\n",
              "    .colab-df-convert {\n",
              "      background-color: #E8F0FE;\n",
              "      border: none;\n",
              "      border-radius: 50%;\n",
              "      cursor: pointer;\n",
              "      display: none;\n",
              "      fill: #1967D2;\n",
              "      height: 32px;\n",
              "      padding: 0 0 0 0;\n",
              "      width: 32px;\n",
              "    }\n",
              "\n",
              "    .colab-df-convert:hover {\n",
              "      background-color: #E2EBFA;\n",
              "      box-shadow: 0px 1px 2px rgba(60, 64, 67, 0.3), 0px 1px 3px 1px rgba(60, 64, 67, 0.15);\n",
              "      fill: #174EA6;\n",
              "    }\n",
              "\n",
              "    [theme=dark] .colab-df-convert {\n",
              "      background-color: #3B4455;\n",
              "      fill: #D2E3FC;\n",
              "    }\n",
              "\n",
              "    [theme=dark] .colab-df-convert:hover {\n",
              "      background-color: #434B5C;\n",
              "      box-shadow: 0px 1px 3px 1px rgba(0, 0, 0, 0.15);\n",
              "      filter: drop-shadow(0px 1px 2px rgba(0, 0, 0, 0.3));\n",
              "      fill: #FFFFFF;\n",
              "    }\n",
              "  </style>\n",
              "\n",
              "      <script>\n",
              "        const buttonEl =\n",
              "          document.querySelector('#df-8995f21e-e293-48f6-b45d-27a743a2b838 button.colab-df-convert');\n",
              "        buttonEl.style.display =\n",
              "          google.colab.kernel.accessAllowed ? 'block' : 'none';\n",
              "\n",
              "        async function convertToInteractive(key) {\n",
              "          const element = document.querySelector('#df-8995f21e-e293-48f6-b45d-27a743a2b838');\n",
              "          const dataTable =\n",
              "            await google.colab.kernel.invokeFunction('convertToInteractive',\n",
              "                                                     [key], {});\n",
              "          if (!dataTable) return;\n",
              "\n",
              "          const docLinkHtml = 'Like what you see? Visit the ' +\n",
              "            '<a target=\"_blank\" href=https://colab.research.google.com/notebooks/data_table.ipynb>data table notebook</a>'\n",
              "            + ' to learn more about interactive tables.';\n",
              "          element.innerHTML = '';\n",
              "          dataTable['output_type'] = 'display_data';\n",
              "          await google.colab.output.renderOutput(dataTable, element);\n",
              "          const docLink = document.createElement('div');\n",
              "          docLink.innerHTML = docLinkHtml;\n",
              "          element.appendChild(docLink);\n",
              "        }\n",
              "      </script>\n",
              "    </div>\n",
              "  </div>\n",
              "  "
            ]
          },
          "metadata": {},
          "execution_count": 52
        }
      ],
      "source": [
        "models()"
      ]
    },
    {
      "cell_type": "code",
      "execution_count": 53,
      "metadata": {
        "id": "jiW1ibA5Il6Y",
        "colab": {
          "base_uri": "https://localhost:8080/"
        },
        "outputId": "d37c8298-39e9-41c5-d28d-64ca3bf3a187"
      },
      "outputs": [
        {
          "output_type": "stream",
          "name": "stdout",
          "text": [
            "Hay 9 algoritmos para clustering\n"
          ]
        }
      ],
      "source": [
        "print(f\"Hay {len(models())} algoritmos para clustering\")"
      ]
    },
    {
      "cell_type": "markdown",
      "metadata": {
        "id": "56brEb2gIoni"
      },
      "source": [
        "## **Algoritmo Hierarchical Clustering**\n"
      ]
    },
    {
      "cell_type": "code",
      "execution_count": 54,
      "metadata": {
        "id": "664hhMXLIrkV",
        "colab": {
          "base_uri": "https://localhost:8080/",
          "height": 99,
          "referenced_widgets": [
            "c60a4442e1ef44c49ee9208d8de9b81b",
            "7ba5c534f86144bb9fc10b16d9cb8a69",
            "33616b984d93445da383d974bb89fa5a",
            "f5306639b00848aebe104a52f610e7c9",
            "3f574fe32aa84e1ba5ddd4d75e7ed278",
            "0c15b7f4a8b944fe8cc484ec7bf28c46",
            "c7d06af8e4d64fb18c6fb98600e28c1c",
            "ac522f3e7bfa4ab5b9c19273879f74ae",
            "c5960e5d36fb42468645ed3a6c73d4c4",
            "6bbdea43b8704906871df7295747382d",
            "9ff622a8d3124bea91c94eb8a7919aaf"
          ]
        },
        "outputId": "499b970f-6e97-4bad-9ba2-e4966faefdcd"
      },
      "outputs": [
        {
          "output_type": "display_data",
          "data": {
            "text/plain": [
              "<IPython.core.display.HTML object>"
            ],
            "text/html": []
          },
          "metadata": {}
        },
        {
          "output_type": "display_data",
          "data": {
            "text/plain": [
              "<pandas.io.formats.style.Styler at 0x7fc076178d10>"
            ],
            "text/html": [
              "<style type=\"text/css\">\n",
              "</style>\n",
              "<table id=\"T_63264_\" class=\"dataframe\">\n",
              "  <thead>\n",
              "    <tr>\n",
              "      <th class=\"blank level0\" >&nbsp;</th>\n",
              "      <th class=\"col_heading level0 col0\" >Silhouette</th>\n",
              "      <th class=\"col_heading level0 col1\" >Calinski-Harabasz</th>\n",
              "      <th class=\"col_heading level0 col2\" >Davies-Bouldin</th>\n",
              "      <th class=\"col_heading level0 col3\" >Homogeneity</th>\n",
              "      <th class=\"col_heading level0 col4\" >Rand Index</th>\n",
              "      <th class=\"col_heading level0 col5\" >Completeness</th>\n",
              "    </tr>\n",
              "  </thead>\n",
              "  <tbody>\n",
              "    <tr>\n",
              "      <th id=\"T_63264_level0_row0\" class=\"row_heading level0 row0\" >0</th>\n",
              "      <td id=\"T_63264_row0_col0\" class=\"data row0 col0\" >0.4038</td>\n",
              "      <td id=\"T_63264_row0_col1\" class=\"data row0 col1\" >83.2785</td>\n",
              "      <td id=\"T_63264_row0_col2\" class=\"data row0 col2\" >0.9579</td>\n",
              "      <td id=\"T_63264_row0_col3\" class=\"data row0 col3\" >0</td>\n",
              "      <td id=\"T_63264_row0_col4\" class=\"data row0 col4\" >0</td>\n",
              "      <td id=\"T_63264_row0_col5\" class=\"data row0 col5\" >0</td>\n",
              "    </tr>\n",
              "  </tbody>\n",
              "</table>\n"
            ]
          },
          "metadata": {}
        },
        {
          "output_type": "display_data",
          "data": {
            "text/plain": [
              "Processing:   0%|          | 0/3 [00:00<?, ?it/s]"
            ],
            "application/vnd.jupyter.widget-view+json": {
              "version_major": 2,
              "version_minor": 0,
              "model_id": "c60a4442e1ef44c49ee9208d8de9b81b"
            }
          },
          "metadata": {
            "application/vnd.jupyter.widget-view+json": {
              "colab": {
                "custom_widget_manager": {
                  "url": "https://ssl.gstatic.com/colaboratory-static/widgets/colab-cdn-widget-manager/d2e234f7cc04bf79/manager.min.js"
                }
              }
            }
          }
        },
        {
          "output_type": "display_data",
          "data": {
            "text/plain": [
              "<IPython.core.display.HTML object>"
            ],
            "text/html": []
          },
          "metadata": {}
        },
        {
          "output_type": "stream",
          "name": "stdout",
          "text": [
            "AgglomerativeClustering(n_clusters=5)\n"
          ]
        }
      ],
      "source": [
        "hierarchicalModel = create_model('hclust', num_clusters=5)\n",
        "print(hierarchicalModel)"
      ]
    },
    {
      "cell_type": "markdown",
      "metadata": {
        "id": "qxvKkShrIuos"
      },
      "source": [
        "# **Asignando el Modelo**"
      ]
    },
    {
      "cell_type": "markdown",
      "metadata": {
        "id": "CA9xTLhrI0x6"
      },
      "source": [
        "Ahora que hemos creado un modelo, nos gustaría asignar las etiquetas de grupo a nuestro conjunto de datos ( **150  muestras**) para analizar los resultados. Lo lograremos usando la función assign_model()."
      ]
    },
    {
      "cell_type": "code",
      "execution_count": 55,
      "metadata": {
        "id": "ySs-ZhG-IyOq",
        "colab": {
          "base_uri": "https://localhost:8080/",
          "height": 363
        },
        "outputId": "fdcb0dcb-c0e9-46ef-bb10-e180cab514c6"
      },
      "outputs": [
        {
          "output_type": "execute_result",
          "data": {
            "text/plain": [
              "   Edad  IngresoAnual  ScoreGastoMall    Cluster\n",
              "0    52            23              29  Cluster 1\n",
              "1    40            87              13  Cluster 2\n",
              "2    54            63              46  Cluster 1\n",
              "3    48            61              42  Cluster 1\n",
              "4    27            88              69  Cluster 3\n",
              "5    46            98              15  Cluster 2\n",
              "6    22            17              76  Cluster 0\n",
              "7    48            77              36  Cluster 2\n",
              "8    58            20              15  Cluster 4\n",
              "9    44            78              20  Cluster 2"
            ],
            "text/html": [
              "\n",
              "  <div id=\"df-9662c1ab-814c-417e-b831-7961a6af3c27\">\n",
              "    <div class=\"colab-df-container\">\n",
              "      <div>\n",
              "<style scoped>\n",
              "    .dataframe tbody tr th:only-of-type {\n",
              "        vertical-align: middle;\n",
              "    }\n",
              "\n",
              "    .dataframe tbody tr th {\n",
              "        vertical-align: top;\n",
              "    }\n",
              "\n",
              "    .dataframe thead th {\n",
              "        text-align: right;\n",
              "    }\n",
              "</style>\n",
              "<table border=\"1\" class=\"dataframe\">\n",
              "  <thead>\n",
              "    <tr style=\"text-align: right;\">\n",
              "      <th></th>\n",
              "      <th>Edad</th>\n",
              "      <th>IngresoAnual</th>\n",
              "      <th>ScoreGastoMall</th>\n",
              "      <th>Cluster</th>\n",
              "    </tr>\n",
              "  </thead>\n",
              "  <tbody>\n",
              "    <tr>\n",
              "      <th>0</th>\n",
              "      <td>52</td>\n",
              "      <td>23</td>\n",
              "      <td>29</td>\n",
              "      <td>Cluster 1</td>\n",
              "    </tr>\n",
              "    <tr>\n",
              "      <th>1</th>\n",
              "      <td>40</td>\n",
              "      <td>87</td>\n",
              "      <td>13</td>\n",
              "      <td>Cluster 2</td>\n",
              "    </tr>\n",
              "    <tr>\n",
              "      <th>2</th>\n",
              "      <td>54</td>\n",
              "      <td>63</td>\n",
              "      <td>46</td>\n",
              "      <td>Cluster 1</td>\n",
              "    </tr>\n",
              "    <tr>\n",
              "      <th>3</th>\n",
              "      <td>48</td>\n",
              "      <td>61</td>\n",
              "      <td>42</td>\n",
              "      <td>Cluster 1</td>\n",
              "    </tr>\n",
              "    <tr>\n",
              "      <th>4</th>\n",
              "      <td>27</td>\n",
              "      <td>88</td>\n",
              "      <td>69</td>\n",
              "      <td>Cluster 3</td>\n",
              "    </tr>\n",
              "    <tr>\n",
              "      <th>5</th>\n",
              "      <td>46</td>\n",
              "      <td>98</td>\n",
              "      <td>15</td>\n",
              "      <td>Cluster 2</td>\n",
              "    </tr>\n",
              "    <tr>\n",
              "      <th>6</th>\n",
              "      <td>22</td>\n",
              "      <td>17</td>\n",
              "      <td>76</td>\n",
              "      <td>Cluster 0</td>\n",
              "    </tr>\n",
              "    <tr>\n",
              "      <th>7</th>\n",
              "      <td>48</td>\n",
              "      <td>77</td>\n",
              "      <td>36</td>\n",
              "      <td>Cluster 2</td>\n",
              "    </tr>\n",
              "    <tr>\n",
              "      <th>8</th>\n",
              "      <td>58</td>\n",
              "      <td>20</td>\n",
              "      <td>15</td>\n",
              "      <td>Cluster 4</td>\n",
              "    </tr>\n",
              "    <tr>\n",
              "      <th>9</th>\n",
              "      <td>44</td>\n",
              "      <td>78</td>\n",
              "      <td>20</td>\n",
              "      <td>Cluster 2</td>\n",
              "    </tr>\n",
              "  </tbody>\n",
              "</table>\n",
              "</div>\n",
              "      <button class=\"colab-df-convert\" onclick=\"convertToInteractive('df-9662c1ab-814c-417e-b831-7961a6af3c27')\"\n",
              "              title=\"Convert this dataframe to an interactive table.\"\n",
              "              style=\"display:none;\">\n",
              "        \n",
              "  <svg xmlns=\"http://www.w3.org/2000/svg\" height=\"24px\"viewBox=\"0 0 24 24\"\n",
              "       width=\"24px\">\n",
              "    <path d=\"M0 0h24v24H0V0z\" fill=\"none\"/>\n",
              "    <path d=\"M18.56 5.44l.94 2.06.94-2.06 2.06-.94-2.06-.94-.94-2.06-.94 2.06-2.06.94zm-11 1L8.5 8.5l.94-2.06 2.06-.94-2.06-.94L8.5 2.5l-.94 2.06-2.06.94zm10 10l.94 2.06.94-2.06 2.06-.94-2.06-.94-.94-2.06-.94 2.06-2.06.94z\"/><path d=\"M17.41 7.96l-1.37-1.37c-.4-.4-.92-.59-1.43-.59-.52 0-1.04.2-1.43.59L10.3 9.45l-7.72 7.72c-.78.78-.78 2.05 0 2.83L4 21.41c.39.39.9.59 1.41.59.51 0 1.02-.2 1.41-.59l7.78-7.78 2.81-2.81c.8-.78.8-2.07 0-2.86zM5.41 20L4 18.59l7.72-7.72 1.47 1.35L5.41 20z\"/>\n",
              "  </svg>\n",
              "      </button>\n",
              "      \n",
              "  <style>\n",
              "    .colab-df-container {\n",
              "      display:flex;\n",
              "      flex-wrap:wrap;\n",
              "      gap: 12px;\n",
              "    }\n",
              "\n",
              "    .colab-df-convert {\n",
              "      background-color: #E8F0FE;\n",
              "      border: none;\n",
              "      border-radius: 50%;\n",
              "      cursor: pointer;\n",
              "      display: none;\n",
              "      fill: #1967D2;\n",
              "      height: 32px;\n",
              "      padding: 0 0 0 0;\n",
              "      width: 32px;\n",
              "    }\n",
              "\n",
              "    .colab-df-convert:hover {\n",
              "      background-color: #E2EBFA;\n",
              "      box-shadow: 0px 1px 2px rgba(60, 64, 67, 0.3), 0px 1px 3px 1px rgba(60, 64, 67, 0.15);\n",
              "      fill: #174EA6;\n",
              "    }\n",
              "\n",
              "    [theme=dark] .colab-df-convert {\n",
              "      background-color: #3B4455;\n",
              "      fill: #D2E3FC;\n",
              "    }\n",
              "\n",
              "    [theme=dark] .colab-df-convert:hover {\n",
              "      background-color: #434B5C;\n",
              "      box-shadow: 0px 1px 3px 1px rgba(0, 0, 0, 0.15);\n",
              "      filter: drop-shadow(0px 1px 2px rgba(0, 0, 0, 0.3));\n",
              "      fill: #FFFFFF;\n",
              "    }\n",
              "  </style>\n",
              "\n",
              "      <script>\n",
              "        const buttonEl =\n",
              "          document.querySelector('#df-9662c1ab-814c-417e-b831-7961a6af3c27 button.colab-df-convert');\n",
              "        buttonEl.style.display =\n",
              "          google.colab.kernel.accessAllowed ? 'block' : 'none';\n",
              "\n",
              "        async function convertToInteractive(key) {\n",
              "          const element = document.querySelector('#df-9662c1ab-814c-417e-b831-7961a6af3c27');\n",
              "          const dataTable =\n",
              "            await google.colab.kernel.invokeFunction('convertToInteractive',\n",
              "                                                     [key], {});\n",
              "          if (!dataTable) return;\n",
              "\n",
              "          const docLinkHtml = 'Like what you see? Visit the ' +\n",
              "            '<a target=\"_blank\" href=https://colab.research.google.com/notebooks/data_table.ipynb>data table notebook</a>'\n",
              "            + ' to learn more about interactive tables.';\n",
              "          element.innerHTML = '';\n",
              "          dataTable['output_type'] = 'display_data';\n",
              "          await google.colab.output.renderOutput(dataTable, element);\n",
              "          const docLink = document.createElement('div');\n",
              "          docLink.innerHTML = docLinkHtml;\n",
              "          element.appendChild(docLink);\n",
              "        }\n",
              "      </script>\n",
              "    </div>\n",
              "  </div>\n",
              "  "
            ]
          },
          "metadata": {},
          "execution_count": 55
        }
      ],
      "source": [
        "hierarchicalModel_resultados = assign_model(hierarchicalModel)\n",
        "hierarchicalModel_resultados.head(10)"
      ]
    },
    {
      "cell_type": "code",
      "execution_count": 56,
      "metadata": {
        "id": "Qo_izlkhI8hf",
        "colab": {
          "base_uri": "https://localhost:8080/"
        },
        "outputId": "f00aafcb-1a34-4133-ce55-3fd16ba64e94"
      },
      "outputs": [
        {
          "output_type": "execute_result",
          "data": {
            "text/plain": [
              "(150, 4)"
            ]
          },
          "metadata": {},
          "execution_count": 56
        }
      ],
      "source": [
        "hierarchicalModel_resultados.shape"
      ]
    },
    {
      "cell_type": "markdown",
      "metadata": {
        "id": "yvzXq_rII-ds"
      },
      "source": [
        "# **Evaluación del Modelo**"
      ]
    },
    {
      "cell_type": "code",
      "execution_count": 57,
      "metadata": {
        "id": "gj90r257JAcQ",
        "colab": {
          "base_uri": "https://localhost:8080/",
          "height": 148,
          "referenced_widgets": [
            "a1b5321f2ac04717878cd9f7d0606d32",
            "6ea67dad85824e65bf8e2387beac1778",
            "a170c47a921e4e48aec7b5e6af1c0573",
            "c472531d28324cbbbaaca747732d63f3",
            "f8e5d712f49945cb8f1d7050d8468925",
            "f0f1559c9e9e4bdbad906edc06168e10",
            "0ca31869354f4254a5a45617c60f3124"
          ]
        },
        "outputId": "d02d16ad-cb53-4291-b2f5-3939fe24748a"
      },
      "outputs": [
        {
          "output_type": "display_data",
          "data": {
            "text/plain": [
              "interactive(children=(ToggleButtons(description='Plot Type:', icons=('',), options=(('Pipeline Plot', 'pipelin…"
            ],
            "application/vnd.jupyter.widget-view+json": {
              "version_major": 2,
              "version_minor": 0,
              "model_id": "a1b5321f2ac04717878cd9f7d0606d32"
            }
          },
          "metadata": {
            "application/vnd.jupyter.widget-view+json": {
              "colab": {
                "custom_widget_manager": {
                  "url": "https://ssl.gstatic.com/colaboratory-static/widgets/colab-cdn-widget-manager/d2e234f7cc04bf79/manager.min.js"
                }
              }
            }
          }
        }
      ],
      "source": [
        "evaluate_model(hierarchicalModel)"
      ]
    },
    {
      "cell_type": "markdown",
      "metadata": {
        "id": "5lR7a3IuJC9M"
      },
      "source": [
        "# **Visualización del Modelo**"
      ]
    },
    {
      "cell_type": "code",
      "execution_count": 58,
      "metadata": {
        "id": "laqsDXaPJEr4",
        "colab": {
          "base_uri": "https://localhost:8080/",
          "height": 617
        },
        "outputId": "a1ce671e-d5c5-4912-88c6-1312131becde"
      },
      "outputs": [
        {
          "output_type": "display_data",
          "data": {
            "text/plain": [
              "<IPython.core.display.HTML object>"
            ],
            "text/html": []
          },
          "metadata": {}
        },
        {
          "output_type": "display_data",
          "data": {
            "text/html": [
              "<html>\n",
              "<head><meta charset=\"utf-8\" /></head>\n",
              "<body>\n",
              "    <div>            <script src=\"https://cdnjs.cloudflare.com/ajax/libs/mathjax/2.7.5/MathJax.js?config=TeX-AMS-MML_SVG\"></script><script type=\"text/javascript\">if (window.MathJax) {MathJax.Hub.Config({SVG: {font: \"STIX-Web\"}});}</script>                <script type=\"text/javascript\">window.PlotlyConfig = {MathJaxConfig: 'local'};</script>\n",
              "        <script src=\"https://cdn.plot.ly/plotly-2.8.3.min.js\"></script>                <div id=\"4095dd34-213f-437d-a4b4-5e8e598edff5\" class=\"plotly-graph-div\" style=\"height:600px; width:100%;\"></div>            <script type=\"text/javascript\">                                    window.PLOTLYENV=window.PLOTLYENV || {};                                    if (document.getElementById(\"4095dd34-213f-437d-a4b4-5e8e598edff5\")) {                    Plotly.newPlot(                        \"4095dd34-213f-437d-a4b4-5e8e598edff5\",                        [{\"customdata\":[[21],[31],[23],[22],[31],[24],[29],[32],[19],[24],[24],[19],[31],[26],[35],[23],[27],[33],[24],[23],[31],[23],[27],[21],[18],[21],[22],[35],[19],[18],[35],[18],[21],[19],[30],[23]],\"hovertemplate\":\"Cluster=Cluster 0<br>PCA1=%{x}<br>PCA2=%{y}<br>Feature=%{customdata[0]}<extra></extra>\",\"legendgroup\":\"Cluster 0\",\"marker\":{\"color\":\"#636efa\",\"opacity\":0.5,\"symbol\":\"circle\"},\"mode\":\"markers\",\"name\":\"Cluster 0\",\"orientation\":\"v\",\"showlegend\":true,\"x\":[-0.6695429525259912,-0.34692317212225343,-0.7757473028798315,-1.2734935380551198,-0.7117204009404252,-1.1214434534699667,-0.09568215465960185,-0.1500407173292869,-1.100206904323454,-1.6758160362786874,-0.7763754966262136,-0.8922014594979973,-0.5030847958160705,-0.6828442071237041,-0.2161543968828757,-0.2862728392261657,-0.575334775972805,-0.40287853236255716,-0.954156873191144,-0.5445272741651589,0.002299117476910123,-1.1373548696617972,-0.795429848102472,-1.3352039617264844,-1.1603224969767159,-1.4840604511703996,-1.1675809044748395,-1.169033588685092,-0.9866546260729654,-0.7646710395991196,-1.175078402337197,-1.928410827842692,-1.0089006061379453,-1.1113318609084597,-0.8351392817306389,-1.6134793854134566],\"xaxis\":\"x\",\"y\":[-0.1651140136633749,-0.7612745811140423,-0.46947733495128974,-1.8345963217622057,-1.4964772575609584,-1.7969507810482621,-0.847814774258757,-0.5351307588291461,-0.2093395122719051,-1.2075964725947235,-0.23704449691450555,-0.13870562828764468,-0.9365686699971297,-0.434457313291165,-1.2779190502948208,0.21025073117026902,-0.1848658437257483,-0.7942629243843592,-1.0554590888494582,-0.13175813083158944,-0.8187485493091297,-1.956750377231056,0.04361255547026818,-2.039291854636311,-0.7900702280624357,-1.3855926779504,-1.9306772108967165,-1.7677756381597862,-0.8310117259129792,-0.31337355598664285,-1.6182194965696481,-1.4763782520785806,-0.5199918493117079,-0.7755371155876217,-1.1841607816928166,-1.9570413193737544],\"yaxis\":\"y\",\"type\":\"scatter\",\"textposition\":\"top center\"},{\"customdata\":[[69],[49],[66],[63],[48],[50],[49],[68],[55],[50],[50],[48],[67],[38],[53],[67],[60],[45],[38],[49],[32],[65],[50],[63],[48],[68],[40],[52],[57],[54],[66],[47],[45],[46],[59],[43],[70],[47],[54],[65],[51],[49],[40],[47],[48],[51]],\"hovertemplate\":\"Cluster=Cluster 1<br>PCA1=%{x}<br>PCA2=%{y}<br>Feature=%{customdata[0]}<extra></extra>\",\"legendgroup\":\"Cluster 1\",\"marker\":{\"color\":\"#EF553B\",\"opacity\":0.5,\"symbol\":\"circle\"},\"mode\":\"markers\",\"name\":\"Cluster 1\",\"orientation\":\"v\",\"showlegend\":true,\"x\":[1.7227264432969327,0.323713170244693,1.3645594282305022,1.3362199412091231,0.4805029876848923,0.5816739218576104,0.539988420039256,1.3063790766731973,0.6049371990511203,0.8272085691934948,0.6761270884325784,1.0056161729522914,1.437729318907179,0.17601764823747032,0.9223366562666234,1.1244414008003403,0.9618478266247865,0.27501228439748127,0.1467582506961488,0.5972468945241026,-0.11410634583696183,1.2074311672649642,0.3043203752430968,1.2605313758893693,0.6112250361724919,1.597712731488616,0.3318875551577272,1.523136440301263,0.9169687296651943,0.6116102064496082,1.3104906157818617,0.7117210498470493,1.0577497443049755,0.5673125764846204,1.1230876266989882,0.30775306074856856,1.4848334071837728,0.7883742858860081,0.8307406078600706,1.8737611973060708,0.7327573691710426,1.2708820588151108,-0.22916000160199698,0.485581164065277,0.6614740262860285,0.7317926984518378],\"xaxis\":\"x\",\"y\":[-0.1383824230868626,0.18175792528119353,0.4994547213372863,0.5499369151776262,0.12461917612749689,-0.5983849647557259,0.21607518833845885,0.3532268574038262,0.07879417973078394,-0.4465385231531592,0.0939211328696086,-0.5822643108713431,-0.08423673254845379,0.2721113188077491,-0.2982789808298911,0.430484976181365,-0.09417728861979678,-0.15403851838754712,0.1545821402624476,-0.527415861730075,-0.07788301829441467,0.46776297733383987,0.37358448450882437,-0.10176290363855521,-0.08041157578799898,0.5499692356977044,0.04696119726841101,-1.0751701906289028,0.02893814707453317,-0.30319479989613857,0.49087540557297005,-0.25936916136915533,-1.008187846964097,-0.10089848497331004,0.07516300355279326,-0.38813549525267044,-0.0941126475796404,-0.4729792290489674,0.3336366874038386,-0.36722836184434793,-0.41713707916214127,-0.5334139353392644,0.29659694373251966,0.11866537941699956,0.19096340222959912,0.4481728073338523],\"yaxis\":\"y\",\"type\":\"scatter\",\"textposition\":\"top center\"},{\"customdata\":[[45],[59],[32],[25],[20],[34],[50],[43],[43],[47],[36],[48],[19],[40],[56],[46],[47],[41],[44],[54],[37],[19],[37],[44],[47]],\"hovertemplate\":\"Cluster=Cluster 2<br>PCA1=%{x}<br>PCA2=%{y}<br>Feature=%{customdata[0]}<extra></extra>\",\"legendgroup\":\"Cluster 2\",\"marker\":{\"color\":\"#00cc96\",\"opacity\":0.5,\"symbol\":\"circle\"},\"mode\":\"markers\",\"name\":\"Cluster 2\",\"orientation\":\"v\",\"showlegend\":true,\"x\":[0.3554464822298293,1.6927006383064105,-0.10205557907446625,0.21340470394004815,0.19077158704543598,0.9434290920527698,0.9935304787531127,0.9517943170779485,0.5230636398239269,1.4219207459292806,0.2640875576349951,0.6913635841262482,0.07562251122432892,0.8385317890485038,1.0937834689584043,0.9874389383492294,0.8274594588728241,0.0853902036551539,0.9196817344732435,1.1112449559690754,1.0904010002575382,-0.0016608851135285348,0.09520811289058526,1.3124780402349403,1.1747912675752932],\"xaxis\":\"x\",\"y\":[2.5679996354100516,1.63306992981682,2.8214485822560014,0.5664574866055505,0.37855304569860915,0.7807583565096083,1.1602630555416384,0.8429218426684009,0.5114916543005884,0.6811552091359554,1.025143064866079,0.7977672843544692,0.6545529006397561,1.1433307251155487,0.9909550838891267,1.6214329143970594,2.430642029383607,1.4821321837781902,0.8445859814967401,1.8080407560371305,0.8243576939340495,0.3788882647399997,1.3813940972000527,0.7187684293298209,0.9053439504498138],\"yaxis\":\"y\",\"type\":\"scatter\",\"textposition\":\"top center\"},{\"customdata\":[[30],[28],[29],[28],[30],[27],[27],[39],[35],[31],[29],[38],[38],[28],[32],[35],[30],[34],[32],[32],[32],[30],[35],[32],[36],[33],[31],[39],[29],[32]],\"hovertemplate\":\"Cluster=Cluster 3<br>PCA1=%{x}<br>PCA2=%{y}<br>Feature=%{customdata[0]}<extra></extra>\",\"legendgroup\":\"Cluster 3\",\"marker\":{\"color\":\"#ab63fa\",\"opacity\":0.5,\"symbol\":\"circle\"},\"mode\":\"markers\",\"name\":\"Cluster 3\",\"orientation\":\"v\",\"showlegend\":true,\"x\":[-1.957273255791802,-1.425489029678431,-1.8189135291865102,-1.9375479169224152,-1.1990107003713204,-1.7785331081652147,-1.320543033369871,-1.170286043072825,-1.5376895003800828,-1.191999249447495,-1.61216840495885,-0.8881888304982333,-0.8032657894901681,-1.3520254556756781,-1.462971505437081,-1.4635957660784316,-2.021502354106244,-1.4626330619117427,-1.5250144729762363,-1.6169081378138965,-1.1996369275651872,-1.6331560309785493,-0.8939438939292945,-1.6096030035639948,-1.436224882881289,-1.7129541688544516,-1.7155176036967912,-0.754275153421912,-1.5266152036518865,-1.0596804033892766],\"xaxis\":\"x\",\"y\":[2.5135545949660933,0.7029745867239781,1.0612249769276814,0.24543590404654766,0.413770539094966,0.3015366755559944,0.7504960424691082,0.14050512114648658,0.9582612313772716,0.1206120526251866,0.15330945375280464,0.5171664652470008,0.2672397766401937,1.2414348848770163,0.31014831184038905,1.9859962331098782,1.0734677893900664,0.3989788049975319,2.1817449106581983,0.24809374362044495,1.3679109187481027,0.7211711958968604,0.3454592756432123,1.0770870091894436,1.3574088425328266,0.6535303705278882,0.45146035670760154,0.2817728891150073,0.3926574687255658,0.26125365940961803],\"yaxis\":\"y\",\"type\":\"scatter\",\"textposition\":\"top center\"},{\"customdata\":[[60],[54],[58],[35],[20],[67],[35],[19],[31],[46],[35],[37],[64]],\"hovertemplate\":\"Cluster=Cluster 4<br>PCA1=%{x}<br>PCA2=%{y}<br>Feature=%{customdata[0]}<extra></extra>\",\"legendgroup\":\"Cluster 4\",\"marker\":{\"color\":\"#FFA15A\",\"opacity\":0.5,\"symbol\":\"circle\"},\"mode\":\"markers\",\"name\":\"Cluster 4\",\"orientation\":\"v\",\"showlegend\":true,\"x\":[2.5330330496715736,1.9852847809570464,2.2203713587586016,0.5198193848258795,0.6351160640601805,2.6965912945663324,1.3534359951458086,-0.29774017244154105,0.24657344421499822,1.8614787633372005,0.5446287997331988,1.2456368137738651,2.846997854829088],\"xaxis\":\"x\",\"y\":[-0.5974474972874735,-0.8001759928119275,-1.0368661682107914,-1.3116544290666885,-1.6957840050222672,-0.9380951189823055,-1.4051540760460721,-1.8881924485352957,-1.6454515148656994,-0.9867838344519984,-1.4206042918476738,-1.3334822144175618,-0.9345082197030063],\"yaxis\":\"y\",\"type\":\"scatter\",\"textposition\":\"top center\"}],                        {\"template\":{\"data\":{\"bar\":[{\"error_x\":{\"color\":\"#2a3f5f\"},\"error_y\":{\"color\":\"#2a3f5f\"},\"marker\":{\"line\":{\"color\":\"#E5ECF6\",\"width\":0.5},\"pattern\":{\"fillmode\":\"overlay\",\"size\":10,\"solidity\":0.2}},\"type\":\"bar\"}],\"barpolar\":[{\"marker\":{\"line\":{\"color\":\"#E5ECF6\",\"width\":0.5},\"pattern\":{\"fillmode\":\"overlay\",\"size\":10,\"solidity\":0.2}},\"type\":\"barpolar\"}],\"carpet\":[{\"aaxis\":{\"endlinecolor\":\"#2a3f5f\",\"gridcolor\":\"white\",\"linecolor\":\"white\",\"minorgridcolor\":\"white\",\"startlinecolor\":\"#2a3f5f\"},\"baxis\":{\"endlinecolor\":\"#2a3f5f\",\"gridcolor\":\"white\",\"linecolor\":\"white\",\"minorgridcolor\":\"white\",\"startlinecolor\":\"#2a3f5f\"},\"type\":\"carpet\"}],\"choropleth\":[{\"colorbar\":{\"outlinewidth\":0,\"ticks\":\"\"},\"type\":\"choropleth\"}],\"contour\":[{\"colorbar\":{\"outlinewidth\":0,\"ticks\":\"\"},\"colorscale\":[[0.0,\"#0d0887\"],[0.1111111111111111,\"#46039f\"],[0.2222222222222222,\"#7201a8\"],[0.3333333333333333,\"#9c179e\"],[0.4444444444444444,\"#bd3786\"],[0.5555555555555556,\"#d8576b\"],[0.6666666666666666,\"#ed7953\"],[0.7777777777777778,\"#fb9f3a\"],[0.8888888888888888,\"#fdca26\"],[1.0,\"#f0f921\"]],\"type\":\"contour\"}],\"contourcarpet\":[{\"colorbar\":{\"outlinewidth\":0,\"ticks\":\"\"},\"type\":\"contourcarpet\"}],\"heatmap\":[{\"colorbar\":{\"outlinewidth\":0,\"ticks\":\"\"},\"colorscale\":[[0.0,\"#0d0887\"],[0.1111111111111111,\"#46039f\"],[0.2222222222222222,\"#7201a8\"],[0.3333333333333333,\"#9c179e\"],[0.4444444444444444,\"#bd3786\"],[0.5555555555555556,\"#d8576b\"],[0.6666666666666666,\"#ed7953\"],[0.7777777777777778,\"#fb9f3a\"],[0.8888888888888888,\"#fdca26\"],[1.0,\"#f0f921\"]],\"type\":\"heatmap\"}],\"heatmapgl\":[{\"colorbar\":{\"outlinewidth\":0,\"ticks\":\"\"},\"colorscale\":[[0.0,\"#0d0887\"],[0.1111111111111111,\"#46039f\"],[0.2222222222222222,\"#7201a8\"],[0.3333333333333333,\"#9c179e\"],[0.4444444444444444,\"#bd3786\"],[0.5555555555555556,\"#d8576b\"],[0.6666666666666666,\"#ed7953\"],[0.7777777777777778,\"#fb9f3a\"],[0.8888888888888888,\"#fdca26\"],[1.0,\"#f0f921\"]],\"type\":\"heatmapgl\"}],\"histogram\":[{\"marker\":{\"pattern\":{\"fillmode\":\"overlay\",\"size\":10,\"solidity\":0.2}},\"type\":\"histogram\"}],\"histogram2d\":[{\"colorbar\":{\"outlinewidth\":0,\"ticks\":\"\"},\"colorscale\":[[0.0,\"#0d0887\"],[0.1111111111111111,\"#46039f\"],[0.2222222222222222,\"#7201a8\"],[0.3333333333333333,\"#9c179e\"],[0.4444444444444444,\"#bd3786\"],[0.5555555555555556,\"#d8576b\"],[0.6666666666666666,\"#ed7953\"],[0.7777777777777778,\"#fb9f3a\"],[0.8888888888888888,\"#fdca26\"],[1.0,\"#f0f921\"]],\"type\":\"histogram2d\"}],\"histogram2dcontour\":[{\"colorbar\":{\"outlinewidth\":0,\"ticks\":\"\"},\"colorscale\":[[0.0,\"#0d0887\"],[0.1111111111111111,\"#46039f\"],[0.2222222222222222,\"#7201a8\"],[0.3333333333333333,\"#9c179e\"],[0.4444444444444444,\"#bd3786\"],[0.5555555555555556,\"#d8576b\"],[0.6666666666666666,\"#ed7953\"],[0.7777777777777778,\"#fb9f3a\"],[0.8888888888888888,\"#fdca26\"],[1.0,\"#f0f921\"]],\"type\":\"histogram2dcontour\"}],\"mesh3d\":[{\"colorbar\":{\"outlinewidth\":0,\"ticks\":\"\"},\"type\":\"mesh3d\"}],\"parcoords\":[{\"line\":{\"colorbar\":{\"outlinewidth\":0,\"ticks\":\"\"}},\"type\":\"parcoords\"}],\"pie\":[{\"automargin\":true,\"type\":\"pie\"}],\"scatter\":[{\"marker\":{\"colorbar\":{\"outlinewidth\":0,\"ticks\":\"\"}},\"type\":\"scatter\"}],\"scatter3d\":[{\"line\":{\"colorbar\":{\"outlinewidth\":0,\"ticks\":\"\"}},\"marker\":{\"colorbar\":{\"outlinewidth\":0,\"ticks\":\"\"}},\"type\":\"scatter3d\"}],\"scattercarpet\":[{\"marker\":{\"colorbar\":{\"outlinewidth\":0,\"ticks\":\"\"}},\"type\":\"scattercarpet\"}],\"scattergeo\":[{\"marker\":{\"colorbar\":{\"outlinewidth\":0,\"ticks\":\"\"}},\"type\":\"scattergeo\"}],\"scattergl\":[{\"marker\":{\"colorbar\":{\"outlinewidth\":0,\"ticks\":\"\"}},\"type\":\"scattergl\"}],\"scattermapbox\":[{\"marker\":{\"colorbar\":{\"outlinewidth\":0,\"ticks\":\"\"}},\"type\":\"scattermapbox\"}],\"scatterpolar\":[{\"marker\":{\"colorbar\":{\"outlinewidth\":0,\"ticks\":\"\"}},\"type\":\"scatterpolar\"}],\"scatterpolargl\":[{\"marker\":{\"colorbar\":{\"outlinewidth\":0,\"ticks\":\"\"}},\"type\":\"scatterpolargl\"}],\"scatterternary\":[{\"marker\":{\"colorbar\":{\"outlinewidth\":0,\"ticks\":\"\"}},\"type\":\"scatterternary\"}],\"surface\":[{\"colorbar\":{\"outlinewidth\":0,\"ticks\":\"\"},\"colorscale\":[[0.0,\"#0d0887\"],[0.1111111111111111,\"#46039f\"],[0.2222222222222222,\"#7201a8\"],[0.3333333333333333,\"#9c179e\"],[0.4444444444444444,\"#bd3786\"],[0.5555555555555556,\"#d8576b\"],[0.6666666666666666,\"#ed7953\"],[0.7777777777777778,\"#fb9f3a\"],[0.8888888888888888,\"#fdca26\"],[1.0,\"#f0f921\"]],\"type\":\"surface\"}],\"table\":[{\"cells\":{\"fill\":{\"color\":\"#EBF0F8\"},\"line\":{\"color\":\"white\"}},\"header\":{\"fill\":{\"color\":\"#C8D4E3\"},\"line\":{\"color\":\"white\"}},\"type\":\"table\"}]},\"layout\":{\"annotationdefaults\":{\"arrowcolor\":\"#2a3f5f\",\"arrowhead\":0,\"arrowwidth\":1},\"autotypenumbers\":\"strict\",\"coloraxis\":{\"colorbar\":{\"outlinewidth\":0,\"ticks\":\"\"}},\"colorscale\":{\"diverging\":[[0,\"#8e0152\"],[0.1,\"#c51b7d\"],[0.2,\"#de77ae\"],[0.3,\"#f1b6da\"],[0.4,\"#fde0ef\"],[0.5,\"#f7f7f7\"],[0.6,\"#e6f5d0\"],[0.7,\"#b8e186\"],[0.8,\"#7fbc41\"],[0.9,\"#4d9221\"],[1,\"#276419\"]],\"sequential\":[[0.0,\"#0d0887\"],[0.1111111111111111,\"#46039f\"],[0.2222222222222222,\"#7201a8\"],[0.3333333333333333,\"#9c179e\"],[0.4444444444444444,\"#bd3786\"],[0.5555555555555556,\"#d8576b\"],[0.6666666666666666,\"#ed7953\"],[0.7777777777777778,\"#fb9f3a\"],[0.8888888888888888,\"#fdca26\"],[1.0,\"#f0f921\"]],\"sequentialminus\":[[0.0,\"#0d0887\"],[0.1111111111111111,\"#46039f\"],[0.2222222222222222,\"#7201a8\"],[0.3333333333333333,\"#9c179e\"],[0.4444444444444444,\"#bd3786\"],[0.5555555555555556,\"#d8576b\"],[0.6666666666666666,\"#ed7953\"],[0.7777777777777778,\"#fb9f3a\"],[0.8888888888888888,\"#fdca26\"],[1.0,\"#f0f921\"]]},\"colorway\":[\"#636efa\",\"#EF553B\",\"#00cc96\",\"#ab63fa\",\"#FFA15A\",\"#19d3f3\",\"#FF6692\",\"#B6E880\",\"#FF97FF\",\"#FECB52\"],\"font\":{\"color\":\"#2a3f5f\"},\"geo\":{\"bgcolor\":\"white\",\"lakecolor\":\"white\",\"landcolor\":\"#E5ECF6\",\"showlakes\":true,\"showland\":true,\"subunitcolor\":\"white\"},\"hoverlabel\":{\"align\":\"left\"},\"hovermode\":\"closest\",\"mapbox\":{\"style\":\"light\"},\"paper_bgcolor\":\"white\",\"plot_bgcolor\":\"#E5ECF6\",\"polar\":{\"angularaxis\":{\"gridcolor\":\"white\",\"linecolor\":\"white\",\"ticks\":\"\"},\"bgcolor\":\"#E5ECF6\",\"radialaxis\":{\"gridcolor\":\"white\",\"linecolor\":\"white\",\"ticks\":\"\"}},\"scene\":{\"xaxis\":{\"backgroundcolor\":\"#E5ECF6\",\"gridcolor\":\"white\",\"gridwidth\":2,\"linecolor\":\"white\",\"showbackground\":true,\"ticks\":\"\",\"zerolinecolor\":\"white\"},\"yaxis\":{\"backgroundcolor\":\"#E5ECF6\",\"gridcolor\":\"white\",\"gridwidth\":2,\"linecolor\":\"white\",\"showbackground\":true,\"ticks\":\"\",\"zerolinecolor\":\"white\"},\"zaxis\":{\"backgroundcolor\":\"#E5ECF6\",\"gridcolor\":\"white\",\"gridwidth\":2,\"linecolor\":\"white\",\"showbackground\":true,\"ticks\":\"\",\"zerolinecolor\":\"white\"}},\"shapedefaults\":{\"line\":{\"color\":\"#2a3f5f\"}},\"ternary\":{\"aaxis\":{\"gridcolor\":\"white\",\"linecolor\":\"white\",\"ticks\":\"\"},\"baxis\":{\"gridcolor\":\"white\",\"linecolor\":\"white\",\"ticks\":\"\"},\"bgcolor\":\"#E5ECF6\",\"caxis\":{\"gridcolor\":\"white\",\"linecolor\":\"white\",\"ticks\":\"\"}},\"title\":{\"x\":0.05},\"xaxis\":{\"automargin\":true,\"gridcolor\":\"white\",\"linecolor\":\"white\",\"ticks\":\"\",\"title\":{\"standoff\":15},\"zerolinecolor\":\"white\",\"zerolinewidth\":2},\"yaxis\":{\"automargin\":true,\"gridcolor\":\"white\",\"linecolor\":\"white\",\"ticks\":\"\",\"title\":{\"standoff\":15},\"zerolinecolor\":\"white\",\"zerolinewidth\":2}}},\"xaxis\":{\"anchor\":\"y\",\"domain\":[0.0,1.0],\"title\":{\"text\":\"PCA1\"}},\"yaxis\":{\"anchor\":\"x\",\"domain\":[0.0,1.0],\"title\":{\"text\":\"PCA2\"}},\"legend\":{\"title\":{\"text\":\"Cluster\"},\"tracegroupgap\":0},\"margin\":{\"t\":60},\"plot_bgcolor\":\"rgb(240,240,240)\",\"title\":{\"text\":\"2D Cluster PCA Plot\"},\"height\":600},                        {\"responsive\": true}                    ).then(function(){\n",
              "                            \n",
              "var gd = document.getElementById('4095dd34-213f-437d-a4b4-5e8e598edff5');\n",
              "var x = new MutationObserver(function (mutations, observer) {{\n",
              "        var display = window.getComputedStyle(gd).display;\n",
              "        if (!display || display === 'none') {{\n",
              "            console.log([gd, 'removed!']);\n",
              "            Plotly.purge(gd);\n",
              "            observer.disconnect();\n",
              "        }}\n",
              "}});\n",
              "\n",
              "// Listen for the removal of the full notebook cells\n",
              "var notebookContainer = gd.closest('#notebook-container');\n",
              "if (notebookContainer) {{\n",
              "    x.observe(notebookContainer, {childList: true});\n",
              "}}\n",
              "\n",
              "// Listen for the clearing of the current output cell\n",
              "var outputEl = gd.closest('.output');\n",
              "if (outputEl) {{\n",
              "    x.observe(outputEl, {childList: true});\n",
              "}}\n",
              "\n",
              "                        })                };                            </script>        </div>\n",
              "</body>\n",
              "</html>"
            ]
          },
          "metadata": {}
        }
      ],
      "source": [
        "plot_model(hierarchicalModel)"
      ]
    },
    {
      "cell_type": "code",
      "execution_count": 59,
      "metadata": {
        "id": "_F2_p7Wmqch2",
        "colab": {
          "base_uri": "https://localhost:8080/",
          "height": 817
        },
        "outputId": "1c3f2cde-81c5-418a-c0b4-9c4c63b3ef3c"
      },
      "outputs": [
        {
          "output_type": "display_data",
          "data": {
            "text/plain": [
              "<IPython.core.display.HTML object>"
            ],
            "text/html": []
          },
          "metadata": {}
        },
        {
          "output_type": "display_data",
          "data": {
            "text/html": [
              "<html>\n",
              "<head><meta charset=\"utf-8\" /></head>\n",
              "<body>\n",
              "    <div>            <script src=\"https://cdnjs.cloudflare.com/ajax/libs/mathjax/2.7.5/MathJax.js?config=TeX-AMS-MML_SVG\"></script><script type=\"text/javascript\">if (window.MathJax) {MathJax.Hub.Config({SVG: {font: \"STIX-Web\"}});}</script>                <script type=\"text/javascript\">window.PlotlyConfig = {MathJaxConfig: 'local'};</script>\n",
              "        <script src=\"https://cdn.plot.ly/plotly-2.8.3.min.js\"></script>                <div id=\"c2be8485-8508-461d-9480-c486dac904b4\" class=\"plotly-graph-div\" style=\"height:800px; width:900px;\"></div>            <script type=\"text/javascript\">                                    window.PLOTLYENV=window.PLOTLYENV || {};                                    if (document.getElementById(\"c2be8485-8508-461d-9480-c486dac904b4\")) {                    Plotly.newPlot(                        \"c2be8485-8508-461d-9480-c486dac904b4\",                        [{\"customdata\":[[21],[31],[23],[22],[31],[24],[29],[32],[19],[24],[24],[19],[31],[26],[35],[23],[27],[33],[24],[23],[31],[23],[27],[21],[18],[21],[22],[35],[19],[18],[35],[18],[21],[19],[30],[23]],\"hovertemplate\":\"Cluster=Cluster 0<br>0=%{x}<br>1=%{y}<br>2=%{z}<br>Feature=%{customdata[0]}<extra></extra>\",\"legendgroup\":\"Cluster 0\",\"marker\":{\"color\":\"#636efa\",\"opacity\":0.7,\"symbol\":\"circle\"},\"mode\":\"markers\",\"name\":\"Cluster 0\",\"scene\":\"scene\",\"showlegend\":true,\"x\":[-11.893096,5.1679688,69.36583,-86.08005,-78.0639,-27.462183,-69.79661,10.658684,-63.349854,-60.31302,-49.567883,-8.867417,-13.115713,-33.76272,-41.28476,-52.990273,41.027637,-33.04565,12.805951,-45.539223,-44.971676,66.109856,-46.82149,-46.59696,-6.7215037,-91.548325,28.621809,72.67235,-21.41268,-4.7441087,68.98637,-77.12797,-42.570404,-50.65633,-47.987022,68.46894],\"y\":[-73.62451,-76.47474,148.38834,-77.35586,92.93839,-111.13134,-49.118538,-73.70446,37.055805,-148.641,50.267166,-29.94907,-113.38902,25.853615,-71.24887,61.426937,-102.67462,-77.606895,-38.549843,26.125952,-21.58828,-65.21928,-6.932604,-80.28265,-37.35006,-113.76513,-86.89994,-132.76585,-18.344822,-31.291681,-105.55319,-121.71309,-53.46496,-98.23415,-115.273994,-29.32407],\"z\":[-42.6828,39.814533,-36.14566,100.25971,-116.5161,100.65879,34.990288,-1.2293842,-104.88325,86.65025,-55.399773,-52.544037,27.553175,-147.57118,73.17405,-8.545643,15.672843,31.8129,-105.37518,15.147737,44.821636,-103.98799,-13.814276,130.22977,59.13238,72.13919,-120.909004,90.49489,-128.22061,-10.006211,121.65366,118.15597,-9.071542,-9.794315,53.630627,-138.05832],\"type\":\"scatter3d\"},{\"customdata\":[[69],[49],[66],[63],[48],[50],[49],[68],[55],[50],[50],[48],[67],[38],[53],[67],[60],[45],[38],[49],[32],[65],[50],[63],[48],[68],[40],[52],[57],[54],[66],[47],[45],[46],[59],[43],[70],[47],[54],[65],[51],[49],[40],[47],[48],[51]],\"hovertemplate\":\"Cluster=Cluster 1<br>0=%{x}<br>1=%{y}<br>2=%{z}<br>Feature=%{customdata[0]}<extra></extra>\",\"legendgroup\":\"Cluster 1\",\"marker\":{\"color\":\"#EF553B\",\"opacity\":0.7,\"symbol\":\"circle\"},\"mode\":\"markers\",\"name\":\"Cluster 1\",\"scene\":\"scene\",\"showlegend\":true,\"x\":[106.551796,94.70728,81.56062,65.21756,41.788654,155.51643,57.588757,128.64687,132.18498,41.15495,75.21194,80.553604,104.92763,79.14601,-19.853731,32.092484,97.14253,47.339752,43.903282,16.961771,-6.4579844,98.55248,112.13622,137.84908,67.36791,66.78142,62.650475,18.752815,114.030205,150.45723,49.767227,-80.84429,7.8286448,43.27281,76.08573,20.405468,76.558174,-6.516357,98.78921,65.83221,128.05258,-66.91175,-1.2206682,43.657406,91.31263,82.93432],\"y\":[118.05249,21.232883,103.26511,143.96062,-80.13693,65.07315,2.288946,73.7128,32.47328,38.726063,-54.78457,23.761082,118.437904,-48.34137,100.85967,108.76622,66.757614,38.64497,-30.612196,60.075916,2.665838,68.679306,-11.305725,93.2705,9.764948,140.79347,-52.964714,58.403725,64.374886,27.470419,104.2266,7.4908533,13.227948,-24.122295,-13.540176,8.824354,89.74001,33.318115,-23.590374,108.87715,29.737,127.344894,18.751152,-31.478882,-22.238253,16.83239],\"z\":[100.5997,23.283567,15.320704,28.241934,76.86443,-25.446741,12.060455,82.686584,45.68044,89.81698,61.267094,102.66227,55.76951,-25.883915,7.3737206,86.20441,47.127934,30.699514,-16.973326,55.025948,18.913015,113.4344,-0.021561354,42.529118,60.456276,74.66055,12.343436,135.80351,6.8819294,3.879902,44.605186,63.89294,128.93744,43.5775,132.98402,58.82082,79.84316,84.61071,86.136345,127.92598,-38.886833,-41.440975,-26.824764,87.4059,39.54652,-19.41371],\"type\":\"scatter3d\"},{\"customdata\":[[45],[59],[32],[25],[20],[34],[50],[43],[43],[47],[36],[48],[19],[40],[56],[46],[47],[41],[44],[54],[37],[19],[37],[44],[47]],\"hovertemplate\":\"Cluster=Cluster 2<br>0=%{x}<br>1=%{y}<br>2=%{z}<br>Feature=%{customdata[0]}<extra></extra>\",\"legendgroup\":\"Cluster 2\",\"marker\":{\"color\":\"#00cc96\",\"opacity\":0.7,\"symbol\":\"circle\"},\"mode\":\"markers\",\"name\":\"Cluster 2\",\"scene\":\"scene\",\"showlegend\":true,\"x\":[4.9707174,79.47868,-13.253136,100.560165,-106.99126,51.952976,78.386734,33.354916,42.6231,-87.63735,-11.162937,71.2428,98.48758,136.67374,28.651968,71.384315,29.086359,26.372648,36.002506,45.890182,13.751867,-26.001944,-5.6936913,141.28632,158.09962],\"y\":[54.226635,78.70312,32.989063,-113.015945,57.322433,-20.737822,49.362827,123.33902,32.71791,123.967575,104.363525,25.13746,-128.45938,-69.299286,74.45086,94.211044,31.039896,70.69878,114.07654,68.29802,123.86973,-152.10867,87.239174,-70.546684,-32.228],\"z\":[-71.00872,-49.479248,-99.017365,-5.339316,46.20111,-70.746086,-99.1292,-110.42783,-29.76262,23.923565,-74.33834,-60.92708,-47.067146,52.63656,-7.3544703,-97.63117,-97.488464,-124.774055,-68.879295,-72.191956,-29.551048,-34.357903,-110.74055,2.4237492,23.817602],\"type\":\"scatter3d\"},{\"customdata\":[[30],[28],[29],[28],[30],[27],[27],[39],[35],[31],[29],[38],[38],[28],[32],[35],[30],[34],[32],[32],[32],[30],[35],[32],[36],[33],[31],[39],[29],[32]],\"hovertemplate\":\"Cluster=Cluster 3<br>0=%{x}<br>1=%{y}<br>2=%{z}<br>Feature=%{customdata[0]}<extra></extra>\",\"legendgroup\":\"Cluster 3\",\"marker\":{\"color\":\"#ab63fa\",\"opacity\":0.7,\"symbol\":\"circle\"},\"mode\":\"markers\",\"name\":\"Cluster 3\",\"scene\":\"scene\",\"showlegend\":true,\"x\":[-171.51477,-117.5099,-135.68594,-119.046196,-99.24211,-76.995804,-110.94032,-45.754402,-136.08302,-67.60572,-51.72103,-69.92709,-139.14233,-149.58423,-78.78449,20.986017,-104.32471,-88.74418,-184.78796,-96.089165,-167.24208,-56.50898,-95.10679,-118.74542,-147.49335,-147.72238,-28.664856,-115.915375,-143.04797,-23.77238],\"y\":[-86.8662,-16.477476,-18.880396,25.2473,-3.9295037,-41.120903,-49.004116,-82.13125,-62.9231,2.2565687,-34.2356,-90.09595,29.906984,-44.934082,-48.106567,-174.05745,-99.474495,-9.499138,-67.638176,-51.09425,-18.650192,71.90392,28.34874,-80.44273,-100.39437,21.01427,164.68713,63.62448,-21.774496,125.410904],\"z\":[-24.535984,-50.101566,-107.094444,-88.34098,-7.819434,-45.606243,-15.010527,-103.651924,-103.04067,-56.08231,-83.08538,-61.632645,-37.53606,-42.512394,-121.76878,29.418427,-103.63739,-96.528244,-64.157455,-82.24694,-69.07108,45.97573,-36.390594,-50.14339,-77.00957,15.283647,-8.3505945,-22.583334,-0.43838593,52.6739],\"type\":\"scatter3d\"},{\"customdata\":[[60],[54],[58],[35],[20],[67],[35],[19],[31],[46],[35],[37],[64]],\"hovertemplate\":\"Cluster=Cluster 4<br>0=%{x}<br>1=%{y}<br>2=%{z}<br>Feature=%{customdata[0]}<extra></extra>\",\"legendgroup\":\"Cluster 4\",\"marker\":{\"color\":\"#FFA15A\",\"opacity\":0.7,\"symbol\":\"circle\"},\"mode\":\"markers\",\"name\":\"Cluster 4\",\"scene\":\"scene\",\"showlegend\":true,\"x\":[-55.093155,-65.566864,-105.02062,27.40206,-77.41996,55.07262,-46.869923,-81.96566,21.189545,-29.836859,-29.884258,49.730083,132.70657],\"y\":[99.81466,-33.009544,-130.2569,-132.7483,26.455637,34.553215,25.727982,-22.353256,-132.08418,65.573425,-16.686398,-93.42081,-40.958256],\"z\":[110.38919,-180.40152,3.708386,-23.751537,113.80479,166.47014,144.68513,118.53262,-65.09047,132.22218,108.064644,-51.349655,-68.15781],\"type\":\"scatter3d\"}],                        {\"template\":{\"data\":{\"bar\":[{\"error_x\":{\"color\":\"#2a3f5f\"},\"error_y\":{\"color\":\"#2a3f5f\"},\"marker\":{\"line\":{\"color\":\"#E5ECF6\",\"width\":0.5},\"pattern\":{\"fillmode\":\"overlay\",\"size\":10,\"solidity\":0.2}},\"type\":\"bar\"}],\"barpolar\":[{\"marker\":{\"line\":{\"color\":\"#E5ECF6\",\"width\":0.5},\"pattern\":{\"fillmode\":\"overlay\",\"size\":10,\"solidity\":0.2}},\"type\":\"barpolar\"}],\"carpet\":[{\"aaxis\":{\"endlinecolor\":\"#2a3f5f\",\"gridcolor\":\"white\",\"linecolor\":\"white\",\"minorgridcolor\":\"white\",\"startlinecolor\":\"#2a3f5f\"},\"baxis\":{\"endlinecolor\":\"#2a3f5f\",\"gridcolor\":\"white\",\"linecolor\":\"white\",\"minorgridcolor\":\"white\",\"startlinecolor\":\"#2a3f5f\"},\"type\":\"carpet\"}],\"choropleth\":[{\"colorbar\":{\"outlinewidth\":0,\"ticks\":\"\"},\"type\":\"choropleth\"}],\"contour\":[{\"colorbar\":{\"outlinewidth\":0,\"ticks\":\"\"},\"colorscale\":[[0.0,\"#0d0887\"],[0.1111111111111111,\"#46039f\"],[0.2222222222222222,\"#7201a8\"],[0.3333333333333333,\"#9c179e\"],[0.4444444444444444,\"#bd3786\"],[0.5555555555555556,\"#d8576b\"],[0.6666666666666666,\"#ed7953\"],[0.7777777777777778,\"#fb9f3a\"],[0.8888888888888888,\"#fdca26\"],[1.0,\"#f0f921\"]],\"type\":\"contour\"}],\"contourcarpet\":[{\"colorbar\":{\"outlinewidth\":0,\"ticks\":\"\"},\"type\":\"contourcarpet\"}],\"heatmap\":[{\"colorbar\":{\"outlinewidth\":0,\"ticks\":\"\"},\"colorscale\":[[0.0,\"#0d0887\"],[0.1111111111111111,\"#46039f\"],[0.2222222222222222,\"#7201a8\"],[0.3333333333333333,\"#9c179e\"],[0.4444444444444444,\"#bd3786\"],[0.5555555555555556,\"#d8576b\"],[0.6666666666666666,\"#ed7953\"],[0.7777777777777778,\"#fb9f3a\"],[0.8888888888888888,\"#fdca26\"],[1.0,\"#f0f921\"]],\"type\":\"heatmap\"}],\"heatmapgl\":[{\"colorbar\":{\"outlinewidth\":0,\"ticks\":\"\"},\"colorscale\":[[0.0,\"#0d0887\"],[0.1111111111111111,\"#46039f\"],[0.2222222222222222,\"#7201a8\"],[0.3333333333333333,\"#9c179e\"],[0.4444444444444444,\"#bd3786\"],[0.5555555555555556,\"#d8576b\"],[0.6666666666666666,\"#ed7953\"],[0.7777777777777778,\"#fb9f3a\"],[0.8888888888888888,\"#fdca26\"],[1.0,\"#f0f921\"]],\"type\":\"heatmapgl\"}],\"histogram\":[{\"marker\":{\"pattern\":{\"fillmode\":\"overlay\",\"size\":10,\"solidity\":0.2}},\"type\":\"histogram\"}],\"histogram2d\":[{\"colorbar\":{\"outlinewidth\":0,\"ticks\":\"\"},\"colorscale\":[[0.0,\"#0d0887\"],[0.1111111111111111,\"#46039f\"],[0.2222222222222222,\"#7201a8\"],[0.3333333333333333,\"#9c179e\"],[0.4444444444444444,\"#bd3786\"],[0.5555555555555556,\"#d8576b\"],[0.6666666666666666,\"#ed7953\"],[0.7777777777777778,\"#fb9f3a\"],[0.8888888888888888,\"#fdca26\"],[1.0,\"#f0f921\"]],\"type\":\"histogram2d\"}],\"histogram2dcontour\":[{\"colorbar\":{\"outlinewidth\":0,\"ticks\":\"\"},\"colorscale\":[[0.0,\"#0d0887\"],[0.1111111111111111,\"#46039f\"],[0.2222222222222222,\"#7201a8\"],[0.3333333333333333,\"#9c179e\"],[0.4444444444444444,\"#bd3786\"],[0.5555555555555556,\"#d8576b\"],[0.6666666666666666,\"#ed7953\"],[0.7777777777777778,\"#fb9f3a\"],[0.8888888888888888,\"#fdca26\"],[1.0,\"#f0f921\"]],\"type\":\"histogram2dcontour\"}],\"mesh3d\":[{\"colorbar\":{\"outlinewidth\":0,\"ticks\":\"\"},\"type\":\"mesh3d\"}],\"parcoords\":[{\"line\":{\"colorbar\":{\"outlinewidth\":0,\"ticks\":\"\"}},\"type\":\"parcoords\"}],\"pie\":[{\"automargin\":true,\"type\":\"pie\"}],\"scatter\":[{\"marker\":{\"colorbar\":{\"outlinewidth\":0,\"ticks\":\"\"}},\"type\":\"scatter\"}],\"scatter3d\":[{\"line\":{\"colorbar\":{\"outlinewidth\":0,\"ticks\":\"\"}},\"marker\":{\"colorbar\":{\"outlinewidth\":0,\"ticks\":\"\"}},\"type\":\"scatter3d\"}],\"scattercarpet\":[{\"marker\":{\"colorbar\":{\"outlinewidth\":0,\"ticks\":\"\"}},\"type\":\"scattercarpet\"}],\"scattergeo\":[{\"marker\":{\"colorbar\":{\"outlinewidth\":0,\"ticks\":\"\"}},\"type\":\"scattergeo\"}],\"scattergl\":[{\"marker\":{\"colorbar\":{\"outlinewidth\":0,\"ticks\":\"\"}},\"type\":\"scattergl\"}],\"scattermapbox\":[{\"marker\":{\"colorbar\":{\"outlinewidth\":0,\"ticks\":\"\"}},\"type\":\"scattermapbox\"}],\"scatterpolar\":[{\"marker\":{\"colorbar\":{\"outlinewidth\":0,\"ticks\":\"\"}},\"type\":\"scatterpolar\"}],\"scatterpolargl\":[{\"marker\":{\"colorbar\":{\"outlinewidth\":0,\"ticks\":\"\"}},\"type\":\"scatterpolargl\"}],\"scatterternary\":[{\"marker\":{\"colorbar\":{\"outlinewidth\":0,\"ticks\":\"\"}},\"type\":\"scatterternary\"}],\"surface\":[{\"colorbar\":{\"outlinewidth\":0,\"ticks\":\"\"},\"colorscale\":[[0.0,\"#0d0887\"],[0.1111111111111111,\"#46039f\"],[0.2222222222222222,\"#7201a8\"],[0.3333333333333333,\"#9c179e\"],[0.4444444444444444,\"#bd3786\"],[0.5555555555555556,\"#d8576b\"],[0.6666666666666666,\"#ed7953\"],[0.7777777777777778,\"#fb9f3a\"],[0.8888888888888888,\"#fdca26\"],[1.0,\"#f0f921\"]],\"type\":\"surface\"}],\"table\":[{\"cells\":{\"fill\":{\"color\":\"#EBF0F8\"},\"line\":{\"color\":\"white\"}},\"header\":{\"fill\":{\"color\":\"#C8D4E3\"},\"line\":{\"color\":\"white\"}},\"type\":\"table\"}]},\"layout\":{\"annotationdefaults\":{\"arrowcolor\":\"#2a3f5f\",\"arrowhead\":0,\"arrowwidth\":1},\"autotypenumbers\":\"strict\",\"coloraxis\":{\"colorbar\":{\"outlinewidth\":0,\"ticks\":\"\"}},\"colorscale\":{\"diverging\":[[0,\"#8e0152\"],[0.1,\"#c51b7d\"],[0.2,\"#de77ae\"],[0.3,\"#f1b6da\"],[0.4,\"#fde0ef\"],[0.5,\"#f7f7f7\"],[0.6,\"#e6f5d0\"],[0.7,\"#b8e186\"],[0.8,\"#7fbc41\"],[0.9,\"#4d9221\"],[1,\"#276419\"]],\"sequential\":[[0.0,\"#0d0887\"],[0.1111111111111111,\"#46039f\"],[0.2222222222222222,\"#7201a8\"],[0.3333333333333333,\"#9c179e\"],[0.4444444444444444,\"#bd3786\"],[0.5555555555555556,\"#d8576b\"],[0.6666666666666666,\"#ed7953\"],[0.7777777777777778,\"#fb9f3a\"],[0.8888888888888888,\"#fdca26\"],[1.0,\"#f0f921\"]],\"sequentialminus\":[[0.0,\"#0d0887\"],[0.1111111111111111,\"#46039f\"],[0.2222222222222222,\"#7201a8\"],[0.3333333333333333,\"#9c179e\"],[0.4444444444444444,\"#bd3786\"],[0.5555555555555556,\"#d8576b\"],[0.6666666666666666,\"#ed7953\"],[0.7777777777777778,\"#fb9f3a\"],[0.8888888888888888,\"#fdca26\"],[1.0,\"#f0f921\"]]},\"colorway\":[\"#636efa\",\"#EF553B\",\"#00cc96\",\"#ab63fa\",\"#FFA15A\",\"#19d3f3\",\"#FF6692\",\"#B6E880\",\"#FF97FF\",\"#FECB52\"],\"font\":{\"color\":\"#2a3f5f\"},\"geo\":{\"bgcolor\":\"white\",\"lakecolor\":\"white\",\"landcolor\":\"#E5ECF6\",\"showlakes\":true,\"showland\":true,\"subunitcolor\":\"white\"},\"hoverlabel\":{\"align\":\"left\"},\"hovermode\":\"closest\",\"mapbox\":{\"style\":\"light\"},\"paper_bgcolor\":\"white\",\"plot_bgcolor\":\"#E5ECF6\",\"polar\":{\"angularaxis\":{\"gridcolor\":\"white\",\"linecolor\":\"white\",\"ticks\":\"\"},\"bgcolor\":\"#E5ECF6\",\"radialaxis\":{\"gridcolor\":\"white\",\"linecolor\":\"white\",\"ticks\":\"\"}},\"scene\":{\"xaxis\":{\"backgroundcolor\":\"#E5ECF6\",\"gridcolor\":\"white\",\"gridwidth\":2,\"linecolor\":\"white\",\"showbackground\":true,\"ticks\":\"\",\"zerolinecolor\":\"white\"},\"yaxis\":{\"backgroundcolor\":\"#E5ECF6\",\"gridcolor\":\"white\",\"gridwidth\":2,\"linecolor\":\"white\",\"showbackground\":true,\"ticks\":\"\",\"zerolinecolor\":\"white\"},\"zaxis\":{\"backgroundcolor\":\"#E5ECF6\",\"gridcolor\":\"white\",\"gridwidth\":2,\"linecolor\":\"white\",\"showbackground\":true,\"ticks\":\"\",\"zerolinecolor\":\"white\"}},\"shapedefaults\":{\"line\":{\"color\":\"#2a3f5f\"}},\"ternary\":{\"aaxis\":{\"gridcolor\":\"white\",\"linecolor\":\"white\",\"ticks\":\"\"},\"baxis\":{\"gridcolor\":\"white\",\"linecolor\":\"white\",\"ticks\":\"\"},\"bgcolor\":\"#E5ECF6\",\"caxis\":{\"gridcolor\":\"white\",\"linecolor\":\"white\",\"ticks\":\"\"}},\"title\":{\"x\":0.05},\"xaxis\":{\"automargin\":true,\"gridcolor\":\"white\",\"linecolor\":\"white\",\"ticks\":\"\",\"title\":{\"standoff\":15},\"zerolinecolor\":\"white\",\"zerolinewidth\":2},\"yaxis\":{\"automargin\":true,\"gridcolor\":\"white\",\"linecolor\":\"white\",\"ticks\":\"\",\"title\":{\"standoff\":15},\"zerolinecolor\":\"white\",\"zerolinewidth\":2}}},\"scene\":{\"domain\":{\"x\":[0.0,1.0],\"y\":[0.0,1.0]},\"xaxis\":{\"title\":{\"text\":\"0\"}},\"yaxis\":{\"title\":{\"text\":\"1\"}},\"zaxis\":{\"title\":{\"text\":\"2\"}}},\"legend\":{\"title\":{\"text\":\"Cluster\"},\"tracegroupgap\":0},\"title\":{\"text\":\"3d TSNE Plot for Clusters\"},\"height\":800,\"width\":900},                        {\"responsive\": true}                    ).then(function(){\n",
              "                            \n",
              "var gd = document.getElementById('c2be8485-8508-461d-9480-c486dac904b4');\n",
              "var x = new MutationObserver(function (mutations, observer) {{\n",
              "        var display = window.getComputedStyle(gd).display;\n",
              "        if (!display || display === 'none') {{\n",
              "            console.log([gd, 'removed!']);\n",
              "            Plotly.purge(gd);\n",
              "            observer.disconnect();\n",
              "        }}\n",
              "}});\n",
              "\n",
              "// Listen for the removal of the full notebook cells\n",
              "var notebookContainer = gd.closest('#notebook-container');\n",
              "if (notebookContainer) {{\n",
              "    x.observe(notebookContainer, {childList: true});\n",
              "}}\n",
              "\n",
              "// Listen for the clearing of the current output cell\n",
              "var outputEl = gd.closest('.output');\n",
              "if (outputEl) {{\n",
              "    x.observe(outputEl, {childList: true});\n",
              "}}\n",
              "\n",
              "                        })                };                            </script>        </div>\n",
              "</body>\n",
              "</html>"
            ]
          },
          "metadata": {}
        }
      ],
      "source": [
        "plot_model(hierarchicalModel, plot = 'tsne' )\n"
      ]
    },
    {
      "cell_type": "markdown",
      "metadata": {
        "id": "JBoPaJS5JHFy"
      },
      "source": [
        "## **Visualización del Codo**"
      ]
    },
    {
      "cell_type": "code",
      "execution_count": 60,
      "metadata": {
        "id": "2Soai6AFJHt5",
        "colab": {
          "base_uri": "https://localhost:8080/",
          "height": 294
        },
        "outputId": "87fd4fdc-eb7f-4f3e-867a-5462153314ba"
      },
      "outputs": [
        {
          "output_type": "display_data",
          "data": {
            "text/plain": [
              "<IPython.core.display.HTML object>"
            ],
            "text/html": []
          },
          "metadata": {}
        },
        {
          "output_type": "display_data",
          "data": {
            "text/plain": [
              "<Figure size 432x288 with 1 Axes>"
            ],
            "image/png": "[encoded data removed]"
          },
          "metadata": {
            "needs_background": "light"
          }
        }
      ],
      "source": [
        "plot_model(hierarchicalModel, plot = 'elbow')"
      ]
    },
    {
      "cell_type": "markdown",
      "metadata": {
        "id": "2wDBGQWOJL3S"
      },
      "source": [
        "## **Visualización de la Distribución**"
      ]
    },
    {
      "cell_type": "markdown",
      "metadata": {
        "id": "epSr7z8zJP4A"
      },
      "source": [
        "\n",
        "La gráfica de distribución muestra el tamaño de cada grupo. Al pasar el cursor sobre las barras, verá el número de muestras asignadas a cada grupo. En el ejemplo anterior, podemos observar que el grupo 0 tiene el mayor número de muestras. También podemos usar la gráfica de distribución para ver la distribución de etiquetas de clusters en asociación con cualquier otra característica numérica o categórica."
      ]
    },
    {
      "cell_type": "code",
      "execution_count": 61,
      "metadata": {
        "id": "vcrrJrpaJR9W",
        "colab": {
          "base_uri": "https://localhost:8080/",
          "height": 617
        },
        "outputId": "e88b6b39-38d4-4a8f-89c9-5ce278c6d30f"
      },
      "outputs": [
        {
          "output_type": "display_data",
          "data": {
            "text/plain": [
              "<IPython.core.display.HTML object>"
            ],
            "text/html": []
          },
          "metadata": {}
        },
        {
          "output_type": "display_data",
          "data": {
            "text/html": [
              "<html>\n",
              "<head><meta charset=\"utf-8\" /></head>\n",
              "<body>\n",
              "    <div>            <script src=\"https://cdnjs.cloudflare.com/ajax/libs/mathjax/2.7.5/MathJax.js?config=TeX-AMS-MML_SVG\"></script><script type=\"text/javascript\">if (window.MathJax) {MathJax.Hub.Config({SVG: {font: \"STIX-Web\"}});}</script>                <script type=\"text/javascript\">window.PlotlyConfig = {MathJaxConfig: 'local'};</script>\n",
              "        <script src=\"https://cdn.plot.ly/plotly-2.8.3.min.js\"></script>                <div id=\"c626c478-00ad-466f-b576-80a8a2140eda\" class=\"plotly-graph-div\" style=\"height:600px; width:100%;\"></div>            <script type=\"text/javascript\">                                    window.PLOTLYENV=window.PLOTLYENV || {};                                    if (document.getElementById(\"c626c478-00ad-466f-b576-80a8a2140eda\")) {                    Plotly.newPlot(                        \"c626c478-00ad-466f-b576-80a8a2140eda\",                        [{\"alignmentgroup\":\"True\",\"bingroup\":\"x\",\"hovertemplate\":\"Cluster=%{x}<br>count=%{y}<extra></extra>\",\"legendgroup\":\"Cluster 0\",\"marker\":{\"color\":\"#636efa\",\"opacity\":0.7,\"pattern\":{\"shape\":\"\"}},\"name\":\"Cluster 0\",\"offsetgroup\":\"Cluster 0\",\"orientation\":\"v\",\"showlegend\":true,\"x\":[\"Cluster 0\",\"Cluster 0\",\"Cluster 0\",\"Cluster 0\",\"Cluster 0\",\"Cluster 0\",\"Cluster 0\",\"Cluster 0\",\"Cluster 0\",\"Cluster 0\",\"Cluster 0\",\"Cluster 0\",\"Cluster 0\",\"Cluster 0\",\"Cluster 0\",\"Cluster 0\",\"Cluster 0\",\"Cluster 0\",\"Cluster 0\",\"Cluster 0\",\"Cluster 0\",\"Cluster 0\",\"Cluster 0\",\"Cluster 0\",\"Cluster 0\",\"Cluster 0\",\"Cluster 0\",\"Cluster 0\",\"Cluster 0\",\"Cluster 0\",\"Cluster 0\",\"Cluster 0\",\"Cluster 0\",\"Cluster 0\",\"Cluster 0\",\"Cluster 0\"],\"xaxis\":\"x\",\"yaxis\":\"y\",\"type\":\"histogram\"},{\"alignmentgroup\":\"True\",\"customdata\":[[21,62,42],[31,43,54],[23,54,52],[22,20,79],[31,25,73],[24,20,77],[29,40,42],[32,48,47],[19,63,54],[24,38,92],[24,60,52],[19,64,46],[31,39,61],[26,54,54],[35,28,61],[23,70,29],[27,60,50],[33,42,60],[24,39,65],[23,62,41],[31,40,42],[23,16,77],[27,67,56],[21,15,81],[18,48,59],[21,33,81],[22,17,76],[35,19,99],[19,46,55],[18,59,41],[35,23,98],[18,33,92],[21,54,57],[19,48,59],[30,34,73],[23,18,94]],\"hovertemplate\":\"Cluster=%{x}<br>Edad=%{customdata[0]}<br>IngresoAnual=%{customdata[1]}<br>ScoreGastoMall=%{customdata[2]}<extra></extra>\",\"legendgroup\":\"Cluster 0\",\"marker\":{\"color\":\"#636efa\"},\"name\":\"Cluster 0\",\"notched\":true,\"offsetgroup\":\"Cluster 0\",\"showlegend\":false,\"x\":[\"Cluster 0\",\"Cluster 0\",\"Cluster 0\",\"Cluster 0\",\"Cluster 0\",\"Cluster 0\",\"Cluster 0\",\"Cluster 0\",\"Cluster 0\",\"Cluster 0\",\"Cluster 0\",\"Cluster 0\",\"Cluster 0\",\"Cluster 0\",\"Cluster 0\",\"Cluster 0\",\"Cluster 0\",\"Cluster 0\",\"Cluster 0\",\"Cluster 0\",\"Cluster 0\",\"Cluster 0\",\"Cluster 0\",\"Cluster 0\",\"Cluster 0\",\"Cluster 0\",\"Cluster 0\",\"Cluster 0\",\"Cluster 0\",\"Cluster 0\",\"Cluster 0\",\"Cluster 0\",\"Cluster 0\",\"Cluster 0\",\"Cluster 0\",\"Cluster 0\"],\"xaxis\":\"x2\",\"yaxis\":\"y2\",\"type\":\"box\"},{\"alignmentgroup\":\"True\",\"bingroup\":\"x\",\"hovertemplate\":\"Cluster=%{x}<br>count=%{y}<extra></extra>\",\"legendgroup\":\"Cluster 1\",\"marker\":{\"color\":\"#EF553B\",\"opacity\":0.7,\"pattern\":{\"shape\":\"\"}},\"name\":\"Cluster 1\",\"offsetgroup\":\"Cluster 1\",\"orientation\":\"v\",\"showlegend\":true,\"x\":[\"Cluster 1\",\"Cluster 1\",\"Cluster 1\",\"Cluster 1\",\"Cluster 1\",\"Cluster 1\",\"Cluster 1\",\"Cluster 1\",\"Cluster 1\",\"Cluster 1\",\"Cluster 1\",\"Cluster 1\",\"Cluster 1\",\"Cluster 1\",\"Cluster 1\",\"Cluster 1\",\"Cluster 1\",\"Cluster 1\",\"Cluster 1\",\"Cluster 1\",\"Cluster 1\",\"Cluster 1\",\"Cluster 1\",\"Cluster 1\",\"Cluster 1\",\"Cluster 1\",\"Cluster 1\",\"Cluster 1\",\"Cluster 1\",\"Cluster 1\",\"Cluster 1\",\"Cluster 1\",\"Cluster 1\",\"Cluster 1\",\"Cluster 1\",\"Cluster 1\",\"Cluster 1\",\"Cluster 1\",\"Cluster 1\",\"Cluster 1\",\"Cluster 1\",\"Cluster 1\",\"Cluster 1\",\"Cluster 1\",\"Cluster 1\",\"Cluster 1\"],\"xaxis\":\"x\",\"yaxis\":\"y\",\"type\":\"histogram\"},{\"alignmentgroup\":\"True\",\"customdata\":[[69,44,46],[49,62,56],[66,63,48],[63,65,43],[48,60,49],[50,40,55],[49,62,48],[68,59,55],[55,57,58],[50,43,45],[50,58,46],[48,39,36],[67,47,52],[38,67,40],[53,46,46],[67,62,59],[60,50,56],[45,54,53],[38,64,42],[49,42,52],[32,60,42],[65,63,52],[50,67,57],[63,48,51],[48,54,46],[68,63,43],[40,60,40],[52,23,29],[57,54,51],[54,47,59],[66,63,50],[47,49,42],[45,28,32],[46,54,44],[59,54,47],[43,48,50],[70,46,56],[47,43,41],[54,63,46],[65,38,35],[51,44,50],[49,39,28],[40,69,58],[47,60,47],[48,61,42],[51,67,43]],\"hovertemplate\":\"Cluster=%{x}<br>Edad=%{customdata[0]}<br>IngresoAnual=%{customdata[1]}<br>ScoreGastoMall=%{customdata[2]}<extra></extra>\",\"legendgroup\":\"Cluster 1\",\"marker\":{\"color\":\"#EF553B\"},\"name\":\"Cluster 1\",\"notched\":true,\"offsetgroup\":\"Cluster 1\",\"showlegend\":false,\"x\":[\"Cluster 1\",\"Cluster 1\",\"Cluster 1\",\"Cluster 1\",\"Cluster 1\",\"Cluster 1\",\"Cluster 1\",\"Cluster 1\",\"Cluster 1\",\"Cluster 1\",\"Cluster 1\",\"Cluster 1\",\"Cluster 1\",\"Cluster 1\",\"Cluster 1\",\"Cluster 1\",\"Cluster 1\",\"Cluster 1\",\"Cluster 1\",\"Cluster 1\",\"Cluster 1\",\"Cluster 1\",\"Cluster 1\",\"Cluster 1\",\"Cluster 1\",\"Cluster 1\",\"Cluster 1\",\"Cluster 1\",\"Cluster 1\",\"Cluster 1\",\"Cluster 1\",\"Cluster 1\",\"Cluster 1\",\"Cluster 1\",\"Cluster 1\",\"Cluster 1\",\"Cluster 1\",\"Cluster 1\",\"Cluster 1\",\"Cluster 1\",\"Cluster 1\",\"Cluster 1\",\"Cluster 1\",\"Cluster 1\",\"Cluster 1\",\"Cluster 1\"],\"xaxis\":\"x2\",\"yaxis\":\"y2\",\"type\":\"box\"},{\"alignmentgroup\":\"True\",\"bingroup\":\"x\",\"hovertemplate\":\"Cluster=%{x}<br>count=%{y}<extra></extra>\",\"legendgroup\":\"Cluster 2\",\"marker\":{\"color\":\"#00cc96\",\"opacity\":0.7,\"pattern\":{\"shape\":\"\"}},\"name\":\"Cluster 2\",\"offsetgroup\":\"Cluster 2\",\"orientation\":\"v\",\"showlegend\":true,\"x\":[\"Cluster 2\",\"Cluster 2\",\"Cluster 2\",\"Cluster 2\",\"Cluster 2\",\"Cluster 2\",\"Cluster 2\",\"Cluster 2\",\"Cluster 2\",\"Cluster 2\",\"Cluster 2\",\"Cluster 2\",\"Cluster 2\",\"Cluster 2\",\"Cluster 2\",\"Cluster 2\",\"Cluster 2\",\"Cluster 2\",\"Cluster 2\",\"Cluster 2\",\"Cluster 2\",\"Cluster 2\",\"Cluster 2\",\"Cluster 2\",\"Cluster 2\"],\"xaxis\":\"x\",\"yaxis\":\"y\",\"type\":\"histogram\"},{\"alignmentgroup\":\"True\",\"customdata\":[[45,126,28],[59,93,14],[32,137,18],[25,77,12],[20,73,5],[34,78,1],[50,85,26],[43,78,17],[43,71,35],[47,71,9],[36,87,27],[48,77,36],[19,81,5],[40,87,13],[56,79,35],[46,98,15],[47,120,16],[41,99,39],[44,78,20],[54,101,24],[37,78,1],[19,74,10],[37,97,32],[44,73,7],[47,78,16]],\"hovertemplate\":\"Cluster=%{x}<br>Edad=%{customdata[0]}<br>IngresoAnual=%{customdata[1]}<br>ScoreGastoMall=%{customdata[2]}<extra></extra>\",\"legendgroup\":\"Cluster 2\",\"marker\":{\"color\":\"#00cc96\"},\"name\":\"Cluster 2\",\"notched\":true,\"offsetgroup\":\"Cluster 2\",\"showlegend\":false,\"x\":[\"Cluster 2\",\"Cluster 2\",\"Cluster 2\",\"Cluster 2\",\"Cluster 2\",\"Cluster 2\",\"Cluster 2\",\"Cluster 2\",\"Cluster 2\",\"Cluster 2\",\"Cluster 2\",\"Cluster 2\",\"Cluster 2\",\"Cluster 2\",\"Cluster 2\",\"Cluster 2\",\"Cluster 2\",\"Cluster 2\",\"Cluster 2\",\"Cluster 2\",\"Cluster 2\",\"Cluster 2\",\"Cluster 2\",\"Cluster 2\",\"Cluster 2\"],\"xaxis\":\"x2\",\"yaxis\":\"y2\",\"type\":\"box\"},{\"alignmentgroup\":\"True\",\"bingroup\":\"x\",\"hovertemplate\":\"Cluster=%{x}<br>count=%{y}<extra></extra>\",\"legendgroup\":\"Cluster 3\",\"marker\":{\"color\":\"#ab63fa\",\"opacity\":0.7,\"pattern\":{\"shape\":\"\"}},\"name\":\"Cluster 3\",\"offsetgroup\":\"Cluster 3\",\"orientation\":\"v\",\"showlegend\":true,\"x\":[\"Cluster 3\",\"Cluster 3\",\"Cluster 3\",\"Cluster 3\",\"Cluster 3\",\"Cluster 3\",\"Cluster 3\",\"Cluster 3\",\"Cluster 3\",\"Cluster 3\",\"Cluster 3\",\"Cluster 3\",\"Cluster 3\",\"Cluster 3\",\"Cluster 3\",\"Cluster 3\",\"Cluster 3\",\"Cluster 3\",\"Cluster 3\",\"Cluster 3\",\"Cluster 3\",\"Cluster 3\",\"Cluster 3\",\"Cluster 3\",\"Cluster 3\",\"Cluster 3\",\"Cluster 3\",\"Cluster 3\",\"Cluster 3\",\"Cluster 3\"],\"xaxis\":\"x\",\"yaxis\":\"y\",\"type\":\"histogram\"},{\"alignmentgroup\":\"True\",\"customdata\":[[30,137,83],[28,87,75],[29,98,88],[28,77,97],[30,78,73],[27,78,89],[27,88,69],[39,69,91],[35,93,90],[31,70,77],[29,73,88],[38,78,76],[38,71,75],[28,101,68],[32,76,87],[35,120,79],[30,99,97],[34,78,90],[32,126,74],[32,75,93],[32,103,69],[30,88,86],[35,74,72],[32,97,86],[36,103,85],[33,86,95],[31,81,93],[39,71,75],[29,79,83],[32,73,73]],\"hovertemplate\":\"Cluster=%{x}<br>Edad=%{customdata[0]}<br>IngresoAnual=%{customdata[1]}<br>ScoreGastoMall=%{customdata[2]}<extra></extra>\",\"legendgroup\":\"Cluster 3\",\"marker\":{\"color\":\"#ab63fa\"},\"name\":\"Cluster 3\",\"notched\":true,\"offsetgroup\":\"Cluster 3\",\"showlegend\":false,\"x\":[\"Cluster 3\",\"Cluster 3\",\"Cluster 3\",\"Cluster 3\",\"Cluster 3\",\"Cluster 3\",\"Cluster 3\",\"Cluster 3\",\"Cluster 3\",\"Cluster 3\",\"Cluster 3\",\"Cluster 3\",\"Cluster 3\",\"Cluster 3\",\"Cluster 3\",\"Cluster 3\",\"Cluster 3\",\"Cluster 3\",\"Cluster 3\",\"Cluster 3\",\"Cluster 3\",\"Cluster 3\",\"Cluster 3\",\"Cluster 3\",\"Cluster 3\",\"Cluster 3\",\"Cluster 3\",\"Cluster 3\",\"Cluster 3\",\"Cluster 3\"],\"xaxis\":\"x2\",\"yaxis\":\"y2\",\"type\":\"box\"},{\"alignmentgroup\":\"True\",\"bingroup\":\"x\",\"hovertemplate\":\"Cluster=%{x}<br>count=%{y}<extra></extra>\",\"legendgroup\":\"Cluster 4\",\"marker\":{\"color\":\"#FFA15A\",\"opacity\":0.7,\"pattern\":{\"shape\":\"\"}},\"name\":\"Cluster 4\",\"offsetgroup\":\"Cluster 4\",\"orientation\":\"v\",\"showlegend\":true,\"x\":[\"Cluster 4\",\"Cluster 4\",\"Cluster 4\",\"Cluster 4\",\"Cluster 4\",\"Cluster 4\",\"Cluster 4\",\"Cluster 4\",\"Cluster 4\",\"Cluster 4\",\"Cluster 4\",\"Cluster 4\",\"Cluster 4\"],\"xaxis\":\"x\",\"yaxis\":\"y\",\"type\":\"histogram\"},{\"alignmentgroup\":\"True\",\"customdata\":[[60,30,4],[54,28,14],[58,20,15],[35,24,35],[20,16,6],[67,19,14],[35,18,6],[19,15,39],[31,17,40],[46,25,5],[35,21,35],[37,20,13],[64,19,3]],\"hovertemplate\":\"Cluster=%{x}<br>Edad=%{customdata[0]}<br>IngresoAnual=%{customdata[1]}<br>ScoreGastoMall=%{customdata[2]}<extra></extra>\",\"legendgroup\":\"Cluster 4\",\"marker\":{\"color\":\"#FFA15A\"},\"name\":\"Cluster 4\",\"notched\":true,\"offsetgroup\":\"Cluster 4\",\"showlegend\":false,\"x\":[\"Cluster 4\",\"Cluster 4\",\"Cluster 4\",\"Cluster 4\",\"Cluster 4\",\"Cluster 4\",\"Cluster 4\",\"Cluster 4\",\"Cluster 4\",\"Cluster 4\",\"Cluster 4\",\"Cluster 4\",\"Cluster 4\"],\"xaxis\":\"x2\",\"yaxis\":\"y2\",\"type\":\"box\"}],                        {\"template\":{\"data\":{\"bar\":[{\"error_x\":{\"color\":\"#2a3f5f\"},\"error_y\":{\"color\":\"#2a3f5f\"},\"marker\":{\"line\":{\"color\":\"#E5ECF6\",\"width\":0.5},\"pattern\":{\"fillmode\":\"overlay\",\"size\":10,\"solidity\":0.2}},\"type\":\"bar\"}],\"barpolar\":[{\"marker\":{\"line\":{\"color\":\"#E5ECF6\",\"width\":0.5},\"pattern\":{\"fillmode\":\"overlay\",\"size\":10,\"solidity\":0.2}},\"type\":\"barpolar\"}],\"carpet\":[{\"aaxis\":{\"endlinecolor\":\"#2a3f5f\",\"gridcolor\":\"white\",\"linecolor\":\"white\",\"minorgridcolor\":\"white\",\"startlinecolor\":\"#2a3f5f\"},\"baxis\":{\"endlinecolor\":\"#2a3f5f\",\"gridcolor\":\"white\",\"linecolor\":\"white\",\"minorgridcolor\":\"white\",\"startlinecolor\":\"#2a3f5f\"},\"type\":\"carpet\"}],\"choropleth\":[{\"colorbar\":{\"outlinewidth\":0,\"ticks\":\"\"},\"type\":\"choropleth\"}],\"contour\":[{\"colorbar\":{\"outlinewidth\":0,\"ticks\":\"\"},\"colorscale\":[[0.0,\"#0d0887\"],[0.1111111111111111,\"#46039f\"],[0.2222222222222222,\"#7201a8\"],[0.3333333333333333,\"#9c179e\"],[0.4444444444444444,\"#bd3786\"],[0.5555555555555556,\"#d8576b\"],[0.6666666666666666,\"#ed7953\"],[0.7777777777777778,\"#fb9f3a\"],[0.8888888888888888,\"#fdca26\"],[1.0,\"#f0f921\"]],\"type\":\"contour\"}],\"contourcarpet\":[{\"colorbar\":{\"outlinewidth\":0,\"ticks\":\"\"},\"type\":\"contourcarpet\"}],\"heatmap\":[{\"colorbar\":{\"outlinewidth\":0,\"ticks\":\"\"},\"colorscale\":[[0.0,\"#0d0887\"],[0.1111111111111111,\"#46039f\"],[0.2222222222222222,\"#7201a8\"],[0.3333333333333333,\"#9c179e\"],[0.4444444444444444,\"#bd3786\"],[0.5555555555555556,\"#d8576b\"],[0.6666666666666666,\"#ed7953\"],[0.7777777777777778,\"#fb9f3a\"],[0.8888888888888888,\"#fdca26\"],[1.0,\"#f0f921\"]],\"type\":\"heatmap\"}],\"heatmapgl\":[{\"colorbar\":{\"outlinewidth\":0,\"ticks\":\"\"},\"colorscale\":[[0.0,\"#0d0887\"],[0.1111111111111111,\"#46039f\"],[0.2222222222222222,\"#7201a8\"],[0.3333333333333333,\"#9c179e\"],[0.4444444444444444,\"#bd3786\"],[0.5555555555555556,\"#d8576b\"],[0.6666666666666666,\"#ed7953\"],[0.7777777777777778,\"#fb9f3a\"],[0.8888888888888888,\"#fdca26\"],[1.0,\"#f0f921\"]],\"type\":\"heatmapgl\"}],\"histogram\":[{\"marker\":{\"pattern\":{\"fillmode\":\"overlay\",\"size\":10,\"solidity\":0.2}},\"type\":\"histogram\"}],\"histogram2d\":[{\"colorbar\":{\"outlinewidth\":0,\"ticks\":\"\"},\"colorscale\":[[0.0,\"#0d0887\"],[0.1111111111111111,\"#46039f\"],[0.2222222222222222,\"#7201a8\"],[0.3333333333333333,\"#9c179e\"],[0.4444444444444444,\"#bd3786\"],[0.5555555555555556,\"#d8576b\"],[0.6666666666666666,\"#ed7953\"],[0.7777777777777778,\"#fb9f3a\"],[0.8888888888888888,\"#fdca26\"],[1.0,\"#f0f921\"]],\"type\":\"histogram2d\"}],\"histogram2dcontour\":[{\"colorbar\":{\"outlinewidth\":0,\"ticks\":\"\"},\"colorscale\":[[0.0,\"#0d0887\"],[0.1111111111111111,\"#46039f\"],[0.2222222222222222,\"#7201a8\"],[0.3333333333333333,\"#9c179e\"],[0.4444444444444444,\"#bd3786\"],[0.5555555555555556,\"#d8576b\"],[0.6666666666666666,\"#ed7953\"],[0.7777777777777778,\"#fb9f3a\"],[0.8888888888888888,\"#fdca26\"],[1.0,\"#f0f921\"]],\"type\":\"histogram2dcontour\"}],\"mesh3d\":[{\"colorbar\":{\"outlinewidth\":0,\"ticks\":\"\"},\"type\":\"mesh3d\"}],\"parcoords\":[{\"line\":{\"colorbar\":{\"outlinewidth\":0,\"ticks\":\"\"}},\"type\":\"parcoords\"}],\"pie\":[{\"automargin\":true,\"type\":\"pie\"}],\"scatter\":[{\"marker\":{\"colorbar\":{\"outlinewidth\":0,\"ticks\":\"\"}},\"type\":\"scatter\"}],\"scatter3d\":[{\"line\":{\"colorbar\":{\"outlinewidth\":0,\"ticks\":\"\"}},\"marker\":{\"colorbar\":{\"outlinewidth\":0,\"ticks\":\"\"}},\"type\":\"scatter3d\"}],\"scattercarpet\":[{\"marker\":{\"colorbar\":{\"outlinewidth\":0,\"ticks\":\"\"}},\"type\":\"scattercarpet\"}],\"scattergeo\":[{\"marker\":{\"colorbar\":{\"outlinewidth\":0,\"ticks\":\"\"}},\"type\":\"scattergeo\"}],\"scattergl\":[{\"marker\":{\"colorbar\":{\"outlinewidth\":0,\"ticks\":\"\"}},\"type\":\"scattergl\"}],\"scattermapbox\":[{\"marker\":{\"colorbar\":{\"outlinewidth\":0,\"ticks\":\"\"}},\"type\":\"scattermapbox\"}],\"scatterpolar\":[{\"marker\":{\"colorbar\":{\"outlinewidth\":0,\"ticks\":\"\"}},\"type\":\"scatterpolar\"}],\"scatterpolargl\":[{\"marker\":{\"colorbar\":{\"outlinewidth\":0,\"ticks\":\"\"}},\"type\":\"scatterpolargl\"}],\"scatterternary\":[{\"marker\":{\"colorbar\":{\"outlinewidth\":0,\"ticks\":\"\"}},\"type\":\"scatterternary\"}],\"surface\":[{\"colorbar\":{\"outlinewidth\":0,\"ticks\":\"\"},\"colorscale\":[[0.0,\"#0d0887\"],[0.1111111111111111,\"#46039f\"],[0.2222222222222222,\"#7201a8\"],[0.3333333333333333,\"#9c179e\"],[0.4444444444444444,\"#bd3786\"],[0.5555555555555556,\"#d8576b\"],[0.6666666666666666,\"#ed7953\"],[0.7777777777777778,\"#fb9f3a\"],[0.8888888888888888,\"#fdca26\"],[1.0,\"#f0f921\"]],\"type\":\"surface\"}],\"table\":[{\"cells\":{\"fill\":{\"color\":\"#EBF0F8\"},\"line\":{\"color\":\"white\"}},\"header\":{\"fill\":{\"color\":\"#C8D4E3\"},\"line\":{\"color\":\"white\"}},\"type\":\"table\"}]},\"layout\":{\"annotationdefaults\":{\"arrowcolor\":\"#2a3f5f\",\"arrowhead\":0,\"arrowwidth\":1},\"autotypenumbers\":\"strict\",\"coloraxis\":{\"colorbar\":{\"outlinewidth\":0,\"ticks\":\"\"}},\"colorscale\":{\"diverging\":[[0,\"#8e0152\"],[0.1,\"#c51b7d\"],[0.2,\"#de77ae\"],[0.3,\"#f1b6da\"],[0.4,\"#fde0ef\"],[0.5,\"#f7f7f7\"],[0.6,\"#e6f5d0\"],[0.7,\"#b8e186\"],[0.8,\"#7fbc41\"],[0.9,\"#4d9221\"],[1,\"#276419\"]],\"sequential\":[[0.0,\"#0d0887\"],[0.1111111111111111,\"#46039f\"],[0.2222222222222222,\"#7201a8\"],[0.3333333333333333,\"#9c179e\"],[0.4444444444444444,\"#bd3786\"],[0.5555555555555556,\"#d8576b\"],[0.6666666666666666,\"#ed7953\"],[0.7777777777777778,\"#fb9f3a\"],[0.8888888888888888,\"#fdca26\"],[1.0,\"#f0f921\"]],\"sequentialminus\":[[0.0,\"#0d0887\"],[0.1111111111111111,\"#46039f\"],[0.2222222222222222,\"#7201a8\"],[0.3333333333333333,\"#9c179e\"],[0.4444444444444444,\"#bd3786\"],[0.5555555555555556,\"#d8576b\"],[0.6666666666666666,\"#ed7953\"],[0.7777777777777778,\"#fb9f3a\"],[0.8888888888888888,\"#fdca26\"],[1.0,\"#f0f921\"]]},\"colorway\":[\"#636efa\",\"#EF553B\",\"#00cc96\",\"#ab63fa\",\"#FFA15A\",\"#19d3f3\",\"#FF6692\",\"#B6E880\",\"#FF97FF\",\"#FECB52\"],\"font\":{\"color\":\"#2a3f5f\"},\"geo\":{\"bgcolor\":\"white\",\"lakecolor\":\"white\",\"landcolor\":\"#E5ECF6\",\"showlakes\":true,\"showland\":true,\"subunitcolor\":\"white\"},\"hoverlabel\":{\"align\":\"left\"},\"hovermode\":\"closest\",\"mapbox\":{\"style\":\"light\"},\"paper_bgcolor\":\"white\",\"plot_bgcolor\":\"#E5ECF6\",\"polar\":{\"angularaxis\":{\"gridcolor\":\"white\",\"linecolor\":\"white\",\"ticks\":\"\"},\"bgcolor\":\"#E5ECF6\",\"radialaxis\":{\"gridcolor\":\"white\",\"linecolor\":\"white\",\"ticks\":\"\"}},\"scene\":{\"xaxis\":{\"backgroundcolor\":\"#E5ECF6\",\"gridcolor\":\"white\",\"gridwidth\":2,\"linecolor\":\"white\",\"showbackground\":true,\"ticks\":\"\",\"zerolinecolor\":\"white\"},\"yaxis\":{\"backgroundcolor\":\"#E5ECF6\",\"gridcolor\":\"white\",\"gridwidth\":2,\"linecolor\":\"white\",\"showbackground\":true,\"ticks\":\"\",\"zerolinecolor\":\"white\"},\"zaxis\":{\"backgroundcolor\":\"#E5ECF6\",\"gridcolor\":\"white\",\"gridwidth\":2,\"linecolor\":\"white\",\"showbackground\":true,\"ticks\":\"\",\"zerolinecolor\":\"white\"}},\"shapedefaults\":{\"line\":{\"color\":\"#2a3f5f\"}},\"ternary\":{\"aaxis\":{\"gridcolor\":\"white\",\"linecolor\":\"white\",\"ticks\":\"\"},\"baxis\":{\"gridcolor\":\"white\",\"linecolor\":\"white\",\"ticks\":\"\"},\"bgcolor\":\"#E5ECF6\",\"caxis\":{\"gridcolor\":\"white\",\"linecolor\":\"white\",\"ticks\":\"\"}},\"title\":{\"x\":0.05},\"xaxis\":{\"automargin\":true,\"gridcolor\":\"white\",\"linecolor\":\"white\",\"ticks\":\"\",\"title\":{\"standoff\":15},\"zerolinecolor\":\"white\",\"zerolinewidth\":2},\"yaxis\":{\"automargin\":true,\"gridcolor\":\"white\",\"linecolor\":\"white\",\"ticks\":\"\",\"title\":{\"standoff\":15},\"zerolinecolor\":\"white\",\"zerolinewidth\":2}}},\"xaxis\":{\"anchor\":\"y\",\"domain\":[0.0,1.0],\"categoryorder\":\"array\",\"categoryarray\":[\"Cluster 0\",\"Cluster 1\",\"Cluster 2\",\"Cluster 3\",\"Cluster 4\"],\"title\":{\"text\":\"Cluster\"}},\"yaxis\":{\"anchor\":\"x\",\"domain\":[0.0,0.7326],\"title\":{\"text\":\"count\"}},\"xaxis2\":{\"anchor\":\"y2\",\"domain\":[0.0,1.0],\"matches\":\"x\",\"showticklabels\":false,\"showgrid\":true},\"yaxis2\":{\"anchor\":\"x2\",\"domain\":[0.7426,1.0],\"matches\":\"y2\",\"showticklabels\":false,\"showline\":false,\"ticks\":\"\",\"showgrid\":false},\"legend\":{\"title\":{\"text\":\"Cluster\"},\"tracegroupgap\":0},\"margin\":{\"t\":60},\"barmode\":\"relative\",\"height\":600},                        {\"responsive\": true}                    ).then(function(){\n",
              "                            \n",
              "var gd = document.getElementById('c626c478-00ad-466f-b576-80a8a2140eda');\n",
              "var x = new MutationObserver(function (mutations, observer) {{\n",
              "        var display = window.getComputedStyle(gd).display;\n",
              "        if (!display || display === 'none') {{\n",
              "            console.log([gd, 'removed!']);\n",
              "            Plotly.purge(gd);\n",
              "            observer.disconnect();\n",
              "        }}\n",
              "}});\n",
              "\n",
              "// Listen for the removal of the full notebook cells\n",
              "var notebookContainer = gd.closest('#notebook-container');\n",
              "if (notebookContainer) {{\n",
              "    x.observe(notebookContainer, {childList: true});\n",
              "}}\n",
              "\n",
              "// Listen for the clearing of the current output cell\n",
              "var outputEl = gd.closest('.output');\n",
              "if (outputEl) {{\n",
              "    x.observe(outputEl, {childList: true});\n",
              "}}\n",
              "\n",
              "                        })                };                            </script>        </div>\n",
              "</body>\n",
              "</html>"
            ]
          },
          "metadata": {}
        }
      ],
      "source": [
        "plot_model(hierarchicalModel, plot = 'distribution')"
      ]
    },
    {
      "cell_type": "code",
      "execution_count": 62,
      "metadata": {
        "id": "Dt68pDmrJX0G",
        "colab": {
          "base_uri": "https://localhost:8080/",
          "height": 617
        },
        "outputId": "74a3c670-7472-495f-9693-962dfb584946"
      },
      "outputs": [
        {
          "output_type": "display_data",
          "data": {
            "text/plain": [
              "<IPython.core.display.HTML object>"
            ],
            "text/html": []
          },
          "metadata": {}
        },
        {
          "output_type": "display_data",
          "data": {
            "text/html": [
              "<html>\n",
              "<head><meta charset=\"utf-8\" /></head>\n",
              "<body>\n",
              "    <div>            <script src=\"https://cdnjs.cloudflare.com/ajax/libs/mathjax/2.7.5/MathJax.js?config=TeX-AMS-MML_SVG\"></script><script type=\"text/javascript\">if (window.MathJax) {MathJax.Hub.Config({SVG: {font: \"STIX-Web\"}});}</script>                <script type=\"text/javascript\">window.PlotlyConfig = {MathJaxConfig: 'local'};</script>\n",
              "        <script src=\"https://cdn.plot.ly/plotly-2.8.3.min.js\"></script>                <div id=\"2a42f8e4-31ae-46c1-86ed-f8c699ca9a3c\" class=\"plotly-graph-div\" style=\"height:600px; width:100%;\"></div>            <script type=\"text/javascript\">                                    window.PLOTLYENV=window.PLOTLYENV || {};                                    if (document.getElementById(\"2a42f8e4-31ae-46c1-86ed-f8c699ca9a3c\")) {                    Plotly.newPlot(                        \"2a42f8e4-31ae-46c1-86ed-f8c699ca9a3c\",                        [{\"alignmentgroup\":\"True\",\"bingroup\":\"x\",\"hovertemplate\":\"Cluster=Cluster 0<br>Edad=%{x}<br>count=%{y}<extra></extra>\",\"legendgroup\":\"Cluster 0\",\"marker\":{\"color\":\"#636efa\",\"opacity\":0.7,\"pattern\":{\"shape\":\"\"}},\"name\":\"Cluster 0\",\"offsetgroup\":\"Cluster 0\",\"orientation\":\"v\",\"showlegend\":true,\"x\":[21,31,23,22,31,24,29,32,19,24,24,19,31,26,35,23,27,33,24,23,31,23,27,21,18,21,22,35,19,18,35,18,21,19,30,23],\"xaxis\":\"x\",\"yaxis\":\"y\",\"type\":\"histogram\"},{\"alignmentgroup\":\"True\",\"customdata\":[[62,42,\"Cluster 0\"],[43,54,\"Cluster 0\"],[54,52,\"Cluster 0\"],[20,79,\"Cluster 0\"],[25,73,\"Cluster 0\"],[20,77,\"Cluster 0\"],[40,42,\"Cluster 0\"],[48,47,\"Cluster 0\"],[63,54,\"Cluster 0\"],[38,92,\"Cluster 0\"],[60,52,\"Cluster 0\"],[64,46,\"Cluster 0\"],[39,61,\"Cluster 0\"],[54,54,\"Cluster 0\"],[28,61,\"Cluster 0\"],[70,29,\"Cluster 0\"],[60,50,\"Cluster 0\"],[42,60,\"Cluster 0\"],[39,65,\"Cluster 0\"],[62,41,\"Cluster 0\"],[40,42,\"Cluster 0\"],[16,77,\"Cluster 0\"],[67,56,\"Cluster 0\"],[15,81,\"Cluster 0\"],[48,59,\"Cluster 0\"],[33,81,\"Cluster 0\"],[17,76,\"Cluster 0\"],[19,99,\"Cluster 0\"],[46,55,\"Cluster 0\"],[59,41,\"Cluster 0\"],[23,98,\"Cluster 0\"],[33,92,\"Cluster 0\"],[54,57,\"Cluster 0\"],[48,59,\"Cluster 0\"],[34,73,\"Cluster 0\"],[18,94,\"Cluster 0\"]],\"hovertemplate\":\"Cluster=%{customdata[2]}<br>Edad=%{x}<br>IngresoAnual=%{customdata[0]}<br>ScoreGastoMall=%{customdata[1]}<extra></extra>\",\"legendgroup\":\"Cluster 0\",\"marker\":{\"color\":\"#636efa\"},\"name\":\"Cluster 0\",\"notched\":true,\"offsetgroup\":\"Cluster 0\",\"showlegend\":false,\"x\":[21,31,23,22,31,24,29,32,19,24,24,19,31,26,35,23,27,33,24,23,31,23,27,21,18,21,22,35,19,18,35,18,21,19,30,23],\"xaxis\":\"x2\",\"yaxis\":\"y2\",\"type\":\"box\"},{\"alignmentgroup\":\"True\",\"bingroup\":\"x\",\"hovertemplate\":\"Cluster=Cluster 1<br>Edad=%{x}<br>count=%{y}<extra></extra>\",\"legendgroup\":\"Cluster 1\",\"marker\":{\"color\":\"#EF553B\",\"opacity\":0.7,\"pattern\":{\"shape\":\"\"}},\"name\":\"Cluster 1\",\"offsetgroup\":\"Cluster 1\",\"orientation\":\"v\",\"showlegend\":true,\"x\":[69,49,66,63,48,50,49,68,55,50,50,48,67,38,53,67,60,45,38,49,32,65,50,63,48,68,40,52,57,54,66,47,45,46,59,43,70,47,54,65,51,49,40,47,48,51],\"xaxis\":\"x\",\"yaxis\":\"y\",\"type\":\"histogram\"},{\"alignmentgroup\":\"True\",\"customdata\":[[44,46,\"Cluster 1\"],[62,56,\"Cluster 1\"],[63,48,\"Cluster 1\"],[65,43,\"Cluster 1\"],[60,49,\"Cluster 1\"],[40,55,\"Cluster 1\"],[62,48,\"Cluster 1\"],[59,55,\"Cluster 1\"],[57,58,\"Cluster 1\"],[43,45,\"Cluster 1\"],[58,46,\"Cluster 1\"],[39,36,\"Cluster 1\"],[47,52,\"Cluster 1\"],[67,40,\"Cluster 1\"],[46,46,\"Cluster 1\"],[62,59,\"Cluster 1\"],[50,56,\"Cluster 1\"],[54,53,\"Cluster 1\"],[64,42,\"Cluster 1\"],[42,52,\"Cluster 1\"],[60,42,\"Cluster 1\"],[63,52,\"Cluster 1\"],[67,57,\"Cluster 1\"],[48,51,\"Cluster 1\"],[54,46,\"Cluster 1\"],[63,43,\"Cluster 1\"],[60,40,\"Cluster 1\"],[23,29,\"Cluster 1\"],[54,51,\"Cluster 1\"],[47,59,\"Cluster 1\"],[63,50,\"Cluster 1\"],[49,42,\"Cluster 1\"],[28,32,\"Cluster 1\"],[54,44,\"Cluster 1\"],[54,47,\"Cluster 1\"],[48,50,\"Cluster 1\"],[46,56,\"Cluster 1\"],[43,41,\"Cluster 1\"],[63,46,\"Cluster 1\"],[38,35,\"Cluster 1\"],[44,50,\"Cluster 1\"],[39,28,\"Cluster 1\"],[69,58,\"Cluster 1\"],[60,47,\"Cluster 1\"],[61,42,\"Cluster 1\"],[67,43,\"Cluster 1\"]],\"hovertemplate\":\"Cluster=%{customdata[2]}<br>Edad=%{x}<br>IngresoAnual=%{customdata[0]}<br>ScoreGastoMall=%{customdata[1]}<extra></extra>\",\"legendgroup\":\"Cluster 1\",\"marker\":{\"color\":\"#EF553B\"},\"name\":\"Cluster 1\",\"notched\":true,\"offsetgroup\":\"Cluster 1\",\"showlegend\":false,\"x\":[69,49,66,63,48,50,49,68,55,50,50,48,67,38,53,67,60,45,38,49,32,65,50,63,48,68,40,52,57,54,66,47,45,46,59,43,70,47,54,65,51,49,40,47,48,51],\"xaxis\":\"x2\",\"yaxis\":\"y2\",\"type\":\"box\"},{\"alignmentgroup\":\"True\",\"bingroup\":\"x\",\"hovertemplate\":\"Cluster=Cluster 2<br>Edad=%{x}<br>count=%{y}<extra></extra>\",\"legendgroup\":\"Cluster 2\",\"marker\":{\"color\":\"#00cc96\",\"opacity\":0.7,\"pattern\":{\"shape\":\"\"}},\"name\":\"Cluster 2\",\"offsetgroup\":\"Cluster 2\",\"orientation\":\"v\",\"showlegend\":true,\"x\":[45,59,32,25,20,34,50,43,43,47,36,48,19,40,56,46,47,41,44,54,37,19,37,44,47],\"xaxis\":\"x\",\"yaxis\":\"y\",\"type\":\"histogram\"},{\"alignmentgroup\":\"True\",\"customdata\":[[126,28,\"Cluster 2\"],[93,14,\"Cluster 2\"],[137,18,\"Cluster 2\"],[77,12,\"Cluster 2\"],[73,5,\"Cluster 2\"],[78,1,\"Cluster 2\"],[85,26,\"Cluster 2\"],[78,17,\"Cluster 2\"],[71,35,\"Cluster 2\"],[71,9,\"Cluster 2\"],[87,27,\"Cluster 2\"],[77,36,\"Cluster 2\"],[81,5,\"Cluster 2\"],[87,13,\"Cluster 2\"],[79,35,\"Cluster 2\"],[98,15,\"Cluster 2\"],[120,16,\"Cluster 2\"],[99,39,\"Cluster 2\"],[78,20,\"Cluster 2\"],[101,24,\"Cluster 2\"],[78,1,\"Cluster 2\"],[74,10,\"Cluster 2\"],[97,32,\"Cluster 2\"],[73,7,\"Cluster 2\"],[78,16,\"Cluster 2\"]],\"hovertemplate\":\"Cluster=%{customdata[2]}<br>Edad=%{x}<br>IngresoAnual=%{customdata[0]}<br>ScoreGastoMall=%{customdata[1]}<extra></extra>\",\"legendgroup\":\"Cluster 2\",\"marker\":{\"color\":\"#00cc96\"},\"name\":\"Cluster 2\",\"notched\":true,\"offsetgroup\":\"Cluster 2\",\"showlegend\":false,\"x\":[45,59,32,25,20,34,50,43,43,47,36,48,19,40,56,46,47,41,44,54,37,19,37,44,47],\"xaxis\":\"x2\",\"yaxis\":\"y2\",\"type\":\"box\"},{\"alignmentgroup\":\"True\",\"bingroup\":\"x\",\"hovertemplate\":\"Cluster=Cluster 3<br>Edad=%{x}<br>count=%{y}<extra></extra>\",\"legendgroup\":\"Cluster 3\",\"marker\":{\"color\":\"#ab63fa\",\"opacity\":0.7,\"pattern\":{\"shape\":\"\"}},\"name\":\"Cluster 3\",\"offsetgroup\":\"Cluster 3\",\"orientation\":\"v\",\"showlegend\":true,\"x\":[30,28,29,28,30,27,27,39,35,31,29,38,38,28,32,35,30,34,32,32,32,30,35,32,36,33,31,39,29,32],\"xaxis\":\"x\",\"yaxis\":\"y\",\"type\":\"histogram\"},{\"alignmentgroup\":\"True\",\"customdata\":[[137,83,\"Cluster 3\"],[87,75,\"Cluster 3\"],[98,88,\"Cluster 3\"],[77,97,\"Cluster 3\"],[78,73,\"Cluster 3\"],[78,89,\"Cluster 3\"],[88,69,\"Cluster 3\"],[69,91,\"Cluster 3\"],[93,90,\"Cluster 3\"],[70,77,\"Cluster 3\"],[73,88,\"Cluster 3\"],[78,76,\"Cluster 3\"],[71,75,\"Cluster 3\"],[101,68,\"Cluster 3\"],[76,87,\"Cluster 3\"],[120,79,\"Cluster 3\"],[99,97,\"Cluster 3\"],[78,90,\"Cluster 3\"],[126,74,\"Cluster 3\"],[75,93,\"Cluster 3\"],[103,69,\"Cluster 3\"],[88,86,\"Cluster 3\"],[74,72,\"Cluster 3\"],[97,86,\"Cluster 3\"],[103,85,\"Cluster 3\"],[86,95,\"Cluster 3\"],[81,93,\"Cluster 3\"],[71,75,\"Cluster 3\"],[79,83,\"Cluster 3\"],[73,73,\"Cluster 3\"]],\"hovertemplate\":\"Cluster=%{customdata[2]}<br>Edad=%{x}<br>IngresoAnual=%{customdata[0]}<br>ScoreGastoMall=%{customdata[1]}<extra></extra>\",\"legendgroup\":\"Cluster 3\",\"marker\":{\"color\":\"#ab63fa\"},\"name\":\"Cluster 3\",\"notched\":true,\"offsetgroup\":\"Cluster 3\",\"showlegend\":false,\"x\":[30,28,29,28,30,27,27,39,35,31,29,38,38,28,32,35,30,34,32,32,32,30,35,32,36,33,31,39,29,32],\"xaxis\":\"x2\",\"yaxis\":\"y2\",\"type\":\"box\"},{\"alignmentgroup\":\"True\",\"bingroup\":\"x\",\"hovertemplate\":\"Cluster=Cluster 4<br>Edad=%{x}<br>count=%{y}<extra></extra>\",\"legendgroup\":\"Cluster 4\",\"marker\":{\"color\":\"#FFA15A\",\"opacity\":0.7,\"pattern\":{\"shape\":\"\"}},\"name\":\"Cluster 4\",\"offsetgroup\":\"Cluster 4\",\"orientation\":\"v\",\"showlegend\":true,\"x\":[60,54,58,35,20,67,35,19,31,46,35,37,64],\"xaxis\":\"x\",\"yaxis\":\"y\",\"type\":\"histogram\"},{\"alignmentgroup\":\"True\",\"customdata\":[[30,4,\"Cluster 4\"],[28,14,\"Cluster 4\"],[20,15,\"Cluster 4\"],[24,35,\"Cluster 4\"],[16,6,\"Cluster 4\"],[19,14,\"Cluster 4\"],[18,6,\"Cluster 4\"],[15,39,\"Cluster 4\"],[17,40,\"Cluster 4\"],[25,5,\"Cluster 4\"],[21,35,\"Cluster 4\"],[20,13,\"Cluster 4\"],[19,3,\"Cluster 4\"]],\"hovertemplate\":\"Cluster=%{customdata[2]}<br>Edad=%{x}<br>IngresoAnual=%{customdata[0]}<br>ScoreGastoMall=%{customdata[1]}<extra></extra>\",\"legendgroup\":\"Cluster 4\",\"marker\":{\"color\":\"#FFA15A\"},\"name\":\"Cluster 4\",\"notched\":true,\"offsetgroup\":\"Cluster 4\",\"showlegend\":false,\"x\":[60,54,58,35,20,67,35,19,31,46,35,37,64],\"xaxis\":\"x2\",\"yaxis\":\"y2\",\"type\":\"box\"}],                        {\"template\":{\"data\":{\"bar\":[{\"error_x\":{\"color\":\"#2a3f5f\"},\"error_y\":{\"color\":\"#2a3f5f\"},\"marker\":{\"line\":{\"color\":\"#E5ECF6\",\"width\":0.5},\"pattern\":{\"fillmode\":\"overlay\",\"size\":10,\"solidity\":0.2}},\"type\":\"bar\"}],\"barpolar\":[{\"marker\":{\"line\":{\"color\":\"#E5ECF6\",\"width\":0.5},\"pattern\":{\"fillmode\":\"overlay\",\"size\":10,\"solidity\":0.2}},\"type\":\"barpolar\"}],\"carpet\":[{\"aaxis\":{\"endlinecolor\":\"#2a3f5f\",\"gridcolor\":\"white\",\"linecolor\":\"white\",\"minorgridcolor\":\"white\",\"startlinecolor\":\"#2a3f5f\"},\"baxis\":{\"endlinecolor\":\"#2a3f5f\",\"gridcolor\":\"white\",\"linecolor\":\"white\",\"minorgridcolor\":\"white\",\"startlinecolor\":\"#2a3f5f\"},\"type\":\"carpet\"}],\"choropleth\":[{\"colorbar\":{\"outlinewidth\":0,\"ticks\":\"\"},\"type\":\"choropleth\"}],\"contour\":[{\"colorbar\":{\"outlinewidth\":0,\"ticks\":\"\"},\"colorscale\":[[0.0,\"#0d0887\"],[0.1111111111111111,\"#46039f\"],[0.2222222222222222,\"#7201a8\"],[0.3333333333333333,\"#9c179e\"],[0.4444444444444444,\"#bd3786\"],[0.5555555555555556,\"#d8576b\"],[0.6666666666666666,\"#ed7953\"],[0.7777777777777778,\"#fb9f3a\"],[0.8888888888888888,\"#fdca26\"],[1.0,\"#f0f921\"]],\"type\":\"contour\"}],\"contourcarpet\":[{\"colorbar\":{\"outlinewidth\":0,\"ticks\":\"\"},\"type\":\"contourcarpet\"}],\"heatmap\":[{\"colorbar\":{\"outlinewidth\":0,\"ticks\":\"\"},\"colorscale\":[[0.0,\"#0d0887\"],[0.1111111111111111,\"#46039f\"],[0.2222222222222222,\"#7201a8\"],[0.3333333333333333,\"#9c179e\"],[0.4444444444444444,\"#bd3786\"],[0.5555555555555556,\"#d8576b\"],[0.6666666666666666,\"#ed7953\"],[0.7777777777777778,\"#fb9f3a\"],[0.8888888888888888,\"#fdca26\"],[1.0,\"#f0f921\"]],\"type\":\"heatmap\"}],\"heatmapgl\":[{\"colorbar\":{\"outlinewidth\":0,\"ticks\":\"\"},\"colorscale\":[[0.0,\"#0d0887\"],[0.1111111111111111,\"#46039f\"],[0.2222222222222222,\"#7201a8\"],[0.3333333333333333,\"#9c179e\"],[0.4444444444444444,\"#bd3786\"],[0.5555555555555556,\"#d8576b\"],[0.6666666666666666,\"#ed7953\"],[0.7777777777777778,\"#fb9f3a\"],[0.8888888888888888,\"#fdca26\"],[1.0,\"#f0f921\"]],\"type\":\"heatmapgl\"}],\"histogram\":[{\"marker\":{\"pattern\":{\"fillmode\":\"overlay\",\"size\":10,\"solidity\":0.2}},\"type\":\"histogram\"}],\"histogram2d\":[{\"colorbar\":{\"outlinewidth\":0,\"ticks\":\"\"},\"colorscale\":[[0.0,\"#0d0887\"],[0.1111111111111111,\"#46039f\"],[0.2222222222222222,\"#7201a8\"],[0.3333333333333333,\"#9c179e\"],[0.4444444444444444,\"#bd3786\"],[0.5555555555555556,\"#d8576b\"],[0.6666666666666666,\"#ed7953\"],[0.7777777777777778,\"#fb9f3a\"],[0.8888888888888888,\"#fdca26\"],[1.0,\"#f0f921\"]],\"type\":\"histogram2d\"}],\"histogram2dcontour\":[{\"colorbar\":{\"outlinewidth\":0,\"ticks\":\"\"},\"colorscale\":[[0.0,\"#0d0887\"],[0.1111111111111111,\"#46039f\"],[0.2222222222222222,\"#7201a8\"],[0.3333333333333333,\"#9c179e\"],[0.4444444444444444,\"#bd3786\"],[0.5555555555555556,\"#d8576b\"],[0.6666666666666666,\"#ed7953\"],[0.7777777777777778,\"#fb9f3a\"],[0.8888888888888888,\"#fdca26\"],[1.0,\"#f0f921\"]],\"type\":\"histogram2dcontour\"}],\"mesh3d\":[{\"colorbar\":{\"outlinewidth\":0,\"ticks\":\"\"},\"type\":\"mesh3d\"}],\"parcoords\":[{\"line\":{\"colorbar\":{\"outlinewidth\":0,\"ticks\":\"\"}},\"type\":\"parcoords\"}],\"pie\":[{\"automargin\":true,\"type\":\"pie\"}],\"scatter\":[{\"marker\":{\"colorbar\":{\"outlinewidth\":0,\"ticks\":\"\"}},\"type\":\"scatter\"}],\"scatter3d\":[{\"line\":{\"colorbar\":{\"outlinewidth\":0,\"ticks\":\"\"}},\"marker\":{\"colorbar\":{\"outlinewidth\":0,\"ticks\":\"\"}},\"type\":\"scatter3d\"}],\"scattercarpet\":[{\"marker\":{\"colorbar\":{\"outlinewidth\":0,\"ticks\":\"\"}},\"type\":\"scattercarpet\"}],\"scattergeo\":[{\"marker\":{\"colorbar\":{\"outlinewidth\":0,\"ticks\":\"\"}},\"type\":\"scattergeo\"}],\"scattergl\":[{\"marker\":{\"colorbar\":{\"outlinewidth\":0,\"ticks\":\"\"}},\"type\":\"scattergl\"}],\"scattermapbox\":[{\"marker\":{\"colorbar\":{\"outlinewidth\":0,\"ticks\":\"\"}},\"type\":\"scattermapbox\"}],\"scatterpolar\":[{\"marker\":{\"colorbar\":{\"outlinewidth\":0,\"ticks\":\"\"}},\"type\":\"scatterpolar\"}],\"scatterpolargl\":[{\"marker\":{\"colorbar\":{\"outlinewidth\":0,\"ticks\":\"\"}},\"type\":\"scatterpolargl\"}],\"scatterternary\":[{\"marker\":{\"colorbar\":{\"outlinewidth\":0,\"ticks\":\"\"}},\"type\":\"scatterternary\"}],\"surface\":[{\"colorbar\":{\"outlinewidth\":0,\"ticks\":\"\"},\"colorscale\":[[0.0,\"#0d0887\"],[0.1111111111111111,\"#46039f\"],[0.2222222222222222,\"#7201a8\"],[0.3333333333333333,\"#9c179e\"],[0.4444444444444444,\"#bd3786\"],[0.5555555555555556,\"#d8576b\"],[0.6666666666666666,\"#ed7953\"],[0.7777777777777778,\"#fb9f3a\"],[0.8888888888888888,\"#fdca26\"],[1.0,\"#f0f921\"]],\"type\":\"surface\"}],\"table\":[{\"cells\":{\"fill\":{\"color\":\"#EBF0F8\"},\"line\":{\"color\":\"white\"}},\"header\":{\"fill\":{\"color\":\"#C8D4E3\"},\"line\":{\"color\":\"white\"}},\"type\":\"table\"}]},\"layout\":{\"annotationdefaults\":{\"arrowcolor\":\"#2a3f5f\",\"arrowhead\":0,\"arrowwidth\":1},\"autotypenumbers\":\"strict\",\"coloraxis\":{\"colorbar\":{\"outlinewidth\":0,\"ticks\":\"\"}},\"colorscale\":{\"diverging\":[[0,\"#8e0152\"],[0.1,\"#c51b7d\"],[0.2,\"#de77ae\"],[0.3,\"#f1b6da\"],[0.4,\"#fde0ef\"],[0.5,\"#f7f7f7\"],[0.6,\"#e6f5d0\"],[0.7,\"#b8e186\"],[0.8,\"#7fbc41\"],[0.9,\"#4d9221\"],[1,\"#276419\"]],\"sequential\":[[0.0,\"#0d0887\"],[0.1111111111111111,\"#46039f\"],[0.2222222222222222,\"#7201a8\"],[0.3333333333333333,\"#9c179e\"],[0.4444444444444444,\"#bd3786\"],[0.5555555555555556,\"#d8576b\"],[0.6666666666666666,\"#ed7953\"],[0.7777777777777778,\"#fb9f3a\"],[0.8888888888888888,\"#fdca26\"],[1.0,\"#f0f921\"]],\"sequentialminus\":[[0.0,\"#0d0887\"],[0.1111111111111111,\"#46039f\"],[0.2222222222222222,\"#7201a8\"],[0.3333333333333333,\"#9c179e\"],[0.4444444444444444,\"#bd3786\"],[0.5555555555555556,\"#d8576b\"],[0.6666666666666666,\"#ed7953\"],[0.7777777777777778,\"#fb9f3a\"],[0.8888888888888888,\"#fdca26\"],[1.0,\"#f0f921\"]]},\"colorway\":[\"#636efa\",\"#EF553B\",\"#00cc96\",\"#ab63fa\",\"#FFA15A\",\"#19d3f3\",\"#FF6692\",\"#B6E880\",\"#FF97FF\",\"#FECB52\"],\"font\":{\"color\":\"#2a3f5f\"},\"geo\":{\"bgcolor\":\"white\",\"lakecolor\":\"white\",\"landcolor\":\"#E5ECF6\",\"showlakes\":true,\"showland\":true,\"subunitcolor\":\"white\"},\"hoverlabel\":{\"align\":\"left\"},\"hovermode\":\"closest\",\"mapbox\":{\"style\":\"light\"},\"paper_bgcolor\":\"white\",\"plot_bgcolor\":\"#E5ECF6\",\"polar\":{\"angularaxis\":{\"gridcolor\":\"white\",\"linecolor\":\"white\",\"ticks\":\"\"},\"bgcolor\":\"#E5ECF6\",\"radialaxis\":{\"gridcolor\":\"white\",\"linecolor\":\"white\",\"ticks\":\"\"}},\"scene\":{\"xaxis\":{\"backgroundcolor\":\"#E5ECF6\",\"gridcolor\":\"white\",\"gridwidth\":2,\"linecolor\":\"white\",\"showbackground\":true,\"ticks\":\"\",\"zerolinecolor\":\"white\"},\"yaxis\":{\"backgroundcolor\":\"#E5ECF6\",\"gridcolor\":\"white\",\"gridwidth\":2,\"linecolor\":\"white\",\"showbackground\":true,\"ticks\":\"\",\"zerolinecolor\":\"white\"},\"zaxis\":{\"backgroundcolor\":\"#E5ECF6\",\"gridcolor\":\"white\",\"gridwidth\":2,\"linecolor\":\"white\",\"showbackground\":true,\"ticks\":\"\",\"zerolinecolor\":\"white\"}},\"shapedefaults\":{\"line\":{\"color\":\"#2a3f5f\"}},\"ternary\":{\"aaxis\":{\"gridcolor\":\"white\",\"linecolor\":\"white\",\"ticks\":\"\"},\"baxis\":{\"gridcolor\":\"white\",\"linecolor\":\"white\",\"ticks\":\"\"},\"bgcolor\":\"#E5ECF6\",\"caxis\":{\"gridcolor\":\"white\",\"linecolor\":\"white\",\"ticks\":\"\"}},\"title\":{\"x\":0.05},\"xaxis\":{\"automargin\":true,\"gridcolor\":\"white\",\"linecolor\":\"white\",\"ticks\":\"\",\"title\":{\"standoff\":15},\"zerolinecolor\":\"white\",\"zerolinewidth\":2},\"yaxis\":{\"automargin\":true,\"gridcolor\":\"white\",\"linecolor\":\"white\",\"ticks\":\"\",\"title\":{\"standoff\":15},\"zerolinecolor\":\"white\",\"zerolinewidth\":2}}},\"xaxis\":{\"anchor\":\"y\",\"domain\":[0.0,1.0],\"title\":{\"text\":\"Edad\"}},\"yaxis\":{\"anchor\":\"x\",\"domain\":[0.0,0.7326],\"title\":{\"text\":\"count\"}},\"xaxis2\":{\"anchor\":\"y2\",\"domain\":[0.0,1.0],\"matches\":\"x\",\"showticklabels\":false,\"showgrid\":true},\"yaxis2\":{\"anchor\":\"x2\",\"domain\":[0.7426,1.0],\"matches\":\"y2\",\"showticklabels\":false,\"showline\":false,\"ticks\":\"\",\"showgrid\":false},\"legend\":{\"title\":{\"text\":\"Cluster\"},\"tracegroupgap\":0},\"margin\":{\"t\":60},\"barmode\":\"relative\",\"height\":600},                        {\"responsive\": true}                    ).then(function(){\n",
              "                            \n",
              "var gd = document.getElementById('2a42f8e4-31ae-46c1-86ed-f8c699ca9a3c');\n",
              "var x = new MutationObserver(function (mutations, observer) {{\n",
              "        var display = window.getComputedStyle(gd).display;\n",
              "        if (!display || display === 'none') {{\n",
              "            console.log([gd, 'removed!']);\n",
              "            Plotly.purge(gd);\n",
              "            observer.disconnect();\n",
              "        }}\n",
              "}});\n",
              "\n",
              "// Listen for the removal of the full notebook cells\n",
              "var notebookContainer = gd.closest('#notebook-container');\n",
              "if (notebookContainer) {{\n",
              "    x.observe(notebookContainer, {childList: true});\n",
              "}}\n",
              "\n",
              "// Listen for the clearing of the current output cell\n",
              "var outputEl = gd.closest('.output');\n",
              "if (outputEl) {{\n",
              "    x.observe(outputEl, {childList: true});\n",
              "}}\n",
              "\n",
              "                        })                };                            </script>        </div>\n",
              "</body>\n",
              "</html>"
            ]
          },
          "metadata": {}
        }
      ],
      "source": [
        "plot_model(hierarchicalModel, plot = 'distribution', feature = 'Edad')"
      ]
    },
    {
      "cell_type": "code",
      "execution_count": 63,
      "metadata": {
        "id": "5cVgHSwOdKQx",
        "colab": {
          "base_uri": "https://localhost:8080/",
          "height": 617
        },
        "outputId": "906b19ff-8b9e-4c86-ebff-207be7fdf197"
      },
      "outputs": [
        {
          "output_type": "display_data",
          "data": {
            "text/plain": [
              "<IPython.core.display.HTML object>"
            ],
            "text/html": []
          },
          "metadata": {}
        },
        {
          "output_type": "display_data",
          "data": {
            "text/html": [
              "<html>\n",
              "<head><meta charset=\"utf-8\" /></head>\n",
              "<body>\n",
              "    <div>            <script src=\"https://cdnjs.cloudflare.com/ajax/libs/mathjax/2.7.5/MathJax.js?config=TeX-AMS-MML_SVG\"></script><script type=\"text/javascript\">if (window.MathJax) {MathJax.Hub.Config({SVG: {font: \"STIX-Web\"}});}</script>                <script type=\"text/javascript\">window.PlotlyConfig = {MathJaxConfig: 'local'};</script>\n",
              "        <script src=\"https://cdn.plot.ly/plotly-2.8.3.min.js\"></script>                <div id=\"74cdecbe-0166-444e-b24f-25192f735766\" class=\"plotly-graph-div\" style=\"height:600px; width:100%;\"></div>            <script type=\"text/javascript\">                                    window.PLOTLYENV=window.PLOTLYENV || {};                                    if (document.getElementById(\"74cdecbe-0166-444e-b24f-25192f735766\")) {                    Plotly.newPlot(                        \"74cdecbe-0166-444e-b24f-25192f735766\",                        [{\"alignmentgroup\":\"True\",\"bingroup\":\"x\",\"hovertemplate\":\"Cluster=Cluster 0<br>IngresoAnual=%{x}<br>count=%{y}<extra></extra>\",\"legendgroup\":\"Cluster 0\",\"marker\":{\"color\":\"#636efa\",\"opacity\":0.7,\"pattern\":{\"shape\":\"\"}},\"name\":\"Cluster 0\",\"offsetgroup\":\"Cluster 0\",\"orientation\":\"v\",\"showlegend\":true,\"x\":[62,43,54,20,25,20,40,48,63,38,60,64,39,54,28,70,60,42,39,62,40,16,67,15,48,33,17,19,46,59,23,33,54,48,34,18],\"xaxis\":\"x\",\"yaxis\":\"y\",\"type\":\"histogram\"},{\"alignmentgroup\":\"True\",\"customdata\":[[21,42,\"Cluster 0\"],[31,54,\"Cluster 0\"],[23,52,\"Cluster 0\"],[22,79,\"Cluster 0\"],[31,73,\"Cluster 0\"],[24,77,\"Cluster 0\"],[29,42,\"Cluster 0\"],[32,47,\"Cluster 0\"],[19,54,\"Cluster 0\"],[24,92,\"Cluster 0\"],[24,52,\"Cluster 0\"],[19,46,\"Cluster 0\"],[31,61,\"Cluster 0\"],[26,54,\"Cluster 0\"],[35,61,\"Cluster 0\"],[23,29,\"Cluster 0\"],[27,50,\"Cluster 0\"],[33,60,\"Cluster 0\"],[24,65,\"Cluster 0\"],[23,41,\"Cluster 0\"],[31,42,\"Cluster 0\"],[23,77,\"Cluster 0\"],[27,56,\"Cluster 0\"],[21,81,\"Cluster 0\"],[18,59,\"Cluster 0\"],[21,81,\"Cluster 0\"],[22,76,\"Cluster 0\"],[35,99,\"Cluster 0\"],[19,55,\"Cluster 0\"],[18,41,\"Cluster 0\"],[35,98,\"Cluster 0\"],[18,92,\"Cluster 0\"],[21,57,\"Cluster 0\"],[19,59,\"Cluster 0\"],[30,73,\"Cluster 0\"],[23,94,\"Cluster 0\"]],\"hovertemplate\":\"Cluster=%{customdata[2]}<br>IngresoAnual=%{x}<br>Edad=%{customdata[0]}<br>ScoreGastoMall=%{customdata[1]}<extra></extra>\",\"legendgroup\":\"Cluster 0\",\"marker\":{\"color\":\"#636efa\"},\"name\":\"Cluster 0\",\"notched\":true,\"offsetgroup\":\"Cluster 0\",\"showlegend\":false,\"x\":[62,43,54,20,25,20,40,48,63,38,60,64,39,54,28,70,60,42,39,62,40,16,67,15,48,33,17,19,46,59,23,33,54,48,34,18],\"xaxis\":\"x2\",\"yaxis\":\"y2\",\"type\":\"box\"},{\"alignmentgroup\":\"True\",\"bingroup\":\"x\",\"hovertemplate\":\"Cluster=Cluster 1<br>IngresoAnual=%{x}<br>count=%{y}<extra></extra>\",\"legendgroup\":\"Cluster 1\",\"marker\":{\"color\":\"#EF553B\",\"opacity\":0.7,\"pattern\":{\"shape\":\"\"}},\"name\":\"Cluster 1\",\"offsetgroup\":\"Cluster 1\",\"orientation\":\"v\",\"showlegend\":true,\"x\":[44,62,63,65,60,40,62,59,57,43,58,39,47,67,46,62,50,54,64,42,60,63,67,48,54,63,60,23,54,47,63,49,28,54,54,48,46,43,63,38,44,39,69,60,61,67],\"xaxis\":\"x\",\"yaxis\":\"y\",\"type\":\"histogram\"},{\"alignmentgroup\":\"True\",\"customdata\":[[69,46,\"Cluster 1\"],[49,56,\"Cluster 1\"],[66,48,\"Cluster 1\"],[63,43,\"Cluster 1\"],[48,49,\"Cluster 1\"],[50,55,\"Cluster 1\"],[49,48,\"Cluster 1\"],[68,55,\"Cluster 1\"],[55,58,\"Cluster 1\"],[50,45,\"Cluster 1\"],[50,46,\"Cluster 1\"],[48,36,\"Cluster 1\"],[67,52,\"Cluster 1\"],[38,40,\"Cluster 1\"],[53,46,\"Cluster 1\"],[67,59,\"Cluster 1\"],[60,56,\"Cluster 1\"],[45,53,\"Cluster 1\"],[38,42,\"Cluster 1\"],[49,52,\"Cluster 1\"],[32,42,\"Cluster 1\"],[65,52,\"Cluster 1\"],[50,57,\"Cluster 1\"],[63,51,\"Cluster 1\"],[48,46,\"Cluster 1\"],[68,43,\"Cluster 1\"],[40,40,\"Cluster 1\"],[52,29,\"Cluster 1\"],[57,51,\"Cluster 1\"],[54,59,\"Cluster 1\"],[66,50,\"Cluster 1\"],[47,42,\"Cluster 1\"],[45,32,\"Cluster 1\"],[46,44,\"Cluster 1\"],[59,47,\"Cluster 1\"],[43,50,\"Cluster 1\"],[70,56,\"Cluster 1\"],[47,41,\"Cluster 1\"],[54,46,\"Cluster 1\"],[65,35,\"Cluster 1\"],[51,50,\"Cluster 1\"],[49,28,\"Cluster 1\"],[40,58,\"Cluster 1\"],[47,47,\"Cluster 1\"],[48,42,\"Cluster 1\"],[51,43,\"Cluster 1\"]],\"hovertemplate\":\"Cluster=%{customdata[2]}<br>IngresoAnual=%{x}<br>Edad=%{customdata[0]}<br>ScoreGastoMall=%{customdata[1]}<extra></extra>\",\"legendgroup\":\"Cluster 1\",\"marker\":{\"color\":\"#EF553B\"},\"name\":\"Cluster 1\",\"notched\":true,\"offsetgroup\":\"Cluster 1\",\"showlegend\":false,\"x\":[44,62,63,65,60,40,62,59,57,43,58,39,47,67,46,62,50,54,64,42,60,63,67,48,54,63,60,23,54,47,63,49,28,54,54,48,46,43,63,38,44,39,69,60,61,67],\"xaxis\":\"x2\",\"yaxis\":\"y2\",\"type\":\"box\"},{\"alignmentgroup\":\"True\",\"bingroup\":\"x\",\"hovertemplate\":\"Cluster=Cluster 2<br>IngresoAnual=%{x}<br>count=%{y}<extra></extra>\",\"legendgroup\":\"Cluster 2\",\"marker\":{\"color\":\"#00cc96\",\"opacity\":0.7,\"pattern\":{\"shape\":\"\"}},\"name\":\"Cluster 2\",\"offsetgroup\":\"Cluster 2\",\"orientation\":\"v\",\"showlegend\":true,\"x\":[126,93,137,77,73,78,85,78,71,71,87,77,81,87,79,98,120,99,78,101,78,74,97,73,78],\"xaxis\":\"x\",\"yaxis\":\"y\",\"type\":\"histogram\"},{\"alignmentgroup\":\"True\",\"customdata\":[[45,28,\"Cluster 2\"],[59,14,\"Cluster 2\"],[32,18,\"Cluster 2\"],[25,12,\"Cluster 2\"],[20,5,\"Cluster 2\"],[34,1,\"Cluster 2\"],[50,26,\"Cluster 2\"],[43,17,\"Cluster 2\"],[43,35,\"Cluster 2\"],[47,9,\"Cluster 2\"],[36,27,\"Cluster 2\"],[48,36,\"Cluster 2\"],[19,5,\"Cluster 2\"],[40,13,\"Cluster 2\"],[56,35,\"Cluster 2\"],[46,15,\"Cluster 2\"],[47,16,\"Cluster 2\"],[41,39,\"Cluster 2\"],[44,20,\"Cluster 2\"],[54,24,\"Cluster 2\"],[37,1,\"Cluster 2\"],[19,10,\"Cluster 2\"],[37,32,\"Cluster 2\"],[44,7,\"Cluster 2\"],[47,16,\"Cluster 2\"]],\"hovertemplate\":\"Cluster=%{customdata[2]}<br>IngresoAnual=%{x}<br>Edad=%{customdata[0]}<br>ScoreGastoMall=%{customdata[1]}<extra></extra>\",\"legendgroup\":\"Cluster 2\",\"marker\":{\"color\":\"#00cc96\"},\"name\":\"Cluster 2\",\"notched\":true,\"offsetgroup\":\"Cluster 2\",\"showlegend\":false,\"x\":[126,93,137,77,73,78,85,78,71,71,87,77,81,87,79,98,120,99,78,101,78,74,97,73,78],\"xaxis\":\"x2\",\"yaxis\":\"y2\",\"type\":\"box\"},{\"alignmentgroup\":\"True\",\"bingroup\":\"x\",\"hovertemplate\":\"Cluster=Cluster 3<br>IngresoAnual=%{x}<br>count=%{y}<extra></extra>\",\"legendgroup\":\"Cluster 3\",\"marker\":{\"color\":\"#ab63fa\",\"opacity\":0.7,\"pattern\":{\"shape\":\"\"}},\"name\":\"Cluster 3\",\"offsetgroup\":\"Cluster 3\",\"orientation\":\"v\",\"showlegend\":true,\"x\":[137,87,98,77,78,78,88,69,93,70,73,78,71,101,76,120,99,78,126,75,103,88,74,97,103,86,81,71,79,73],\"xaxis\":\"x\",\"yaxis\":\"y\",\"type\":\"histogram\"},{\"alignmentgroup\":\"True\",\"customdata\":[[30,83,\"Cluster 3\"],[28,75,\"Cluster 3\"],[29,88,\"Cluster 3\"],[28,97,\"Cluster 3\"],[30,73,\"Cluster 3\"],[27,89,\"Cluster 3\"],[27,69,\"Cluster 3\"],[39,91,\"Cluster 3\"],[35,90,\"Cluster 3\"],[31,77,\"Cluster 3\"],[29,88,\"Cluster 3\"],[38,76,\"Cluster 3\"],[38,75,\"Cluster 3\"],[28,68,\"Cluster 3\"],[32,87,\"Cluster 3\"],[35,79,\"Cluster 3\"],[30,97,\"Cluster 3\"],[34,90,\"Cluster 3\"],[32,74,\"Cluster 3\"],[32,93,\"Cluster 3\"],[32,69,\"Cluster 3\"],[30,86,\"Cluster 3\"],[35,72,\"Cluster 3\"],[32,86,\"Cluster 3\"],[36,85,\"Cluster 3\"],[33,95,\"Cluster 3\"],[31,93,\"Cluster 3\"],[39,75,\"Cluster 3\"],[29,83,\"Cluster 3\"],[32,73,\"Cluster 3\"]],\"hovertemplate\":\"Cluster=%{customdata[2]}<br>IngresoAnual=%{x}<br>Edad=%{customdata[0]}<br>ScoreGastoMall=%{customdata[1]}<extra></extra>\",\"legendgroup\":\"Cluster 3\",\"marker\":{\"color\":\"#ab63fa\"},\"name\":\"Cluster 3\",\"notched\":true,\"offsetgroup\":\"Cluster 3\",\"showlegend\":false,\"x\":[137,87,98,77,78,78,88,69,93,70,73,78,71,101,76,120,99,78,126,75,103,88,74,97,103,86,81,71,79,73],\"xaxis\":\"x2\",\"yaxis\":\"y2\",\"type\":\"box\"},{\"alignmentgroup\":\"True\",\"bingroup\":\"x\",\"hovertemplate\":\"Cluster=Cluster 4<br>IngresoAnual=%{x}<br>count=%{y}<extra></extra>\",\"legendgroup\":\"Cluster 4\",\"marker\":{\"color\":\"#FFA15A\",\"opacity\":0.7,\"pattern\":{\"shape\":\"\"}},\"name\":\"Cluster 4\",\"offsetgroup\":\"Cluster 4\",\"orientation\":\"v\",\"showlegend\":true,\"x\":[30,28,20,24,16,19,18,15,17,25,21,20,19],\"xaxis\":\"x\",\"yaxis\":\"y\",\"type\":\"histogram\"},{\"alignmentgroup\":\"True\",\"customdata\":[[60,4,\"Cluster 4\"],[54,14,\"Cluster 4\"],[58,15,\"Cluster 4\"],[35,35,\"Cluster 4\"],[20,6,\"Cluster 4\"],[67,14,\"Cluster 4\"],[35,6,\"Cluster 4\"],[19,39,\"Cluster 4\"],[31,40,\"Cluster 4\"],[46,5,\"Cluster 4\"],[35,35,\"Cluster 4\"],[37,13,\"Cluster 4\"],[64,3,\"Cluster 4\"]],\"hovertemplate\":\"Cluster=%{customdata[2]}<br>IngresoAnual=%{x}<br>Edad=%{customdata[0]}<br>ScoreGastoMall=%{customdata[1]}<extra></extra>\",\"legendgroup\":\"Cluster 4\",\"marker\":{\"color\":\"#FFA15A\"},\"name\":\"Cluster 4\",\"notched\":true,\"offsetgroup\":\"Cluster 4\",\"showlegend\":false,\"x\":[30,28,20,24,16,19,18,15,17,25,21,20,19],\"xaxis\":\"x2\",\"yaxis\":\"y2\",\"type\":\"box\"}],                        {\"template\":{\"data\":{\"bar\":[{\"error_x\":{\"color\":\"#2a3f5f\"},\"error_y\":{\"color\":\"#2a3f5f\"},\"marker\":{\"line\":{\"color\":\"#E5ECF6\",\"width\":0.5},\"pattern\":{\"fillmode\":\"overlay\",\"size\":10,\"solidity\":0.2}},\"type\":\"bar\"}],\"barpolar\":[{\"marker\":{\"line\":{\"color\":\"#E5ECF6\",\"width\":0.5},\"pattern\":{\"fillmode\":\"overlay\",\"size\":10,\"solidity\":0.2}},\"type\":\"barpolar\"}],\"carpet\":[{\"aaxis\":{\"endlinecolor\":\"#2a3f5f\",\"gridcolor\":\"white\",\"linecolor\":\"white\",\"minorgridcolor\":\"white\",\"startlinecolor\":\"#2a3f5f\"},\"baxis\":{\"endlinecolor\":\"#2a3f5f\",\"gridcolor\":\"white\",\"linecolor\":\"white\",\"minorgridcolor\":\"white\",\"startlinecolor\":\"#2a3f5f\"},\"type\":\"carpet\"}],\"choropleth\":[{\"colorbar\":{\"outlinewidth\":0,\"ticks\":\"\"},\"type\":\"choropleth\"}],\"contour\":[{\"colorbar\":{\"outlinewidth\":0,\"ticks\":\"\"},\"colorscale\":[[0.0,\"#0d0887\"],[0.1111111111111111,\"#46039f\"],[0.2222222222222222,\"#7201a8\"],[0.3333333333333333,\"#9c179e\"],[0.4444444444444444,\"#bd3786\"],[0.5555555555555556,\"#d8576b\"],[0.6666666666666666,\"#ed7953\"],[0.7777777777777778,\"#fb9f3a\"],[0.8888888888888888,\"#fdca26\"],[1.0,\"#f0f921\"]],\"type\":\"contour\"}],\"contourcarpet\":[{\"colorbar\":{\"outlinewidth\":0,\"ticks\":\"\"},\"type\":\"contourcarpet\"}],\"heatmap\":[{\"colorbar\":{\"outlinewidth\":0,\"ticks\":\"\"},\"colorscale\":[[0.0,\"#0d0887\"],[0.1111111111111111,\"#46039f\"],[0.2222222222222222,\"#7201a8\"],[0.3333333333333333,\"#9c179e\"],[0.4444444444444444,\"#bd3786\"],[0.5555555555555556,\"#d8576b\"],[0.6666666666666666,\"#ed7953\"],[0.7777777777777778,\"#fb9f3a\"],[0.8888888888888888,\"#fdca26\"],[1.0,\"#f0f921\"]],\"type\":\"heatmap\"}],\"heatmapgl\":[{\"colorbar\":{\"outlinewidth\":0,\"ticks\":\"\"},\"colorscale\":[[0.0,\"#0d0887\"],[0.1111111111111111,\"#46039f\"],[0.2222222222222222,\"#7201a8\"],[0.3333333333333333,\"#9c179e\"],[0.4444444444444444,\"#bd3786\"],[0.5555555555555556,\"#d8576b\"],[0.6666666666666666,\"#ed7953\"],[0.7777777777777778,\"#fb9f3a\"],[0.8888888888888888,\"#fdca26\"],[1.0,\"#f0f921\"]],\"type\":\"heatmapgl\"}],\"histogram\":[{\"marker\":{\"pattern\":{\"fillmode\":\"overlay\",\"size\":10,\"solidity\":0.2}},\"type\":\"histogram\"}],\"histogram2d\":[{\"colorbar\":{\"outlinewidth\":0,\"ticks\":\"\"},\"colorscale\":[[0.0,\"#0d0887\"],[0.1111111111111111,\"#46039f\"],[0.2222222222222222,\"#7201a8\"],[0.3333333333333333,\"#9c179e\"],[0.4444444444444444,\"#bd3786\"],[0.5555555555555556,\"#d8576b\"],[0.6666666666666666,\"#ed7953\"],[0.7777777777777778,\"#fb9f3a\"],[0.8888888888888888,\"#fdca26\"],[1.0,\"#f0f921\"]],\"type\":\"histogram2d\"}],\"histogram2dcontour\":[{\"colorbar\":{\"outlinewidth\":0,\"ticks\":\"\"},\"colorscale\":[[0.0,\"#0d0887\"],[0.1111111111111111,\"#46039f\"],[0.2222222222222222,\"#7201a8\"],[0.3333333333333333,\"#9c179e\"],[0.4444444444444444,\"#bd3786\"],[0.5555555555555556,\"#d8576b\"],[0.6666666666666666,\"#ed7953\"],[0.7777777777777778,\"#fb9f3a\"],[0.8888888888888888,\"#fdca26\"],[1.0,\"#f0f921\"]],\"type\":\"histogram2dcontour\"}],\"mesh3d\":[{\"colorbar\":{\"outlinewidth\":0,\"ticks\":\"\"},\"type\":\"mesh3d\"}],\"parcoords\":[{\"line\":{\"colorbar\":{\"outlinewidth\":0,\"ticks\":\"\"}},\"type\":\"parcoords\"}],\"pie\":[{\"automargin\":true,\"type\":\"pie\"}],\"scatter\":[{\"marker\":{\"colorbar\":{\"outlinewidth\":0,\"ticks\":\"\"}},\"type\":\"scatter\"}],\"scatter3d\":[{\"line\":{\"colorbar\":{\"outlinewidth\":0,\"ticks\":\"\"}},\"marker\":{\"colorbar\":{\"outlinewidth\":0,\"ticks\":\"\"}},\"type\":\"scatter3d\"}],\"scattercarpet\":[{\"marker\":{\"colorbar\":{\"outlinewidth\":0,\"ticks\":\"\"}},\"type\":\"scattercarpet\"}],\"scattergeo\":[{\"marker\":{\"colorbar\":{\"outlinewidth\":0,\"ticks\":\"\"}},\"type\":\"scattergeo\"}],\"scattergl\":[{\"marker\":{\"colorbar\":{\"outlinewidth\":0,\"ticks\":\"\"}},\"type\":\"scattergl\"}],\"scattermapbox\":[{\"marker\":{\"colorbar\":{\"outlinewidth\":0,\"ticks\":\"\"}},\"type\":\"scattermapbox\"}],\"scatterpolar\":[{\"marker\":{\"colorbar\":{\"outlinewidth\":0,\"ticks\":\"\"}},\"type\":\"scatterpolar\"}],\"scatterpolargl\":[{\"marker\":{\"colorbar\":{\"outlinewidth\":0,\"ticks\":\"\"}},\"type\":\"scatterpolargl\"}],\"scatterternary\":[{\"marker\":{\"colorbar\":{\"outlinewidth\":0,\"ticks\":\"\"}},\"type\":\"scatterternary\"}],\"surface\":[{\"colorbar\":{\"outlinewidth\":0,\"ticks\":\"\"},\"colorscale\":[[0.0,\"#0d0887\"],[0.1111111111111111,\"#46039f\"],[0.2222222222222222,\"#7201a8\"],[0.3333333333333333,\"#9c179e\"],[0.4444444444444444,\"#bd3786\"],[0.5555555555555556,\"#d8576b\"],[0.6666666666666666,\"#ed7953\"],[0.7777777777777778,\"#fb9f3a\"],[0.8888888888888888,\"#fdca26\"],[1.0,\"#f0f921\"]],\"type\":\"surface\"}],\"table\":[{\"cells\":{\"fill\":{\"color\":\"#EBF0F8\"},\"line\":{\"color\":\"white\"}},\"header\":{\"fill\":{\"color\":\"#C8D4E3\"},\"line\":{\"color\":\"white\"}},\"type\":\"table\"}]},\"layout\":{\"annotationdefaults\":{\"arrowcolor\":\"#2a3f5f\",\"arrowhead\":0,\"arrowwidth\":1},\"autotypenumbers\":\"strict\",\"coloraxis\":{\"colorbar\":{\"outlinewidth\":0,\"ticks\":\"\"}},\"colorscale\":{\"diverging\":[[0,\"#8e0152\"],[0.1,\"#c51b7d\"],[0.2,\"#de77ae\"],[0.3,\"#f1b6da\"],[0.4,\"#fde0ef\"],[0.5,\"#f7f7f7\"],[0.6,\"#e6f5d0\"],[0.7,\"#b8e186\"],[0.8,\"#7fbc41\"],[0.9,\"#4d9221\"],[1,\"#276419\"]],\"sequential\":[[0.0,\"#0d0887\"],[0.1111111111111111,\"#46039f\"],[0.2222222222222222,\"#7201a8\"],[0.3333333333333333,\"#9c179e\"],[0.4444444444444444,\"#bd3786\"],[0.5555555555555556,\"#d8576b\"],[0.6666666666666666,\"#ed7953\"],[0.7777777777777778,\"#fb9f3a\"],[0.8888888888888888,\"#fdca26\"],[1.0,\"#f0f921\"]],\"sequentialminus\":[[0.0,\"#0d0887\"],[0.1111111111111111,\"#46039f\"],[0.2222222222222222,\"#7201a8\"],[0.3333333333333333,\"#9c179e\"],[0.4444444444444444,\"#bd3786\"],[0.5555555555555556,\"#d8576b\"],[0.6666666666666666,\"#ed7953\"],[0.7777777777777778,\"#fb9f3a\"],[0.8888888888888888,\"#fdca26\"],[1.0,\"#f0f921\"]]},\"colorway\":[\"#636efa\",\"#EF553B\",\"#00cc96\",\"#ab63fa\",\"#FFA15A\",\"#19d3f3\",\"#FF6692\",\"#B6E880\",\"#FF97FF\",\"#FECB52\"],\"font\":{\"color\":\"#2a3f5f\"},\"geo\":{\"bgcolor\":\"white\",\"lakecolor\":\"white\",\"landcolor\":\"#E5ECF6\",\"showlakes\":true,\"showland\":true,\"subunitcolor\":\"white\"},\"hoverlabel\":{\"align\":\"left\"},\"hovermode\":\"closest\",\"mapbox\":{\"style\":\"light\"},\"paper_bgcolor\":\"white\",\"plot_bgcolor\":\"#E5ECF6\",\"polar\":{\"angularaxis\":{\"gridcolor\":\"white\",\"linecolor\":\"white\",\"ticks\":\"\"},\"bgcolor\":\"#E5ECF6\",\"radialaxis\":{\"gridcolor\":\"white\",\"linecolor\":\"white\",\"ticks\":\"\"}},\"scene\":{\"xaxis\":{\"backgroundcolor\":\"#E5ECF6\",\"gridcolor\":\"white\",\"gridwidth\":2,\"linecolor\":\"white\",\"showbackground\":true,\"ticks\":\"\",\"zerolinecolor\":\"white\"},\"yaxis\":{\"backgroundcolor\":\"#E5ECF6\",\"gridcolor\":\"white\",\"gridwidth\":2,\"linecolor\":\"white\",\"showbackground\":true,\"ticks\":\"\",\"zerolinecolor\":\"white\"},\"zaxis\":{\"backgroundcolor\":\"#E5ECF6\",\"gridcolor\":\"white\",\"gridwidth\":2,\"linecolor\":\"white\",\"showbackground\":true,\"ticks\":\"\",\"zerolinecolor\":\"white\"}},\"shapedefaults\":{\"line\":{\"color\":\"#2a3f5f\"}},\"ternary\":{\"aaxis\":{\"gridcolor\":\"white\",\"linecolor\":\"white\",\"ticks\":\"\"},\"baxis\":{\"gridcolor\":\"white\",\"linecolor\":\"white\",\"ticks\":\"\"},\"bgcolor\":\"#E5ECF6\",\"caxis\":{\"gridcolor\":\"white\",\"linecolor\":\"white\",\"ticks\":\"\"}},\"title\":{\"x\":0.05},\"xaxis\":{\"automargin\":true,\"gridcolor\":\"white\",\"linecolor\":\"white\",\"ticks\":\"\",\"title\":{\"standoff\":15},\"zerolinecolor\":\"white\",\"zerolinewidth\":2},\"yaxis\":{\"automargin\":true,\"gridcolor\":\"white\",\"linecolor\":\"white\",\"ticks\":\"\",\"title\":{\"standoff\":15},\"zerolinecolor\":\"white\",\"zerolinewidth\":2}}},\"xaxis\":{\"anchor\":\"y\",\"domain\":[0.0,1.0],\"title\":{\"text\":\"IngresoAnual\"}},\"yaxis\":{\"anchor\":\"x\",\"domain\":[0.0,0.7326],\"title\":{\"text\":\"count\"}},\"xaxis2\":{\"anchor\":\"y2\",\"domain\":[0.0,1.0],\"matches\":\"x\",\"showticklabels\":false,\"showgrid\":true},\"yaxis2\":{\"anchor\":\"x2\",\"domain\":[0.7426,1.0],\"matches\":\"y2\",\"showticklabels\":false,\"showline\":false,\"ticks\":\"\",\"showgrid\":false},\"legend\":{\"title\":{\"text\":\"Cluster\"},\"tracegroupgap\":0},\"margin\":{\"t\":60},\"barmode\":\"relative\",\"height\":600},                        {\"responsive\": true}                    ).then(function(){\n",
              "                            \n",
              "var gd = document.getElementById('74cdecbe-0166-444e-b24f-25192f735766');\n",
              "var x = new MutationObserver(function (mutations, observer) {{\n",
              "        var display = window.getComputedStyle(gd).display;\n",
              "        if (!display || display === 'none') {{\n",
              "            console.log([gd, 'removed!']);\n",
              "            Plotly.purge(gd);\n",
              "            observer.disconnect();\n",
              "        }}\n",
              "}});\n",
              "\n",
              "// Listen for the removal of the full notebook cells\n",
              "var notebookContainer = gd.closest('#notebook-container');\n",
              "if (notebookContainer) {{\n",
              "    x.observe(notebookContainer, {childList: true});\n",
              "}}\n",
              "\n",
              "// Listen for the clearing of the current output cell\n",
              "var outputEl = gd.closest('.output');\n",
              "if (outputEl) {{\n",
              "    x.observe(outputEl, {childList: true});\n",
              "}}\n",
              "\n",
              "                        })                };                            </script>        </div>\n",
              "</body>\n",
              "</html>"
            ]
          },
          "metadata": {}
        }
      ],
      "source": [
        "plot_model(hierarchicalModel, plot = 'distribution', feature = 'IngresoAnual')"
      ]
    },
    {
      "cell_type": "code",
      "execution_count": 64,
      "metadata": {
        "id": "YEy33CDYdQvH",
        "colab": {
          "base_uri": "https://localhost:8080/",
          "height": 617
        },
        "outputId": "a02be448-eb73-4f6d-d623-616262e76c56"
      },
      "outputs": [
        {
          "output_type": "display_data",
          "data": {
            "text/plain": [
              "<IPython.core.display.HTML object>"
            ],
            "text/html": []
          },
          "metadata": {}
        },
        {
          "output_type": "display_data",
          "data": {
            "text/html": [
              "<html>\n",
              "<head><meta charset=\"utf-8\" /></head>\n",
              "<body>\n",
              "    <div>            <script src=\"https://cdnjs.cloudflare.com/ajax/libs/mathjax/2.7.5/MathJax.js?config=TeX-AMS-MML_SVG\"></script><script type=\"text/javascript\">if (window.MathJax) {MathJax.Hub.Config({SVG: {font: \"STIX-Web\"}});}</script>                <script type=\"text/javascript\">window.PlotlyConfig = {MathJaxConfig: 'local'};</script>\n",
              "        <script src=\"https://cdn.plot.ly/plotly-2.8.3.min.js\"></script>                <div id=\"2e4317ee-e3f7-4daa-aa75-514c91480ffa\" class=\"plotly-graph-div\" style=\"height:600px; width:100%;\"></div>            <script type=\"text/javascript\">                                    window.PLOTLYENV=window.PLOTLYENV || {};                                    if (document.getElementById(\"2e4317ee-e3f7-4daa-aa75-514c91480ffa\")) {                    Plotly.newPlot(                        \"2e4317ee-e3f7-4daa-aa75-514c91480ffa\",                        [{\"alignmentgroup\":\"True\",\"bingroup\":\"x\",\"hovertemplate\":\"Cluster=Cluster 0<br>ScoreGastoMall=%{x}<br>count=%{y}<extra></extra>\",\"legendgroup\":\"Cluster 0\",\"marker\":{\"color\":\"#636efa\",\"opacity\":0.7,\"pattern\":{\"shape\":\"\"}},\"name\":\"Cluster 0\",\"offsetgroup\":\"Cluster 0\",\"orientation\":\"v\",\"showlegend\":true,\"x\":[42,54,52,79,73,77,42,47,54,92,52,46,61,54,61,29,50,60,65,41,42,77,56,81,59,81,76,99,55,41,98,92,57,59,73,94],\"xaxis\":\"x\",\"yaxis\":\"y\",\"type\":\"histogram\"},{\"alignmentgroup\":\"True\",\"customdata\":[[21,62,\"Cluster 0\"],[31,43,\"Cluster 0\"],[23,54,\"Cluster 0\"],[22,20,\"Cluster 0\"],[31,25,\"Cluster 0\"],[24,20,\"Cluster 0\"],[29,40,\"Cluster 0\"],[32,48,\"Cluster 0\"],[19,63,\"Cluster 0\"],[24,38,\"Cluster 0\"],[24,60,\"Cluster 0\"],[19,64,\"Cluster 0\"],[31,39,\"Cluster 0\"],[26,54,\"Cluster 0\"],[35,28,\"Cluster 0\"],[23,70,\"Cluster 0\"],[27,60,\"Cluster 0\"],[33,42,\"Cluster 0\"],[24,39,\"Cluster 0\"],[23,62,\"Cluster 0\"],[31,40,\"Cluster 0\"],[23,16,\"Cluster 0\"],[27,67,\"Cluster 0\"],[21,15,\"Cluster 0\"],[18,48,\"Cluster 0\"],[21,33,\"Cluster 0\"],[22,17,\"Cluster 0\"],[35,19,\"Cluster 0\"],[19,46,\"Cluster 0\"],[18,59,\"Cluster 0\"],[35,23,\"Cluster 0\"],[18,33,\"Cluster 0\"],[21,54,\"Cluster 0\"],[19,48,\"Cluster 0\"],[30,34,\"Cluster 0\"],[23,18,\"Cluster 0\"]],\"hovertemplate\":\"Cluster=%{customdata[2]}<br>ScoreGastoMall=%{x}<br>Edad=%{customdata[0]}<br>IngresoAnual=%{customdata[1]}<extra></extra>\",\"legendgroup\":\"Cluster 0\",\"marker\":{\"color\":\"#636efa\"},\"name\":\"Cluster 0\",\"notched\":true,\"offsetgroup\":\"Cluster 0\",\"showlegend\":false,\"x\":[42,54,52,79,73,77,42,47,54,92,52,46,61,54,61,29,50,60,65,41,42,77,56,81,59,81,76,99,55,41,98,92,57,59,73,94],\"xaxis\":\"x2\",\"yaxis\":\"y2\",\"type\":\"box\"},{\"alignmentgroup\":\"True\",\"bingroup\":\"x\",\"hovertemplate\":\"Cluster=Cluster 1<br>ScoreGastoMall=%{x}<br>count=%{y}<extra></extra>\",\"legendgroup\":\"Cluster 1\",\"marker\":{\"color\":\"#EF553B\",\"opacity\":0.7,\"pattern\":{\"shape\":\"\"}},\"name\":\"Cluster 1\",\"offsetgroup\":\"Cluster 1\",\"orientation\":\"v\",\"showlegend\":true,\"x\":[46,56,48,43,49,55,48,55,58,45,46,36,52,40,46,59,56,53,42,52,42,52,57,51,46,43,40,29,51,59,50,42,32,44,47,50,56,41,46,35,50,28,58,47,42,43],\"xaxis\":\"x\",\"yaxis\":\"y\",\"type\":\"histogram\"},{\"alignmentgroup\":\"True\",\"customdata\":[[69,44,\"Cluster 1\"],[49,62,\"Cluster 1\"],[66,63,\"Cluster 1\"],[63,65,\"Cluster 1\"],[48,60,\"Cluster 1\"],[50,40,\"Cluster 1\"],[49,62,\"Cluster 1\"],[68,59,\"Cluster 1\"],[55,57,\"Cluster 1\"],[50,43,\"Cluster 1\"],[50,58,\"Cluster 1\"],[48,39,\"Cluster 1\"],[67,47,\"Cluster 1\"],[38,67,\"Cluster 1\"],[53,46,\"Cluster 1\"],[67,62,\"Cluster 1\"],[60,50,\"Cluster 1\"],[45,54,\"Cluster 1\"],[38,64,\"Cluster 1\"],[49,42,\"Cluster 1\"],[32,60,\"Cluster 1\"],[65,63,\"Cluster 1\"],[50,67,\"Cluster 1\"],[63,48,\"Cluster 1\"],[48,54,\"Cluster 1\"],[68,63,\"Cluster 1\"],[40,60,\"Cluster 1\"],[52,23,\"Cluster 1\"],[57,54,\"Cluster 1\"],[54,47,\"Cluster 1\"],[66,63,\"Cluster 1\"],[47,49,\"Cluster 1\"],[45,28,\"Cluster 1\"],[46,54,\"Cluster 1\"],[59,54,\"Cluster 1\"],[43,48,\"Cluster 1\"],[70,46,\"Cluster 1\"],[47,43,\"Cluster 1\"],[54,63,\"Cluster 1\"],[65,38,\"Cluster 1\"],[51,44,\"Cluster 1\"],[49,39,\"Cluster 1\"],[40,69,\"Cluster 1\"],[47,60,\"Cluster 1\"],[48,61,\"Cluster 1\"],[51,67,\"Cluster 1\"]],\"hovertemplate\":\"Cluster=%{customdata[2]}<br>ScoreGastoMall=%{x}<br>Edad=%{customdata[0]}<br>IngresoAnual=%{customdata[1]}<extra></extra>\",\"legendgroup\":\"Cluster 1\",\"marker\":{\"color\":\"#EF553B\"},\"name\":\"Cluster 1\",\"notched\":true,\"offsetgroup\":\"Cluster 1\",\"showlegend\":false,\"x\":[46,56,48,43,49,55,48,55,58,45,46,36,52,40,46,59,56,53,42,52,42,52,57,51,46,43,40,29,51,59,50,42,32,44,47,50,56,41,46,35,50,28,58,47,42,43],\"xaxis\":\"x2\",\"yaxis\":\"y2\",\"type\":\"box\"},{\"alignmentgroup\":\"True\",\"bingroup\":\"x\",\"hovertemplate\":\"Cluster=Cluster 2<br>ScoreGastoMall=%{x}<br>count=%{y}<extra></extra>\",\"legendgroup\":\"Cluster 2\",\"marker\":{\"color\":\"#00cc96\",\"opacity\":0.7,\"pattern\":{\"shape\":\"\"}},\"name\":\"Cluster 2\",\"offsetgroup\":\"Cluster 2\",\"orientation\":\"v\",\"showlegend\":true,\"x\":[28,14,18,12,5,1,26,17,35,9,27,36,5,13,35,15,16,39,20,24,1,10,32,7,16],\"xaxis\":\"x\",\"yaxis\":\"y\",\"type\":\"histogram\"},{\"alignmentgroup\":\"True\",\"customdata\":[[45,126,\"Cluster 2\"],[59,93,\"Cluster 2\"],[32,137,\"Cluster 2\"],[25,77,\"Cluster 2\"],[20,73,\"Cluster 2\"],[34,78,\"Cluster 2\"],[50,85,\"Cluster 2\"],[43,78,\"Cluster 2\"],[43,71,\"Cluster 2\"],[47,71,\"Cluster 2\"],[36,87,\"Cluster 2\"],[48,77,\"Cluster 2\"],[19,81,\"Cluster 2\"],[40,87,\"Cluster 2\"],[56,79,\"Cluster 2\"],[46,98,\"Cluster 2\"],[47,120,\"Cluster 2\"],[41,99,\"Cluster 2\"],[44,78,\"Cluster 2\"],[54,101,\"Cluster 2\"],[37,78,\"Cluster 2\"],[19,74,\"Cluster 2\"],[37,97,\"Cluster 2\"],[44,73,\"Cluster 2\"],[47,78,\"Cluster 2\"]],\"hovertemplate\":\"Cluster=%{customdata[2]}<br>ScoreGastoMall=%{x}<br>Edad=%{customdata[0]}<br>IngresoAnual=%{customdata[1]}<extra></extra>\",\"legendgroup\":\"Cluster 2\",\"marker\":{\"color\":\"#00cc96\"},\"name\":\"Cluster 2\",\"notched\":true,\"offsetgroup\":\"Cluster 2\",\"showlegend\":false,\"x\":[28,14,18,12,5,1,26,17,35,9,27,36,5,13,35,15,16,39,20,24,1,10,32,7,16],\"xaxis\":\"x2\",\"yaxis\":\"y2\",\"type\":\"box\"},{\"alignmentgroup\":\"True\",\"bingroup\":\"x\",\"hovertemplate\":\"Cluster=Cluster 3<br>ScoreGastoMall=%{x}<br>count=%{y}<extra></extra>\",\"legendgroup\":\"Cluster 3\",\"marker\":{\"color\":\"#ab63fa\",\"opacity\":0.7,\"pattern\":{\"shape\":\"\"}},\"name\":\"Cluster 3\",\"offsetgroup\":\"Cluster 3\",\"orientation\":\"v\",\"showlegend\":true,\"x\":[83,75,88,97,73,89,69,91,90,77,88,76,75,68,87,79,97,90,74,93,69,86,72,86,85,95,93,75,83,73],\"xaxis\":\"x\",\"yaxis\":\"y\",\"type\":\"histogram\"},{\"alignmentgroup\":\"True\",\"customdata\":[[30,137,\"Cluster 3\"],[28,87,\"Cluster 3\"],[29,98,\"Cluster 3\"],[28,77,\"Cluster 3\"],[30,78,\"Cluster 3\"],[27,78,\"Cluster 3\"],[27,88,\"Cluster 3\"],[39,69,\"Cluster 3\"],[35,93,\"Cluster 3\"],[31,70,\"Cluster 3\"],[29,73,\"Cluster 3\"],[38,78,\"Cluster 3\"],[38,71,\"Cluster 3\"],[28,101,\"Cluster 3\"],[32,76,\"Cluster 3\"],[35,120,\"Cluster 3\"],[30,99,\"Cluster 3\"],[34,78,\"Cluster 3\"],[32,126,\"Cluster 3\"],[32,75,\"Cluster 3\"],[32,103,\"Cluster 3\"],[30,88,\"Cluster 3\"],[35,74,\"Cluster 3\"],[32,97,\"Cluster 3\"],[36,103,\"Cluster 3\"],[33,86,\"Cluster 3\"],[31,81,\"Cluster 3\"],[39,71,\"Cluster 3\"],[29,79,\"Cluster 3\"],[32,73,\"Cluster 3\"]],\"hovertemplate\":\"Cluster=%{customdata[2]}<br>ScoreGastoMall=%{x}<br>Edad=%{customdata[0]}<br>IngresoAnual=%{customdata[1]}<extra></extra>\",\"legendgroup\":\"Cluster 3\",\"marker\":{\"color\":\"#ab63fa\"},\"name\":\"Cluster 3\",\"notched\":true,\"offsetgroup\":\"Cluster 3\",\"showlegend\":false,\"x\":[83,75,88,97,73,89,69,91,90,77,88,76,75,68,87,79,97,90,74,93,69,86,72,86,85,95,93,75,83,73],\"xaxis\":\"x2\",\"yaxis\":\"y2\",\"type\":\"box\"},{\"alignmentgroup\":\"True\",\"bingroup\":\"x\",\"hovertemplate\":\"Cluster=Cluster 4<br>ScoreGastoMall=%{x}<br>count=%{y}<extra></extra>\",\"legendgroup\":\"Cluster 4\",\"marker\":{\"color\":\"#FFA15A\",\"opacity\":0.7,\"pattern\":{\"shape\":\"\"}},\"name\":\"Cluster 4\",\"offsetgroup\":\"Cluster 4\",\"orientation\":\"v\",\"showlegend\":true,\"x\":[4,14,15,35,6,14,6,39,40,5,35,13,3],\"xaxis\":\"x\",\"yaxis\":\"y\",\"type\":\"histogram\"},{\"alignmentgroup\":\"True\",\"customdata\":[[60,30,\"Cluster 4\"],[54,28,\"Cluster 4\"],[58,20,\"Cluster 4\"],[35,24,\"Cluster 4\"],[20,16,\"Cluster 4\"],[67,19,\"Cluster 4\"],[35,18,\"Cluster 4\"],[19,15,\"Cluster 4\"],[31,17,\"Cluster 4\"],[46,25,\"Cluster 4\"],[35,21,\"Cluster 4\"],[37,20,\"Cluster 4\"],[64,19,\"Cluster 4\"]],\"hovertemplate\":\"Cluster=%{customdata[2]}<br>ScoreGastoMall=%{x}<br>Edad=%{customdata[0]}<br>IngresoAnual=%{customdata[1]}<extra></extra>\",\"legendgroup\":\"Cluster 4\",\"marker\":{\"color\":\"#FFA15A\"},\"name\":\"Cluster 4\",\"notched\":true,\"offsetgroup\":\"Cluster 4\",\"showlegend\":false,\"x\":[4,14,15,35,6,14,6,39,40,5,35,13,3],\"xaxis\":\"x2\",\"yaxis\":\"y2\",\"type\":\"box\"}],                        {\"template\":{\"data\":{\"bar\":[{\"error_x\":{\"color\":\"#2a3f5f\"},\"error_y\":{\"color\":\"#2a3f5f\"},\"marker\":{\"line\":{\"color\":\"#E5ECF6\",\"width\":0.5},\"pattern\":{\"fillmode\":\"overlay\",\"size\":10,\"solidity\":0.2}},\"type\":\"bar\"}],\"barpolar\":[{\"marker\":{\"line\":{\"color\":\"#E5ECF6\",\"width\":0.5},\"pattern\":{\"fillmode\":\"overlay\",\"size\":10,\"solidity\":0.2}},\"type\":\"barpolar\"}],\"carpet\":[{\"aaxis\":{\"endlinecolor\":\"#2a3f5f\",\"gridcolor\":\"white\",\"linecolor\":\"white\",\"minorgridcolor\":\"white\",\"startlinecolor\":\"#2a3f5f\"},\"baxis\":{\"endlinecolor\":\"#2a3f5f\",\"gridcolor\":\"white\",\"linecolor\":\"white\",\"minorgridcolor\":\"white\",\"startlinecolor\":\"#2a3f5f\"},\"type\":\"carpet\"}],\"choropleth\":[{\"colorbar\":{\"outlinewidth\":0,\"ticks\":\"\"},\"type\":\"choropleth\"}],\"contour\":[{\"colorbar\":{\"outlinewidth\":0,\"ticks\":\"\"},\"colorscale\":[[0.0,\"#0d0887\"],[0.1111111111111111,\"#46039f\"],[0.2222222222222222,\"#7201a8\"],[0.3333333333333333,\"#9c179e\"],[0.4444444444444444,\"#bd3786\"],[0.5555555555555556,\"#d8576b\"],[0.6666666666666666,\"#ed7953\"],[0.7777777777777778,\"#fb9f3a\"],[0.8888888888888888,\"#fdca26\"],[1.0,\"#f0f921\"]],\"type\":\"contour\"}],\"contourcarpet\":[{\"colorbar\":{\"outlinewidth\":0,\"ticks\":\"\"},\"type\":\"contourcarpet\"}],\"heatmap\":[{\"colorbar\":{\"outlinewidth\":0,\"ticks\":\"\"},\"colorscale\":[[0.0,\"#0d0887\"],[0.1111111111111111,\"#46039f\"],[0.2222222222222222,\"#7201a8\"],[0.3333333333333333,\"#9c179e\"],[0.4444444444444444,\"#bd3786\"],[0.5555555555555556,\"#d8576b\"],[0.6666666666666666,\"#ed7953\"],[0.7777777777777778,\"#fb9f3a\"],[0.8888888888888888,\"#fdca26\"],[1.0,\"#f0f921\"]],\"type\":\"heatmap\"}],\"heatmapgl\":[{\"colorbar\":{\"outlinewidth\":0,\"ticks\":\"\"},\"colorscale\":[[0.0,\"#0d0887\"],[0.1111111111111111,\"#46039f\"],[0.2222222222222222,\"#7201a8\"],[0.3333333333333333,\"#9c179e\"],[0.4444444444444444,\"#bd3786\"],[0.5555555555555556,\"#d8576b\"],[0.6666666666666666,\"#ed7953\"],[0.7777777777777778,\"#fb9f3a\"],[0.8888888888888888,\"#fdca26\"],[1.0,\"#f0f921\"]],\"type\":\"heatmapgl\"}],\"histogram\":[{\"marker\":{\"pattern\":{\"fillmode\":\"overlay\",\"size\":10,\"solidity\":0.2}},\"type\":\"histogram\"}],\"histogram2d\":[{\"colorbar\":{\"outlinewidth\":0,\"ticks\":\"\"},\"colorscale\":[[0.0,\"#0d0887\"],[0.1111111111111111,\"#46039f\"],[0.2222222222222222,\"#7201a8\"],[0.3333333333333333,\"#9c179e\"],[0.4444444444444444,\"#bd3786\"],[0.5555555555555556,\"#d8576b\"],[0.6666666666666666,\"#ed7953\"],[0.7777777777777778,\"#fb9f3a\"],[0.8888888888888888,\"#fdca26\"],[1.0,\"#f0f921\"]],\"type\":\"histogram2d\"}],\"histogram2dcontour\":[{\"colorbar\":{\"outlinewidth\":0,\"ticks\":\"\"},\"colorscale\":[[0.0,\"#0d0887\"],[0.1111111111111111,\"#46039f\"],[0.2222222222222222,\"#7201a8\"],[0.3333333333333333,\"#9c179e\"],[0.4444444444444444,\"#bd3786\"],[0.5555555555555556,\"#d8576b\"],[0.6666666666666666,\"#ed7953\"],[0.7777777777777778,\"#fb9f3a\"],[0.8888888888888888,\"#fdca26\"],[1.0,\"#f0f921\"]],\"type\":\"histogram2dcontour\"}],\"mesh3d\":[{\"colorbar\":{\"outlinewidth\":0,\"ticks\":\"\"},\"type\":\"mesh3d\"}],\"parcoords\":[{\"line\":{\"colorbar\":{\"outlinewidth\":0,\"ticks\":\"\"}},\"type\":\"parcoords\"}],\"pie\":[{\"automargin\":true,\"type\":\"pie\"}],\"scatter\":[{\"marker\":{\"colorbar\":{\"outlinewidth\":0,\"ticks\":\"\"}},\"type\":\"scatter\"}],\"scatter3d\":[{\"line\":{\"colorbar\":{\"outlinewidth\":0,\"ticks\":\"\"}},\"marker\":{\"colorbar\":{\"outlinewidth\":0,\"ticks\":\"\"}},\"type\":\"scatter3d\"}],\"scattercarpet\":[{\"marker\":{\"colorbar\":{\"outlinewidth\":0,\"ticks\":\"\"}},\"type\":\"scattercarpet\"}],\"scattergeo\":[{\"marker\":{\"colorbar\":{\"outlinewidth\":0,\"ticks\":\"\"}},\"type\":\"scattergeo\"}],\"scattergl\":[{\"marker\":{\"colorbar\":{\"outlinewidth\":0,\"ticks\":\"\"}},\"type\":\"scattergl\"}],\"scattermapbox\":[{\"marker\":{\"colorbar\":{\"outlinewidth\":0,\"ticks\":\"\"}},\"type\":\"scattermapbox\"}],\"scatterpolar\":[{\"marker\":{\"colorbar\":{\"outlinewidth\":0,\"ticks\":\"\"}},\"type\":\"scatterpolar\"}],\"scatterpolargl\":[{\"marker\":{\"colorbar\":{\"outlinewidth\":0,\"ticks\":\"\"}},\"type\":\"scatterpolargl\"}],\"scatterternary\":[{\"marker\":{\"colorbar\":{\"outlinewidth\":0,\"ticks\":\"\"}},\"type\":\"scatterternary\"}],\"surface\":[{\"colorbar\":{\"outlinewidth\":0,\"ticks\":\"\"},\"colorscale\":[[0.0,\"#0d0887\"],[0.1111111111111111,\"#46039f\"],[0.2222222222222222,\"#7201a8\"],[0.3333333333333333,\"#9c179e\"],[0.4444444444444444,\"#bd3786\"],[0.5555555555555556,\"#d8576b\"],[0.6666666666666666,\"#ed7953\"],[0.7777777777777778,\"#fb9f3a\"],[0.8888888888888888,\"#fdca26\"],[1.0,\"#f0f921\"]],\"type\":\"surface\"}],\"table\":[{\"cells\":{\"fill\":{\"color\":\"#EBF0F8\"},\"line\":{\"color\":\"white\"}},\"header\":{\"fill\":{\"color\":\"#C8D4E3\"},\"line\":{\"color\":\"white\"}},\"type\":\"table\"}]},\"layout\":{\"annotationdefaults\":{\"arrowcolor\":\"#2a3f5f\",\"arrowhead\":0,\"arrowwidth\":1},\"autotypenumbers\":\"strict\",\"coloraxis\":{\"colorbar\":{\"outlinewidth\":0,\"ticks\":\"\"}},\"colorscale\":{\"diverging\":[[0,\"#8e0152\"],[0.1,\"#c51b7d\"],[0.2,\"#de77ae\"],[0.3,\"#f1b6da\"],[0.4,\"#fde0ef\"],[0.5,\"#f7f7f7\"],[0.6,\"#e6f5d0\"],[0.7,\"#b8e186\"],[0.8,\"#7fbc41\"],[0.9,\"#4d9221\"],[1,\"#276419\"]],\"sequential\":[[0.0,\"#0d0887\"],[0.1111111111111111,\"#46039f\"],[0.2222222222222222,\"#7201a8\"],[0.3333333333333333,\"#9c179e\"],[0.4444444444444444,\"#bd3786\"],[0.5555555555555556,\"#d8576b\"],[0.6666666666666666,\"#ed7953\"],[0.7777777777777778,\"#fb9f3a\"],[0.8888888888888888,\"#fdca26\"],[1.0,\"#f0f921\"]],\"sequentialminus\":[[0.0,\"#0d0887\"],[0.1111111111111111,\"#46039f\"],[0.2222222222222222,\"#7201a8\"],[0.3333333333333333,\"#9c179e\"],[0.4444444444444444,\"#bd3786\"],[0.5555555555555556,\"#d8576b\"],[0.6666666666666666,\"#ed7953\"],[0.7777777777777778,\"#fb9f3a\"],[0.8888888888888888,\"#fdca26\"],[1.0,\"#f0f921\"]]},\"colorway\":[\"#636efa\",\"#EF553B\",\"#00cc96\",\"#ab63fa\",\"#FFA15A\",\"#19d3f3\",\"#FF6692\",\"#B6E880\",\"#FF97FF\",\"#FECB52\"],\"font\":{\"color\":\"#2a3f5f\"},\"geo\":{\"bgcolor\":\"white\",\"lakecolor\":\"white\",\"landcolor\":\"#E5ECF6\",\"showlakes\":true,\"showland\":true,\"subunitcolor\":\"white\"},\"hoverlabel\":{\"align\":\"left\"},\"hovermode\":\"closest\",\"mapbox\":{\"style\":\"light\"},\"paper_bgcolor\":\"white\",\"plot_bgcolor\":\"#E5ECF6\",\"polar\":{\"angularaxis\":{\"gridcolor\":\"white\",\"linecolor\":\"white\",\"ticks\":\"\"},\"bgcolor\":\"#E5ECF6\",\"radialaxis\":{\"gridcolor\":\"white\",\"linecolor\":\"white\",\"ticks\":\"\"}},\"scene\":{\"xaxis\":{\"backgroundcolor\":\"#E5ECF6\",\"gridcolor\":\"white\",\"gridwidth\":2,\"linecolor\":\"white\",\"showbackground\":true,\"ticks\":\"\",\"zerolinecolor\":\"white\"},\"yaxis\":{\"backgroundcolor\":\"#E5ECF6\",\"gridcolor\":\"white\",\"gridwidth\":2,\"linecolor\":\"white\",\"showbackground\":true,\"ticks\":\"\",\"zerolinecolor\":\"white\"},\"zaxis\":{\"backgroundcolor\":\"#E5ECF6\",\"gridcolor\":\"white\",\"gridwidth\":2,\"linecolor\":\"white\",\"showbackground\":true,\"ticks\":\"\",\"zerolinecolor\":\"white\"}},\"shapedefaults\":{\"line\":{\"color\":\"#2a3f5f\"}},\"ternary\":{\"aaxis\":{\"gridcolor\":\"white\",\"linecolor\":\"white\",\"ticks\":\"\"},\"baxis\":{\"gridcolor\":\"white\",\"linecolor\":\"white\",\"ticks\":\"\"},\"bgcolor\":\"#E5ECF6\",\"caxis\":{\"gridcolor\":\"white\",\"linecolor\":\"white\",\"ticks\":\"\"}},\"title\":{\"x\":0.05},\"xaxis\":{\"automargin\":true,\"gridcolor\":\"white\",\"linecolor\":\"white\",\"ticks\":\"\",\"title\":{\"standoff\":15},\"zerolinecolor\":\"white\",\"zerolinewidth\":2},\"yaxis\":{\"automargin\":true,\"gridcolor\":\"white\",\"linecolor\":\"white\",\"ticks\":\"\",\"title\":{\"standoff\":15},\"zerolinecolor\":\"white\",\"zerolinewidth\":2}}},\"xaxis\":{\"anchor\":\"y\",\"domain\":[0.0,1.0],\"title\":{\"text\":\"ScoreGastoMall\"}},\"yaxis\":{\"anchor\":\"x\",\"domain\":[0.0,0.7326],\"title\":{\"text\":\"count\"}},\"xaxis2\":{\"anchor\":\"y2\",\"domain\":[0.0,1.0],\"matches\":\"x\",\"showticklabels\":false,\"showgrid\":true},\"yaxis2\":{\"anchor\":\"x2\",\"domain\":[0.7426,1.0],\"matches\":\"y2\",\"showticklabels\":false,\"showline\":false,\"ticks\":\"\",\"showgrid\":false},\"legend\":{\"title\":{\"text\":\"Cluster\"},\"tracegroupgap\":0},\"margin\":{\"t\":60},\"barmode\":\"relative\",\"height\":600},                        {\"responsive\": true}                    ).then(function(){\n",
              "                            \n",
              "var gd = document.getElementById('2e4317ee-e3f7-4daa-aa75-514c91480ffa');\n",
              "var x = new MutationObserver(function (mutations, observer) {{\n",
              "        var display = window.getComputedStyle(gd).display;\n",
              "        if (!display || display === 'none') {{\n",
              "            console.log([gd, 'removed!']);\n",
              "            Plotly.purge(gd);\n",
              "            observer.disconnect();\n",
              "        }}\n",
              "}});\n",
              "\n",
              "// Listen for the removal of the full notebook cells\n",
              "var notebookContainer = gd.closest('#notebook-container');\n",
              "if (notebookContainer) {{\n",
              "    x.observe(notebookContainer, {childList: true});\n",
              "}}\n",
              "\n",
              "// Listen for the clearing of the current output cell\n",
              "var outputEl = gd.closest('.output');\n",
              "if (outputEl) {{\n",
              "    x.observe(outputEl, {childList: true});\n",
              "}}\n",
              "\n",
              "                        })                };                            </script>        </div>\n",
              "</body>\n",
              "</html>"
            ]
          },
          "metadata": {}
        }
      ],
      "source": [
        "plot_model(hierarchicalModel, plot = 'distribution', feature = 'ScoreGastoMall')"
      ]
    },
    {
      "cell_type": "code",
      "source": [
        "\n",
        "#Bloxplots para comparar edad, ingreso y score de gasto en el mall de cada cluster\n",
        "fig, axes = plt.subplots(1, 3, figsize=(20,10))\n",
        "ax = sns.boxplot(ax=axes[0], x=\"Cluster\", y=\"Edad\", data=hierarchicalModel_resultados)\n",
        "ax.title.set_text('Edad en todos los clusters')\n",
        "ax2 = sns.boxplot(ax=axes[1], x=\"Cluster\", y=\"IngresoAnual\", data=hierarchicalModel_resultados)\n",
        "ax2.title.set_text('Ingreso en todos los clusters')\n",
        "ax3 = sns.boxplot(ax=axes[2], x=\"Cluster\", y=\"ScoreGastoMall\", data=hierarchicalModel_resultados)\n",
        "ax3.title.set_text('Score de Gasto en Mall en todos los clusters')\n",
        "plt.show()"
      ],
      "metadata": {
        "colab": {
          "base_uri": "https://localhost:8080/",
          "height": 620
        },
        "id": "ygzxZfHBcY1H",
        "outputId": "e670863e-40cb-4f35-d614-24d7cd7f116c"
      },
      "execution_count": 65,
      "outputs": [
        {
          "output_type": "display_data",
          "data": {
            "text/plain": [
              "<Figure size 1440x720 with 3 Axes>"
            ],
            "image/png": "[encoded data removed]"
          },
          "metadata": {
            "needs_background": "light"
          }
        }
      ]
    },
    {
      "cell_type": "markdown",
      "source": [
        "# **Conclusiones**"
      ],
      "metadata": {
        "id": "zhIc02pUFFXT"
      }
    },
    {
      "cell_type": "markdown",
      "source": [
        "De los clusters obtenidos y los graficos descriptivos podemos concluir que existen 5 grupos de clientes para los cuales podriamos generar diferentes campañas."
      ],
      "metadata": {
        "id": "wCSStfvsbBN1"
      }
    },
    {
      "cell_type": "markdown",
      "source": [
        "**Top 5 clientes** basados en el score de gastos en el mall"
      ],
      "metadata": {
        "id": "os7yme0-eNUH"
      }
    },
    {
      "cell_type": "markdown",
      "source": [
        "1.   Cluster 3 (30 personas - 20%)\n",
        "2.   Cluster 0 (36 personas - 24%)\n",
        "3.   Cluster 1 (46 personas - 30%)\n",
        "4.   Cluster 2 (25 personas - 17%)\n",
        "5.   Cluster 4 (13 personas - 9%)"
      ],
      "metadata": {
        "id": "LrNJpPlTeYnB"
      }
    },
    {
      "cell_type": "markdown",
      "source": [
        "Tamaño de nuestra muestra : 150"
      ],
      "metadata": {
        "id": "1QfFAIrix4is"
      }
    },
    {
      "cell_type": "markdown",
      "source": [
        "Basandome en la informacion recopilada sobre los clusters me parece razonable centrarnos mas en el cluster que evalua el score de gastos en el mall y no por ejemplo en el de edades ya que si bien podriamos basarnos en la media de edades, al hacer esto quedaria mucha gente mal categorizada para las ofertas segun sus score de gastos, basta comparar el cluster 0 y 2 para darnos cuenta de esto."
      ],
      "metadata": {
        "id": "WXh8hfd9hQlM"
      }
    },
    {
      "cell_type": "markdown",
      "source": [
        "El cluster 3, nuestro mejores clientes, los que tienen los score de gastos mas altos en el mall, su gasto condice con su nivel de ingreso alto. Sabemos que estas personas tienen poder adquisitivo por lo cual podriamos enviarles descuentos mas frecuentes para seguir motivando el gasto en nuestro mall. Al mismo tiempo podemos destacar que son personas entre 27 y 37 años. Seria bueno tener informacion acerca de su composicion familiar para asi poder enfocar mas las campañas y dividir entre personas con hijos y sin hijos."
      ],
      "metadata": {
        "id": "4QtLJJEujDPO"
      }
    },
    {
      "cell_type": "markdown",
      "source": [
        "El cluster 0, se destaca que son nuestros clientes mas jovenes entre 20 y 30 años con ingreso de nivel medio, son nuestros segundos mejor consumidores."
      ],
      "metadata": {
        "id": "xP9SfhlKjoKC"
      }
    },
    {
      "cell_type": "markdown",
      "source": [
        "El cluster 1, es nuestro grupo de mayor edad entre nuestros clientes, su ingreso es medio y son nuestro tercer mejores compradores. Representan el grupo de mayor porcentaje dentro de nuestra muestra, tienen un ingreso medio que concuerda con su score en gastos del mall. Al ser el cluster mas grande entre nuestros clientes, me parece importante obtener mas informacion sobre sus habitos de compra para poder brindarles un mejor servicio."
      ],
      "metadata": {
        "id": "iuY4ZJL30Ct2"
      }
    },
    {
      "cell_type": "markdown",
      "source": [
        "El cluster 2, debemos destacar que son personas con alta capacidad adquisitiva ya que sus salarios son altos, esto nos da a entender que una campaña bien enfocada en este grupo podria asegurarnos mejores score de gastos en el mall y compararse con el cluster 3 que esta en primera posicion."
      ],
      "metadata": {
        "id": "WSqaXG1Ii56G"
      }
    },
    {
      "cell_type": "markdown",
      "source": [
        "El cluster 4 sera un desafio, ya que tenemos edades diversas, aconsejaria centrarnos en las personas con bajos ingresos entre 15000 y 25 aproximadamente, seria bueno que tengan acceso a mejores descuentos para mantener su fidelidad."
      ],
      "metadata": {
        "id": "5W91eHoW1cKX"
      }
    },
    {
      "cell_type": "markdown",
      "source": [
        "Seria bueno conseguir mas informacion acerca de que productos son consumidos por estos cluster ya que nos ayudara a ofrecerles un mejor servicio que mantenga constante su consumo."
      ],
      "metadata": {
        "id": "ioWQRHYHhFIH"
      }
    },
    {
      "cell_type": "markdown",
      "source": [
        "# **Finalizando y guardando nuestro modelo**"
      ],
      "metadata": {
        "id": "uqktfzEQ11QG"
      }
    },
    {
      "cell_type": "code",
      "source": [
        "save_model(hierarchicalModel, \"clustering_modelo_01\")"
      ],
      "metadata": {
        "colab": {
          "base_uri": "https://localhost:8080/"
        },
        "id": "xhL9VbPu3GZ7",
        "outputId": "b54fcfc1-4c92-4956-e639-d735e2ab040b"
      },
      "execution_count": 69,
      "outputs": [
        {
          "output_type": "stream",
          "name": "stdout",
          "text": [
            "Transformation Pipeline and Model Successfully Saved\n"
          ]
        },
        {
          "output_type": "execute_result",
          "data": {
            "text/plain": [
              "(Pipeline(memory=Memory(location=/tmp/joblib),\n",
              "          steps=[('numerical_imputer',\n",
              "                  TransformerWrapper(include=['Edad', 'IngresoAnual',\n",
              "                                              'ScoreGastoMall'],\n",
              "                                     transformer=SimpleImputer())),\n",
              "                 ('categorical_imputer',\n",
              "                  TransformerWrapper(include=[],\n",
              "                                     transformer=SimpleImputer(fill_value='constant',\n",
              "                                                               strategy='constant'))),\n",
              "                 ('low_variance',\n",
              "                  TransformerWrapper(exclude=[],\n",
              "                                     transformer=VarianceThreshold(threshold=0))),\n",
              "                 ('normalize', TransformerWrapper(transformer=StandardScaler())),\n",
              "                 ('trained_model', AgglomerativeClustering(n_clusters=5))]),\n",
              " 'clustering_modelo_01.pkl')"
            ]
          },
          "metadata": {},
          "execution_count": 69
        }
      ]
    }
  ],
  "metadata": {
    "colab": {
      "collapsed_sections": [],
      "provenance": [],
      "include_colab_link": true
    },
    "kernelspec": {
      "display_name": "Python 3",
      "name": "python3"
    },
    "widgets": {
      "application/vnd.jupyter.widget-state+json": {
        "c60a4442e1ef44c49ee9208d8de9b81b": {
          "model_module": "@jupyter-widgets/controls",
          "model_name": "HBoxModel",
          "model_module_version": "1.5.0",
          "state": {
            "_dom_classes": [],
            "_model_module": "@jupyter-widgets/controls",
            "_model_module_version": "1.5.0",
            "_model_name": "HBoxModel",
            "_view_count": null,
            "_view_module": "@jupyter-widgets/controls",
            "_view_module_version": "1.5.0",
            "_view_name": "HBoxView",
            "box_style": "",
            "children": [
              "IPY_MODEL_7ba5c534f86144bb9fc10b16d9cb8a69",
              "IPY_MODEL_33616b984d93445da383d974bb89fa5a",
              "IPY_MODEL_f5306639b00848aebe104a52f610e7c9"
            ],
            "layout": "IPY_MODEL_3f574fe32aa84e1ba5ddd4d75e7ed278"
          }
        },
        "7ba5c534f86144bb9fc10b16d9cb8a69": {
          "model_module": "@jupyter-widgets/controls",
          "model_name": "HTMLModel",
          "model_module_version": "1.5.0",
          "state": {
            "_dom_classes": [],
            "_model_module": "@jupyter-widgets/controls",
            "_model_module_version": "1.5.0",
            "_model_name": "HTMLModel",
            "_view_count": null,
            "_view_module": "@jupyter-widgets/controls",
            "_view_module_version": "1.5.0",
            "_view_name": "HTMLView",
            "description": "",
            "description_tooltip": null,
            "layout": "IPY_MODEL_0c15b7f4a8b944fe8cc484ec7bf28c46",
            "placeholder": "​",
            "style": "IPY_MODEL_c7d06af8e4d64fb18c6fb98600e28c1c",
            "value": "Processing:   0%"
          }
        },
        "33616b984d93445da383d974bb89fa5a": {
          "model_module": "@jupyter-widgets/controls",
          "model_name": "FloatProgressModel",
          "model_module_version": "1.5.0",
          "state": {
            "_dom_classes": [],
            "_model_module": "@jupyter-widgets/controls",
            "_model_module_version": "1.5.0",
            "_model_name": "FloatProgressModel",
            "_view_count": null,
            "_view_module": "@jupyter-widgets/controls",
            "_view_module_version": "1.5.0",
            "_view_name": "ProgressView",
            "bar_style": "",
            "description": "",
            "description_tooltip": null,
            "layout": "IPY_MODEL_ac522f3e7bfa4ab5b9c19273879f74ae",
            "max": 3,
            "min": 0,
            "orientation": "horizontal",
            "style": "IPY_MODEL_c5960e5d36fb42468645ed3a6c73d4c4",
            "value": 3
          }
        },
        "f5306639b00848aebe104a52f610e7c9": {
          "model_module": "@jupyter-widgets/controls",
          "model_name": "HTMLModel",
          "model_module_version": "1.5.0",
          "state": {
            "_dom_classes": [],
            "_model_module": "@jupyter-widgets/controls",
            "_model_module_version": "1.5.0",
            "_model_name": "HTMLModel",
            "_view_count": null,
            "_view_module": "@jupyter-widgets/controls",
            "_view_module_version": "1.5.0",
            "_view_name": "HTMLView",
            "description": "",
            "description_tooltip": null,
            "layout": "IPY_MODEL_6bbdea43b8704906871df7295747382d",
            "placeholder": "​",
            "style": "IPY_MODEL_9ff622a8d3124bea91c94eb8a7919aaf",
            "value": " 0/3 [00:00&lt;?, ?it/s]"
          }
        },
        "3f574fe32aa84e1ba5ddd4d75e7ed278": {
          "model_module": "@jupyter-widgets/base",
          "model_name": "LayoutModel",
          "model_module_version": "1.2.0",
          "state": {
            "_model_module": "@jupyter-widgets/base",
            "_model_module_version": "1.2.0",
            "_model_name": "LayoutModel",
            "_view_count": null,
            "_view_module": "@jupyter-widgets/base",
            "_view_module_version": "1.2.0",
            "_view_name": "LayoutView",
            "align_content": null,
            "align_items": null,
            "align_self": null,
            "border": null,
            "bottom": null,
            "display": null,
            "flex": null,
            "flex_flow": null,
            "grid_area": null,
            "grid_auto_columns": null,
            "grid_auto_flow": null,
            "grid_auto_rows": null,
            "grid_column": null,
            "grid_gap": null,
            "grid_row": null,
            "grid_template_areas": null,
            "grid_template_columns": null,
            "grid_template_rows": null,
            "height": null,
            "justify_content": null,
            "justify_items": null,
            "left": null,
            "margin": null,
            "max_height": null,
            "max_width": null,
            "min_height": null,
            "min_width": null,
            "object_fit": null,
            "object_position": null,
            "order": null,
            "overflow": null,
            "overflow_x": null,
            "overflow_y": null,
            "padding": null,
            "right": null,
            "top": null,
            "visibility": "hidden",
            "width": null
          }
        },
        "0c15b7f4a8b944fe8cc484ec7bf28c46": {
          "model_module": "@jupyter-widgets/base",
          "model_name": "LayoutModel",
          "model_module_version": "1.2.0",
          "state": {
            "_model_module": "@jupyter-widgets/base",
            "_model_module_version": "1.2.0",
            "_model_name": "LayoutModel",
            "_view_count": null,
            "_view_module": "@jupyter-widgets/base",
            "_view_module_version": "1.2.0",
            "_view_name": "LayoutView",
            "align_content": null,
            "align_items": null,
            "align_self": null,
            "border": null,
            "bottom": null,
            "display": null,
            "flex": null,
            "flex_flow": null,
            "grid_area": null,
            "grid_auto_columns": null,
            "grid_auto_flow": null,
            "grid_auto_rows": null,
            "grid_column": null,
            "grid_gap": null,
            "grid_row": null,
            "grid_template_areas": null,
            "grid_template_columns": null,
            "grid_template_rows": null,
            "height": null,
            "justify_content": null,
            "justify_items": null,
            "left": null,
            "margin": null,
            "max_height": null,
            "max_width": null,
            "min_height": null,
            "min_width": null,
            "object_fit": null,
            "object_position": null,
            "order": null,
            "overflow": null,
            "overflow_x": null,
            "overflow_y": null,
            "padding": null,
            "right": null,
            "top": null,
            "visibility": null,
            "width": null
          }
        },
        "c7d06af8e4d64fb18c6fb98600e28c1c": {
          "model_module": "@jupyter-widgets/controls",
          "model_name": "DescriptionStyleModel",
          "model_module_version": "1.5.0",
          "state": {
            "_model_module": "@jupyter-widgets/controls",
            "_model_module_version": "1.5.0",
            "_model_name": "DescriptionStyleModel",
            "_view_count": null,
            "_view_module": "@jupyter-widgets/base",
            "_view_module_version": "1.2.0",
            "_view_name": "StyleView",
            "description_width": ""
          }
        },
        "ac522f3e7bfa4ab5b9c19273879f74ae": {
          "model_module": "@jupyter-widgets/base",
          "model_name": "LayoutModel",
          "model_module_version": "1.2.0",
          "state": {
            "_model_module": "@jupyter-widgets/base",
            "_model_module_version": "1.2.0",
            "_model_name": "LayoutModel",
            "_view_count": null,
            "_view_module": "@jupyter-widgets/base",
            "_view_module_version": "1.2.0",
            "_view_name": "LayoutView",
            "align_content": null,
            "align_items": null,
            "align_self": null,
            "border": null,
            "bottom": null,
            "display": null,
            "flex": null,
            "flex_flow": null,
            "grid_area": null,
            "grid_auto_columns": null,
            "grid_auto_flow": null,
            "grid_auto_rows": null,
            "grid_column": null,
            "grid_gap": null,
            "grid_row": null,
            "grid_template_areas": null,
            "grid_template_columns": null,
            "grid_template_rows": null,
            "height": null,
            "justify_content": null,
            "justify_items": null,
            "left": null,
            "margin": null,
            "max_height": null,
            "max_width": null,
            "min_height": null,
            "min_width": null,
            "object_fit": null,
            "object_position": null,
            "order": null,
            "overflow": null,
            "overflow_x": null,
            "overflow_y": null,
            "padding": null,
            "right": null,
            "top": null,
            "visibility": null,
            "width": null
          }
        },
        "c5960e5d36fb42468645ed3a6c73d4c4": {
          "model_module": "@jupyter-widgets/controls",
          "model_name": "ProgressStyleModel",
          "model_module_version": "1.5.0",
          "state": {
            "_model_module": "@jupyter-widgets/controls",
            "_model_module_version": "1.5.0",
            "_model_name": "ProgressStyleModel",
            "_view_count": null,
            "_view_module": "@jupyter-widgets/base",
            "_view_module_version": "1.2.0",
            "_view_name": "StyleView",
            "bar_color": null,
            "description_width": ""
          }
        },
        "6bbdea43b8704906871df7295747382d": {
          "model_module": "@jupyter-widgets/base",
          "model_name": "LayoutModel",
          "model_module_version": "1.2.0",
          "state": {
            "_model_module": "@jupyter-widgets/base",
            "_model_module_version": "1.2.0",
            "_model_name": "LayoutModel",
            "_view_count": null,
            "_view_module": "@jupyter-widgets/base",
            "_view_module_version": "1.2.0",
            "_view_name": "LayoutView",
            "align_content": null,
            "align_items": null,
            "align_self": null,
            "border": null,
            "bottom": null,
            "display": null,
            "flex": null,
            "flex_flow": null,
            "grid_area": null,
            "grid_auto_columns": null,
            "grid_auto_flow": null,
            "grid_auto_rows": null,
            "grid_column": null,
            "grid_gap": null,
            "grid_row": null,
            "grid_template_areas": null,
            "grid_template_columns": null,
            "grid_template_rows": null,
            "height": null,
            "justify_content": null,
            "justify_items": null,
            "left": null,
            "margin": null,
            "max_height": null,
            "max_width": null,
            "min_height": null,
            "min_width": null,
            "object_fit": null,
            "object_position": null,
            "order": null,
            "overflow": null,
            "overflow_x": null,
            "overflow_y": null,
            "padding": null,
            "right": null,
            "top": null,
            "visibility": null,
            "width": null
          }
        },
        "9ff622a8d3124bea91c94eb8a7919aaf": {
          "model_module": "@jupyter-widgets/controls",
          "model_name": "DescriptionStyleModel",
          "model_module_version": "1.5.0",
          "state": {
            "_model_module": "@jupyter-widgets/controls",
            "_model_module_version": "1.5.0",
            "_model_name": "DescriptionStyleModel",
            "_view_count": null,
            "_view_module": "@jupyter-widgets/base",
            "_view_module_version": "1.2.0",
            "_view_name": "StyleView",
            "description_width": ""
          }
        },
        "a1b5321f2ac04717878cd9f7d0606d32": {
          "model_module": "@jupyter-widgets/controls",
          "model_name": "VBoxModel",
          "model_module_version": "1.5.0",
          "state": {
            "_dom_classes": [
              "widget-interact"
            ],
            "_model_module": "@jupyter-widgets/controls",
            "_model_module_version": "1.5.0",
            "_model_name": "VBoxModel",
            "_view_count": null,
            "_view_module": "@jupyter-widgets/controls",
            "_view_module_version": "1.5.0",
            "_view_name": "VBoxView",
            "box_style": "",
            "children": [
              "IPY_MODEL_6ea67dad85824e65bf8e2387beac1778",
              "IPY_MODEL_a170c47a921e4e48aec7b5e6af1c0573"
            ],
            "layout": "IPY_MODEL_c472531d28324cbbbaaca747732d63f3"
          }
        },
        "6ea67dad85824e65bf8e2387beac1778": {
          "model_module": "@jupyter-widgets/controls",
          "model_name": "ToggleButtonsModel",
          "model_module_version": "1.5.0",
          "state": {
            "_dom_classes": [],
            "_model_module": "@jupyter-widgets/controls",
            "_model_module_version": "1.5.0",
            "_model_name": "ToggleButtonsModel",
            "_options_labels": [
              "Pipeline Plot",
              "t-SNE (3d) Dimension Plot",
              "Cluster t-SNE (3d)",
              "Elbow Plot",
              "Silhouette Plot",
              "Distance Plot",
              "Distribution Plot"
            ],
            "_view_count": null,
            "_view_module": "@jupyter-widgets/controls",
            "_view_module_version": "1.5.0",
            "_view_name": "ToggleButtonsView",
            "button_style": "",
            "description": "Plot Type:",
            "description_tooltip": null,
            "disabled": false,
            "icons": [
              ""
            ],
            "index": 0,
            "layout": "IPY_MODEL_f8e5d712f49945cb8f1d7050d8468925",
            "style": "IPY_MODEL_f0f1559c9e9e4bdbad906edc06168e10",
            "tooltips": []
          }
        },
        "a170c47a921e4e48aec7b5e6af1c0573": {
          "model_module": "@jupyter-widgets/output",
          "model_name": "OutputModel",
          "model_module_version": "1.0.0",
          "state": {
            "_dom_classes": [],
            "_model_module": "@jupyter-widgets/output",
            "_model_module_version": "1.0.0",
            "_model_name": "OutputModel",
            "_view_count": null,
            "_view_module": "@jupyter-widgets/output",
            "_view_module_version": "1.0.0",
            "_view_name": "OutputView",
            "layout": "IPY_MODEL_0ca31869354f4254a5a45617c60f3124",
            "msg_id": "",
            "outputs": [
              {
                "output_type": "display_data",
                "data": {
                  "text/plain": "<Figure size 2200x600 with 1 Axes>",
                  "image/png": "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\n"
                },
                "metadata": {
                  "needs_background": "light"
                }
              }
            ]
          }
        },
        "c472531d28324cbbbaaca747732d63f3": {
          "model_module": "@jupyter-widgets/base",
          "model_name": "LayoutModel",
          "model_module_version": "1.2.0",
          "state": {
            "_model_module": "@jupyter-widgets/base",
            "_model_module_version": "1.2.0",
            "_model_name": "LayoutModel",
            "_view_count": null,
            "_view_module": "@jupyter-widgets/base",
            "_view_module_version": "1.2.0",
            "_view_name": "LayoutView",
            "align_content": null,
            "align_items": null,
            "align_self": null,
            "border": null,
            "bottom": null,
            "display": null,
            "flex": null,
            "flex_flow": null,
            "grid_area": null,
            "grid_auto_columns": null,
            "grid_auto_flow": null,
            "grid_auto_rows": null,
            "grid_column": null,
            "grid_gap": null,
            "grid_row": null,
            "grid_template_areas": null,
            "grid_template_columns": null,
            "grid_template_rows": null,
            "height": null,
            "justify_content": null,
            "justify_items": null,
            "left": null,
            "margin": null,
            "max_height": null,
            "max_width": null,
            "min_height": null,
            "min_width": null,
            "object_fit": null,
            "object_position": null,
            "order": null,
            "overflow": null,
            "overflow_x": null,
            "overflow_y": null,
            "padding": null,
            "right": null,
            "top": null,
            "visibility": null,
            "width": null
          }
        },
        "f8e5d712f49945cb8f1d7050d8468925": {
          "model_module": "@jupyter-widgets/base",
          "model_name": "LayoutModel",
          "model_module_version": "1.2.0",
          "state": {
            "_model_module": "@jupyter-widgets/base",
            "_model_module_version": "1.2.0",
            "_model_name": "LayoutModel",
            "_view_count": null,
            "_view_module": "@jupyter-widgets/base",
            "_view_module_version": "1.2.0",
            "_view_name": "LayoutView",
            "align_content": null,
            "align_items": null,
            "align_self": null,
            "border": null,
            "bottom": null,
            "display": null,
            "flex": null,
            "flex_flow": null,
            "grid_area": null,
            "grid_auto_columns": null,
            "grid_auto_flow": null,
            "grid_auto_rows": null,
            "grid_column": null,
            "grid_gap": null,
            "grid_row": null,
            "grid_template_areas": null,
            "grid_template_columns": null,
            "grid_template_rows": null,
            "height": null,
            "justify_content": null,
            "justify_items": null,
            "left": null,
            "margin": null,
            "max_height": null,
            "max_width": null,
            "min_height": null,
            "min_width": null,
            "object_fit": null,
            "object_position": null,
            "order": null,
            "overflow": null,
            "overflow_x": null,
            "overflow_y": null,
            "padding": null,
            "right": null,
            "top": null,
            "visibility": null,
            "width": null
          }
        },
        "f0f1559c9e9e4bdbad906edc06168e10": {
          "model_module": "@jupyter-widgets/controls",
          "model_name": "ToggleButtonsStyleModel",
          "model_module_version": "1.5.0",
          "state": {
            "_model_module": "@jupyter-widgets/controls",
            "_model_module_version": "1.5.0",
            "_model_name": "ToggleButtonsStyleModel",
            "_view_count": null,
            "_view_module": "@jupyter-widgets/base",
            "_view_module_version": "1.2.0",
            "_view_name": "StyleView",
            "button_width": "",
            "description_width": "",
            "font_weight": ""
          }
        },
        "0ca31869354f4254a5a45617c60f3124": {
          "model_module": "@jupyter-widgets/base",
          "model_name": "LayoutModel",
          "model_module_version": "1.2.0",
          "state": {
            "_model_module": "@jupyter-widgets/base",
            "_model_module_version": "1.2.0",
            "_model_name": "LayoutModel",
            "_view_count": null,
            "_view_module": "@jupyter-widgets/base",
            "_view_module_version": "1.2.0",
            "_view_name": "LayoutView",
            "align_content": null,
            "align_items": null,
            "align_self": null,
            "border": null,
            "bottom": null,
            "display": null,
            "flex": null,
            "flex_flow": null,
            "grid_area": null,
            "grid_auto_columns": null,
            "grid_auto_flow": null,
            "grid_auto_rows": null,
            "grid_column": null,
            "grid_gap": null,
            "grid_row": null,
            "grid_template_areas": null,
            "grid_template_columns": null,
            "grid_template_rows": null,
            "height": null,
            "justify_content": null,
            "justify_items": null,
            "left": null,
            "margin": null,
            "max_height": null,
            "max_width": null,
            "min_height": null,
            "min_width": null,
            "object_fit": null,
            "object_position": null,
            "order": null,
            "overflow": null,
            "overflow_x": null,
            "overflow_y": null,
            "padding": null,
            "right": null,
            "top": null,
            "visibility": null,
            "width": null
          }
        }
      }
    }
  },
  "nbformat": 4,
  "nbformat_minor": 0
}